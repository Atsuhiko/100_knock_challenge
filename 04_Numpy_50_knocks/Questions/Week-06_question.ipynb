{
 "cells": [
  {
   "cell_type": "markdown",
   "metadata": {},
   "source": [
    "# 【超初心者向け】Numpy基礎50本ノック"
   ]
  },
  {
   "cell_type": "markdown",
   "metadata": {},
   "source": [
    "https://qiita.com/moe_713/items/671c8c912f6e8d6c7442?fbclid=IwAR02kecyHTdg8psjwYgveBXLbv9fYoUMxTlFQPV4Yyahi9cVWWcGEn82Q-U"
   ]
  },
  {
   "cell_type": "code",
   "execution_count": 1,
   "metadata": {},
   "outputs": [],
   "source": [
    "import numpy as np"
   ]
  },
  {
   "cell_type": "markdown",
   "metadata": {},
   "source": [
    "## 4. 配列を操作する"
   ]
  },
  {
   "cell_type": "markdown",
   "metadata": {},
   "source": [
    "### 26. np.any   \n",
    "配列の要素のいずれかが条件を満たすか否かを判定する    \n",
    "    a = np.arange(6).reshape((2, 3)) のいっずれかの条件が a < 6 を満たすか判定しろ。"
   ]
  },
  {
   "cell_type": "code",
   "execution_count": null,
   "metadata": {},
   "outputs": [],
   "source": []
  },
  {
   "cell_type": "markdown",
   "metadata": {},
   "source": [
    "### 27. ndarray.argmax   \n",
    "多次元配列の中の最大値の要素を持つインデックスを返す    \n",
    "    a = np.array([1, 2, 3]) の最大値を返せ。"
   ]
  },
  {
   "cell_type": "code",
   "execution_count": null,
   "metadata": {},
   "outputs": [],
   "source": []
  },
  {
   "cell_type": "markdown",
   "metadata": {},
   "source": [
    "### 28. np.sort\n",
    "https://numpy.org/doc/stable/reference/generated/numpy.sort.html  \n",
    "https://qiita.com/moe_713/items/671c8c912f6e8d6c7442?fbclid=IwAR02kecyHTdg8psjwYgveBXLbv9fYoUMxTlFQPV4Yyahi9cVWWcGEn82Q-U  \n",
    "配列を小さい順に並べ替える\n",
    "    a = np.array([8, 2, 1, 5, 6]) を（１）昇順および（２）降順で並べ替えろ"
   ]
  },
  {
   "cell_type": "code",
   "execution_count": null,
   "metadata": {},
   "outputs": [],
   "source": []
  },
  {
   "cell_type": "markdown",
   "metadata": {},
   "source": [
    "### 29. np.argsort\n",
    "配列を小さい順に並べ替えた際の配列のインデックスを出力  \n",
    "    a = np.array([8, 2, 1, 5, 6])を（１）昇順および（２）降順で並べ替えた際のインデックスを求めろ"
   ]
  },
  {
   "cell_type": "code",
   "execution_count": null,
   "metadata": {},
   "outputs": [],
   "source": []
  },
  {
   "cell_type": "markdown",
   "metadata": {},
   "source": [
    "### 30. np.expand_dims\n",
    "配列に次元を追加  \n",
    "    a = np.arange(6).reshape(2, 3)の次元をインデックスを３通りで増やせ"
   ]
  },
  {
   "cell_type": "code",
   "execution_count": null,
   "metadata": {},
   "outputs": [],
   "source": []
  }
 ],
 "metadata": {
  "kernelspec": {
   "display_name": "Python 3",
   "language": "python",
   "name": "python3"
  },
  "language_info": {
   "codemirror_mode": {
    "name": "ipython",
    "version": 3
   },
   "file_extension": ".py",
   "mimetype": "text/x-python",
   "name": "python",
   "nbconvert_exporter": "python",
   "pygments_lexer": "ipython3",
   "version": "3.7.7"
  }
 },
 "nbformat": 4,
 "nbformat_minor": 4
}
