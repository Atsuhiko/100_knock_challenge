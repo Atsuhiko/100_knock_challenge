{
 "cells": [
  {
   "cell_type": "markdown",
   "metadata": {},
   "source": [
    "# 【超初心者向け】Numpy基礎50本ノック"
   ]
  },
  {
   "cell_type": "markdown",
   "metadata": {},
   "source": [
    "https://qiita.com/moe_713/items/671c8c912f6e8d6c7442?fbclid=IwAR02kecyHTdg8psjwYgveBXLbv9fYoUMxTlFQPV4Yyahi9cVWWcGEn82Q-U"
   ]
  },
  {
   "cell_type": "code",
   "execution_count": 1,
   "metadata": {},
   "outputs": [],
   "source": [
    "import numpy as np"
   ]
  },
  {
   "cell_type": "markdown",
   "metadata": {},
   "source": [
    "## 5. 配列の演算"
   ]
  },
  {
   "cell_type": "markdown",
   "metadata": {},
   "source": [
    "### 36. np.sum  \n",
    "配列の要素の合計値  \n",
    "a = np.array([[1, 2, 3],[4,5,6]])   \n",
    "の全要素の合計、列ごとの合計値をそれぞれ出せ。"
   ]
  },
  {
   "cell_type": "code",
   "execution_count": null,
   "metadata": {},
   "outputs": [],
   "source": []
  },
  {
   "cell_type": "markdown",
   "metadata": {},
   "source": [
    "### 37. np.multiply(a, b)  \n",
    "a, bの要素ごとの積（アダマール積）  \n",
    "公式ドキュメント：https://numpy.org/doc/stable/reference/generated/numpy.multiply.html  \n",
    "a = np.array([1, 2, 3])  \n",
    "b = np.array([4, 5, 6])  \n",
    "a と b の要素ごとの積を計算せよ。"
   ]
  },
  {
   "cell_type": "code",
   "execution_count": null,
   "metadata": {},
   "outputs": [],
   "source": []
  },
  {
   "cell_type": "markdown",
   "metadata": {},
   "source": [
    "### 38. np.dot(a, b)    \n",
    "a, bの配列同士の積  \n",
    "公式ドキュメント：https://numpy.org/doc/stable/reference/generated/numpy.dot.html  \n",
    "a = np.arange(3).reshape(1, 3)\n",
    "b = np.arange(3).reshape(3, 1)\n",
    "a と b の配列同士の積を求めよ。"
   ]
  },
  {
   "cell_type": "code",
   "execution_count": null,
   "metadata": {},
   "outputs": [],
   "source": []
  },
  {
   "cell_type": "markdown",
   "metadata": {},
   "source": [
    "### 39. np.mean  \n",
    "平均の算出  \n",
    "a = np.arange(10).reshape(2, 5)\n",
    "a の平均値を求めよ。"
   ]
  },
  {
   "cell_type": "code",
   "execution_count": null,
   "metadata": {},
   "outputs": [],
   "source": []
  },
  {
   "cell_type": "markdown",
   "metadata": {},
   "source": [
    "### 40. np.std\n",
    "標準偏差の算出  \n",
    "a = np.arange(10).reshape(2, 5)\n",
    "a の標準偏差を求めよ。"
   ]
  },
  {
   "cell_type": "code",
   "execution_count": null,
   "metadata": {},
   "outputs": [],
   "source": []
  }
 ],
 "metadata": {
  "kernelspec": {
   "display_name": "Python 3",
   "language": "python",
   "name": "python3"
  },
  "language_info": {
   "codemirror_mode": {
    "name": "ipython",
    "version": 3
   },
   "file_extension": ".py",
   "mimetype": "text/x-python",
   "name": "python",
   "nbconvert_exporter": "python",
   "pygments_lexer": "ipython3",
   "version": "3.7.7"
  }
 },
 "nbformat": 4,
 "nbformat_minor": 4
}
