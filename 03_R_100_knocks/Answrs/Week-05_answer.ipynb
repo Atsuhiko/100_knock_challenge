{
 "cells": [
  {
   "cell_type": "markdown",
   "metadata": {},
   "source": [
    "# Week-05"
   ]
  },
  {
   "cell_type": "code",
   "execution_count": 1,
   "metadata": {},
   "outputs": [],
   "source": [
    "# getwd() #ディレクトリ確認getwd() #ディレクトリ確認"
   ]
  },
  {
   "cell_type": "code",
   "execution_count": 2,
   "metadata": {},
   "outputs": [],
   "source": [
    "# # setwd() に入れる Path は上記のディレクトリの下の data ファイル\n",
    "# setwd(\"C:/Users/iiats/OneDrive/デスクトップ/１００本ノックチャレンジ/03_R_100_knocks/Questions/data\") \n",
    "# getwd() #ディレクトリ確認"
   ]
  },
  {
   "cell_type": "code",
   "execution_count": 3,
   "metadata": {},
   "outputs": [],
   "source": [
    "# DataFrameの準備\n",
    "# 相対パスでデータを読み込む\n",
    "df <- read.csv(\"./data/titanic3.csv\", header=T)\n",
    "df2 <- read.csv(\"./data/data1.csv\", header=T)\n",
    "df3 <- read.csv(\"./data/data1_2.csv\", header=T)\n",
    "df4 <- read.csv(\"./data/data1_3.csv\", header=T)\n",
    "df5 <- read.csv(\"./data/data2.csv\", header=T, fileEncoding = \"CP932\")"
   ]
  },
  {
   "cell_type": "code",
   "execution_count": 4,
   "metadata": {},
   "outputs": [
    {
     "data": {
      "text/html": [
       "<table>\n",
       "<thead><tr><th scope=col>pclass</th><th scope=col>survived</th><th scope=col>name</th><th scope=col>sex</th><th scope=col>age</th><th scope=col>sibsp</th><th scope=col>parch</th><th scope=col>ticket</th><th scope=col>fare</th><th scope=col>cabin</th><th scope=col>embarked</th><th scope=col>boat</th><th scope=col>body</th><th scope=col>home.dest</th></tr></thead>\n",
       "<tbody>\n",
       "\t<tr><td>1                                              </td><td>1                                              </td><td>Allen, Miss. Elisabeth Walton                  </td><td>female                                         </td><td>29.00                                          </td><td>0                                              </td><td>0                                              </td><td>24160                                          </td><td>211.3375                                       </td><td>B5                                             </td><td>S                                              </td><td>2                                              </td><td> NA                                            </td><td>St Louis, MO                                   </td></tr>\n",
       "\t<tr><td>1                                              </td><td>1                                              </td><td>Allison, Master. Hudson Trevor                 </td><td>male                                           </td><td> 0.92                                          </td><td>1                                              </td><td>2                                              </td><td>113781                                         </td><td>151.5500                                       </td><td>C22 C26                                        </td><td>S                                              </td><td>11                                             </td><td> NA                                            </td><td>Montreal, PQ / Chesterville, ON                </td></tr>\n",
       "\t<tr><td>1                                              </td><td>0                                              </td><td>Allison, Miss. Helen Loraine                   </td><td>female                                         </td><td> 2.00                                          </td><td>1                                              </td><td>2                                              </td><td>113781                                         </td><td>151.5500                                       </td><td>C22 C26                                        </td><td>S                                              </td><td>                                               </td><td> NA                                            </td><td>Montreal, PQ / Chesterville, ON                </td></tr>\n",
       "\t<tr><td>1                                              </td><td>0                                              </td><td>Allison, Mr. Hudson Joshua Creighton           </td><td>male                                           </td><td>30.00                                          </td><td>1                                              </td><td>2                                              </td><td>113781                                         </td><td>151.5500                                       </td><td>C22 C26                                        </td><td>S                                              </td><td>                                               </td><td>135                                            </td><td>Montreal, PQ / Chesterville, ON                </td></tr>\n",
       "\t<tr><td>1                                              </td><td>0                                              </td><td>Allison, Mrs. Hudson J C (Bessie Waldo Daniels)</td><td>female                                         </td><td>25.00                                          </td><td>1                                              </td><td>2                                              </td><td>113781                                         </td><td>151.5500                                       </td><td>C22 C26                                        </td><td>S                                              </td><td>                                               </td><td> NA                                            </td><td>Montreal, PQ / Chesterville, ON                </td></tr>\n",
       "\t<tr><td>1                                              </td><td>1                                              </td><td>Anderson, Mr. Harry                            </td><td>male                                           </td><td>48.00                                          </td><td>0                                              </td><td>0                                              </td><td>19952                                          </td><td> 26.5500                                       </td><td>E12                                            </td><td>S                                              </td><td>3                                              </td><td> NA                                            </td><td>New York, NY                                   </td></tr>\n",
       "</tbody>\n",
       "</table>\n"
      ],
      "text/latex": [
       "\\begin{tabular}{r|llllllllllllll}\n",
       " pclass & survived & name & sex & age & sibsp & parch & ticket & fare & cabin & embarked & boat & body & home.dest\\\\\n",
       "\\hline\n",
       "\t 1                                               & 1                                               & Allen, Miss. Elisabeth Walton                   & female                                          & 29.00                                           & 0                                               & 0                                               & 24160                                           & 211.3375                                        & B5                                              & S                                               & 2                                               &  NA                                             & St Louis, MO                                   \\\\\n",
       "\t 1                                               & 1                                               & Allison, Master. Hudson Trevor                  & male                                            &  0.92                                           & 1                                               & 2                                               & 113781                                          & 151.5500                                        & C22 C26                                         & S                                               & 11                                              &  NA                                             & Montreal, PQ / Chesterville, ON                \\\\\n",
       "\t 1                                               & 0                                               & Allison, Miss. Helen Loraine                    & female                                          &  2.00                                           & 1                                               & 2                                               & 113781                                          & 151.5500                                        & C22 C26                                         & S                                               &                                                 &  NA                                             & Montreal, PQ / Chesterville, ON                \\\\\n",
       "\t 1                                               & 0                                               & Allison, Mr. Hudson Joshua Creighton            & male                                            & 30.00                                           & 1                                               & 2                                               & 113781                                          & 151.5500                                        & C22 C26                                         & S                                               &                                                 & 135                                             & Montreal, PQ / Chesterville, ON                \\\\\n",
       "\t 1                                               & 0                                               & Allison, Mrs. Hudson J C (Bessie Waldo Daniels) & female                                          & 25.00                                           & 1                                               & 2                                               & 113781                                          & 151.5500                                        & C22 C26                                         & S                                               &                                                 &  NA                                             & Montreal, PQ / Chesterville, ON                \\\\\n",
       "\t 1                                               & 1                                               & Anderson, Mr. Harry                             & male                                            & 48.00                                           & 0                                               & 0                                               & 19952                                           &  26.5500                                        & E12                                             & S                                               & 3                                               &  NA                                             & New York, NY                                   \\\\\n",
       "\\end{tabular}\n"
      ],
      "text/markdown": [
       "\n",
       "| pclass | survived | name | sex | age | sibsp | parch | ticket | fare | cabin | embarked | boat | body | home.dest |\n",
       "|---|---|---|---|---|---|---|---|---|---|---|---|---|---|\n",
       "| 1                                               | 1                                               | Allen, Miss. Elisabeth Walton                   | female                                          | 29.00                                           | 0                                               | 0                                               | 24160                                           | 211.3375                                        | B5                                              | S                                               | 2                                               |  NA                                             | St Louis, MO                                    |\n",
       "| 1                                               | 1                                               | Allison, Master. Hudson Trevor                  | male                                            |  0.92                                           | 1                                               | 2                                               | 113781                                          | 151.5500                                        | C22 C26                                         | S                                               | 11                                              |  NA                                             | Montreal, PQ / Chesterville, ON                 |\n",
       "| 1                                               | 0                                               | Allison, Miss. Helen Loraine                    | female                                          |  2.00                                           | 1                                               | 2                                               | 113781                                          | 151.5500                                        | C22 C26                                         | S                                               |                                                 |  NA                                             | Montreal, PQ / Chesterville, ON                 |\n",
       "| 1                                               | 0                                               | Allison, Mr. Hudson Joshua Creighton            | male                                            | 30.00                                           | 1                                               | 2                                               | 113781                                          | 151.5500                                        | C22 C26                                         | S                                               |                                                 | 135                                             | Montreal, PQ / Chesterville, ON                 |\n",
       "| 1                                               | 0                                               | Allison, Mrs. Hudson J C (Bessie Waldo Daniels) | female                                          | 25.00                                           | 1                                               | 2                                               | 113781                                          | 151.5500                                        | C22 C26                                         | S                                               |                                                 |  NA                                             | Montreal, PQ / Chesterville, ON                 |\n",
       "| 1                                               | 1                                               | Anderson, Mr. Harry                             | male                                            | 48.00                                           | 0                                               | 0                                               | 19952                                           |  26.5500                                        | E12                                             | S                                               | 3                                               |  NA                                             | New York, NY                                    |\n",
       "\n"
      ],
      "text/plain": [
       "  pclass survived name                                            sex    age  \n",
       "1 1      1        Allen, Miss. Elisabeth Walton                   female 29.00\n",
       "2 1      1        Allison, Master. Hudson Trevor                  male    0.92\n",
       "3 1      0        Allison, Miss. Helen Loraine                    female  2.00\n",
       "4 1      0        Allison, Mr. Hudson Joshua Creighton            male   30.00\n",
       "5 1      0        Allison, Mrs. Hudson J C (Bessie Waldo Daniels) female 25.00\n",
       "6 1      1        Anderson, Mr. Harry                             male   48.00\n",
       "  sibsp parch ticket fare     cabin   embarked boat body\n",
       "1 0     0     24160  211.3375 B5      S        2     NA \n",
       "2 1     2     113781 151.5500 C22 C26 S        11    NA \n",
       "3 1     2     113781 151.5500 C22 C26 S              NA \n",
       "4 1     2     113781 151.5500 C22 C26 S             135 \n",
       "5 1     2     113781 151.5500 C22 C26 S              NA \n",
       "6 0     0     19952   26.5500 E12     S        3     NA \n",
       "  home.dest                      \n",
       "1 St Louis, MO                   \n",
       "2 Montreal, PQ / Chesterville, ON\n",
       "3 Montreal, PQ / Chesterville, ON\n",
       "4 Montreal, PQ / Chesterville, ON\n",
       "5 Montreal, PQ / Chesterville, ON\n",
       "6 New York, NY                   "
      ]
     },
     "metadata": {},
     "output_type": "display_data"
    }
   ],
   "source": [
    "head(df)"
   ]
  },
  {
   "cell_type": "markdown",
   "metadata": {},
   "source": [
    "# データ加工 (33 - 58)"
   ]
  },
  {
   "cell_type": "code",
   "execution_count": 5,
   "metadata": {},
   "outputs": [
    {
     "data": {
      "text/html": [
       "<table>\n",
       "<thead><tr><th scope=col>pclass</th><th scope=col>survived</th><th scope=col>name</th><th scope=col>sex</th><th scope=col>age</th><th scope=col>sibsp</th><th scope=col>parch</th><th scope=col>ticket</th><th scope=col>fare</th><th scope=col>cabin</th><th scope=col>embarked</th><th scope=col>boat</th><th scope=col>home.dest</th></tr></thead>\n",
       "<tbody>\n",
       "\t<tr><td>1                                              </td><td>1                                              </td><td>Allen, Miss. Elisabeth Walton                  </td><td>female                                         </td><td>29.00                                          </td><td>0                                              </td><td>0                                              </td><td>24160                                          </td><td>211.3375                                       </td><td>B5                                             </td><td>S                                              </td><td>2                                              </td><td>St Louis, MO                                   </td></tr>\n",
       "\t<tr><td>1                                              </td><td>1                                              </td><td>Allison, Master. Hudson Trevor                 </td><td>male                                           </td><td> 0.92                                          </td><td>1                                              </td><td>2                                              </td><td>113781                                         </td><td>151.5500                                       </td><td>C22 C26                                        </td><td>S                                              </td><td>11                                             </td><td>Montreal, PQ / Chesterville, ON                </td></tr>\n",
       "\t<tr><td>1                                              </td><td>0                                              </td><td>Allison, Miss. Helen Loraine                   </td><td>female                                         </td><td> 2.00                                          </td><td>1                                              </td><td>2                                              </td><td>113781                                         </td><td>151.5500                                       </td><td>C22 C26                                        </td><td>S                                              </td><td>                                               </td><td>Montreal, PQ / Chesterville, ON                </td></tr>\n",
       "\t<tr><td>1                                              </td><td>0                                              </td><td>Allison, Mr. Hudson Joshua Creighton           </td><td>male                                           </td><td>30.00                                          </td><td>1                                              </td><td>2                                              </td><td>113781                                         </td><td>151.5500                                       </td><td>C22 C26                                        </td><td>S                                              </td><td>                                               </td><td>Montreal, PQ / Chesterville, ON                </td></tr>\n",
       "\t<tr><td>1                                              </td><td>0                                              </td><td>Allison, Mrs. Hudson J C (Bessie Waldo Daniels)</td><td>female                                         </td><td>25.00                                          </td><td>1                                              </td><td>2                                              </td><td>113781                                         </td><td>151.5500                                       </td><td>C22 C26                                        </td><td>S                                              </td><td>                                               </td><td>Montreal, PQ / Chesterville, ON                </td></tr>\n",
       "\t<tr><td>1                                              </td><td>1                                              </td><td>Anderson, Mr. Harry                            </td><td>male                                           </td><td>48.00                                          </td><td>0                                              </td><td>0                                              </td><td>19952                                          </td><td> 26.5500                                       </td><td>E12                                            </td><td>S                                              </td><td>3                                              </td><td>New York, NY                                   </td></tr>\n",
       "</tbody>\n",
       "</table>\n"
      ],
      "text/latex": [
       "\\begin{tabular}{r|lllllllllllll}\n",
       " pclass & survived & name & sex & age & sibsp & parch & ticket & fare & cabin & embarked & boat & home.dest\\\\\n",
       "\\hline\n",
       "\t 1                                               & 1                                               & Allen, Miss. Elisabeth Walton                   & female                                          & 29.00                                           & 0                                               & 0                                               & 24160                                           & 211.3375                                        & B5                                              & S                                               & 2                                               & St Louis, MO                                   \\\\\n",
       "\t 1                                               & 1                                               & Allison, Master. Hudson Trevor                  & male                                            &  0.92                                           & 1                                               & 2                                               & 113781                                          & 151.5500                                        & C22 C26                                         & S                                               & 11                                              & Montreal, PQ / Chesterville, ON                \\\\\n",
       "\t 1                                               & 0                                               & Allison, Miss. Helen Loraine                    & female                                          &  2.00                                           & 1                                               & 2                                               & 113781                                          & 151.5500                                        & C22 C26                                         & S                                               &                                                 & Montreal, PQ / Chesterville, ON                \\\\\n",
       "\t 1                                               & 0                                               & Allison, Mr. Hudson Joshua Creighton            & male                                            & 30.00                                           & 1                                               & 2                                               & 113781                                          & 151.5500                                        & C22 C26                                         & S                                               &                                                 & Montreal, PQ / Chesterville, ON                \\\\\n",
       "\t 1                                               & 0                                               & Allison, Mrs. Hudson J C (Bessie Waldo Daniels) & female                                          & 25.00                                           & 1                                               & 2                                               & 113781                                          & 151.5500                                        & C22 C26                                         & S                                               &                                                 & Montreal, PQ / Chesterville, ON                \\\\\n",
       "\t 1                                               & 1                                               & Anderson, Mr. Harry                             & male                                            & 48.00                                           & 0                                               & 0                                               & 19952                                           &  26.5500                                        & E12                                             & S                                               & 3                                               & New York, NY                                   \\\\\n",
       "\\end{tabular}\n"
      ],
      "text/markdown": [
       "\n",
       "| pclass | survived | name | sex | age | sibsp | parch | ticket | fare | cabin | embarked | boat | home.dest |\n",
       "|---|---|---|---|---|---|---|---|---|---|---|---|---|\n",
       "| 1                                               | 1                                               | Allen, Miss. Elisabeth Walton                   | female                                          | 29.00                                           | 0                                               | 0                                               | 24160                                           | 211.3375                                        | B5                                              | S                                               | 2                                               | St Louis, MO                                    |\n",
       "| 1                                               | 1                                               | Allison, Master. Hudson Trevor                  | male                                            |  0.92                                           | 1                                               | 2                                               | 113781                                          | 151.5500                                        | C22 C26                                         | S                                               | 11                                              | Montreal, PQ / Chesterville, ON                 |\n",
       "| 1                                               | 0                                               | Allison, Miss. Helen Loraine                    | female                                          |  2.00                                           | 1                                               | 2                                               | 113781                                          | 151.5500                                        | C22 C26                                         | S                                               |                                                 | Montreal, PQ / Chesterville, ON                 |\n",
       "| 1                                               | 0                                               | Allison, Mr. Hudson Joshua Creighton            | male                                            | 30.00                                           | 1                                               | 2                                               | 113781                                          | 151.5500                                        | C22 C26                                         | S                                               |                                                 | Montreal, PQ / Chesterville, ON                 |\n",
       "| 1                                               | 0                                               | Allison, Mrs. Hudson J C (Bessie Waldo Daniels) | female                                          | 25.00                                           | 1                                               | 2                                               | 113781                                          | 151.5500                                        | C22 C26                                         | S                                               |                                                 | Montreal, PQ / Chesterville, ON                 |\n",
       "| 1                                               | 1                                               | Anderson, Mr. Harry                             | male                                            | 48.00                                           | 0                                               | 0                                               | 19952                                           |  26.5500                                        | E12                                             | S                                               | 3                                               | New York, NY                                    |\n",
       "\n"
      ],
      "text/plain": [
       "  pclass survived name                                            sex    age  \n",
       "1 1      1        Allen, Miss. Elisabeth Walton                   female 29.00\n",
       "2 1      1        Allison, Master. Hudson Trevor                  male    0.92\n",
       "3 1      0        Allison, Miss. Helen Loraine                    female  2.00\n",
       "4 1      0        Allison, Mr. Hudson Joshua Creighton            male   30.00\n",
       "5 1      0        Allison, Mrs. Hudson J C (Bessie Waldo Daniels) female 25.00\n",
       "6 1      1        Anderson, Mr. Harry                             male   48.00\n",
       "  sibsp parch ticket fare     cabin   embarked boat\n",
       "1 0     0     24160  211.3375 B5      S        2   \n",
       "2 1     2     113781 151.5500 C22 C26 S        11  \n",
       "3 1     2     113781 151.5500 C22 C26 S            \n",
       "4 1     2     113781 151.5500 C22 C26 S            \n",
       "5 1     2     113781 151.5500 C22 C26 S            \n",
       "6 0     0     19952   26.5500 E12     S        3   \n",
       "  home.dest                      \n",
       "1 St Louis, MO                   \n",
       "2 Montreal, PQ / Chesterville, ON\n",
       "3 Montreal, PQ / Chesterville, ON\n",
       "4 Montreal, PQ / Chesterville, ON\n",
       "5 Montreal, PQ / Chesterville, ON\n",
       "6 New York, NY                   "
      ]
     },
     "metadata": {},
     "output_type": "display_data"
    }
   ],
   "source": [
    "# 【41】\n",
    "# dfからbodyの列を削除し、最初の5行を表示\n",
    "\n",
    "#削除したい行や列を選択し、NULLを代入することで削除ができる\n",
    "df[\"body\"] <- NULL \n",
    "head(df)"
   ]
  },
  {
   "cell_type": "code",
   "execution_count": 6,
   "metadata": {},
   "outputs": [
    {
     "data": {
      "text/html": [
       "<table>\n",
       "<thead><tr><th scope=col>pclass</th><th scope=col>survived</th><th scope=col>name</th><th scope=col>sex</th><th scope=col>age</th><th scope=col>sibsp</th><th scope=col>parch</th><th scope=col>ticket</th><th scope=col>fare</th><th scope=col>cabin</th><th scope=col>embarked</th><th scope=col>boat</th><th scope=col>home.dest</th></tr></thead>\n",
       "<tbody>\n",
       "\t<tr><td>1                                              </td><td>1                                              </td><td>Allen, Miss. Elisabeth Walton                  </td><td>female                                         </td><td>29.00                                          </td><td>0                                              </td><td>0                                              </td><td>24160                                          </td><td>211.3375                                       </td><td>B5                                             </td><td>S                                              </td><td>2                                              </td><td>St Louis, MO                                   </td></tr>\n",
       "\t<tr><td>1                                              </td><td>1                                              </td><td>Allison, Master. Hudson Trevor                 </td><td>male                                           </td><td> 0.92                                          </td><td>1                                              </td><td>2                                              </td><td>113781                                         </td><td>151.5500                                       </td><td>C22 C26                                        </td><td>S                                              </td><td>11                                             </td><td>Montreal, PQ / Chesterville, ON                </td></tr>\n",
       "\t<tr><td>1                                              </td><td>0                                              </td><td>Allison, Miss. Helen Loraine                   </td><td>female                                         </td><td> 2.00                                          </td><td>1                                              </td><td>2                                              </td><td>113781                                         </td><td>151.5500                                       </td><td>C22 C26                                        </td><td>S                                              </td><td>                                               </td><td>Montreal, PQ / Chesterville, ON                </td></tr>\n",
       "\t<tr><td>1                                              </td><td>0                                              </td><td>Allison, Mr. Hudson Joshua Creighton           </td><td>male                                           </td><td>30.00                                          </td><td>1                                              </td><td>2                                              </td><td>113781                                         </td><td>151.5500                                       </td><td>C22 C26                                        </td><td>S                                              </td><td>                                               </td><td>Montreal, PQ / Chesterville, ON                </td></tr>\n",
       "\t<tr><td>1                                              </td><td>0                                              </td><td>Allison, Mrs. Hudson J C (Bessie Waldo Daniels)</td><td>female                                         </td><td>25.00                                          </td><td>1                                              </td><td>2                                              </td><td>113781                                         </td><td>151.5500                                       </td><td>C22 C26                                        </td><td>S                                              </td><td>                                               </td><td>Montreal, PQ / Chesterville, ON                </td></tr>\n",
       "\t<tr><td>1                                              </td><td>1                                              </td><td>Anderson, Mr. Harry                            </td><td>male                                           </td><td>48.00                                          </td><td>0                                              </td><td>0                                              </td><td>19952                                          </td><td> 26.5500                                       </td><td>E12                                            </td><td>S                                              </td><td>3                                              </td><td>New York, NY                                   </td></tr>\n",
       "</tbody>\n",
       "</table>\n"
      ],
      "text/latex": [
       "\\begin{tabular}{r|lllllllllllll}\n",
       " pclass & survived & name & sex & age & sibsp & parch & ticket & fare & cabin & embarked & boat & home.dest\\\\\n",
       "\\hline\n",
       "\t 1                                               & 1                                               & Allen, Miss. Elisabeth Walton                   & female                                          & 29.00                                           & 0                                               & 0                                               & 24160                                           & 211.3375                                        & B5                                              & S                                               & 2                                               & St Louis, MO                                   \\\\\n",
       "\t 1                                               & 1                                               & Allison, Master. Hudson Trevor                  & male                                            &  0.92                                           & 1                                               & 2                                               & 113781                                          & 151.5500                                        & C22 C26                                         & S                                               & 11                                              & Montreal, PQ / Chesterville, ON                \\\\\n",
       "\t 1                                               & 0                                               & Allison, Miss. Helen Loraine                    & female                                          &  2.00                                           & 1                                               & 2                                               & 113781                                          & 151.5500                                        & C22 C26                                         & S                                               &                                                 & Montreal, PQ / Chesterville, ON                \\\\\n",
       "\t 1                                               & 0                                               & Allison, Mr. Hudson Joshua Creighton            & male                                            & 30.00                                           & 1                                               & 2                                               & 113781                                          & 151.5500                                        & C22 C26                                         & S                                               &                                                 & Montreal, PQ / Chesterville, ON                \\\\\n",
       "\t 1                                               & 0                                               & Allison, Mrs. Hudson J C (Bessie Waldo Daniels) & female                                          & 25.00                                           & 1                                               & 2                                               & 113781                                          & 151.5500                                        & C22 C26                                         & S                                               &                                                 & Montreal, PQ / Chesterville, ON                \\\\\n",
       "\t 1                                               & 1                                               & Anderson, Mr. Harry                             & male                                            & 48.00                                           & 0                                               & 0                                               & 19952                                           &  26.5500                                        & E12                                             & S                                               & 3                                               & New York, NY                                   \\\\\n",
       "\\end{tabular}\n"
      ],
      "text/markdown": [
       "\n",
       "| pclass | survived | name | sex | age | sibsp | parch | ticket | fare | cabin | embarked | boat | home.dest |\n",
       "|---|---|---|---|---|---|---|---|---|---|---|---|---|\n",
       "| 1                                               | 1                                               | Allen, Miss. Elisabeth Walton                   | female                                          | 29.00                                           | 0                                               | 0                                               | 24160                                           | 211.3375                                        | B5                                              | S                                               | 2                                               | St Louis, MO                                    |\n",
       "| 1                                               | 1                                               | Allison, Master. Hudson Trevor                  | male                                            |  0.92                                           | 1                                               | 2                                               | 113781                                          | 151.5500                                        | C22 C26                                         | S                                               | 11                                              | Montreal, PQ / Chesterville, ON                 |\n",
       "| 1                                               | 0                                               | Allison, Miss. Helen Loraine                    | female                                          |  2.00                                           | 1                                               | 2                                               | 113781                                          | 151.5500                                        | C22 C26                                         | S                                               |                                                 | Montreal, PQ / Chesterville, ON                 |\n",
       "| 1                                               | 0                                               | Allison, Mr. Hudson Joshua Creighton            | male                                            | 30.00                                           | 1                                               | 2                                               | 113781                                          | 151.5500                                        | C22 C26                                         | S                                               |                                                 | Montreal, PQ / Chesterville, ON                 |\n",
       "| 1                                               | 0                                               | Allison, Mrs. Hudson J C (Bessie Waldo Daniels) | female                                          | 25.00                                           | 1                                               | 2                                               | 113781                                          | 151.5500                                        | C22 C26                                         | S                                               |                                                 | Montreal, PQ / Chesterville, ON                 |\n",
       "| 1                                               | 1                                               | Anderson, Mr. Harry                             | male                                            | 48.00                                           | 0                                               | 0                                               | 19952                                           |  26.5500                                        | E12                                             | S                                               | 3                                               | New York, NY                                    |\n",
       "\n"
      ],
      "text/plain": [
       "  pclass survived name                                            sex    age  \n",
       "1 1      1        Allen, Miss. Elisabeth Walton                   female 29.00\n",
       "2 1      1        Allison, Master. Hudson Trevor                  male    0.92\n",
       "3 1      0        Allison, Miss. Helen Loraine                    female  2.00\n",
       "4 1      0        Allison, Mr. Hudson Joshua Creighton            male   30.00\n",
       "5 1      0        Allison, Mrs. Hudson J C (Bessie Waldo Daniels) female 25.00\n",
       "6 1      1        Anderson, Mr. Harry                             male   48.00\n",
       "  sibsp parch ticket fare     cabin   embarked boat\n",
       "1 0     0     24160  211.3375 B5      S        2   \n",
       "2 1     2     113781 151.5500 C22 C26 S        11  \n",
       "3 1     2     113781 151.5500 C22 C26 S            \n",
       "4 1     2     113781 151.5500 C22 C26 S            \n",
       "5 1     2     113781 151.5500 C22 C26 S            \n",
       "6 0     0     19952   26.5500 E12     S        3   \n",
       "  home.dest                      \n",
       "1 St Louis, MO                   \n",
       "2 Montreal, PQ / Chesterville, ON\n",
       "3 Montreal, PQ / Chesterville, ON\n",
       "4 Montreal, PQ / Chesterville, ON\n",
       "5 Montreal, PQ / Chesterville, ON\n",
       "6 New York, NY                   "
      ]
     },
     "metadata": {},
     "output_type": "display_data"
    }
   ],
   "source": [
    "# 別の方法\n",
    "#インデックスを負の値にすると、その番号を除外した行列を返す性質を利用して、次のようにも書ける\n",
    "df <- read.csv(\"./data/titanic3.csv\", header=T)\n",
    "df <- df[, -13]\n",
    "head(df)"
   ]
  },
  {
   "cell_type": "code",
   "execution_count": 7,
   "metadata": {},
   "outputs": [
    {
     "data": {
      "text/html": [
       "<table>\n",
       "<thead><tr><th></th><th scope=col>pclass</th><th scope=col>survived</th><th scope=col>name</th><th scope=col>sex</th><th scope=col>age</th><th scope=col>sibsp</th><th scope=col>parch</th><th scope=col>ticket</th><th scope=col>fare</th><th scope=col>cabin</th><th scope=col>embarked</th><th scope=col>boat</th><th scope=col>body</th><th scope=col>home.dest</th></tr></thead>\n",
       "<tbody>\n",
       "\t<tr><th scope=row>1</th><td>1                                              </td><td>1                                              </td><td>Allen, Miss. Elisabeth Walton                  </td><td>female                                         </td><td>29.00                                          </td><td>0                                              </td><td>0                                              </td><td>24160                                          </td><td>211.3375                                       </td><td>B5                                             </td><td>S                                              </td><td>2                                              </td><td> NA                                            </td><td>St Louis, MO                                   </td></tr>\n",
       "\t<tr><th scope=row>2</th><td>1                                              </td><td>1                                              </td><td>Allison, Master. Hudson Trevor                 </td><td>male                                           </td><td> 0.92                                          </td><td>1                                              </td><td>2                                              </td><td>113781                                         </td><td>151.5500                                       </td><td>C22 C26                                        </td><td>S                                              </td><td>11                                             </td><td> NA                                            </td><td>Montreal, PQ / Chesterville, ON                </td></tr>\n",
       "\t<tr><th scope=row>4</th><td>1                                              </td><td>0                                              </td><td>Allison, Mr. Hudson Joshua Creighton           </td><td>male                                           </td><td>30.00                                          </td><td>1                                              </td><td>2                                              </td><td>113781                                         </td><td>151.5500                                       </td><td>C22 C26                                        </td><td>S                                              </td><td>                                               </td><td>135                                            </td><td>Montreal, PQ / Chesterville, ON                </td></tr>\n",
       "\t<tr><th scope=row>5</th><td>1                                              </td><td>0                                              </td><td>Allison, Mrs. Hudson J C (Bessie Waldo Daniels)</td><td>female                                         </td><td>25.00                                          </td><td>1                                              </td><td>2                                              </td><td>113781                                         </td><td>151.5500                                       </td><td>C22 C26                                        </td><td>S                                              </td><td>                                               </td><td> NA                                            </td><td>Montreal, PQ / Chesterville, ON                </td></tr>\n",
       "\t<tr><th scope=row>6</th><td>1                                              </td><td>1                                              </td><td>Anderson, Mr. Harry                            </td><td>male                                           </td><td>48.00                                          </td><td>0                                              </td><td>0                                              </td><td>19952                                          </td><td> 26.5500                                       </td><td>E12                                            </td><td>S                                              </td><td>3                                              </td><td> NA                                            </td><td>New York, NY                                   </td></tr>\n",
       "\t<tr><th scope=row>7</th><td>1                                              </td><td>1                                              </td><td>Andrews, Miss. Kornelia Theodosia              </td><td>female                                         </td><td>63.00                                          </td><td>1                                              </td><td>0                                              </td><td>13502                                          </td><td> 77.9583                                       </td><td>D7                                             </td><td>S                                              </td><td>10                                             </td><td> NA                                            </td><td>Hudson, NY                                     </td></tr>\n",
       "</tbody>\n",
       "</table>\n"
      ],
      "text/latex": [
       "\\begin{tabular}{r|llllllllllllll}\n",
       "  & pclass & survived & name & sex & age & sibsp & parch & ticket & fare & cabin & embarked & boat & body & home.dest\\\\\n",
       "\\hline\n",
       "\t1 & 1                                               & 1                                               & Allen, Miss. Elisabeth Walton                   & female                                          & 29.00                                           & 0                                               & 0                                               & 24160                                           & 211.3375                                        & B5                                              & S                                               & 2                                               &  NA                                             & St Louis, MO                                   \\\\\n",
       "\t2 & 1                                               & 1                                               & Allison, Master. Hudson Trevor                  & male                                            &  0.92                                           & 1                                               & 2                                               & 113781                                          & 151.5500                                        & C22 C26                                         & S                                               & 11                                              &  NA                                             & Montreal, PQ / Chesterville, ON                \\\\\n",
       "\t4 & 1                                               & 0                                               & Allison, Mr. Hudson Joshua Creighton            & male                                            & 30.00                                           & 1                                               & 2                                               & 113781                                          & 151.5500                                        & C22 C26                                         & S                                               &                                                 & 135                                             & Montreal, PQ / Chesterville, ON                \\\\\n",
       "\t5 & 1                                               & 0                                               & Allison, Mrs. Hudson J C (Bessie Waldo Daniels) & female                                          & 25.00                                           & 1                                               & 2                                               & 113781                                          & 151.5500                                        & C22 C26                                         & S                                               &                                                 &  NA                                             & Montreal, PQ / Chesterville, ON                \\\\\n",
       "\t6 & 1                                               & 1                                               & Anderson, Mr. Harry                             & male                                            & 48.00                                           & 0                                               & 0                                               & 19952                                           &  26.5500                                        & E12                                             & S                                               & 3                                               &  NA                                             & New York, NY                                   \\\\\n",
       "\t7 & 1                                               & 1                                               & Andrews, Miss. Kornelia Theodosia               & female                                          & 63.00                                           & 1                                               & 0                                               & 13502                                           &  77.9583                                        & D7                                              & S                                               & 10                                              &  NA                                             & Hudson, NY                                     \\\\\n",
       "\\end{tabular}\n"
      ],
      "text/markdown": [
       "\n",
       "| <!--/--> | pclass | survived | name | sex | age | sibsp | parch | ticket | fare | cabin | embarked | boat | body | home.dest |\n",
       "|---|---|---|---|---|---|---|---|---|---|---|---|---|---|---|\n",
       "| 1 | 1                                               | 1                                               | Allen, Miss. Elisabeth Walton                   | female                                          | 29.00                                           | 0                                               | 0                                               | 24160                                           | 211.3375                                        | B5                                              | S                                               | 2                                               |  NA                                             | St Louis, MO                                    |\n",
       "| 2 | 1                                               | 1                                               | Allison, Master. Hudson Trevor                  | male                                            |  0.92                                           | 1                                               | 2                                               | 113781                                          | 151.5500                                        | C22 C26                                         | S                                               | 11                                              |  NA                                             | Montreal, PQ / Chesterville, ON                 |\n",
       "| 4 | 1                                               | 0                                               | Allison, Mr. Hudson Joshua Creighton            | male                                            | 30.00                                           | 1                                               | 2                                               | 113781                                          | 151.5500                                        | C22 C26                                         | S                                               |                                                 | 135                                             | Montreal, PQ / Chesterville, ON                 |\n",
       "| 5 | 1                                               | 0                                               | Allison, Mrs. Hudson J C (Bessie Waldo Daniels) | female                                          | 25.00                                           | 1                                               | 2                                               | 113781                                          | 151.5500                                        | C22 C26                                         | S                                               |                                                 |  NA                                             | Montreal, PQ / Chesterville, ON                 |\n",
       "| 6 | 1                                               | 1                                               | Anderson, Mr. Harry                             | male                                            | 48.00                                           | 0                                               | 0                                               | 19952                                           |  26.5500                                        | E12                                             | S                                               | 3                                               |  NA                                             | New York, NY                                    |\n",
       "| 7 | 1                                               | 1                                               | Andrews, Miss. Kornelia Theodosia               | female                                          | 63.00                                           | 1                                               | 0                                               | 13502                                           |  77.9583                                        | D7                                              | S                                               | 10                                              |  NA                                             | Hudson, NY                                      |\n",
       "\n"
      ],
      "text/plain": [
       "  pclass survived name                                            sex    age  \n",
       "1 1      1        Allen, Miss. Elisabeth Walton                   female 29.00\n",
       "2 1      1        Allison, Master. Hudson Trevor                  male    0.92\n",
       "4 1      0        Allison, Mr. Hudson Joshua Creighton            male   30.00\n",
       "5 1      0        Allison, Mrs. Hudson J C (Bessie Waldo Daniels) female 25.00\n",
       "6 1      1        Anderson, Mr. Harry                             male   48.00\n",
       "7 1      1        Andrews, Miss. Kornelia Theodosia               female 63.00\n",
       "  sibsp parch ticket fare     cabin   embarked boat body\n",
       "1 0     0     24160  211.3375 B5      S        2     NA \n",
       "2 1     2     113781 151.5500 C22 C26 S        11    NA \n",
       "4 1     2     113781 151.5500 C22 C26 S             135 \n",
       "5 1     2     113781 151.5500 C22 C26 S              NA \n",
       "6 0     0     19952   26.5500 E12     S        3     NA \n",
       "7 1     0     13502   77.9583 D7      S        10    NA \n",
       "  home.dest                      \n",
       "1 St Louis, MO                   \n",
       "2 Montreal, PQ / Chesterville, ON\n",
       "4 Montreal, PQ / Chesterville, ON\n",
       "5 Montreal, PQ / Chesterville, ON\n",
       "6 New York, NY                   \n",
       "7 Hudson, NY                     "
      ]
     },
     "metadata": {},
     "output_type": "display_data"
    }
   ],
   "source": [
    "# 【42】\n",
    "# dfからインデックス名「3」の行を削除し、最初の5行を表示\n",
    "\n",
    "df <- read.csv(\"./data/titanic3.csv\", header=T)\n",
    "head(df[-3,]) #行を削除"
   ]
  },
  {
   "cell_type": "code",
   "execution_count": 8,
   "metadata": {},
   "outputs": [
    {
     "data": {
      "text/html": [
       "<table>\n",
       "<thead><tr><th scope=col>name</th><th scope=col>class</th><th scope=col>English</th><th scope=col>Mathmatics</th><th scope=col>History</th></tr></thead>\n",
       "<tbody>\n",
       "\t<tr><td>A  </td><td>1  </td><td>80 </td><td> 55</td><td>65 </td></tr>\n",
       "\t<tr><td>B  </td><td>1  </td><td>55 </td><td>100</td><td>83 </td></tr>\n",
       "\t<tr><td>C  </td><td>2  </td><td>65 </td><td> 70</td><td>95 </td></tr>\n",
       "\t<tr><td>D  </td><td>1  </td><td>40 </td><td> 63</td><td>70 </td></tr>\n",
       "\t<tr><td>E  </td><td>2  </td><td>76 </td><td> 82</td><td>79 </td></tr>\n",
       "\t<tr><td>F  </td><td>2  </td><td>93 </td><td> 68</td><td>81 </td></tr>\n",
       "</tbody>\n",
       "</table>\n"
      ],
      "text/latex": [
       "\\begin{tabular}{r|lllll}\n",
       " name & class & English & Mathmatics & History\\\\\n",
       "\\hline\n",
       "\t A   & 1   & 80  &  55 & 65 \\\\\n",
       "\t B   & 1   & 55  & 100 & 83 \\\\\n",
       "\t C   & 2   & 65  &  70 & 95 \\\\\n",
       "\t D   & 1   & 40  &  63 & 70 \\\\\n",
       "\t E   & 2   & 76  &  82 & 79 \\\\\n",
       "\t F   & 2   & 93  &  68 & 81 \\\\\n",
       "\\end{tabular}\n"
      ],
      "text/markdown": [
       "\n",
       "| name | class | English | Mathmatics | History |\n",
       "|---|---|---|---|---|\n",
       "| A   | 1   | 80  |  55 | 65  |\n",
       "| B   | 1   | 55  | 100 | 83  |\n",
       "| C   | 2   | 65  |  70 | 95  |\n",
       "| D   | 1   | 40  |  63 | 70  |\n",
       "| E   | 2   | 76  |  82 | 79  |\n",
       "| F   | 2   | 93  |  68 | 81  |\n",
       "\n"
      ],
      "text/plain": [
       "  name class English Mathmatics History\n",
       "1 A    1     80       55        65     \n",
       "2 B    1     55      100        83     \n",
       "3 C    2     65       70        95     \n",
       "4 D    1     40       63        70     \n",
       "5 E    2     76       82        79     \n",
       "6 F    2     93       68        81     "
      ]
     },
     "metadata": {},
     "output_type": "display_data"
    }
   ],
   "source": [
    "# 【43】\n",
    "# df2の列名を'name', 'class', 'Biology', 'Physics', 'Chemistry'に変更\n",
    "# df2の最初の5行を表示\n",
    "\n",
    "head(df2)"
   ]
  },
  {
   "cell_type": "code",
   "execution_count": 9,
   "metadata": {},
   "outputs": [
    {
     "data": {
      "text/html": [
       "<table>\n",
       "<thead><tr><th scope=col>name</th><th scope=col>class</th><th scope=col>Biology</th><th scope=col>Physics</th><th scope=col>Chemistry</th></tr></thead>\n",
       "<tbody>\n",
       "\t<tr><td>A  </td><td>1  </td><td>80 </td><td> 55</td><td>65 </td></tr>\n",
       "\t<tr><td>B  </td><td>1  </td><td>55 </td><td>100</td><td>83 </td></tr>\n",
       "\t<tr><td>C  </td><td>2  </td><td>65 </td><td> 70</td><td>95 </td></tr>\n",
       "\t<tr><td>D  </td><td>1  </td><td>40 </td><td> 63</td><td>70 </td></tr>\n",
       "\t<tr><td>E  </td><td>2  </td><td>76 </td><td> 82</td><td>79 </td></tr>\n",
       "\t<tr><td>F  </td><td>2  </td><td>93 </td><td> 68</td><td>81 </td></tr>\n",
       "</tbody>\n",
       "</table>\n"
      ],
      "text/latex": [
       "\\begin{tabular}{r|lllll}\n",
       " name & class & Biology & Physics & Chemistry\\\\\n",
       "\\hline\n",
       "\t A   & 1   & 80  &  55 & 65 \\\\\n",
       "\t B   & 1   & 55  & 100 & 83 \\\\\n",
       "\t C   & 2   & 65  &  70 & 95 \\\\\n",
       "\t D   & 1   & 40  &  63 & 70 \\\\\n",
       "\t E   & 2   & 76  &  82 & 79 \\\\\n",
       "\t F   & 2   & 93  &  68 & 81 \\\\\n",
       "\\end{tabular}\n"
      ],
      "text/markdown": [
       "\n",
       "| name | class | Biology | Physics | Chemistry |\n",
       "|---|---|---|---|---|\n",
       "| A   | 1   | 80  |  55 | 65  |\n",
       "| B   | 1   | 55  | 100 | 83  |\n",
       "| C   | 2   | 65  |  70 | 95  |\n",
       "| D   | 1   | 40  |  63 | 70  |\n",
       "| E   | 2   | 76  |  82 | 79  |\n",
       "| F   | 2   | 93  |  68 | 81  |\n",
       "\n"
      ],
      "text/plain": [
       "  name class Biology Physics Chemistry\n",
       "1 A    1     80       55     65       \n",
       "2 B    1     55      100     83       \n",
       "3 C    2     65       70     95       \n",
       "4 D    1     40       63     70       \n",
       "5 E    2     76       82     79       \n",
       "6 F    2     93       68     81       "
      ]
     },
     "metadata": {},
     "output_type": "display_data"
    }
   ],
   "source": [
    "colnames(df2) <- c('name', 'class', 'Biology', 'Physics', 'Chemistry')\n",
    "head(df2)"
   ]
  },
  {
   "cell_type": "code",
   "execution_count": 10,
   "metadata": {},
   "outputs": [
    {
     "data": {
      "text/html": [
       "<table>\n",
       "<thead><tr><th scope=col>name</th><th scope=col>class</th><th scope=col>Bioligy</th><th scope=col>Mathmatics</th><th scope=col>History</th></tr></thead>\n",
       "<tbody>\n",
       "\t<tr><td>A  </td><td>1  </td><td>80 </td><td> 55</td><td>65 </td></tr>\n",
       "\t<tr><td>B  </td><td>1  </td><td>55 </td><td>100</td><td>83 </td></tr>\n",
       "\t<tr><td>C  </td><td>2  </td><td>65 </td><td> 70</td><td>95 </td></tr>\n",
       "\t<tr><td>D  </td><td>1  </td><td>40 </td><td> 63</td><td>70 </td></tr>\n",
       "\t<tr><td>E  </td><td>2  </td><td>76 </td><td> 82</td><td>79 </td></tr>\n",
       "\t<tr><td>F  </td><td>2  </td><td>93 </td><td> 68</td><td>81 </td></tr>\n",
       "</tbody>\n",
       "</table>\n"
      ],
      "text/latex": [
       "\\begin{tabular}{r|lllll}\n",
       " name & class & Bioligy & Mathmatics & History\\\\\n",
       "\\hline\n",
       "\t A   & 1   & 80  &  55 & 65 \\\\\n",
       "\t B   & 1   & 55  & 100 & 83 \\\\\n",
       "\t C   & 2   & 65  &  70 & 95 \\\\\n",
       "\t D   & 1   & 40  &  63 & 70 \\\\\n",
       "\t E   & 2   & 76  &  82 & 79 \\\\\n",
       "\t F   & 2   & 93  &  68 & 81 \\\\\n",
       "\\end{tabular}\n"
      ],
      "text/markdown": [
       "\n",
       "| name | class | Bioligy | Mathmatics | History |\n",
       "|---|---|---|---|---|\n",
       "| A   | 1   | 80  |  55 | 65  |\n",
       "| B   | 1   | 55  | 100 | 83  |\n",
       "| C   | 2   | 65  |  70 | 95  |\n",
       "| D   | 1   | 40  |  63 | 70  |\n",
       "| E   | 2   | 76  |  82 | 79  |\n",
       "| F   | 2   | 93  |  68 | 81  |\n",
       "\n"
      ],
      "text/plain": [
       "  name class Bioligy Mathmatics History\n",
       "1 A    1     80       55        65     \n",
       "2 B    1     55      100        83     \n",
       "3 C    2     65       70        95     \n",
       "4 D    1     40       63        70     \n",
       "5 E    2     76       82        79     \n",
       "6 F    2     93       68        81     "
      ]
     },
     "metadata": {},
     "output_type": "display_data"
    }
   ],
   "source": [
    "# 【44】\n",
    "# df2の列名を'English'をBiology'に変更\n",
    "# df2の最初の5行を表示\n",
    "\n",
    "# http://tips-r.blogspot.com/2018/02/r.html\n",
    "df2 <- read.csv(\"./data/data1.csv\", header=T)\n",
    "colnames(df2)[3] <- \"Bioligy\"\n",
    "head(df2)"
   ]
  },
  {
   "cell_type": "code",
   "execution_count": 11,
   "metadata": {},
   "outputs": [
    {
     "data": {
      "text/html": [
       "<table>\n",
       "<thead><tr><th scope=col>name</th><th scope=col>class</th><th scope=col>Biology</th><th scope=col>Mathmatics</th><th scope=col>History</th></tr></thead>\n",
       "<tbody>\n",
       "\t<tr><td>A  </td><td>1  </td><td>80 </td><td> 55</td><td>65 </td></tr>\n",
       "\t<tr><td>B  </td><td>1  </td><td>55 </td><td>100</td><td>83 </td></tr>\n",
       "\t<tr><td>C  </td><td>2  </td><td>65 </td><td> 70</td><td>95 </td></tr>\n",
       "\t<tr><td>D  </td><td>1  </td><td>40 </td><td> 63</td><td>70 </td></tr>\n",
       "\t<tr><td>E  </td><td>2  </td><td>76 </td><td> 82</td><td>79 </td></tr>\n",
       "\t<tr><td>F  </td><td>2  </td><td>93 </td><td> 68</td><td>81 </td></tr>\n",
       "</tbody>\n",
       "</table>\n"
      ],
      "text/latex": [
       "\\begin{tabular}{r|lllll}\n",
       " name & class & Biology & Mathmatics & History\\\\\n",
       "\\hline\n",
       "\t A   & 1   & 80  &  55 & 65 \\\\\n",
       "\t B   & 1   & 55  & 100 & 83 \\\\\n",
       "\t C   & 2   & 65  &  70 & 95 \\\\\n",
       "\t D   & 1   & 40  &  63 & 70 \\\\\n",
       "\t E   & 2   & 76  &  82 & 79 \\\\\n",
       "\t F   & 2   & 93  &  68 & 81 \\\\\n",
       "\\end{tabular}\n"
      ],
      "text/markdown": [
       "\n",
       "| name | class | Biology | Mathmatics | History |\n",
       "|---|---|---|---|---|\n",
       "| A   | 1   | 80  |  55 | 65  |\n",
       "| B   | 1   | 55  | 100 | 83  |\n",
       "| C   | 2   | 65  |  70 | 95  |\n",
       "| D   | 1   | 40  |  63 | 70  |\n",
       "| E   | 2   | 76  |  82 | 79  |\n",
       "| F   | 2   | 93  |  68 | 81  |\n",
       "\n"
      ],
      "text/plain": [
       "  name class Biology Mathmatics History\n",
       "1 A    1     80       55        65     \n",
       "2 B    1     55      100        83     \n",
       "3 C    2     65       70        95     \n",
       "4 D    1     40       63        70     \n",
       "5 E    2     76       82        79     \n",
       "6 F    2     93       68        81     "
      ]
     },
     "metadata": {},
     "output_type": "display_data"
    }
   ],
   "source": [
    "# 別の方法\n",
    "df2 <- read.csv(\"./data/data1.csv\", header=T)\n",
    "colnames(df2)[which(colnames(df2)==\"English\")] <- \"Biology\"\n",
    "head(df2)"
   ]
  },
  {
   "cell_type": "code",
   "execution_count": 12,
   "metadata": {},
   "outputs": [
    {
     "data": {
      "text/html": [
       "<ol class=list-inline>\n",
       "\t<li>'1'</li>\n",
       "\t<li>'2'</li>\n",
       "\t<li>'3'</li>\n",
       "\t<li>'4'</li>\n",
       "\t<li>'5'</li>\n",
       "\t<li>'6'</li>\n",
       "\t<li>'7'</li>\n",
       "\t<li>'8'</li>\n",
       "\t<li>'9'</li>\n",
       "\t<li>'10'</li>\n",
       "</ol>\n"
      ],
      "text/latex": [
       "\\begin{enumerate*}\n",
       "\\item '1'\n",
       "\\item '2'\n",
       "\\item '3'\n",
       "\\item '4'\n",
       "\\item '5'\n",
       "\\item '6'\n",
       "\\item '7'\n",
       "\\item '8'\n",
       "\\item '9'\n",
       "\\item '10'\n",
       "\\end{enumerate*}\n"
      ],
      "text/markdown": [
       "1. '1'\n",
       "2. '2'\n",
       "3. '3'\n",
       "4. '4'\n",
       "5. '5'\n",
       "6. '6'\n",
       "7. '7'\n",
       "8. '8'\n",
       "9. '9'\n",
       "10. '10'\n",
       "\n",
       "\n"
      ],
      "text/plain": [
       " [1] \"1\"  \"2\"  \"3\"  \"4\"  \"5\"  \"6\"  \"7\"  \"8\"  \"9\"  \"10\""
      ]
     },
     "metadata": {},
     "output_type": "display_data"
    }
   ],
   "source": [
    "# 【45】\n",
    "# df2のインデックス名「1」を「10」に変更\n",
    "# df2の最初の5行を表示\n",
    "\n",
    "df2 <- read.csv(\"./data/data1.csv\", header=T)\n",
    "rownames(df2)"
   ]
  },
  {
   "cell_type": "code",
   "execution_count": 13,
   "metadata": {},
   "outputs": [
    {
     "name": "stderr",
     "output_type": "stream",
     "text": [
      "Warning message:\n",
      "\"non-unique value when setting 'row.names': '10'\""
     ]
    },
    {
     "ename": "ERROR",
     "evalue": "Error in `.rowNamesDF<-`(x, value = value): duplicate 'row.names' are not allowed\n",
     "output_type": "error",
     "traceback": [
      "Error in `.rowNamesDF<-`(x, value = value): duplicate 'row.names' are not allowed\nTraceback:\n",
      "1. `rownames<-`(`*tmp*`, value = c(\"1\", \"10\", \"3\", \"4\", \"5\", \"6\", \n . \"7\", \"8\", \"9\", \"10\"))",
      "2. `row.names<-`(`*tmp*`, value = value)",
      "3. `row.names<-.data.frame`(`*tmp*`, value = value)",
      "4. `.rowNamesDF<-`(x, value = value)",
      "5. stop(\"duplicate 'row.names' are not allowed\")"
     ]
    }
   ],
   "source": [
    "rownames(df2)[2] <- '10'\n",
    "head(rownames(df2))"
   ]
  },
  {
   "cell_type": "code",
   "execution_count": null,
   "metadata": {},
   "outputs": [],
   "source": [
    "# Rでは行のインデックスを書き換えるのは禁止されている？\n",
    "# できた人は教えてください。"
   ]
  },
  {
   "cell_type": "code",
   "execution_count": 14,
   "metadata": {},
   "outputs": [
    {
     "data": {
      "text/html": [
       "<dl class=dl-horizontal>\n",
       "\t<dt>pclass</dt>\n",
       "\t\t<dd>0</dd>\n",
       "\t<dt>survived</dt>\n",
       "\t\t<dd>0</dd>\n",
       "\t<dt>name</dt>\n",
       "\t\t<dd>0</dd>\n",
       "\t<dt>sex</dt>\n",
       "\t\t<dd>0</dd>\n",
       "\t<dt>age</dt>\n",
       "\t\t<dd>263</dd>\n",
       "\t<dt>sibsp</dt>\n",
       "\t\t<dd>0</dd>\n",
       "\t<dt>parch</dt>\n",
       "\t\t<dd>0</dd>\n",
       "\t<dt>ticket</dt>\n",
       "\t\t<dd>0</dd>\n",
       "\t<dt>fare</dt>\n",
       "\t\t<dd>1</dd>\n",
       "\t<dt>cabin</dt>\n",
       "\t\t<dd>0</dd>\n",
       "\t<dt>embarked</dt>\n",
       "\t\t<dd>0</dd>\n",
       "\t<dt>boat</dt>\n",
       "\t\t<dd>0</dd>\n",
       "\t<dt>body</dt>\n",
       "\t\t<dd>1188</dd>\n",
       "\t<dt>home.dest</dt>\n",
       "\t\t<dd>0</dd>\n",
       "</dl>\n"
      ],
      "text/latex": [
       "\\begin{description*}\n",
       "\\item[pclass] 0\n",
       "\\item[survived] 0\n",
       "\\item[name] 0\n",
       "\\item[sex] 0\n",
       "\\item[age] 263\n",
       "\\item[sibsp] 0\n",
       "\\item[parch] 0\n",
       "\\item[ticket] 0\n",
       "\\item[fare] 1\n",
       "\\item[cabin] 0\n",
       "\\item[embarked] 0\n",
       "\\item[boat] 0\n",
       "\\item[body] 1188\n",
       "\\item[home.dest] 0\n",
       "\\end{description*}\n"
      ],
      "text/markdown": [
       "pclass\n",
       ":   0survived\n",
       ":   0name\n",
       ":   0sex\n",
       ":   0age\n",
       ":   263sibsp\n",
       ":   0parch\n",
       ":   0ticket\n",
       ":   0fare\n",
       ":   1cabin\n",
       ":   0embarked\n",
       ":   0boat\n",
       ":   0body\n",
       ":   1188home.dest\n",
       ":   0\n",
       "\n"
      ],
      "text/plain": [
       "   pclass  survived      name       sex       age     sibsp     parch    ticket \n",
       "        0         0         0         0       263         0         0         0 \n",
       "     fare     cabin  embarked      boat      body home.dest \n",
       "        1         0         0         0      1188         0 "
      ]
     },
     "metadata": {},
     "output_type": "display_data"
    }
   ],
   "source": [
    "# 【46】\n",
    "# dfのすべての列の欠損値数を確認\n",
    "\n",
    "df <- read.csv(\"./data/titanic3.csv\", header=T)\n",
    "colSums(is.na(df))"
   ]
  },
  {
   "cell_type": "code",
   "execution_count": 15,
   "metadata": {},
   "outputs": [
    {
     "data": {
      "text/html": [
       "<dl class=dl-horizontal>\n",
       "\t<dt>pclass</dt>\n",
       "\t\t<dd>0</dd>\n",
       "\t<dt>survived</dt>\n",
       "\t\t<dd>0</dd>\n",
       "\t<dt>name</dt>\n",
       "\t\t<dd>0</dd>\n",
       "\t<dt>sex</dt>\n",
       "\t\t<dd>0</dd>\n",
       "\t<dt>age</dt>\n",
       "\t\t<dd>0</dd>\n",
       "\t<dt>sibsp</dt>\n",
       "\t\t<dd>0</dd>\n",
       "\t<dt>parch</dt>\n",
       "\t\t<dd>0</dd>\n",
       "\t<dt>ticket</dt>\n",
       "\t\t<dd>0</dd>\n",
       "\t<dt>fare</dt>\n",
       "\t\t<dd>1</dd>\n",
       "\t<dt>cabin</dt>\n",
       "\t\t<dd>0</dd>\n",
       "\t<dt>embarked</dt>\n",
       "\t\t<dd>0</dd>\n",
       "\t<dt>boat</dt>\n",
       "\t\t<dd>0</dd>\n",
       "\t<dt>body</dt>\n",
       "\t\t<dd>1188</dd>\n",
       "\t<dt>home.dest</dt>\n",
       "\t\t<dd>0</dd>\n",
       "</dl>\n"
      ],
      "text/latex": [
       "\\begin{description*}\n",
       "\\item[pclass] 0\n",
       "\\item[survived] 0\n",
       "\\item[name] 0\n",
       "\\item[sex] 0\n",
       "\\item[age] 0\n",
       "\\item[sibsp] 0\n",
       "\\item[parch] 0\n",
       "\\item[ticket] 0\n",
       "\\item[fare] 1\n",
       "\\item[cabin] 0\n",
       "\\item[embarked] 0\n",
       "\\item[boat] 0\n",
       "\\item[body] 1188\n",
       "\\item[home.dest] 0\n",
       "\\end{description*}\n"
      ],
      "text/markdown": [
       "pclass\n",
       ":   0survived\n",
       ":   0name\n",
       ":   0sex\n",
       ":   0age\n",
       ":   0sibsp\n",
       ":   0parch\n",
       ":   0ticket\n",
       ":   0fare\n",
       ":   1cabin\n",
       ":   0embarked\n",
       ":   0boat\n",
       ":   0body\n",
       ":   1188home.dest\n",
       ":   0\n",
       "\n"
      ],
      "text/plain": [
       "   pclass  survived      name       sex       age     sibsp     parch    ticket \n",
       "        0         0         0         0         0         0         0         0 \n",
       "     fare     cabin  embarked      boat      body home.dest \n",
       "        1         0         0         0      1188         0 "
      ]
     },
     "metadata": {},
     "output_type": "display_data"
    }
   ],
   "source": [
    "# 【47】\n",
    "# dfのage列の欠損値に30を代入\n",
    "# その後、ageの欠損値数を確認\n",
    "\n",
    "df <- read.csv(\"./data/titanic3.csv\", header=T)\n",
    "df[\"age\"][is.na(df[\"age\"])] <- 30\n",
    "colSums(is.na(df))"
   ]
  },
  {
   "cell_type": "code",
   "execution_count": 16,
   "metadata": {},
   "outputs": [
    {
     "data": {
      "text/html": [
       "<dl class=dl-horizontal>\n",
       "\t<dt>pclass</dt>\n",
       "\t\t<dd>0</dd>\n",
       "\t<dt>survived</dt>\n",
       "\t\t<dd>0</dd>\n",
       "\t<dt>name</dt>\n",
       "\t\t<dd>0</dd>\n",
       "\t<dt>sex</dt>\n",
       "\t\t<dd>0</dd>\n",
       "\t<dt>age</dt>\n",
       "\t\t<dd>0</dd>\n",
       "\t<dt>sibsp</dt>\n",
       "\t\t<dd>0</dd>\n",
       "\t<dt>parch</dt>\n",
       "\t\t<dd>0</dd>\n",
       "\t<dt>ticket</dt>\n",
       "\t\t<dd>0</dd>\n",
       "\t<dt>fare</dt>\n",
       "\t\t<dd>1</dd>\n",
       "\t<dt>cabin</dt>\n",
       "\t\t<dd>0</dd>\n",
       "\t<dt>embarked</dt>\n",
       "\t\t<dd>0</dd>\n",
       "\t<dt>boat</dt>\n",
       "\t\t<dd>0</dd>\n",
       "\t<dt>body</dt>\n",
       "\t\t<dd>1188</dd>\n",
       "\t<dt>home.dest</dt>\n",
       "\t\t<dd>0</dd>\n",
       "</dl>\n"
      ],
      "text/latex": [
       "\\begin{description*}\n",
       "\\item[pclass] 0\n",
       "\\item[survived] 0\n",
       "\\item[name] 0\n",
       "\\item[sex] 0\n",
       "\\item[age] 0\n",
       "\\item[sibsp] 0\n",
       "\\item[parch] 0\n",
       "\\item[ticket] 0\n",
       "\\item[fare] 1\n",
       "\\item[cabin] 0\n",
       "\\item[embarked] 0\n",
       "\\item[boat] 0\n",
       "\\item[body] 1188\n",
       "\\item[home.dest] 0\n",
       "\\end{description*}\n"
      ],
      "text/markdown": [
       "pclass\n",
       ":   0survived\n",
       ":   0name\n",
       ":   0sex\n",
       ":   0age\n",
       ":   0sibsp\n",
       ":   0parch\n",
       ":   0ticket\n",
       ":   0fare\n",
       ":   1cabin\n",
       ":   0embarked\n",
       ":   0boat\n",
       ":   0body\n",
       ":   1188home.dest\n",
       ":   0\n",
       "\n"
      ],
      "text/plain": [
       "   pclass  survived      name       sex       age     sibsp     parch    ticket \n",
       "        0         0         0         0         0         0         0         0 \n",
       "     fare     cabin  embarked      boat      body home.dest \n",
       "        1         0         0         0      1188         0 "
      ]
     },
     "metadata": {},
     "output_type": "display_data"
    }
   ],
   "source": [
    "# 別の方法\n",
    "# https://www.it-swarm-ja.tech/ja/r/%E9%81%B8%E6%8A%9E%E3%81%97%E3%81%9F%E5%88%97%E3%81%AE%E3%83%86%E3%83%BC%E3%83%96%E3%83%AB%E3%81%AEna%E5%80%A4%E3%82%92%E7%BD%AE%E6%8F%9B%E3%81%99%E3%82%8B%E6%96%B9%E6%B3%95/1041462949/\n",
    "df <- read.csv(\"./data/titanic3.csv\", header=T)\n",
    "df[, 5:5][is.na(df[, 5:5])] <- 30\n",
    "colSums(is.na(df))"
   ]
  },
  {
   "cell_type": "code",
   "execution_count": 17,
   "metadata": {},
   "outputs": [
    {
     "data": {
      "text/html": [
       "<dl class=dl-horizontal>\n",
       "\t<dt>pclass</dt>\n",
       "\t\t<dd>0</dd>\n",
       "\t<dt>survived</dt>\n",
       "\t\t<dd>0</dd>\n",
       "\t<dt>name</dt>\n",
       "\t\t<dd>0</dd>\n",
       "\t<dt>sex</dt>\n",
       "\t\t<dd>0</dd>\n",
       "\t<dt>age</dt>\n",
       "\t\t<dd>0</dd>\n",
       "\t<dt>sibsp</dt>\n",
       "\t\t<dd>0</dd>\n",
       "\t<dt>parch</dt>\n",
       "\t\t<dd>0</dd>\n",
       "\t<dt>ticket</dt>\n",
       "\t\t<dd>0</dd>\n",
       "\t<dt>fare</dt>\n",
       "\t\t<dd>0</dd>\n",
       "\t<dt>cabin</dt>\n",
       "\t\t<dd>0</dd>\n",
       "\t<dt>embarked</dt>\n",
       "\t\t<dd>0</dd>\n",
       "\t<dt>boat</dt>\n",
       "\t\t<dd>0</dd>\n",
       "\t<dt>body</dt>\n",
       "\t\t<dd>0</dd>\n",
       "\t<dt>home.dest</dt>\n",
       "\t\t<dd>0</dd>\n",
       "</dl>\n"
      ],
      "text/latex": [
       "\\begin{description*}\n",
       "\\item[pclass] 0\n",
       "\\item[survived] 0\n",
       "\\item[name] 0\n",
       "\\item[sex] 0\n",
       "\\item[age] 0\n",
       "\\item[sibsp] 0\n",
       "\\item[parch] 0\n",
       "\\item[ticket] 0\n",
       "\\item[fare] 0\n",
       "\\item[cabin] 0\n",
       "\\item[embarked] 0\n",
       "\\item[boat] 0\n",
       "\\item[body] 0\n",
       "\\item[home.dest] 0\n",
       "\\end{description*}\n"
      ],
      "text/markdown": [
       "pclass\n",
       ":   0survived\n",
       ":   0name\n",
       ":   0sex\n",
       ":   0age\n",
       ":   0sibsp\n",
       ":   0parch\n",
       ":   0ticket\n",
       ":   0fare\n",
       ":   0cabin\n",
       ":   0embarked\n",
       ":   0boat\n",
       ":   0body\n",
       ":   0home.dest\n",
       ":   0\n",
       "\n"
      ],
      "text/plain": [
       "   pclass  survived      name       sex       age     sibsp     parch    ticket \n",
       "        0         0         0         0         0         0         0         0 \n",
       "     fare     cabin  embarked      boat      body home.dest \n",
       "        0         0         0         0         0         0 "
      ]
     },
     "metadata": {},
     "output_type": "display_data"
    }
   ],
   "source": [
    "# 【48】\n",
    "# dfでひとつでも欠損値がある行を削除\n",
    "# その後、dfの欠損値数を確認\n",
    "\n",
    "df <- read.csv(\"./data/titanic3.csv\", header=T)\n",
    "df <- na.omit(df)\n",
    "colSums(is.na(df))"
   ]
  },
  {
   "cell_type": "code",
   "execution_count": 18,
   "metadata": {
    "scrolled": true
   },
   "outputs": [
    {
     "data": {
      "text/html": [
       "<table>\n",
       "<thead><tr><th scope=col>survived</th></tr></thead>\n",
       "<tbody>\n",
       "\t<tr><td>1</td></tr>\n",
       "\t<tr><td>1</td></tr>\n",
       "\t<tr><td>0</td></tr>\n",
       "\t<tr><td>0</td></tr>\n",
       "\t<tr><td>0</td></tr>\n",
       "\t<tr><td>1</td></tr>\n",
       "\t<tr><td>1</td></tr>\n",
       "\t<tr><td>0</td></tr>\n",
       "\t<tr><td>1</td></tr>\n",
       "\t<tr><td>0</td></tr>\n",
       "\t<tr><td>0</td></tr>\n",
       "\t<tr><td>1</td></tr>\n",
       "\t<tr><td>1</td></tr>\n",
       "\t<tr><td>1</td></tr>\n",
       "\t<tr><td>1</td></tr>\n",
       "\t<tr><td>0</td></tr>\n",
       "\t<tr><td>0</td></tr>\n",
       "\t<tr><td>1</td></tr>\n",
       "\t<tr><td>1</td></tr>\n",
       "\t<tr><td>0</td></tr>\n",
       "\t<tr><td>1</td></tr>\n",
       "\t<tr><td>1</td></tr>\n",
       "\t<tr><td>1</td></tr>\n",
       "\t<tr><td>1</td></tr>\n",
       "\t<tr><td>1</td></tr>\n",
       "\t<tr><td>0</td></tr>\n",
       "\t<tr><td>1</td></tr>\n",
       "\t<tr><td>1</td></tr>\n",
       "\t<tr><td>1</td></tr>\n",
       "\t<tr><td>1</td></tr>\n",
       "\t<tr><td>...</td></tr>\n",
       "\t<tr><td>0</td></tr>\n",
       "\t<tr><td>0</td></tr>\n",
       "\t<tr><td>0</td></tr>\n",
       "\t<tr><td>0</td></tr>\n",
       "\t<tr><td>0</td></tr>\n",
       "\t<tr><td>0</td></tr>\n",
       "\t<tr><td>0</td></tr>\n",
       "\t<tr><td>1</td></tr>\n",
       "\t<tr><td>0</td></tr>\n",
       "\t<tr><td>0</td></tr>\n",
       "\t<tr><td>0</td></tr>\n",
       "\t<tr><td>1</td></tr>\n",
       "\t<tr><td>0</td></tr>\n",
       "\t<tr><td>0</td></tr>\n",
       "\t<tr><td>0</td></tr>\n",
       "\t<tr><td>0</td></tr>\n",
       "\t<tr><td>0</td></tr>\n",
       "\t<tr><td>0</td></tr>\n",
       "\t<tr><td>0</td></tr>\n",
       "\t<tr><td>0</td></tr>\n",
       "\t<tr><td>0</td></tr>\n",
       "\t<tr><td>1</td></tr>\n",
       "\t<tr><td>0</td></tr>\n",
       "\t<tr><td>0</td></tr>\n",
       "\t<tr><td>0</td></tr>\n",
       "\t<tr><td>0</td></tr>\n",
       "\t<tr><td>0</td></tr>\n",
       "\t<tr><td>0</td></tr>\n",
       "\t<tr><td>0</td></tr>\n",
       "\t<tr><td>0</td></tr>\n",
       "</tbody>\n",
       "</table>\n"
      ],
      "text/latex": [
       "\\begin{tabular}{l}\n",
       " survived\\\\\n",
       "\\hline\n",
       "\t 1\\\\\n",
       "\t 1\\\\\n",
       "\t 0\\\\\n",
       "\t 0\\\\\n",
       "\t 0\\\\\n",
       "\t 1\\\\\n",
       "\t 1\\\\\n",
       "\t 0\\\\\n",
       "\t 1\\\\\n",
       "\t 0\\\\\n",
       "\t 0\\\\\n",
       "\t 1\\\\\n",
       "\t 1\\\\\n",
       "\t 1\\\\\n",
       "\t 1\\\\\n",
       "\t 0\\\\\n",
       "\t 0\\\\\n",
       "\t 1\\\\\n",
       "\t 1\\\\\n",
       "\t 0\\\\\n",
       "\t 1\\\\\n",
       "\t 1\\\\\n",
       "\t 1\\\\\n",
       "\t 1\\\\\n",
       "\t 1\\\\\n",
       "\t 0\\\\\n",
       "\t 1\\\\\n",
       "\t 1\\\\\n",
       "\t 1\\\\\n",
       "\t 1\\\\\n",
       "\t ...\\\\\n",
       "\t 0\\\\\n",
       "\t 0\\\\\n",
       "\t 0\\\\\n",
       "\t 0\\\\\n",
       "\t 0\\\\\n",
       "\t 0\\\\\n",
       "\t 0\\\\\n",
       "\t 1\\\\\n",
       "\t 0\\\\\n",
       "\t 0\\\\\n",
       "\t 0\\\\\n",
       "\t 1\\\\\n",
       "\t 0\\\\\n",
       "\t 0\\\\\n",
       "\t 0\\\\\n",
       "\t 0\\\\\n",
       "\t 0\\\\\n",
       "\t 0\\\\\n",
       "\t 0\\\\\n",
       "\t 0\\\\\n",
       "\t 0\\\\\n",
       "\t 1\\\\\n",
       "\t 0\\\\\n",
       "\t 0\\\\\n",
       "\t 0\\\\\n",
       "\t 0\\\\\n",
       "\t 0\\\\\n",
       "\t 0\\\\\n",
       "\t 0\\\\\n",
       "\t 0\\\\\n",
       "\\end{tabular}\n"
      ],
      "text/markdown": [
       "\n",
       "| survived |\n",
       "|---|\n",
       "| 1 |\n",
       "| 1 |\n",
       "| 0 |\n",
       "| 0 |\n",
       "| 0 |\n",
       "| 1 |\n",
       "| 1 |\n",
       "| 0 |\n",
       "| 1 |\n",
       "| 0 |\n",
       "| 0 |\n",
       "| 1 |\n",
       "| 1 |\n",
       "| 1 |\n",
       "| 1 |\n",
       "| 0 |\n",
       "| 0 |\n",
       "| 1 |\n",
       "| 1 |\n",
       "| 0 |\n",
       "| 1 |\n",
       "| 1 |\n",
       "| 1 |\n",
       "| 1 |\n",
       "| 1 |\n",
       "| 0 |\n",
       "| 1 |\n",
       "| 1 |\n",
       "| 1 |\n",
       "| 1 |\n",
       "| ... |\n",
       "| 0 |\n",
       "| 0 |\n",
       "| 0 |\n",
       "| 0 |\n",
       "| 0 |\n",
       "| 0 |\n",
       "| 0 |\n",
       "| 1 |\n",
       "| 0 |\n",
       "| 0 |\n",
       "| 0 |\n",
       "| 1 |\n",
       "| 0 |\n",
       "| 0 |\n",
       "| 0 |\n",
       "| 0 |\n",
       "| 0 |\n",
       "| 0 |\n",
       "| 0 |\n",
       "| 0 |\n",
       "| 0 |\n",
       "| 1 |\n",
       "| 0 |\n",
       "| 0 |\n",
       "| 0 |\n",
       "| 0 |\n",
       "| 0 |\n",
       "| 0 |\n",
       "| 0 |\n",
       "| 0 |\n",
       "\n"
      ],
      "text/plain": [
       "      survived\n",
       " [1,] 1       \n",
       " [2,] 1       \n",
       " [3,] 0       \n",
       " [4,] 0       \n",
       " [5,] 0       \n",
       " [6,] 1       \n",
       " [7,] 1       \n",
       " [8,] 0       \n",
       " [9,] 1       \n",
       "[10,] 0       \n",
       "[11,] 0       \n",
       "[12,] 1       \n",
       "[13,] 1       \n",
       "[14,] 1       \n",
       "[15,] 1       \n",
       "[16,] 0       \n",
       "[17,] 0       \n",
       "[18,] 1       \n",
       "[19,] 1       \n",
       "[20,] 0       \n",
       "[21,] 1       \n",
       "[22,] 1       \n",
       "[23,] 1       \n",
       "[24,] 1       \n",
       "[25,] 1       \n",
       "[26,] 0       \n",
       "[27,] 1       \n",
       "[28,] 1       \n",
       "[29,] 1       \n",
       "[30,] 1       \n",
       "[31,] ...     \n",
       "[32,] 0       \n",
       "[33,] 0       \n",
       "[34,] 0       \n",
       "[35,] 0       \n",
       "[36,] 0       \n",
       "[37,] 0       \n",
       "[38,] 0       \n",
       "[39,] 1       \n",
       "[40,] 0       \n",
       "[41,] 0       \n",
       "[42,] 0       \n",
       "[43,] 1       \n",
       "[44,] 0       \n",
       "[45,] 0       \n",
       "[46,] 0       \n",
       "[47,] 0       \n",
       "[48,] 0       \n",
       "[49,] 0       \n",
       "[50,] 0       \n",
       "[51,] 0       \n",
       "[52,] 0       \n",
       "[53,] 1       \n",
       "[54,] 0       \n",
       "[55,] 0       \n",
       "[56,] 0       \n",
       "[57,] 0       \n",
       "[58,] 0       \n",
       "[59,] 0       \n",
       "[60,] 0       \n",
       "[61,] 0       "
      ]
     },
     "metadata": {},
     "output_type": "display_data"
    }
   ],
   "source": [
    "# 【49】\n",
    "# dfのsurvivedの列をndarray形式(配列)で表示 --> R では配列に\n",
    "\n",
    "# http://cse.naro.affrc.go.jp/takezawa/r-tips/r/25.html\n",
    "df <- read.csv(\"./data/titanic3.csv\", header=T)\n",
    "as.matrix(df[\"survived\"])\n",
    "\n",
    "# as.array() ではエラーが出て、as.matrix() では変わっていない異様です。\n",
    "# 誰かわかりますか？"
   ]
  },
  {
   "cell_type": "code",
   "execution_count": 19,
   "metadata": {},
   "outputs": [
    {
     "data": {
      "text/html": [
       "<table>\n",
       "<thead><tr><th></th><th scope=col>pclass</th><th scope=col>survived</th><th scope=col>name</th><th scope=col>sex</th><th scope=col>age</th><th scope=col>sibsp</th><th scope=col>parch</th><th scope=col>ticket</th><th scope=col>fare</th><th scope=col>cabin</th><th scope=col>embarked</th><th scope=col>boat</th><th scope=col>body</th><th scope=col>home.dest</th></tr></thead>\n",
       "<tbody>\n",
       "\t<tr><th scope=row>153</th><td>1                          </td><td>1                          </td><td>Hawksford, Mr. Walter James</td><td>male                       </td><td>NA                         </td><td>0                          </td><td>0                          </td><td>16988                      </td><td>30.0000                    </td><td>D45                        </td><td>S                          </td><td>3                          </td><td>NA                         </td><td>Kingston, Surrey           </td></tr>\n",
       "\t<tr><th scope=row>1113</th><td>3                          </td><td>0                          </td><td>Peacock, Miss. Treasteall  </td><td>female                     </td><td> 3                         </td><td>1                          </td><td>1                          </td><td>SOTON/O.Q. 3101315         </td><td>13.7750                    </td><td>                           </td><td>S                          </td><td>                           </td><td>NA                         </td><td>                           </td></tr>\n",
       "\t<tr><th scope=row>454</th><td>2                          </td><td>0                          </td><td>Hood, Mr. Ambrose Jr       </td><td>male                       </td><td>21                         </td><td>0                          </td><td>0                          </td><td>S.O.C. 14879               </td><td>73.5000                    </td><td>                           </td><td>S                          </td><td>                           </td><td>NA                         </td><td>New Forest, England        </td></tr>\n",
       "\t<tr><th scope=row>881</th><td>3                          </td><td>1                          </td><td>Jalsevac, Mr. Ivan         </td><td>male                       </td><td>29                         </td><td>0                          </td><td>0                          </td><td>349240                     </td><td> 7.8958                    </td><td>                           </td><td>C                          </td><td>15                         </td><td>NA                         </td><td>                           </td></tr>\n",
       "\t<tr><th scope=row>1247</th><td>3                          </td><td>0                          </td><td>Thorneycroft, Mr. Percival </td><td>male                       </td><td>NA                         </td><td>1                          </td><td>0                          </td><td>376564                     </td><td>16.1000                    </td><td>                           </td><td>S                          </td><td>                           </td><td>NA                         </td><td>                           </td></tr>\n",
       "\t<tr><th scope=row>1074</th><td>3                          </td><td>0                          </td><td>O'Connor, Mr. Maurice      </td><td>male                       </td><td>NA                         </td><td>0                          </td><td>0                          </td><td>371060                     </td><td> 7.7500                    </td><td>                           </td><td>Q                          </td><td>                           </td><td>NA                         </td><td>                           </td></tr>\n",
       "</tbody>\n",
       "</table>\n"
      ],
      "text/latex": [
       "\\begin{tabular}{r|llllllllllllll}\n",
       "  & pclass & survived & name & sex & age & sibsp & parch & ticket & fare & cabin & embarked & boat & body & home.dest\\\\\n",
       "\\hline\n",
       "\t153 & 1                           & 1                           & Hawksford, Mr. Walter James & male                        & NA                          & 0                           & 0                           & 16988                       & 30.0000                     & D45                         & S                           & 3                           & NA                          & Kingston, Surrey           \\\\\n",
       "\t1113 & 3                           & 0                           & Peacock, Miss. Treasteall   & female                      &  3                          & 1                           & 1                           & SOTON/O.Q. 3101315          & 13.7750                     &                             & S                           &                             & NA                          &                            \\\\\n",
       "\t454 & 2                           & 0                           & Hood, Mr. Ambrose Jr        & male                        & 21                          & 0                           & 0                           & S.O.C. 14879                & 73.5000                     &                             & S                           &                             & NA                          & New Forest, England        \\\\\n",
       "\t881 & 3                           & 1                           & Jalsevac, Mr. Ivan          & male                        & 29                          & 0                           & 0                           & 349240                      &  7.8958                     &                             & C                           & 15                          & NA                          &                            \\\\\n",
       "\t1247 & 3                           & 0                           & Thorneycroft, Mr. Percival  & male                        & NA                          & 1                           & 0                           & 376564                      & 16.1000                     &                             & S                           &                             & NA                          &                            \\\\\n",
       "\t1074 & 3                           & 0                           & O'Connor, Mr. Maurice       & male                        & NA                          & 0                           & 0                           & 371060                      &  7.7500                     &                             & Q                           &                             & NA                          &                            \\\\\n",
       "\\end{tabular}\n"
      ],
      "text/markdown": [
       "\n",
       "| <!--/--> | pclass | survived | name | sex | age | sibsp | parch | ticket | fare | cabin | embarked | boat | body | home.dest |\n",
       "|---|---|---|---|---|---|---|---|---|---|---|---|---|---|---|\n",
       "| 153 | 1                           | 1                           | Hawksford, Mr. Walter James | male                        | NA                          | 0                           | 0                           | 16988                       | 30.0000                     | D45                         | S                           | 3                           | NA                          | Kingston, Surrey            |\n",
       "| 1113 | 3                           | 0                           | Peacock, Miss. Treasteall   | female                      |  3                          | 1                           | 1                           | SOTON/O.Q. 3101315          | 13.7750                     |                             | S                           |                             | NA                          |                             |\n",
       "| 454 | 2                           | 0                           | Hood, Mr. Ambrose Jr        | male                        | 21                          | 0                           | 0                           | S.O.C. 14879                | 73.5000                     |                             | S                           |                             | NA                          | New Forest, England         |\n",
       "| 881 | 3                           | 1                           | Jalsevac, Mr. Ivan          | male                        | 29                          | 0                           | 0                           | 349240                      |  7.8958                     |                             | C                           | 15                          | NA                          |                             |\n",
       "| 1247 | 3                           | 0                           | Thorneycroft, Mr. Percival  | male                        | NA                          | 1                           | 0                           | 376564                      | 16.1000                     |                             | S                           |                             | NA                          |                             |\n",
       "| 1074 | 3                           | 0                           | O'Connor, Mr. Maurice       | male                        | NA                          | 0                           | 0                           | 371060                      |  7.7500                     |                             | Q                           |                             | NA                          |                             |\n",
       "\n"
      ],
      "text/plain": [
       "     pclass survived name                        sex    age sibsp parch\n",
       "153  1      1        Hawksford, Mr. Walter James male   NA  0     0    \n",
       "1113 3      0        Peacock, Miss. Treasteall   female  3  1     1    \n",
       "454  2      0        Hood, Mr. Ambrose Jr        male   21  0     0    \n",
       "881  3      1        Jalsevac, Mr. Ivan          male   29  0     0    \n",
       "1247 3      0        Thorneycroft, Mr. Percival  male   NA  1     0    \n",
       "1074 3      0        O'Connor, Mr. Maurice       male   NA  0     0    \n",
       "     ticket             fare    cabin embarked boat body home.dest          \n",
       "153  16988              30.0000 D45   S        3    NA   Kingston, Surrey   \n",
       "1113 SOTON/O.Q. 3101315 13.7750       S             NA                      \n",
       "454  S.O.C. 14879       73.5000       S             NA   New Forest, England\n",
       "881  349240              7.8958       C        15   NA                      \n",
       "1247 376564             16.1000       S             NA                      \n",
       "1074 371060              7.7500       Q             NA                      "
      ]
     },
     "metadata": {},
     "output_type": "display_data"
    }
   ],
   "source": [
    "# 【50】\n",
    "# dfの行をシャッフルして表示\n",
    "\n",
    "# https://www.it-swarm-ja.tech/ja/r/%E3%83%87%E3%83%BC%E3%82%BF%E3%83%95%E3%83%AC%E3%83%BC%E3%83%A0%E3%82%92%E8%A1%8C%E3%81%94%E3%81%A8%E3%81%8A%E3%82%88%E3%81%B3%E5%88%97%E3%81%94%E3%81%A8%E3%81%AB%E3%83%A9%E3%83%B3%E3%83%80%E3%83%A0%E5%8C%96%EF%BC%88%E3%81%BE%E3%81%9F%E3%81%AF%E4%B8%A6%E3%81%B9%E6%9B%BF%E3%81%88%EF%BC%89%E3%81%99%E3%82%8B%E3%81%AB%E3%81%AF%E3%81%A9%E3%81%86%E3%81%99%E3%82%8C%E3%81%B0%E3%82%88%E3%81%84%E3%81%A7%E3%81%99%E3%81%8B%EF%BC%9F/972584365/\n",
    "df_tmp <- df[sample(nrow(df)),]\n",
    "head(df_tmp)"
   ]
  },
  {
   "cell_type": "code",
   "execution_count": null,
   "metadata": {},
   "outputs": [],
   "source": []
  }
 ],
 "metadata": {
  "kernelspec": {
   "display_name": "R",
   "language": "R",
   "name": "ir"
  },
  "language_info": {
   "codemirror_mode": "r",
   "file_extension": ".r",
   "mimetype": "text/x-r-source",
   "name": "R",
   "pygments_lexer": "r",
   "version": "3.6.1"
  }
 },
 "nbformat": 4,
 "nbformat_minor": 4
}
