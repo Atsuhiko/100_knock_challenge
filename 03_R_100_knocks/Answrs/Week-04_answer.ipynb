{
 "cells": [
  {
   "cell_type": "markdown",
   "metadata": {},
   "source": [
    "# Week-04"
   ]
  },
  {
   "cell_type": "code",
   "execution_count": 1,
   "metadata": {},
   "outputs": [],
   "source": [
    "# getwd() #ディレクトリ確認getwd() #ディレクトリ確認"
   ]
  },
  {
   "cell_type": "code",
   "execution_count": 2,
   "metadata": {},
   "outputs": [],
   "source": [
    "# # setwd() に入れる Path は上記のディレクトリの下の data ファイル\n",
    "# setwd(\"C:/Users/iiats/OneDrive/デスクトップ/１００本ノックチャレンジ/03_R_100_knocks/Questions/data\") \n",
    "# getwd() #ディレクトリ確認"
   ]
  },
  {
   "cell_type": "code",
   "execution_count": 3,
   "metadata": {},
   "outputs": [],
   "source": [
    "# DataFrameの準備\n",
    "# 今回から相対パスでデータを読み込む\n",
    "df <- read.csv(\"./data/titanic3.csv\", header=T)\n",
    "df2 <- read.csv(\"./data/data1.csv\", header=T)\n",
    "df3 <- read.csv(\"./data/data1_2.csv\", header=T)\n",
    "df4 <- read.csv(\"./data/data1_3.csv\", header=T)\n",
    "df5 <- read.csv(\"./data/data2.csv\", header=T, fileEncoding = \"CP932\")"
   ]
  },
  {
   "cell_type": "code",
   "execution_count": 4,
   "metadata": {
    "scrolled": true
   },
   "outputs": [
    {
     "data": {
      "text/html": [
       "<table>\n",
       "<thead><tr><th scope=col>pclass</th><th scope=col>survived</th><th scope=col>name</th><th scope=col>sex</th><th scope=col>age</th><th scope=col>sibsp</th><th scope=col>parch</th><th scope=col>ticket</th><th scope=col>fare</th><th scope=col>cabin</th><th scope=col>embarked</th><th scope=col>boat</th><th scope=col>body</th><th scope=col>home.dest</th></tr></thead>\n",
       "<tbody>\n",
       "\t<tr><td>1                                              </td><td>1                                              </td><td>Allen, Miss. Elisabeth Walton                  </td><td>female                                         </td><td>29.00                                          </td><td>0                                              </td><td>0                                              </td><td>24160                                          </td><td>211.3375                                       </td><td>B5                                             </td><td>S                                              </td><td>2                                              </td><td> NA                                            </td><td>St Louis, MO                                   </td></tr>\n",
       "\t<tr><td>1                                              </td><td>1                                              </td><td>Allison, Master. Hudson Trevor                 </td><td>male                                           </td><td> 0.92                                          </td><td>1                                              </td><td>2                                              </td><td>113781                                         </td><td>151.5500                                       </td><td>C22 C26                                        </td><td>S                                              </td><td>11                                             </td><td> NA                                            </td><td>Montreal, PQ / Chesterville, ON                </td></tr>\n",
       "\t<tr><td>1                                              </td><td>0                                              </td><td>Allison, Miss. Helen Loraine                   </td><td>female                                         </td><td> 2.00                                          </td><td>1                                              </td><td>2                                              </td><td>113781                                         </td><td>151.5500                                       </td><td>C22 C26                                        </td><td>S                                              </td><td>                                               </td><td> NA                                            </td><td>Montreal, PQ / Chesterville, ON                </td></tr>\n",
       "\t<tr><td>1                                              </td><td>0                                              </td><td>Allison, Mr. Hudson Joshua Creighton           </td><td>male                                           </td><td>30.00                                          </td><td>1                                              </td><td>2                                              </td><td>113781                                         </td><td>151.5500                                       </td><td>C22 C26                                        </td><td>S                                              </td><td>                                               </td><td>135                                            </td><td>Montreal, PQ / Chesterville, ON                </td></tr>\n",
       "\t<tr><td>1                                              </td><td>0                                              </td><td>Allison, Mrs. Hudson J C (Bessie Waldo Daniels)</td><td>female                                         </td><td>25.00                                          </td><td>1                                              </td><td>2                                              </td><td>113781                                         </td><td>151.5500                                       </td><td>C22 C26                                        </td><td>S                                              </td><td>                                               </td><td> NA                                            </td><td>Montreal, PQ / Chesterville, ON                </td></tr>\n",
       "\t<tr><td>1                                              </td><td>1                                              </td><td>Anderson, Mr. Harry                            </td><td>male                                           </td><td>48.00                                          </td><td>0                                              </td><td>0                                              </td><td>19952                                          </td><td> 26.5500                                       </td><td>E12                                            </td><td>S                                              </td><td>3                                              </td><td> NA                                            </td><td>New York, NY                                   </td></tr>\n",
       "</tbody>\n",
       "</table>\n"
      ],
      "text/latex": [
       "\\begin{tabular}{r|llllllllllllll}\n",
       " pclass & survived & name & sex & age & sibsp & parch & ticket & fare & cabin & embarked & boat & body & home.dest\\\\\n",
       "\\hline\n",
       "\t 1                                               & 1                                               & Allen, Miss. Elisabeth Walton                   & female                                          & 29.00                                           & 0                                               & 0                                               & 24160                                           & 211.3375                                        & B5                                              & S                                               & 2                                               &  NA                                             & St Louis, MO                                   \\\\\n",
       "\t 1                                               & 1                                               & Allison, Master. Hudson Trevor                  & male                                            &  0.92                                           & 1                                               & 2                                               & 113781                                          & 151.5500                                        & C22 C26                                         & S                                               & 11                                              &  NA                                             & Montreal, PQ / Chesterville, ON                \\\\\n",
       "\t 1                                               & 0                                               & Allison, Miss. Helen Loraine                    & female                                          &  2.00                                           & 1                                               & 2                                               & 113781                                          & 151.5500                                        & C22 C26                                         & S                                               &                                                 &  NA                                             & Montreal, PQ / Chesterville, ON                \\\\\n",
       "\t 1                                               & 0                                               & Allison, Mr. Hudson Joshua Creighton            & male                                            & 30.00                                           & 1                                               & 2                                               & 113781                                          & 151.5500                                        & C22 C26                                         & S                                               &                                                 & 135                                             & Montreal, PQ / Chesterville, ON                \\\\\n",
       "\t 1                                               & 0                                               & Allison, Mrs. Hudson J C (Bessie Waldo Daniels) & female                                          & 25.00                                           & 1                                               & 2                                               & 113781                                          & 151.5500                                        & C22 C26                                         & S                                               &                                                 &  NA                                             & Montreal, PQ / Chesterville, ON                \\\\\n",
       "\t 1                                               & 1                                               & Anderson, Mr. Harry                             & male                                            & 48.00                                           & 0                                               & 0                                               & 19952                                           &  26.5500                                        & E12                                             & S                                               & 3                                               &  NA                                             & New York, NY                                   \\\\\n",
       "\\end{tabular}\n"
      ],
      "text/markdown": [
       "\n",
       "| pclass | survived | name | sex | age | sibsp | parch | ticket | fare | cabin | embarked | boat | body | home.dest |\n",
       "|---|---|---|---|---|---|---|---|---|---|---|---|---|---|\n",
       "| 1                                               | 1                                               | Allen, Miss. Elisabeth Walton                   | female                                          | 29.00                                           | 0                                               | 0                                               | 24160                                           | 211.3375                                        | B5                                              | S                                               | 2                                               |  NA                                             | St Louis, MO                                    |\n",
       "| 1                                               | 1                                               | Allison, Master. Hudson Trevor                  | male                                            |  0.92                                           | 1                                               | 2                                               | 113781                                          | 151.5500                                        | C22 C26                                         | S                                               | 11                                              |  NA                                             | Montreal, PQ / Chesterville, ON                 |\n",
       "| 1                                               | 0                                               | Allison, Miss. Helen Loraine                    | female                                          |  2.00                                           | 1                                               | 2                                               | 113781                                          | 151.5500                                        | C22 C26                                         | S                                               |                                                 |  NA                                             | Montreal, PQ / Chesterville, ON                 |\n",
       "| 1                                               | 0                                               | Allison, Mr. Hudson Joshua Creighton            | male                                            | 30.00                                           | 1                                               | 2                                               | 113781                                          | 151.5500                                        | C22 C26                                         | S                                               |                                                 | 135                                             | Montreal, PQ / Chesterville, ON                 |\n",
       "| 1                                               | 0                                               | Allison, Mrs. Hudson J C (Bessie Waldo Daniels) | female                                          | 25.00                                           | 1                                               | 2                                               | 113781                                          | 151.5500                                        | C22 C26                                         | S                                               |                                                 |  NA                                             | Montreal, PQ / Chesterville, ON                 |\n",
       "| 1                                               | 1                                               | Anderson, Mr. Harry                             | male                                            | 48.00                                           | 0                                               | 0                                               | 19952                                           |  26.5500                                        | E12                                             | S                                               | 3                                               |  NA                                             | New York, NY                                    |\n",
       "\n"
      ],
      "text/plain": [
       "  pclass survived name                                            sex    age  \n",
       "1 1      1        Allen, Miss. Elisabeth Walton                   female 29.00\n",
       "2 1      1        Allison, Master. Hudson Trevor                  male    0.92\n",
       "3 1      0        Allison, Miss. Helen Loraine                    female  2.00\n",
       "4 1      0        Allison, Mr. Hudson Joshua Creighton            male   30.00\n",
       "5 1      0        Allison, Mrs. Hudson J C (Bessie Waldo Daniels) female 25.00\n",
       "6 1      1        Anderson, Mr. Harry                             male   48.00\n",
       "  sibsp parch ticket fare     cabin   embarked boat body\n",
       "1 0     0     24160  211.3375 B5      S        2     NA \n",
       "2 1     2     113781 151.5500 C22 C26 S        11    NA \n",
       "3 1     2     113781 151.5500 C22 C26 S              NA \n",
       "4 1     2     113781 151.5500 C22 C26 S             135 \n",
       "5 1     2     113781 151.5500 C22 C26 S              NA \n",
       "6 0     0     19952   26.5500 E12     S        3     NA \n",
       "  home.dest                      \n",
       "1 St Louis, MO                   \n",
       "2 Montreal, PQ / Chesterville, ON\n",
       "3 Montreal, PQ / Chesterville, ON\n",
       "4 Montreal, PQ / Chesterville, ON\n",
       "5 Montreal, PQ / Chesterville, ON\n",
       "6 New York, NY                   "
      ]
     },
     "metadata": {},
     "output_type": "display_data"
    }
   ],
   "source": [
    "head(df)"
   ]
  },
  {
   "cell_type": "code",
   "execution_count": 5,
   "metadata": {},
   "outputs": [
    {
     "data": {
      "text/html": [
       "<ol class=list-inline>\n",
       "\t<li>1309</li>\n",
       "\t<li>14</li>\n",
       "</ol>\n"
      ],
      "text/latex": [
       "\\begin{enumerate*}\n",
       "\\item 1309\n",
       "\\item 14\n",
       "\\end{enumerate*}\n"
      ],
      "text/markdown": [
       "1. 1309\n",
       "2. 14\n",
       "\n",
       "\n"
      ],
      "text/plain": [
       "[1] 1309   14"
      ]
     },
     "metadata": {},
     "output_type": "display_data"
    }
   ],
   "source": [
    "dim(df)"
   ]
  },
  {
   "cell_type": "markdown",
   "metadata": {},
   "source": [
    "# データ抽出 (14 - 32)"
   ]
  },
  {
   "cell_type": "code",
   "execution_count": 6,
   "metadata": {},
   "outputs": [],
   "source": [
    "# 【31】\n",
    "# dfの各列の要素数の確認"
   ]
  },
  {
   "cell_type": "code",
   "execution_count": 7,
   "metadata": {},
   "outputs": [],
   "source": [
    "# 力業"
   ]
  },
  {
   "cell_type": "code",
   "execution_count": 8,
   "metadata": {},
   "outputs": [
    {
     "data": {
      "text/html": [
       "<ol class=list-inline>\n",
       "\t<li>'pclass'</li>\n",
       "\t<li>'survived'</li>\n",
       "\t<li>'name'</li>\n",
       "\t<li>'sex'</li>\n",
       "\t<li>'age'</li>\n",
       "\t<li>'sibsp'</li>\n",
       "\t<li>'parch'</li>\n",
       "\t<li>'ticket'</li>\n",
       "\t<li>'fare'</li>\n",
       "\t<li>'cabin'</li>\n",
       "\t<li>'embarked'</li>\n",
       "\t<li>'boat'</li>\n",
       "\t<li>'body'</li>\n",
       "\t<li>'home.dest'</li>\n",
       "</ol>\n"
      ],
      "text/latex": [
       "\\begin{enumerate*}\n",
       "\\item 'pclass'\n",
       "\\item 'survived'\n",
       "\\item 'name'\n",
       "\\item 'sex'\n",
       "\\item 'age'\n",
       "\\item 'sibsp'\n",
       "\\item 'parch'\n",
       "\\item 'ticket'\n",
       "\\item 'fare'\n",
       "\\item 'cabin'\n",
       "\\item 'embarked'\n",
       "\\item 'boat'\n",
       "\\item 'body'\n",
       "\\item 'home.dest'\n",
       "\\end{enumerate*}\n"
      ],
      "text/markdown": [
       "1. 'pclass'\n",
       "2. 'survived'\n",
       "3. 'name'\n",
       "4. 'sex'\n",
       "5. 'age'\n",
       "6. 'sibsp'\n",
       "7. 'parch'\n",
       "8. 'ticket'\n",
       "9. 'fare'\n",
       "10. 'cabin'\n",
       "11. 'embarked'\n",
       "12. 'boat'\n",
       "13. 'body'\n",
       "14. 'home.dest'\n",
       "\n",
       "\n"
      ],
      "text/plain": [
       " [1] \"pclass\"    \"survived\"  \"name\"      \"sex\"       \"age\"       \"sibsp\"    \n",
       " [7] \"parch\"     \"ticket\"    \"fare\"      \"cabin\"     \"embarked\"  \"boat\"     \n",
       "[13] \"body\"      \"home.dest\""
      ]
     },
     "metadata": {},
     "output_type": "display_data"
    }
   ],
   "source": [
    "colnames(df)"
   ]
  },
  {
   "cell_type": "code",
   "execution_count": 9,
   "metadata": {},
   "outputs": [
    {
     "name": "stdout",
     "output_type": "stream",
     "text": [
      "[1] \"pclass :  3\"\n",
      "[1] \"survived :  2\"\n",
      "[1] \"name :  1307\"\n",
      "[1] \"sex :  2\"\n",
      "[1] \"age :  99\"\n",
      "[1] \"sibsp :  7\"\n",
      "[1] \"parch :  8\"\n",
      "[1] \"ticket :  929\"\n",
      "[1] \"fare :  282\"\n",
      "[1] \"cabin :  187\"\n",
      "[1] \"embarked :  4\"\n",
      "[1] \"boat :  28\"\n",
      "[1] \"body :  122\"\n",
      "[1] \"home.dest :  370\"\n"
     ]
    }
   ],
   "source": [
    "# これは欠損値も１種類のデータとカウントする\n",
    "for (i in 1:14){\n",
    "    print(paste(colnames(df)[i], \": \", nrow(unique(df[i]))))\n",
    "}"
   ]
  },
  {
   "cell_type": "code",
   "execution_count": 10,
   "metadata": {},
   "outputs": [],
   "source": [
    "# Python の df.nunique() の様に一度で行う方法を誰か知りませか？"
   ]
  },
  {
   "cell_type": "code",
   "execution_count": 11,
   "metadata": {},
   "outputs": [
    {
     "data": {
      "text/html": [
       "<table>\n",
       "<thead><tr><th></th><th scope=col>embarked</th></tr></thead>\n",
       "<tbody>\n",
       "\t<tr><th scope=row>1</th><td>S</td></tr>\n",
       "\t<tr><th scope=row>10</th><td>C</td></tr>\n",
       "\t<tr><th scope=row>169</th><td> </td></tr>\n",
       "\t<tr><th scope=row>207</th><td>Q</td></tr>\n",
       "</tbody>\n",
       "</table>\n"
      ],
      "text/latex": [
       "\\begin{tabular}{r|l}\n",
       "  & embarked\\\\\n",
       "\\hline\n",
       "\t1 & S\\\\\n",
       "\t10 & C\\\\\n",
       "\t169 &  \\\\\n",
       "\t207 & Q\\\\\n",
       "\\end{tabular}\n"
      ],
      "text/markdown": [
       "\n",
       "| <!--/--> | embarked |\n",
       "|---|---|\n",
       "| 1 | S |\n",
       "| 10 | C |\n",
       "| 169 |   |\n",
       "| 207 | Q |\n",
       "\n"
      ],
      "text/plain": [
       "    embarked\n",
       "1   S       \n",
       "10  C       \n",
       "169         \n",
       "207 Q       "
      ]
     },
     "metadata": {},
     "output_type": "display_data"
    },
    {
     "name": "stdout",
     "output_type": "stream",
     "text": [
      "[1] \"S:  914\"\n",
      "[1] \"C:  270\"\n",
      "[1] \"Q:  123\"\n",
      "[1] \"NaN:  2\"\n"
     ]
    }
   ],
   "source": [
    "# 【32】\n",
    "# dfのembarked列の要素と出現回数の確認\n",
    "\n",
    "# またまた力業\n",
    "unique(df[11])\n",
    "print(paste(\"S: \", length(df[11][df[11]==\"S\"])))\n",
    "print(paste(\"C: \", length(df[11][df[11]==\"C\"])))\n",
    "print(paste(\"Q: \", length(df[11][df[11]==\"Q\"])))\n",
    "print(paste(\"NaN: \", length(df[11][df[11]==\"\"])))"
   ]
  },
  {
   "cell_type": "code",
   "execution_count": 12,
   "metadata": {},
   "outputs": [],
   "source": [
    "# Python の df['embarked'].value_counts() の様に一度で行う方法を誰か知りませか？"
   ]
  },
  {
   "cell_type": "markdown",
   "metadata": {},
   "source": [
    "# データ加工 (33 - 58)"
   ]
  },
  {
   "cell_type": "code",
   "execution_count": 13,
   "metadata": {},
   "outputs": [],
   "source": [
    "# 【33】\n",
    "# dfのindex名が「3」のage列を --> Rではindexが１から始まるので index名が「4」となる\n",
    "# 30から40に変更し、先頭の5行を表示"
   ]
  },
  {
   "cell_type": "code",
   "execution_count": 14,
   "metadata": {},
   "outputs": [
    {
     "data": {
      "text/html": [
       "<table>\n",
       "<thead><tr><th></th><th scope=col>pclass</th><th scope=col>survived</th><th scope=col>name</th><th scope=col>sex</th><th scope=col>age</th><th scope=col>sibsp</th><th scope=col>parch</th><th scope=col>ticket</th><th scope=col>fare</th><th scope=col>cabin</th><th scope=col>embarked</th><th scope=col>boat</th><th scope=col>body</th><th scope=col>home.dest</th></tr></thead>\n",
       "<tbody>\n",
       "\t<tr><th scope=row>4</th><td>1                                   </td><td>0                                   </td><td>Allison, Mr. Hudson Joshua Creighton</td><td>male                                </td><td>30                                  </td><td>1                                   </td><td>2                                   </td><td>113781                              </td><td>151.55                              </td><td>C22 C26                             </td><td>S                                   </td><td>                                    </td><td>135                                 </td><td>Montreal, PQ / Chesterville, ON     </td></tr>\n",
       "</tbody>\n",
       "</table>\n"
      ],
      "text/latex": [
       "\\begin{tabular}{r|llllllllllllll}\n",
       "  & pclass & survived & name & sex & age & sibsp & parch & ticket & fare & cabin & embarked & boat & body & home.dest\\\\\n",
       "\\hline\n",
       "\t4 & 1                                    & 0                                    & Allison, Mr. Hudson Joshua Creighton & male                                 & 30                                   & 1                                    & 2                                    & 113781                               & 151.55                               & C22 C26                              & S                                    &                                      & 135                                  & Montreal, PQ / Chesterville, ON     \\\\\n",
       "\\end{tabular}\n"
      ],
      "text/markdown": [
       "\n",
       "| <!--/--> | pclass | survived | name | sex | age | sibsp | parch | ticket | fare | cabin | embarked | boat | body | home.dest |\n",
       "|---|---|---|---|---|---|---|---|---|---|---|---|---|---|---|\n",
       "| 4 | 1                                    | 0                                    | Allison, Mr. Hudson Joshua Creighton | male                                 | 30                                   | 1                                    | 2                                    | 113781                               | 151.55                               | C22 C26                              | S                                    |                                      | 135                                  | Montreal, PQ / Chesterville, ON      |\n",
       "\n"
      ],
      "text/plain": [
       "  pclass survived name                                 sex  age sibsp parch\n",
       "4 1      0        Allison, Mr. Hudson Joshua Creighton male 30  1     2    \n",
       "  ticket fare   cabin   embarked boat body home.dest                      \n",
       "4 113781 151.55 C22 C26 S             135  Montreal, PQ / Chesterville, ON"
      ]
     },
     "metadata": {},
     "output_type": "display_data"
    }
   ],
   "source": [
    "# index「4」の行\n",
    "df[4,]"
   ]
  },
  {
   "cell_type": "code",
   "execution_count": 15,
   "metadata": {},
   "outputs": [
    {
     "data": {
      "text/html": [
       "<table>\n",
       "<thead><tr><th scope=col>pclass</th><th scope=col>survived</th><th scope=col>name</th><th scope=col>sex</th><th scope=col>age</th><th scope=col>sibsp</th><th scope=col>parch</th><th scope=col>ticket</th><th scope=col>fare</th><th scope=col>cabin</th><th scope=col>embarked</th><th scope=col>boat</th><th scope=col>body</th><th scope=col>home.dest</th></tr></thead>\n",
       "<tbody>\n",
       "\t<tr><td>1                                              </td><td>1                                              </td><td>Allen, Miss. Elisabeth Walton                  </td><td>female                                         </td><td>29                                             </td><td>0                                              </td><td>0                                              </td><td>24160                                          </td><td>211.3375                                       </td><td>B5                                             </td><td>S                                              </td><td>2                                              </td><td> NA                                            </td><td>St Louis, MO                                   </td></tr>\n",
       "\t<tr><td>1                                              </td><td>1                                              </td><td>Allison, Master. Hudson Trevor                 </td><td>male                                           </td><td>0.92                                           </td><td>1                                              </td><td>2                                              </td><td>113781                                         </td><td>151.5500                                       </td><td>C22 C26                                        </td><td>S                                              </td><td>11                                             </td><td> NA                                            </td><td>Montreal, PQ / Chesterville, ON                </td></tr>\n",
       "\t<tr><td>1                                              </td><td>0                                              </td><td>Allison, Miss. Helen Loraine                   </td><td>female                                         </td><td>2                                              </td><td>1                                              </td><td>2                                              </td><td>113781                                         </td><td>151.5500                                       </td><td>C22 C26                                        </td><td>S                                              </td><td>                                               </td><td> NA                                            </td><td>Montreal, PQ / Chesterville, ON                </td></tr>\n",
       "\t<tr><td>1                                              </td><td>0                                              </td><td>Allison, Mr. Hudson Joshua Creighton           </td><td>male                                           </td><td>40                                             </td><td>1                                              </td><td>2                                              </td><td>113781                                         </td><td>151.5500                                       </td><td>C22 C26                                        </td><td>S                                              </td><td>                                               </td><td>135                                            </td><td>Montreal, PQ / Chesterville, ON                </td></tr>\n",
       "\t<tr><td>1                                              </td><td>0                                              </td><td>Allison, Mrs. Hudson J C (Bessie Waldo Daniels)</td><td>female                                         </td><td>25                                             </td><td>1                                              </td><td>2                                              </td><td>113781                                         </td><td>151.5500                                       </td><td>C22 C26                                        </td><td>S                                              </td><td>                                               </td><td> NA                                            </td><td>Montreal, PQ / Chesterville, ON                </td></tr>\n",
       "\t<tr><td>1                                              </td><td>1                                              </td><td>Anderson, Mr. Harry                            </td><td>male                                           </td><td>48                                             </td><td>0                                              </td><td>0                                              </td><td>19952                                          </td><td> 26.5500                                       </td><td>E12                                            </td><td>S                                              </td><td>3                                              </td><td> NA                                            </td><td>New York, NY                                   </td></tr>\n",
       "</tbody>\n",
       "</table>\n"
      ],
      "text/latex": [
       "\\begin{tabular}{r|llllllllllllll}\n",
       " pclass & survived & name & sex & age & sibsp & parch & ticket & fare & cabin & embarked & boat & body & home.dest\\\\\n",
       "\\hline\n",
       "\t 1                                               & 1                                               & Allen, Miss. Elisabeth Walton                   & female                                          & 29                                              & 0                                               & 0                                               & 24160                                           & 211.3375                                        & B5                                              & S                                               & 2                                               &  NA                                             & St Louis, MO                                   \\\\\n",
       "\t 1                                               & 1                                               & Allison, Master. Hudson Trevor                  & male                                            & 0.92                                            & 1                                               & 2                                               & 113781                                          & 151.5500                                        & C22 C26                                         & S                                               & 11                                              &  NA                                             & Montreal, PQ / Chesterville, ON                \\\\\n",
       "\t 1                                               & 0                                               & Allison, Miss. Helen Loraine                    & female                                          & 2                                               & 1                                               & 2                                               & 113781                                          & 151.5500                                        & C22 C26                                         & S                                               &                                                 &  NA                                             & Montreal, PQ / Chesterville, ON                \\\\\n",
       "\t 1                                               & 0                                               & Allison, Mr. Hudson Joshua Creighton            & male                                            & 40                                              & 1                                               & 2                                               & 113781                                          & 151.5500                                        & C22 C26                                         & S                                               &                                                 & 135                                             & Montreal, PQ / Chesterville, ON                \\\\\n",
       "\t 1                                               & 0                                               & Allison, Mrs. Hudson J C (Bessie Waldo Daniels) & female                                          & 25                                              & 1                                               & 2                                               & 113781                                          & 151.5500                                        & C22 C26                                         & S                                               &                                                 &  NA                                             & Montreal, PQ / Chesterville, ON                \\\\\n",
       "\t 1                                               & 1                                               & Anderson, Mr. Harry                             & male                                            & 48                                              & 0                                               & 0                                               & 19952                                           &  26.5500                                        & E12                                             & S                                               & 3                                               &  NA                                             & New York, NY                                   \\\\\n",
       "\\end{tabular}\n"
      ],
      "text/markdown": [
       "\n",
       "| pclass | survived | name | sex | age | sibsp | parch | ticket | fare | cabin | embarked | boat | body | home.dest |\n",
       "|---|---|---|---|---|---|---|---|---|---|---|---|---|---|\n",
       "| 1                                               | 1                                               | Allen, Miss. Elisabeth Walton                   | female                                          | 29                                              | 0                                               | 0                                               | 24160                                           | 211.3375                                        | B5                                              | S                                               | 2                                               |  NA                                             | St Louis, MO                                    |\n",
       "| 1                                               | 1                                               | Allison, Master. Hudson Trevor                  | male                                            | 0.92                                            | 1                                               | 2                                               | 113781                                          | 151.5500                                        | C22 C26                                         | S                                               | 11                                              |  NA                                             | Montreal, PQ / Chesterville, ON                 |\n",
       "| 1                                               | 0                                               | Allison, Miss. Helen Loraine                    | female                                          | 2                                               | 1                                               | 2                                               | 113781                                          | 151.5500                                        | C22 C26                                         | S                                               |                                                 |  NA                                             | Montreal, PQ / Chesterville, ON                 |\n",
       "| 1                                               | 0                                               | Allison, Mr. Hudson Joshua Creighton            | male                                            | 40                                              | 1                                               | 2                                               | 113781                                          | 151.5500                                        | C22 C26                                         | S                                               |                                                 | 135                                             | Montreal, PQ / Chesterville, ON                 |\n",
       "| 1                                               | 0                                               | Allison, Mrs. Hudson J C (Bessie Waldo Daniels) | female                                          | 25                                              | 1                                               | 2                                               | 113781                                          | 151.5500                                        | C22 C26                                         | S                                               |                                                 |  NA                                             | Montreal, PQ / Chesterville, ON                 |\n",
       "| 1                                               | 1                                               | Anderson, Mr. Harry                             | male                                            | 48                                              | 0                                               | 0                                               | 19952                                           |  26.5500                                        | E12                                             | S                                               | 3                                               |  NA                                             | New York, NY                                    |\n",
       "\n"
      ],
      "text/plain": [
       "  pclass survived name                                            sex    age \n",
       "1 1      1        Allen, Miss. Elisabeth Walton                   female 29  \n",
       "2 1      1        Allison, Master. Hudson Trevor                  male   0.92\n",
       "3 1      0        Allison, Miss. Helen Loraine                    female 2   \n",
       "4 1      0        Allison, Mr. Hudson Joshua Creighton            male   40  \n",
       "5 1      0        Allison, Mrs. Hudson J C (Bessie Waldo Daniels) female 25  \n",
       "6 1      1        Anderson, Mr. Harry                             male   48  \n",
       "  sibsp parch ticket fare     cabin   embarked boat body\n",
       "1 0     0     24160  211.3375 B5      S        2     NA \n",
       "2 1     2     113781 151.5500 C22 C26 S        11    NA \n",
       "3 1     2     113781 151.5500 C22 C26 S              NA \n",
       "4 1     2     113781 151.5500 C22 C26 S             135 \n",
       "5 1     2     113781 151.5500 C22 C26 S              NA \n",
       "6 0     0     19952   26.5500 E12     S        3     NA \n",
       "  home.dest                      \n",
       "1 St Louis, MO                   \n",
       "2 Montreal, PQ / Chesterville, ON\n",
       "3 Montreal, PQ / Chesterville, ON\n",
       "4 Montreal, PQ / Chesterville, ON\n",
       "5 Montreal, PQ / Chesterville, ON\n",
       "6 New York, NY                   "
      ]
     },
     "metadata": {},
     "output_type": "display_data"
    }
   ],
   "source": [
    "# http://fujinitaka.hatenablog.com/entry/2018/07/08/022044\n",
    "df[4,][\"age\"] <- lapply(df[4,][\"age\"], gsub, pattern=\"30\", replacement = \"40\")\n",
    "head(df)"
   ]
  },
  {
   "cell_type": "code",
   "execution_count": 16,
   "metadata": {},
   "outputs": [
    {
     "data": {
      "text/html": [
       "<table>\n",
       "<thead><tr><th scope=col>pclass</th><th scope=col>survived</th><th scope=col>name</th><th scope=col>sex</th><th scope=col>age</th><th scope=col>sibsp</th><th scope=col>parch</th><th scope=col>ticket</th><th scope=col>fare</th><th scope=col>cabin</th><th scope=col>embarked</th><th scope=col>boat</th><th scope=col>body</th><th scope=col>home.dest</th></tr></thead>\n",
       "<tbody>\n",
       "\t<tr><td>1                                              </td><td>1                                              </td><td>Allen, Miss. Elisabeth Walton                  </td><td>female                                         </td><td>29                                             </td><td>0                                              </td><td>0                                              </td><td>24160                                          </td><td>211.3375                                       </td><td>B5                                             </td><td>S                                              </td><td>2                                              </td><td> NA                                            </td><td>St Louis, MO                                   </td></tr>\n",
       "\t<tr><td>1                                              </td><td>1                                              </td><td>Allison, Master. Hudson Trevor                 </td><td>male                                           </td><td>0.92                                           </td><td>1                                              </td><td>2                                              </td><td>113781                                         </td><td>151.5500                                       </td><td>C22 C26                                        </td><td>S                                              </td><td>11                                             </td><td> NA                                            </td><td>Montreal, PQ / Chesterville, ON                </td></tr>\n",
       "\t<tr><td>1                                              </td><td>0                                              </td><td>Allison, Miss. Helen Loraine                   </td><td>female                                         </td><td>2                                              </td><td>1                                              </td><td>2                                              </td><td>113781                                         </td><td>151.5500                                       </td><td>C22 C26                                        </td><td>S                                              </td><td>                                               </td><td> NA                                            </td><td>Montreal, PQ / Chesterville, ON                </td></tr>\n",
       "\t<tr><td>1                                              </td><td>0                                              </td><td>Allison, Mr. Hudson Joshua Creighton           </td><td>male                                           </td><td>40                                             </td><td>1                                              </td><td>2                                              </td><td>113781                                         </td><td>151.5500                                       </td><td>C22 C26                                        </td><td>S                                              </td><td>                                               </td><td>135                                            </td><td>Montreal, PQ / Chesterville, ON                </td></tr>\n",
       "\t<tr><td>1                                              </td><td>0                                              </td><td>Allison, Mrs. Hudson J C (Bessie Waldo Daniels)</td><td>female                                         </td><td>25                                             </td><td>1                                              </td><td>2                                              </td><td>113781                                         </td><td>151.5500                                       </td><td>C22 C26                                        </td><td>S                                              </td><td>                                               </td><td> NA                                            </td><td>Montreal, PQ / Chesterville, ON                </td></tr>\n",
       "\t<tr><td>1                                              </td><td>1                                              </td><td>Anderson, Mr. Harry                            </td><td>male                                           </td><td>48                                             </td><td>0                                              </td><td>0                                              </td><td>19952                                          </td><td> 26.5500                                       </td><td>E12                                            </td><td>S                                              </td><td>3                                              </td><td> NA                                            </td><td>New York, NY                                   </td></tr>\n",
       "</tbody>\n",
       "</table>\n"
      ],
      "text/latex": [
       "\\begin{tabular}{r|llllllllllllll}\n",
       " pclass & survived & name & sex & age & sibsp & parch & ticket & fare & cabin & embarked & boat & body & home.dest\\\\\n",
       "\\hline\n",
       "\t 1                                               & 1                                               & Allen, Miss. Elisabeth Walton                   & female                                          & 29                                              & 0                                               & 0                                               & 24160                                           & 211.3375                                        & B5                                              & S                                               & 2                                               &  NA                                             & St Louis, MO                                   \\\\\n",
       "\t 1                                               & 1                                               & Allison, Master. Hudson Trevor                  & male                                            & 0.92                                            & 1                                               & 2                                               & 113781                                          & 151.5500                                        & C22 C26                                         & S                                               & 11                                              &  NA                                             & Montreal, PQ / Chesterville, ON                \\\\\n",
       "\t 1                                               & 0                                               & Allison, Miss. Helen Loraine                    & female                                          & 2                                               & 1                                               & 2                                               & 113781                                          & 151.5500                                        & C22 C26                                         & S                                               &                                                 &  NA                                             & Montreal, PQ / Chesterville, ON                \\\\\n",
       "\t 1                                               & 0                                               & Allison, Mr. Hudson Joshua Creighton            & male                                            & 40                                              & 1                                               & 2                                               & 113781                                          & 151.5500                                        & C22 C26                                         & S                                               &                                                 & 135                                             & Montreal, PQ / Chesterville, ON                \\\\\n",
       "\t 1                                               & 0                                               & Allison, Mrs. Hudson J C (Bessie Waldo Daniels) & female                                          & 25                                              & 1                                               & 2                                               & 113781                                          & 151.5500                                        & C22 C26                                         & S                                               &                                                 &  NA                                             & Montreal, PQ / Chesterville, ON                \\\\\n",
       "\t 1                                               & 1                                               & Anderson, Mr. Harry                             & male                                            & 48                                              & 0                                               & 0                                               & 19952                                           &  26.5500                                        & E12                                             & S                                               & 3                                               &  NA                                             & New York, NY                                   \\\\\n",
       "\\end{tabular}\n"
      ],
      "text/markdown": [
       "\n",
       "| pclass | survived | name | sex | age | sibsp | parch | ticket | fare | cabin | embarked | boat | body | home.dest |\n",
       "|---|---|---|---|---|---|---|---|---|---|---|---|---|---|\n",
       "| 1                                               | 1                                               | Allen, Miss. Elisabeth Walton                   | female                                          | 29                                              | 0                                               | 0                                               | 24160                                           | 211.3375                                        | B5                                              | S                                               | 2                                               |  NA                                             | St Louis, MO                                    |\n",
       "| 1                                               | 1                                               | Allison, Master. Hudson Trevor                  | male                                            | 0.92                                            | 1                                               | 2                                               | 113781                                          | 151.5500                                        | C22 C26                                         | S                                               | 11                                              |  NA                                             | Montreal, PQ / Chesterville, ON                 |\n",
       "| 1                                               | 0                                               | Allison, Miss. Helen Loraine                    | female                                          | 2                                               | 1                                               | 2                                               | 113781                                          | 151.5500                                        | C22 C26                                         | S                                               |                                                 |  NA                                             | Montreal, PQ / Chesterville, ON                 |\n",
       "| 1                                               | 0                                               | Allison, Mr. Hudson Joshua Creighton            | male                                            | 40                                              | 1                                               | 2                                               | 113781                                          | 151.5500                                        | C22 C26                                         | S                                               |                                                 | 135                                             | Montreal, PQ / Chesterville, ON                 |\n",
       "| 1                                               | 0                                               | Allison, Mrs. Hudson J C (Bessie Waldo Daniels) | female                                          | 25                                              | 1                                               | 2                                               | 113781                                          | 151.5500                                        | C22 C26                                         | S                                               |                                                 |  NA                                             | Montreal, PQ / Chesterville, ON                 |\n",
       "| 1                                               | 1                                               | Anderson, Mr. Harry                             | male                                            | 48                                              | 0                                               | 0                                               | 19952                                           |  26.5500                                        | E12                                             | S                                               | 3                                               |  NA                                             | New York, NY                                    |\n",
       "\n"
      ],
      "text/plain": [
       "  pclass survived name                                            sex    age \n",
       "1 1      1        Allen, Miss. Elisabeth Walton                   female 29  \n",
       "2 1      1        Allison, Master. Hudson Trevor                  male   0.92\n",
       "3 1      0        Allison, Miss. Helen Loraine                    female 2   \n",
       "4 1      0        Allison, Mr. Hudson Joshua Creighton            male   40  \n",
       "5 1      0        Allison, Mrs. Hudson J C (Bessie Waldo Daniels) female 25  \n",
       "6 1      1        Anderson, Mr. Harry                             male   48  \n",
       "  sibsp parch ticket fare     cabin   embarked boat body\n",
       "1 0     0     24160  211.3375 B5      S        2     NA \n",
       "2 1     2     113781 151.5500 C22 C26 S        11    NA \n",
       "3 1     2     113781 151.5500 C22 C26 S              NA \n",
       "4 1     2     113781 151.5500 C22 C26 S             135 \n",
       "5 1     2     113781 151.5500 C22 C26 S              NA \n",
       "6 0     0     19952   26.5500 E12     S        3     NA \n",
       "  home.dest                      \n",
       "1 St Louis, MO                   \n",
       "2 Montreal, PQ / Chesterville, ON\n",
       "3 Montreal, PQ / Chesterville, ON\n",
       "4 Montreal, PQ / Chesterville, ON\n",
       "5 Montreal, PQ / Chesterville, ON\n",
       "6 New York, NY                   "
      ]
     },
     "metadata": {},
     "output_type": "display_data"
    }
   ],
   "source": [
    "# もっとシンプルにこれでよいのか。\n",
    "df <- read.csv(\"./data/titanic3.csv\", header=T)\n",
    "df[4,][\"age\"] <- \"40\"\n",
    "head(df)"
   ]
  },
  {
   "cell_type": "code",
   "execution_count": 17,
   "metadata": {},
   "outputs": [
    {
     "data": {
      "text/html": [
       "<table>\n",
       "<thead><tr><th scope=col>pclass</th><th scope=col>survived</th><th scope=col>name</th><th scope=col>sex</th><th scope=col>age</th><th scope=col>sibsp</th><th scope=col>parch</th><th scope=col>ticket</th><th scope=col>fare</th><th scope=col>cabin</th><th scope=col>embarked</th><th scope=col>boat</th><th scope=col>body</th><th scope=col>home.dest</th></tr></thead>\n",
       "<tbody>\n",
       "\t<tr><td>1                                              </td><td>1                                              </td><td>Allen, Miss. Elisabeth Walton                  </td><td>1                                              </td><td>29                                             </td><td>0                                              </td><td>0                                              </td><td>24160                                          </td><td>211.3375                                       </td><td>B5                                             </td><td>S                                              </td><td>2                                              </td><td> NA                                            </td><td>St Louis, MO                                   </td></tr>\n",
       "\t<tr><td>1                                              </td><td>1                                              </td><td>Allison, Master. Hudson Trevor                 </td><td>0                                              </td><td>0.92                                           </td><td>1                                              </td><td>2                                              </td><td>113781                                         </td><td>151.5500                                       </td><td>C22 C26                                        </td><td>S                                              </td><td>11                                             </td><td> NA                                            </td><td>Montreal, PQ / Chesterville, ON                </td></tr>\n",
       "\t<tr><td>1                                              </td><td>0                                              </td><td>Allison, Miss. Helen Loraine                   </td><td>1                                              </td><td>2                                              </td><td>1                                              </td><td>2                                              </td><td>113781                                         </td><td>151.5500                                       </td><td>C22 C26                                        </td><td>S                                              </td><td>                                               </td><td> NA                                            </td><td>Montreal, PQ / Chesterville, ON                </td></tr>\n",
       "\t<tr><td>1                                              </td><td>0                                              </td><td>Allison, Mr. Hudson Joshua Creighton           </td><td>0                                              </td><td>40                                             </td><td>1                                              </td><td>2                                              </td><td>113781                                         </td><td>151.5500                                       </td><td>C22 C26                                        </td><td>S                                              </td><td>                                               </td><td>135                                            </td><td>Montreal, PQ / Chesterville, ON                </td></tr>\n",
       "\t<tr><td>1                                              </td><td>0                                              </td><td>Allison, Mrs. Hudson J C (Bessie Waldo Daniels)</td><td>1                                              </td><td>25                                             </td><td>1                                              </td><td>2                                              </td><td>113781                                         </td><td>151.5500                                       </td><td>C22 C26                                        </td><td>S                                              </td><td>                                               </td><td> NA                                            </td><td>Montreal, PQ / Chesterville, ON                </td></tr>\n",
       "\t<tr><td>1                                              </td><td>1                                              </td><td>Anderson, Mr. Harry                            </td><td>0                                              </td><td>48                                             </td><td>0                                              </td><td>0                                              </td><td>19952                                          </td><td> 26.5500                                       </td><td>E12                                            </td><td>S                                              </td><td>3                                              </td><td> NA                                            </td><td>New York, NY                                   </td></tr>\n",
       "</tbody>\n",
       "</table>\n"
      ],
      "text/latex": [
       "\\begin{tabular}{r|llllllllllllll}\n",
       " pclass & survived & name & sex & age & sibsp & parch & ticket & fare & cabin & embarked & boat & body & home.dest\\\\\n",
       "\\hline\n",
       "\t 1                                               & 1                                               & Allen, Miss. Elisabeth Walton                   & 1                                               & 29                                              & 0                                               & 0                                               & 24160                                           & 211.3375                                        & B5                                              & S                                               & 2                                               &  NA                                             & St Louis, MO                                   \\\\\n",
       "\t 1                                               & 1                                               & Allison, Master. Hudson Trevor                  & 0                                               & 0.92                                            & 1                                               & 2                                               & 113781                                          & 151.5500                                        & C22 C26                                         & S                                               & 11                                              &  NA                                             & Montreal, PQ / Chesterville, ON                \\\\\n",
       "\t 1                                               & 0                                               & Allison, Miss. Helen Loraine                    & 1                                               & 2                                               & 1                                               & 2                                               & 113781                                          & 151.5500                                        & C22 C26                                         & S                                               &                                                 &  NA                                             & Montreal, PQ / Chesterville, ON                \\\\\n",
       "\t 1                                               & 0                                               & Allison, Mr. Hudson Joshua Creighton            & 0                                               & 40                                              & 1                                               & 2                                               & 113781                                          & 151.5500                                        & C22 C26                                         & S                                               &                                                 & 135                                             & Montreal, PQ / Chesterville, ON                \\\\\n",
       "\t 1                                               & 0                                               & Allison, Mrs. Hudson J C (Bessie Waldo Daniels) & 1                                               & 25                                              & 1                                               & 2                                               & 113781                                          & 151.5500                                        & C22 C26                                         & S                                               &                                                 &  NA                                             & Montreal, PQ / Chesterville, ON                \\\\\n",
       "\t 1                                               & 1                                               & Anderson, Mr. Harry                             & 0                                               & 48                                              & 0                                               & 0                                               & 19952                                           &  26.5500                                        & E12                                             & S                                               & 3                                               &  NA                                             & New York, NY                                   \\\\\n",
       "\\end{tabular}\n"
      ],
      "text/markdown": [
       "\n",
       "| pclass | survived | name | sex | age | sibsp | parch | ticket | fare | cabin | embarked | boat | body | home.dest |\n",
       "|---|---|---|---|---|---|---|---|---|---|---|---|---|---|\n",
       "| 1                                               | 1                                               | Allen, Miss. Elisabeth Walton                   | 1                                               | 29                                              | 0                                               | 0                                               | 24160                                           | 211.3375                                        | B5                                              | S                                               | 2                                               |  NA                                             | St Louis, MO                                    |\n",
       "| 1                                               | 1                                               | Allison, Master. Hudson Trevor                  | 0                                               | 0.92                                            | 1                                               | 2                                               | 113781                                          | 151.5500                                        | C22 C26                                         | S                                               | 11                                              |  NA                                             | Montreal, PQ / Chesterville, ON                 |\n",
       "| 1                                               | 0                                               | Allison, Miss. Helen Loraine                    | 1                                               | 2                                               | 1                                               | 2                                               | 113781                                          | 151.5500                                        | C22 C26                                         | S                                               |                                                 |  NA                                             | Montreal, PQ / Chesterville, ON                 |\n",
       "| 1                                               | 0                                               | Allison, Mr. Hudson Joshua Creighton            | 0                                               | 40                                              | 1                                               | 2                                               | 113781                                          | 151.5500                                        | C22 C26                                         | S                                               |                                                 | 135                                             | Montreal, PQ / Chesterville, ON                 |\n",
       "| 1                                               | 0                                               | Allison, Mrs. Hudson J C (Bessie Waldo Daniels) | 1                                               | 25                                              | 1                                               | 2                                               | 113781                                          | 151.5500                                        | C22 C26                                         | S                                               |                                                 |  NA                                             | Montreal, PQ / Chesterville, ON                 |\n",
       "| 1                                               | 1                                               | Anderson, Mr. Harry                             | 0                                               | 48                                              | 0                                               | 0                                               | 19952                                           |  26.5500                                        | E12                                             | S                                               | 3                                               |  NA                                             | New York, NY                                    |\n",
       "\n"
      ],
      "text/plain": [
       "  pclass survived name                                            sex age \n",
       "1 1      1        Allen, Miss. Elisabeth Walton                   1   29  \n",
       "2 1      1        Allison, Master. Hudson Trevor                  0   0.92\n",
       "3 1      0        Allison, Miss. Helen Loraine                    1   2   \n",
       "4 1      0        Allison, Mr. Hudson Joshua Creighton            0   40  \n",
       "5 1      0        Allison, Mrs. Hudson J C (Bessie Waldo Daniels) 1   25  \n",
       "6 1      1        Anderson, Mr. Harry                             0   48  \n",
       "  sibsp parch ticket fare     cabin   embarked boat body\n",
       "1 0     0     24160  211.3375 B5      S        2     NA \n",
       "2 1     2     113781 151.5500 C22 C26 S        11    NA \n",
       "3 1     2     113781 151.5500 C22 C26 S              NA \n",
       "4 1     2     113781 151.5500 C22 C26 S             135 \n",
       "5 1     2     113781 151.5500 C22 C26 S              NA \n",
       "6 0     0     19952   26.5500 E12     S        3     NA \n",
       "  home.dest                      \n",
       "1 St Louis, MO                   \n",
       "2 Montreal, PQ / Chesterville, ON\n",
       "3 Montreal, PQ / Chesterville, ON\n",
       "4 Montreal, PQ / Chesterville, ON\n",
       "5 Montreal, PQ / Chesterville, ON\n",
       "6 New York, NY                   "
      ]
     },
     "metadata": {},
     "output_type": "display_data"
    }
   ],
   "source": [
    "# 【34】\n",
    "# dfのsex列にてmale→0、femlae→1に\n",
    "# 変更し、先頭の5行を表示\n",
    "\n",
    "# http://fujinitaka.hatenablog.com/entry/2018/07/08/022044\n",
    "df[\"sex\"] <- lapply(df[\"sex\"], gsub, pattern=\"female\", replacement = \"1\") # maleを先にすると\"female\"の一部も置換してしまう\n",
    "df[\"sex\"] <- lapply(df[\"sex\"], gsub, pattern=\"male\", replacement = \"0\")\n",
    "head(df)"
   ]
  },
  {
   "cell_type": "code",
   "execution_count": 18,
   "metadata": {},
   "outputs": [
    {
     "name": "stderr",
     "output_type": "stream",
     "text": [
      "Warning message:\n",
      "\"package 'dplyr' was built under R version 3.6.3\"\n",
      "Attaching package: 'dplyr'\n",
      "\n",
      "The following objects are masked from 'package:stats':\n",
      "\n",
      "    filter, lag\n",
      "\n",
      "The following objects are masked from 'package:base':\n",
      "\n",
      "    intersect, setdiff, setequal, union\n",
      "\n",
      "Warning message:\n",
      "\"package 'stringr' was built under R version 3.6.3\""
     ]
    },
    {
     "data": {
      "text/html": [
       "<table>\n",
       "<thead><tr><th scope=col>pclass</th><th scope=col>survived</th><th scope=col>name</th><th scope=col>sex</th><th scope=col>age</th><th scope=col>sibsp</th><th scope=col>parch</th><th scope=col>ticket</th><th scope=col>fare</th><th scope=col>cabin</th><th scope=col>embarked</th><th scope=col>boat</th><th scope=col>body</th><th scope=col>home.dest</th></tr></thead>\n",
       "<tbody>\n",
       "\t<tr><td>1                                              </td><td>1                                              </td><td>Allen, Miss. Elisabeth Walton                  </td><td>1                                              </td><td>29.00                                          </td><td>0                                              </td><td>0                                              </td><td>24160                                          </td><td>211.3375                                       </td><td>B5                                             </td><td>S                                              </td><td>2                                              </td><td> NA                                            </td><td>St Louis, MO                                   </td></tr>\n",
       "\t<tr><td>1                                              </td><td>1                                              </td><td>Allison, Master. Hudson Trevor                 </td><td>0                                              </td><td> 0.92                                          </td><td>1                                              </td><td>2                                              </td><td>113781                                         </td><td>151.5500                                       </td><td>C22 C26                                        </td><td>S                                              </td><td>11                                             </td><td> NA                                            </td><td>Montreal, PQ / Chesterville, ON                </td></tr>\n",
       "\t<tr><td>1                                              </td><td>0                                              </td><td>Allison, Miss. Helen Loraine                   </td><td>1                                              </td><td> 2.00                                          </td><td>1                                              </td><td>2                                              </td><td>113781                                         </td><td>151.5500                                       </td><td>C22 C26                                        </td><td>S                                              </td><td>                                               </td><td> NA                                            </td><td>Montreal, PQ / Chesterville, ON                </td></tr>\n",
       "\t<tr><td>1                                              </td><td>0                                              </td><td>Allison, Mr. Hudson Joshua Creighton           </td><td>0                                              </td><td>30.00                                          </td><td>1                                              </td><td>2                                              </td><td>113781                                         </td><td>151.5500                                       </td><td>C22 C26                                        </td><td>S                                              </td><td>                                               </td><td>135                                            </td><td>Montreal, PQ / Chesterville, ON                </td></tr>\n",
       "\t<tr><td>1                                              </td><td>0                                              </td><td>Allison, Mrs. Hudson J C (Bessie Waldo Daniels)</td><td>1                                              </td><td>25.00                                          </td><td>1                                              </td><td>2                                              </td><td>113781                                         </td><td>151.5500                                       </td><td>C22 C26                                        </td><td>S                                              </td><td>                                               </td><td> NA                                            </td><td>Montreal, PQ / Chesterville, ON                </td></tr>\n",
       "\t<tr><td>1                                              </td><td>1                                              </td><td>Anderson, Mr. Harry                            </td><td>0                                              </td><td>48.00                                          </td><td>0                                              </td><td>0                                              </td><td>19952                                          </td><td> 26.5500                                       </td><td>E12                                            </td><td>S                                              </td><td>3                                              </td><td> NA                                            </td><td>New York, NY                                   </td></tr>\n",
       "</tbody>\n",
       "</table>\n"
      ],
      "text/latex": [
       "\\begin{tabular}{r|llllllllllllll}\n",
       " pclass & survived & name & sex & age & sibsp & parch & ticket & fare & cabin & embarked & boat & body & home.dest\\\\\n",
       "\\hline\n",
       "\t 1                                               & 1                                               & Allen, Miss. Elisabeth Walton                   & 1                                               & 29.00                                           & 0                                               & 0                                               & 24160                                           & 211.3375                                        & B5                                              & S                                               & 2                                               &  NA                                             & St Louis, MO                                   \\\\\n",
       "\t 1                                               & 1                                               & Allison, Master. Hudson Trevor                  & 0                                               &  0.92                                           & 1                                               & 2                                               & 113781                                          & 151.5500                                        & C22 C26                                         & S                                               & 11                                              &  NA                                             & Montreal, PQ / Chesterville, ON                \\\\\n",
       "\t 1                                               & 0                                               & Allison, Miss. Helen Loraine                    & 1                                               &  2.00                                           & 1                                               & 2                                               & 113781                                          & 151.5500                                        & C22 C26                                         & S                                               &                                                 &  NA                                             & Montreal, PQ / Chesterville, ON                \\\\\n",
       "\t 1                                               & 0                                               & Allison, Mr. Hudson Joshua Creighton            & 0                                               & 30.00                                           & 1                                               & 2                                               & 113781                                          & 151.5500                                        & C22 C26                                         & S                                               &                                                 & 135                                             & Montreal, PQ / Chesterville, ON                \\\\\n",
       "\t 1                                               & 0                                               & Allison, Mrs. Hudson J C (Bessie Waldo Daniels) & 1                                               & 25.00                                           & 1                                               & 2                                               & 113781                                          & 151.5500                                        & C22 C26                                         & S                                               &                                                 &  NA                                             & Montreal, PQ / Chesterville, ON                \\\\\n",
       "\t 1                                               & 1                                               & Anderson, Mr. Harry                             & 0                                               & 48.00                                           & 0                                               & 0                                               & 19952                                           &  26.5500                                        & E12                                             & S                                               & 3                                               &  NA                                             & New York, NY                                   \\\\\n",
       "\\end{tabular}\n"
      ],
      "text/markdown": [
       "\n",
       "| pclass | survived | name | sex | age | sibsp | parch | ticket | fare | cabin | embarked | boat | body | home.dest |\n",
       "|---|---|---|---|---|---|---|---|---|---|---|---|---|---|\n",
       "| 1                                               | 1                                               | Allen, Miss. Elisabeth Walton                   | 1                                               | 29.00                                           | 0                                               | 0                                               | 24160                                           | 211.3375                                        | B5                                              | S                                               | 2                                               |  NA                                             | St Louis, MO                                    |\n",
       "| 1                                               | 1                                               | Allison, Master. Hudson Trevor                  | 0                                               |  0.92                                           | 1                                               | 2                                               | 113781                                          | 151.5500                                        | C22 C26                                         | S                                               | 11                                              |  NA                                             | Montreal, PQ / Chesterville, ON                 |\n",
       "| 1                                               | 0                                               | Allison, Miss. Helen Loraine                    | 1                                               |  2.00                                           | 1                                               | 2                                               | 113781                                          | 151.5500                                        | C22 C26                                         | S                                               |                                                 |  NA                                             | Montreal, PQ / Chesterville, ON                 |\n",
       "| 1                                               | 0                                               | Allison, Mr. Hudson Joshua Creighton            | 0                                               | 30.00                                           | 1                                               | 2                                               | 113781                                          | 151.5500                                        | C22 C26                                         | S                                               |                                                 | 135                                             | Montreal, PQ / Chesterville, ON                 |\n",
       "| 1                                               | 0                                               | Allison, Mrs. Hudson J C (Bessie Waldo Daniels) | 1                                               | 25.00                                           | 1                                               | 2                                               | 113781                                          | 151.5500                                        | C22 C26                                         | S                                               |                                                 |  NA                                             | Montreal, PQ / Chesterville, ON                 |\n",
       "| 1                                               | 1                                               | Anderson, Mr. Harry                             | 0                                               | 48.00                                           | 0                                               | 0                                               | 19952                                           |  26.5500                                        | E12                                             | S                                               | 3                                               |  NA                                             | New York, NY                                    |\n",
       "\n"
      ],
      "text/plain": [
       "  pclass survived name                                            sex age  \n",
       "1 1      1        Allen, Miss. Elisabeth Walton                   1   29.00\n",
       "2 1      1        Allison, Master. Hudson Trevor                  0    0.92\n",
       "3 1      0        Allison, Miss. Helen Loraine                    1    2.00\n",
       "4 1      0        Allison, Mr. Hudson Joshua Creighton            0   30.00\n",
       "5 1      0        Allison, Mrs. Hudson J C (Bessie Waldo Daniels) 1   25.00\n",
       "6 1      1        Anderson, Mr. Harry                             0   48.00\n",
       "  sibsp parch ticket fare     cabin   embarked boat body\n",
       "1 0     0     24160  211.3375 B5      S        2     NA \n",
       "2 1     2     113781 151.5500 C22 C26 S        11    NA \n",
       "3 1     2     113781 151.5500 C22 C26 S              NA \n",
       "4 1     2     113781 151.5500 C22 C26 S             135 \n",
       "5 1     2     113781 151.5500 C22 C26 S              NA \n",
       "6 0     0     19952   26.5500 E12     S        3     NA \n",
       "  home.dest                      \n",
       "1 St Louis, MO                   \n",
       "2 Montreal, PQ / Chesterville, ON\n",
       "3 Montreal, PQ / Chesterville, ON\n",
       "4 Montreal, PQ / Chesterville, ON\n",
       "5 Montreal, PQ / Chesterville, ON\n",
       "6 New York, NY                   "
      ]
     },
     "metadata": {},
     "output_type": "display_data"
    }
   ],
   "source": [
    "# dplyrを使う方法 --> Python の Pandas に比べると複雑だな\n",
    "library(dplyr)\n",
    "library(stringr)\n",
    "df <- read.csv(\"./data/titanic3.csv\", header=T)\n",
    "df <- dplyr::mutate(df,sex=gsub(sex,pattern=\"female\",replacement = \"1\", ignore.case = TRUE))\n",
    "df <- dplyr::mutate(df,sex=gsub(sex,pattern=\"male\",replacement = \"0\", ignore.case = TRUE))\n",
    "head(df)"
   ]
  },
  {
   "cell_type": "code",
   "execution_count": 19,
   "metadata": {},
   "outputs": [
    {
     "data": {
      "text/html": [
       "<table>\n",
       "<thead><tr><th scope=col>pclass</th><th scope=col>survived</th><th scope=col>name</th><th scope=col>sex</th><th scope=col>age</th><th scope=col>sibsp</th><th scope=col>parch</th><th scope=col>ticket</th><th scope=col>fare</th><th scope=col>cabin</th><th scope=col>embarked</th><th scope=col>boat</th><th scope=col>body</th><th scope=col>home.dest</th></tr></thead>\n",
       "<tbody>\n",
       "\t<tr><td>1                                              </td><td>1                                              </td><td>Allen, Miss. Elisabeth Walton                  </td><td>1                                              </td><td>29.00                                          </td><td>0                                              </td><td>0                                              </td><td>24160                                          </td><td>311.3375                                       </td><td>B5                                             </td><td>S                                              </td><td>2                                              </td><td> NA                                            </td><td>St Louis, MO                                   </td></tr>\n",
       "\t<tr><td>1                                              </td><td>1                                              </td><td>Allison, Master. Hudson Trevor                 </td><td>0                                              </td><td> 0.92                                          </td><td>1                                              </td><td>2                                              </td><td>113781                                         </td><td>251.5500                                       </td><td>C22 C26                                        </td><td>S                                              </td><td>11                                             </td><td> NA                                            </td><td>Montreal, PQ / Chesterville, ON                </td></tr>\n",
       "\t<tr><td>1                                              </td><td>0                                              </td><td>Allison, Miss. Helen Loraine                   </td><td>1                                              </td><td> 2.00                                          </td><td>1                                              </td><td>2                                              </td><td>113781                                         </td><td>251.5500                                       </td><td>C22 C26                                        </td><td>S                                              </td><td>                                               </td><td> NA                                            </td><td>Montreal, PQ / Chesterville, ON                </td></tr>\n",
       "\t<tr><td>1                                              </td><td>0                                              </td><td>Allison, Mr. Hudson Joshua Creighton           </td><td>0                                              </td><td>30.00                                          </td><td>1                                              </td><td>2                                              </td><td>113781                                         </td><td>251.5500                                       </td><td>C22 C26                                        </td><td>S                                              </td><td>                                               </td><td>135                                            </td><td>Montreal, PQ / Chesterville, ON                </td></tr>\n",
       "\t<tr><td>1                                              </td><td>0                                              </td><td>Allison, Mrs. Hudson J C (Bessie Waldo Daniels)</td><td>1                                              </td><td>25.00                                          </td><td>1                                              </td><td>2                                              </td><td>113781                                         </td><td>251.5500                                       </td><td>C22 C26                                        </td><td>S                                              </td><td>                                               </td><td> NA                                            </td><td>Montreal, PQ / Chesterville, ON                </td></tr>\n",
       "\t<tr><td>1                                              </td><td>1                                              </td><td>Anderson, Mr. Harry                            </td><td>0                                              </td><td>48.00                                          </td><td>0                                              </td><td>0                                              </td><td>19952                                          </td><td>126.5500                                       </td><td>E12                                            </td><td>S                                              </td><td>3                                              </td><td> NA                                            </td><td>New York, NY                                   </td></tr>\n",
       "</tbody>\n",
       "</table>\n"
      ],
      "text/latex": [
       "\\begin{tabular}{r|llllllllllllll}\n",
       " pclass & survived & name & sex & age & sibsp & parch & ticket & fare & cabin & embarked & boat & body & home.dest\\\\\n",
       "\\hline\n",
       "\t 1                                               & 1                                               & Allen, Miss. Elisabeth Walton                   & 1                                               & 29.00                                           & 0                                               & 0                                               & 24160                                           & 311.3375                                        & B5                                              & S                                               & 2                                               &  NA                                             & St Louis, MO                                   \\\\\n",
       "\t 1                                               & 1                                               & Allison, Master. Hudson Trevor                  & 0                                               &  0.92                                           & 1                                               & 2                                               & 113781                                          & 251.5500                                        & C22 C26                                         & S                                               & 11                                              &  NA                                             & Montreal, PQ / Chesterville, ON                \\\\\n",
       "\t 1                                               & 0                                               & Allison, Miss. Helen Loraine                    & 1                                               &  2.00                                           & 1                                               & 2                                               & 113781                                          & 251.5500                                        & C22 C26                                         & S                                               &                                                 &  NA                                             & Montreal, PQ / Chesterville, ON                \\\\\n",
       "\t 1                                               & 0                                               & Allison, Mr. Hudson Joshua Creighton            & 0                                               & 30.00                                           & 1                                               & 2                                               & 113781                                          & 251.5500                                        & C22 C26                                         & S                                               &                                                 & 135                                             & Montreal, PQ / Chesterville, ON                \\\\\n",
       "\t 1                                               & 0                                               & Allison, Mrs. Hudson J C (Bessie Waldo Daniels) & 1                                               & 25.00                                           & 1                                               & 2                                               & 113781                                          & 251.5500                                        & C22 C26                                         & S                                               &                                                 &  NA                                             & Montreal, PQ / Chesterville, ON                \\\\\n",
       "\t 1                                               & 1                                               & Anderson, Mr. Harry                             & 0                                               & 48.00                                           & 0                                               & 0                                               & 19952                                           & 126.5500                                        & E12                                             & S                                               & 3                                               &  NA                                             & New York, NY                                   \\\\\n",
       "\\end{tabular}\n"
      ],
      "text/markdown": [
       "\n",
       "| pclass | survived | name | sex | age | sibsp | parch | ticket | fare | cabin | embarked | boat | body | home.dest |\n",
       "|---|---|---|---|---|---|---|---|---|---|---|---|---|---|\n",
       "| 1                                               | 1                                               | Allen, Miss. Elisabeth Walton                   | 1                                               | 29.00                                           | 0                                               | 0                                               | 24160                                           | 311.3375                                        | B5                                              | S                                               | 2                                               |  NA                                             | St Louis, MO                                    |\n",
       "| 1                                               | 1                                               | Allison, Master. Hudson Trevor                  | 0                                               |  0.92                                           | 1                                               | 2                                               | 113781                                          | 251.5500                                        | C22 C26                                         | S                                               | 11                                              |  NA                                             | Montreal, PQ / Chesterville, ON                 |\n",
       "| 1                                               | 0                                               | Allison, Miss. Helen Loraine                    | 1                                               |  2.00                                           | 1                                               | 2                                               | 113781                                          | 251.5500                                        | C22 C26                                         | S                                               |                                                 |  NA                                             | Montreal, PQ / Chesterville, ON                 |\n",
       "| 1                                               | 0                                               | Allison, Mr. Hudson Joshua Creighton            | 0                                               | 30.00                                           | 1                                               | 2                                               | 113781                                          | 251.5500                                        | C22 C26                                         | S                                               |                                                 | 135                                             | Montreal, PQ / Chesterville, ON                 |\n",
       "| 1                                               | 0                                               | Allison, Mrs. Hudson J C (Bessie Waldo Daniels) | 1                                               | 25.00                                           | 1                                               | 2                                               | 113781                                          | 251.5500                                        | C22 C26                                         | S                                               |                                                 |  NA                                             | Montreal, PQ / Chesterville, ON                 |\n",
       "| 1                                               | 1                                               | Anderson, Mr. Harry                             | 0                                               | 48.00                                           | 0                                               | 0                                               | 19952                                           | 126.5500                                        | E12                                             | S                                               | 3                                               |  NA                                             | New York, NY                                    |\n",
       "\n"
      ],
      "text/plain": [
       "  pclass survived name                                            sex age  \n",
       "1 1      1        Allen, Miss. Elisabeth Walton                   1   29.00\n",
       "2 1      1        Allison, Master. Hudson Trevor                  0    0.92\n",
       "3 1      0        Allison, Miss. Helen Loraine                    1    2.00\n",
       "4 1      0        Allison, Mr. Hudson Joshua Creighton            0   30.00\n",
       "5 1      0        Allison, Mrs. Hudson J C (Bessie Waldo Daniels) 1   25.00\n",
       "6 1      1        Anderson, Mr. Harry                             0   48.00\n",
       "  sibsp parch ticket fare     cabin   embarked boat body\n",
       "1 0     0     24160  311.3375 B5      S        2     NA \n",
       "2 1     2     113781 251.5500 C22 C26 S        11    NA \n",
       "3 1     2     113781 251.5500 C22 C26 S              NA \n",
       "4 1     2     113781 251.5500 C22 C26 S             135 \n",
       "5 1     2     113781 251.5500 C22 C26 S              NA \n",
       "6 0     0     19952  126.5500 E12     S        3     NA \n",
       "  home.dest                      \n",
       "1 St Louis, MO                   \n",
       "2 Montreal, PQ / Chesterville, ON\n",
       "3 Montreal, PQ / Chesterville, ON\n",
       "4 Montreal, PQ / Chesterville, ON\n",
       "5 Montreal, PQ / Chesterville, ON\n",
       "6 New York, NY                   "
      ]
     },
     "metadata": {},
     "output_type": "display_data"
    }
   ],
   "source": [
    "# 【35】\n",
    "# dfのfare列に100を足して、\n",
    "# 先頭の5行を表示\n",
    "\n",
    "df[\"fare\"] <- df[\"fare\"] + 100\n",
    "head(df)"
   ]
  },
  {
   "cell_type": "code",
   "execution_count": 20,
   "metadata": {},
   "outputs": [
    {
     "data": {
      "text/html": [
       "<table>\n",
       "<thead><tr><th scope=col>pclass</th><th scope=col>survived</th><th scope=col>name</th><th scope=col>sex</th><th scope=col>age</th><th scope=col>sibsp</th><th scope=col>parch</th><th scope=col>ticket</th><th scope=col>fare</th><th scope=col>cabin</th><th scope=col>embarked</th><th scope=col>boat</th><th scope=col>body</th><th scope=col>home.dest</th></tr></thead>\n",
       "<tbody>\n",
       "\t<tr><td>1                                              </td><td>1                                              </td><td>Allen, Miss. Elisabeth Walton                  </td><td>1                                              </td><td>29.00                                          </td><td>0                                              </td><td>0                                              </td><td>24160                                          </td><td>622.675                                        </td><td>B5                                             </td><td>S                                              </td><td>2                                              </td><td> NA                                            </td><td>St Louis, MO                                   </td></tr>\n",
       "\t<tr><td>1                                              </td><td>1                                              </td><td>Allison, Master. Hudson Trevor                 </td><td>0                                              </td><td> 0.92                                          </td><td>1                                              </td><td>2                                              </td><td>113781                                         </td><td>503.100                                        </td><td>C22 C26                                        </td><td>S                                              </td><td>11                                             </td><td> NA                                            </td><td>Montreal, PQ / Chesterville, ON                </td></tr>\n",
       "\t<tr><td>1                                              </td><td>0                                              </td><td>Allison, Miss. Helen Loraine                   </td><td>1                                              </td><td> 2.00                                          </td><td>1                                              </td><td>2                                              </td><td>113781                                         </td><td>503.100                                        </td><td>C22 C26                                        </td><td>S                                              </td><td>                                               </td><td> NA                                            </td><td>Montreal, PQ / Chesterville, ON                </td></tr>\n",
       "\t<tr><td>1                                              </td><td>0                                              </td><td>Allison, Mr. Hudson Joshua Creighton           </td><td>0                                              </td><td>30.00                                          </td><td>1                                              </td><td>2                                              </td><td>113781                                         </td><td>503.100                                        </td><td>C22 C26                                        </td><td>S                                              </td><td>                                               </td><td>135                                            </td><td>Montreal, PQ / Chesterville, ON                </td></tr>\n",
       "\t<tr><td>1                                              </td><td>0                                              </td><td>Allison, Mrs. Hudson J C (Bessie Waldo Daniels)</td><td>1                                              </td><td>25.00                                          </td><td>1                                              </td><td>2                                              </td><td>113781                                         </td><td>503.100                                        </td><td>C22 C26                                        </td><td>S                                              </td><td>                                               </td><td> NA                                            </td><td>Montreal, PQ / Chesterville, ON                </td></tr>\n",
       "\t<tr><td>1                                              </td><td>1                                              </td><td>Anderson, Mr. Harry                            </td><td>0                                              </td><td>48.00                                          </td><td>0                                              </td><td>0                                              </td><td>19952                                          </td><td>253.100                                        </td><td>E12                                            </td><td>S                                              </td><td>3                                              </td><td> NA                                            </td><td>New York, NY                                   </td></tr>\n",
       "</tbody>\n",
       "</table>\n"
      ],
      "text/latex": [
       "\\begin{tabular}{r|llllllllllllll}\n",
       " pclass & survived & name & sex & age & sibsp & parch & ticket & fare & cabin & embarked & boat & body & home.dest\\\\\n",
       "\\hline\n",
       "\t 1                                               & 1                                               & Allen, Miss. Elisabeth Walton                   & 1                                               & 29.00                                           & 0                                               & 0                                               & 24160                                           & 622.675                                         & B5                                              & S                                               & 2                                               &  NA                                             & St Louis, MO                                   \\\\\n",
       "\t 1                                               & 1                                               & Allison, Master. Hudson Trevor                  & 0                                               &  0.92                                           & 1                                               & 2                                               & 113781                                          & 503.100                                         & C22 C26                                         & S                                               & 11                                              &  NA                                             & Montreal, PQ / Chesterville, ON                \\\\\n",
       "\t 1                                               & 0                                               & Allison, Miss. Helen Loraine                    & 1                                               &  2.00                                           & 1                                               & 2                                               & 113781                                          & 503.100                                         & C22 C26                                         & S                                               &                                                 &  NA                                             & Montreal, PQ / Chesterville, ON                \\\\\n",
       "\t 1                                               & 0                                               & Allison, Mr. Hudson Joshua Creighton            & 0                                               & 30.00                                           & 1                                               & 2                                               & 113781                                          & 503.100                                         & C22 C26                                         & S                                               &                                                 & 135                                             & Montreal, PQ / Chesterville, ON                \\\\\n",
       "\t 1                                               & 0                                               & Allison, Mrs. Hudson J C (Bessie Waldo Daniels) & 1                                               & 25.00                                           & 1                                               & 2                                               & 113781                                          & 503.100                                         & C22 C26                                         & S                                               &                                                 &  NA                                             & Montreal, PQ / Chesterville, ON                \\\\\n",
       "\t 1                                               & 1                                               & Anderson, Mr. Harry                             & 0                                               & 48.00                                           & 0                                               & 0                                               & 19952                                           & 253.100                                         & E12                                             & S                                               & 3                                               &  NA                                             & New York, NY                                   \\\\\n",
       "\\end{tabular}\n"
      ],
      "text/markdown": [
       "\n",
       "| pclass | survived | name | sex | age | sibsp | parch | ticket | fare | cabin | embarked | boat | body | home.dest |\n",
       "|---|---|---|---|---|---|---|---|---|---|---|---|---|---|\n",
       "| 1                                               | 1                                               | Allen, Miss. Elisabeth Walton                   | 1                                               | 29.00                                           | 0                                               | 0                                               | 24160                                           | 622.675                                         | B5                                              | S                                               | 2                                               |  NA                                             | St Louis, MO                                    |\n",
       "| 1                                               | 1                                               | Allison, Master. Hudson Trevor                  | 0                                               |  0.92                                           | 1                                               | 2                                               | 113781                                          | 503.100                                         | C22 C26                                         | S                                               | 11                                              |  NA                                             | Montreal, PQ / Chesterville, ON                 |\n",
       "| 1                                               | 0                                               | Allison, Miss. Helen Loraine                    | 1                                               |  2.00                                           | 1                                               | 2                                               | 113781                                          | 503.100                                         | C22 C26                                         | S                                               |                                                 |  NA                                             | Montreal, PQ / Chesterville, ON                 |\n",
       "| 1                                               | 0                                               | Allison, Mr. Hudson Joshua Creighton            | 0                                               | 30.00                                           | 1                                               | 2                                               | 113781                                          | 503.100                                         | C22 C26                                         | S                                               |                                                 | 135                                             | Montreal, PQ / Chesterville, ON                 |\n",
       "| 1                                               | 0                                               | Allison, Mrs. Hudson J C (Bessie Waldo Daniels) | 1                                               | 25.00                                           | 1                                               | 2                                               | 113781                                          | 503.100                                         | C22 C26                                         | S                                               |                                                 |  NA                                             | Montreal, PQ / Chesterville, ON                 |\n",
       "| 1                                               | 1                                               | Anderson, Mr. Harry                             | 0                                               | 48.00                                           | 0                                               | 0                                               | 19952                                           | 253.100                                         | E12                                             | S                                               | 3                                               |  NA                                             | New York, NY                                    |\n",
       "\n"
      ],
      "text/plain": [
       "  pclass survived name                                            sex age  \n",
       "1 1      1        Allen, Miss. Elisabeth Walton                   1   29.00\n",
       "2 1      1        Allison, Master. Hudson Trevor                  0    0.92\n",
       "3 1      0        Allison, Miss. Helen Loraine                    1    2.00\n",
       "4 1      0        Allison, Mr. Hudson Joshua Creighton            0   30.00\n",
       "5 1      0        Allison, Mrs. Hudson J C (Bessie Waldo Daniels) 1   25.00\n",
       "6 1      1        Anderson, Mr. Harry                             0   48.00\n",
       "  sibsp parch ticket fare    cabin   embarked boat body\n",
       "1 0     0     24160  622.675 B5      S        2     NA \n",
       "2 1     2     113781 503.100 C22 C26 S        11    NA \n",
       "3 1     2     113781 503.100 C22 C26 S              NA \n",
       "4 1     2     113781 503.100 C22 C26 S             135 \n",
       "5 1     2     113781 503.100 C22 C26 S              NA \n",
       "6 0     0     19952  253.100 E12     S        3     NA \n",
       "  home.dest                      \n",
       "1 St Louis, MO                   \n",
       "2 Montreal, PQ / Chesterville, ON\n",
       "3 Montreal, PQ / Chesterville, ON\n",
       "4 Montreal, PQ / Chesterville, ON\n",
       "5 Montreal, PQ / Chesterville, ON\n",
       "6 New York, NY                   "
      ]
     },
     "metadata": {},
     "output_type": "display_data"
    }
   ],
   "source": [
    "# 【36】\n",
    "# dfのfare列を2を掛けて、\n",
    "# 先頭の5行を表示\n",
    "\n",
    "df[\"fare\"] <- df[\"fare\"] * 2\n",
    "head(df)"
   ]
  },
  {
   "cell_type": "code",
   "execution_count": 21,
   "metadata": {},
   "outputs": [
    {
     "data": {
      "text/html": [
       "<table>\n",
       "<thead><tr><th scope=col>pclass</th><th scope=col>survived</th><th scope=col>name</th><th scope=col>sex</th><th scope=col>age</th><th scope=col>sibsp</th><th scope=col>parch</th><th scope=col>ticket</th><th scope=col>fare</th><th scope=col>cabin</th><th scope=col>embarked</th><th scope=col>boat</th><th scope=col>body</th><th scope=col>home.dest</th></tr></thead>\n",
       "<tbody>\n",
       "\t<tr><td>1                                              </td><td>1                                              </td><td>Allen, Miss. Elisabeth Walton                  </td><td>1                                              </td><td>29.00                                          </td><td>0                                              </td><td>0                                              </td><td>24160                                          </td><td>623                                            </td><td>B5                                             </td><td>S                                              </td><td>2                                              </td><td> NA                                            </td><td>St Louis, MO                                   </td></tr>\n",
       "\t<tr><td>1                                              </td><td>1                                              </td><td>Allison, Master. Hudson Trevor                 </td><td>0                                              </td><td> 0.92                                          </td><td>1                                              </td><td>2                                              </td><td>113781                                         </td><td>503                                            </td><td>C22 C26                                        </td><td>S                                              </td><td>11                                             </td><td> NA                                            </td><td>Montreal, PQ / Chesterville, ON                </td></tr>\n",
       "\t<tr><td>1                                              </td><td>0                                              </td><td>Allison, Miss. Helen Loraine                   </td><td>1                                              </td><td> 2.00                                          </td><td>1                                              </td><td>2                                              </td><td>113781                                         </td><td>503                                            </td><td>C22 C26                                        </td><td>S                                              </td><td>                                               </td><td> NA                                            </td><td>Montreal, PQ / Chesterville, ON                </td></tr>\n",
       "\t<tr><td>1                                              </td><td>0                                              </td><td>Allison, Mr. Hudson Joshua Creighton           </td><td>0                                              </td><td>30.00                                          </td><td>1                                              </td><td>2                                              </td><td>113781                                         </td><td>503                                            </td><td>C22 C26                                        </td><td>S                                              </td><td>                                               </td><td>135                                            </td><td>Montreal, PQ / Chesterville, ON                </td></tr>\n",
       "\t<tr><td>1                                              </td><td>0                                              </td><td>Allison, Mrs. Hudson J C (Bessie Waldo Daniels)</td><td>1                                              </td><td>25.00                                          </td><td>1                                              </td><td>2                                              </td><td>113781                                         </td><td>503                                            </td><td>C22 C26                                        </td><td>S                                              </td><td>                                               </td><td> NA                                            </td><td>Montreal, PQ / Chesterville, ON                </td></tr>\n",
       "\t<tr><td>1                                              </td><td>1                                              </td><td>Anderson, Mr. Harry                            </td><td>0                                              </td><td>48.00                                          </td><td>0                                              </td><td>0                                              </td><td>19952                                          </td><td>253                                            </td><td>E12                                            </td><td>S                                              </td><td>3                                              </td><td> NA                                            </td><td>New York, NY                                   </td></tr>\n",
       "</tbody>\n",
       "</table>\n"
      ],
      "text/latex": [
       "\\begin{tabular}{r|llllllllllllll}\n",
       " pclass & survived & name & sex & age & sibsp & parch & ticket & fare & cabin & embarked & boat & body & home.dest\\\\\n",
       "\\hline\n",
       "\t 1                                               & 1                                               & Allen, Miss. Elisabeth Walton                   & 1                                               & 29.00                                           & 0                                               & 0                                               & 24160                                           & 623                                             & B5                                              & S                                               & 2                                               &  NA                                             & St Louis, MO                                   \\\\\n",
       "\t 1                                               & 1                                               & Allison, Master. Hudson Trevor                  & 0                                               &  0.92                                           & 1                                               & 2                                               & 113781                                          & 503                                             & C22 C26                                         & S                                               & 11                                              &  NA                                             & Montreal, PQ / Chesterville, ON                \\\\\n",
       "\t 1                                               & 0                                               & Allison, Miss. Helen Loraine                    & 1                                               &  2.00                                           & 1                                               & 2                                               & 113781                                          & 503                                             & C22 C26                                         & S                                               &                                                 &  NA                                             & Montreal, PQ / Chesterville, ON                \\\\\n",
       "\t 1                                               & 0                                               & Allison, Mr. Hudson Joshua Creighton            & 0                                               & 30.00                                           & 1                                               & 2                                               & 113781                                          & 503                                             & C22 C26                                         & S                                               &                                                 & 135                                             & Montreal, PQ / Chesterville, ON                \\\\\n",
       "\t 1                                               & 0                                               & Allison, Mrs. Hudson J C (Bessie Waldo Daniels) & 1                                               & 25.00                                           & 1                                               & 2                                               & 113781                                          & 503                                             & C22 C26                                         & S                                               &                                                 &  NA                                             & Montreal, PQ / Chesterville, ON                \\\\\n",
       "\t 1                                               & 1                                               & Anderson, Mr. Harry                             & 0                                               & 48.00                                           & 0                                               & 0                                               & 19952                                           & 253                                             & E12                                             & S                                               & 3                                               &  NA                                             & New York, NY                                   \\\\\n",
       "\\end{tabular}\n"
      ],
      "text/markdown": [
       "\n",
       "| pclass | survived | name | sex | age | sibsp | parch | ticket | fare | cabin | embarked | boat | body | home.dest |\n",
       "|---|---|---|---|---|---|---|---|---|---|---|---|---|---|\n",
       "| 1                                               | 1                                               | Allen, Miss. Elisabeth Walton                   | 1                                               | 29.00                                           | 0                                               | 0                                               | 24160                                           | 623                                             | B5                                              | S                                               | 2                                               |  NA                                             | St Louis, MO                                    |\n",
       "| 1                                               | 1                                               | Allison, Master. Hudson Trevor                  | 0                                               |  0.92                                           | 1                                               | 2                                               | 113781                                          | 503                                             | C22 C26                                         | S                                               | 11                                              |  NA                                             | Montreal, PQ / Chesterville, ON                 |\n",
       "| 1                                               | 0                                               | Allison, Miss. Helen Loraine                    | 1                                               |  2.00                                           | 1                                               | 2                                               | 113781                                          | 503                                             | C22 C26                                         | S                                               |                                                 |  NA                                             | Montreal, PQ / Chesterville, ON                 |\n",
       "| 1                                               | 0                                               | Allison, Mr. Hudson Joshua Creighton            | 0                                               | 30.00                                           | 1                                               | 2                                               | 113781                                          | 503                                             | C22 C26                                         | S                                               |                                                 | 135                                             | Montreal, PQ / Chesterville, ON                 |\n",
       "| 1                                               | 0                                               | Allison, Mrs. Hudson J C (Bessie Waldo Daniels) | 1                                               | 25.00                                           | 1                                               | 2                                               | 113781                                          | 503                                             | C22 C26                                         | S                                               |                                                 |  NA                                             | Montreal, PQ / Chesterville, ON                 |\n",
       "| 1                                               | 1                                               | Anderson, Mr. Harry                             | 0                                               | 48.00                                           | 0                                               | 0                                               | 19952                                           | 253                                             | E12                                             | S                                               | 3                                               |  NA                                             | New York, NY                                    |\n",
       "\n"
      ],
      "text/plain": [
       "  pclass survived name                                            sex age  \n",
       "1 1      1        Allen, Miss. Elisabeth Walton                   1   29.00\n",
       "2 1      1        Allison, Master. Hudson Trevor                  0    0.92\n",
       "3 1      0        Allison, Miss. Helen Loraine                    1    2.00\n",
       "4 1      0        Allison, Mr. Hudson Joshua Creighton            0   30.00\n",
       "5 1      0        Allison, Mrs. Hudson J C (Bessie Waldo Daniels) 1   25.00\n",
       "6 1      1        Anderson, Mr. Harry                             0   48.00\n",
       "  sibsp parch ticket fare cabin   embarked boat body\n",
       "1 0     0     24160  623  B5      S        2     NA \n",
       "2 1     2     113781 503  C22 C26 S        11    NA \n",
       "3 1     2     113781 503  C22 C26 S              NA \n",
       "4 1     2     113781 503  C22 C26 S             135 \n",
       "5 1     2     113781 503  C22 C26 S              NA \n",
       "6 0     0     19952  253  E12     S        3     NA \n",
       "  home.dest                      \n",
       "1 St Louis, MO                   \n",
       "2 Montreal, PQ / Chesterville, ON\n",
       "3 Montreal, PQ / Chesterville, ON\n",
       "4 Montreal, PQ / Chesterville, ON\n",
       "5 Montreal, PQ / Chesterville, ON\n",
       "6 New York, NY                   "
      ]
     },
     "metadata": {},
     "output_type": "display_data"
    }
   ],
   "source": [
    "# 【37】\n",
    "# dfのfare列を小数点以下で丸める\n",
    "\n",
    "df['fare'] = lapply(df['fare'], round)\n",
    "head(df)"
   ]
  },
  {
   "cell_type": "code",
   "execution_count": 22,
   "metadata": {},
   "outputs": [
    {
     "data": {
      "text/html": [
       "<table>\n",
       "<thead><tr><th scope=col>pclass</th><th scope=col>survived</th><th scope=col>name</th><th scope=col>sex</th><th scope=col>age</th><th scope=col>sibsp</th><th scope=col>parch</th><th scope=col>ticket</th><th scope=col>fare</th><th scope=col>cabin</th><th scope=col>embarked</th><th scope=col>boat</th><th scope=col>body</th><th scope=col>home.dest</th><th scope=col>test</th></tr></thead>\n",
       "<tbody>\n",
       "\t<tr><td>1                                              </td><td>1                                              </td><td>Allen, Miss. Elisabeth Walton                  </td><td>1                                              </td><td>29.00                                          </td><td>0                                              </td><td>0                                              </td><td>24160                                          </td><td>623                                            </td><td>B5                                             </td><td>S                                              </td><td>2                                              </td><td> NA                                            </td><td>St Louis, MO                                   </td><td>1                                              </td></tr>\n",
       "\t<tr><td>1                                              </td><td>1                                              </td><td>Allison, Master. Hudson Trevor                 </td><td>0                                              </td><td> 0.92                                          </td><td>1                                              </td><td>2                                              </td><td>113781                                         </td><td>503                                            </td><td>C22 C26                                        </td><td>S                                              </td><td>11                                             </td><td> NA                                            </td><td>Montreal, PQ / Chesterville, ON                </td><td>1                                              </td></tr>\n",
       "\t<tr><td>1                                              </td><td>0                                              </td><td>Allison, Miss. Helen Loraine                   </td><td>1                                              </td><td> 2.00                                          </td><td>1                                              </td><td>2                                              </td><td>113781                                         </td><td>503                                            </td><td>C22 C26                                        </td><td>S                                              </td><td>                                               </td><td> NA                                            </td><td>Montreal, PQ / Chesterville, ON                </td><td>1                                              </td></tr>\n",
       "\t<tr><td>1                                              </td><td>0                                              </td><td>Allison, Mr. Hudson Joshua Creighton           </td><td>0                                              </td><td>30.00                                          </td><td>1                                              </td><td>2                                              </td><td>113781                                         </td><td>503                                            </td><td>C22 C26                                        </td><td>S                                              </td><td>                                               </td><td>135                                            </td><td>Montreal, PQ / Chesterville, ON                </td><td>1                                              </td></tr>\n",
       "\t<tr><td>1                                              </td><td>0                                              </td><td>Allison, Mrs. Hudson J C (Bessie Waldo Daniels)</td><td>1                                              </td><td>25.00                                          </td><td>1                                              </td><td>2                                              </td><td>113781                                         </td><td>503                                            </td><td>C22 C26                                        </td><td>S                                              </td><td>                                               </td><td> NA                                            </td><td>Montreal, PQ / Chesterville, ON                </td><td>1                                              </td></tr>\n",
       "\t<tr><td>1                                              </td><td>1                                              </td><td>Anderson, Mr. Harry                            </td><td>0                                              </td><td>48.00                                          </td><td>0                                              </td><td>0                                              </td><td>19952                                          </td><td>253                                            </td><td>E12                                            </td><td>S                                              </td><td>3                                              </td><td> NA                                            </td><td>New York, NY                                   </td><td>1                                              </td></tr>\n",
       "</tbody>\n",
       "</table>\n"
      ],
      "text/latex": [
       "\\begin{tabular}{r|lllllllllllllll}\n",
       " pclass & survived & name & sex & age & sibsp & parch & ticket & fare & cabin & embarked & boat & body & home.dest & test\\\\\n",
       "\\hline\n",
       "\t 1                                               & 1                                               & Allen, Miss. Elisabeth Walton                   & 1                                               & 29.00                                           & 0                                               & 0                                               & 24160                                           & 623                                             & B5                                              & S                                               & 2                                               &  NA                                             & St Louis, MO                                    & 1                                              \\\\\n",
       "\t 1                                               & 1                                               & Allison, Master. Hudson Trevor                  & 0                                               &  0.92                                           & 1                                               & 2                                               & 113781                                          & 503                                             & C22 C26                                         & S                                               & 11                                              &  NA                                             & Montreal, PQ / Chesterville, ON                 & 1                                              \\\\\n",
       "\t 1                                               & 0                                               & Allison, Miss. Helen Loraine                    & 1                                               &  2.00                                           & 1                                               & 2                                               & 113781                                          & 503                                             & C22 C26                                         & S                                               &                                                 &  NA                                             & Montreal, PQ / Chesterville, ON                 & 1                                              \\\\\n",
       "\t 1                                               & 0                                               & Allison, Mr. Hudson Joshua Creighton            & 0                                               & 30.00                                           & 1                                               & 2                                               & 113781                                          & 503                                             & C22 C26                                         & S                                               &                                                 & 135                                             & Montreal, PQ / Chesterville, ON                 & 1                                              \\\\\n",
       "\t 1                                               & 0                                               & Allison, Mrs. Hudson J C (Bessie Waldo Daniels) & 1                                               & 25.00                                           & 1                                               & 2                                               & 113781                                          & 503                                             & C22 C26                                         & S                                               &                                                 &  NA                                             & Montreal, PQ / Chesterville, ON                 & 1                                              \\\\\n",
       "\t 1                                               & 1                                               & Anderson, Mr. Harry                             & 0                                               & 48.00                                           & 0                                               & 0                                               & 19952                                           & 253                                             & E12                                             & S                                               & 3                                               &  NA                                             & New York, NY                                    & 1                                              \\\\\n",
       "\\end{tabular}\n"
      ],
      "text/markdown": [
       "\n",
       "| pclass | survived | name | sex | age | sibsp | parch | ticket | fare | cabin | embarked | boat | body | home.dest | test |\n",
       "|---|---|---|---|---|---|---|---|---|---|---|---|---|---|---|\n",
       "| 1                                               | 1                                               | Allen, Miss. Elisabeth Walton                   | 1                                               | 29.00                                           | 0                                               | 0                                               | 24160                                           | 623                                             | B5                                              | S                                               | 2                                               |  NA                                             | St Louis, MO                                    | 1                                               |\n",
       "| 1                                               | 1                                               | Allison, Master. Hudson Trevor                  | 0                                               |  0.92                                           | 1                                               | 2                                               | 113781                                          | 503                                             | C22 C26                                         | S                                               | 11                                              |  NA                                             | Montreal, PQ / Chesterville, ON                 | 1                                               |\n",
       "| 1                                               | 0                                               | Allison, Miss. Helen Loraine                    | 1                                               |  2.00                                           | 1                                               | 2                                               | 113781                                          | 503                                             | C22 C26                                         | S                                               |                                                 |  NA                                             | Montreal, PQ / Chesterville, ON                 | 1                                               |\n",
       "| 1                                               | 0                                               | Allison, Mr. Hudson Joshua Creighton            | 0                                               | 30.00                                           | 1                                               | 2                                               | 113781                                          | 503                                             | C22 C26                                         | S                                               |                                                 | 135                                             | Montreal, PQ / Chesterville, ON                 | 1                                               |\n",
       "| 1                                               | 0                                               | Allison, Mrs. Hudson J C (Bessie Waldo Daniels) | 1                                               | 25.00                                           | 1                                               | 2                                               | 113781                                          | 503                                             | C22 C26                                         | S                                               |                                                 |  NA                                             | Montreal, PQ / Chesterville, ON                 | 1                                               |\n",
       "| 1                                               | 1                                               | Anderson, Mr. Harry                             | 0                                               | 48.00                                           | 0                                               | 0                                               | 19952                                           | 253                                             | E12                                             | S                                               | 3                                               |  NA                                             | New York, NY                                    | 1                                               |\n",
       "\n"
      ],
      "text/plain": [
       "  pclass survived name                                            sex age  \n",
       "1 1      1        Allen, Miss. Elisabeth Walton                   1   29.00\n",
       "2 1      1        Allison, Master. Hudson Trevor                  0    0.92\n",
       "3 1      0        Allison, Miss. Helen Loraine                    1    2.00\n",
       "4 1      0        Allison, Mr. Hudson Joshua Creighton            0   30.00\n",
       "5 1      0        Allison, Mrs. Hudson J C (Bessie Waldo Daniels) 1   25.00\n",
       "6 1      1        Anderson, Mr. Harry                             0   48.00\n",
       "  sibsp parch ticket fare cabin   embarked boat body\n",
       "1 0     0     24160  623  B5      S        2     NA \n",
       "2 1     2     113781 503  C22 C26 S        11    NA \n",
       "3 1     2     113781 503  C22 C26 S              NA \n",
       "4 1     2     113781 503  C22 C26 S             135 \n",
       "5 1     2     113781 503  C22 C26 S              NA \n",
       "6 0     0     19952  253  E12     S        3     NA \n",
       "  home.dest                       test\n",
       "1 St Louis, MO                    1   \n",
       "2 Montreal, PQ / Chesterville, ON 1   \n",
       "3 Montreal, PQ / Chesterville, ON 1   \n",
       "4 Montreal, PQ / Chesterville, ON 1   \n",
       "5 Montreal, PQ / Chesterville, ON 1   \n",
       "6 New York, NY                    1   "
      ]
     },
     "metadata": {},
     "output_type": "display_data"
    }
   ],
   "source": [
    "# 【38】\n",
    "# dfに列名「test」で値がすべて1の\n",
    "# カラムを追加し、先頭の5行を表示\n",
    "\n",
    "df['test'] = 1\n",
    "head(df)"
   ]
  },
  {
   "cell_type": "code",
   "execution_count": 23,
   "metadata": {},
   "outputs": [],
   "source": [
    "# 【39】\n",
    "# dfにcabinとembarkedの列を「_」で\n",
    "# 結合した列を追加(列名は「test」)し、\n",
    "# 先頭の5行を表示"
   ]
  },
  {
   "cell_type": "code",
   "execution_count": 24,
   "metadata": {},
   "outputs": [],
   "source": [
    "# 力業"
   ]
  },
  {
   "cell_type": "code",
   "execution_count": 25,
   "metadata": {},
   "outputs": [
    {
     "data": {
      "text/html": [
       "1309"
      ],
      "text/latex": [
       "1309"
      ],
      "text/markdown": [
       "1309"
      ],
      "text/plain": [
       "[1] 1309"
      ]
     },
     "metadata": {},
     "output_type": "display_data"
    }
   ],
   "source": [
    "\n",
    "rn = dim(df)[1]\n",
    "rn"
   ]
  },
  {
   "cell_type": "code",
   "execution_count": 26,
   "metadata": {},
   "outputs": [
    {
     "data": {
      "text/html": [
       "'C22 C26 _ S'"
      ],
      "text/latex": [
       "'C22 C26 \\_ S'"
      ],
      "text/markdown": [
       "'C22 C26 _ S'"
      ],
      "text/plain": [
       "[1] \"C22 C26 _ S\""
      ]
     },
     "metadata": {},
     "output_type": "display_data"
    }
   ],
   "source": [
    "paste(df['cabin'][3,], '_', df['embarked'][3,])"
   ]
  },
  {
   "cell_type": "code",
   "execution_count": 27,
   "metadata": {
    "scrolled": true
   },
   "outputs": [
    {
     "data": {
      "text/html": [
       "<table>\n",
       "<thead><tr><th scope=col>pclass</th><th scope=col>survived</th><th scope=col>name</th><th scope=col>sex</th><th scope=col>age</th><th scope=col>sibsp</th><th scope=col>parch</th><th scope=col>ticket</th><th scope=col>fare</th><th scope=col>cabin</th><th scope=col>embarked</th><th scope=col>boat</th><th scope=col>body</th><th scope=col>home.dest</th><th scope=col>test</th></tr></thead>\n",
       "<tbody>\n",
       "\t<tr><td>1                                              </td><td>1                                              </td><td>Allen, Miss. Elisabeth Walton                  </td><td>1                                              </td><td>29.00                                          </td><td>0                                              </td><td>0                                              </td><td>24160                                          </td><td>623                                            </td><td>B5                                             </td><td>S                                              </td><td>2                                              </td><td> NA                                            </td><td>St Louis, MO                                   </td><td>B5 _ S                                         </td></tr>\n",
       "\t<tr><td>1                                              </td><td>1                                              </td><td>Allison, Master. Hudson Trevor                 </td><td>0                                              </td><td> 0.92                                          </td><td>1                                              </td><td>2                                              </td><td>113781                                         </td><td>503                                            </td><td>C22 C26                                        </td><td>S                                              </td><td>11                                             </td><td> NA                                            </td><td>Montreal, PQ / Chesterville, ON                </td><td>C22 C26 _ S                                    </td></tr>\n",
       "\t<tr><td>1                                              </td><td>0                                              </td><td>Allison, Miss. Helen Loraine                   </td><td>1                                              </td><td> 2.00                                          </td><td>1                                              </td><td>2                                              </td><td>113781                                         </td><td>503                                            </td><td>C22 C26                                        </td><td>S                                              </td><td>                                               </td><td> NA                                            </td><td>Montreal, PQ / Chesterville, ON                </td><td>C22 C26 _ S                                    </td></tr>\n",
       "\t<tr><td>1                                              </td><td>0                                              </td><td>Allison, Mr. Hudson Joshua Creighton           </td><td>0                                              </td><td>30.00                                          </td><td>1                                              </td><td>2                                              </td><td>113781                                         </td><td>503                                            </td><td>C22 C26                                        </td><td>S                                              </td><td>                                               </td><td>135                                            </td><td>Montreal, PQ / Chesterville, ON                </td><td>C22 C26 _ S                                    </td></tr>\n",
       "\t<tr><td>1                                              </td><td>0                                              </td><td>Allison, Mrs. Hudson J C (Bessie Waldo Daniels)</td><td>1                                              </td><td>25.00                                          </td><td>1                                              </td><td>2                                              </td><td>113781                                         </td><td>503                                            </td><td>C22 C26                                        </td><td>S                                              </td><td>                                               </td><td> NA                                            </td><td>Montreal, PQ / Chesterville, ON                </td><td>C22 C26 _ S                                    </td></tr>\n",
       "\t<tr><td>1                                              </td><td>1                                              </td><td>Anderson, Mr. Harry                            </td><td>0                                              </td><td>48.00                                          </td><td>0                                              </td><td>0                                              </td><td>19952                                          </td><td>253                                            </td><td>E12                                            </td><td>S                                              </td><td>3                                              </td><td> NA                                            </td><td>New York, NY                                   </td><td>E12 _ S                                        </td></tr>\n",
       "</tbody>\n",
       "</table>\n"
      ],
      "text/latex": [
       "\\begin{tabular}{r|lllllllllllllll}\n",
       " pclass & survived & name & sex & age & sibsp & parch & ticket & fare & cabin & embarked & boat & body & home.dest & test\\\\\n",
       "\\hline\n",
       "\t 1                                               & 1                                               & Allen, Miss. Elisabeth Walton                   & 1                                               & 29.00                                           & 0                                               & 0                                               & 24160                                           & 623                                             & B5                                              & S                                               & 2                                               &  NA                                             & St Louis, MO                                    & B5 \\_ S                                       \\\\\n",
       "\t 1                                               & 1                                               & Allison, Master. Hudson Trevor                  & 0                                               &  0.92                                           & 1                                               & 2                                               & 113781                                          & 503                                             & C22 C26                                         & S                                               & 11                                              &  NA                                             & Montreal, PQ / Chesterville, ON                 & C22 C26 \\_ S                                  \\\\\n",
       "\t 1                                               & 0                                               & Allison, Miss. Helen Loraine                    & 1                                               &  2.00                                           & 1                                               & 2                                               & 113781                                          & 503                                             & C22 C26                                         & S                                               &                                                 &  NA                                             & Montreal, PQ / Chesterville, ON                 & C22 C26 \\_ S                                  \\\\\n",
       "\t 1                                               & 0                                               & Allison, Mr. Hudson Joshua Creighton            & 0                                               & 30.00                                           & 1                                               & 2                                               & 113781                                          & 503                                             & C22 C26                                         & S                                               &                                                 & 135                                             & Montreal, PQ / Chesterville, ON                 & C22 C26 \\_ S                                  \\\\\n",
       "\t 1                                               & 0                                               & Allison, Mrs. Hudson J C (Bessie Waldo Daniels) & 1                                               & 25.00                                           & 1                                               & 2                                               & 113781                                          & 503                                             & C22 C26                                         & S                                               &                                                 &  NA                                             & Montreal, PQ / Chesterville, ON                 & C22 C26 \\_ S                                  \\\\\n",
       "\t 1                                               & 1                                               & Anderson, Mr. Harry                             & 0                                               & 48.00                                           & 0                                               & 0                                               & 19952                                           & 253                                             & E12                                             & S                                               & 3                                               &  NA                                             & New York, NY                                    & E12 \\_ S                                      \\\\\n",
       "\\end{tabular}\n"
      ],
      "text/markdown": [
       "\n",
       "| pclass | survived | name | sex | age | sibsp | parch | ticket | fare | cabin | embarked | boat | body | home.dest | test |\n",
       "|---|---|---|---|---|---|---|---|---|---|---|---|---|---|---|\n",
       "| 1                                               | 1                                               | Allen, Miss. Elisabeth Walton                   | 1                                               | 29.00                                           | 0                                               | 0                                               | 24160                                           | 623                                             | B5                                              | S                                               | 2                                               |  NA                                             | St Louis, MO                                    | B5 _ S                                          |\n",
       "| 1                                               | 1                                               | Allison, Master. Hudson Trevor                  | 0                                               |  0.92                                           | 1                                               | 2                                               | 113781                                          | 503                                             | C22 C26                                         | S                                               | 11                                              |  NA                                             | Montreal, PQ / Chesterville, ON                 | C22 C26 _ S                                     |\n",
       "| 1                                               | 0                                               | Allison, Miss. Helen Loraine                    | 1                                               |  2.00                                           | 1                                               | 2                                               | 113781                                          | 503                                             | C22 C26                                         | S                                               |                                                 |  NA                                             | Montreal, PQ / Chesterville, ON                 | C22 C26 _ S                                     |\n",
       "| 1                                               | 0                                               | Allison, Mr. Hudson Joshua Creighton            | 0                                               | 30.00                                           | 1                                               | 2                                               | 113781                                          | 503                                             | C22 C26                                         | S                                               |                                                 | 135                                             | Montreal, PQ / Chesterville, ON                 | C22 C26 _ S                                     |\n",
       "| 1                                               | 0                                               | Allison, Mrs. Hudson J C (Bessie Waldo Daniels) | 1                                               | 25.00                                           | 1                                               | 2                                               | 113781                                          | 503                                             | C22 C26                                         | S                                               |                                                 |  NA                                             | Montreal, PQ / Chesterville, ON                 | C22 C26 _ S                                     |\n",
       "| 1                                               | 1                                               | Anderson, Mr. Harry                             | 0                                               | 48.00                                           | 0                                               | 0                                               | 19952                                           | 253                                             | E12                                             | S                                               | 3                                               |  NA                                             | New York, NY                                    | E12 _ S                                         |\n",
       "\n"
      ],
      "text/plain": [
       "  pclass survived name                                            sex age  \n",
       "1 1      1        Allen, Miss. Elisabeth Walton                   1   29.00\n",
       "2 1      1        Allison, Master. Hudson Trevor                  0    0.92\n",
       "3 1      0        Allison, Miss. Helen Loraine                    1    2.00\n",
       "4 1      0        Allison, Mr. Hudson Joshua Creighton            0   30.00\n",
       "5 1      0        Allison, Mrs. Hudson J C (Bessie Waldo Daniels) 1   25.00\n",
       "6 1      1        Anderson, Mr. Harry                             0   48.00\n",
       "  sibsp parch ticket fare cabin   embarked boat body\n",
       "1 0     0     24160  623  B5      S        2     NA \n",
       "2 1     2     113781 503  C22 C26 S        11    NA \n",
       "3 1     2     113781 503  C22 C26 S              NA \n",
       "4 1     2     113781 503  C22 C26 S             135 \n",
       "5 1     2     113781 503  C22 C26 S              NA \n",
       "6 0     0     19952  253  E12     S        3     NA \n",
       "  home.dest                       test       \n",
       "1 St Louis, MO                    B5 _ S     \n",
       "2 Montreal, PQ / Chesterville, ON C22 C26 _ S\n",
       "3 Montreal, PQ / Chesterville, ON C22 C26 _ S\n",
       "4 Montreal, PQ / Chesterville, ON C22 C26 _ S\n",
       "5 Montreal, PQ / Chesterville, ON C22 C26 _ S\n",
       "6 New York, NY                    E12 _ S    "
      ]
     },
     "metadata": {},
     "output_type": "display_data"
    }
   ],
   "source": [
    "for (i in 1:rn){\n",
    "        df[\"test\"][i,] <- paste(df['cabin'][i,], '_', df['embarked'][i,])\n",
    "       }\n",
    "\n",
    "head(df)"
   ]
  },
  {
   "cell_type": "code",
   "execution_count": 28,
   "metadata": {},
   "outputs": [],
   "source": [
    "# だいぶＲのデータフレームを扱えるようになってきました！"
   ]
  },
  {
   "cell_type": "code",
   "execution_count": 29,
   "metadata": {},
   "outputs": [
    {
     "data": {
      "text/html": [
       "<table>\n",
       "<thead><tr><th scope=col>pclass</th><th scope=col>survived</th><th scope=col>name</th><th scope=col>sex</th><th scope=col>age</th><th scope=col>sibsp</th><th scope=col>parch</th><th scope=col>ticket</th><th scope=col>fare</th><th scope=col>cabin</th><th scope=col>embarked</th><th scope=col>boat</th><th scope=col>body</th><th scope=col>home.dest</th><th scope=col>test</th></tr></thead>\n",
       "<tbody>\n",
       "\t<tr><td>1                                              </td><td>1                                              </td><td>Allen, Miss. Elisabeth Walton                  </td><td>1                                              </td><td>29.00                                          </td><td>0                                              </td><td>0                                              </td><td>24160                                          </td><td>623                                            </td><td>B5                                             </td><td>S                                              </td><td>2                                              </td><td> NA                                            </td><td>St Louis, MO                                   </td><td>29 _ S                                         </td></tr>\n",
       "\t<tr><td>1                                              </td><td>1                                              </td><td>Allison, Master. Hudson Trevor                 </td><td>0                                              </td><td> 0.92                                          </td><td>1                                              </td><td>2                                              </td><td>113781                                         </td><td>503                                            </td><td>C22 C26                                        </td><td>S                                              </td><td>11                                             </td><td> NA                                            </td><td>Montreal, PQ / Chesterville, ON                </td><td>0.92 _ S                                       </td></tr>\n",
       "\t<tr><td>1                                              </td><td>0                                              </td><td>Allison, Miss. Helen Loraine                   </td><td>1                                              </td><td> 2.00                                          </td><td>1                                              </td><td>2                                              </td><td>113781                                         </td><td>503                                            </td><td>C22 C26                                        </td><td>S                                              </td><td>                                               </td><td> NA                                            </td><td>Montreal, PQ / Chesterville, ON                </td><td>2 _ S                                          </td></tr>\n",
       "\t<tr><td>1                                              </td><td>0                                              </td><td>Allison, Mr. Hudson Joshua Creighton           </td><td>0                                              </td><td>30.00                                          </td><td>1                                              </td><td>2                                              </td><td>113781                                         </td><td>503                                            </td><td>C22 C26                                        </td><td>S                                              </td><td>                                               </td><td>135                                            </td><td>Montreal, PQ / Chesterville, ON                </td><td>30 _ S                                         </td></tr>\n",
       "\t<tr><td>1                                              </td><td>0                                              </td><td>Allison, Mrs. Hudson J C (Bessie Waldo Daniels)</td><td>1                                              </td><td>25.00                                          </td><td>1                                              </td><td>2                                              </td><td>113781                                         </td><td>503                                            </td><td>C22 C26                                        </td><td>S                                              </td><td>                                               </td><td> NA                                            </td><td>Montreal, PQ / Chesterville, ON                </td><td>25 _ S                                         </td></tr>\n",
       "\t<tr><td>1                                              </td><td>1                                              </td><td>Anderson, Mr. Harry                            </td><td>0                                              </td><td>48.00                                          </td><td>0                                              </td><td>0                                              </td><td>19952                                          </td><td>253                                            </td><td>E12                                            </td><td>S                                              </td><td>3                                              </td><td> NA                                            </td><td>New York, NY                                   </td><td>48 _ S                                         </td></tr>\n",
       "</tbody>\n",
       "</table>\n"
      ],
      "text/latex": [
       "\\begin{tabular}{r|lllllllllllllll}\n",
       " pclass & survived & name & sex & age & sibsp & parch & ticket & fare & cabin & embarked & boat & body & home.dest & test\\\\\n",
       "\\hline\n",
       "\t 1                                               & 1                                               & Allen, Miss. Elisabeth Walton                   & 1                                               & 29.00                                           & 0                                               & 0                                               & 24160                                           & 623                                             & B5                                              & S                                               & 2                                               &  NA                                             & St Louis, MO                                    & 29 \\_ S                                       \\\\\n",
       "\t 1                                               & 1                                               & Allison, Master. Hudson Trevor                  & 0                                               &  0.92                                           & 1                                               & 2                                               & 113781                                          & 503                                             & C22 C26                                         & S                                               & 11                                              &  NA                                             & Montreal, PQ / Chesterville, ON                 & 0.92 \\_ S                                     \\\\\n",
       "\t 1                                               & 0                                               & Allison, Miss. Helen Loraine                    & 1                                               &  2.00                                           & 1                                               & 2                                               & 113781                                          & 503                                             & C22 C26                                         & S                                               &                                                 &  NA                                             & Montreal, PQ / Chesterville, ON                 & 2 \\_ S                                        \\\\\n",
       "\t 1                                               & 0                                               & Allison, Mr. Hudson Joshua Creighton            & 0                                               & 30.00                                           & 1                                               & 2                                               & 113781                                          & 503                                             & C22 C26                                         & S                                               &                                                 & 135                                             & Montreal, PQ / Chesterville, ON                 & 30 \\_ S                                       \\\\\n",
       "\t 1                                               & 0                                               & Allison, Mrs. Hudson J C (Bessie Waldo Daniels) & 1                                               & 25.00                                           & 1                                               & 2                                               & 113781                                          & 503                                             & C22 C26                                         & S                                               &                                                 &  NA                                             & Montreal, PQ / Chesterville, ON                 & 25 \\_ S                                       \\\\\n",
       "\t 1                                               & 1                                               & Anderson, Mr. Harry                             & 0                                               & 48.00                                           & 0                                               & 0                                               & 19952                                           & 253                                             & E12                                             & S                                               & 3                                               &  NA                                             & New York, NY                                    & 48 \\_ S                                       \\\\\n",
       "\\end{tabular}\n"
      ],
      "text/markdown": [
       "\n",
       "| pclass | survived | name | sex | age | sibsp | parch | ticket | fare | cabin | embarked | boat | body | home.dest | test |\n",
       "|---|---|---|---|---|---|---|---|---|---|---|---|---|---|---|\n",
       "| 1                                               | 1                                               | Allen, Miss. Elisabeth Walton                   | 1                                               | 29.00                                           | 0                                               | 0                                               | 24160                                           | 623                                             | B5                                              | S                                               | 2                                               |  NA                                             | St Louis, MO                                    | 29 _ S                                          |\n",
       "| 1                                               | 1                                               | Allison, Master. Hudson Trevor                  | 0                                               |  0.92                                           | 1                                               | 2                                               | 113781                                          | 503                                             | C22 C26                                         | S                                               | 11                                              |  NA                                             | Montreal, PQ / Chesterville, ON                 | 0.92 _ S                                        |\n",
       "| 1                                               | 0                                               | Allison, Miss. Helen Loraine                    | 1                                               |  2.00                                           | 1                                               | 2                                               | 113781                                          | 503                                             | C22 C26                                         | S                                               |                                                 |  NA                                             | Montreal, PQ / Chesterville, ON                 | 2 _ S                                           |\n",
       "| 1                                               | 0                                               | Allison, Mr. Hudson Joshua Creighton            | 0                                               | 30.00                                           | 1                                               | 2                                               | 113781                                          | 503                                             | C22 C26                                         | S                                               |                                                 | 135                                             | Montreal, PQ / Chesterville, ON                 | 30 _ S                                          |\n",
       "| 1                                               | 0                                               | Allison, Mrs. Hudson J C (Bessie Waldo Daniels) | 1                                               | 25.00                                           | 1                                               | 2                                               | 113781                                          | 503                                             | C22 C26                                         | S                                               |                                                 |  NA                                             | Montreal, PQ / Chesterville, ON                 | 25 _ S                                          |\n",
       "| 1                                               | 1                                               | Anderson, Mr. Harry                             | 0                                               | 48.00                                           | 0                                               | 0                                               | 19952                                           | 253                                             | E12                                             | S                                               | 3                                               |  NA                                             | New York, NY                                    | 48 _ S                                          |\n",
       "\n"
      ],
      "text/plain": [
       "  pclass survived name                                            sex age  \n",
       "1 1      1        Allen, Miss. Elisabeth Walton                   1   29.00\n",
       "2 1      1        Allison, Master. Hudson Trevor                  0    0.92\n",
       "3 1      0        Allison, Miss. Helen Loraine                    1    2.00\n",
       "4 1      0        Allison, Mr. Hudson Joshua Creighton            0   30.00\n",
       "5 1      0        Allison, Mrs. Hudson J C (Bessie Waldo Daniels) 1   25.00\n",
       "6 1      1        Anderson, Mr. Harry                             0   48.00\n",
       "  sibsp parch ticket fare cabin   embarked boat body\n",
       "1 0     0     24160  623  B5      S        2     NA \n",
       "2 1     2     113781 503  C22 C26 S        11    NA \n",
       "3 1     2     113781 503  C22 C26 S              NA \n",
       "4 1     2     113781 503  C22 C26 S             135 \n",
       "5 1     2     113781 503  C22 C26 S              NA \n",
       "6 0     0     19952  253  E12     S        3     NA \n",
       "  home.dest                       test    \n",
       "1 St Louis, MO                    29 _ S  \n",
       "2 Montreal, PQ / Chesterville, ON 0.92 _ S\n",
       "3 Montreal, PQ / Chesterville, ON 2 _ S   \n",
       "4 Montreal, PQ / Chesterville, ON 30 _ S  \n",
       "5 Montreal, PQ / Chesterville, ON 25 _ S  \n",
       "6 New York, NY                    48 _ S  "
      ]
     },
     "metadata": {},
     "output_type": "display_data"
    }
   ],
   "source": [
    "# 【40】\n",
    "# dfにageとembarkedの列を「_」で\n",
    "# 結合した列を追加(列名は「test」)し、\n",
    "# 先頭の5行を表示\n",
    "\n",
    "for (i in 1:rn){\n",
    "        df[\"test\"][i,] <- paste(df['age'][i,], '_', df['embarked'][i,])\n",
    "       }\n",
    "\n",
    "head(df)"
   ]
  },
  {
   "cell_type": "code",
   "execution_count": null,
   "metadata": {},
   "outputs": [],
   "source": []
  }
 ],
 "metadata": {
  "kernelspec": {
   "display_name": "R",
   "language": "R",
   "name": "ir"
  },
  "language_info": {
   "codemirror_mode": "r",
   "file_extension": ".r",
   "mimetype": "text/x-r-source",
   "name": "R",
   "pygments_lexer": "r",
   "version": "3.6.1"
  }
 },
 "nbformat": 4,
 "nbformat_minor": 4
}
