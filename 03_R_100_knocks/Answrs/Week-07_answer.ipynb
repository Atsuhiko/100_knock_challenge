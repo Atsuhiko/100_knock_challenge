{
 "cells": [
  {
   "cell_type": "markdown",
   "metadata": {},
   "source": [
    "# Week-07"
   ]
  },
  {
   "cell_type": "code",
   "execution_count": 1,
   "metadata": {},
   "outputs": [],
   "source": [
    "# getwd() #ディレクトリ確認getwd() #ディレクトリ確認"
   ]
  },
  {
   "cell_type": "code",
   "execution_count": 2,
   "metadata": {},
   "outputs": [],
   "source": [
    "# # setwd() に入れる Path は上記のディレクトリの下の data ファイル\n",
    "# setwd(\"C:/Users/iiats/OneDrive/デスクトップ/１００本ノックチャレンジ/03_R_100_knocks/Questions/data\") \n",
    "# getwd() #ディレクトリ確認"
   ]
  },
  {
   "cell_type": "code",
   "execution_count": 3,
   "metadata": {},
   "outputs": [],
   "source": [
    "# DataFrameの準備\n",
    "# 相対パスでデータを読み込む\n",
    "df <- read.csv(\"./data/titanic3.csv\", header=T)\n",
    "df2 <- read.csv(\"./data/data1.csv\", header=T)\n",
    "df3 <- read.csv(\"./data/data1_2.csv\", header=T)\n",
    "df4 <- read.csv(\"./data/data1_3.csv\", header=T)\n",
    "df5 <- read.csv(\"./data/data2.csv\", header=T, fileEncoding = \"CP932\")"
   ]
  },
  {
   "cell_type": "markdown",
   "metadata": {},
   "source": [
    "# マージと連結(59 - 65)"
   ]
  },
  {
   "cell_type": "code",
   "execution_count": 4,
   "metadata": {},
   "outputs": [
    {
     "data": {
      "text/html": [
       "<table>\n",
       "<thead><tr><th scope=col>name</th><th scope=col>class</th><th scope=col>English</th><th scope=col>Mathmatics</th><th scope=col>History</th><th scope=col>Biology</th><th scope=col>Physics</th></tr></thead>\n",
       "<tbody>\n",
       "\t<tr><td>A  </td><td>1  </td><td>80 </td><td>55 </td><td>65 </td><td>58 </td><td>100</td></tr>\n",
       "\t<tr><td>C  </td><td>2  </td><td>65 </td><td>70 </td><td>95 </td><td>79 </td><td> 60</td></tr>\n",
       "\t<tr><td>D  </td><td>1  </td><td>40 </td><td>63 </td><td>70 </td><td>95 </td><td> 89</td></tr>\n",
       "\t<tr><td>D  </td><td>1  </td><td>40 </td><td>63 </td><td>70 </td><td>95 </td><td> 89</td></tr>\n",
       "\t<tr><td>F  </td><td>2  </td><td>93 </td><td>68 </td><td>81 </td><td>45 </td><td> 69</td></tr>\n",
       "</tbody>\n",
       "</table>\n"
      ],
      "text/latex": [
       "\\begin{tabular}{r|lllllll}\n",
       " name & class & English & Mathmatics & History & Biology & Physics\\\\\n",
       "\\hline\n",
       "\t A   & 1   & 80  & 55  & 65  & 58  & 100\\\\\n",
       "\t C   & 2   & 65  & 70  & 95  & 79  &  60\\\\\n",
       "\t D   & 1   & 40  & 63  & 70  & 95  &  89\\\\\n",
       "\t D   & 1   & 40  & 63  & 70  & 95  &  89\\\\\n",
       "\t F   & 2   & 93  & 68  & 81  & 45  &  69\\\\\n",
       "\\end{tabular}\n"
      ],
      "text/markdown": [
       "\n",
       "| name | class | English | Mathmatics | History | Biology | Physics |\n",
       "|---|---|---|---|---|---|---|\n",
       "| A   | 1   | 80  | 55  | 65  | 58  | 100 |\n",
       "| C   | 2   | 65  | 70  | 95  | 79  |  60 |\n",
       "| D   | 1   | 40  | 63  | 70  | 95  |  89 |\n",
       "| D   | 1   | 40  | 63  | 70  | 95  |  89 |\n",
       "| F   | 2   | 93  | 68  | 81  | 45  |  69 |\n",
       "\n"
      ],
      "text/plain": [
       "  name class English Mathmatics History Biology Physics\n",
       "1 A    1     80      55         65      58      100    \n",
       "2 C    2     65      70         95      79       60    \n",
       "3 D    1     40      63         70      95       89    \n",
       "4 D    1     40      63         70      95       89    \n",
       "5 F    2     93      68         81      45       69    "
      ]
     },
     "metadata": {},
     "output_type": "display_data"
    }
   ],
   "source": [
    "# 【61】\n",
    "# df2にdf3を内部結合し、df2に格納\n",
    "\n",
    "# https://bioscryptome.t-ohashi.info/r/dataframe-bind/\n",
    "df2 <- read.csv(\"./data/data1.csv\", header=T)\n",
    "df2 <- merge(df2, df3, by=\"name\") \n",
    "df2"
   ]
  },
  {
   "cell_type": "code",
   "execution_count": 5,
   "metadata": {},
   "outputs": [
    {
     "data": {
      "text/html": [
       "<table>\n",
       "<thead><tr><th scope=col>name</th><th scope=col>class</th><th scope=col>English</th><th scope=col>Mathmatics</th><th scope=col>History</th><th scope=col>Biology</th><th scope=col>Physics</th></tr></thead>\n",
       "<tbody>\n",
       "\t<tr><td>A  </td><td> 1 </td><td> 80</td><td> 55</td><td>65 </td><td>58 </td><td>100</td></tr>\n",
       "\t<tr><td>B  </td><td> 1 </td><td> 55</td><td>100</td><td>83 </td><td>NA </td><td> NA</td></tr>\n",
       "\t<tr><td>B  </td><td> 1 </td><td> 55</td><td>100</td><td>83 </td><td>NA </td><td> NA</td></tr>\n",
       "\t<tr><td>C  </td><td> 2 </td><td> 65</td><td> 70</td><td>95 </td><td>79 </td><td> 60</td></tr>\n",
       "\t<tr><td>D  </td><td> 1 </td><td> 40</td><td> 63</td><td>70 </td><td>95 </td><td> 89</td></tr>\n",
       "\t<tr><td>D  </td><td> 1 </td><td> 40</td><td> 63</td><td>70 </td><td>95 </td><td> 89</td></tr>\n",
       "\t<tr><td>E  </td><td> 2 </td><td> 76</td><td> 82</td><td>79 </td><td>NA </td><td> NA</td></tr>\n",
       "\t<tr><td>F  </td><td> 2 </td><td> 93</td><td> 68</td><td>81 </td><td>45 </td><td> 69</td></tr>\n",
       "\t<tr><td>G  </td><td> 1 </td><td>100</td><td> 85</td><td>52 </td><td>NA </td><td> NA</td></tr>\n",
       "\t<tr><td>H  </td><td> 2 </td><td> 73</td><td> 52</td><td>96 </td><td>NA </td><td> NA</td></tr>\n",
       "\t<tr><td>I  </td><td>NA </td><td> NA</td><td> NA</td><td>NA </td><td>63 </td><td> 91</td></tr>\n",
       "\t<tr><td>J  </td><td>NA </td><td> NA</td><td> NA</td><td>NA </td><td>87 </td><td> 76</td></tr>\n",
       "\t<tr><td>K  </td><td>NA </td><td> NA</td><td> NA</td><td>NA </td><td>73 </td><td> 83</td></tr>\n",
       "</tbody>\n",
       "</table>\n"
      ],
      "text/latex": [
       "\\begin{tabular}{r|lllllll}\n",
       " name & class & English & Mathmatics & History & Biology & Physics\\\\\n",
       "\\hline\n",
       "\t A   &  1  &  80 &  55 & 65  & 58  & 100\\\\\n",
       "\t B   &  1  &  55 & 100 & 83  & NA  &  NA\\\\\n",
       "\t B   &  1  &  55 & 100 & 83  & NA  &  NA\\\\\n",
       "\t C   &  2  &  65 &  70 & 95  & 79  &  60\\\\\n",
       "\t D   &  1  &  40 &  63 & 70  & 95  &  89\\\\\n",
       "\t D   &  1  &  40 &  63 & 70  & 95  &  89\\\\\n",
       "\t E   &  2  &  76 &  82 & 79  & NA  &  NA\\\\\n",
       "\t F   &  2  &  93 &  68 & 81  & 45  &  69\\\\\n",
       "\t G   &  1  & 100 &  85 & 52  & NA  &  NA\\\\\n",
       "\t H   &  2  &  73 &  52 & 96  & NA  &  NA\\\\\n",
       "\t I   & NA  &  NA &  NA & NA  & 63  &  91\\\\\n",
       "\t J   & NA  &  NA &  NA & NA  & 87  &  76\\\\\n",
       "\t K   & NA  &  NA &  NA & NA  & 73  &  83\\\\\n",
       "\\end{tabular}\n"
      ],
      "text/markdown": [
       "\n",
       "| name | class | English | Mathmatics | History | Biology | Physics |\n",
       "|---|---|---|---|---|---|---|\n",
       "| A   |  1  |  80 |  55 | 65  | 58  | 100 |\n",
       "| B   |  1  |  55 | 100 | 83  | NA  |  NA |\n",
       "| B   |  1  |  55 | 100 | 83  | NA  |  NA |\n",
       "| C   |  2  |  65 |  70 | 95  | 79  |  60 |\n",
       "| D   |  1  |  40 |  63 | 70  | 95  |  89 |\n",
       "| D   |  1  |  40 |  63 | 70  | 95  |  89 |\n",
       "| E   |  2  |  76 |  82 | 79  | NA  |  NA |\n",
       "| F   |  2  |  93 |  68 | 81  | 45  |  69 |\n",
       "| G   |  1  | 100 |  85 | 52  | NA  |  NA |\n",
       "| H   |  2  |  73 |  52 | 96  | NA  |  NA |\n",
       "| I   | NA  |  NA |  NA | NA  | 63  |  91 |\n",
       "| J   | NA  |  NA |  NA | NA  | 87  |  76 |\n",
       "| K   | NA  |  NA |  NA | NA  | 73  |  83 |\n",
       "\n"
      ],
      "text/plain": [
       "   name class English Mathmatics History Biology Physics\n",
       "1  A     1     80      55        65      58      100    \n",
       "2  B     1     55     100        83      NA       NA    \n",
       "3  B     1     55     100        83      NA       NA    \n",
       "4  C     2     65      70        95      79       60    \n",
       "5  D     1     40      63        70      95       89    \n",
       "6  D     1     40      63        70      95       89    \n",
       "7  E     2     76      82        79      NA       NA    \n",
       "8  F     2     93      68        81      45       69    \n",
       "9  G     1    100      85        52      NA       NA    \n",
       "10 H     2     73      52        96      NA       NA    \n",
       "11 I    NA     NA      NA        NA      63       91    \n",
       "12 J    NA     NA      NA        NA      87       76    \n",
       "13 K    NA     NA      NA        NA      73       83    "
      ]
     },
     "metadata": {},
     "output_type": "display_data"
    }
   ],
   "source": [
    "# 【62】\n",
    "# df2にdf3を外部結合し、df2に格納\n",
    "\n",
    "df2 <- read.csv(\"./data/data1.csv\", header=T)\n",
    "df2 <- merge(df2, df3, by=\"name\", all=T) \n",
    "df2"
   ]
  },
  {
   "cell_type": "code",
   "execution_count": 6,
   "metadata": {},
   "outputs": [],
   "source": [
    "# 【63】\n",
    "# df2とdf4を列方向に連結し、df2に格納"
   ]
  },
  {
   "cell_type": "code",
   "execution_count": 7,
   "metadata": {},
   "outputs": [
    {
     "data": {
      "text/html": [
       "<table>\n",
       "<thead><tr><th scope=col>name</th><th scope=col>Biology</th><th scope=col>Physics</th></tr></thead>\n",
       "<tbody>\n",
       "\t<tr><td>A  </td><td>58 </td><td>100</td></tr>\n",
       "\t<tr><td>B  </td><td>80 </td><td> 63</td></tr>\n",
       "\t<tr><td>C  </td><td>79 </td><td> 60</td></tr>\n",
       "\t<tr><td>D  </td><td>95 </td><td> 89</td></tr>\n",
       "\t<tr><td>E  </td><td>68 </td><td> 55</td></tr>\n",
       "\t<tr><td>F  </td><td>45 </td><td> 69</td></tr>\n",
       "\t<tr><td>G  </td><td>52 </td><td> 68</td></tr>\n",
       "\t<tr><td>H  </td><td>89 </td><td> 70</td></tr>\n",
       "\t<tr><td>B  </td><td>61 </td><td> 64</td></tr>\n",
       "\t<tr><td>D  </td><td>95 </td><td> 89</td></tr>\n",
       "</tbody>\n",
       "</table>\n"
      ],
      "text/latex": [
       "\\begin{tabular}{r|lll}\n",
       " name & Biology & Physics\\\\\n",
       "\\hline\n",
       "\t A   & 58  & 100\\\\\n",
       "\t B   & 80  &  63\\\\\n",
       "\t C   & 79  &  60\\\\\n",
       "\t D   & 95  &  89\\\\\n",
       "\t E   & 68  &  55\\\\\n",
       "\t F   & 45  &  69\\\\\n",
       "\t G   & 52  &  68\\\\\n",
       "\t H   & 89  &  70\\\\\n",
       "\t B   & 61  &  64\\\\\n",
       "\t D   & 95  &  89\\\\\n",
       "\\end{tabular}\n"
      ],
      "text/markdown": [
       "\n",
       "| name | Biology | Physics |\n",
       "|---|---|---|\n",
       "| A   | 58  | 100 |\n",
       "| B   | 80  |  63 |\n",
       "| C   | 79  |  60 |\n",
       "| D   | 95  |  89 |\n",
       "| E   | 68  |  55 |\n",
       "| F   | 45  |  69 |\n",
       "| G   | 52  |  68 |\n",
       "| H   | 89  |  70 |\n",
       "| B   | 61  |  64 |\n",
       "| D   | 95  |  89 |\n",
       "\n"
      ],
      "text/plain": [
       "   name Biology Physics\n",
       "1  A    58      100    \n",
       "2  B    80       63    \n",
       "3  C    79       60    \n",
       "4  D    95       89    \n",
       "5  E    68       55    \n",
       "6  F    45       69    \n",
       "7  G    52       68    \n",
       "8  H    89       70    \n",
       "9  B    61       64    \n",
       "10 D    95       89    "
      ]
     },
     "metadata": {},
     "output_type": "display_data"
    }
   ],
   "source": [
    "df4"
   ]
  },
  {
   "cell_type": "code",
   "execution_count": 8,
   "metadata": {},
   "outputs": [
    {
     "data": {
      "text/html": [
       "<table>\n",
       "<thead><tr><th scope=col>name</th><th scope=col>class</th><th scope=col>English</th><th scope=col>Mathmatics</th><th scope=col>History</th><th scope=col>name</th><th scope=col>Biology</th><th scope=col>Physics</th></tr></thead>\n",
       "<tbody>\n",
       "\t<tr><td>A  </td><td>1  </td><td> 80</td><td> 55</td><td>65 </td><td>A  </td><td>58 </td><td>100</td></tr>\n",
       "\t<tr><td>B  </td><td>1  </td><td> 55</td><td>100</td><td>83 </td><td>B  </td><td>80 </td><td> 63</td></tr>\n",
       "\t<tr><td>C  </td><td>2  </td><td> 65</td><td> 70</td><td>95 </td><td>C  </td><td>79 </td><td> 60</td></tr>\n",
       "\t<tr><td>D  </td><td>1  </td><td> 40</td><td> 63</td><td>70 </td><td>D  </td><td>95 </td><td> 89</td></tr>\n",
       "\t<tr><td>E  </td><td>2  </td><td> 76</td><td> 82</td><td>79 </td><td>E  </td><td>68 </td><td> 55</td></tr>\n",
       "\t<tr><td>F  </td><td>2  </td><td> 93</td><td> 68</td><td>81 </td><td>F  </td><td>45 </td><td> 69</td></tr>\n",
       "\t<tr><td>G  </td><td>1  </td><td>100</td><td> 85</td><td>52 </td><td>G  </td><td>52 </td><td> 68</td></tr>\n",
       "\t<tr><td>H  </td><td>2  </td><td> 73</td><td> 52</td><td>96 </td><td>H  </td><td>89 </td><td> 70</td></tr>\n",
       "\t<tr><td>B  </td><td>1  </td><td> 55</td><td>100</td><td>83 </td><td>B  </td><td>61 </td><td> 64</td></tr>\n",
       "\t<tr><td>D  </td><td>1  </td><td> 40</td><td> 63</td><td>70 </td><td>D  </td><td>95 </td><td> 89</td></tr>\n",
       "</tbody>\n",
       "</table>\n"
      ],
      "text/latex": [
       "\\begin{tabular}{r|llllllll}\n",
       " name & class & English & Mathmatics & History & name & Biology & Physics\\\\\n",
       "\\hline\n",
       "\t A   & 1   &  80 &  55 & 65  & A   & 58  & 100\\\\\n",
       "\t B   & 1   &  55 & 100 & 83  & B   & 80  &  63\\\\\n",
       "\t C   & 2   &  65 &  70 & 95  & C   & 79  &  60\\\\\n",
       "\t D   & 1   &  40 &  63 & 70  & D   & 95  &  89\\\\\n",
       "\t E   & 2   &  76 &  82 & 79  & E   & 68  &  55\\\\\n",
       "\t F   & 2   &  93 &  68 & 81  & F   & 45  &  69\\\\\n",
       "\t G   & 1   & 100 &  85 & 52  & G   & 52  &  68\\\\\n",
       "\t H   & 2   &  73 &  52 & 96  & H   & 89  &  70\\\\\n",
       "\t B   & 1   &  55 & 100 & 83  & B   & 61  &  64\\\\\n",
       "\t D   & 1   &  40 &  63 & 70  & D   & 95  &  89\\\\\n",
       "\\end{tabular}\n"
      ],
      "text/markdown": [
       "\n",
       "| name | class | English | Mathmatics | History | name | Biology | Physics |\n",
       "|---|---|---|---|---|---|---|---|\n",
       "| A   | 1   |  80 |  55 | 65  | A   | 58  | 100 |\n",
       "| B   | 1   |  55 | 100 | 83  | B   | 80  |  63 |\n",
       "| C   | 2   |  65 |  70 | 95  | C   | 79  |  60 |\n",
       "| D   | 1   |  40 |  63 | 70  | D   | 95  |  89 |\n",
       "| E   | 2   |  76 |  82 | 79  | E   | 68  |  55 |\n",
       "| F   | 2   |  93 |  68 | 81  | F   | 45  |  69 |\n",
       "| G   | 1   | 100 |  85 | 52  | G   | 52  |  68 |\n",
       "| H   | 2   |  73 |  52 | 96  | H   | 89  |  70 |\n",
       "| B   | 1   |  55 | 100 | 83  | B   | 61  |  64 |\n",
       "| D   | 1   |  40 |  63 | 70  | D   | 95  |  89 |\n",
       "\n"
      ],
      "text/plain": [
       "   name class English Mathmatics History name Biology Physics\n",
       "1  A    1      80      55        65      A    58      100    \n",
       "2  B    1      55     100        83      B    80       63    \n",
       "3  C    2      65      70        95      C    79       60    \n",
       "4  D    1      40      63        70      D    95       89    \n",
       "5  E    2      76      82        79      E    68       55    \n",
       "6  F    2      93      68        81      F    45       69    \n",
       "7  G    1     100      85        52      G    52       68    \n",
       "8  H    2      73      52        96      H    89       70    \n",
       "9  B    1      55     100        83      B    61       64    \n",
       "10 D    1      40      63        70      D    95       89    "
      ]
     },
     "metadata": {},
     "output_type": "display_data"
    }
   ],
   "source": [
    "# https://webbeginner.hatenablog.com/entry/2015/02/06/132256\n",
    "df2 <- read.csv(\"./data/data1.csv\", header=T)\n",
    "df2 <- cbind(df2, df4)\n",
    "df2"
   ]
  },
  {
   "cell_type": "code",
   "execution_count": 9,
   "metadata": {},
   "outputs": [
    {
     "data": {
      "text/html": [
       "<table>\n",
       "<thead><tr><th scope=col>name</th><th scope=col>class</th><th scope=col>English</th><th scope=col>Mathmatics</th><th scope=col>History</th><th scope=col>Biology</th><th scope=col>Physics</th></tr></thead>\n",
       "<tbody>\n",
       "\t<tr><td>A  </td><td>1  </td><td> 80</td><td> 55</td><td>65 </td><td>58 </td><td>100</td></tr>\n",
       "\t<tr><td>B  </td><td>1  </td><td> 55</td><td>100</td><td>83 </td><td>80 </td><td> 63</td></tr>\n",
       "\t<tr><td>C  </td><td>2  </td><td> 65</td><td> 70</td><td>95 </td><td>79 </td><td> 60</td></tr>\n",
       "\t<tr><td>D  </td><td>1  </td><td> 40</td><td> 63</td><td>70 </td><td>95 </td><td> 89</td></tr>\n",
       "\t<tr><td>E  </td><td>2  </td><td> 76</td><td> 82</td><td>79 </td><td>68 </td><td> 55</td></tr>\n",
       "\t<tr><td>F  </td><td>2  </td><td> 93</td><td> 68</td><td>81 </td><td>45 </td><td> 69</td></tr>\n",
       "\t<tr><td>G  </td><td>1  </td><td>100</td><td> 85</td><td>52 </td><td>52 </td><td> 68</td></tr>\n",
       "\t<tr><td>H  </td><td>2  </td><td> 73</td><td> 52</td><td>96 </td><td>89 </td><td> 70</td></tr>\n",
       "\t<tr><td>B  </td><td>1  </td><td> 55</td><td>100</td><td>83 </td><td>61 </td><td> 64</td></tr>\n",
       "\t<tr><td>D  </td><td>1  </td><td> 40</td><td> 63</td><td>70 </td><td>95 </td><td> 89</td></tr>\n",
       "</tbody>\n",
       "</table>\n"
      ],
      "text/latex": [
       "\\begin{tabular}{r|lllllll}\n",
       " name & class & English & Mathmatics & History & Biology & Physics\\\\\n",
       "\\hline\n",
       "\t A   & 1   &  80 &  55 & 65  & 58  & 100\\\\\n",
       "\t B   & 1   &  55 & 100 & 83  & 80  &  63\\\\\n",
       "\t C   & 2   &  65 &  70 & 95  & 79  &  60\\\\\n",
       "\t D   & 1   &  40 &  63 & 70  & 95  &  89\\\\\n",
       "\t E   & 2   &  76 &  82 & 79  & 68  &  55\\\\\n",
       "\t F   & 2   &  93 &  68 & 81  & 45  &  69\\\\\n",
       "\t G   & 1   & 100 &  85 & 52  & 52  &  68\\\\\n",
       "\t H   & 2   &  73 &  52 & 96  & 89  &  70\\\\\n",
       "\t B   & 1   &  55 & 100 & 83  & 61  &  64\\\\\n",
       "\t D   & 1   &  40 &  63 & 70  & 95  &  89\\\\\n",
       "\\end{tabular}\n"
      ],
      "text/markdown": [
       "\n",
       "| name | class | English | Mathmatics | History | Biology | Physics |\n",
       "|---|---|---|---|---|---|---|\n",
       "| A   | 1   |  80 |  55 | 65  | 58  | 100 |\n",
       "| B   | 1   |  55 | 100 | 83  | 80  |  63 |\n",
       "| C   | 2   |  65 |  70 | 95  | 79  |  60 |\n",
       "| D   | 1   |  40 |  63 | 70  | 95  |  89 |\n",
       "| E   | 2   |  76 |  82 | 79  | 68  |  55 |\n",
       "| F   | 2   |  93 |  68 | 81  | 45  |  69 |\n",
       "| G   | 1   | 100 |  85 | 52  | 52  |  68 |\n",
       "| H   | 2   |  73 |  52 | 96  | 89  |  70 |\n",
       "| B   | 1   |  55 | 100 | 83  | 61  |  64 |\n",
       "| D   | 1   |  40 |  63 | 70  | 95  |  89 |\n",
       "\n"
      ],
      "text/plain": [
       "   name class English Mathmatics History Biology Physics\n",
       "1  A    1      80      55        65      58      100    \n",
       "2  B    1      55     100        83      80       63    \n",
       "3  C    2      65      70        95      79       60    \n",
       "4  D    1      40      63        70      95       89    \n",
       "5  E    2      76      82        79      68       55    \n",
       "6  F    2      93      68        81      45       69    \n",
       "7  G    1     100      85        52      52       68    \n",
       "8  H    2      73      52        96      89       70    \n",
       "9  B    1      55     100        83      61       64    \n",
       "10 D    1      40      63        70      95       89    "
      ]
     },
     "metadata": {},
     "output_type": "display_data"
    }
   ],
   "source": [
    "# 【64】\n",
    "# df2とdf4を列方向に連結後、重複している\n",
    "# name列の片方を削除し、df2に格納\n",
    "\n",
    "# https://webbeginner.hatenablog.com/entry/2015/02/06/132256\n",
    "df2 <- read.csv(\"./data/data1.csv\", header=T)\n",
    "df2 <- cbind(df2, df4)\n",
    "df2 <- df2[, c(-6)]\n",
    "df2"
   ]
  },
  {
   "cell_type": "code",
   "execution_count": 10,
   "metadata": {},
   "outputs": [
    {
     "data": {
      "text/html": [
       "<table>\n",
       "<thead><tr><th scope=col>name</th><th scope=col>class</th><th scope=col>English</th><th scope=col>Mathmatics</th><th scope=col>History</th></tr></thead>\n",
       "<tbody>\n",
       "\t<tr><td>A  </td><td>1  </td><td> 80</td><td> 55</td><td>65 </td></tr>\n",
       "\t<tr><td>B  </td><td>1  </td><td> 55</td><td>100</td><td>83 </td></tr>\n",
       "\t<tr><td>C  </td><td>2  </td><td> 65</td><td> 70</td><td>95 </td></tr>\n",
       "\t<tr><td>D  </td><td>1  </td><td> 40</td><td> 63</td><td>70 </td></tr>\n",
       "\t<tr><td>E  </td><td>2  </td><td> 76</td><td> 82</td><td>79 </td></tr>\n",
       "\t<tr><td>F  </td><td>2  </td><td> 93</td><td> 68</td><td>81 </td></tr>\n",
       "\t<tr><td>G  </td><td>1  </td><td>100</td><td> 85</td><td>52 </td></tr>\n",
       "\t<tr><td>H  </td><td>2  </td><td> 73</td><td> 52</td><td>96 </td></tr>\n",
       "\t<tr><td>B  </td><td>1  </td><td> 55</td><td>100</td><td>83 </td></tr>\n",
       "\t<tr><td>D  </td><td>1  </td><td> 40</td><td> 63</td><td>70 </td></tr>\n",
       "\t<tr><td>A  </td><td>1  </td><td> 80</td><td> 55</td><td>65 </td></tr>\n",
       "\t<tr><td>B  </td><td>1  </td><td> 55</td><td>100</td><td>83 </td></tr>\n",
       "\t<tr><td>C  </td><td>2  </td><td> 65</td><td> 70</td><td>95 </td></tr>\n",
       "\t<tr><td>D  </td><td>1  </td><td> 40</td><td> 63</td><td>70 </td></tr>\n",
       "\t<tr><td>E  </td><td>2  </td><td> 76</td><td> 82</td><td>79 </td></tr>\n",
       "\t<tr><td>F  </td><td>2  </td><td> 93</td><td> 68</td><td>81 </td></tr>\n",
       "\t<tr><td>G  </td><td>1  </td><td>100</td><td> 85</td><td>52 </td></tr>\n",
       "\t<tr><td>H  </td><td>2  </td><td> 73</td><td> 52</td><td>96 </td></tr>\n",
       "\t<tr><td>B  </td><td>1  </td><td> 55</td><td>100</td><td>83 </td></tr>\n",
       "\t<tr><td>D  </td><td>1  </td><td> 40</td><td> 63</td><td>70 </td></tr>\n",
       "</tbody>\n",
       "</table>\n"
      ],
      "text/latex": [
       "\\begin{tabular}{r|lllll}\n",
       " name & class & English & Mathmatics & History\\\\\n",
       "\\hline\n",
       "\t A   & 1   &  80 &  55 & 65 \\\\\n",
       "\t B   & 1   &  55 & 100 & 83 \\\\\n",
       "\t C   & 2   &  65 &  70 & 95 \\\\\n",
       "\t D   & 1   &  40 &  63 & 70 \\\\\n",
       "\t E   & 2   &  76 &  82 & 79 \\\\\n",
       "\t F   & 2   &  93 &  68 & 81 \\\\\n",
       "\t G   & 1   & 100 &  85 & 52 \\\\\n",
       "\t H   & 2   &  73 &  52 & 96 \\\\\n",
       "\t B   & 1   &  55 & 100 & 83 \\\\\n",
       "\t D   & 1   &  40 &  63 & 70 \\\\\n",
       "\t A   & 1   &  80 &  55 & 65 \\\\\n",
       "\t B   & 1   &  55 & 100 & 83 \\\\\n",
       "\t C   & 2   &  65 &  70 & 95 \\\\\n",
       "\t D   & 1   &  40 &  63 & 70 \\\\\n",
       "\t E   & 2   &  76 &  82 & 79 \\\\\n",
       "\t F   & 2   &  93 &  68 & 81 \\\\\n",
       "\t G   & 1   & 100 &  85 & 52 \\\\\n",
       "\t H   & 2   &  73 &  52 & 96 \\\\\n",
       "\t B   & 1   &  55 & 100 & 83 \\\\\n",
       "\t D   & 1   &  40 &  63 & 70 \\\\\n",
       "\\end{tabular}\n"
      ],
      "text/markdown": [
       "\n",
       "| name | class | English | Mathmatics | History |\n",
       "|---|---|---|---|---|\n",
       "| A   | 1   |  80 |  55 | 65  |\n",
       "| B   | 1   |  55 | 100 | 83  |\n",
       "| C   | 2   |  65 |  70 | 95  |\n",
       "| D   | 1   |  40 |  63 | 70  |\n",
       "| E   | 2   |  76 |  82 | 79  |\n",
       "| F   | 2   |  93 |  68 | 81  |\n",
       "| G   | 1   | 100 |  85 | 52  |\n",
       "| H   | 2   |  73 |  52 | 96  |\n",
       "| B   | 1   |  55 | 100 | 83  |\n",
       "| D   | 1   |  40 |  63 | 70  |\n",
       "| A   | 1   |  80 |  55 | 65  |\n",
       "| B   | 1   |  55 | 100 | 83  |\n",
       "| C   | 2   |  65 |  70 | 95  |\n",
       "| D   | 1   |  40 |  63 | 70  |\n",
       "| E   | 2   |  76 |  82 | 79  |\n",
       "| F   | 2   |  93 |  68 | 81  |\n",
       "| G   | 1   | 100 |  85 | 52  |\n",
       "| H   | 2   |  73 |  52 | 96  |\n",
       "| B   | 1   |  55 | 100 | 83  |\n",
       "| D   | 1   |  40 |  63 | 70  |\n",
       "\n"
      ],
      "text/plain": [
       "   name class English Mathmatics History\n",
       "1  A    1      80      55        65     \n",
       "2  B    1      55     100        83     \n",
       "3  C    2      65      70        95     \n",
       "4  D    1      40      63        70     \n",
       "5  E    2      76      82        79     \n",
       "6  F    2      93      68        81     \n",
       "7  G    1     100      85        52     \n",
       "8  H    2      73      52        96     \n",
       "9  B    1      55     100        83     \n",
       "10 D    1      40      63        70     \n",
       "11 A    1      80      55        65     \n",
       "12 B    1      55     100        83     \n",
       "13 C    2      65      70        95     \n",
       "14 D    1      40      63        70     \n",
       "15 E    2      76      82        79     \n",
       "16 F    2      93      68        81     \n",
       "17 G    1     100      85        52     \n",
       "18 H    2      73      52        96     \n",
       "19 B    1      55     100        83     \n",
       "20 D    1      40      63        70     "
      ]
     },
     "metadata": {},
     "output_type": "display_data"
    }
   ],
   "source": [
    "# 【65】\n",
    "# df2とdf2を行方向に連結し、df2に格納\n",
    "\n",
    "# https://webbeginner.hatenablog.com/entry/2015/02/06/132256\n",
    "df2 <- read.csv(\"./data/data1.csv\", header=T)\n",
    "df2 <- rbind(df2, df2)\n",
    "df2"
   ]
  },
  {
   "cell_type": "markdown",
   "metadata": {},
   "source": [
    "# 統計 (66 - 79)"
   ]
  },
  {
   "cell_type": "code",
   "execution_count": 11,
   "metadata": {
    "scrolled": true
   },
   "outputs": [
    {
     "data": {
      "text/html": [
       "<table>\n",
       "<thead><tr><th scope=col>pclass</th><th scope=col>survived</th><th scope=col>name</th><th scope=col>sex</th><th scope=col>age</th><th scope=col>sibsp</th><th scope=col>parch</th><th scope=col>ticket</th><th scope=col>fare</th><th scope=col>cabin</th><th scope=col>embarked</th><th scope=col>boat</th><th scope=col>body</th><th scope=col>home.dest</th></tr></thead>\n",
       "<tbody>\n",
       "\t<tr><td>1                                              </td><td>1                                              </td><td>Allen, Miss. Elisabeth Walton                  </td><td>female                                         </td><td>29.00                                          </td><td>0                                              </td><td>0                                              </td><td>24160                                          </td><td>211.3375                                       </td><td>B5                                             </td><td>S                                              </td><td>2                                              </td><td> NA                                            </td><td>St Louis, MO                                   </td></tr>\n",
       "\t<tr><td>1                                              </td><td>1                                              </td><td>Allison, Master. Hudson Trevor                 </td><td>male                                           </td><td> 0.92                                          </td><td>1                                              </td><td>2                                              </td><td>113781                                         </td><td>151.5500                                       </td><td>C22 C26                                        </td><td>S                                              </td><td>11                                             </td><td> NA                                            </td><td>Montreal, PQ / Chesterville, ON                </td></tr>\n",
       "\t<tr><td>1                                              </td><td>0                                              </td><td>Allison, Miss. Helen Loraine                   </td><td>female                                         </td><td> 2.00                                          </td><td>1                                              </td><td>2                                              </td><td>113781                                         </td><td>151.5500                                       </td><td>C22 C26                                        </td><td>S                                              </td><td>                                               </td><td> NA                                            </td><td>Montreal, PQ / Chesterville, ON                </td></tr>\n",
       "\t<tr><td>1                                              </td><td>0                                              </td><td>Allison, Mr. Hudson Joshua Creighton           </td><td>male                                           </td><td>30.00                                          </td><td>1                                              </td><td>2                                              </td><td>113781                                         </td><td>151.5500                                       </td><td>C22 C26                                        </td><td>S                                              </td><td>                                               </td><td>135                                            </td><td>Montreal, PQ / Chesterville, ON                </td></tr>\n",
       "\t<tr><td>1                                              </td><td>0                                              </td><td>Allison, Mrs. Hudson J C (Bessie Waldo Daniels)</td><td>female                                         </td><td>25.00                                          </td><td>1                                              </td><td>2                                              </td><td>113781                                         </td><td>151.5500                                       </td><td>C22 C26                                        </td><td>S                                              </td><td>                                               </td><td> NA                                            </td><td>Montreal, PQ / Chesterville, ON                </td></tr>\n",
       "\t<tr><td>1                                              </td><td>1                                              </td><td>Anderson, Mr. Harry                            </td><td>male                                           </td><td>48.00                                          </td><td>0                                              </td><td>0                                              </td><td>19952                                          </td><td> 26.5500                                       </td><td>E12                                            </td><td>S                                              </td><td>3                                              </td><td> NA                                            </td><td>New York, NY                                   </td></tr>\n",
       "</tbody>\n",
       "</table>\n"
      ],
      "text/latex": [
       "\\begin{tabular}{r|llllllllllllll}\n",
       " pclass & survived & name & sex & age & sibsp & parch & ticket & fare & cabin & embarked & boat & body & home.dest\\\\\n",
       "\\hline\n",
       "\t 1                                               & 1                                               & Allen, Miss. Elisabeth Walton                   & female                                          & 29.00                                           & 0                                               & 0                                               & 24160                                           & 211.3375                                        & B5                                              & S                                               & 2                                               &  NA                                             & St Louis, MO                                   \\\\\n",
       "\t 1                                               & 1                                               & Allison, Master. Hudson Trevor                  & male                                            &  0.92                                           & 1                                               & 2                                               & 113781                                          & 151.5500                                        & C22 C26                                         & S                                               & 11                                              &  NA                                             & Montreal, PQ / Chesterville, ON                \\\\\n",
       "\t 1                                               & 0                                               & Allison, Miss. Helen Loraine                    & female                                          &  2.00                                           & 1                                               & 2                                               & 113781                                          & 151.5500                                        & C22 C26                                         & S                                               &                                                 &  NA                                             & Montreal, PQ / Chesterville, ON                \\\\\n",
       "\t 1                                               & 0                                               & Allison, Mr. Hudson Joshua Creighton            & male                                            & 30.00                                           & 1                                               & 2                                               & 113781                                          & 151.5500                                        & C22 C26                                         & S                                               &                                                 & 135                                             & Montreal, PQ / Chesterville, ON                \\\\\n",
       "\t 1                                               & 0                                               & Allison, Mrs. Hudson J C (Bessie Waldo Daniels) & female                                          & 25.00                                           & 1                                               & 2                                               & 113781                                          & 151.5500                                        & C22 C26                                         & S                                               &                                                 &  NA                                             & Montreal, PQ / Chesterville, ON                \\\\\n",
       "\t 1                                               & 1                                               & Anderson, Mr. Harry                             & male                                            & 48.00                                           & 0                                               & 0                                               & 19952                                           &  26.5500                                        & E12                                             & S                                               & 3                                               &  NA                                             & New York, NY                                   \\\\\n",
       "\\end{tabular}\n"
      ],
      "text/markdown": [
       "\n",
       "| pclass | survived | name | sex | age | sibsp | parch | ticket | fare | cabin | embarked | boat | body | home.dest |\n",
       "|---|---|---|---|---|---|---|---|---|---|---|---|---|---|\n",
       "| 1                                               | 1                                               | Allen, Miss. Elisabeth Walton                   | female                                          | 29.00                                           | 0                                               | 0                                               | 24160                                           | 211.3375                                        | B5                                              | S                                               | 2                                               |  NA                                             | St Louis, MO                                    |\n",
       "| 1                                               | 1                                               | Allison, Master. Hudson Trevor                  | male                                            |  0.92                                           | 1                                               | 2                                               | 113781                                          | 151.5500                                        | C22 C26                                         | S                                               | 11                                              |  NA                                             | Montreal, PQ / Chesterville, ON                 |\n",
       "| 1                                               | 0                                               | Allison, Miss. Helen Loraine                    | female                                          |  2.00                                           | 1                                               | 2                                               | 113781                                          | 151.5500                                        | C22 C26                                         | S                                               |                                                 |  NA                                             | Montreal, PQ / Chesterville, ON                 |\n",
       "| 1                                               | 0                                               | Allison, Mr. Hudson Joshua Creighton            | male                                            | 30.00                                           | 1                                               | 2                                               | 113781                                          | 151.5500                                        | C22 C26                                         | S                                               |                                                 | 135                                             | Montreal, PQ / Chesterville, ON                 |\n",
       "| 1                                               | 0                                               | Allison, Mrs. Hudson J C (Bessie Waldo Daniels) | female                                          | 25.00                                           | 1                                               | 2                                               | 113781                                          | 151.5500                                        | C22 C26                                         | S                                               |                                                 |  NA                                             | Montreal, PQ / Chesterville, ON                 |\n",
       "| 1                                               | 1                                               | Anderson, Mr. Harry                             | male                                            | 48.00                                           | 0                                               | 0                                               | 19952                                           |  26.5500                                        | E12                                             | S                                               | 3                                               |  NA                                             | New York, NY                                    |\n",
       "\n"
      ],
      "text/plain": [
       "  pclass survived name                                            sex    age  \n",
       "1 1      1        Allen, Miss. Elisabeth Walton                   female 29.00\n",
       "2 1      1        Allison, Master. Hudson Trevor                  male    0.92\n",
       "3 1      0        Allison, Miss. Helen Loraine                    female  2.00\n",
       "4 1      0        Allison, Mr. Hudson Joshua Creighton            male   30.00\n",
       "5 1      0        Allison, Mrs. Hudson J C (Bessie Waldo Daniels) female 25.00\n",
       "6 1      1        Anderson, Mr. Harry                             male   48.00\n",
       "  sibsp parch ticket fare     cabin   embarked boat body\n",
       "1 0     0     24160  211.3375 B5      S        2     NA \n",
       "2 1     2     113781 151.5500 C22 C26 S        11    NA \n",
       "3 1     2     113781 151.5500 C22 C26 S              NA \n",
       "4 1     2     113781 151.5500 C22 C26 S             135 \n",
       "5 1     2     113781 151.5500 C22 C26 S              NA \n",
       "6 0     0     19952   26.5500 E12     S        3     NA \n",
       "  home.dest                      \n",
       "1 St Louis, MO                   \n",
       "2 Montreal, PQ / Chesterville, ON\n",
       "3 Montreal, PQ / Chesterville, ON\n",
       "4 Montreal, PQ / Chesterville, ON\n",
       "5 Montreal, PQ / Chesterville, ON\n",
       "6 New York, NY                   "
      ]
     },
     "metadata": {},
     "output_type": "display_data"
    }
   ],
   "source": [
    "head(df)"
   ]
  },
  {
   "cell_type": "code",
   "execution_count": 12,
   "metadata": {},
   "outputs": [
    {
     "data": {
      "text/html": [
       "263"
      ],
      "text/latex": [
       "263"
      ],
      "text/markdown": [
       "263"
      ],
      "text/plain": [
       "[1] 263"
      ]
     },
     "metadata": {},
     "output_type": "display_data"
    }
   ],
   "source": [
    "sum(is.na(df$age))"
   ]
  },
  {
   "cell_type": "code",
   "execution_count": 13,
   "metadata": {},
   "outputs": [
    {
     "data": {
      "text/html": [
       "0"
      ],
      "text/latex": [
       "0"
      ],
      "text/markdown": [
       "0"
      ],
      "text/plain": [
       "[1] 0"
      ]
     },
     "metadata": {},
     "output_type": "display_data"
    }
   ],
   "source": [
    "# age に欠損値がある行を削除\n",
    "# http://sakananoiroiro.seesaa.net/article/452087020.html\n",
    "df <- subset(df, !(is.na(df$age)))\n",
    "sum(is.na(df$age))"
   ]
  },
  {
   "cell_type": "code",
   "execution_count": 14,
   "metadata": {},
   "outputs": [
    {
     "data": {
      "text/html": [
       "29.881137667304"
      ],
      "text/latex": [
       "29.881137667304"
      ],
      "text/markdown": [
       "29.881137667304"
      ],
      "text/plain": [
       "[1] 29.88114"
      ]
     },
     "metadata": {},
     "output_type": "display_data"
    }
   ],
   "source": [
    "# 【66】\n",
    "# dfのage列の平均値を確認\n",
    "\n",
    "# https://symfoware.blog.fc2.com/blog-entry-1512.html\n",
    "mean(df$age)"
   ]
  },
  {
   "cell_type": "code",
   "execution_count": 15,
   "metadata": {},
   "outputs": [
    {
     "data": {
      "text/html": [
       "28"
      ],
      "text/latex": [
       "28"
      ],
      "text/markdown": [
       "28"
      ],
      "text/plain": [
       "[1] 28"
      ]
     },
     "metadata": {},
     "output_type": "display_data"
    }
   ],
   "source": [
    "# 【67】\n",
    "# dfのage列の中央値を確認\n",
    "\n",
    "median(df$age)"
   ]
  },
  {
   "cell_type": "code",
   "execution_count": 16,
   "metadata": {},
   "outputs": [
    {
     "name": "stdout",
     "output_type": "stream",
     "text": [
      "[1] \"①df2の生徒ごとの合計点（行方向の合計）\"\n",
      " [1] 200 238 230 173 237 242 237 221 238 173\n",
      "[1] \"=============================================\"\n",
      "[1] \"②df2の科目ごとの点数の総和（列方向の合計）\"\n",
      "   English Mathmatics    History \n",
      "       677        738        774 \n"
     ]
    }
   ],
   "source": [
    "# 【68】\n",
    "# ①df2の生徒ごとの合計点（行方向の合計）\n",
    "# ②df2の科目ごとの点数の総和（列方向の合計）\n",
    "\n",
    "df2 <- read.csv(\"./data/data1.csv\", header=T)\n",
    "df2 <- df2[, c(-1, -2)]\n",
    "\n",
    "# http://cse.naro.affrc.go.jp/takezawa/r-tips/r/21.html\n",
    "print(\"①df2の生徒ごとの合計点（行方向の合計）\")\n",
    "print(apply(df2, 1, sum))\n",
    "print(\"=============================================\")\n",
    "print(\"②df2の科目ごとの点数の総和（列方向の合計）\")\n",
    "print(apply(df2, 2, sum))"
   ]
  },
  {
   "cell_type": "code",
   "execution_count": 17,
   "metadata": {},
   "outputs": [
    {
     "data": {
      "text/html": [
       "100"
      ],
      "text/latex": [
       "100"
      ],
      "text/markdown": [
       "100"
      ],
      "text/plain": [
       "[1] 100"
      ]
     },
     "metadata": {},
     "output_type": "display_data"
    }
   ],
   "source": [
    "# 【69】\n",
    "# df2のEnglishで得点の最大値\n",
    "\n",
    "max(df2$English)"
   ]
  },
  {
   "cell_type": "code",
   "execution_count": 18,
   "metadata": {},
   "outputs": [
    {
     "data": {
      "text/html": [
       "40"
      ],
      "text/latex": [
       "40"
      ],
      "text/markdown": [
       "40"
      ],
      "text/plain": [
       "[1] 40"
      ]
     },
     "metadata": {},
     "output_type": "display_data"
    }
   ],
   "source": [
    "# 【70】\n",
    "# df2のEnglishで得点の最小値\n",
    "\n",
    "min(df2$English)"
   ]
  },
  {
   "cell_type": "code",
   "execution_count": null,
   "metadata": {},
   "outputs": [],
   "source": []
  }
 ],
 "metadata": {
  "kernelspec": {
   "display_name": "R",
   "language": "R",
   "name": "ir"
  },
  "language_info": {
   "codemirror_mode": "r",
   "file_extension": ".r",
   "mimetype": "text/x-r-source",
   "name": "R",
   "pygments_lexer": "r",
   "version": "3.6.1"
  }
 },
 "nbformat": 4,
 "nbformat_minor": 4
}
