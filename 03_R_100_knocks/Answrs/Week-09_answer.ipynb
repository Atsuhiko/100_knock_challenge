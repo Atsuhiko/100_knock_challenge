{
 "cells": [
  {
   "cell_type": "markdown",
   "metadata": {},
   "source": [
    "# Week-09"
   ]
  },
  {
   "cell_type": "code",
   "execution_count": 1,
   "metadata": {},
   "outputs": [],
   "source": [
    "# getwd() #ディレクトリ確認getwd() #ディレクトリ確認"
   ]
  },
  {
   "cell_type": "code",
   "execution_count": 2,
   "metadata": {},
   "outputs": [],
   "source": [
    "# # setwd() に入れる Path は上記のディレクトリの下の data ファイル\n",
    "# setwd(\"C:/Users/iiats/OneDrive/デスクトップ/１００本ノックチャレンジ/03_R_100_knocks/Questions/data\") \n",
    "# getwd() #ディレクトリ確認"
   ]
  },
  {
   "cell_type": "code",
   "execution_count": 3,
   "metadata": {},
   "outputs": [],
   "source": [
    "# DataFrameの準備\n",
    "# 相対パスでデータを読み込む\n",
    "df <- read.csv(\"./data/titanic3.csv\", header=T)\n",
    "df2 <- read.csv(\"./data/data1.csv\", header=T)\n",
    "df3 <- read.csv(\"./data/data1_2.csv\", header=T)\n",
    "df4 <- read.csv(\"./data/data1_3.csv\", header=T)\n",
    "df5 <- read.csv(\"./data/data2.csv\", header=T, fileEncoding = \"CP932\")"
   ]
  },
  {
   "cell_type": "markdown",
   "metadata": {},
   "source": [
    "# ラベリング (80 - 81)"
   ]
  },
  {
   "cell_type": "code",
   "execution_count": 4,
   "metadata": {},
   "outputs": [],
   "source": [
    "# 【80】\n",
    "# dfのsex列をラベルエンコーディングし、\n",
    "# dfの先頭5行を表示\n",
    "# (from sklearn.preprocessing import LabelEncoderをインポート)\n",
    "\n",
    "# LabelEncoderというものがあるがインストールの仕方が分からないので断念\n",
    "# https://www.rdocumentation.org/packages/superml/versions/0.5.3/topics/LabelEncoder\n",
    "# https://github.com/saraswatmks/superml/tree/master/R\n",
    "# lbl = LabelEncoder$new()\n",
    "# df$sex <- lbl$fit_transform(df$sex)\n",
    "# head(df)"
   ]
  },
  {
   "cell_type": "code",
   "execution_count": 5,
   "metadata": {},
   "outputs": [
    {
     "data": {
      "text/html": [
       "<table>\n",
       "<thead><tr><th scope=col>pclass</th><th scope=col>survived</th><th scope=col>name</th><th scope=col>sex</th><th scope=col>age</th><th scope=col>sibsp</th><th scope=col>parch</th><th scope=col>ticket</th><th scope=col>fare</th><th scope=col>cabin</th><th scope=col>embarked</th><th scope=col>boat</th><th scope=col>body</th><th scope=col>home.dest</th></tr></thead>\n",
       "<tbody>\n",
       "\t<tr><td>1                                              </td><td>1                                              </td><td>Allen, Miss. Elisabeth Walton                  </td><td>1                                              </td><td>29.00                                          </td><td>0                                              </td><td>0                                              </td><td>24160                                          </td><td>211.3375                                       </td><td>B5                                             </td><td>S                                              </td><td>2                                              </td><td> NA                                            </td><td>St Louis, MO                                   </td></tr>\n",
       "\t<tr><td>1                                              </td><td>1                                              </td><td>Allison, Master. Hudson Trevor                 </td><td>0                                              </td><td> 0.92                                          </td><td>1                                              </td><td>2                                              </td><td>113781                                         </td><td>151.5500                                       </td><td>C22 C26                                        </td><td>S                                              </td><td>11                                             </td><td> NA                                            </td><td>Montreal, PQ / Chesterville, ON                </td></tr>\n",
       "\t<tr><td>1                                              </td><td>0                                              </td><td>Allison, Miss. Helen Loraine                   </td><td>1                                              </td><td> 2.00                                          </td><td>1                                              </td><td>2                                              </td><td>113781                                         </td><td>151.5500                                       </td><td>C22 C26                                        </td><td>S                                              </td><td>                                               </td><td> NA                                            </td><td>Montreal, PQ / Chesterville, ON                </td></tr>\n",
       "\t<tr><td>1                                              </td><td>0                                              </td><td>Allison, Mr. Hudson Joshua Creighton           </td><td>0                                              </td><td>30.00                                          </td><td>1                                              </td><td>2                                              </td><td>113781                                         </td><td>151.5500                                       </td><td>C22 C26                                        </td><td>S                                              </td><td>                                               </td><td>135                                            </td><td>Montreal, PQ / Chesterville, ON                </td></tr>\n",
       "\t<tr><td>1                                              </td><td>0                                              </td><td>Allison, Mrs. Hudson J C (Bessie Waldo Daniels)</td><td>1                                              </td><td>25.00                                          </td><td>1                                              </td><td>2                                              </td><td>113781                                         </td><td>151.5500                                       </td><td>C22 C26                                        </td><td>S                                              </td><td>                                               </td><td> NA                                            </td><td>Montreal, PQ / Chesterville, ON                </td></tr>\n",
       "\t<tr><td>1                                              </td><td>1                                              </td><td>Anderson, Mr. Harry                            </td><td>0                                              </td><td>48.00                                          </td><td>0                                              </td><td>0                                              </td><td>19952                                          </td><td> 26.5500                                       </td><td>E12                                            </td><td>S                                              </td><td>3                                              </td><td> NA                                            </td><td>New York, NY                                   </td></tr>\n",
       "</tbody>\n",
       "</table>\n"
      ],
      "text/latex": [
       "\\begin{tabular}{r|llllllllllllll}\n",
       " pclass & survived & name & sex & age & sibsp & parch & ticket & fare & cabin & embarked & boat & body & home.dest\\\\\n",
       "\\hline\n",
       "\t 1                                               & 1                                               & Allen, Miss. Elisabeth Walton                   & 1                                               & 29.00                                           & 0                                               & 0                                               & 24160                                           & 211.3375                                        & B5                                              & S                                               & 2                                               &  NA                                             & St Louis, MO                                   \\\\\n",
       "\t 1                                               & 1                                               & Allison, Master. Hudson Trevor                  & 0                                               &  0.92                                           & 1                                               & 2                                               & 113781                                          & 151.5500                                        & C22 C26                                         & S                                               & 11                                              &  NA                                             & Montreal, PQ / Chesterville, ON                \\\\\n",
       "\t 1                                               & 0                                               & Allison, Miss. Helen Loraine                    & 1                                               &  2.00                                           & 1                                               & 2                                               & 113781                                          & 151.5500                                        & C22 C26                                         & S                                               &                                                 &  NA                                             & Montreal, PQ / Chesterville, ON                \\\\\n",
       "\t 1                                               & 0                                               & Allison, Mr. Hudson Joshua Creighton            & 0                                               & 30.00                                           & 1                                               & 2                                               & 113781                                          & 151.5500                                        & C22 C26                                         & S                                               &                                                 & 135                                             & Montreal, PQ / Chesterville, ON                \\\\\n",
       "\t 1                                               & 0                                               & Allison, Mrs. Hudson J C (Bessie Waldo Daniels) & 1                                               & 25.00                                           & 1                                               & 2                                               & 113781                                          & 151.5500                                        & C22 C26                                         & S                                               &                                                 &  NA                                             & Montreal, PQ / Chesterville, ON                \\\\\n",
       "\t 1                                               & 1                                               & Anderson, Mr. Harry                             & 0                                               & 48.00                                           & 0                                               & 0                                               & 19952                                           &  26.5500                                        & E12                                             & S                                               & 3                                               &  NA                                             & New York, NY                                   \\\\\n",
       "\\end{tabular}\n"
      ],
      "text/markdown": [
       "\n",
       "| pclass | survived | name | sex | age | sibsp | parch | ticket | fare | cabin | embarked | boat | body | home.dest |\n",
       "|---|---|---|---|---|---|---|---|---|---|---|---|---|---|\n",
       "| 1                                               | 1                                               | Allen, Miss. Elisabeth Walton                   | 1                                               | 29.00                                           | 0                                               | 0                                               | 24160                                           | 211.3375                                        | B5                                              | S                                               | 2                                               |  NA                                             | St Louis, MO                                    |\n",
       "| 1                                               | 1                                               | Allison, Master. Hudson Trevor                  | 0                                               |  0.92                                           | 1                                               | 2                                               | 113781                                          | 151.5500                                        | C22 C26                                         | S                                               | 11                                              |  NA                                             | Montreal, PQ / Chesterville, ON                 |\n",
       "| 1                                               | 0                                               | Allison, Miss. Helen Loraine                    | 1                                               |  2.00                                           | 1                                               | 2                                               | 113781                                          | 151.5500                                        | C22 C26                                         | S                                               |                                                 |  NA                                             | Montreal, PQ / Chesterville, ON                 |\n",
       "| 1                                               | 0                                               | Allison, Mr. Hudson Joshua Creighton            | 0                                               | 30.00                                           | 1                                               | 2                                               | 113781                                          | 151.5500                                        | C22 C26                                         | S                                               |                                                 | 135                                             | Montreal, PQ / Chesterville, ON                 |\n",
       "| 1                                               | 0                                               | Allison, Mrs. Hudson J C (Bessie Waldo Daniels) | 1                                               | 25.00                                           | 1                                               | 2                                               | 113781                                          | 151.5500                                        | C22 C26                                         | S                                               |                                                 |  NA                                             | Montreal, PQ / Chesterville, ON                 |\n",
       "| 1                                               | 1                                               | Anderson, Mr. Harry                             | 0                                               | 48.00                                           | 0                                               | 0                                               | 19952                                           |  26.5500                                        | E12                                             | S                                               | 3                                               |  NA                                             | New York, NY                                    |\n",
       "\n"
      ],
      "text/plain": [
       "  pclass survived name                                            sex age  \n",
       "1 1      1        Allen, Miss. Elisabeth Walton                   1   29.00\n",
       "2 1      1        Allison, Master. Hudson Trevor                  0    0.92\n",
       "3 1      0        Allison, Miss. Helen Loraine                    1    2.00\n",
       "4 1      0        Allison, Mr. Hudson Joshua Creighton            0   30.00\n",
       "5 1      0        Allison, Mrs. Hudson J C (Bessie Waldo Daniels) 1   25.00\n",
       "6 1      1        Anderson, Mr. Harry                             0   48.00\n",
       "  sibsp parch ticket fare     cabin   embarked boat body\n",
       "1 0     0     24160  211.3375 B5      S        2     NA \n",
       "2 1     2     113781 151.5500 C22 C26 S        11    NA \n",
       "3 1     2     113781 151.5500 C22 C26 S              NA \n",
       "4 1     2     113781 151.5500 C22 C26 S             135 \n",
       "5 1     2     113781 151.5500 C22 C26 S              NA \n",
       "6 0     0     19952   26.5500 E12     S        3     NA \n",
       "  home.dest                      \n",
       "1 St Louis, MO                   \n",
       "2 Montreal, PQ / Chesterville, ON\n",
       "3 Montreal, PQ / Chesterville, ON\n",
       "4 Montreal, PQ / Chesterville, ON\n",
       "5 Montreal, PQ / Chesterville, ON\n",
       "6 New York, NY                   "
      ]
     },
     "metadata": {},
     "output_type": "display_data"
    }
   ],
   "source": [
    "# male を 0 に、women を 1 に変換する問題とする\n",
    "# 【55】を参照\n",
    "df[\"sex\"] <- lapply(df[\"sex\"], gsub, pattern=\"female\", replacement = \"1\")\n",
    "df[\"sex\"] <- lapply(df[\"sex\"], gsub, pattern=\"male\", replacement = \"0\") # 順番を間違えると fe0 となってしまう。\n",
    "head(df)"
   ]
  },
  {
   "cell_type": "code",
   "execution_count": 6,
   "metadata": {},
   "outputs": [
    {
     "name": "stderr",
     "output_type": "stream",
     "text": [
      "Warning message:\n",
      "\"package 'caret' was built under R version 3.6.3\"Loading required package: lattice\n",
      "Loading required package: ggplot2\n",
      "Warning message:\n",
      "\"package 'ggplot2' was built under R version 3.6.3\""
     ]
    }
   ],
   "source": [
    "# 【81】\n",
    "# dfのsex列をOne-hotエンコーディングし、\n",
    "# dfの先頭5行を表示\n",
    "\n",
    "df <- read.csv(\"./data/titanic3.csv\", header=T)\n",
    "\n",
    "# 前処理大全p208より。\n",
    "# install.packages(\"caret\")\n",
    "library(caret)"
   ]
  },
  {
   "cell_type": "code",
   "execution_count": 7,
   "metadata": {},
   "outputs": [
    {
     "data": {
      "text/html": [
       "<table>\n",
       "<thead><tr><th scope=col>sex.female</th><th scope=col>sex.male</th></tr></thead>\n",
       "<tbody>\n",
       "\t<tr><td>1</td><td>0</td></tr>\n",
       "\t<tr><td>0</td><td>1</td></tr>\n",
       "\t<tr><td>1</td><td>0</td></tr>\n",
       "\t<tr><td>0</td><td>1</td></tr>\n",
       "\t<tr><td>1</td><td>0</td></tr>\n",
       "\t<tr><td>0</td><td>1</td></tr>\n",
       "</tbody>\n",
       "</table>\n"
      ],
      "text/latex": [
       "\\begin{tabular}{r|ll}\n",
       " sex.female & sex.male\\\\\n",
       "\\hline\n",
       "\t 1 & 0\\\\\n",
       "\t 0 & 1\\\\\n",
       "\t 1 & 0\\\\\n",
       "\t 0 & 1\\\\\n",
       "\t 1 & 0\\\\\n",
       "\t 0 & 1\\\\\n",
       "\\end{tabular}\n"
      ],
      "text/markdown": [
       "\n",
       "| sex.female | sex.male |\n",
       "|---|---|\n",
       "| 1 | 0 |\n",
       "| 0 | 1 |\n",
       "| 1 | 0 |\n",
       "| 0 | 1 |\n",
       "| 1 | 0 |\n",
       "| 0 | 1 |\n",
       "\n"
      ],
      "text/plain": [
       "  sex.female sex.male\n",
       "1 1          0       \n",
       "2 0          1       \n",
       "3 1          0       \n",
       "4 0          1       \n",
       "5 1          0       \n",
       "6 0          1       "
      ]
     },
     "metadata": {},
     "output_type": "display_data"
    }
   ],
   "source": [
    "dummy_model <- dummyVars(~sex, data=df, fullRank=FALSE)\n",
    "df_dummy <- predict(dummy_model, df)\n",
    "head(df_dummy)"
   ]
  },
  {
   "cell_type": "code",
   "execution_count": 8,
   "metadata": {},
   "outputs": [
    {
     "data": {
      "text/html": [
       "<table>\n",
       "<thead><tr><th scope=col>pclass</th><th scope=col>survived</th><th scope=col>name</th><th scope=col>sex</th><th scope=col>age</th><th scope=col>sibsp</th><th scope=col>parch</th><th scope=col>ticket</th><th scope=col>fare</th><th scope=col>cabin</th><th scope=col>embarked</th><th scope=col>boat</th><th scope=col>body</th><th scope=col>home.dest</th><th scope=col>sex.female</th><th scope=col>sex.male</th></tr></thead>\n",
       "<tbody>\n",
       "\t<tr><td>1                                              </td><td>1                                              </td><td>Allen, Miss. Elisabeth Walton                  </td><td>female                                         </td><td>29.00                                          </td><td>0                                              </td><td>0                                              </td><td>24160                                          </td><td>211.3375                                       </td><td>B5                                             </td><td>S                                              </td><td>2                                              </td><td> NA                                            </td><td>St Louis, MO                                   </td><td>1                                              </td><td>0                                              </td></tr>\n",
       "\t<tr><td>1                                              </td><td>1                                              </td><td>Allison, Master. Hudson Trevor                 </td><td>male                                           </td><td> 0.92                                          </td><td>1                                              </td><td>2                                              </td><td>113781                                         </td><td>151.5500                                       </td><td>C22 C26                                        </td><td>S                                              </td><td>11                                             </td><td> NA                                            </td><td>Montreal, PQ / Chesterville, ON                </td><td>0                                              </td><td>1                                              </td></tr>\n",
       "\t<tr><td>1                                              </td><td>0                                              </td><td>Allison, Miss. Helen Loraine                   </td><td>female                                         </td><td> 2.00                                          </td><td>1                                              </td><td>2                                              </td><td>113781                                         </td><td>151.5500                                       </td><td>C22 C26                                        </td><td>S                                              </td><td>                                               </td><td> NA                                            </td><td>Montreal, PQ / Chesterville, ON                </td><td>1                                              </td><td>0                                              </td></tr>\n",
       "\t<tr><td>1                                              </td><td>0                                              </td><td>Allison, Mr. Hudson Joshua Creighton           </td><td>male                                           </td><td>30.00                                          </td><td>1                                              </td><td>2                                              </td><td>113781                                         </td><td>151.5500                                       </td><td>C22 C26                                        </td><td>S                                              </td><td>                                               </td><td>135                                            </td><td>Montreal, PQ / Chesterville, ON                </td><td>0                                              </td><td>1                                              </td></tr>\n",
       "\t<tr><td>1                                              </td><td>0                                              </td><td>Allison, Mrs. Hudson J C (Bessie Waldo Daniels)</td><td>female                                         </td><td>25.00                                          </td><td>1                                              </td><td>2                                              </td><td>113781                                         </td><td>151.5500                                       </td><td>C22 C26                                        </td><td>S                                              </td><td>                                               </td><td> NA                                            </td><td>Montreal, PQ / Chesterville, ON                </td><td>1                                              </td><td>0                                              </td></tr>\n",
       "\t<tr><td>1                                              </td><td>1                                              </td><td>Anderson, Mr. Harry                            </td><td>male                                           </td><td>48.00                                          </td><td>0                                              </td><td>0                                              </td><td>19952                                          </td><td> 26.5500                                       </td><td>E12                                            </td><td>S                                              </td><td>3                                              </td><td> NA                                            </td><td>New York, NY                                   </td><td>0                                              </td><td>1                                              </td></tr>\n",
       "</tbody>\n",
       "</table>\n"
      ],
      "text/latex": [
       "\\begin{tabular}{r|llllllllllllllll}\n",
       " pclass & survived & name & sex & age & sibsp & parch & ticket & fare & cabin & embarked & boat & body & home.dest & sex.female & sex.male\\\\\n",
       "\\hline\n",
       "\t 1                                               & 1                                               & Allen, Miss. Elisabeth Walton                   & female                                          & 29.00                                           & 0                                               & 0                                               & 24160                                           & 211.3375                                        & B5                                              & S                                               & 2                                               &  NA                                             & St Louis, MO                                    & 1                                               & 0                                              \\\\\n",
       "\t 1                                               & 1                                               & Allison, Master. Hudson Trevor                  & male                                            &  0.92                                           & 1                                               & 2                                               & 113781                                          & 151.5500                                        & C22 C26                                         & S                                               & 11                                              &  NA                                             & Montreal, PQ / Chesterville, ON                 & 0                                               & 1                                              \\\\\n",
       "\t 1                                               & 0                                               & Allison, Miss. Helen Loraine                    & female                                          &  2.00                                           & 1                                               & 2                                               & 113781                                          & 151.5500                                        & C22 C26                                         & S                                               &                                                 &  NA                                             & Montreal, PQ / Chesterville, ON                 & 1                                               & 0                                              \\\\\n",
       "\t 1                                               & 0                                               & Allison, Mr. Hudson Joshua Creighton            & male                                            & 30.00                                           & 1                                               & 2                                               & 113781                                          & 151.5500                                        & C22 C26                                         & S                                               &                                                 & 135                                             & Montreal, PQ / Chesterville, ON                 & 0                                               & 1                                              \\\\\n",
       "\t 1                                               & 0                                               & Allison, Mrs. Hudson J C (Bessie Waldo Daniels) & female                                          & 25.00                                           & 1                                               & 2                                               & 113781                                          & 151.5500                                        & C22 C26                                         & S                                               &                                                 &  NA                                             & Montreal, PQ / Chesterville, ON                 & 1                                               & 0                                              \\\\\n",
       "\t 1                                               & 1                                               & Anderson, Mr. Harry                             & male                                            & 48.00                                           & 0                                               & 0                                               & 19952                                           &  26.5500                                        & E12                                             & S                                               & 3                                               &  NA                                             & New York, NY                                    & 0                                               & 1                                              \\\\\n",
       "\\end{tabular}\n"
      ],
      "text/markdown": [
       "\n",
       "| pclass | survived | name | sex | age | sibsp | parch | ticket | fare | cabin | embarked | boat | body | home.dest | sex.female | sex.male |\n",
       "|---|---|---|---|---|---|---|---|---|---|---|---|---|---|---|---|\n",
       "| 1                                               | 1                                               | Allen, Miss. Elisabeth Walton                   | female                                          | 29.00                                           | 0                                               | 0                                               | 24160                                           | 211.3375                                        | B5                                              | S                                               | 2                                               |  NA                                             | St Louis, MO                                    | 1                                               | 0                                               |\n",
       "| 1                                               | 1                                               | Allison, Master. Hudson Trevor                  | male                                            |  0.92                                           | 1                                               | 2                                               | 113781                                          | 151.5500                                        | C22 C26                                         | S                                               | 11                                              |  NA                                             | Montreal, PQ / Chesterville, ON                 | 0                                               | 1                                               |\n",
       "| 1                                               | 0                                               | Allison, Miss. Helen Loraine                    | female                                          |  2.00                                           | 1                                               | 2                                               | 113781                                          | 151.5500                                        | C22 C26                                         | S                                               |                                                 |  NA                                             | Montreal, PQ / Chesterville, ON                 | 1                                               | 0                                               |\n",
       "| 1                                               | 0                                               | Allison, Mr. Hudson Joshua Creighton            | male                                            | 30.00                                           | 1                                               | 2                                               | 113781                                          | 151.5500                                        | C22 C26                                         | S                                               |                                                 | 135                                             | Montreal, PQ / Chesterville, ON                 | 0                                               | 1                                               |\n",
       "| 1                                               | 0                                               | Allison, Mrs. Hudson J C (Bessie Waldo Daniels) | female                                          | 25.00                                           | 1                                               | 2                                               | 113781                                          | 151.5500                                        | C22 C26                                         | S                                               |                                                 |  NA                                             | Montreal, PQ / Chesterville, ON                 | 1                                               | 0                                               |\n",
       "| 1                                               | 1                                               | Anderson, Mr. Harry                             | male                                            | 48.00                                           | 0                                               | 0                                               | 19952                                           |  26.5500                                        | E12                                             | S                                               | 3                                               |  NA                                             | New York, NY                                    | 0                                               | 1                                               |\n",
       "\n"
      ],
      "text/plain": [
       "  pclass survived name                                            sex    age  \n",
       "1 1      1        Allen, Miss. Elisabeth Walton                   female 29.00\n",
       "2 1      1        Allison, Master. Hudson Trevor                  male    0.92\n",
       "3 1      0        Allison, Miss. Helen Loraine                    female  2.00\n",
       "4 1      0        Allison, Mr. Hudson Joshua Creighton            male   30.00\n",
       "5 1      0        Allison, Mrs. Hudson J C (Bessie Waldo Daniels) female 25.00\n",
       "6 1      1        Anderson, Mr. Harry                             male   48.00\n",
       "  sibsp parch ticket fare     cabin   embarked boat body\n",
       "1 0     0     24160  211.3375 B5      S        2     NA \n",
       "2 1     2     113781 151.5500 C22 C26 S        11    NA \n",
       "3 1     2     113781 151.5500 C22 C26 S              NA \n",
       "4 1     2     113781 151.5500 C22 C26 S             135 \n",
       "5 1     2     113781 151.5500 C22 C26 S              NA \n",
       "6 0     0     19952   26.5500 E12     S        3     NA \n",
       "  home.dest                       sex.female sex.male\n",
       "1 St Louis, MO                    1          0       \n",
       "2 Montreal, PQ / Chesterville, ON 0          1       \n",
       "3 Montreal, PQ / Chesterville, ON 1          0       \n",
       "4 Montreal, PQ / Chesterville, ON 0          1       \n",
       "5 Montreal, PQ / Chesterville, ON 1          0       \n",
       "6 New York, NY                    0          1       "
      ]
     },
     "metadata": {},
     "output_type": "display_data"
    }
   ],
   "source": [
    "df_dummy2 <- cbind(df, df_dummy)\n",
    "head(df_dummy2)"
   ]
  },
  {
   "cell_type": "markdown",
   "metadata": {},
   "source": [
    "# プロット (82 - 89)"
   ]
  },
  {
   "cell_type": "code",
   "execution_count": 9,
   "metadata": {},
   "outputs": [],
   "source": [
    "# グラフの出力サイズの設定\n",
    "# https://stackoverrun.com/ja/q/11752310\n",
    "options(repr.plot.width = 3, repr.plot.height = 3) "
   ]
  },
  {
   "cell_type": "code",
   "execution_count": 10,
   "metadata": {},
   "outputs": [
    {
     "data": {
      "text/html": [
       "<table>\n",
       "<thead><tr><th scope=col>pclass</th><th scope=col>survived</th><th scope=col>name</th><th scope=col>sex</th><th scope=col>age</th><th scope=col>sibsp</th><th scope=col>parch</th><th scope=col>ticket</th><th scope=col>fare</th><th scope=col>cabin</th><th scope=col>embarked</th><th scope=col>boat</th><th scope=col>body</th><th scope=col>home.dest</th></tr></thead>\n",
       "<tbody>\n",
       "\t<tr><td>1                                              </td><td>1                                              </td><td>Allen, Miss. Elisabeth Walton                  </td><td>female                                         </td><td>29.00                                          </td><td>0                                              </td><td>0                                              </td><td>24160                                          </td><td>211.3375                                       </td><td>B5                                             </td><td>S                                              </td><td>2                                              </td><td> NA                                            </td><td>St Louis, MO                                   </td></tr>\n",
       "\t<tr><td>1                                              </td><td>1                                              </td><td>Allison, Master. Hudson Trevor                 </td><td>male                                           </td><td> 0.92                                          </td><td>1                                              </td><td>2                                              </td><td>113781                                         </td><td>151.5500                                       </td><td>C22 C26                                        </td><td>S                                              </td><td>11                                             </td><td> NA                                            </td><td>Montreal, PQ / Chesterville, ON                </td></tr>\n",
       "\t<tr><td>1                                              </td><td>0                                              </td><td>Allison, Miss. Helen Loraine                   </td><td>female                                         </td><td> 2.00                                          </td><td>1                                              </td><td>2                                              </td><td>113781                                         </td><td>151.5500                                       </td><td>C22 C26                                        </td><td>S                                              </td><td>                                               </td><td> NA                                            </td><td>Montreal, PQ / Chesterville, ON                </td></tr>\n",
       "\t<tr><td>1                                              </td><td>0                                              </td><td>Allison, Mr. Hudson Joshua Creighton           </td><td>male                                           </td><td>30.00                                          </td><td>1                                              </td><td>2                                              </td><td>113781                                         </td><td>151.5500                                       </td><td>C22 C26                                        </td><td>S                                              </td><td>                                               </td><td>135                                            </td><td>Montreal, PQ / Chesterville, ON                </td></tr>\n",
       "\t<tr><td>1                                              </td><td>0                                              </td><td>Allison, Mrs. Hudson J C (Bessie Waldo Daniels)</td><td>female                                         </td><td>25.00                                          </td><td>1                                              </td><td>2                                              </td><td>113781                                         </td><td>151.5500                                       </td><td>C22 C26                                        </td><td>S                                              </td><td>                                               </td><td> NA                                            </td><td>Montreal, PQ / Chesterville, ON                </td></tr>\n",
       "\t<tr><td>1                                              </td><td>1                                              </td><td>Anderson, Mr. Harry                            </td><td>male                                           </td><td>48.00                                          </td><td>0                                              </td><td>0                                              </td><td>19952                                          </td><td> 26.5500                                       </td><td>E12                                            </td><td>S                                              </td><td>3                                              </td><td> NA                                            </td><td>New York, NY                                   </td></tr>\n",
       "</tbody>\n",
       "</table>\n"
      ],
      "text/latex": [
       "\\begin{tabular}{r|llllllllllllll}\n",
       " pclass & survived & name & sex & age & sibsp & parch & ticket & fare & cabin & embarked & boat & body & home.dest\\\\\n",
       "\\hline\n",
       "\t 1                                               & 1                                               & Allen, Miss. Elisabeth Walton                   & female                                          & 29.00                                           & 0                                               & 0                                               & 24160                                           & 211.3375                                        & B5                                              & S                                               & 2                                               &  NA                                             & St Louis, MO                                   \\\\\n",
       "\t 1                                               & 1                                               & Allison, Master. Hudson Trevor                  & male                                            &  0.92                                           & 1                                               & 2                                               & 113781                                          & 151.5500                                        & C22 C26                                         & S                                               & 11                                              &  NA                                             & Montreal, PQ / Chesterville, ON                \\\\\n",
       "\t 1                                               & 0                                               & Allison, Miss. Helen Loraine                    & female                                          &  2.00                                           & 1                                               & 2                                               & 113781                                          & 151.5500                                        & C22 C26                                         & S                                               &                                                 &  NA                                             & Montreal, PQ / Chesterville, ON                \\\\\n",
       "\t 1                                               & 0                                               & Allison, Mr. Hudson Joshua Creighton            & male                                            & 30.00                                           & 1                                               & 2                                               & 113781                                          & 151.5500                                        & C22 C26                                         & S                                               &                                                 & 135                                             & Montreal, PQ / Chesterville, ON                \\\\\n",
       "\t 1                                               & 0                                               & Allison, Mrs. Hudson J C (Bessie Waldo Daniels) & female                                          & 25.00                                           & 1                                               & 2                                               & 113781                                          & 151.5500                                        & C22 C26                                         & S                                               &                                                 &  NA                                             & Montreal, PQ / Chesterville, ON                \\\\\n",
       "\t 1                                               & 1                                               & Anderson, Mr. Harry                             & male                                            & 48.00                                           & 0                                               & 0                                               & 19952                                           &  26.5500                                        & E12                                             & S                                               & 3                                               &  NA                                             & New York, NY                                   \\\\\n",
       "\\end{tabular}\n"
      ],
      "text/markdown": [
       "\n",
       "| pclass | survived | name | sex | age | sibsp | parch | ticket | fare | cabin | embarked | boat | body | home.dest |\n",
       "|---|---|---|---|---|---|---|---|---|---|---|---|---|---|\n",
       "| 1                                               | 1                                               | Allen, Miss. Elisabeth Walton                   | female                                          | 29.00                                           | 0                                               | 0                                               | 24160                                           | 211.3375                                        | B5                                              | S                                               | 2                                               |  NA                                             | St Louis, MO                                    |\n",
       "| 1                                               | 1                                               | Allison, Master. Hudson Trevor                  | male                                            |  0.92                                           | 1                                               | 2                                               | 113781                                          | 151.5500                                        | C22 C26                                         | S                                               | 11                                              |  NA                                             | Montreal, PQ / Chesterville, ON                 |\n",
       "| 1                                               | 0                                               | Allison, Miss. Helen Loraine                    | female                                          |  2.00                                           | 1                                               | 2                                               | 113781                                          | 151.5500                                        | C22 C26                                         | S                                               |                                                 |  NA                                             | Montreal, PQ / Chesterville, ON                 |\n",
       "| 1                                               | 0                                               | Allison, Mr. Hudson Joshua Creighton            | male                                            | 30.00                                           | 1                                               | 2                                               | 113781                                          | 151.5500                                        | C22 C26                                         | S                                               |                                                 | 135                                             | Montreal, PQ / Chesterville, ON                 |\n",
       "| 1                                               | 0                                               | Allison, Mrs. Hudson J C (Bessie Waldo Daniels) | female                                          | 25.00                                           | 1                                               | 2                                               | 113781                                          | 151.5500                                        | C22 C26                                         | S                                               |                                                 |  NA                                             | Montreal, PQ / Chesterville, ON                 |\n",
       "| 1                                               | 1                                               | Anderson, Mr. Harry                             | male                                            | 48.00                                           | 0                                               | 0                                               | 19952                                           |  26.5500                                        | E12                                             | S                                               | 3                                               |  NA                                             | New York, NY                                    |\n",
       "\n"
      ],
      "text/plain": [
       "  pclass survived name                                            sex    age  \n",
       "1 1      1        Allen, Miss. Elisabeth Walton                   female 29.00\n",
       "2 1      1        Allison, Master. Hudson Trevor                  male    0.92\n",
       "3 1      0        Allison, Miss. Helen Loraine                    female  2.00\n",
       "4 1      0        Allison, Mr. Hudson Joshua Creighton            male   30.00\n",
       "5 1      0        Allison, Mrs. Hudson J C (Bessie Waldo Daniels) female 25.00\n",
       "6 1      1        Anderson, Mr. Harry                             male   48.00\n",
       "  sibsp parch ticket fare     cabin   embarked boat body\n",
       "1 0     0     24160  211.3375 B5      S        2     NA \n",
       "2 1     2     113781 151.5500 C22 C26 S        11    NA \n",
       "3 1     2     113781 151.5500 C22 C26 S              NA \n",
       "4 1     2     113781 151.5500 C22 C26 S             135 \n",
       "5 1     2     113781 151.5500 C22 C26 S              NA \n",
       "6 0     0     19952   26.5500 E12     S        3     NA \n",
       "  home.dest                      \n",
       "1 St Louis, MO                   \n",
       "2 Montreal, PQ / Chesterville, ON\n",
       "3 Montreal, PQ / Chesterville, ON\n",
       "4 Montreal, PQ / Chesterville, ON\n",
       "5 Montreal, PQ / Chesterville, ON\n",
       "6 New York, NY                   "
      ]
     },
     "metadata": {},
     "output_type": "display_data"
    }
   ],
   "source": [
    "df <- read.csv(\"./data/titanic3.csv\", header=T)\n",
    "head(df)"
   ]
  },
  {
   "cell_type": "code",
   "execution_count": 11,
   "metadata": {
    "scrolled": true
   },
   "outputs": [
    {
     "data": {
      "image/png": "[encoded data removed]",
      "text/plain": [
       "Plot with title \"Histogram of df$pclass\""
      ]
     },
     "metadata": {},
     "output_type": "display_data"
    },
    {
     "data": {
      "image/png": "[encoded data removed]",
      "text/plain": [
       "Plot with title \"Histogram of df$survived\""
      ]
     },
     "metadata": {},
     "output_type": "display_data"
    },
    {
     "data": {
      "image/png": "[encoded data removed]",
      "text/plain": [
       "Plot with title \"Histogram of df$age\""
      ]
     },
     "metadata": {},
     "output_type": "display_data"
    },
    {
     "data": {
      "image/png": "[encoded data removed]",
      "text/plain": [
       "Plot with title \"Histogram of df$parch\""
      ]
     },
     "metadata": {},
     "output_type": "display_data"
    },
    {
     "data": {
      "image/png": "[encoded data removed]",
      "text/plain": [
       "Plot with title \"Histogram of df$fare\""
      ]
     },
     "metadata": {},
     "output_type": "display_data"
    },
    {
     "data": {
      "image/png": "[encoded data removed]",
      "text/plain": [
       "Plot with title \"Histogram of df$body\""
      ]
     },
     "metadata": {},
     "output_type": "display_data"
    }
   ],
   "source": [
    "# 【82】\n",
    "# dfのすべての数値列のヒストグラムを表示\n",
    "\n",
    "# 全部を一度に描く方法が分からなかったので、順次表示\n",
    "hist(df$pclass)\n",
    "hist(df$survived)\n",
    "hist(df$age)\n",
    "hist(df$parch)\n",
    "hist(df$fare)\n",
    "hist(df$body)"
   ]
  },
  {
   "cell_type": "code",
   "execution_count": 12,
   "metadata": {
    "scrolled": false
   },
   "outputs": [
    {
     "name": "stderr",
     "output_type": "stream",
     "text": [
      "`stat_bin()` using `bins = 30`. Pick better value with `binwidth`.\n",
      "Warning message:\n",
      "\"Removed 263 rows containing non-finite values (stat_bin).\""
     ]
    },
    {
     "data": {
      "image/png": "[encoded data removed]",
      "text/plain": [
       "plot without title"
      ]
     },
     "metadata": {},
     "output_type": "display_data"
    }
   ],
   "source": [
    "# 【83】\n",
    "# dfのage列をヒストグラムで表示\n",
    "\n",
    "# https://www.r-graph-gallery.com/220-basic-ggplot2-histogram.html\n",
    "g <- ggplot(df, aes(x = age))\n",
    "g <- g + geom_histogram()\n",
    "plot(g)"
   ]
  },
  {
   "cell_type": "code",
   "execution_count": 13,
   "metadata": {
    "scrolled": true
   },
   "outputs": [
    {
     "data": {
      "text/html": [
       "<table>\n",
       "<thead><tr><th scope=col>name</th><th scope=col>class</th><th scope=col>English</th><th scope=col>Mathmatics</th><th scope=col>History</th></tr></thead>\n",
       "<tbody>\n",
       "\t<tr><td>A  </td><td>1  </td><td>80 </td><td> 55</td><td>65 </td></tr>\n",
       "\t<tr><td>B  </td><td>1  </td><td>55 </td><td>100</td><td>83 </td></tr>\n",
       "\t<tr><td>C  </td><td>2  </td><td>65 </td><td> 70</td><td>95 </td></tr>\n",
       "\t<tr><td>D  </td><td>1  </td><td>40 </td><td> 63</td><td>70 </td></tr>\n",
       "\t<tr><td>E  </td><td>2  </td><td>76 </td><td> 82</td><td>79 </td></tr>\n",
       "\t<tr><td>F  </td><td>2  </td><td>93 </td><td> 68</td><td>81 </td></tr>\n",
       "</tbody>\n",
       "</table>\n"
      ],
      "text/latex": [
       "\\begin{tabular}{r|lllll}\n",
       " name & class & English & Mathmatics & History\\\\\n",
       "\\hline\n",
       "\t A   & 1   & 80  &  55 & 65 \\\\\n",
       "\t B   & 1   & 55  & 100 & 83 \\\\\n",
       "\t C   & 2   & 65  &  70 & 95 \\\\\n",
       "\t D   & 1   & 40  &  63 & 70 \\\\\n",
       "\t E   & 2   & 76  &  82 & 79 \\\\\n",
       "\t F   & 2   & 93  &  68 & 81 \\\\\n",
       "\\end{tabular}\n"
      ],
      "text/markdown": [
       "\n",
       "| name | class | English | Mathmatics | History |\n",
       "|---|---|---|---|---|\n",
       "| A   | 1   | 80  |  55 | 65  |\n",
       "| B   | 1   | 55  | 100 | 83  |\n",
       "| C   | 2   | 65  |  70 | 95  |\n",
       "| D   | 1   | 40  |  63 | 70  |\n",
       "| E   | 2   | 76  |  82 | 79  |\n",
       "| F   | 2   | 93  |  68 | 81  |\n",
       "\n"
      ],
      "text/plain": [
       "  name class English Mathmatics History\n",
       "1 A    1     80       55        65     \n",
       "2 B    1     55      100        83     \n",
       "3 C    2     65       70        95     \n",
       "4 D    1     40       63        70     \n",
       "5 E    2     76       82        79     \n",
       "6 F    2     93       68        81     "
      ]
     },
     "metadata": {},
     "output_type": "display_data"
    }
   ],
   "source": [
    "# 【84】\n",
    "# df2のname列の要素ごとの3科目合計得点を棒グラフで表示\n",
    "\n",
    "head(df2)"
   ]
  },
  {
   "cell_type": "code",
   "execution_count": 14,
   "metadata": {
    "scrolled": true
   },
   "outputs": [
    {
     "data": {
      "text/html": [
       "<table>\n",
       "<thead><tr><th scope=col>name</th><th scope=col>class</th><th scope=col>English</th><th scope=col>Mathmatics</th><th scope=col>History</th><th scope=col>sum</th></tr></thead>\n",
       "<tbody>\n",
       "\t<tr><td>A  </td><td>1  </td><td>80 </td><td> 55</td><td>65 </td><td>200</td></tr>\n",
       "\t<tr><td>B  </td><td>1  </td><td>55 </td><td>100</td><td>83 </td><td>238</td></tr>\n",
       "\t<tr><td>C  </td><td>2  </td><td>65 </td><td> 70</td><td>95 </td><td>230</td></tr>\n",
       "\t<tr><td>D  </td><td>1  </td><td>40 </td><td> 63</td><td>70 </td><td>173</td></tr>\n",
       "\t<tr><td>E  </td><td>2  </td><td>76 </td><td> 82</td><td>79 </td><td>237</td></tr>\n",
       "\t<tr><td>F  </td><td>2  </td><td>93 </td><td> 68</td><td>81 </td><td>242</td></tr>\n",
       "</tbody>\n",
       "</table>\n"
      ],
      "text/latex": [
       "\\begin{tabular}{r|llllll}\n",
       " name & class & English & Mathmatics & History & sum\\\\\n",
       "\\hline\n",
       "\t A   & 1   & 80  &  55 & 65  & 200\\\\\n",
       "\t B   & 1   & 55  & 100 & 83  & 238\\\\\n",
       "\t C   & 2   & 65  &  70 & 95  & 230\\\\\n",
       "\t D   & 1   & 40  &  63 & 70  & 173\\\\\n",
       "\t E   & 2   & 76  &  82 & 79  & 237\\\\\n",
       "\t F   & 2   & 93  &  68 & 81  & 242\\\\\n",
       "\\end{tabular}\n"
      ],
      "text/markdown": [
       "\n",
       "| name | class | English | Mathmatics | History | sum |\n",
       "|---|---|---|---|---|---|\n",
       "| A   | 1   | 80  |  55 | 65  | 200 |\n",
       "| B   | 1   | 55  | 100 | 83  | 238 |\n",
       "| C   | 2   | 65  |  70 | 95  | 230 |\n",
       "| D   | 1   | 40  |  63 | 70  | 173 |\n",
       "| E   | 2   | 76  |  82 | 79  | 237 |\n",
       "| F   | 2   | 93  |  68 | 81  | 242 |\n",
       "\n"
      ],
      "text/plain": [
       "  name class English Mathmatics History sum\n",
       "1 A    1     80       55        65      200\n",
       "2 B    1     55      100        83      238\n",
       "3 C    2     65       70        95      230\n",
       "4 D    1     40       63        70      173\n",
       "5 E    2     76       82        79      237\n",
       "6 F    2     93       68        81      242"
      ]
     },
     "metadata": {},
     "output_type": "display_data"
    }
   ],
   "source": [
    "df_tmp <- df2[c(\"English\", \"Mathmatics\", \"History\")]\n",
    "sum <- apply(df_tmp, 1, sum)\n",
    "df_tmp2 <- cbind(df2, sum)\n",
    "head(df_tmp2)"
   ]
  },
  {
   "cell_type": "code",
   "execution_count": 15,
   "metadata": {
    "scrolled": true
   },
   "outputs": [
    {
     "data": {
      "text/html": [
       "<table>\n",
       "<thead><tr><th scope=col>name</th><th scope=col>sum</th></tr></thead>\n",
       "<tbody>\n",
       "\t<tr><td>A  </td><td>200</td></tr>\n",
       "\t<tr><td>B  </td><td>238</td></tr>\n",
       "\t<tr><td>C  </td><td>230</td></tr>\n",
       "\t<tr><td>D  </td><td>173</td></tr>\n",
       "\t<tr><td>E  </td><td>237</td></tr>\n",
       "\t<tr><td>F  </td><td>242</td></tr>\n",
       "</tbody>\n",
       "</table>\n"
      ],
      "text/latex": [
       "\\begin{tabular}{r|ll}\n",
       " name & sum\\\\\n",
       "\\hline\n",
       "\t A   & 200\\\\\n",
       "\t B   & 238\\\\\n",
       "\t C   & 230\\\\\n",
       "\t D   & 173\\\\\n",
       "\t E   & 237\\\\\n",
       "\t F   & 242\\\\\n",
       "\\end{tabular}\n"
      ],
      "text/markdown": [
       "\n",
       "| name | sum |\n",
       "|---|---|\n",
       "| A   | 200 |\n",
       "| B   | 238 |\n",
       "| C   | 230 |\n",
       "| D   | 173 |\n",
       "| E   | 237 |\n",
       "| F   | 242 |\n",
       "\n"
      ],
      "text/plain": [
       "  name sum\n",
       "1 A    200\n",
       "2 B    238\n",
       "3 C    230\n",
       "4 D    173\n",
       "5 E    237\n",
       "6 F    242"
      ]
     },
     "metadata": {},
     "output_type": "display_data"
    }
   ],
   "source": [
    "df_tmp3 <- df_tmp2[c(\"name\", \"sum\")]\n",
    "head(df_tmp3)"
   ]
  },
  {
   "cell_type": "code",
   "execution_count": 16,
   "metadata": {},
   "outputs": [],
   "source": [
    "# グラフの出力サイズの設定\n",
    "# https://stackoverrun.com/ja/q/11752310\n",
    "options(repr.plot.width = 4, repr.plot.height = 4) "
   ]
  },
  {
   "cell_type": "code",
   "execution_count": 17,
   "metadata": {},
   "outputs": [
    {
     "data": {
      "image/png": "[encoded data removed]",
      "text/plain": [
       "plot without title"
      ]
     },
     "metadata": {},
     "output_type": "display_data"
    }
   ],
   "source": [
    "# https://symfoware.blog.fc2.com/blog-entry-1508.html\n",
    "barplot(df_tmp3[,2], names.arg=df_tmp3$name)"
   ]
  },
  {
   "cell_type": "code",
   "execution_count": 18,
   "metadata": {
    "scrolled": true
   },
   "outputs": [
    {
     "data": {
      "text/html": [
       "<table>\n",
       "<thead><tr><th></th><th scope=col>A</th><th scope=col>B</th><th scope=col>C</th><th scope=col>D</th><th scope=col>E</th><th scope=col>F</th><th scope=col>G</th><th scope=col>H</th><th scope=col>B</th><th scope=col>D</th></tr></thead>\n",
       "<tbody>\n",
       "\t<tr><th scope=row>English</th><td>80 </td><td> 55</td><td>65 </td><td>40 </td><td>76 </td><td>93 </td><td>100</td><td>73 </td><td> 55</td><td>40 </td></tr>\n",
       "\t<tr><th scope=row>Mathmatics</th><td>55 </td><td>100</td><td>70 </td><td>63 </td><td>82 </td><td>68 </td><td> 85</td><td>52 </td><td>100</td><td>63 </td></tr>\n",
       "\t<tr><th scope=row>History</th><td>65 </td><td> 83</td><td>95 </td><td>70 </td><td>79 </td><td>81 </td><td> 52</td><td>96 </td><td> 83</td><td>70 </td></tr>\n",
       "</tbody>\n",
       "</table>\n"
      ],
      "text/latex": [
       "\\begin{tabular}{r|llllllllll}\n",
       "  & A & B & C & D & E & F & G & H & B & D\\\\\n",
       "\\hline\n",
       "\tEnglish & 80  &  55 & 65  & 40  & 76  & 93  & 100 & 73  &  55 & 40 \\\\\n",
       "\tMathmatics & 55  & 100 & 70  & 63  & 82  & 68  &  85 & 52  & 100 & 63 \\\\\n",
       "\tHistory & 65  &  83 & 95  & 70  & 79  & 81  &  52 & 96  &  83 & 70 \\\\\n",
       "\\end{tabular}\n"
      ],
      "text/markdown": [
       "\n",
       "| <!--/--> | A | B | C | D | E | F | G | H | B | D |\n",
       "|---|---|---|---|---|---|---|---|---|---|---|\n",
       "| English | 80  |  55 | 65  | 40  | 76  | 93  | 100 | 73  |  55 | 40  |\n",
       "| Mathmatics | 55  | 100 | 70  | 63  | 82  | 68  |  85 | 52  | 100 | 63  |\n",
       "| History | 65  |  83 | 95  | 70  | 79  | 81  |  52 | 96  |  83 | 70  |\n",
       "\n"
      ],
      "text/plain": [
       "           A  B   C  D  E  F  G   H  B   D \n",
       "English    80  55 65 40 76 93 100 73  55 40\n",
       "Mathmatics 55 100 70 63 82 68  85 52 100 63\n",
       "History    65  83 95 70 79 81  52 96  83 70"
      ]
     },
     "metadata": {},
     "output_type": "display_data"
    }
   ],
   "source": [
    "# 【85】\n",
    "# df2のname列の要素ごとの3科目を棒グラフで\n",
    "# 並べて表示\n",
    "\n",
    "df2 <- read.csv(\"./data/data1.csv\", header=T)\n",
    "df_tmp <- as.matrix(t(df2[c(-1,-2)]))\n",
    "colnames(df_tmp) <- df2$name\n",
    "head(df_tmp)"
   ]
  },
  {
   "cell_type": "code",
   "execution_count": 19,
   "metadata": {},
   "outputs": [],
   "source": [
    "# グラフの出力サイズの設定\n",
    "# https://stackoverrun.com/ja/q/11752310\n",
    "options(repr.plot.width = 6, repr.plot.height = 6) "
   ]
  },
  {
   "cell_type": "code",
   "execution_count": 20,
   "metadata": {
    "scrolled": false
   },
   "outputs": [
    {
     "data": {
      "image/png": "[encoded data removed]",
      "text/plain": [
       "plot without title"
      ]
     },
     "metadata": {},
     "output_type": "display_data"
    }
   ],
   "source": [
    "# http://www.isc.meiji.ac.jp/~mizutani/R/spread/basic_graphics.html\n",
    "barplot(df_tmp, beside = TRUE, legend = rownames(df_tmp))"
   ]
  },
  {
   "cell_type": "code",
   "execution_count": 21,
   "metadata": {},
   "outputs": [
    {
     "data": {
      "image/png": "[encoded data removed]",
      "text/plain": [
       "plot without title"
      ]
     },
     "metadata": {},
     "output_type": "display_data"
    }
   ],
   "source": [
    "# 【86】\n",
    "# df2のname列の要素ごとの3科目を積み上げ棒グラフで表示\n",
    "\n",
    "barplot(df_tmp, legend = rownames(df_tmp))"
   ]
  },
  {
   "cell_type": "code",
   "execution_count": 22,
   "metadata": {},
   "outputs": [
    {
     "data": {
      "image/png": "[encoded data removed]",
      "text/plain": [
       "plot without title"
      ]
     },
     "metadata": {},
     "output_type": "display_data"
    }
   ],
   "source": [
    "# 【87】\n",
    "# dfの各列間の散布図を表示\n",
    "# (from pandas.plotting import scatter_matrixをインポート)\n",
    "\n",
    "pairs(df)"
   ]
  },
  {
   "cell_type": "code",
   "execution_count": 23,
   "metadata": {},
   "outputs": [
    {
     "data": {
      "image/png": "[encoded data removed]",
      "text/plain": [
       "plot without title"
      ]
     },
     "metadata": {},
     "output_type": "display_data"
    }
   ],
   "source": [
    "# 【88】\n",
    "# dfのage列とfare列で散布図を作成\n",
    "\n",
    "age <- df$age\n",
    "fare <- df$fare\n",
    "plot(age, fare)"
   ]
  },
  {
   "cell_type": "code",
   "execution_count": 24,
   "metadata": {},
   "outputs": [
    {
     "data": {
      "image/png": "[encoded data removed]",
      "text/plain": [
       "Plot with title \"age-fare scatter\""
      ]
     },
     "metadata": {},
     "output_type": "display_data"
    }
   ],
   "source": [
    "# 【89】\n",
    "# 【88】で描画したグラフに「age-fare scatter」という\n",
    "# グラフタイトルをつける\n",
    "\n",
    "plot(age, fare, main=\"age-fare scatter\")"
   ]
  },
  {
   "cell_type": "code",
   "execution_count": null,
   "metadata": {},
   "outputs": [],
   "source": []
  }
 ],
 "metadata": {
  "kernelspec": {
   "display_name": "R",
   "language": "R",
   "name": "ir"
  },
  "language_info": {
   "codemirror_mode": "r",
   "file_extension": ".r",
   "mimetype": "text/x-r-source",
   "name": "R",
   "pygments_lexer": "r",
   "version": "3.6.1"
  }
 },
 "nbformat": 4,
 "nbformat_minor": 4
}
