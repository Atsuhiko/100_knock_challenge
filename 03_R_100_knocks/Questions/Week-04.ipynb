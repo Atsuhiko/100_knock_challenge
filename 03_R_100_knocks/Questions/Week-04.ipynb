{
 "cells": [
  {
   "cell_type": "markdown",
   "metadata": {},
   "source": [
    "# Week-04"
   ]
  },
  {
   "cell_type": "code",
   "execution_count": null,
   "metadata": {},
   "outputs": [],
   "source": [
    "# ライブラリーの読み込み\n",
    "import pandas as pd\n",
    "import glob\n",
    "\n",
    "# DataFrameの準備\n",
    "df = pd.read_csv('./data/titanic3.csv'')\n",
    "df2 = pd.read_csv('./data/data1.csv')\n",
    "df3 = pd.read_csv('./data/data1_2.csv')\n",
    "df4 = pd.read_csv('./data/data1_3.csv')\n",
    "df5 = pd.read_csv('./data/data2.csv',encoding='cp932')"
   ]
  },
  {
   "cell_type": "markdown",
   "metadata": {},
   "source": [
    "# データ抽出 (14 - 32)"
   ]
  },
  {
   "cell_type": "code",
   "execution_count": null,
   "metadata": {},
   "outputs": [],
   "source": [
    "# 【31】\n",
    "# dfの各列の要素数の確認\n",
    "\n",
    "\n",
    "\n",
    "\n"
   ]
  },
  {
   "cell_type": "code",
   "execution_count": null,
   "metadata": {},
   "outputs": [],
   "source": [
    "# 【32】\n",
    "# dfのembarked列の要素と出現回数の確認\n",
    "\n",
    "\n",
    "\n",
    "\n"
   ]
  },
  {
   "cell_type": "markdown",
   "metadata": {},
   "source": [
    "# データ加工 (33 - 58)"
   ]
  },
  {
   "cell_type": "code",
   "execution_count": null,
   "metadata": {},
   "outputs": [],
   "source": [
    "# 【33】\n",
    "# dfのindex名が「3」のage列を\n",
    "# 30から40に変更し、先頭の5行を表示\n",
    "\n",
    "\n",
    "\n",
    "\n"
   ]
  },
  {
   "cell_type": "code",
   "execution_count": null,
   "metadata": {},
   "outputs": [],
   "source": [
    "# 【34】\n",
    "# dfのsex列にてmale→0、femlae→1に\n",
    "# 変更し、先頭の5行を表示\n",
    "\n",
    "\n",
    "\n",
    "\n"
   ]
  },
  {
   "cell_type": "code",
   "execution_count": null,
   "metadata": {
    "scrolled": true
   },
   "outputs": [],
   "source": [
    "# 【35】\n",
    "# dfのfare列に100を足して、\n",
    "# 先頭の5行を表示\n",
    "\n",
    "\n",
    "\n",
    "\n"
   ]
  },
  {
   "cell_type": "code",
   "execution_count": null,
   "metadata": {},
   "outputs": [],
   "source": [
    "# 【36】\n",
    "# dfのfare列を2を掛けて、\n",
    "# 先頭の5行を表示\n",
    "\n",
    "\n",
    "\n",
    "\n"
   ]
  },
  {
   "cell_type": "code",
   "execution_count": null,
   "metadata": {},
   "outputs": [],
   "source": [
    "# 【37】\n",
    "# dfのfare列を小数点以下で丸める\n",
    "\n",
    "\n",
    "\n",
    "\n"
   ]
  },
  {
   "cell_type": "code",
   "execution_count": null,
   "metadata": {},
   "outputs": [],
   "source": [
    "# 【38】\n",
    "# dfに列名「test」で値がすべて1の\n",
    "# カラムを追加し、先頭の5行を表示\n",
    "\n",
    "\n",
    "\n",
    "\n"
   ]
  },
  {
   "cell_type": "code",
   "execution_count": null,
   "metadata": {},
   "outputs": [],
   "source": [
    "# 【39】\n",
    "# dfにcabinとembarkedの列を「_」で\n",
    "# 結合した列を追加(列名は「test」)し、\n",
    "# 先頭の5行を表示\n",
    "\n",
    "\n",
    "\n",
    "\n"
   ]
  },
  {
   "cell_type": "code",
   "execution_count": null,
   "metadata": {},
   "outputs": [],
   "source": [
    "# 【40】\n",
    "# dfにageとembarkedの列を「_」で\n",
    "# 結合した列を追加(列名は「test」)し、\n",
    "# 先頭の5行を表示\n",
    "\n",
    "\n",
    "\n",
    "\n"
   ]
  }
 ],
 "metadata": {
  "kernelspec": {
   "display_name": "Python 3",
   "language": "python",
   "name": "python3"
  },
  "language_info": {
   "codemirror_mode": {
    "name": "ipython",
    "version": 3
   },
   "file_extension": ".py",
   "mimetype": "text/x-python",
   "name": "python",
   "nbconvert_exporter": "python",
   "pygments_lexer": "ipython3",
   "version": "3.8.5"
  }
 },
 "nbformat": 4,
 "nbformat_minor": 4
}
