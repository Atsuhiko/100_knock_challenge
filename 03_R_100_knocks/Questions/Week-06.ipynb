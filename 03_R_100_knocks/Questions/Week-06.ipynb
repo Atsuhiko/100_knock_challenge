{
 "cells": [
  {
   "cell_type": "markdown",
   "metadata": {},
   "source": [
    "# Week-06"
   ]
  },
  {
   "cell_type": "code",
   "execution_count": 1,
   "metadata": {},
   "outputs": [
    {
     "data": {
      "text/html": [
       "'C:/Users/iiats/OneDrive/デスクトップ/１００本ノックチャレンジ/03_R_100_knocks/Questions'"
      ],
      "text/latex": [
       "'C:/Users/iiats/OneDrive/デスクトップ/１００本ノックチャレンジ/03\\_R\\_100\\_knocks/Questions'"
      ],
      "text/markdown": [
       "'C:/Users/iiats/OneDrive/デスクトップ/１００本ノックチャレンジ/03_R_100_knocks/Questions'"
      ],
      "text/plain": [
       "[1] \"C:/Users/iiats/OneDrive/デスクトップ/１００本ノックチャレンジ/03_R_100_knocks/Questions\""
      ]
     },
     "metadata": {},
     "output_type": "display_data"
    }
   ],
   "source": [
    "getwd() #ディレクトリ確認getwd() #ディレクトリ確認"
   ]
  },
  {
   "cell_type": "code",
   "execution_count": 2,
   "metadata": {},
   "outputs": [
    {
     "data": {
      "text/html": [
       "'C:/Users/iiats/OneDrive/デスクトップ/１００本ノックチャレンジ/03_R_100_knocks/Questions/data'"
      ],
      "text/latex": [
       "'C:/Users/iiats/OneDrive/デスクトップ/１００本ノックチャレンジ/03\\_R\\_100\\_knocks/Questions/data'"
      ],
      "text/markdown": [
       "'C:/Users/iiats/OneDrive/デスクトップ/１００本ノックチャレンジ/03_R_100_knocks/Questions/data'"
      ],
      "text/plain": [
       "[1] \"C:/Users/iiats/OneDrive/デスクトップ/１００本ノックチャレンジ/03_R_100_knocks/Questions/data\""
      ]
     },
     "metadata": {},
     "output_type": "display_data"
    }
   ],
   "source": [
    "# setwd() に入れる Path は上記のディレクトリの下の data ファイル\n",
    "setwd(\"C:/Users/iiats/OneDrive/デスクトップ/１００本ノックチャレンジ/03_R_100_knocks/Questions/data\") \n",
    "getwd() #ディレクトリ確認"
   ]
  },
  {
   "cell_type": "code",
   "execution_count": 3,
   "metadata": {},
   "outputs": [],
   "source": [
    "# DataFrameの準備\n",
    "df <- read.csv(\"titanic3.csv\", header=T)\n",
    "df2 <- read.csv(\"data1.csv\", header=T)\n",
    "df3 <- read.csv(\"data1_2.csv\", header=T)\n",
    "df4 <- read.csv(\"data1_3.csv\", header=T)\n",
    "df5 <- read.csv(\"data2.csv\", header=T, fileEncoding = \"CP932\")"
   ]
  },
  {
   "cell_type": "markdown",
   "metadata": {},
   "source": [
    "# データ加工 (33 - 58)"
   ]
  },
  {
   "cell_type": "code",
   "execution_count": null,
   "metadata": {},
   "outputs": [],
   "source": [
    "# 【51】\n",
    "# dfの行をシャッフルし、インデックスを振り直して表示\n",
    "#print(ans[51]) #回答表示\n",
    "\n",
    "\n"
   ]
  },
  {
   "cell_type": "code",
   "execution_count": null,
   "metadata": {},
   "outputs": [],
   "source": [
    "# 【52】\n",
    "# ①df2の重複行数をカウント\n",
    "# ②df2の重複行を削除し、df2を表示\n",
    "\n",
    "\n"
   ]
  },
  {
   "cell_type": "code",
   "execution_count": null,
   "metadata": {},
   "outputs": [],
   "source": [
    "# 【53】\n",
    "# dfのnameの列をすべて大文字に変換し表示\n",
    "\n"
   ]
  },
  {
   "cell_type": "code",
   "execution_count": null,
   "metadata": {},
   "outputs": [],
   "source": [
    "# 【54】\n",
    "# dfのnameの列をすべて小文字に変換し表示\n",
    "\n"
   ]
  },
  {
   "cell_type": "code",
   "execution_count": null,
   "metadata": {},
   "outputs": [],
   "source": [
    "# 【55】\n",
    "# dfのsex列に含まれる「female」という単語を\n",
    "# 「Python」に置換。その後、1行目の\n",
    "# 「female」が「Python」に置き換わったことを確認\n",
    "\n",
    "\n"
   ]
  },
  {
   "cell_type": "code",
   "execution_count": null,
   "metadata": {},
   "outputs": [],
   "source": [
    "# 【56】\n",
    "# dfのname列1行目の「Allen, Miss. Elisabeth Walton」の\n",
    "# 「Elisabeth」を消去(import reをインポート)\n",
    "\n"
   ]
  },
  {
   "cell_type": "code",
   "execution_count": null,
   "metadata": {},
   "outputs": [],
   "source": [
    "# 【57】\n",
    "# df5の都道府県列と市区町村列を空白がないように\n",
    "# 「_」で結合(新規列名は「test2」)し、先頭5行を表示\n",
    "# ※df5の「test」列は通常通り結合した場合の結果\n",
    "\n",
    "\n"
   ]
  },
  {
   "cell_type": "code",
   "execution_count": null,
   "metadata": {},
   "outputs": [],
   "source": [
    "# 【58】\n",
    "# df2の行と列を入れ替えて表示\n",
    "\n",
    "\n"
   ]
  },
  {
   "cell_type": "markdown",
   "metadata": {},
   "source": [
    "# マージと連結(59 - 65)"
   ]
  },
  {
   "cell_type": "code",
   "execution_count": null,
   "metadata": {},
   "outputs": [],
   "source": [
    "# 【59】\n",
    "# df2にdf3を左結合し、df2に格納\n",
    "\n",
    "\n"
   ]
  },
  {
   "cell_type": "code",
   "execution_count": null,
   "metadata": {},
   "outputs": [],
   "source": [
    "# 【60】\n",
    "# df2にdf3を右結合し、df2に格納\n",
    "\n",
    "\n"
   ]
  }
 ],
 "metadata": {
  "kernelspec": {
   "display_name": "R",
   "language": "R",
   "name": "ir"
  },
  "language_info": {
   "codemirror_mode": "r",
   "file_extension": ".r",
   "mimetype": "text/x-r-source",
   "name": "R",
   "pygments_lexer": "r",
   "version": "3.6.1"
  }
 },
 "nbformat": 4,
 "nbformat_minor": 4
}
