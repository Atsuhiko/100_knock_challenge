{
 "cells": [
  {
   "cell_type": "markdown",
   "metadata": {},
   "source": [
    "# Week-09"
   ]
  },
  {
   "cell_type": "code",
   "execution_count": 1,
   "metadata": {},
   "outputs": [
    {
     "data": {
      "text/html": [
       "'C:/Users/iiats/OneDrive/デスクトップ/１００本ノックチャレンジ/03_R_100_knocks/Questions'"
      ],
      "text/latex": [
       "'C:/Users/iiats/OneDrive/デスクトップ/１００本ノックチャレンジ/03\\_R\\_100\\_knocks/Questions'"
      ],
      "text/markdown": [
       "'C:/Users/iiats/OneDrive/デスクトップ/１００本ノックチャレンジ/03_R_100_knocks/Questions'"
      ],
      "text/plain": [
       "[1] \"C:/Users/iiats/OneDrive/デスクトップ/１００本ノックチャレンジ/03_R_100_knocks/Questions\""
      ]
     },
     "metadata": {},
     "output_type": "display_data"
    }
   ],
   "source": [
    "getwd() #ディレクトリ確認getwd() #ディレクトリ確認"
   ]
  },
  {
   "cell_type": "code",
   "execution_count": 2,
   "metadata": {},
   "outputs": [
    {
     "data": {
      "text/html": [
       "'C:/Users/iiats/OneDrive/デスクトップ/１００本ノックチャレンジ/03_R_100_knocks/Questions/data'"
      ],
      "text/latex": [
       "'C:/Users/iiats/OneDrive/デスクトップ/１００本ノックチャレンジ/03\\_R\\_100\\_knocks/Questions/data'"
      ],
      "text/markdown": [
       "'C:/Users/iiats/OneDrive/デスクトップ/１００本ノックチャレンジ/03_R_100_knocks/Questions/data'"
      ],
      "text/plain": [
       "[1] \"C:/Users/iiats/OneDrive/デスクトップ/１００本ノックチャレンジ/03_R_100_knocks/Questions/data\""
      ]
     },
     "metadata": {},
     "output_type": "display_data"
    }
   ],
   "source": [
    "# setwd() に入れる Path は上記のディレクトリの下の data ファイル\n",
    "setwd(\"C:/Users/iiats/OneDrive/デスクトップ/１００本ノックチャレンジ/03_R_100_knocks/Questions/data\") \n",
    "getwd() #ディレクトリ確認"
   ]
  },
  {
   "cell_type": "code",
   "execution_count": 3,
   "metadata": {},
   "outputs": [],
   "source": [
    "# DataFrameの準備\n",
    "df <- read.csv(\"titanic3.csv\", header=T)\n",
    "df2 <- read.csv(\"data1.csv\", header=T)\n",
    "df3 <- read.csv(\"data1_2.csv\", header=T)\n",
    "df4 <- read.csv(\"data1_3.csv\", header=T)\n",
    "df5 <- read.csv(\"data2.csv\", header=T, fileEncoding = \"CP932\")"
   ]
  },
  {
   "cell_type": "markdown",
   "metadata": {},
   "source": [
    "# ラベリング (80 - 81)"
   ]
  },
  {
   "cell_type": "code",
   "execution_count": null,
   "metadata": {},
   "outputs": [],
   "source": [
    "# 【80】\n",
    "# dfのsex列をラベルエンコーディングし、\n",
    "# dfの先頭5行を表示\n",
    "# (from sklearn.preprocessing import LabelEncoderをインポート)\n",
    "\n",
    "\n"
   ]
  },
  {
   "cell_type": "code",
   "execution_count": null,
   "metadata": {},
   "outputs": [],
   "source": [
    "# 【81】\n",
    "# dfのsex列をOne-hotエンコーディングし、\n",
    "# dfの先頭5行を表示\n",
    "\n",
    "\n"
   ]
  },
  {
   "cell_type": "markdown",
   "metadata": {},
   "source": [
    "# プロット (82 - 89)"
   ]
  },
  {
   "cell_type": "code",
   "execution_count": null,
   "metadata": {},
   "outputs": [],
   "source": [
    "# 【82】\n",
    "# dfのすべての数値列のヒストグラムを表示\n",
    "\n",
    "\n"
   ]
  },
  {
   "cell_type": "code",
   "execution_count": null,
   "metadata": {},
   "outputs": [],
   "source": [
    "# 【83】\n",
    "# dfのage列をヒストグラムで表示\n",
    "\n",
    "\n"
   ]
  },
  {
   "cell_type": "code",
   "execution_count": null,
   "metadata": {},
   "outputs": [],
   "source": [
    "# 【84】\n",
    "# df2のname列の要素ごとの3科目合計得点を棒グラフで表示\n",
    "\n",
    "\n"
   ]
  },
  {
   "cell_type": "code",
   "execution_count": null,
   "metadata": {},
   "outputs": [],
   "source": [
    "# 【85】\n",
    "# df2のname列の要素ごとの3科目を棒グラフで\n",
    "# 並べて表示\n",
    "\n",
    "\n"
   ]
  },
  {
   "cell_type": "code",
   "execution_count": null,
   "metadata": {},
   "outputs": [],
   "source": [
    "# 【86】\n",
    "# df2のname列の要素ごとの3科目を積み上げ棒グラフで表示\n",
    "\n",
    "\n"
   ]
  },
  {
   "cell_type": "code",
   "execution_count": null,
   "metadata": {},
   "outputs": [],
   "source": [
    "# 【87】\n",
    "# dfの各列間の散布図を表示\n",
    "# (from pandas.plotting import scatter_matrixをインポート)\n",
    "\n",
    "\n"
   ]
  },
  {
   "cell_type": "code",
   "execution_count": null,
   "metadata": {},
   "outputs": [],
   "source": [
    "# 【88】\n",
    "# dfのage列とfare列で散布図を作成\n",
    "\n",
    "\n"
   ]
  },
  {
   "cell_type": "code",
   "execution_count": null,
   "metadata": {},
   "outputs": [],
   "source": [
    "# 【89】\n",
    "# 【88】で描画したグラフに「age-fare scatter」という\n",
    "# グラフタイトルをつける\n",
    "\n",
    "\n"
   ]
  }
 ],
 "metadata": {
  "kernelspec": {
   "display_name": "R",
   "language": "R",
   "name": "ir"
  },
  "language_info": {
   "codemirror_mode": "r",
   "file_extension": ".r",
   "mimetype": "text/x-r-source",
   "name": "R",
   "pygments_lexer": "r",
   "version": "3.6.1"
  }
 },
 "nbformat": 4,
 "nbformat_minor": 4
}
