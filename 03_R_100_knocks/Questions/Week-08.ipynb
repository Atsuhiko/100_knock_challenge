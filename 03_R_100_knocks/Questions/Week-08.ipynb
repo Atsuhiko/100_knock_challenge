{
 "cells": [
  {
   "cell_type": "markdown",
   "metadata": {},
   "source": [
    "# Week-08"
   ]
  },
  {
   "cell_type": "code",
   "execution_count": 1,
   "metadata": {},
   "outputs": [
    {
     "data": {
      "text/html": [
       "'C:/Users/iiats/OneDrive/デスクトップ/１００本ノックチャレンジ/03_R_100_knocks/Questions'"
      ],
      "text/latex": [
       "'C:/Users/iiats/OneDrive/デスクトップ/１００本ノックチャレンジ/03\\_R\\_100\\_knocks/Questions'"
      ],
      "text/markdown": [
       "'C:/Users/iiats/OneDrive/デスクトップ/１００本ノックチャレンジ/03_R_100_knocks/Questions'"
      ],
      "text/plain": [
       "[1] \"C:/Users/iiats/OneDrive/デスクトップ/１００本ノックチャレンジ/03_R_100_knocks/Questions\""
      ]
     },
     "metadata": {},
     "output_type": "display_data"
    }
   ],
   "source": [
    "getwd() #ディレクトリ確認getwd() #ディレクトリ確認"
   ]
  },
  {
   "cell_type": "code",
   "execution_count": 2,
   "metadata": {},
   "outputs": [
    {
     "data": {
      "text/html": [
       "'C:/Users/iiats/OneDrive/デスクトップ/１００本ノックチャレンジ/03_R_100_knocks/Questions/data'"
      ],
      "text/latex": [
       "'C:/Users/iiats/OneDrive/デスクトップ/１００本ノックチャレンジ/03\\_R\\_100\\_knocks/Questions/data'"
      ],
      "text/markdown": [
       "'C:/Users/iiats/OneDrive/デスクトップ/１００本ノックチャレンジ/03_R_100_knocks/Questions/data'"
      ],
      "text/plain": [
       "[1] \"C:/Users/iiats/OneDrive/デスクトップ/１００本ノックチャレンジ/03_R_100_knocks/Questions/data\""
      ]
     },
     "metadata": {},
     "output_type": "display_data"
    }
   ],
   "source": [
    "# setwd() に入れる Path は上記のディレクトリの下の data ファイル\n",
    "setwd(\"C:/Users/iiats/OneDrive/デスクトップ/１００本ノックチャレンジ/03_R_100_knocks/Questions/data\") \n",
    "getwd() #ディレクトリ確認"
   ]
  },
  {
   "cell_type": "code",
   "execution_count": 3,
   "metadata": {},
   "outputs": [],
   "source": [
    "# DataFrameの準備\n",
    "df <- read.csv(\"titanic3.csv\", header=T)\n",
    "df2 <- read.csv(\"data1.csv\", header=T)\n",
    "df3 <- read.csv(\"data1_2.csv\", header=T)\n",
    "df4 <- read.csv(\"data1_3.csv\", header=T)\n",
    "df5 <- read.csv(\"data2.csv\", header=T, fileEncoding = \"CP932\")"
   ]
  },
  {
   "cell_type": "markdown",
   "metadata": {},
   "source": [
    "# 統計 (66 - 79)"
   ]
  },
  {
   "cell_type": "code",
   "execution_count": null,
   "metadata": {},
   "outputs": [],
   "source": [
    "# 【71】\n",
    "# df2においてclassでグルーピングし、クラスごとの科目の\n",
    "# 最大値、最小値、平均値を求める(name列は削除しておく)\n",
    "\n",
    "\n"
   ]
  },
  {
   "cell_type": "code",
   "execution_count": null,
   "metadata": {},
   "outputs": [],
   "source": [
    "# 【72】\n",
    "# dfの基本統計量を確認(describe)\n",
    "\n",
    "\n"
   ]
  },
  {
   "cell_type": "code",
   "execution_count": null,
   "metadata": {},
   "outputs": [],
   "source": [
    "# 【73】\n",
    "# dfの各列間の(Pearson)相関係数を確認\n",
    "\n",
    "\n"
   ]
  },
  {
   "cell_type": "code",
   "execution_count": null,
   "metadata": {},
   "outputs": [],
   "source": [
    "# 【74】\n",
    "# scikit-learnを用いてdf2のEnglish、Mathmatics、History列を標準化する\n",
    "\n",
    "\n"
   ]
  },
  {
   "cell_type": "code",
   "execution_count": null,
   "metadata": {},
   "outputs": [],
   "source": [
    "# 【75】\n",
    "# scikit-learnを用いてdf2のEnglish列を標準化する\n",
    "# (from sklearn.preprocessing import StandardScalerをインポート)\n",
    "\n"
   ]
  },
  {
   "cell_type": "code",
   "execution_count": null,
   "metadata": {},
   "outputs": [],
   "source": [
    "# 【76】\n",
    "# scikit-learnを用いてdf2のEnglish、Mathmatics、History列を\n",
    "# Min-Maxスケーリングする\n",
    "# (from sklearn.preprocessing import StandardScalerをインポート)\n",
    "\n",
    "\n"
   ]
  },
  {
   "cell_type": "code",
   "execution_count": null,
   "metadata": {},
   "outputs": [],
   "source": [
    "# 【77】\n",
    "# dfのfare列の最大値、最小値の行名を取得\n",
    "\n"
   ]
  },
  {
   "cell_type": "code",
   "execution_count": null,
   "metadata": {},
   "outputs": [],
   "source": [
    "# 【78】\n",
    "# dfのfare列の0、25、50、75、100パーセンタイルを取得\n",
    "\n",
    "\n"
   ]
  },
  {
   "cell_type": "code",
   "execution_count": null,
   "metadata": {},
   "outputs": [],
   "source": [
    "# 【79】\n",
    "# ①dfのage列の最頻値を取得\n",
    "# ②value_counts()にてage列の要素数を\n",
    "# 確認し、①の結果の妥当性を確認\n",
    "\n",
    "\n"
   ]
  }
 ],
 "metadata": {
  "kernelspec": {
   "display_name": "R",
   "language": "R",
   "name": "ir"
  },
  "language_info": {
   "codemirror_mode": "r",
   "file_extension": ".r",
   "mimetype": "text/x-r-source",
   "name": "R",
   "pygments_lexer": "r",
   "version": "3.6.1"
  }
 },
 "nbformat": 4,
 "nbformat_minor": 4
}
