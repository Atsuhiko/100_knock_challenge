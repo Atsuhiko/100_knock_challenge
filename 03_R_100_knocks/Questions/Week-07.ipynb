{
 "cells": [
  {
   "cell_type": "markdown",
   "metadata": {},
   "source": [
    "# Week-07"
   ]
  },
  {
   "cell_type": "code",
   "execution_count": 1,
   "metadata": {},
   "outputs": [
    {
     "data": {
      "text/html": [
       "'C:/Users/iiats/OneDrive/デスクトップ/１００本ノックチャレンジ/03_R_100_knocks/Questions'"
      ],
      "text/latex": [
       "'C:/Users/iiats/OneDrive/デスクトップ/１００本ノックチャレンジ/03\\_R\\_100\\_knocks/Questions'"
      ],
      "text/markdown": [
       "'C:/Users/iiats/OneDrive/デスクトップ/１００本ノックチャレンジ/03_R_100_knocks/Questions'"
      ],
      "text/plain": [
       "[1] \"C:/Users/iiats/OneDrive/デスクトップ/１００本ノックチャレンジ/03_R_100_knocks/Questions\""
      ]
     },
     "metadata": {},
     "output_type": "display_data"
    }
   ],
   "source": [
    "getwd() #ディレクトリ確認getwd() #ディレクトリ確認"
   ]
  },
  {
   "cell_type": "code",
   "execution_count": 2,
   "metadata": {},
   "outputs": [
    {
     "data": {
      "text/html": [
       "'C:/Users/iiats/OneDrive/デスクトップ/１００本ノックチャレンジ/03_R_100_knocks/Questions/data'"
      ],
      "text/latex": [
       "'C:/Users/iiats/OneDrive/デスクトップ/１００本ノックチャレンジ/03\\_R\\_100\\_knocks/Questions/data'"
      ],
      "text/markdown": [
       "'C:/Users/iiats/OneDrive/デスクトップ/１００本ノックチャレンジ/03_R_100_knocks/Questions/data'"
      ],
      "text/plain": [
       "[1] \"C:/Users/iiats/OneDrive/デスクトップ/１００本ノックチャレンジ/03_R_100_knocks/Questions/data\""
      ]
     },
     "metadata": {},
     "output_type": "display_data"
    }
   ],
   "source": [
    "# setwd() に入れる Path は上記のディレクトリの下の data ファイル\n",
    "setwd(\"C:/Users/iiats/OneDrive/デスクトップ/１００本ノックチャレンジ/03_R_100_knocks/Questions/data\") \n",
    "getwd() #ディレクトリ確認"
   ]
  },
  {
   "cell_type": "code",
   "execution_count": 3,
   "metadata": {},
   "outputs": [],
   "source": [
    "# DataFrameの準備\n",
    "df <- read.csv(\"titanic3.csv\", header=T)\n",
    "df2 <- read.csv(\"data1.csv\", header=T)\n",
    "df3 <- read.csv(\"data1_2.csv\", header=T)\n",
    "df4 <- read.csv(\"data1_3.csv\", header=T)\n",
    "df5 <- read.csv(\"data2.csv\", header=T, fileEncoding = \"CP932\")"
   ]
  },
  {
   "cell_type": "markdown",
   "metadata": {},
   "source": [
    "# マージと連結(59 - 65)"
   ]
  },
  {
   "cell_type": "code",
   "execution_count": null,
   "metadata": {},
   "outputs": [],
   "source": [
    "# 【61】\n",
    "# df2にdf3を内部結合し、df2に格納\n",
    "\n",
    "\n"
   ]
  },
  {
   "cell_type": "code",
   "execution_count": null,
   "metadata": {},
   "outputs": [],
   "source": [
    "# 【62】\n",
    "# df2にdf3を外部結合し、df2に格納\n",
    "\n",
    "\n"
   ]
  },
  {
   "cell_type": "code",
   "execution_count": null,
   "metadata": {},
   "outputs": [],
   "source": [
    "# 【63】\n",
    "# df2とdf4を列方向に連結し、df2に格納\n",
    "\n",
    "\n"
   ]
  },
  {
   "cell_type": "code",
   "execution_count": null,
   "metadata": {},
   "outputs": [],
   "source": [
    "# 【64】\n",
    "# df2とdf4を列方向に連結後、重複している\n",
    "# name列の片方を削除し、df2に格納\n",
    "\n",
    "\n"
   ]
  },
  {
   "cell_type": "code",
   "execution_count": null,
   "metadata": {},
   "outputs": [],
   "source": [
    "# 【65】\n",
    "# df2とdf2を行方向に連結し、df2に格納\n",
    "\n",
    "\n"
   ]
  },
  {
   "cell_type": "markdown",
   "metadata": {},
   "source": [
    "# 統計 (66 - 79)"
   ]
  },
  {
   "cell_type": "code",
   "execution_count": null,
   "metadata": {},
   "outputs": [],
   "source": [
    "# 【66】\n",
    "# dfのage列の平均値を確認\n",
    "\n"
   ]
  },
  {
   "cell_type": "code",
   "execution_count": null,
   "metadata": {},
   "outputs": [],
   "source": [
    "# 【67】\n",
    "# dfのage列の中央値を確認\n",
    "\n",
    "\n"
   ]
  },
  {
   "cell_type": "code",
   "execution_count": null,
   "metadata": {},
   "outputs": [],
   "source": [
    "# 【68】\n",
    "# ①df2の生徒ごとの合計点（行方向の合計）\n",
    "# ②df2の科目ごとの点数の総和（列方向の合計）\n",
    "\n",
    "\n"
   ]
  },
  {
   "cell_type": "code",
   "execution_count": null,
   "metadata": {},
   "outputs": [],
   "source": [
    "# 【69】\n",
    "# df2のEnglishで得点の最大値\n",
    "\n",
    "\n"
   ]
  },
  {
   "cell_type": "code",
   "execution_count": null,
   "metadata": {},
   "outputs": [],
   "source": [
    "# 【70】\n",
    "# df2のEnglishで得点の最小値\n",
    "\n"
   ]
  }
 ],
 "metadata": {
  "kernelspec": {
   "display_name": "R",
   "language": "R",
   "name": "ir"
  },
  "language_info": {
   "codemirror_mode": "r",
   "file_extension": ".r",
   "mimetype": "text/x-r-source",
   "name": "R",
   "pygments_lexer": "r",
   "version": "3.6.1"
  }
 },
 "nbformat": 4,
 "nbformat_minor": 4
}
