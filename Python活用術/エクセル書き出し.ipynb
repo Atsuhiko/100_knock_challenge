{
 "cells": [
  {
   "cell_type": "markdown",
   "metadata": {},
   "source": [
    "演習問題3"
   ]
  },
  {
   "cell_type": "code",
   "execution_count": 12,
   "metadata": {},
   "outputs": [
    {
     "name": "stdout",
     "output_type": "stream",
     "text": [
      "0\n",
      "1\n",
      "2\n",
      "3\n",
      "4\n"
     ]
    }
   ],
   "source": [
    "#スリープの実行トライ\n",
    "import time\n",
    "for i in range(5):\n",
    "  time.sleep(1)  #time.sleep(10)と秒数に数字を入れることで、指定秒数処理を停止します。\n",
    "  print(i)"
   ]
  },
  {
   "cell_type": "code",
   "execution_count": null,
   "metadata": {},
   "outputs": [],
   "source": [
    "#演習問題3(プログレスバー込み)"
   ]
  },
  {
   "cell_type": "code",
   "execution_count": 13,
   "metadata": {},
   "outputs": [
    {
     "name": "stderr",
     "output_type": "stream",
     "text": [
      "C:\\Users\\Owner\\Anaconda3\\envs\\samuraitalk\\lib\\site-packages\\ipykernel_launcher.py:17: TqdmDeprecationWarning: This function will be removed in tqdm==5.0.0\n",
      "Please use `tqdm.notebook.tqdm` instead of `tqdm.tqdm_notebook`\n"
     ]
    },
    {
     "data": {
      "application/vnd.jupyter.widget-view+json": {
       "model_id": "",
       "version_major": 2,
       "version_minor": 0
      },
      "text/plain": [
       "HBox(children=(FloatProgress(value=0.0, description='進捗具合', max=6.0, style=ProgressStyle(description_width='in…"
      ]
     },
     "metadata": {},
     "output_type": "display_data"
    }
   ],
   "source": [
    "import openpyxl as px\n",
    "from tqdm import tqdm_notebook as tqdm #プログレスバーのコマンドを呼び出す\n",
    "from openpyxl.chart import BarChart #棒グラフを書くためのコマンドを呼び出す\n",
    "from openpyxl.chart import Reference #グラフを書くために参照するコマンドを呼び出す\n",
    "wbbr = px.Workbook()\n",
    "wsbr = wbbr.active\n",
    "\n",
    "drinks = ['コーヒー','紅茶','緑茶','オレンジジュース','グレープジュース','牛乳']\n",
    "months = ['Apr','May','Jun']\n",
    "apr = [1250,620,175,60,35,25]\n",
    "may = [2005,850,310,170,185,90]\n",
    "jun = [1660,750,220,225,200,120]\n",
    "\n",
    "wsbr.append(months) #1行目に上記で書いたmonthsを挿入してエクセルに書き込む\n",
    "wsbr.insert_cols(1) #1列目を挿入する\n",
    "\n",
    "for i in tqdm(range(len(drinks)),desc='進捗具合', leave=False):\n",
    "    #for i in tqdm(range(100),desc='進捗具合', leave=False):\n",
    "    time.sleep(0.1)\n",
    "    wsbr.append([drinks[i],apr[i],may[i],jun[i]])\n",
    "    wbbr.save('barchart.xlsx') #セーブする\n",
    "    \n",
    "ch = BarChart()\n",
    "ch.type = 'col' #棒グラフのタイプを選ぶ\n",
    "ch.title = '第一期の飲料注文件数'\n",
    "ch.x_axis.title = 'ドリンクの種類'\n",
    "ch.y_axis.title = '注文件数'\n",
    "data = Reference(wsbr,min_col=2,min_row=1,max_col=4,max_row=7) #グラフの元になるデータを指定：行見出しも取り込んでグラフの凡例にする\n",
    "ch.add_data(data, titles_from_data=True) #ch(エクセルの棒グラフ)に上の行で参照したデータを放り込むコマンド\n",
    "ctgrs = Reference(wsbr,min_col=1,min_row=2,max_row=7) #列見出しを指定して棒グラフのラベルにする\n",
    "ch.set_categories(ctgrs) #ch(エクセルの棒グラフ)に上の行で参照したデータを放り込むコマンド\n",
    "wsbr.add_chart(ch,\"E1\") #E1セルにグラフを張り付け\n",
    "wbbr.save('barchart.xlsx') #セーブする"
   ]
  },
  {
   "cell_type": "code",
   "execution_count": 11,
   "metadata": {},
   "outputs": [
    {
     "name": "stderr",
     "output_type": "stream",
     "text": [
      "C:\\Users\\Owner\\Anaconda3\\envs\\samuraitalk\\lib\\site-packages\\ipykernel_launcher.py:4: TqdmDeprecationWarning: This function will be removed in tqdm==5.0.0\n",
      "Please use `tqdm.notebook.tqdm` instead of `tqdm.tqdm_notebook`\n",
      "  after removing the cwd from sys.path.\n"
     ]
    },
    {
     "data": {
      "application/vnd.jupyter.widget-view+json": {
       "model_id": "",
       "version_major": 2,
       "version_minor": 0
      },
      "text/plain": [
       "HBox(children=(FloatProgress(value=0.0, description='進捗具合', style=ProgressStyle(description_width='initial')),…"
      ]
     },
     "metadata": {},
     "output_type": "display_data"
    }
   ],
   "source": [
    "#トライ\n",
    "from tqdm import tqdm_notebook as tqdm\n",
    "\n",
    "for i in tqdm(range(100),desc='進捗具合', leave=False):\n",
    "    time.sleep(0.1)"
   ]
  },
  {
   "cell_type": "code",
   "execution_count": null,
   "metadata": {},
   "outputs": [],
   "source": []
  },
  {
   "cell_type": "code",
   "execution_count": null,
   "metadata": {},
   "outputs": [],
   "source": []
  }
 ],
 "metadata": {
  "kernelspec": {
   "display_name": "Python 3",
   "language": "python",
   "name": "python3"
  },
  "language_info": {
   "codemirror_mode": {
    "name": "ipython",
    "version": 3
   },
   "file_extension": ".py",
   "mimetype": "text/x-python",
   "name": "python",
   "nbconvert_exporter": "python",
   "pygments_lexer": "ipython3",
   "version": "3.7.7"
  }
 },
 "nbformat": 4,
 "nbformat_minor": 4
}
