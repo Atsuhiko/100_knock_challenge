{
 "cells": [
  {
   "cell_type": "markdown",
   "metadata": {},
   "source": [
    "# データサイエンス100本ノック（構造化データ加工編） - Python"
   ]
  },
  {
   "cell_type": "markdown",
   "metadata": {},
   "source": [
    "## はじめに\n",
    "- 初めに以下のセルを実行してください\n",
    "- 必要なライブラリのインポートとデータベース（PostgreSQL）からのデータ読み込みを行います\n",
    "- pandas等、利用が想定されるライブラリは以下セルでインポートしています\n",
    "- その他利用したいライブラリがあれば適宜インストールしてください（\"!pip install ライブラリ名\"でインストールも可能）\n",
    "- 処理は複数回に分けても構いません\n",
    "- 名前、住所等はダミーデータであり、実在するものではありません"
   ]
  },
  {
   "cell_type": "code",
   "execution_count": 1,
   "metadata": {},
   "outputs": [
    {
     "name": "stderr",
     "output_type": "stream",
     "text": [
      "C:\\Users\\iiats\\Anaconda3\\envs\\Python36-gpu\\lib\\site-packages\\IPython\\core\\interactiveshell.py:3063: DtypeWarning: Columns (4) have mixed types.Specify dtype option on import or set low_memory=False.\n",
      "  interactivity=interactivity, compiler=compiler, result=result)\n"
     ]
    }
   ],
   "source": [
    "import os\n",
    "import pandas as pd\n",
    "import numpy as np\n",
    "from datetime import datetime, date\n",
    "from dateutil.relativedelta import relativedelta\n",
    "import math\n",
    "import psycopg2\n",
    "from sqlalchemy import create_engine\n",
    "from sklearn import preprocessing\n",
    "from sklearn.model_selection import train_test_split\n",
    "from imblearn.under_sampling import RandomUnderSampler # conda install -c conda-forge imbalanced-learn\n",
    "\n",
    "df_customer = pd.read_csv(\"./data/customer.csv\")\n",
    "df_category = pd.read_csv(\"./data/category.csv\")\n",
    "df_product = pd.read_csv(\"./data/product.csv\")\n",
    "df_receipt = pd.read_csv(\"./data/receipt.csv\")\n",
    "df_store = pd.read_csv(\"./data/store.csv\")\n",
    "df_geocode = pd.read_csv(\"./data/geocode.csv\")"
   ]
  },
  {
   "cell_type": "markdown",
   "metadata": {},
   "source": [
    "# 演習問題"
   ]
  },
  {
   "cell_type": "markdown",
   "metadata": {},
   "source": [
    "---\n",
    "> P-021: レシート明細データフレーム（df_receipt）に対し、件数をカウントせよ。"
   ]
  },
  {
   "cell_type": "code",
   "execution_count": 5,
   "metadata": {},
   "outputs": [
    {
     "data": {
      "text/html": [
       "<div>\n",
       "<style scoped>\n",
       "    .dataframe tbody tr th:only-of-type {\n",
       "        vertical-align: middle;\n",
       "    }\n",
       "\n",
       "    .dataframe tbody tr th {\n",
       "        vertical-align: top;\n",
       "    }\n",
       "\n",
       "    .dataframe thead th {\n",
       "        text-align: right;\n",
       "    }\n",
       "</style>\n",
       "<table border=\"1\" class=\"dataframe\">\n",
       "  <thead>\n",
       "    <tr style=\"text-align: right;\">\n",
       "      <th></th>\n",
       "      <th>sales_ymd</th>\n",
       "      <th>sales_epoch</th>\n",
       "      <th>store_cd</th>\n",
       "      <th>receipt_no</th>\n",
       "      <th>receipt_sub_no</th>\n",
       "      <th>customer_id</th>\n",
       "      <th>product_cd</th>\n",
       "      <th>quantity</th>\n",
       "      <th>amount</th>\n",
       "    </tr>\n",
       "  </thead>\n",
       "  <tbody>\n",
       "    <tr>\n",
       "      <th>0</th>\n",
       "      <td>20181103</td>\n",
       "      <td>1257206400</td>\n",
       "      <td>S14006</td>\n",
       "      <td>112</td>\n",
       "      <td>1</td>\n",
       "      <td>CS006214000001</td>\n",
       "      <td>P070305012</td>\n",
       "      <td>1</td>\n",
       "      <td>158</td>\n",
       "    </tr>\n",
       "    <tr>\n",
       "      <th>1</th>\n",
       "      <td>20181118</td>\n",
       "      <td>1258502400</td>\n",
       "      <td>S13008</td>\n",
       "      <td>1132</td>\n",
       "      <td>2</td>\n",
       "      <td>CS008415000097</td>\n",
       "      <td>P070701017</td>\n",
       "      <td>1</td>\n",
       "      <td>81</td>\n",
       "    </tr>\n",
       "    <tr>\n",
       "      <th>2</th>\n",
       "      <td>20170712</td>\n",
       "      <td>1215820800</td>\n",
       "      <td>S14028</td>\n",
       "      <td>1102</td>\n",
       "      <td>1</td>\n",
       "      <td>CS028414000014</td>\n",
       "      <td>P060101005</td>\n",
       "      <td>1</td>\n",
       "      <td>170</td>\n",
       "    </tr>\n",
       "    <tr>\n",
       "      <th>3</th>\n",
       "      <td>20190205</td>\n",
       "      <td>1265328000</td>\n",
       "      <td>S14042</td>\n",
       "      <td>1132</td>\n",
       "      <td>1</td>\n",
       "      <td>ZZ000000000000</td>\n",
       "      <td>P050301001</td>\n",
       "      <td>1</td>\n",
       "      <td>25</td>\n",
       "    </tr>\n",
       "    <tr>\n",
       "      <th>4</th>\n",
       "      <td>20180821</td>\n",
       "      <td>1250812800</td>\n",
       "      <td>S14025</td>\n",
       "      <td>1102</td>\n",
       "      <td>2</td>\n",
       "      <td>CS025415000050</td>\n",
       "      <td>P060102007</td>\n",
       "      <td>1</td>\n",
       "      <td>90</td>\n",
       "    </tr>\n",
       "  </tbody>\n",
       "</table>\n",
       "</div>"
      ],
      "text/plain": [
       "   sales_ymd  sales_epoch store_cd  receipt_no  receipt_sub_no  \\\n",
       "0   20181103   1257206400   S14006         112               1   \n",
       "1   20181118   1258502400   S13008        1132               2   \n",
       "2   20170712   1215820800   S14028        1102               1   \n",
       "3   20190205   1265328000   S14042        1132               1   \n",
       "4   20180821   1250812800   S14025        1102               2   \n",
       "\n",
       "      customer_id  product_cd  quantity  amount  \n",
       "0  CS006214000001  P070305012         1     158  \n",
       "1  CS008415000097  P070701017         1      81  \n",
       "2  CS028414000014  P060101005         1     170  \n",
       "3  ZZ000000000000  P050301001         1      25  \n",
       "4  CS025415000050  P060102007         1      90  "
      ]
     },
     "execution_count": 5,
     "metadata": {},
     "output_type": "execute_result"
    }
   ],
   "source": [
    "df_receipt.head()"
   ]
  },
  {
   "cell_type": "code",
   "execution_count": 2,
   "metadata": {},
   "outputs": [
    {
     "data": {
      "text/plain": [
       "104681"
      ]
     },
     "execution_count": 2,
     "metadata": {},
     "output_type": "execute_result"
    }
   ],
   "source": [
    "len(df_receipt)"
   ]
  },
  {
   "cell_type": "code",
   "execution_count": 3,
   "metadata": {},
   "outputs": [
    {
     "data": {
      "text/plain": [
       "(104681, 9)"
      ]
     },
     "execution_count": 3,
     "metadata": {},
     "output_type": "execute_result"
    }
   ],
   "source": [
    "#もしくはshape\n",
    "df_receipt.shape"
   ]
  },
  {
   "cell_type": "markdown",
   "metadata": {},
   "source": [
    "---\n",
    "> P-022: レシート明細データフレーム（df_receipt）の顧客ID（customer_id）に対し、ユニーク件数をカウントせよ。"
   ]
  },
  {
   "cell_type": "code",
   "execution_count": 4,
   "metadata": {},
   "outputs": [
    {
     "data": {
      "text/plain": [
       "8307"
      ]
     },
     "execution_count": 4,
     "metadata": {},
     "output_type": "execute_result"
    }
   ],
   "source": [
    "len(df_receipt[\"customer_id\"].unique())\n",
    "# 参考：https://note.nkmk.me/python-pandas-value-counts/"
   ]
  },
  {
   "cell_type": "markdown",
   "metadata": {},
   "source": [
    "---\n",
    "> P-023: レシート明細データフレーム（df_receipt）に対し、店舗コード（store_cd）ごとに売上金額（amount）と売上数量（quantity）を合計せよ。"
   ]
  },
  {
   "cell_type": "code",
   "execution_count": 18,
   "metadata": {},
   "outputs": [
    {
     "data": {
      "text/html": [
       "<div>\n",
       "<style scoped>\n",
       "    .dataframe tbody tr th:only-of-type {\n",
       "        vertical-align: middle;\n",
       "    }\n",
       "\n",
       "    .dataframe tbody tr th {\n",
       "        vertical-align: top;\n",
       "    }\n",
       "\n",
       "    .dataframe thead th {\n",
       "        text-align: right;\n",
       "    }\n",
       "</style>\n",
       "<table border=\"1\" class=\"dataframe\">\n",
       "  <thead>\n",
       "    <tr style=\"text-align: right;\">\n",
       "      <th></th>\n",
       "      <th>amount</th>\n",
       "      <th>quantity</th>\n",
       "    </tr>\n",
       "    <tr>\n",
       "      <th>store_cd</th>\n",
       "      <th></th>\n",
       "      <th></th>\n",
       "    </tr>\n",
       "  </thead>\n",
       "  <tbody>\n",
       "    <tr>\n",
       "      <th>S12007</th>\n",
       "      <td>638761</td>\n",
       "      <td>2099</td>\n",
       "    </tr>\n",
       "    <tr>\n",
       "      <th>S12013</th>\n",
       "      <td>787513</td>\n",
       "      <td>2425</td>\n",
       "    </tr>\n",
       "    <tr>\n",
       "      <th>S12014</th>\n",
       "      <td>725167</td>\n",
       "      <td>2358</td>\n",
       "    </tr>\n",
       "    <tr>\n",
       "      <th>S12029</th>\n",
       "      <td>794741</td>\n",
       "      <td>2555</td>\n",
       "    </tr>\n",
       "    <tr>\n",
       "      <th>S12030</th>\n",
       "      <td>684402</td>\n",
       "      <td>2403</td>\n",
       "    </tr>\n",
       "  </tbody>\n",
       "</table>\n",
       "</div>"
      ],
      "text/plain": [
       "          amount  quantity\n",
       "store_cd                  \n",
       "S12007    638761      2099\n",
       "S12013    787513      2425\n",
       "S12014    725167      2358\n",
       "S12029    794741      2555\n",
       "S12030    684402      2403"
      ]
     },
     "execution_count": 18,
     "metadata": {},
     "output_type": "execute_result"
    }
   ],
   "source": [
    "df_receipt2 = df_receipt.groupby(\"store_cd\").agg({\"amount\":\"sum\", \"quantity\":\"sum\"})\n",
    "df_receipt2.head()\n",
    "\n",
    "# 参考：https://qiita.com/propella/items/a9a32b878c77222630ae"
   ]
  },
  {
   "cell_type": "markdown",
   "metadata": {},
   "source": [
    "---\n",
    "> P-024: レシート明細データフレーム（df_receipt）に対し、顧客ID（customer_id）ごとに最も新しい売上日（sales_ymd）を求め、10件表示せよ。"
   ]
  },
  {
   "cell_type": "code",
   "execution_count": 35,
   "metadata": {},
   "outputs": [
    {
     "data": {
      "text/plain": [
       "customer_id\n",
       "CS001113000004    20190308\n",
       "CS001114000005    20190731\n",
       "CS001115000010    20190405\n",
       "CS001205000004    20190625\n",
       "CS001205000006    20190224\n",
       "Name: sales_ymd, dtype: int64"
      ]
     },
     "execution_count": 35,
     "metadata": {},
     "output_type": "execute_result"
    }
   ],
   "source": [
    "df_receipt3 = df_receipt.groupby(\"customer_id\")\n",
    "df_receipt4 = df_receipt3[\"sales_ymd\"].max()\n",
    "df_receipt4.head()\n",
    "\n",
    "# 最も新しい売上日（sales_ymd）= 最大値\n",
    "# 参考：http://ailaby.com/groupby_easy/#id1_3"
   ]
  },
  {
   "cell_type": "code",
   "execution_count": 36,
   "metadata": {},
   "outputs": [
    {
     "data": {
      "text/html": [
       "<div>\n",
       "<style scoped>\n",
       "    .dataframe tbody tr th:only-of-type {\n",
       "        vertical-align: middle;\n",
       "    }\n",
       "\n",
       "    .dataframe tbody tr th {\n",
       "        vertical-align: top;\n",
       "    }\n",
       "\n",
       "    .dataframe thead th {\n",
       "        text-align: right;\n",
       "    }\n",
       "</style>\n",
       "<table border=\"1\" class=\"dataframe\">\n",
       "  <thead>\n",
       "    <tr style=\"text-align: right;\">\n",
       "      <th></th>\n",
       "      <th>sales_ymd</th>\n",
       "    </tr>\n",
       "    <tr>\n",
       "      <th>customer_id</th>\n",
       "      <th></th>\n",
       "    </tr>\n",
       "  </thead>\n",
       "  <tbody>\n",
       "    <tr>\n",
       "      <th>CS001113000004</th>\n",
       "      <td>20190308</td>\n",
       "    </tr>\n",
       "    <tr>\n",
       "      <th>CS001114000005</th>\n",
       "      <td>20190731</td>\n",
       "    </tr>\n",
       "    <tr>\n",
       "      <th>CS001115000010</th>\n",
       "      <td>20190405</td>\n",
       "    </tr>\n",
       "    <tr>\n",
       "      <th>CS001205000004</th>\n",
       "      <td>20190625</td>\n",
       "    </tr>\n",
       "    <tr>\n",
       "      <th>CS001205000006</th>\n",
       "      <td>20190224</td>\n",
       "    </tr>\n",
       "    <tr>\n",
       "      <th>CS001211000025</th>\n",
       "      <td>20190322</td>\n",
       "    </tr>\n",
       "    <tr>\n",
       "      <th>CS001212000027</th>\n",
       "      <td>20170127</td>\n",
       "    </tr>\n",
       "    <tr>\n",
       "      <th>CS001212000031</th>\n",
       "      <td>20180906</td>\n",
       "    </tr>\n",
       "    <tr>\n",
       "      <th>CS001212000046</th>\n",
       "      <td>20170811</td>\n",
       "    </tr>\n",
       "    <tr>\n",
       "      <th>CS001212000070</th>\n",
       "      <td>20191018</td>\n",
       "    </tr>\n",
       "  </tbody>\n",
       "</table>\n",
       "</div>"
      ],
      "text/plain": [
       "                sales_ymd\n",
       "customer_id              \n",
       "CS001113000004   20190308\n",
       "CS001114000005   20190731\n",
       "CS001115000010   20190405\n",
       "CS001205000004   20190625\n",
       "CS001205000006   20190224\n",
       "CS001211000025   20190322\n",
       "CS001212000027   20170127\n",
       "CS001212000031   20180906\n",
       "CS001212000046   20170811\n",
       "CS001212000070   20191018"
      ]
     },
     "execution_count": 36,
     "metadata": {},
     "output_type": "execute_result"
    }
   ],
   "source": [
    "pd.DataFrame(df_receipt4).head(10) # DataFrame型に変換"
   ]
  },
  {
   "cell_type": "markdown",
   "metadata": {},
   "source": [
    "---\n",
    "> P-025: レシート明細データフレーム（df_receipt）に対し、顧客ID（customer_id）ごとに最も古い売上日（sales_ymd）を求め、10件表示せよ。"
   ]
  },
  {
   "cell_type": "code",
   "execution_count": 37,
   "metadata": {},
   "outputs": [
    {
     "data": {
      "text/html": [
       "<div>\n",
       "<style scoped>\n",
       "    .dataframe tbody tr th:only-of-type {\n",
       "        vertical-align: middle;\n",
       "    }\n",
       "\n",
       "    .dataframe tbody tr th {\n",
       "        vertical-align: top;\n",
       "    }\n",
       "\n",
       "    .dataframe thead th {\n",
       "        text-align: right;\n",
       "    }\n",
       "</style>\n",
       "<table border=\"1\" class=\"dataframe\">\n",
       "  <thead>\n",
       "    <tr style=\"text-align: right;\">\n",
       "      <th></th>\n",
       "      <th>sales_ymd</th>\n",
       "    </tr>\n",
       "    <tr>\n",
       "      <th>customer_id</th>\n",
       "      <th></th>\n",
       "    </tr>\n",
       "  </thead>\n",
       "  <tbody>\n",
       "    <tr>\n",
       "      <th>CS001113000004</th>\n",
       "      <td>20190308</td>\n",
       "    </tr>\n",
       "    <tr>\n",
       "      <th>CS001114000005</th>\n",
       "      <td>20180503</td>\n",
       "    </tr>\n",
       "    <tr>\n",
       "      <th>CS001115000010</th>\n",
       "      <td>20171228</td>\n",
       "    </tr>\n",
       "    <tr>\n",
       "      <th>CS001205000004</th>\n",
       "      <td>20170914</td>\n",
       "    </tr>\n",
       "    <tr>\n",
       "      <th>CS001205000006</th>\n",
       "      <td>20180207</td>\n",
       "    </tr>\n",
       "    <tr>\n",
       "      <th>CS001211000025</th>\n",
       "      <td>20190322</td>\n",
       "    </tr>\n",
       "    <tr>\n",
       "      <th>CS001212000027</th>\n",
       "      <td>20170127</td>\n",
       "    </tr>\n",
       "    <tr>\n",
       "      <th>CS001212000031</th>\n",
       "      <td>20180906</td>\n",
       "    </tr>\n",
       "    <tr>\n",
       "      <th>CS001212000046</th>\n",
       "      <td>20170811</td>\n",
       "    </tr>\n",
       "    <tr>\n",
       "      <th>CS001212000070</th>\n",
       "      <td>20191018</td>\n",
       "    </tr>\n",
       "  </tbody>\n",
       "</table>\n",
       "</div>"
      ],
      "text/plain": [
       "                sales_ymd\n",
       "customer_id              \n",
       "CS001113000004   20190308\n",
       "CS001114000005   20180503\n",
       "CS001115000010   20171228\n",
       "CS001205000004   20170914\n",
       "CS001205000006   20180207\n",
       "CS001211000025   20190322\n",
       "CS001212000027   20170127\n",
       "CS001212000031   20180906\n",
       "CS001212000046   20170811\n",
       "CS001212000070   20191018"
      ]
     },
     "execution_count": 37,
     "metadata": {},
     "output_type": "execute_result"
    }
   ],
   "source": [
    "df_receipt3 = df_receipt.groupby(\"customer_id\")\n",
    "df_receipt5 = df_receipt3[\"sales_ymd\"].min()\n",
    "pd.DataFrame(df_receipt5).head(10)\n",
    "\n",
    "# 最も古い売上日（sales_ymd）= 最小値\n",
    "# 参考：http://ailaby.com/groupby_easy/#id1_3"
   ]
  },
  {
   "cell_type": "code",
   "execution_count": null,
   "metadata": {},
   "outputs": [],
   "source": []
  }
 ],
 "metadata": {
  "kernelspec": {
   "display_name": "Python 3",
   "language": "python",
   "name": "python3"
  },
  "language_info": {
   "codemirror_mode": {
    "name": "ipython",
    "version": 3
   },
   "file_extension": ".py",
   "mimetype": "text/x-python",
   "name": "python",
   "nbconvert_exporter": "python",
   "pygments_lexer": "ipython3",
   "version": "3.7.7"
  }
 },
 "nbformat": 4,
 "nbformat_minor": 4
}
