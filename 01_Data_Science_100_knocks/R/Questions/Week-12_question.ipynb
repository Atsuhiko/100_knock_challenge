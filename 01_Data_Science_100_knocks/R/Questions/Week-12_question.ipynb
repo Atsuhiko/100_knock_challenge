{
 "cells": [
  {
   "cell_type": "markdown",
   "metadata": {},
   "source": [
    "# データサイエンス100本ノック（構造化データ加工編） - R"
   ]
  },
  {
   "cell_type": "markdown",
   "metadata": {},
   "source": [
    "## はじめに\n",
    "- 初めに以下のセルを実行してください\n",
    "- 必要なライブラリのインポートとCSVファイルからのデータ読み込みを行います\n",
    "- 利用が想定されるライブラリは以下セルでインポートしています\n",
    "- その他利用したいライブラリがあれば適宜インストールしてください（!マークに続けてOSコマンドを入力することで、任意のubuntu Linuxコマンドが入力可能）\n",
    "- 名前、住所等はダミーデータであり、実在するものではありません"
   ]
  },
  {
   "cell_type": "code",
   "execution_count": 1,
   "metadata": {
    "scrolled": true
   },
   "outputs": [
    {
     "name": "stderr",
     "output_type": "stream",
     "text": [
      "Loading required package: tidyr\n",
      "Loading required package: dplyr\n",
      "\n",
      "Attaching package: 'dplyr'\n",
      "\n",
      "The following objects are masked from 'package:stats':\n",
      "\n",
      "    filter, lag\n",
      "\n",
      "The following objects are masked from 'package:base':\n",
      "\n",
      "    intersect, setdiff, setequal, union\n",
      "\n",
      "Loading required package: stringr\n",
      "Loading required package: caret\n",
      "Loading required package: lattice\n",
      "Loading required package: ggplot2\n",
      "Registered S3 methods overwritten by 'ggplot2':\n",
      "  method         from \n",
      "  [.quosures     rlang\n",
      "  c.quosures     rlang\n",
      "  print.quosures rlang\n",
      "Loading required package: lubridate\n",
      "\n",
      "Attaching package: 'lubridate'\n",
      "\n",
      "The following object is masked from 'package:base':\n",
      "\n",
      "    date\n",
      "\n",
      "Loading required package: rsample\n",
      "Warning message in library(package, lib.loc = lib.loc, character.only = TRUE, logical.return = TRUE, :\n",
      "\"there is no package called 'rsample'\"Loading required package: unbalanced\n",
      "Warning message in library(package, lib.loc = lib.loc, character.only = TRUE, logical.return = TRUE, :\n",
      "\"there is no package called 'unbalanced'\""
     ]
    }
   ],
   "source": [
    "# require('RPostgreSQL')\n",
    "require('tidyr')\n",
    "require('dplyr')\n",
    "require('stringr')\n",
    "require('caret')\n",
    "require('lubridate')\n",
    "require('rsample')\n",
    "require('unbalanced')\n",
    "\n",
    "# host <- 'db'\n",
    "# port <- Sys.getenv()[\"PG_PORT\"]\n",
    "# dbname <- Sys.getenv()[\"PG_DATABASE\"]\n",
    "# user <- Sys.getenv()[\"PG_USER\"]\n",
    "# password <- Sys.getenv()[\"PG_PASSWORD\"]\n",
    "\n",
    "# con <- dbConnect(PostgreSQL(), host=host, port=port, dbname=dbname, user=user, password=password)\n",
    "# df_customer <- dbGetQuery(con,\"SELECT * FROM customer\")\n",
    "# df_category <- dbGetQuery(con,\"SELECT * FROM category\")\n",
    "# df_product <- dbGetQuery(con,\"SELECT * FROM product\")\n",
    "# df_receipt <- dbGetQuery(con,\"SELECT * FROM receipt\")\n",
    "# df_store <- dbGetQuery(con,\"SELECT * FROM store\")\n",
    "# df_geocode <- dbGetQuery(con,\"SELECT * FROM geocode\")"
   ]
  },
  {
   "cell_type": "code",
   "execution_count": 2,
   "metadata": {
    "scrolled": true
   },
   "outputs": [
    {
     "data": {
      "text/html": [
       "<table>\n",
       "<thead><tr><th scope=col>customer_id</th><th scope=col>customer_name</th><th scope=col>gender_cd</th><th scope=col>gender</th><th scope=col>birth_day</th><th scope=col>age</th><th scope=col>postal_cd</th><th scope=col>address</th><th scope=col>application_store_cd</th><th scope=col>application_date</th><th scope=col>status_cd</th></tr></thead>\n",
       "<tbody>\n",
       "\t<tr><td>CS021313000114                    </td><td>大野 あや子                       </td><td>1                                 </td><td>女性                              </td><td>1981-04-29                        </td><td>37                                </td><td>259-1113                          </td><td>神奈川県伊勢原市粟窪**********    </td><td>S14021                            </td><td>20150905                          </td><td>0-00000000-0                      </td></tr>\n",
       "\t<tr><td>CS037613000071                    </td><td>六角 雅彦                         </td><td>9                                 </td><td>不明                              </td><td>1952-04-01                        </td><td>66                                </td><td>136-0076                          </td><td>東京都江東区南砂**********        </td><td>S13037                            </td><td>20150414                          </td><td>0-00000000-0                      </td></tr>\n",
       "\t<tr><td>CS031415000172                    </td><td>宇多田 貴美子                     </td><td>1                                 </td><td>女性                              </td><td>1976-10-04                        </td><td>42                                </td><td>151-0053                          </td><td>東京都渋谷区代々木**********      </td><td>S13031                            </td><td>20150529                          </td><td>D-20100325-C                      </td></tr>\n",
       "\t<tr><td>CS028811000001                    </td><td>堀井 かおり                       </td><td>1                                 </td><td>女性                              </td><td>1933-03-27                        </td><td>86                                </td><td>245-0016                          </td><td>神奈川県横浜市泉区和泉町**********</td><td>S14028                            </td><td>20160115                          </td><td>0-00000000-0                      </td></tr>\n",
       "\t<tr><td>CS001215000145                    </td><td>田崎 美紀                         </td><td>1                                 </td><td>女性                              </td><td>1995-03-29                        </td><td>24                                </td><td>144-0055                          </td><td>東京都大田区仲六郷**********      </td><td>S13001                            </td><td>20170605                          </td><td>6-20090929-2                      </td></tr>\n",
       "</tbody>\n",
       "</table>\n"
      ],
      "text/latex": [
       "\\begin{tabular}{r|lllllllllll}\n",
       " customer\\_id & customer\\_name & gender\\_cd & gender & birth\\_day & age & postal\\_cd & address & application\\_store\\_cd & application\\_date & status\\_cd\\\\\n",
       "\\hline\n",
       "\t CS021313000114                     & 大野 あや子                        & 1                                  & 女性                               & 1981-04-29                         & 37                                 & 259-1113                           & 神奈川県伊勢原市粟窪**********     & S14021                             & 20150905                           & 0-00000000-0                      \\\\\n",
       "\t CS037613000071                     & 六角 雅彦                          & 9                                  & 不明                               & 1952-04-01                         & 66                                 & 136-0076                           & 東京都江東区南砂**********         & S13037                             & 20150414                           & 0-00000000-0                      \\\\\n",
       "\t CS031415000172                     & 宇多田 貴美子                      & 1                                  & 女性                               & 1976-10-04                         & 42                                 & 151-0053                           & 東京都渋谷区代々木**********       & S13031                             & 20150529                           & D-20100325-C                      \\\\\n",
       "\t CS028811000001                     & 堀井 かおり                        & 1                                  & 女性                               & 1933-03-27                         & 86                                 & 245-0016                           & 神奈川県横浜市泉区和泉町********** & S14028                             & 20160115                           & 0-00000000-0                      \\\\\n",
       "\t CS001215000145                     & 田崎 美紀                          & 1                                  & 女性                               & 1995-03-29                         & 24                                 & 144-0055                           & 東京都大田区仲六郷**********       & S13001                             & 20170605                           & 6-20090929-2                      \\\\\n",
       "\\end{tabular}\n"
      ],
      "text/markdown": [
       "\n",
       "| customer_id | customer_name | gender_cd | gender | birth_day | age | postal_cd | address | application_store_cd | application_date | status_cd |\n",
       "|---|---|---|---|---|---|---|---|---|---|---|\n",
       "| CS021313000114                     | 大野 あや子                        | 1                                  | 女性                               | 1981-04-29                         | 37                                 | 259-1113                           | 神奈川県伊勢原市粟窪**********     | S14021                             | 20150905                           | 0-00000000-0                       |\n",
       "| CS037613000071                     | 六角 雅彦                          | 9                                  | 不明                               | 1952-04-01                         | 66                                 | 136-0076                           | 東京都江東区南砂**********         | S13037                             | 20150414                           | 0-00000000-0                       |\n",
       "| CS031415000172                     | 宇多田 貴美子                      | 1                                  | 女性                               | 1976-10-04                         | 42                                 | 151-0053                           | 東京都渋谷区代々木**********       | S13031                             | 20150529                           | D-20100325-C                       |\n",
       "| CS028811000001                     | 堀井 かおり                        | 1                                  | 女性                               | 1933-03-27                         | 86                                 | 245-0016                           | 神奈川県横浜市泉区和泉町********** | S14028                             | 20160115                           | 0-00000000-0                       |\n",
       "| CS001215000145                     | 田崎 美紀                          | 1                                  | 女性                               | 1995-03-29                         | 24                                 | 144-0055                           | 東京都大田区仲六郷**********       | S13001                             | 20170605                           | 6-20090929-2                       |\n",
       "\n"
      ],
      "text/plain": [
       "  customer_id    customer_name gender_cd gender birth_day  age postal_cd\n",
       "1 CS021313000114 大野 あや子   1         女性   1981-04-29 37  259-1113 \n",
       "2 CS037613000071 六角 雅彦     9         不明   1952-04-01 66  136-0076 \n",
       "3 CS031415000172 宇多田 貴美子 1         女性   1976-10-04 42  151-0053 \n",
       "4 CS028811000001 堀井 かおり   1         女性   1933-03-27 86  245-0016 \n",
       "5 CS001215000145 田崎 美紀     1         女性   1995-03-29 24  144-0055 \n",
       "  address                            application_store_cd application_date\n",
       "1 神奈川県伊勢原市粟窪**********     S14021               20150905        \n",
       "2 東京都江東区南砂**********         S13037               20150414        \n",
       "3 東京都渋谷区代々木**********       S13031               20150529        \n",
       "4 神奈川県横浜市泉区和泉町********** S14028               20160115        \n",
       "5 東京都大田区仲六郷**********       S13001               20170605        \n",
       "  status_cd   \n",
       "1 0-00000000-0\n",
       "2 0-00000000-0\n",
       "3 D-20100325-C\n",
       "4 0-00000000-0\n",
       "5 6-20090929-2"
      ]
     },
     "metadata": {},
     "output_type": "display_data"
    }
   ],
   "source": [
    "df_customer <- read.csv(\"./data/customer_shift-jis.csv\", encoding=\"shift-jis\")\n",
    "head(df_customer, n = 5)"
   ]
  },
  {
   "cell_type": "code",
   "execution_count": 3,
   "metadata": {},
   "outputs": [
    {
     "data": {
      "text/html": [
       "<table>\n",
       "<thead><tr><th scope=col>category_major_cd</th><th scope=col>category_major_name</th><th scope=col>category_medium_cd</th><th scope=col>category_medium_name</th><th scope=col>category_small_cd</th><th scope=col>category_small_name</th></tr></thead>\n",
       "<tbody>\n",
       "\t<tr><td>4         </td><td>惣菜      </td><td>401       </td><td>御飯類    </td><td>40101     </td><td>弁当類    </td></tr>\n",
       "\t<tr><td>4         </td><td>惣菜      </td><td>401       </td><td>御飯類    </td><td>40102     </td><td>寿司類    </td></tr>\n",
       "\t<tr><td>4         </td><td>惣菜      </td><td>402       </td><td>佃煮類    </td><td>40201     </td><td>魚介佃煮類</td></tr>\n",
       "\t<tr><td>4         </td><td>惣菜      </td><td>402       </td><td>佃煮類    </td><td>40202     </td><td>海草佃煮類</td></tr>\n",
       "\t<tr><td>4         </td><td>惣菜      </td><td>402       </td><td>佃煮類    </td><td>40203     </td><td>野菜佃煮類</td></tr>\n",
       "</tbody>\n",
       "</table>\n"
      ],
      "text/latex": [
       "\\begin{tabular}{r|llllll}\n",
       " category\\_major\\_cd & category\\_major\\_name & category\\_medium\\_cd & category\\_medium\\_name & category\\_small\\_cd & category\\_small\\_name\\\\\n",
       "\\hline\n",
       "\t 4          & 惣菜       & 401        & 御飯類     & 40101      & 弁当類    \\\\\n",
       "\t 4          & 惣菜       & 401        & 御飯類     & 40102      & 寿司類    \\\\\n",
       "\t 4          & 惣菜       & 402        & 佃煮類     & 40201      & 魚介佃煮類\\\\\n",
       "\t 4          & 惣菜       & 402        & 佃煮類     & 40202      & 海草佃煮類\\\\\n",
       "\t 4          & 惣菜       & 402        & 佃煮類     & 40203      & 野菜佃煮類\\\\\n",
       "\\end{tabular}\n"
      ],
      "text/markdown": [
       "\n",
       "| category_major_cd | category_major_name | category_medium_cd | category_medium_name | category_small_cd | category_small_name |\n",
       "|---|---|---|---|---|---|\n",
       "| 4          | 惣菜       | 401        | 御飯類     | 40101      | 弁当類     |\n",
       "| 4          | 惣菜       | 401        | 御飯類     | 40102      | 寿司類     |\n",
       "| 4          | 惣菜       | 402        | 佃煮類     | 40201      | 魚介佃煮類 |\n",
       "| 4          | 惣菜       | 402        | 佃煮類     | 40202      | 海草佃煮類 |\n",
       "| 4          | 惣菜       | 402        | 佃煮類     | 40203      | 野菜佃煮類 |\n",
       "\n"
      ],
      "text/plain": [
       "  category_major_cd category_major_name category_medium_cd category_medium_name\n",
       "1 4                 惣菜                401                御飯類              \n",
       "2 4                 惣菜                401                御飯類              \n",
       "3 4                 惣菜                402                佃煮類              \n",
       "4 4                 惣菜                402                佃煮類              \n",
       "5 4                 惣菜                402                佃煮類              \n",
       "  category_small_cd category_small_name\n",
       "1 40101             弁当類             \n",
       "2 40102             寿司類             \n",
       "3 40201             魚介佃煮類         \n",
       "4 40202             海草佃煮類         \n",
       "5 40203             野菜佃煮類         "
      ]
     },
     "metadata": {},
     "output_type": "display_data"
    }
   ],
   "source": [
    "# df_category <- read.csv(\"./data/category.csv\", encoding=\"UTF-8\")\n",
    "df_category <- read.csv(\"./data/category.csv\", encoding=\"shift-jis\") # エラーがでたので文字コードを変更\n",
    "head(df_category, n = 5)"
   ]
  },
  {
   "cell_type": "code",
   "execution_count": 4,
   "metadata": {},
   "outputs": [
    {
     "data": {
      "text/html": [
       "<table>\n",
       "<thead><tr><th scope=col>X.U.FEFF.product_cd</th><th scope=col>category_major_cd</th><th scope=col>category_medium_cd</th><th scope=col>category_small_cd</th><th scope=col>unit_price</th><th scope=col>unit_cost</th></tr></thead>\n",
       "<tbody>\n",
       "\t<tr><td>P040101001</td><td>4         </td><td>401       </td><td>40101     </td><td>198       </td><td>149       </td></tr>\n",
       "\t<tr><td>P040101002</td><td>4         </td><td>401       </td><td>40101     </td><td>218       </td><td>164       </td></tr>\n",
       "\t<tr><td>P040101003</td><td>4         </td><td>401       </td><td>40101     </td><td>230       </td><td>173       </td></tr>\n",
       "\t<tr><td>P040101004</td><td>4         </td><td>401       </td><td>40101     </td><td>248       </td><td>186       </td></tr>\n",
       "\t<tr><td>P040101005</td><td>4         </td><td>401       </td><td>40101     </td><td>268       </td><td>201       </td></tr>\n",
       "</tbody>\n",
       "</table>\n"
      ],
      "text/latex": [
       "\\begin{tabular}{r|llllll}\n",
       " X.U.FEFF.product\\_cd & category\\_major\\_cd & category\\_medium\\_cd & category\\_small\\_cd & unit\\_price & unit\\_cost\\\\\n",
       "\\hline\n",
       "\t P040101001 & 4          & 401        & 40101      & 198        & 149       \\\\\n",
       "\t P040101002 & 4          & 401        & 40101      & 218        & 164       \\\\\n",
       "\t P040101003 & 4          & 401        & 40101      & 230        & 173       \\\\\n",
       "\t P040101004 & 4          & 401        & 40101      & 248        & 186       \\\\\n",
       "\t P040101005 & 4          & 401        & 40101      & 268        & 201       \\\\\n",
       "\\end{tabular}\n"
      ],
      "text/markdown": [
       "\n",
       "| X.U.FEFF.product_cd | category_major_cd | category_medium_cd | category_small_cd | unit_price | unit_cost |\n",
       "|---|---|---|---|---|---|\n",
       "| P040101001 | 4          | 401        | 40101      | 198        | 149        |\n",
       "| P040101002 | 4          | 401        | 40101      | 218        | 164        |\n",
       "| P040101003 | 4          | 401        | 40101      | 230        | 173        |\n",
       "| P040101004 | 4          | 401        | 40101      | 248        | 186        |\n",
       "| P040101005 | 4          | 401        | 40101      | 268        | 201        |\n",
       "\n"
      ],
      "text/plain": [
       "  X.U.FEFF.product_cd category_major_cd category_medium_cd category_small_cd\n",
       "1 P040101001          4                 401                40101            \n",
       "2 P040101002          4                 401                40101            \n",
       "3 P040101003          4                 401                40101            \n",
       "4 P040101004          4                 401                40101            \n",
       "5 P040101005          4                 401                40101            \n",
       "  unit_price unit_cost\n",
       "1 198        149      \n",
       "2 218        164      \n",
       "3 230        173      \n",
       "4 248        186      \n",
       "5 268        201      "
      ]
     },
     "metadata": {},
     "output_type": "display_data"
    }
   ],
   "source": [
    "df_product <- read.csv(\"./data/product.csv\", encoding=\"UTF-8\")\n",
    "head(df_product, n = 5)"
   ]
  },
  {
   "cell_type": "code",
   "execution_count": 5,
   "metadata": {},
   "outputs": [
    {
     "data": {
      "text/html": [
       "<table>\n",
       "<thead><tr><th scope=col>sales_ymd</th><th scope=col>sales_epoch</th><th scope=col>store_cd</th><th scope=col>receipt_no</th><th scope=col>receipt_sub_no</th><th scope=col>customer_id</th><th scope=col>product_cd</th><th scope=col>quantity</th><th scope=col>amount</th></tr></thead>\n",
       "<tbody>\n",
       "\t<tr><td>20181103      </td><td>1257206400    </td><td>S14006        </td><td> 112          </td><td>1             </td><td>CS006214000001</td><td>P070305012    </td><td>1             </td><td>158           </td></tr>\n",
       "\t<tr><td>20181118      </td><td>1258502400    </td><td>S13008        </td><td>1132          </td><td>2             </td><td>CS008415000097</td><td>P070701017    </td><td>1             </td><td> 81           </td></tr>\n",
       "\t<tr><td>20170712      </td><td>1215820800    </td><td>S14028        </td><td>1102          </td><td>1             </td><td>CS028414000014</td><td>P060101005    </td><td>1             </td><td>170           </td></tr>\n",
       "\t<tr><td>20190205      </td><td>1265328000    </td><td>S14042        </td><td>1132          </td><td>1             </td><td>ZZ000000000000</td><td>P050301001    </td><td>1             </td><td> 25           </td></tr>\n",
       "\t<tr><td>20180821      </td><td>1250812800    </td><td>S14025        </td><td>1102          </td><td>2             </td><td>CS025415000050</td><td>P060102007    </td><td>1             </td><td> 90           </td></tr>\n",
       "</tbody>\n",
       "</table>\n"
      ],
      "text/latex": [
       "\\begin{tabular}{r|lllllllll}\n",
       " sales\\_ymd & sales\\_epoch & store\\_cd & receipt\\_no & receipt\\_sub\\_no & customer\\_id & product\\_cd & quantity & amount\\\\\n",
       "\\hline\n",
       "\t 20181103       & 1257206400     & S14006         &  112           & 1              & CS006214000001 & P070305012     & 1              & 158           \\\\\n",
       "\t 20181118       & 1258502400     & S13008         & 1132           & 2              & CS008415000097 & P070701017     & 1              &  81           \\\\\n",
       "\t 20170712       & 1215820800     & S14028         & 1102           & 1              & CS028414000014 & P060101005     & 1              & 170           \\\\\n",
       "\t 20190205       & 1265328000     & S14042         & 1132           & 1              & ZZ000000000000 & P050301001     & 1              &  25           \\\\\n",
       "\t 20180821       & 1250812800     & S14025         & 1102           & 2              & CS025415000050 & P060102007     & 1              &  90           \\\\\n",
       "\\end{tabular}\n"
      ],
      "text/markdown": [
       "\n",
       "| sales_ymd | sales_epoch | store_cd | receipt_no | receipt_sub_no | customer_id | product_cd | quantity | amount |\n",
       "|---|---|---|---|---|---|---|---|---|\n",
       "| 20181103       | 1257206400     | S14006         |  112           | 1              | CS006214000001 | P070305012     | 1              | 158            |\n",
       "| 20181118       | 1258502400     | S13008         | 1132           | 2              | CS008415000097 | P070701017     | 1              |  81            |\n",
       "| 20170712       | 1215820800     | S14028         | 1102           | 1              | CS028414000014 | P060101005     | 1              | 170            |\n",
       "| 20190205       | 1265328000     | S14042         | 1132           | 1              | ZZ000000000000 | P050301001     | 1              |  25            |\n",
       "| 20180821       | 1250812800     | S14025         | 1102           | 2              | CS025415000050 | P060102007     | 1              |  90            |\n",
       "\n"
      ],
      "text/plain": [
       "  sales_ymd sales_epoch store_cd receipt_no receipt_sub_no customer_id   \n",
       "1 20181103  1257206400  S14006    112       1              CS006214000001\n",
       "2 20181118  1258502400  S13008   1132       2              CS008415000097\n",
       "3 20170712  1215820800  S14028   1102       1              CS028414000014\n",
       "4 20190205  1265328000  S14042   1132       1              ZZ000000000000\n",
       "5 20180821  1250812800  S14025   1102       2              CS025415000050\n",
       "  product_cd quantity amount\n",
       "1 P070305012 1        158   \n",
       "2 P070701017 1         81   \n",
       "3 P060101005 1        170   \n",
       "4 P050301001 1         25   \n",
       "5 P060102007 1         90   "
      ]
     },
     "metadata": {},
     "output_type": "display_data"
    }
   ],
   "source": [
    "df_receipt <- read.csv(\"./data/receipt.csv\", encoding=\"UTF-8\")\n",
    "head(df_receipt, n = 5)"
   ]
  },
  {
   "cell_type": "code",
   "execution_count": 6,
   "metadata": {},
   "outputs": [
    {
     "data": {
      "text/html": [
       "<table>\n",
       "<thead><tr><th scope=col>store_cd</th><th scope=col>store_name</th><th scope=col>prefecture_cd</th><th scope=col>prefecture</th><th scope=col>address</th><th scope=col>address_kana</th><th scope=col>tel_no</th><th scope=col>longitude</th><th scope=col>latitude</th><th scope=col>floor_area</th></tr></thead>\n",
       "<tbody>\n",
       "\t<tr><td>S12014                                            </td><td>千草台店                                          </td><td>12                                                </td><td>千葉県                                            </td><td>千葉県千葉市稲毛区千草台一丁目                    </td><td>チバケンチバシイナゲクチグサダイイッチョウメ      </td><td>043-123-4003                                      </td><td>140.1180                                          </td><td>35.63559                                          </td><td>1698                                              </td></tr>\n",
       "\t<tr><td>S13002                                            </td><td>国分寺店                                          </td><td>13                                                </td><td>東京都                                            </td><td>東京都国分寺市本多二丁目                          </td><td>トウキョウトコクブンジシホンダニチョウメ          </td><td>042-123-4008                                      </td><td>139.4802                                          </td><td>35.70566                                          </td><td>1735                                              </td></tr>\n",
       "\t<tr><td>S14010                                            </td><td>菊名店                                            </td><td>14                                                </td><td>神奈川県                                          </td><td>神奈川県横浜市港北区菊名一丁目                    </td><td>カナガワケンヨコハマシコウホククキクナイッチョウメ</td><td>045-123-4032                                      </td><td>139.6326                                          </td><td>35.50049                                          </td><td>1732                                              </td></tr>\n",
       "\t<tr><td>S14033                                            </td><td>阿久和店                                          </td><td>14                                                </td><td>神奈川県                                          </td><td>神奈川県横浜市瀬谷区阿久和西一丁目                </td><td>カナガワケンヨコハマシセヤクアクワニシイッチョウメ</td><td>045-123-4043                                      </td><td>139.4961                                          </td><td>35.45918                                          </td><td>1495                                              </td></tr>\n",
       "\t<tr><td>S14036                                            </td><td>相模原中央店                                      </td><td>14                                                </td><td>神奈川県                                          </td><td>神奈川県相模原市中央二丁目                        </td><td>カナガワケンサガミハラシチュウオウニチョウメ      </td><td>042-123-4045                                      </td><td>139.3716                                          </td><td>35.57327                                          </td><td>1679                                              </td></tr>\n",
       "</tbody>\n",
       "</table>\n"
      ],
      "text/latex": [
       "\\begin{tabular}{r|llllllllll}\n",
       " store\\_cd & store\\_name & prefecture\\_cd & prefecture & address & address\\_kana & tel\\_no & longitude & latitude & floor\\_area\\\\\n",
       "\\hline\n",
       "\t S12014                                             & 千草台店                                           & 12                                                 & 千葉県                                             & 千葉県千葉市稲毛区千草台一丁目                     & チバケンチバシイナゲクチグサダイイッチョウメ       & 043-123-4003                                       & 140.1180                                           & 35.63559                                           & 1698                                              \\\\\n",
       "\t S13002                                             & 国分寺店                                           & 13                                                 & 東京都                                             & 東京都国分寺市本多二丁目                           & トウキョウトコクブンジシホンダニチョウメ           & 042-123-4008                                       & 139.4802                                           & 35.70566                                           & 1735                                              \\\\\n",
       "\t S14010                                             & 菊名店                                             & 14                                                 & 神奈川県                                           & 神奈川県横浜市港北区菊名一丁目                     & カナガワケンヨコハマシコウホククキクナイッチョウメ & 045-123-4032                                       & 139.6326                                           & 35.50049                                           & 1732                                              \\\\\n",
       "\t S14033                                             & 阿久和店                                           & 14                                                 & 神奈川県                                           & 神奈川県横浜市瀬谷区阿久和西一丁目                 & カナガワケンヨコハマシセヤクアクワニシイッチョウメ & 045-123-4043                                       & 139.4961                                           & 35.45918                                           & 1495                                              \\\\\n",
       "\t S14036                                             & 相模原中央店                                       & 14                                                 & 神奈川県                                           & 神奈川県相模原市中央二丁目                         & カナガワケンサガミハラシチュウオウニチョウメ       & 042-123-4045                                       & 139.3716                                           & 35.57327                                           & 1679                                              \\\\\n",
       "\\end{tabular}\n"
      ],
      "text/markdown": [
       "\n",
       "| store_cd | store_name | prefecture_cd | prefecture | address | address_kana | tel_no | longitude | latitude | floor_area |\n",
       "|---|---|---|---|---|---|---|---|---|---|\n",
       "| S12014                                             | 千草台店                                           | 12                                                 | 千葉県                                             | 千葉県千葉市稲毛区千草台一丁目                     | チバケンチバシイナゲクチグサダイイッチョウメ       | 043-123-4003                                       | 140.1180                                           | 35.63559                                           | 1698                                               |\n",
       "| S13002                                             | 国分寺店                                           | 13                                                 | 東京都                                             | 東京都国分寺市本多二丁目                           | トウキョウトコクブンジシホンダニチョウメ           | 042-123-4008                                       | 139.4802                                           | 35.70566                                           | 1735                                               |\n",
       "| S14010                                             | 菊名店                                             | 14                                                 | 神奈川県                                           | 神奈川県横浜市港北区菊名一丁目                     | カナガワケンヨコハマシコウホククキクナイッチョウメ | 045-123-4032                                       | 139.6326                                           | 35.50049                                           | 1732                                               |\n",
       "| S14033                                             | 阿久和店                                           | 14                                                 | 神奈川県                                           | 神奈川県横浜市瀬谷区阿久和西一丁目                 | カナガワケンヨコハマシセヤクアクワニシイッチョウメ | 045-123-4043                                       | 139.4961                                           | 35.45918                                           | 1495                                               |\n",
       "| S14036                                             | 相模原中央店                                       | 14                                                 | 神奈川県                                           | 神奈川県相模原市中央二丁目                         | カナガワケンサガミハラシチュウオウニチョウメ       | 042-123-4045                                       | 139.3716                                           | 35.57327                                           | 1679                                               |\n",
       "\n"
      ],
      "text/plain": [
       "  store_cd store_name   prefecture_cd prefecture\n",
       "1 S12014   千草台店     12            千葉県    \n",
       "2 S13002   国分寺店     13            東京都    \n",
       "3 S14010   菊名店       14            神奈川県  \n",
       "4 S14033   阿久和店     14            神奈川県  \n",
       "5 S14036   相模原中央店 14            神奈川県  \n",
       "  address                           \n",
       "1 千葉県千葉市稲毛区千草台一丁目    \n",
       "2 東京都国分寺市本多二丁目          \n",
       "3 神奈川県横浜市港北区菊名一丁目    \n",
       "4 神奈川県横浜市瀬谷区阿久和西一丁目\n",
       "5 神奈川県相模原市中央二丁目        \n",
       "  address_kana                                       tel_no       longitude\n",
       "1 チバケンチバシイナゲクチグサダイイッチョウメ       043-123-4003 140.1180 \n",
       "2 トウキョウトコクブンジシホンダニチョウメ           042-123-4008 139.4802 \n",
       "3 カナガワケンヨコハマシコウホククキクナイッチョウメ 045-123-4032 139.6326 \n",
       "4 カナガワケンヨコハマシセヤクアクワニシイッチョウメ 045-123-4043 139.4961 \n",
       "5 カナガワケンサガミハラシチュウオウニチョウメ       042-123-4045 139.3716 \n",
       "  latitude floor_area\n",
       "1 35.63559 1698      \n",
       "2 35.70566 1735      \n",
       "3 35.50049 1732      \n",
       "4 35.45918 1495      \n",
       "5 35.57327 1679      "
      ]
     },
     "metadata": {},
     "output_type": "display_data"
    }
   ],
   "source": [
    "df_store <- read.csv(\"./data/store.csv\", encoding=\"shift-jis\") # 正常に読まなかったので文字コードを変換した\n",
    "head(df_store, n = 5)"
   ]
  },
  {
   "cell_type": "code",
   "execution_count": 7,
   "metadata": {},
   "outputs": [],
   "source": [
    "# df_geocode <- read.csv(\"./data/geocode.csv\", encoding=\"UTF-8\") # 時間がかかる, Python では一瞬で読めた\n",
    "# head(df_geocode, n = 5)"
   ]
  },
  {
   "cell_type": "markdown",
   "metadata": {},
   "source": [
    "# 演習問題"
   ]
  },
  {
   "cell_type": "markdown",
   "metadata": {},
   "source": [
    "### はじめに：パイプ演算子について  \n",
    "パイプ演算子 %>% はRの標準演算子ではなく、dplyrをインストールしたら使えるようになります。  \n",
    "https://qiita.com/zakkiiii/items/ecb7ddf55c7f1bfacecf  \n",
    "\n",
    "R-4.1.0 からはパイプ演算子がRの標準装備になるようです。  \n",
    "The native pipe  \n",
    "When the {magrittr} package introduced the pipe to R in 2014, it was building upon similar syntax in Unix / linux scripting languages (bash) and functional programming languages (like F#).  \n",
    "https://www.r-bloggers.com/2021/05/new-features-in-r-4-1-0/"
   ]
  },
  {
   "cell_type": "markdown",
   "metadata": {},
   "source": [
    "---\n",
    "> R-056: 顧客データフレーム（df_customer）の年齢（age）をもとに10歳刻みで年代を算出し、顧客ID（customer_id）、生年月日（birth_day）とともに抽出せよ。ただし、60歳以上は全て60歳代とすること。年代を表すカテゴリ名は任意とする。先頭10件を表示させればよい。"
   ]
  },
  {
   "cell_type": "code",
   "execution_count": null,
   "metadata": {},
   "outputs": [],
   "source": []
  },
  {
   "cell_type": "markdown",
   "metadata": {},
   "source": [
    "---\n",
    "> R-057: 前問題の抽出結果と性別（gender）を組み合わせ、新たに性別×年代の組み合わせを表すカテゴリデータを作成せよ。組み合わせを表すカテゴリの値は任意とする。先頭10件を表示させればよい。"
   ]
  },
  {
   "cell_type": "code",
   "execution_count": null,
   "metadata": {},
   "outputs": [],
   "source": []
  },
  {
   "cell_type": "markdown",
   "metadata": {},
   "source": [
    "---\n",
    "> R-058: 顧客データフレーム（df_customer）の性別コード（gender_cd）をダミー変数化し、顧客ID（customer_id）とともに抽出せよ。結果は10件表示させれば良い。"
   ]
  },
  {
   "cell_type": "code",
   "execution_count": null,
   "metadata": {},
   "outputs": [],
   "source": []
  },
  {
   "cell_type": "markdown",
   "metadata": {},
   "source": [
    "---\n",
    "> R-059: レシート明細データフレーム（df_receipt）の売上金額（amount）を顧客ID（customer_id）ごとに合計し、合計した売上金額を平均0、標準偏差1に標準化して顧客ID、売上金額合計とともに表示せよ。標準化に使用する標準偏差は、不偏標準偏差と標本標準偏差のどちらでも良いものとする。ただし、顧客IDが\"Z\"から始まるのものは非会員を表すため、除外して計算すること。結果は10件表示させれば良い。"
   ]
  },
  {
   "cell_type": "code",
   "execution_count": null,
   "metadata": {},
   "outputs": [],
   "source": []
  },
  {
   "cell_type": "markdown",
   "metadata": {},
   "source": [
    "---\n",
    "> R-060: レシート明細データフレーム（df_receipt）の売上金額（amount）を顧客ID（customer_id）ごとに合計し、合計した売上金額を最小値0、最大値1に正規化して顧客ID、売上金額合計とともに表示せよ。ただし、顧客IDが\"Z\"から始まるのものは非会員を表すため、除外して計算すること。結果は10件表示させれば良い。"
   ]
  },
  {
   "cell_type": "code",
   "execution_count": null,
   "metadata": {},
   "outputs": [],
   "source": []
  }
 ],
 "metadata": {
  "kernelspec": {
   "display_name": "R",
   "language": "R",
   "name": "ir"
  },
  "language_info": {
   "codemirror_mode": "r",
   "file_extension": ".r",
   "mimetype": "text/x-r-source",
   "name": "R",
   "pygments_lexer": "r",
   "version": "3.6.1"
  }
 },
 "nbformat": 4,
 "nbformat_minor": 4
}
