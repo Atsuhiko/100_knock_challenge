{
 "cells": [
  {
   "cell_type": "markdown",
   "metadata": {},
   "source": [
    "# データサイエンス100本ノック（構造化データ加工編） - R"
   ]
  },
  {
   "cell_type": "markdown",
   "metadata": {},
   "source": [
    "## はじめに\n",
    "- 初めに以下のセルを実行してください\n",
    "- 必要なライブラリのインポートとCSVファイルからのデータ読み込みを行います\n",
    "- 利用が想定されるライブラリは以下セルでインポートしています\n",
    "- その他利用したいライブラリがあれば適宜インストールしてください（!マークに続けてOSコマンドを入力することで、任意のubuntu Linuxコマンドが入力可能）\n",
    "- 名前、住所等はダミーデータであり、実在するものではありません"
   ]
  },
  {
   "cell_type": "code",
   "execution_count": 1,
   "metadata": {
    "scrolled": true
   },
   "outputs": [
    {
     "name": "stderr",
     "output_type": "stream",
     "text": [
      "Loading required package: tidyr\n",
      "Warning message:\n",
      "\"package 'tidyr' was built under R version 3.6.3\"Loading required package: dplyr\n",
      "Warning message:\n",
      "\"package 'dplyr' was built under R version 3.6.3\"\n",
      "Attaching package: 'dplyr'\n",
      "\n",
      "The following objects are masked from 'package:stats':\n",
      "\n",
      "    filter, lag\n",
      "\n",
      "The following objects are masked from 'package:base':\n",
      "\n",
      "    intersect, setdiff, setequal, union\n",
      "\n",
      "Loading required package: stringr\n",
      "Warning message:\n",
      "\"package 'stringr' was built under R version 3.6.3\"Loading required package: caret\n",
      "Warning message:\n",
      "\"package 'caret' was built under R version 3.6.3\"Loading required package: lattice\n",
      "Loading required package: ggplot2\n",
      "Warning message:\n",
      "\"package 'ggplot2' was built under R version 3.6.3\"Loading required package: lubridate\n",
      "\n",
      "Attaching package: 'lubridate'\n",
      "\n",
      "The following object is masked from 'package:base':\n",
      "\n",
      "    date\n",
      "\n",
      "Loading required package: rsample\n",
      "Warning message in library(package, lib.loc = lib.loc, character.only = TRUE, logical.return = TRUE, :\n",
      "\"there is no package called 'rsample'\"Loading required package: unbalanced\n",
      "Warning message in library(package, lib.loc = lib.loc, character.only = TRUE, logical.return = TRUE, :\n",
      "\"there is no package called 'unbalanced'\""
     ]
    }
   ],
   "source": [
    "# require('RPostgreSQL')\n",
    "require('tidyr')\n",
    "require('dplyr')\n",
    "require('stringr')\n",
    "require('caret')\n",
    "require('lubridate')\n",
    "require('rsample')\n",
    "require('unbalanced')\n",
    "\n",
    "# host <- 'db'\n",
    "# port <- Sys.getenv()[\"PG_PORT\"]\n",
    "# dbname <- Sys.getenv()[\"PG_DATABASE\"]\n",
    "# user <- Sys.getenv()[\"PG_USER\"]\n",
    "# password <- Sys.getenv()[\"PG_PASSWORD\"]\n",
    "\n",
    "# con <- dbConnect(PostgreSQL(), host=host, port=port, dbname=dbname, user=user, password=password)\n",
    "# df_customer <- dbGetQuery(con,\"SELECT * FROM customer\")\n",
    "# df_category <- dbGetQuery(con,\"SELECT * FROM category\")\n",
    "# df_product <- dbGetQuery(con,\"SELECT * FROM product\")\n",
    "# df_receipt <- dbGetQuery(con,\"SELECT * FROM receipt\")\n",
    "# df_store <- dbGetQuery(con,\"SELECT * FROM store\")\n",
    "# df_geocode <- dbGetQuery(con,\"SELECT * FROM geocode\")"
   ]
  },
  {
   "cell_type": "code",
   "execution_count": 2,
   "metadata": {},
   "outputs": [
    {
     "data": {
      "text/html": [
       "<table>\n",
       "<thead><tr><th scope=col>customer_id</th><th scope=col>customer_name</th><th scope=col>gender_cd</th><th scope=col>gender</th><th scope=col>birth_day</th><th scope=col>age</th><th scope=col>postal_cd</th><th scope=col>address</th><th scope=col>application_store_cd</th><th scope=col>application_date</th><th scope=col>status_cd</th></tr></thead>\n",
       "<tbody>\n",
       "\t<tr><td>CS021313000114                    </td><td>大野 あや子,1                     </td><td>女性                              </td><td>1981-04-29                        </td><td>37                                </td><td>259-1113                          </td><td>神奈川県伊勢原市粟窪**********    </td><td>S14021                            </td><td>20150905                          </td><td>0-00000000-0                      </td><td>                                  </td></tr>\n",
       "\t<tr><td>CS037613000071                    </td><td>六角 雅彦                         </td><td>9                                 </td><td>不明                              </td><td>1952-04-01                        </td><td>66                                </td><td>136-0076                          </td><td>東京都江東区南砂**********        </td><td>S13037                            </td><td>20150414                          </td><td>0-00000000-0                      </td></tr>\n",
       "\t<tr><td>CS031415000172                    </td><td>宇多田 貴美子,1                   </td><td>女性                              </td><td>1976-10-04                        </td><td>42                                </td><td>151-0053                          </td><td>東京都渋谷区代々木**********      </td><td>S13031                            </td><td>20150529                          </td><td>D-20100325-C                      </td><td>                                  </td></tr>\n",
       "\t<tr><td>CS028811000001                    </td><td>堀井 かおり,1                     </td><td>女性                              </td><td>1933-03-27                        </td><td>86                                </td><td>245-0016                          </td><td>神奈川県横浜市泉区和泉町**********</td><td>S14028                            </td><td>20160115                          </td><td>0-00000000-0                      </td><td>                                  </td></tr>\n",
       "\t<tr><td>CS001215000145                    </td><td>田崎 美紀                         </td><td>1                                 </td><td>女性                              </td><td>1995-03-29                        </td><td>24                                </td><td>144-0055                          </td><td>東京都大田区仲六郷**********      </td><td>S13001                            </td><td>20170605                          </td><td>6-20090929-2                      </td></tr>\n",
       "</tbody>\n",
       "</table>\n"
      ],
      "text/latex": [
       "\\begin{tabular}{r|lllllllllll}\n",
       " customer\\_id & customer\\_name & gender\\_cd & gender & birth\\_day & age & postal\\_cd & address & application\\_store\\_cd & application\\_date & status\\_cd\\\\\n",
       "\\hline\n",
       "\t CS021313000114                     & 大野 あや子,1                      & 女性                               & 1981-04-29                         & 37                                 & 259-1113                           & 神奈川県伊勢原市粟窪**********     & S14021                             & 20150905                           & 0-00000000-0                       &                                   \\\\\n",
       "\t CS037613000071                     & 六角 雅彦                          & 9                                  & 不明                               & 1952-04-01                         & 66                                 & 136-0076                           & 東京都江東区南砂**********         & S13037                             & 20150414                           & 0-00000000-0                      \\\\\n",
       "\t CS031415000172                     & 宇多田 貴美子,1                    & 女性                               & 1976-10-04                         & 42                                 & 151-0053                           & 東京都渋谷区代々木**********       & S13031                             & 20150529                           & D-20100325-C                       &                                   \\\\\n",
       "\t CS028811000001                     & 堀井 かおり,1                      & 女性                               & 1933-03-27                         & 86                                 & 245-0016                           & 神奈川県横浜市泉区和泉町********** & S14028                             & 20160115                           & 0-00000000-0                       &                                   \\\\\n",
       "\t CS001215000145                     & 田崎 美紀                          & 1                                  & 女性                               & 1995-03-29                         & 24                                 & 144-0055                           & 東京都大田区仲六郷**********       & S13001                             & 20170605                           & 6-20090929-2                      \\\\\n",
       "\\end{tabular}\n"
      ],
      "text/markdown": [
       "\n",
       "| customer_id | customer_name | gender_cd | gender | birth_day | age | postal_cd | address | application_store_cd | application_date | status_cd |\n",
       "|---|---|---|---|---|---|---|---|---|---|---|\n",
       "| CS021313000114                     | 大野 あや子,1                      | 女性                               | 1981-04-29                         | 37                                 | 259-1113                           | 神奈川県伊勢原市粟窪**********     | S14021                             | 20150905                           | 0-00000000-0                       |                                    |\n",
       "| CS037613000071                     | 六角 雅彦                          | 9                                  | 不明                               | 1952-04-01                         | 66                                 | 136-0076                           | 東京都江東区南砂**********         | S13037                             | 20150414                           | 0-00000000-0                       |\n",
       "| CS031415000172                     | 宇多田 貴美子,1                    | 女性                               | 1976-10-04                         | 42                                 | 151-0053                           | 東京都渋谷区代々木**********       | S13031                             | 20150529                           | D-20100325-C                       |                                    |\n",
       "| CS028811000001                     | 堀井 かおり,1                      | 女性                               | 1933-03-27                         | 86                                 | 245-0016                           | 神奈川県横浜市泉区和泉町********** | S14028                             | 20160115                           | 0-00000000-0                       |                                    |\n",
       "| CS001215000145                     | 田崎 美紀                          | 1                                  | 女性                               | 1995-03-29                         | 24                                 | 144-0055                           | 東京都大田区仲六郷**********       | S13001                             | 20170605                           | 6-20090929-2                       |\n",
       "\n"
      ],
      "text/plain": [
       "  customer_id    customer_name   gender_cd gender     birth_day  age     \n",
       "1 CS021313000114 大野 あや子,1   女性      1981-04-29 37         259-1113\n",
       "2 CS037613000071 六角 雅彦       9         不明       1952-04-01 66      \n",
       "3 CS031415000172 宇多田 貴美子,1 女性      1976-10-04 42         151-0053\n",
       "4 CS028811000001 堀井 かおり,1   女性      1933-03-27 86         245-0016\n",
       "5 CS001215000145 田崎 美紀       1         女性       1995-03-29 24      \n",
       "  postal_cd                          address                     \n",
       "1 神奈川県伊勢原市粟窪**********     S14021                      \n",
       "2 136-0076                           東京都江東区南砂**********  \n",
       "3 東京都渋谷区代々木**********       S13031                      \n",
       "4 神奈川県横浜市泉区和泉町********** S14028                      \n",
       "5 144-0055                           東京都大田区仲六郷**********\n",
       "  application_store_cd application_date status_cd   \n",
       "1 20150905             0-00000000-0                 \n",
       "2 S13037               20150414         0-00000000-0\n",
       "3 20150529             D-20100325-C                 \n",
       "4 20160115             0-00000000-0                 \n",
       "5 S13001               20170605         6-20090929-2"
      ]
     },
     "metadata": {},
     "output_type": "display_data"
    }
   ],
   "source": [
    "df_customer <- read.csv(\"./data/customer.csv\", encoding=\"UTF-8\")\n",
    "head(df_customer, n = 5)"
   ]
  },
  {
   "cell_type": "code",
   "execution_count": 3,
   "metadata": {},
   "outputs": [
    {
     "data": {
      "text/html": [
       "<table>\n",
       "<thead><tr><th scope=col>category_major_cd</th><th scope=col>category_major_name</th><th scope=col>category_medium_cd</th><th scope=col>category_medium_name</th><th scope=col>category_small_cd</th><th scope=col>category_small_name</th></tr></thead>\n",
       "<tbody>\n",
       "\t<tr><td>4         </td><td>惣菜      </td><td>401       </td><td>御飯類    </td><td>40101     </td><td>弁当類    </td></tr>\n",
       "\t<tr><td>4         </td><td>惣菜      </td><td>401       </td><td>御飯類    </td><td>40102     </td><td>寿司類    </td></tr>\n",
       "\t<tr><td>4         </td><td>惣菜      </td><td>402       </td><td>佃煮類    </td><td>40201     </td><td>魚介佃煮類</td></tr>\n",
       "\t<tr><td>4         </td><td>惣菜      </td><td>402       </td><td>佃煮類    </td><td>40202     </td><td>海草佃煮類</td></tr>\n",
       "\t<tr><td>4         </td><td>惣菜      </td><td>402       </td><td>佃煮類    </td><td>40203     </td><td>野菜佃煮類</td></tr>\n",
       "</tbody>\n",
       "</table>\n"
      ],
      "text/latex": [
       "\\begin{tabular}{r|llllll}\n",
       " category\\_major\\_cd & category\\_major\\_name & category\\_medium\\_cd & category\\_medium\\_name & category\\_small\\_cd & category\\_small\\_name\\\\\n",
       "\\hline\n",
       "\t 4          & 惣菜       & 401        & 御飯類     & 40101      & 弁当類    \\\\\n",
       "\t 4          & 惣菜       & 401        & 御飯類     & 40102      & 寿司類    \\\\\n",
       "\t 4          & 惣菜       & 402        & 佃煮類     & 40201      & 魚介佃煮類\\\\\n",
       "\t 4          & 惣菜       & 402        & 佃煮類     & 40202      & 海草佃煮類\\\\\n",
       "\t 4          & 惣菜       & 402        & 佃煮類     & 40203      & 野菜佃煮類\\\\\n",
       "\\end{tabular}\n"
      ],
      "text/markdown": [
       "\n",
       "| category_major_cd | category_major_name | category_medium_cd | category_medium_name | category_small_cd | category_small_name |\n",
       "|---|---|---|---|---|---|\n",
       "| 4          | 惣菜       | 401        | 御飯類     | 40101      | 弁当類     |\n",
       "| 4          | 惣菜       | 401        | 御飯類     | 40102      | 寿司類     |\n",
       "| 4          | 惣菜       | 402        | 佃煮類     | 40201      | 魚介佃煮類 |\n",
       "| 4          | 惣菜       | 402        | 佃煮類     | 40202      | 海草佃煮類 |\n",
       "| 4          | 惣菜       | 402        | 佃煮類     | 40203      | 野菜佃煮類 |\n",
       "\n"
      ],
      "text/plain": [
       "  category_major_cd category_major_name category_medium_cd category_medium_name\n",
       "1 4                 惣菜                401                御飯類              \n",
       "2 4                 惣菜                401                御飯類              \n",
       "3 4                 惣菜                402                佃煮類              \n",
       "4 4                 惣菜                402                佃煮類              \n",
       "5 4                 惣菜                402                佃煮類              \n",
       "  category_small_cd category_small_name\n",
       "1 40101             弁当類             \n",
       "2 40102             寿司類             \n",
       "3 40201             魚介佃煮類         \n",
       "4 40202             海草佃煮類         \n",
       "5 40203             野菜佃煮類         "
      ]
     },
     "metadata": {},
     "output_type": "display_data"
    }
   ],
   "source": [
    "# df_category <- read.csv(\"./data/category.csv\", encoding=\"UTF-8\")\n",
    "df_category <- read.csv(\"./data/category.csv\", encoding=\"shift-jis\") # エラーがでたので文字コードを変更\n",
    "head(df_category, n = 5)"
   ]
  },
  {
   "cell_type": "code",
   "execution_count": 4,
   "metadata": {},
   "outputs": [
    {
     "data": {
      "text/html": [
       "<table>\n",
       "<thead><tr><th scope=col>X.U.FEFF.product_cd</th><th scope=col>category_major_cd</th><th scope=col>category_medium_cd</th><th scope=col>category_small_cd</th><th scope=col>unit_price</th><th scope=col>unit_cost</th></tr></thead>\n",
       "<tbody>\n",
       "\t<tr><td>P040101001</td><td>4         </td><td>401       </td><td>40101     </td><td>198       </td><td>149       </td></tr>\n",
       "\t<tr><td>P040101002</td><td>4         </td><td>401       </td><td>40101     </td><td>218       </td><td>164       </td></tr>\n",
       "\t<tr><td>P040101003</td><td>4         </td><td>401       </td><td>40101     </td><td>230       </td><td>173       </td></tr>\n",
       "\t<tr><td>P040101004</td><td>4         </td><td>401       </td><td>40101     </td><td>248       </td><td>186       </td></tr>\n",
       "\t<tr><td>P040101005</td><td>4         </td><td>401       </td><td>40101     </td><td>268       </td><td>201       </td></tr>\n",
       "</tbody>\n",
       "</table>\n"
      ],
      "text/latex": [
       "\\begin{tabular}{r|llllll}\n",
       " X.U.FEFF.product\\_cd & category\\_major\\_cd & category\\_medium\\_cd & category\\_small\\_cd & unit\\_price & unit\\_cost\\\\\n",
       "\\hline\n",
       "\t P040101001 & 4          & 401        & 40101      & 198        & 149       \\\\\n",
       "\t P040101002 & 4          & 401        & 40101      & 218        & 164       \\\\\n",
       "\t P040101003 & 4          & 401        & 40101      & 230        & 173       \\\\\n",
       "\t P040101004 & 4          & 401        & 40101      & 248        & 186       \\\\\n",
       "\t P040101005 & 4          & 401        & 40101      & 268        & 201       \\\\\n",
       "\\end{tabular}\n"
      ],
      "text/markdown": [
       "\n",
       "| X.U.FEFF.product_cd | category_major_cd | category_medium_cd | category_small_cd | unit_price | unit_cost |\n",
       "|---|---|---|---|---|---|\n",
       "| P040101001 | 4          | 401        | 40101      | 198        | 149        |\n",
       "| P040101002 | 4          | 401        | 40101      | 218        | 164        |\n",
       "| P040101003 | 4          | 401        | 40101      | 230        | 173        |\n",
       "| P040101004 | 4          | 401        | 40101      | 248        | 186        |\n",
       "| P040101005 | 4          | 401        | 40101      | 268        | 201        |\n",
       "\n"
      ],
      "text/plain": [
       "  X.U.FEFF.product_cd category_major_cd category_medium_cd category_small_cd\n",
       "1 P040101001          4                 401                40101            \n",
       "2 P040101002          4                 401                40101            \n",
       "3 P040101003          4                 401                40101            \n",
       "4 P040101004          4                 401                40101            \n",
       "5 P040101005          4                 401                40101            \n",
       "  unit_price unit_cost\n",
       "1 198        149      \n",
       "2 218        164      \n",
       "3 230        173      \n",
       "4 248        186      \n",
       "5 268        201      "
      ]
     },
     "metadata": {},
     "output_type": "display_data"
    }
   ],
   "source": [
    "df_product <- read.csv(\"./data/product.csv\", encoding=\"UTF-8\")\n",
    "head(df_product, n = 5)"
   ]
  },
  {
   "cell_type": "code",
   "execution_count": 5,
   "metadata": {},
   "outputs": [
    {
     "data": {
      "text/html": [
       "<table>\n",
       "<thead><tr><th scope=col>sales_ymd</th><th scope=col>sales_epoch</th><th scope=col>store_cd</th><th scope=col>receipt_no</th><th scope=col>receipt_sub_no</th><th scope=col>customer_id</th><th scope=col>product_cd</th><th scope=col>quantity</th><th scope=col>amount</th></tr></thead>\n",
       "<tbody>\n",
       "\t<tr><td>20181103      </td><td>1257206400    </td><td>S14006        </td><td> 112          </td><td>1             </td><td>CS006214000001</td><td>P070305012    </td><td>1             </td><td>158           </td></tr>\n",
       "\t<tr><td>20181118      </td><td>1258502400    </td><td>S13008        </td><td>1132          </td><td>2             </td><td>CS008415000097</td><td>P070701017    </td><td>1             </td><td> 81           </td></tr>\n",
       "\t<tr><td>20170712      </td><td>1215820800    </td><td>S14028        </td><td>1102          </td><td>1             </td><td>CS028414000014</td><td>P060101005    </td><td>1             </td><td>170           </td></tr>\n",
       "\t<tr><td>20190205      </td><td>1265328000    </td><td>S14042        </td><td>1132          </td><td>1             </td><td>ZZ000000000000</td><td>P050301001    </td><td>1             </td><td> 25           </td></tr>\n",
       "\t<tr><td>20180821      </td><td>1250812800    </td><td>S14025        </td><td>1102          </td><td>2             </td><td>CS025415000050</td><td>P060102007    </td><td>1             </td><td> 90           </td></tr>\n",
       "</tbody>\n",
       "</table>\n"
      ],
      "text/latex": [
       "\\begin{tabular}{r|lllllllll}\n",
       " sales\\_ymd & sales\\_epoch & store\\_cd & receipt\\_no & receipt\\_sub\\_no & customer\\_id & product\\_cd & quantity & amount\\\\\n",
       "\\hline\n",
       "\t 20181103       & 1257206400     & S14006         &  112           & 1              & CS006214000001 & P070305012     & 1              & 158           \\\\\n",
       "\t 20181118       & 1258502400     & S13008         & 1132           & 2              & CS008415000097 & P070701017     & 1              &  81           \\\\\n",
       "\t 20170712       & 1215820800     & S14028         & 1102           & 1              & CS028414000014 & P060101005     & 1              & 170           \\\\\n",
       "\t 20190205       & 1265328000     & S14042         & 1132           & 1              & ZZ000000000000 & P050301001     & 1              &  25           \\\\\n",
       "\t 20180821       & 1250812800     & S14025         & 1102           & 2              & CS025415000050 & P060102007     & 1              &  90           \\\\\n",
       "\\end{tabular}\n"
      ],
      "text/markdown": [
       "\n",
       "| sales_ymd | sales_epoch | store_cd | receipt_no | receipt_sub_no | customer_id | product_cd | quantity | amount |\n",
       "|---|---|---|---|---|---|---|---|---|\n",
       "| 20181103       | 1257206400     | S14006         |  112           | 1              | CS006214000001 | P070305012     | 1              | 158            |\n",
       "| 20181118       | 1258502400     | S13008         | 1132           | 2              | CS008415000097 | P070701017     | 1              |  81            |\n",
       "| 20170712       | 1215820800     | S14028         | 1102           | 1              | CS028414000014 | P060101005     | 1              | 170            |\n",
       "| 20190205       | 1265328000     | S14042         | 1132           | 1              | ZZ000000000000 | P050301001     | 1              |  25            |\n",
       "| 20180821       | 1250812800     | S14025         | 1102           | 2              | CS025415000050 | P060102007     | 1              |  90            |\n",
       "\n"
      ],
      "text/plain": [
       "  sales_ymd sales_epoch store_cd receipt_no receipt_sub_no customer_id   \n",
       "1 20181103  1257206400  S14006    112       1              CS006214000001\n",
       "2 20181118  1258502400  S13008   1132       2              CS008415000097\n",
       "3 20170712  1215820800  S14028   1102       1              CS028414000014\n",
       "4 20190205  1265328000  S14042   1132       1              ZZ000000000000\n",
       "5 20180821  1250812800  S14025   1102       2              CS025415000050\n",
       "  product_cd quantity amount\n",
       "1 P070305012 1        158   \n",
       "2 P070701017 1         81   \n",
       "3 P060101005 1        170   \n",
       "4 P050301001 1         25   \n",
       "5 P060102007 1         90   "
      ]
     },
     "metadata": {},
     "output_type": "display_data"
    }
   ],
   "source": [
    "df_receipt <- read.csv(\"./data/receipt.csv\", encoding=\"UTF-8\")\n",
    "head(df_receipt, n = 5)"
   ]
  },
  {
   "cell_type": "code",
   "execution_count": 6,
   "metadata": {},
   "outputs": [
    {
     "data": {
      "text/html": [
       "<table>\n",
       "<thead><tr><th scope=col>store_cd</th><th scope=col>store_name</th><th scope=col>prefecture_cd</th><th scope=col>prefecture</th><th scope=col>address</th><th scope=col>address_kana</th><th scope=col>tel_no</th><th scope=col>longitude</th><th scope=col>latitude</th><th scope=col>floor_area</th></tr></thead>\n",
       "<tbody>\n",
       "\t<tr><td>S12014                                            </td><td>千草台店                                          </td><td>12                                                </td><td>千葉県                                            </td><td>千葉県千葉市稲毛区千草台一丁目                    </td><td>チバケンチバシイナゲクチグサダイイッチョウメ      </td><td>043-123-4003                                      </td><td>140.1180                                          </td><td>35.63559                                          </td><td>1698                                              </td></tr>\n",
       "\t<tr><td>S13002                                            </td><td>国分寺店                                          </td><td>13                                                </td><td>東京都                                            </td><td>東京都国分寺市本多二丁目                          </td><td>トウキョウトコクブンジシホンダニチョウメ          </td><td>042-123-4008                                      </td><td>139.4802                                          </td><td>35.70566                                          </td><td>1735                                              </td></tr>\n",
       "\t<tr><td>S14010                                            </td><td>菊名店                                            </td><td>14                                                </td><td>神奈川県                                          </td><td>神奈川県横浜市港北区菊名一丁目                    </td><td>カナガワケンヨコハマシコウホククキクナイッチョウメ</td><td>045-123-4032                                      </td><td>139.6326                                          </td><td>35.50049                                          </td><td>1732                                              </td></tr>\n",
       "\t<tr><td>S14033                                            </td><td>阿久和店                                          </td><td>14                                                </td><td>神奈川県                                          </td><td>神奈川県横浜市瀬谷区阿久和西一丁目                </td><td>カナガワケンヨコハマシセヤクアクワニシイッチョウメ</td><td>045-123-4043                                      </td><td>139.4961                                          </td><td>35.45918                                          </td><td>1495                                              </td></tr>\n",
       "\t<tr><td>S14036                                            </td><td>相模原中央店                                      </td><td>14                                                </td><td>神奈川県                                          </td><td>神奈川県相模原市中央二丁目                        </td><td>カナガワケンサガミハラシチュウオウニチョウメ      </td><td>042-123-4045                                      </td><td>139.3716                                          </td><td>35.57327                                          </td><td>1679                                              </td></tr>\n",
       "</tbody>\n",
       "</table>\n"
      ],
      "text/latex": [
       "\\begin{tabular}{r|llllllllll}\n",
       " store\\_cd & store\\_name & prefecture\\_cd & prefecture & address & address\\_kana & tel\\_no & longitude & latitude & floor\\_area\\\\\n",
       "\\hline\n",
       "\t S12014                                             & 千草台店                                           & 12                                                 & 千葉県                                             & 千葉県千葉市稲毛区千草台一丁目                     & チバケンチバシイナゲクチグサダイイッチョウメ       & 043-123-4003                                       & 140.1180                                           & 35.63559                                           & 1698                                              \\\\\n",
       "\t S13002                                             & 国分寺店                                           & 13                                                 & 東京都                                             & 東京都国分寺市本多二丁目                           & トウキョウトコクブンジシホンダニチョウメ           & 042-123-4008                                       & 139.4802                                           & 35.70566                                           & 1735                                              \\\\\n",
       "\t S14010                                             & 菊名店                                             & 14                                                 & 神奈川県                                           & 神奈川県横浜市港北区菊名一丁目                     & カナガワケンヨコハマシコウホククキクナイッチョウメ & 045-123-4032                                       & 139.6326                                           & 35.50049                                           & 1732                                              \\\\\n",
       "\t S14033                                             & 阿久和店                                           & 14                                                 & 神奈川県                                           & 神奈川県横浜市瀬谷区阿久和西一丁目                 & カナガワケンヨコハマシセヤクアクワニシイッチョウメ & 045-123-4043                                       & 139.4961                                           & 35.45918                                           & 1495                                              \\\\\n",
       "\t S14036                                             & 相模原中央店                                       & 14                                                 & 神奈川県                                           & 神奈川県相模原市中央二丁目                         & カナガワケンサガミハラシチュウオウニチョウメ       & 042-123-4045                                       & 139.3716                                           & 35.57327                                           & 1679                                              \\\\\n",
       "\\end{tabular}\n"
      ],
      "text/markdown": [
       "\n",
       "| store_cd | store_name | prefecture_cd | prefecture | address | address_kana | tel_no | longitude | latitude | floor_area |\n",
       "|---|---|---|---|---|---|---|---|---|---|\n",
       "| S12014                                             | 千草台店                                           | 12                                                 | 千葉県                                             | 千葉県千葉市稲毛区千草台一丁目                     | チバケンチバシイナゲクチグサダイイッチョウメ       | 043-123-4003                                       | 140.1180                                           | 35.63559                                           | 1698                                               |\n",
       "| S13002                                             | 国分寺店                                           | 13                                                 | 東京都                                             | 東京都国分寺市本多二丁目                           | トウキョウトコクブンジシホンダニチョウメ           | 042-123-4008                                       | 139.4802                                           | 35.70566                                           | 1735                                               |\n",
       "| S14010                                             | 菊名店                                             | 14                                                 | 神奈川県                                           | 神奈川県横浜市港北区菊名一丁目                     | カナガワケンヨコハマシコウホククキクナイッチョウメ | 045-123-4032                                       | 139.6326                                           | 35.50049                                           | 1732                                               |\n",
       "| S14033                                             | 阿久和店                                           | 14                                                 | 神奈川県                                           | 神奈川県横浜市瀬谷区阿久和西一丁目                 | カナガワケンヨコハマシセヤクアクワニシイッチョウメ | 045-123-4043                                       | 139.4961                                           | 35.45918                                           | 1495                                               |\n",
       "| S14036                                             | 相模原中央店                                       | 14                                                 | 神奈川県                                           | 神奈川県相模原市中央二丁目                         | カナガワケンサガミハラシチュウオウニチョウメ       | 042-123-4045                                       | 139.3716                                           | 35.57327                                           | 1679                                               |\n",
       "\n"
      ],
      "text/plain": [
       "  store_cd store_name   prefecture_cd prefecture\n",
       "1 S12014   千草台店     12            千葉県    \n",
       "2 S13002   国分寺店     13            東京都    \n",
       "3 S14010   菊名店       14            神奈川県  \n",
       "4 S14033   阿久和店     14            神奈川県  \n",
       "5 S14036   相模原中央店 14            神奈川県  \n",
       "  address                           \n",
       "1 千葉県千葉市稲毛区千草台一丁目    \n",
       "2 東京都国分寺市本多二丁目          \n",
       "3 神奈川県横浜市港北区菊名一丁目    \n",
       "4 神奈川県横浜市瀬谷区阿久和西一丁目\n",
       "5 神奈川県相模原市中央二丁目        \n",
       "  address_kana                                       tel_no       longitude\n",
       "1 チバケンチバシイナゲクチグサダイイッチョウメ       043-123-4003 140.1180 \n",
       "2 トウキョウトコクブンジシホンダニチョウメ           042-123-4008 139.4802 \n",
       "3 カナガワケンヨコハマシコウホククキクナイッチョウメ 045-123-4032 139.6326 \n",
       "4 カナガワケンヨコハマシセヤクアクワニシイッチョウメ 045-123-4043 139.4961 \n",
       "5 カナガワケンサガミハラシチュウオウニチョウメ       042-123-4045 139.3716 \n",
       "  latitude floor_area\n",
       "1 35.63559 1698      \n",
       "2 35.70566 1735      \n",
       "3 35.50049 1732      \n",
       "4 35.45918 1495      \n",
       "5 35.57327 1679      "
      ]
     },
     "metadata": {},
     "output_type": "display_data"
    }
   ],
   "source": [
    "df_store <- read.csv(\"./data/store.csv\", encoding=\"shift-jis\") # 正常に読まなかったので文字コードを変換した\n",
    "head(df_store, n = 5)"
   ]
  },
  {
   "cell_type": "code",
   "execution_count": 7,
   "metadata": {},
   "outputs": [
    {
     "data": {
      "text/html": [
       "<table>\n",
       "<thead><tr><th scope=col>X.U.FEFF.postal_cd</th><th scope=col>prefecture</th><th scope=col>city</th><th scope=col>town</th><th scope=col>street</th><th scope=col>address</th><th scope=col>full_address</th><th scope=col>longitude</th><th scope=col>latitude</th></tr></thead>\n",
       "<tbody>\n",
       "\t<tr><td>060-0000                          </td><td>北海道,札幌市中央区               </td><td>                                  </td><td>                                  </td><td>                                  </td><td>北海道札幌市中央区                </td><td>141.34103                         </td><td>43.05513                          </td><td>NA                                </td></tr>\n",
       "\t<tr><td>064-0941                          </td><td>北海道,札幌市中央区               </td><td>旭ケ丘,                           </td><td>                                  </td><td>北海道札幌市中央区旭ケ丘,141.31972</td><td>43.04223                          </td><td>                                  </td><td>      NA                          </td><td>NA                                </td></tr>\n",
       "\t<tr><td>060-0042                          </td><td>北海道,札幌市中央区               </td><td>大通西                            </td><td>                                  </td><td>１丁目                            </td><td>北海道札幌市中央区大通西１丁目    </td><td>141.35637                         </td><td>43.06102                          </td><td>NA                                </td></tr>\n",
       "\t<tr><td>060-0042                          </td><td>北海道,札幌市中央区               </td><td>大通西                            </td><td>                                  </td><td>２丁目                            </td><td>北海道札幌市中央区大通西２丁目    </td><td>141.35445                         </td><td>43.06080                          </td><td>NA                                </td></tr>\n",
       "\t<tr><td>060-0042                          </td><td>北海道,札幌市中央区               </td><td>大通西                            </td><td>                                  </td><td>３丁目                            </td><td>北海道札幌市中央区大通西３丁目    </td><td>141.35275                         </td><td>43.06086                          </td><td>NA                                </td></tr>\n",
       "</tbody>\n",
       "</table>\n"
      ],
      "text/latex": [
       "\\begin{tabular}{r|lllllllll}\n",
       " X.U.FEFF.postal\\_cd & prefecture & city & town & street & address & full\\_address & longitude & latitude\\\\\n",
       "\\hline\n",
       "\t 060-0000                           & 北海道,札幌市中央区                &                                    &                                    &                                    & 北海道札幌市中央区                 & 141.34103                          & 43.05513                           & NA                                \\\\\n",
       "\t 064-0941                           & 北海道,札幌市中央区                & 旭ケ丘,                            &                                    & 北海道札幌市中央区旭ケ丘,141.31972 & 43.04223                           &                                    &       NA                           & NA                                \\\\\n",
       "\t 060-0042                           & 北海道,札幌市中央区                & 大通西                             &                                    & １丁目                             & 北海道札幌市中央区大通西１丁目     & 141.35637                          & 43.06102                           & NA                                \\\\\n",
       "\t 060-0042                           & 北海道,札幌市中央区                & 大通西                             &                                    & ２丁目                             & 北海道札幌市中央区大通西２丁目     & 141.35445                          & 43.06080                           & NA                                \\\\\n",
       "\t 060-0042                           & 北海道,札幌市中央区                & 大通西                             &                                    & ３丁目                             & 北海道札幌市中央区大通西３丁目     & 141.35275                          & 43.06086                           & NA                                \\\\\n",
       "\\end{tabular}\n"
      ],
      "text/markdown": [
       "\n",
       "| X.U.FEFF.postal_cd | prefecture | city | town | street | address | full_address | longitude | latitude |\n",
       "|---|---|---|---|---|---|---|---|---|\n",
       "| 060-0000                           | 北海道,札幌市中央区                |                                    |                                    |                                    | 北海道札幌市中央区                 | 141.34103                          | 43.05513                           | NA                                 |\n",
       "| 064-0941                           | 北海道,札幌市中央区                | 旭ケ丘,                            |                                    | 北海道札幌市中央区旭ケ丘,141.31972 | 43.04223                           |                                    |       NA                           | NA                                 |\n",
       "| 060-0042                           | 北海道,札幌市中央区                | 大通西                             |                                    | １丁目                             | 北海道札幌市中央区大通西１丁目     | 141.35637                          | 43.06102                           | NA                                 |\n",
       "| 060-0042                           | 北海道,札幌市中央区                | 大通西                             |                                    | ２丁目                             | 北海道札幌市中央区大通西２丁目     | 141.35445                          | 43.06080                           | NA                                 |\n",
       "| 060-0042                           | 北海道,札幌市中央区                | 大通西                             |                                    | ３丁目                             | 北海道札幌市中央区大通西３丁目     | 141.35275                          | 43.06086                           | NA                                 |\n",
       "\n"
      ],
      "text/plain": [
       "  X.U.FEFF.postal_cd prefecture          city    town\n",
       "1 060-0000           北海道,札幌市中央区             \n",
       "2 064-0941           北海道,札幌市中央区 旭ケ丘,     \n",
       "3 060-0042           北海道,札幌市中央区 大通西      \n",
       "4 060-0042           北海道,札幌市中央区 大通西      \n",
       "5 060-0042           北海道,札幌市中央区 大通西      \n",
       "  street                             address                       \n",
       "1                                    北海道札幌市中央区            \n",
       "2 北海道札幌市中央区旭ケ丘,141.31972 43.04223                      \n",
       "3 １丁目                             北海道札幌市中央区大通西１丁目\n",
       "4 ２丁目                             北海道札幌市中央区大通西２丁目\n",
       "5 ３丁目                             北海道札幌市中央区大通西３丁目\n",
       "  full_address longitude latitude\n",
       "1 141.34103    43.05513  NA      \n",
       "2                    NA  NA      \n",
       "3 141.35637    43.06102  NA      \n",
       "4 141.35445    43.06080  NA      \n",
       "5 141.35275    43.06086  NA      "
      ]
     },
     "metadata": {},
     "output_type": "display_data"
    }
   ],
   "source": [
    "df_geocode <- read.csv(\"./data/geocode.csv\", encoding=\"UTF-8\") # 時間がかかる, Python では一瞬で読めた\n",
    "head(df_geocode, n = 5)"
   ]
  },
  {
   "cell_type": "markdown",
   "metadata": {},
   "source": [
    "# 演習問題"
   ]
  },
  {
   "cell_type": "markdown",
   "metadata": {},
   "source": [
    "---\n",
    "> R-016: 店舗データフレーム（df_store）から、電話番号（tel_no）が3桁-3桁-4桁のデータを全項目表示せよ。"
   ]
  },
  {
   "cell_type": "code",
   "execution_count": 8,
   "metadata": {
    "scrolled": true
   },
   "outputs": [
    {
     "data": {
      "text/html": [
       "<table>\n",
       "<thead><tr><th scope=col>store_cd</th><th scope=col>store_name</th><th scope=col>prefecture_cd</th><th scope=col>prefecture</th><th scope=col>address</th><th scope=col>address_kana</th><th scope=col>tel_no</th><th scope=col>longitude</th><th scope=col>latitude</th><th scope=col>floor_area</th></tr></thead>\n",
       "<tbody>\n",
       "\t<tr><td>S12014                                                      </td><td>千草台店                                                    </td><td>12                                                          </td><td>千葉県                                                      </td><td>千葉県千葉市稲毛区千草台一丁目                              </td><td>チバケンチバシイナゲクチグサダイイッチョウメ                </td><td>043-123-4003                                                </td><td>140.1180                                                    </td><td>35.63559                                                    </td><td>1698                                                        </td></tr>\n",
       "\t<tr><td>S13002                                                      </td><td>国分寺店                                                    </td><td>13                                                          </td><td>東京都                                                      </td><td>東京都国分寺市本多二丁目                                    </td><td>トウキョウトコクブンジシホンダニチョウメ                    </td><td>042-123-4008                                                </td><td>139.4802                                                    </td><td>35.70566                                                    </td><td>1735                                                        </td></tr>\n",
       "\t<tr><td>S14010                                                      </td><td>菊名店                                                      </td><td>14                                                          </td><td>神奈川県                                                    </td><td>神奈川県横浜市港北区菊名一丁目                              </td><td>カナガワケンヨコハマシコウホククキクナイッチョウメ          </td><td>045-123-4032                                                </td><td>139.6326                                                    </td><td>35.50049                                                    </td><td>1732                                                        </td></tr>\n",
       "\t<tr><td>S14033                                                      </td><td>阿久和店                                                    </td><td>14                                                          </td><td>神奈川県                                                    </td><td>神奈川県横浜市瀬谷区阿久和西一丁目                          </td><td>カナガワケンヨコハマシセヤクアクワニシイッチョウメ          </td><td>045-123-4043                                                </td><td>139.4961                                                    </td><td>35.45918                                                    </td><td>1495                                                        </td></tr>\n",
       "\t<tr><td>S14036                                                      </td><td>相模原中央店                                                </td><td>14                                                          </td><td>神奈川県                                                    </td><td>神奈川県相模原市中央二丁目                                  </td><td>カナガワケンサガミハラシチュウオウニチョウメ                </td><td>042-123-4045                                                </td><td>139.3716                                                    </td><td>35.57327                                                    </td><td>1679                                                        </td></tr>\n",
       "\t<tr><td>S14040                                                      </td><td>長津田店                                                    </td><td>14                                                          </td><td>神奈川県                                                    </td><td>神奈川県横浜市緑区長津田みなみ台五丁目                      </td><td>カナガワケンヨコハマシミドリクナガツタミナミダイゴチョウメ  </td><td>045-123-4046                                                </td><td>139.4994                                                    </td><td>35.52398                                                    </td><td>1548                                                        </td></tr>\n",
       "\t<tr><td>S14050                                                      </td><td>阿久和西店                                                  </td><td>14                                                          </td><td>神奈川県                                                    </td><td>神奈川県横浜市瀬谷区阿久和西一丁目                          </td><td>カナガワケンヨコハマシセヤクアクワニシイッチョウメ          </td><td>045-123-4053                                                </td><td>139.4961                                                    </td><td>35.45918                                                    </td><td>1830                                                        </td></tr>\n",
       "\t<tr><td>S13052                                                      </td><td>森野店                                                      </td><td>13                                                          </td><td>東京都                                                      </td><td>東京都町田市森野三丁目                                      </td><td>トウキョウトマチダシモリノサンチョウメ                      </td><td>042-123-4030                                                </td><td>139.4383                                                    </td><td>35.55293                                                    </td><td>1087                                                        </td></tr>\n",
       "\t<tr><td>S14028                                                      </td><td>二ツ橋店                                                    </td><td>14                                                          </td><td>神奈川県                                                    </td><td>神奈川県横浜市瀬谷区二ツ橋町                                </td><td>カナガワケンヨコハマシセヤクフタツバシチョウ                </td><td>045-123-4042                                                </td><td>139.4963                                                    </td><td>35.46304                                                    </td><td>1574                                                        </td></tr>\n",
       "\t<tr><td>S14012                                                      </td><td>本牧和田店                                                  </td><td>14                                                          </td><td>神奈川県                                                    </td><td>神奈川県横浜市中区本牧和田                                  </td><td>カナガワケンヨコハマシナカクホンモクワダ                    </td><td>045-123-4034                                                </td><td>139.6582                                                    </td><td>35.42156                                                    </td><td>1341                                                        </td></tr>\n",
       "\t<tr><td>S14046                                                      </td><td>北山田店                                                    </td><td>14                                                          </td><td>神奈川県                                                    </td><td>神奈川県横浜市都筑区北山田一丁目                            </td><td>カナガワケンヨコハマシツヅキクキタヤマタイッチョウメ        </td><td>045-123-4049                                                </td><td>139.5916                                                    </td><td>35.56189                                                    </td><td> 831                                                        </td></tr>\n",
       "\t<tr><td>S14022                                                      </td><td>逗子店                                                      </td><td>14                                                          </td><td>神奈川県                                                    </td><td>神奈川県逗子市逗子一丁目                                    </td><td>カナガワケンズシシズシイッチョウメ                          </td><td>046-123-4036                                                </td><td>139.5789                                                    </td><td>35.29642                                                    </td><td>1838                                                        </td></tr>\n",
       "\t<tr><td>S14011                                                      </td><td>日吉本町店                                                  </td><td>14                                                          </td><td>神奈川県                                                    </td><td>神奈川県横浜市港北区日吉本町四丁目                          </td><td>カナガワケンヨコハマシコウホククヒヨシホンチョウヨンチョウメ</td><td>045-123-4033                                                </td><td>139.6316                                                    </td><td>35.54655                                                    </td><td> 890                                                        </td></tr>\n",
       "\t<tr><td>S13016                                                      </td><td>小金井店                                                    </td><td>13                                                          </td><td>東京都                                                      </td><td>東京都小金井市本町一丁目                                    </td><td>トウキョウトコガネイシホンチョウイッチョウメ                </td><td>042-123-4015                                                </td><td>139.5094                                                    </td><td>35.70018                                                    </td><td>1399                                                        </td></tr>\n",
       "\t<tr><td>S14034                                                      </td><td>川崎野川店                                                  </td><td>14                                                          </td><td>神奈川県                                                    </td><td>神奈川県川崎市宮前区野川                                    </td><td>カナガワケンカワサキシミヤマエクノガワ                      </td><td>044-123-4044                                                </td><td>139.5998                                                    </td><td>35.57693                                                    </td><td>1318                                                        </td></tr>\n",
       "\t<tr><td>S14048                                                      </td><td>中川中央店                                                  </td><td>14                                                          </td><td>神奈川県                                                    </td><td>神奈川県横浜市都筑区中川中央二丁目                          </td><td>カナガワケンヨコハマシツヅキクナカガワチュウオウニチョウメ  </td><td>045-123-4051                                                </td><td>139.5758                                                    </td><td>35.54912                                                    </td><td>1657                                                        </td></tr>\n",
       "\t<tr><td>S12007                                                      </td><td>佐倉店                                                      </td><td>12                                                          </td><td>千葉県                                                      </td><td>千葉県佐倉市上志津                                          </td><td>チバケンサクラシカミシヅ                                    </td><td>043-123-4001                                                </td><td>140.1452                                                    </td><td>35.71872                                                    </td><td>1895                                                        </td></tr>\n",
       "\t<tr><td>S14026                                                      </td><td>辻堂西海岸店                                                </td><td>14                                                          </td><td>神奈川県                                                    </td><td>神奈川県藤沢市辻堂西海岸二丁目                              </td><td>カナガワケンフジサワシツジドウニシカイガンニチョウメ        </td><td>046-123-4040                                                </td><td>139.4466                                                    </td><td>35.32464                                                    </td><td>1732                                                        </td></tr>\n",
       "\t<tr><td>S13041                                                      </td><td>八王子店                                                    </td><td>13                                                          </td><td>東京都                                                      </td><td>東京都八王子市大塚                                          </td><td>トウキョウトハチオウジシオオツカ                            </td><td>042-123-4026                                                </td><td>139.4235                                                    </td><td>35.63787                                                    </td><td> 810                                                        </td></tr>\n",
       "\t<tr><td>S14049                                                      </td><td>川崎大師店                                                  </td><td>14                                                          </td><td>神奈川県                                                    </td><td>神奈川県川崎市川崎区中瀬三丁目                              </td><td>カナガワケンカワサキシカワサキクナカゼサンチョウメ          </td><td>044-123-4052                                                </td><td>139.7327                                                    </td><td>35.53759                                                    </td><td> 962                                                        </td></tr>\n",
       "\t<tr><td>S14023                                                      </td><td>川崎店                                                      </td><td>14                                                          </td><td>神奈川県                                                    </td><td>神奈川県川崎市川崎区本町二丁目                              </td><td>カナガワケンカワサキシカワサキクホンチョウニチョウメ        </td><td>044-123-4037                                                </td><td>139.7028                                                    </td><td>35.53599                                                    </td><td>1804                                                        </td></tr>\n",
       "\t<tr><td>S13018                                                      </td><td>清瀬店                                                      </td><td>13                                                          </td><td>東京都                                                      </td><td>東京都清瀬市松山一丁目                                      </td><td>トウキョウトキヨセシマツヤマイッチョウメ                    </td><td>042-123-4017                                                </td><td>139.5178                                                    </td><td>35.76885                                                    </td><td>1220                                                        </td></tr>\n",
       "\t<tr><td>S14027                                                      </td><td>南藤沢店                                                    </td><td>14                                                          </td><td>神奈川県                                                    </td><td>神奈川県藤沢市南藤沢                                        </td><td>カナガワケンフジサワシミナミフジサワ                        </td><td>046-123-4041                                                </td><td>139.4896                                                    </td><td>35.33762                                                    </td><td>1521                                                        </td></tr>\n",
       "\t<tr><td>S14021                                                      </td><td>伊勢原店                                                    </td><td>14                                                          </td><td>神奈川県                                                    </td><td>神奈川県伊勢原市伊勢原四丁目                                </td><td>カナガワケンイセハラシイセハラヨンチョウメ                  </td><td>046-123-4035                                                </td><td>139.3129                                                    </td><td>35.40169                                                    </td><td> 962                                                        </td></tr>\n",
       "\t<tr><td>S14047                                                      </td><td>相模原店                                                    </td><td>14                                                          </td><td>神奈川県                                                    </td><td>神奈川県相模原市千代田六丁目                                </td><td>カナガワケンサガミハラシチヨダロクチョウメ                  </td><td>042-123-4050                                                </td><td>139.3748                                                    </td><td>35.55959                                                    </td><td>1047                                                        </td></tr>\n",
       "\t<tr><td>S12013                                                      </td><td>習志野店                                                    </td><td>12                                                          </td><td>千葉県                                                      </td><td>千葉県習志野市芝園一丁目                                    </td><td>チバケンナラシノシシバゾノイッチョウメ                      </td><td>047-123-4002                                                </td><td>140.0220                                                    </td><td>35.66122                                                    </td><td> 808                                                        </td></tr>\n",
       "\t<tr><td>S14042                                                      </td><td>新山下店                                                    </td><td>14                                                          </td><td>神奈川県                                                    </td><td>神奈川県横浜市中区新山下二丁目                              </td><td>カナガワケンヨコハマシナカクシンヤマシタニチョウメ          </td><td>045-123-4047                                                </td><td>139.6593                                                    </td><td>35.43894                                                    </td><td>1044                                                        </td></tr>\n",
       "\t<tr><td>S12030                                                      </td><td>八幡店                                                      </td><td>12                                                          </td><td>千葉県                                                      </td><td>千葉県市川市八幡三丁目                                      </td><td>チバケンイチカワシヤワタサンチョウメ                        </td><td>047-123-4005                                                </td><td>139.9240                                                    </td><td>35.72318                                                    </td><td>1162                                                        </td></tr>\n",
       "\t<tr><td>S14025                                                      </td><td>大和店                                                      </td><td>14                                                          </td><td>神奈川県                                                    </td><td>神奈川県大和市下和田                                        </td><td>カナガワケンヤマトシシモワダ                                </td><td>046-123-4039                                                </td><td>139.4680                                                    </td><td>35.43414                                                    </td><td>1011                                                        </td></tr>\n",
       "\t<tr><td>S14045                                                      </td><td>厚木店                                                      </td><td>14                                                          </td><td>神奈川県                                                    </td><td>神奈川県厚木市中町二丁目                                    </td><td>カナガワケンアツギシナカチョウニチョウメ                    </td><td>046-123-4048                                                </td><td>139.3651                                                    </td><td>35.44182                                                    </td><td> 980                                                        </td></tr>\n",
       "\t<tr><td>S12029                                                      </td><td>東野店                                                      </td><td>12                                                          </td><td>千葉県                                                      </td><td>千葉県浦安市東野一丁目                                      </td><td>チバケンウラヤスシヒガシノイッチョウメ                      </td><td>047-123-4004                                                </td><td>139.8968                                                    </td><td>35.65086                                                    </td><td>1101                                                        </td></tr>\n",
       "\t<tr><td>S12053                                                      </td><td>高洲店                                                      </td><td>12                                                          </td><td>千葉県                                                      </td><td>千葉県浦安市高洲五丁目                                      </td><td>チバケンウラヤスシタカスゴチョウメ                          </td><td>047-123-4006                                                </td><td>139.9176                                                    </td><td>35.63755                                                    </td><td>1555                                                        </td></tr>\n",
       "\t<tr><td>S14024                                                      </td><td>三田店                                                      </td><td>14                                                          </td><td>神奈川県                                                    </td><td>神奈川県川崎市多摩区三田四丁目                              </td><td>カナガワケンカワサキシタマクミタヨンチョウメ                </td><td>044-123-4038                                                </td><td>139.5424                                                    </td><td>35.60770                                                    </td><td> 972                                                        </td></tr>\n",
       "\t<tr><td>S14006                                                      </td><td>葛が谷店                                                    </td><td>14                                                          </td><td>神奈川県                                                    </td><td>神奈川県横浜市都筑区葛が谷                                  </td><td>カナガワケンヨコハマシツヅキククズガヤ                      </td><td>045-123-4031                                                </td><td>139.5633                                                    </td><td>35.53573                                                    </td><td>1886                                                        </td></tr>\n",
       "</tbody>\n",
       "</table>\n"
      ],
      "text/latex": [
       "\\begin{tabular}{r|llllllllll}\n",
       " store\\_cd & store\\_name & prefecture\\_cd & prefecture & address & address\\_kana & tel\\_no & longitude & latitude & floor\\_area\\\\\n",
       "\\hline\n",
       "\t S12014                                                       & 千草台店                                                     & 12                                                           & 千葉県                                                       & 千葉県千葉市稲毛区千草台一丁目                               & チバケンチバシイナゲクチグサダイイッチョウメ                 & 043-123-4003                                                 & 140.1180                                                     & 35.63559                                                     & 1698                                                        \\\\\n",
       "\t S13002                                                       & 国分寺店                                                     & 13                                                           & 東京都                                                       & 東京都国分寺市本多二丁目                                     & トウキョウトコクブンジシホンダニチョウメ                     & 042-123-4008                                                 & 139.4802                                                     & 35.70566                                                     & 1735                                                        \\\\\n",
       "\t S14010                                                       & 菊名店                                                       & 14                                                           & 神奈川県                                                     & 神奈川県横浜市港北区菊名一丁目                               & カナガワケンヨコハマシコウホククキクナイッチョウメ           & 045-123-4032                                                 & 139.6326                                                     & 35.50049                                                     & 1732                                                        \\\\\n",
       "\t S14033                                                       & 阿久和店                                                     & 14                                                           & 神奈川県                                                     & 神奈川県横浜市瀬谷区阿久和西一丁目                           & カナガワケンヨコハマシセヤクアクワニシイッチョウメ           & 045-123-4043                                                 & 139.4961                                                     & 35.45918                                                     & 1495                                                        \\\\\n",
       "\t S14036                                                       & 相模原中央店                                                 & 14                                                           & 神奈川県                                                     & 神奈川県相模原市中央二丁目                                   & カナガワケンサガミハラシチュウオウニチョウメ                 & 042-123-4045                                                 & 139.3716                                                     & 35.57327                                                     & 1679                                                        \\\\\n",
       "\t S14040                                                       & 長津田店                                                     & 14                                                           & 神奈川県                                                     & 神奈川県横浜市緑区長津田みなみ台五丁目                       & カナガワケンヨコハマシミドリクナガツタミナミダイゴチョウメ   & 045-123-4046                                                 & 139.4994                                                     & 35.52398                                                     & 1548                                                        \\\\\n",
       "\t S14050                                                       & 阿久和西店                                                   & 14                                                           & 神奈川県                                                     & 神奈川県横浜市瀬谷区阿久和西一丁目                           & カナガワケンヨコハマシセヤクアクワニシイッチョウメ           & 045-123-4053                                                 & 139.4961                                                     & 35.45918                                                     & 1830                                                        \\\\\n",
       "\t S13052                                                       & 森野店                                                       & 13                                                           & 東京都                                                       & 東京都町田市森野三丁目                                       & トウキョウトマチダシモリノサンチョウメ                       & 042-123-4030                                                 & 139.4383                                                     & 35.55293                                                     & 1087                                                        \\\\\n",
       "\t S14028                                                       & 二ツ橋店                                                     & 14                                                           & 神奈川県                                                     & 神奈川県横浜市瀬谷区二ツ橋町                                 & カナガワケンヨコハマシセヤクフタツバシチョウ                 & 045-123-4042                                                 & 139.4963                                                     & 35.46304                                                     & 1574                                                        \\\\\n",
       "\t S14012                                                       & 本牧和田店                                                   & 14                                                           & 神奈川県                                                     & 神奈川県横浜市中区本牧和田                                   & カナガワケンヨコハマシナカクホンモクワダ                     & 045-123-4034                                                 & 139.6582                                                     & 35.42156                                                     & 1341                                                        \\\\\n",
       "\t S14046                                                       & 北山田店                                                     & 14                                                           & 神奈川県                                                     & 神奈川県横浜市都筑区北山田一丁目                             & カナガワケンヨコハマシツヅキクキタヤマタイッチョウメ         & 045-123-4049                                                 & 139.5916                                                     & 35.56189                                                     &  831                                                        \\\\\n",
       "\t S14022                                                       & 逗子店                                                       & 14                                                           & 神奈川県                                                     & 神奈川県逗子市逗子一丁目                                     & カナガワケンズシシズシイッチョウメ                           & 046-123-4036                                                 & 139.5789                                                     & 35.29642                                                     & 1838                                                        \\\\\n",
       "\t S14011                                                       & 日吉本町店                                                   & 14                                                           & 神奈川県                                                     & 神奈川県横浜市港北区日吉本町四丁目                           & カナガワケンヨコハマシコウホククヒヨシホンチョウヨンチョウメ & 045-123-4033                                                 & 139.6316                                                     & 35.54655                                                     &  890                                                        \\\\\n",
       "\t S13016                                                       & 小金井店                                                     & 13                                                           & 東京都                                                       & 東京都小金井市本町一丁目                                     & トウキョウトコガネイシホンチョウイッチョウメ                 & 042-123-4015                                                 & 139.5094                                                     & 35.70018                                                     & 1399                                                        \\\\\n",
       "\t S14034                                                       & 川崎野川店                                                   & 14                                                           & 神奈川県                                                     & 神奈川県川崎市宮前区野川                                     & カナガワケンカワサキシミヤマエクノガワ                       & 044-123-4044                                                 & 139.5998                                                     & 35.57693                                                     & 1318                                                        \\\\\n",
       "\t S14048                                                       & 中川中央店                                                   & 14                                                           & 神奈川県                                                     & 神奈川県横浜市都筑区中川中央二丁目                           & カナガワケンヨコハマシツヅキクナカガワチュウオウニチョウメ   & 045-123-4051                                                 & 139.5758                                                     & 35.54912                                                     & 1657                                                        \\\\\n",
       "\t S12007                                                       & 佐倉店                                                       & 12                                                           & 千葉県                                                       & 千葉県佐倉市上志津                                           & チバケンサクラシカミシヅ                                     & 043-123-4001                                                 & 140.1452                                                     & 35.71872                                                     & 1895                                                        \\\\\n",
       "\t S14026                                                       & 辻堂西海岸店                                                 & 14                                                           & 神奈川県                                                     & 神奈川県藤沢市辻堂西海岸二丁目                               & カナガワケンフジサワシツジドウニシカイガンニチョウメ         & 046-123-4040                                                 & 139.4466                                                     & 35.32464                                                     & 1732                                                        \\\\\n",
       "\t S13041                                                       & 八王子店                                                     & 13                                                           & 東京都                                                       & 東京都八王子市大塚                                           & トウキョウトハチオウジシオオツカ                             & 042-123-4026                                                 & 139.4235                                                     & 35.63787                                                     &  810                                                        \\\\\n",
       "\t S14049                                                       & 川崎大師店                                                   & 14                                                           & 神奈川県                                                     & 神奈川県川崎市川崎区中瀬三丁目                               & カナガワケンカワサキシカワサキクナカゼサンチョウメ           & 044-123-4052                                                 & 139.7327                                                     & 35.53759                                                     &  962                                                        \\\\\n",
       "\t S14023                                                       & 川崎店                                                       & 14                                                           & 神奈川県                                                     & 神奈川県川崎市川崎区本町二丁目                               & カナガワケンカワサキシカワサキクホンチョウニチョウメ         & 044-123-4037                                                 & 139.7028                                                     & 35.53599                                                     & 1804                                                        \\\\\n",
       "\t S13018                                                       & 清瀬店                                                       & 13                                                           & 東京都                                                       & 東京都清瀬市松山一丁目                                       & トウキョウトキヨセシマツヤマイッチョウメ                     & 042-123-4017                                                 & 139.5178                                                     & 35.76885                                                     & 1220                                                        \\\\\n",
       "\t S14027                                                       & 南藤沢店                                                     & 14                                                           & 神奈川県                                                     & 神奈川県藤沢市南藤沢                                         & カナガワケンフジサワシミナミフジサワ                         & 046-123-4041                                                 & 139.4896                                                     & 35.33762                                                     & 1521                                                        \\\\\n",
       "\t S14021                                                       & 伊勢原店                                                     & 14                                                           & 神奈川県                                                     & 神奈川県伊勢原市伊勢原四丁目                                 & カナガワケンイセハラシイセハラヨンチョウメ                   & 046-123-4035                                                 & 139.3129                                                     & 35.40169                                                     &  962                                                        \\\\\n",
       "\t S14047                                                       & 相模原店                                                     & 14                                                           & 神奈川県                                                     & 神奈川県相模原市千代田六丁目                                 & カナガワケンサガミハラシチヨダロクチョウメ                   & 042-123-4050                                                 & 139.3748                                                     & 35.55959                                                     & 1047                                                        \\\\\n",
       "\t S12013                                                       & 習志野店                                                     & 12                                                           & 千葉県                                                       & 千葉県習志野市芝園一丁目                                     & チバケンナラシノシシバゾノイッチョウメ                       & 047-123-4002                                                 & 140.0220                                                     & 35.66122                                                     &  808                                                        \\\\\n",
       "\t S14042                                                       & 新山下店                                                     & 14                                                           & 神奈川県                                                     & 神奈川県横浜市中区新山下二丁目                               & カナガワケンヨコハマシナカクシンヤマシタニチョウメ           & 045-123-4047                                                 & 139.6593                                                     & 35.43894                                                     & 1044                                                        \\\\\n",
       "\t S12030                                                       & 八幡店                                                       & 12                                                           & 千葉県                                                       & 千葉県市川市八幡三丁目                                       & チバケンイチカワシヤワタサンチョウメ                         & 047-123-4005                                                 & 139.9240                                                     & 35.72318                                                     & 1162                                                        \\\\\n",
       "\t S14025                                                       & 大和店                                                       & 14                                                           & 神奈川県                                                     & 神奈川県大和市下和田                                         & カナガワケンヤマトシシモワダ                                 & 046-123-4039                                                 & 139.4680                                                     & 35.43414                                                     & 1011                                                        \\\\\n",
       "\t S14045                                                       & 厚木店                                                       & 14                                                           & 神奈川県                                                     & 神奈川県厚木市中町二丁目                                     & カナガワケンアツギシナカチョウニチョウメ                     & 046-123-4048                                                 & 139.3651                                                     & 35.44182                                                     &  980                                                        \\\\\n",
       "\t S12029                                                       & 東野店                                                       & 12                                                           & 千葉県                                                       & 千葉県浦安市東野一丁目                                       & チバケンウラヤスシヒガシノイッチョウメ                       & 047-123-4004                                                 & 139.8968                                                     & 35.65086                                                     & 1101                                                        \\\\\n",
       "\t S12053                                                       & 高洲店                                                       & 12                                                           & 千葉県                                                       & 千葉県浦安市高洲五丁目                                       & チバケンウラヤスシタカスゴチョウメ                           & 047-123-4006                                                 & 139.9176                                                     & 35.63755                                                     & 1555                                                        \\\\\n",
       "\t S14024                                                       & 三田店                                                       & 14                                                           & 神奈川県                                                     & 神奈川県川崎市多摩区三田四丁目                               & カナガワケンカワサキシタマクミタヨンチョウメ                 & 044-123-4038                                                 & 139.5424                                                     & 35.60770                                                     &  972                                                        \\\\\n",
       "\t S14006                                                       & 葛が谷店                                                     & 14                                                           & 神奈川県                                                     & 神奈川県横浜市都筑区葛が谷                                   & カナガワケンヨコハマシツヅキククズガヤ                       & 045-123-4031                                                 & 139.5633                                                     & 35.53573                                                     & 1886                                                        \\\\\n",
       "\\end{tabular}\n"
      ],
      "text/markdown": [
       "\n",
       "| store_cd | store_name | prefecture_cd | prefecture | address | address_kana | tel_no | longitude | latitude | floor_area |\n",
       "|---|---|---|---|---|---|---|---|---|---|\n",
       "| S12014                                                       | 千草台店                                                     | 12                                                           | 千葉県                                                       | 千葉県千葉市稲毛区千草台一丁目                               | チバケンチバシイナゲクチグサダイイッチョウメ                 | 043-123-4003                                                 | 140.1180                                                     | 35.63559                                                     | 1698                                                         |\n",
       "| S13002                                                       | 国分寺店                                                     | 13                                                           | 東京都                                                       | 東京都国分寺市本多二丁目                                     | トウキョウトコクブンジシホンダニチョウメ                     | 042-123-4008                                                 | 139.4802                                                     | 35.70566                                                     | 1735                                                         |\n",
       "| S14010                                                       | 菊名店                                                       | 14                                                           | 神奈川県                                                     | 神奈川県横浜市港北区菊名一丁目                               | カナガワケンヨコハマシコウホククキクナイッチョウメ           | 045-123-4032                                                 | 139.6326                                                     | 35.50049                                                     | 1732                                                         |\n",
       "| S14033                                                       | 阿久和店                                                     | 14                                                           | 神奈川県                                                     | 神奈川県横浜市瀬谷区阿久和西一丁目                           | カナガワケンヨコハマシセヤクアクワニシイッチョウメ           | 045-123-4043                                                 | 139.4961                                                     | 35.45918                                                     | 1495                                                         |\n",
       "| S14036                                                       | 相模原中央店                                                 | 14                                                           | 神奈川県                                                     | 神奈川県相模原市中央二丁目                                   | カナガワケンサガミハラシチュウオウニチョウメ                 | 042-123-4045                                                 | 139.3716                                                     | 35.57327                                                     | 1679                                                         |\n",
       "| S14040                                                       | 長津田店                                                     | 14                                                           | 神奈川県                                                     | 神奈川県横浜市緑区長津田みなみ台五丁目                       | カナガワケンヨコハマシミドリクナガツタミナミダイゴチョウメ   | 045-123-4046                                                 | 139.4994                                                     | 35.52398                                                     | 1548                                                         |\n",
       "| S14050                                                       | 阿久和西店                                                   | 14                                                           | 神奈川県                                                     | 神奈川県横浜市瀬谷区阿久和西一丁目                           | カナガワケンヨコハマシセヤクアクワニシイッチョウメ           | 045-123-4053                                                 | 139.4961                                                     | 35.45918                                                     | 1830                                                         |\n",
       "| S13052                                                       | 森野店                                                       | 13                                                           | 東京都                                                       | 東京都町田市森野三丁目                                       | トウキョウトマチダシモリノサンチョウメ                       | 042-123-4030                                                 | 139.4383                                                     | 35.55293                                                     | 1087                                                         |\n",
       "| S14028                                                       | 二ツ橋店                                                     | 14                                                           | 神奈川県                                                     | 神奈川県横浜市瀬谷区二ツ橋町                                 | カナガワケンヨコハマシセヤクフタツバシチョウ                 | 045-123-4042                                                 | 139.4963                                                     | 35.46304                                                     | 1574                                                         |\n",
       "| S14012                                                       | 本牧和田店                                                   | 14                                                           | 神奈川県                                                     | 神奈川県横浜市中区本牧和田                                   | カナガワケンヨコハマシナカクホンモクワダ                     | 045-123-4034                                                 | 139.6582                                                     | 35.42156                                                     | 1341                                                         |\n",
       "| S14046                                                       | 北山田店                                                     | 14                                                           | 神奈川県                                                     | 神奈川県横浜市都筑区北山田一丁目                             | カナガワケンヨコハマシツヅキクキタヤマタイッチョウメ         | 045-123-4049                                                 | 139.5916                                                     | 35.56189                                                     |  831                                                         |\n",
       "| S14022                                                       | 逗子店                                                       | 14                                                           | 神奈川県                                                     | 神奈川県逗子市逗子一丁目                                     | カナガワケンズシシズシイッチョウメ                           | 046-123-4036                                                 | 139.5789                                                     | 35.29642                                                     | 1838                                                         |\n",
       "| S14011                                                       | 日吉本町店                                                   | 14                                                           | 神奈川県                                                     | 神奈川県横浜市港北区日吉本町四丁目                           | カナガワケンヨコハマシコウホククヒヨシホンチョウヨンチョウメ | 045-123-4033                                                 | 139.6316                                                     | 35.54655                                                     |  890                                                         |\n",
       "| S13016                                                       | 小金井店                                                     | 13                                                           | 東京都                                                       | 東京都小金井市本町一丁目                                     | トウキョウトコガネイシホンチョウイッチョウメ                 | 042-123-4015                                                 | 139.5094                                                     | 35.70018                                                     | 1399                                                         |\n",
       "| S14034                                                       | 川崎野川店                                                   | 14                                                           | 神奈川県                                                     | 神奈川県川崎市宮前区野川                                     | カナガワケンカワサキシミヤマエクノガワ                       | 044-123-4044                                                 | 139.5998                                                     | 35.57693                                                     | 1318                                                         |\n",
       "| S14048                                                       | 中川中央店                                                   | 14                                                           | 神奈川県                                                     | 神奈川県横浜市都筑区中川中央二丁目                           | カナガワケンヨコハマシツヅキクナカガワチュウオウニチョウメ   | 045-123-4051                                                 | 139.5758                                                     | 35.54912                                                     | 1657                                                         |\n",
       "| S12007                                                       | 佐倉店                                                       | 12                                                           | 千葉県                                                       | 千葉県佐倉市上志津                                           | チバケンサクラシカミシヅ                                     | 043-123-4001                                                 | 140.1452                                                     | 35.71872                                                     | 1895                                                         |\n",
       "| S14026                                                       | 辻堂西海岸店                                                 | 14                                                           | 神奈川県                                                     | 神奈川県藤沢市辻堂西海岸二丁目                               | カナガワケンフジサワシツジドウニシカイガンニチョウメ         | 046-123-4040                                                 | 139.4466                                                     | 35.32464                                                     | 1732                                                         |\n",
       "| S13041                                                       | 八王子店                                                     | 13                                                           | 東京都                                                       | 東京都八王子市大塚                                           | トウキョウトハチオウジシオオツカ                             | 042-123-4026                                                 | 139.4235                                                     | 35.63787                                                     |  810                                                         |\n",
       "| S14049                                                       | 川崎大師店                                                   | 14                                                           | 神奈川県                                                     | 神奈川県川崎市川崎区中瀬三丁目                               | カナガワケンカワサキシカワサキクナカゼサンチョウメ           | 044-123-4052                                                 | 139.7327                                                     | 35.53759                                                     |  962                                                         |\n",
       "| S14023                                                       | 川崎店                                                       | 14                                                           | 神奈川県                                                     | 神奈川県川崎市川崎区本町二丁目                               | カナガワケンカワサキシカワサキクホンチョウニチョウメ         | 044-123-4037                                                 | 139.7028                                                     | 35.53599                                                     | 1804                                                         |\n",
       "| S13018                                                       | 清瀬店                                                       | 13                                                           | 東京都                                                       | 東京都清瀬市松山一丁目                                       | トウキョウトキヨセシマツヤマイッチョウメ                     | 042-123-4017                                                 | 139.5178                                                     | 35.76885                                                     | 1220                                                         |\n",
       "| S14027                                                       | 南藤沢店                                                     | 14                                                           | 神奈川県                                                     | 神奈川県藤沢市南藤沢                                         | カナガワケンフジサワシミナミフジサワ                         | 046-123-4041                                                 | 139.4896                                                     | 35.33762                                                     | 1521                                                         |\n",
       "| S14021                                                       | 伊勢原店                                                     | 14                                                           | 神奈川県                                                     | 神奈川県伊勢原市伊勢原四丁目                                 | カナガワケンイセハラシイセハラヨンチョウメ                   | 046-123-4035                                                 | 139.3129                                                     | 35.40169                                                     |  962                                                         |\n",
       "| S14047                                                       | 相模原店                                                     | 14                                                           | 神奈川県                                                     | 神奈川県相模原市千代田六丁目                                 | カナガワケンサガミハラシチヨダロクチョウメ                   | 042-123-4050                                                 | 139.3748                                                     | 35.55959                                                     | 1047                                                         |\n",
       "| S12013                                                       | 習志野店                                                     | 12                                                           | 千葉県                                                       | 千葉県習志野市芝園一丁目                                     | チバケンナラシノシシバゾノイッチョウメ                       | 047-123-4002                                                 | 140.0220                                                     | 35.66122                                                     |  808                                                         |\n",
       "| S14042                                                       | 新山下店                                                     | 14                                                           | 神奈川県                                                     | 神奈川県横浜市中区新山下二丁目                               | カナガワケンヨコハマシナカクシンヤマシタニチョウメ           | 045-123-4047                                                 | 139.6593                                                     | 35.43894                                                     | 1044                                                         |\n",
       "| S12030                                                       | 八幡店                                                       | 12                                                           | 千葉県                                                       | 千葉県市川市八幡三丁目                                       | チバケンイチカワシヤワタサンチョウメ                         | 047-123-4005                                                 | 139.9240                                                     | 35.72318                                                     | 1162                                                         |\n",
       "| S14025                                                       | 大和店                                                       | 14                                                           | 神奈川県                                                     | 神奈川県大和市下和田                                         | カナガワケンヤマトシシモワダ                                 | 046-123-4039                                                 | 139.4680                                                     | 35.43414                                                     | 1011                                                         |\n",
       "| S14045                                                       | 厚木店                                                       | 14                                                           | 神奈川県                                                     | 神奈川県厚木市中町二丁目                                     | カナガワケンアツギシナカチョウニチョウメ                     | 046-123-4048                                                 | 139.3651                                                     | 35.44182                                                     |  980                                                         |\n",
       "| S12029                                                       | 東野店                                                       | 12                                                           | 千葉県                                                       | 千葉県浦安市東野一丁目                                       | チバケンウラヤスシヒガシノイッチョウメ                       | 047-123-4004                                                 | 139.8968                                                     | 35.65086                                                     | 1101                                                         |\n",
       "| S12053                                                       | 高洲店                                                       | 12                                                           | 千葉県                                                       | 千葉県浦安市高洲五丁目                                       | チバケンウラヤスシタカスゴチョウメ                           | 047-123-4006                                                 | 139.9176                                                     | 35.63755                                                     | 1555                                                         |\n",
       "| S14024                                                       | 三田店                                                       | 14                                                           | 神奈川県                                                     | 神奈川県川崎市多摩区三田四丁目                               | カナガワケンカワサキシタマクミタヨンチョウメ                 | 044-123-4038                                                 | 139.5424                                                     | 35.60770                                                     |  972                                                         |\n",
       "| S14006                                                       | 葛が谷店                                                     | 14                                                           | 神奈川県                                                     | 神奈川県横浜市都筑区葛が谷                                   | カナガワケンヨコハマシツヅキククズガヤ                       | 045-123-4031                                                 | 139.5633                                                     | 35.53573                                                     | 1886                                                         |\n",
       "\n"
      ],
      "text/plain": [
       "   store_cd store_name   prefecture_cd prefecture\n",
       "1  S12014   千草台店     12            千葉県    \n",
       "2  S13002   国分寺店     13            東京都    \n",
       "3  S14010   菊名店       14            神奈川県  \n",
       "4  S14033   阿久和店     14            神奈川県  \n",
       "5  S14036   相模原中央店 14            神奈川県  \n",
       "6  S14040   長津田店     14            神奈川県  \n",
       "7  S14050   阿久和西店   14            神奈川県  \n",
       "8  S13052   森野店       13            東京都    \n",
       "9  S14028   二ツ橋店     14            神奈川県  \n",
       "10 S14012   本牧和田店   14            神奈川県  \n",
       "11 S14046   北山田店     14            神奈川県  \n",
       "12 S14022   逗子店       14            神奈川県  \n",
       "13 S14011   日吉本町店   14            神奈川県  \n",
       "14 S13016   小金井店     13            東京都    \n",
       "15 S14034   川崎野川店   14            神奈川県  \n",
       "16 S14048   中川中央店   14            神奈川県  \n",
       "17 S12007   佐倉店       12            千葉県    \n",
       "18 S14026   辻堂西海岸店 14            神奈川県  \n",
       "19 S13041   八王子店     13            東京都    \n",
       "20 S14049   川崎大師店   14            神奈川県  \n",
       "21 S14023   川崎店       14            神奈川県  \n",
       "22 S13018   清瀬店       13            東京都    \n",
       "23 S14027   南藤沢店     14            神奈川県  \n",
       "24 S14021   伊勢原店     14            神奈川県  \n",
       "25 S14047   相模原店     14            神奈川県  \n",
       "26 S12013   習志野店     12            千葉県    \n",
       "27 S14042   新山下店     14            神奈川県  \n",
       "28 S12030   八幡店       12            千葉県    \n",
       "29 S14025   大和店       14            神奈川県  \n",
       "30 S14045   厚木店       14            神奈川県  \n",
       "31 S12029   東野店       12            千葉県    \n",
       "32 S12053   高洲店       12            千葉県    \n",
       "33 S14024   三田店       14            神奈川県  \n",
       "34 S14006   葛が谷店     14            神奈川県  \n",
       "   address                               \n",
       "1  千葉県千葉市稲毛区千草台一丁目        \n",
       "2  東京都国分寺市本多二丁目              \n",
       "3  神奈川県横浜市港北区菊名一丁目        \n",
       "4  神奈川県横浜市瀬谷区阿久和西一丁目    \n",
       "5  神奈川県相模原市中央二丁目            \n",
       "6  神奈川県横浜市緑区長津田みなみ台五丁目\n",
       "7  神奈川県横浜市瀬谷区阿久和西一丁目    \n",
       "8  東京都町田市森野三丁目                \n",
       "9  神奈川県横浜市瀬谷区二ツ橋町          \n",
       "10 神奈川県横浜市中区本牧和田            \n",
       "11 神奈川県横浜市都筑区北山田一丁目      \n",
       "12 神奈川県逗子市逗子一丁目              \n",
       "13 神奈川県横浜市港北区日吉本町四丁目    \n",
       "14 東京都小金井市本町一丁目              \n",
       "15 神奈川県川崎市宮前区野川              \n",
       "16 神奈川県横浜市都筑区中川中央二丁目    \n",
       "17 千葉県佐倉市上志津                    \n",
       "18 神奈川県藤沢市辻堂西海岸二丁目        \n",
       "19 東京都八王子市大塚                    \n",
       "20 神奈川県川崎市川崎区中瀬三丁目        \n",
       "21 神奈川県川崎市川崎区本町二丁目        \n",
       "22 東京都清瀬市松山一丁目                \n",
       "23 神奈川県藤沢市南藤沢                  \n",
       "24 神奈川県伊勢原市伊勢原四丁目          \n",
       "25 神奈川県相模原市千代田六丁目          \n",
       "26 千葉県習志野市芝園一丁目              \n",
       "27 神奈川県横浜市中区新山下二丁目        \n",
       "28 千葉県市川市八幡三丁目                \n",
       "29 神奈川県大和市下和田                  \n",
       "30 神奈川県厚木市中町二丁目              \n",
       "31 千葉県浦安市東野一丁目                \n",
       "32 千葉県浦安市高洲五丁目                \n",
       "33 神奈川県川崎市多摩区三田四丁目        \n",
       "34 神奈川県横浜市都筑区葛が谷            \n",
       "   address_kana                                                 tel_no      \n",
       "1  チバケンチバシイナゲクチグサダイイッチョウメ                 043-123-4003\n",
       "2  トウキョウトコクブンジシホンダニチョウメ                     042-123-4008\n",
       "3  カナガワケンヨコハマシコウホククキクナイッチョウメ           045-123-4032\n",
       "4  カナガワケンヨコハマシセヤクアクワニシイッチョウメ           045-123-4043\n",
       "5  カナガワケンサガミハラシチュウオウニチョウメ                 042-123-4045\n",
       "6  カナガワケンヨコハマシミドリクナガツタミナミダイゴチョウメ   045-123-4046\n",
       "7  カナガワケンヨコハマシセヤクアクワニシイッチョウメ           045-123-4053\n",
       "8  トウキョウトマチダシモリノサンチョウメ                       042-123-4030\n",
       "9  カナガワケンヨコハマシセヤクフタツバシチョウ                 045-123-4042\n",
       "10 カナガワケンヨコハマシナカクホンモクワダ                     045-123-4034\n",
       "11 カナガワケンヨコハマシツヅキクキタヤマタイッチョウメ         045-123-4049\n",
       "12 カナガワケンズシシズシイッチョウメ                           046-123-4036\n",
       "13 カナガワケンヨコハマシコウホククヒヨシホンチョウヨンチョウメ 045-123-4033\n",
       "14 トウキョウトコガネイシホンチョウイッチョウメ                 042-123-4015\n",
       "15 カナガワケンカワサキシミヤマエクノガワ                       044-123-4044\n",
       "16 カナガワケンヨコハマシツヅキクナカガワチュウオウニチョウメ   045-123-4051\n",
       "17 チバケンサクラシカミシヅ                                     043-123-4001\n",
       "18 カナガワケンフジサワシツジドウニシカイガンニチョウメ         046-123-4040\n",
       "19 トウキョウトハチオウジシオオツカ                             042-123-4026\n",
       "20 カナガワケンカワサキシカワサキクナカゼサンチョウメ           044-123-4052\n",
       "21 カナガワケンカワサキシカワサキクホンチョウニチョウメ         044-123-4037\n",
       "22 トウキョウトキヨセシマツヤマイッチョウメ                     042-123-4017\n",
       "23 カナガワケンフジサワシミナミフジサワ                         046-123-4041\n",
       "24 カナガワケンイセハラシイセハラヨンチョウメ                   046-123-4035\n",
       "25 カナガワケンサガミハラシチヨダロクチョウメ                   042-123-4050\n",
       "26 チバケンナラシノシシバゾノイッチョウメ                       047-123-4002\n",
       "27 カナガワケンヨコハマシナカクシンヤマシタニチョウメ           045-123-4047\n",
       "28 チバケンイチカワシヤワタサンチョウメ                         047-123-4005\n",
       "29 カナガワケンヤマトシシモワダ                                 046-123-4039\n",
       "30 カナガワケンアツギシナカチョウニチョウメ                     046-123-4048\n",
       "31 チバケンウラヤスシヒガシノイッチョウメ                       047-123-4004\n",
       "32 チバケンウラヤスシタカスゴチョウメ                           047-123-4006\n",
       "33 カナガワケンカワサキシタマクミタヨンチョウメ                 044-123-4038\n",
       "34 カナガワケンヨコハマシツヅキククズガヤ                       045-123-4031\n",
       "   longitude latitude floor_area\n",
       "1  140.1180  35.63559 1698      \n",
       "2  139.4802  35.70566 1735      \n",
       "3  139.6326  35.50049 1732      \n",
       "4  139.4961  35.45918 1495      \n",
       "5  139.3716  35.57327 1679      \n",
       "6  139.4994  35.52398 1548      \n",
       "7  139.4961  35.45918 1830      \n",
       "8  139.4383  35.55293 1087      \n",
       "9  139.4963  35.46304 1574      \n",
       "10 139.6582  35.42156 1341      \n",
       "11 139.5916  35.56189  831      \n",
       "12 139.5789  35.29642 1838      \n",
       "13 139.6316  35.54655  890      \n",
       "14 139.5094  35.70018 1399      \n",
       "15 139.5998  35.57693 1318      \n",
       "16 139.5758  35.54912 1657      \n",
       "17 140.1452  35.71872 1895      \n",
       "18 139.4466  35.32464 1732      \n",
       "19 139.4235  35.63787  810      \n",
       "20 139.7327  35.53759  962      \n",
       "21 139.7028  35.53599 1804      \n",
       "22 139.5178  35.76885 1220      \n",
       "23 139.4896  35.33762 1521      \n",
       "24 139.3129  35.40169  962      \n",
       "25 139.3748  35.55959 1047      \n",
       "26 140.0220  35.66122  808      \n",
       "27 139.6593  35.43894 1044      \n",
       "28 139.9240  35.72318 1162      \n",
       "29 139.4680  35.43414 1011      \n",
       "30 139.3651  35.44182  980      \n",
       "31 139.8968  35.65086 1101      \n",
       "32 139.9176  35.63755 1555      \n",
       "33 139.5424  35.60770  972      \n",
       "34 139.5633  35.53573 1886      "
      ]
     },
     "metadata": {},
     "output_type": "display_data"
    }
   ],
   "source": [
    "df_store %>% filter(grepl(\"[0-9]{3}-[0-9]{3}-[0-9]\", tel_no))\n",
    "# dplyr で部分一致する定番の方法ですね。\n",
    "# 正規表現 で桁すうを表すときは {} の中に桁数を入れます。\n",
    "# https://murashun.jp/article/programming/regular-expression.html"
   ]
  },
  {
   "cell_type": "markdown",
   "metadata": {},
   "source": [
    "---\n",
    "> R-017: 顧客データフレーム（df_customer）を生年月日（birth_day）で高齢順にソートし、先頭10件を全項目表示せよ。"
   ]
  },
  {
   "cell_type": "code",
   "execution_count": 9,
   "metadata": {
    "scrolled": true
   },
   "outputs": [
    {
     "data": {
      "text/html": [
       "<table>\n",
       "<thead><tr><th></th><th scope=col>customer_id</th><th scope=col>customer_name</th><th scope=col>gender_cd</th><th scope=col>gender</th><th scope=col>birth_day</th><th scope=col>age</th><th scope=col>postal_cd</th><th scope=col>address</th><th scope=col>application_store_cd</th><th scope=col>application_date</th><th scope=col>status_cd</th></tr></thead>\n",
       "<tbody>\n",
       "\t<tr><th scope=row>7512</th><td>CS001814000022                      </td><td>鶴田 里穂,1                         </td><td>女性                                </td><td>1929-01-28                          </td><td>90                                  </td><td>144-0045                            </td><td>東京都大田区南六郷**********        </td><td>S13001                              </td><td>20161012                            </td><td>A-20090415-7                        </td><td>                                    </td></tr>\n",
       "\t<tr><th scope=row>18818</th><td>CS003813000014                      </td><td>村山 菜々美,1                       </td><td>女性                                </td><td>1928-11-26                          </td><td>90                                  </td><td>182-0007                            </td><td>東京都調布市菊野台**********        </td><td>S13003                              </td><td>20160214                            </td><td>0-00000000-0                        </td><td>                                    </td></tr>\n",
       "\t<tr><th scope=row>36</th><td>CS003802000009                      </td><td>大森 照生,0                         </td><td>男性                                </td><td>1930-01-23                          </td><td>89                                  </td><td>214-0014                            </td><td>神奈川県川崎市多摩区登戸**********  </td><td>S13003                              </td><td>20150216                            </td><td>0-00000000-0                        </td><td>                                    </td></tr>\n",
       "\t<tr><th scope=row>128</th><td>CS001812000030                      </td><td>土屋 奈々,1                         </td><td>女性                                </td><td>1929-07-04                          </td><td>89                                  </td><td>212-0024                            </td><td>神奈川県川崎市幸区塚越**********    </td><td>S13001                              </td><td>20160821                            </td><td>0-00000000-0                        </td><td>                                    </td></tr>\n",
       "\t<tr><th scope=row>1122</th><td>CS008812000007                      </td><td>高嶋 路子,1                         </td><td>女性                                </td><td>1930-01-09                          </td><td>89                                  </td><td>213-0034                            </td><td>神奈川県川崎市高津区上作延**********</td><td>S13008                              </td><td>20150503                            </td><td>0-00000000-0                        </td><td>                                    </td></tr>\n",
       "\t<tr><th scope=row>1301</th><td>CS004814000023                      </td><td>荒井 七世,1                         </td><td>女性                                </td><td>1930-02-21                          </td><td>89                                  </td><td>176-0025                            </td><td>東京都練馬区中村南**********        </td><td>S13004                              </td><td>20170315                            </td><td>7-20100922-5                        </td><td>                                    </td></tr>\n",
       "\t<tr><th scope=row>2964</th><td>CS005812000018                      </td><td>砂川 瑠璃亜,1                       </td><td>女性                                </td><td>1929-08-22                          </td><td>89                                  </td><td>167-0032                            </td><td>東京都杉並区天沼**********          </td><td>S13005                              </td><td>20170916                            </td><td>0-00000000-0                        </td><td>                                    </td></tr>\n",
       "\t<tr><th scope=row>3447</th><td>CS038815000019                      </td><td>田辺 怜奈,1                         </td><td>女性                                </td><td>1930-01-29                          </td><td>89                                  </td><td>134-0084                            </td><td>東京都江戸川区東葛西**********      </td><td>S13038                              </td><td>20150829                            </td><td>0-00000000-0                        </td><td>                                    </td></tr>\n",
       "\t<tr><th scope=row>3535</th><td>CS004813000015                      </td><td>吉原 幸子,1                         </td><td>女性                                </td><td>1929-09-08                          </td><td>89                                  </td><td>165-0035                            </td><td>東京都中野区白鷺**********          </td><td>S13004                              </td><td>20150408                            </td><td>0-00000000-0                        </td><td>                                    </td></tr>\n",
       "\t<tr><th scope=row>3615</th><td>CS029803000002                      </td><td>加藤 浩介,0                         </td><td>男性                                </td><td>1929-10-28                          </td><td>89                                  </td><td>279-0041                            </td><td>千葉県浦安市堀江**********          </td><td>S12029                              </td><td>20150701                            </td><td>2-20100329-5                        </td><td>                                    </td></tr>\n",
       "</tbody>\n",
       "</table>\n"
      ],
      "text/latex": [
       "\\begin{tabular}{r|lllllllllll}\n",
       "  & customer\\_id & customer\\_name & gender\\_cd & gender & birth\\_day & age & postal\\_cd & address & application\\_store\\_cd & application\\_date & status\\_cd\\\\\n",
       "\\hline\n",
       "\t7512 & CS001814000022                       & 鶴田 里穂,1                          & 女性                                 & 1929-01-28                           & 90                                   & 144-0045                             & 東京都大田区南六郷**********         & S13001                               & 20161012                             & A-20090415-7                         &                                     \\\\\n",
       "\t18818 & CS003813000014                       & 村山 菜々美,1                        & 女性                                 & 1928-11-26                           & 90                                   & 182-0007                             & 東京都調布市菊野台**********         & S13003                               & 20160214                             & 0-00000000-0                         &                                     \\\\\n",
       "\t36 & CS003802000009                       & 大森 照生,0                          & 男性                                 & 1930-01-23                           & 89                                   & 214-0014                             & 神奈川県川崎市多摩区登戸**********   & S13003                               & 20150216                             & 0-00000000-0                         &                                     \\\\\n",
       "\t128 & CS001812000030                       & 土屋 奈々,1                          & 女性                                 & 1929-07-04                           & 89                                   & 212-0024                             & 神奈川県川崎市幸区塚越**********     & S13001                               & 20160821                             & 0-00000000-0                         &                                     \\\\\n",
       "\t1122 & CS008812000007                       & 高嶋 路子,1                          & 女性                                 & 1930-01-09                           & 89                                   & 213-0034                             & 神奈川県川崎市高津区上作延********** & S13008                               & 20150503                             & 0-00000000-0                         &                                     \\\\\n",
       "\t1301 & CS004814000023                       & 荒井 七世,1                          & 女性                                 & 1930-02-21                           & 89                                   & 176-0025                             & 東京都練馬区中村南**********         & S13004                               & 20170315                             & 7-20100922-5                         &                                     \\\\\n",
       "\t2964 & CS005812000018                       & 砂川 瑠璃亜,1                        & 女性                                 & 1929-08-22                           & 89                                   & 167-0032                             & 東京都杉並区天沼**********           & S13005                               & 20170916                             & 0-00000000-0                         &                                     \\\\\n",
       "\t3447 & CS038815000019                       & 田辺 怜奈,1                          & 女性                                 & 1930-01-29                           & 89                                   & 134-0084                             & 東京都江戸川区東葛西**********       & S13038                               & 20150829                             & 0-00000000-0                         &                                     \\\\\n",
       "\t3535 & CS004813000015                       & 吉原 幸子,1                          & 女性                                 & 1929-09-08                           & 89                                   & 165-0035                             & 東京都中野区白鷺**********           & S13004                               & 20150408                             & 0-00000000-0                         &                                     \\\\\n",
       "\t3615 & CS029803000002                       & 加藤 浩介,0                          & 男性                                 & 1929-10-28                           & 89                                   & 279-0041                             & 千葉県浦安市堀江**********           & S12029                               & 20150701                             & 2-20100329-5                         &                                     \\\\\n",
       "\\end{tabular}\n"
      ],
      "text/markdown": [
       "\n",
       "| <!--/--> | customer_id | customer_name | gender_cd | gender | birth_day | age | postal_cd | address | application_store_cd | application_date | status_cd |\n",
       "|---|---|---|---|---|---|---|---|---|---|---|---|\n",
       "| 7512 | CS001814000022                       | 鶴田 里穂,1                          | 女性                                 | 1929-01-28                           | 90                                   | 144-0045                             | 東京都大田区南六郷**********         | S13001                               | 20161012                             | A-20090415-7                         |                                      |\n",
       "| 18818 | CS003813000014                       | 村山 菜々美,1                        | 女性                                 | 1928-11-26                           | 90                                   | 182-0007                             | 東京都調布市菊野台**********         | S13003                               | 20160214                             | 0-00000000-0                         |                                      |\n",
       "| 36 | CS003802000009                       | 大森 照生,0                          | 男性                                 | 1930-01-23                           | 89                                   | 214-0014                             | 神奈川県川崎市多摩区登戸**********   | S13003                               | 20150216                             | 0-00000000-0                         |                                      |\n",
       "| 128 | CS001812000030                       | 土屋 奈々,1                          | 女性                                 | 1929-07-04                           | 89                                   | 212-0024                             | 神奈川県川崎市幸区塚越**********     | S13001                               | 20160821                             | 0-00000000-0                         |                                      |\n",
       "| 1122 | CS008812000007                       | 高嶋 路子,1                          | 女性                                 | 1930-01-09                           | 89                                   | 213-0034                             | 神奈川県川崎市高津区上作延********** | S13008                               | 20150503                             | 0-00000000-0                         |                                      |\n",
       "| 1301 | CS004814000023                       | 荒井 七世,1                          | 女性                                 | 1930-02-21                           | 89                                   | 176-0025                             | 東京都練馬区中村南**********         | S13004                               | 20170315                             | 7-20100922-5                         |                                      |\n",
       "| 2964 | CS005812000018                       | 砂川 瑠璃亜,1                        | 女性                                 | 1929-08-22                           | 89                                   | 167-0032                             | 東京都杉並区天沼**********           | S13005                               | 20170916                             | 0-00000000-0                         |                                      |\n",
       "| 3447 | CS038815000019                       | 田辺 怜奈,1                          | 女性                                 | 1930-01-29                           | 89                                   | 134-0084                             | 東京都江戸川区東葛西**********       | S13038                               | 20150829                             | 0-00000000-0                         |                                      |\n",
       "| 3535 | CS004813000015                       | 吉原 幸子,1                          | 女性                                 | 1929-09-08                           | 89                                   | 165-0035                             | 東京都中野区白鷺**********           | S13004                               | 20150408                             | 0-00000000-0                         |                                      |\n",
       "| 3615 | CS029803000002                       | 加藤 浩介,0                          | 男性                                 | 1929-10-28                           | 89                                   | 279-0041                             | 千葉県浦安市堀江**********           | S12029                               | 20150701                             | 2-20100329-5                         |                                      |\n",
       "\n"
      ],
      "text/plain": [
       "      customer_id    customer_name gender_cd gender     birth_day age     \n",
       "7512  CS001814000022 鶴田 里穂,1   女性      1929-01-28 90        144-0045\n",
       "18818 CS003813000014 村山 菜々美,1 女性      1928-11-26 90        182-0007\n",
       "36    CS003802000009 大森 照生,0   男性      1930-01-23 89        214-0014\n",
       "128   CS001812000030 土屋 奈々,1   女性      1929-07-04 89        212-0024\n",
       "1122  CS008812000007 高嶋 路子,1   女性      1930-01-09 89        213-0034\n",
       "1301  CS004814000023 荒井 七世,1   女性      1930-02-21 89        176-0025\n",
       "2964  CS005812000018 砂川 瑠璃亜,1 女性      1929-08-22 89        167-0032\n",
       "3447  CS038815000019 田辺 怜奈,1   女性      1930-01-29 89        134-0084\n",
       "3535  CS004813000015 吉原 幸子,1   女性      1929-09-08 89        165-0035\n",
       "3615  CS029803000002 加藤 浩介,0   男性      1929-10-28 89        279-0041\n",
       "      postal_cd                            address application_store_cd\n",
       "7512  東京都大田区南六郷**********         S13001  20161012            \n",
       "18818 東京都調布市菊野台**********         S13003  20160214            \n",
       "36    神奈川県川崎市多摩区登戸**********   S13003  20150216            \n",
       "128   神奈川県川崎市幸区塚越**********     S13001  20160821            \n",
       "1122  神奈川県川崎市高津区上作延********** S13008  20150503            \n",
       "1301  東京都練馬区中村南**********         S13004  20170315            \n",
       "2964  東京都杉並区天沼**********           S13005  20170916            \n",
       "3447  東京都江戸川区東葛西**********       S13038  20150829            \n",
       "3535  東京都中野区白鷺**********           S13004  20150408            \n",
       "3615  千葉県浦安市堀江**********           S12029  20150701            \n",
       "      application_date status_cd\n",
       "7512  A-20090415-7              \n",
       "18818 0-00000000-0              \n",
       "36    0-00000000-0              \n",
       "128   0-00000000-0              \n",
       "1122  0-00000000-0              \n",
       "1301  7-20100922-5              \n",
       "2964  0-00000000-0              \n",
       "3447  0-00000000-0              \n",
       "3535  0-00000000-0              \n",
       "3615  2-20100329-5              "
      ]
     },
     "metadata": {},
     "output_type": "display_data"
    }
   ],
   "source": [
    "df_tmp <- df_customer[order(df_customer$birth_day, decreasing = TRUE), ]\n",
    "head(df_tmp, n=10)\n",
    "# データフレームをある列でソートするときは[]の中にソート条件を order()で記入する。最後に「,」を忘れずに。\n",
    "# http://taustation.com/r-dataframe-sort/"
   ]
  },
  {
   "cell_type": "code",
   "execution_count": 10,
   "metadata": {},
   "outputs": [],
   "source": [
    "# # sort()関数を使うと\n",
    "# # https://note.com/marginal_ard30/n/nd2e1632b5874\n",
    "# df_tmp2 <- df_customer[sort(df_customer$birth_day, decreasing = FALSE,index=T)$ix,])\n",
    "# head(df_tmp2, n=10)"
   ]
  },
  {
   "cell_type": "markdown",
   "metadata": {},
   "source": [
    "---\n",
    "> R-018: 顧客データフレーム（df_customer）を生年月日（birth_day）で若い順にソートし、先頭10件を全項目表示せよ。"
   ]
  },
  {
   "cell_type": "code",
   "execution_count": 11,
   "metadata": {
    "scrolled": true
   },
   "outputs": [
    {
     "data": {
      "text/html": [
       "<table>\n",
       "<thead><tr><th></th><th scope=col>customer_id</th><th scope=col>customer_name</th><th scope=col>gender_cd</th><th scope=col>gender</th><th scope=col>birth_day</th><th scope=col>age</th><th scope=col>postal_cd</th><th scope=col>address</th><th scope=col>application_store_cd</th><th scope=col>application_date</th><th scope=col>status_cd</th></tr></thead>\n",
       "<tbody>\n",
       "\t<tr><th scope=row>3671</th><td>CS025115000002                      </td><td>小柳 夏希,1                         </td><td>女性                                </td><td>2007-04-18                          </td><td>11                                  </td><td>245-0018                            </td><td>神奈川県横浜市泉区上飯田町**********</td><td>S14025                              </td><td>20160116                            </td><td>D-20100913-D                        </td><td>                                    </td></tr>\n",
       "\t<tr><th scope=row>10746</th><td>CS002113000009                      </td><td>柴田 真悠子,1                       </td><td>女性                                </td><td>2007-09-17                          </td><td>11                                  </td><td>184-0014                            </td><td>東京都小金井市貫井南町**********    </td><td>S13002                              </td><td>20160304                            </td><td>0-00000000-0                        </td><td>                                    </td></tr>\n",
       "\t<tr><th scope=row>19812</th><td>CS004115000014                      </td><td>松井 京子,1                         </td><td>女性                                </td><td>2007-08-09                          </td><td>11                                  </td><td>165-0031                            </td><td>東京都中野区上鷺宮**********        </td><td>S13004                              </td><td>20161120                            </td><td>1-20081231-1                        </td><td>                                    </td></tr>\n",
       "\t<tr><th scope=row>1399</th><td>CS040113000005                      </td><td>尾崎 幸子,1                         </td><td>女性                                </td><td>2006-07-07                          </td><td>12                                  </td><td>194-0001                            </td><td>東京都町田市つくし野**********      </td><td>S14040                              </td><td>20151130                            </td><td>0-00000000-0                        </td><td>                                    </td></tr>\n",
       "\t<tr><th scope=row>2243</th><td>CS040112000011                      </td><td>柳川 陽子,1                         </td><td>女性                                </td><td>2006-05-21                          </td><td>12                                  </td><td>194-0014                            </td><td>東京都町田市高ヶ坂**********        </td><td>S14040                              </td><td>20180927                            </td><td>0-00000000-0                        </td><td>                                    </td></tr>\n",
       "\t<tr><th scope=row>10951</th><td>CS016114000006                      </td><td>高山 涼子,1                         </td><td>女性                                </td><td>2006-08-12                          </td><td>12                                  </td><td>184-0011                            </td><td>東京都小金井市東町**********        </td><td>S13016                              </td><td>20150514                            </td><td>9-20090628-7                        </td><td>                                    </td></tr>\n",
       "\t<tr><th scope=row>11606</th><td>CS004115000022                      </td><td>竹村 美帆,1                         </td><td>女性                                </td><td>2006-08-27                          </td><td>12                                  </td><td>165-0031                            </td><td>東京都中野区上鷺宮**********        </td><td>S13004                              </td><td>20161113                            </td><td>0-00000000-0                        </td><td>                                    </td></tr>\n",
       "\t<tr><th scope=row>13690</th><td>CS023114000002                      </td><td>葛西 茜,1                           </td><td>女性                                </td><td>2006-10-10                          </td><td>12                                  </td><td>144-0046                            </td><td>東京都大田区東六郷**********        </td><td>S14023                              </td><td>20150117                            </td><td>A-20100228-D                        </td><td>                                    </td></tr>\n",
       "\t<tr><th scope=row>14918</th><td>CS002112000013                      </td><td>森下 さやか,1                       </td><td>女性                                </td><td>2006-11-10                          </td><td>12                                  </td><td>190-0001                            </td><td>東京都立川市若葉町**********        </td><td>S13002                              </td><td>20171106                            </td><td>0-00000000-0                        </td><td>                                    </td></tr>\n",
       "\t<tr><th scope=row>15098</th><td>CS014113000008                      </td><td>矢口 莉緒,1                         </td><td>女性                                </td><td>2007-03-05                          </td><td>12                                  </td><td>260-0041                            </td><td>千葉県千葉市中央区東千葉**********  </td><td>S12014                              </td><td>20150622                            </td><td>3-20091108-6                        </td><td>                                    </td></tr>\n",
       "</tbody>\n",
       "</table>\n"
      ],
      "text/latex": [
       "\\begin{tabular}{r|lllllllllll}\n",
       "  & customer\\_id & customer\\_name & gender\\_cd & gender & birth\\_day & age & postal\\_cd & address & application\\_store\\_cd & application\\_date & status\\_cd\\\\\n",
       "\\hline\n",
       "\t3671 & CS025115000002                       & 小柳 夏希,1                          & 女性                                 & 2007-04-18                           & 11                                   & 245-0018                             & 神奈川県横浜市泉区上飯田町********** & S14025                               & 20160116                             & D-20100913-D                         &                                     \\\\\n",
       "\t10746 & CS002113000009                       & 柴田 真悠子,1                        & 女性                                 & 2007-09-17                           & 11                                   & 184-0014                             & 東京都小金井市貫井南町**********     & S13002                               & 20160304                             & 0-00000000-0                         &                                     \\\\\n",
       "\t19812 & CS004115000014                       & 松井 京子,1                          & 女性                                 & 2007-08-09                           & 11                                   & 165-0031                             & 東京都中野区上鷺宮**********         & S13004                               & 20161120                             & 1-20081231-1                         &                                     \\\\\n",
       "\t1399 & CS040113000005                       & 尾崎 幸子,1                          & 女性                                 & 2006-07-07                           & 12                                   & 194-0001                             & 東京都町田市つくし野**********       & S14040                               & 20151130                             & 0-00000000-0                         &                                     \\\\\n",
       "\t2243 & CS040112000011                       & 柳川 陽子,1                          & 女性                                 & 2006-05-21                           & 12                                   & 194-0014                             & 東京都町田市高ヶ坂**********         & S14040                               & 20180927                             & 0-00000000-0                         &                                     \\\\\n",
       "\t10951 & CS016114000006                       & 高山 涼子,1                          & 女性                                 & 2006-08-12                           & 12                                   & 184-0011                             & 東京都小金井市東町**********         & S13016                               & 20150514                             & 9-20090628-7                         &                                     \\\\\n",
       "\t11606 & CS004115000022                       & 竹村 美帆,1                          & 女性                                 & 2006-08-27                           & 12                                   & 165-0031                             & 東京都中野区上鷺宮**********         & S13004                               & 20161113                             & 0-00000000-0                         &                                     \\\\\n",
       "\t13690 & CS023114000002                       & 葛西 茜,1                            & 女性                                 & 2006-10-10                           & 12                                   & 144-0046                             & 東京都大田区東六郷**********         & S14023                               & 20150117                             & A-20100228-D                         &                                     \\\\\n",
       "\t14918 & CS002112000013                       & 森下 さやか,1                        & 女性                                 & 2006-11-10                           & 12                                   & 190-0001                             & 東京都立川市若葉町**********         & S13002                               & 20171106                             & 0-00000000-0                         &                                     \\\\\n",
       "\t15098 & CS014113000008                       & 矢口 莉緒,1                          & 女性                                 & 2007-03-05                           & 12                                   & 260-0041                             & 千葉県千葉市中央区東千葉**********   & S12014                               & 20150622                             & 3-20091108-6                         &                                     \\\\\n",
       "\\end{tabular}\n"
      ],
      "text/markdown": [
       "\n",
       "| <!--/--> | customer_id | customer_name | gender_cd | gender | birth_day | age | postal_cd | address | application_store_cd | application_date | status_cd |\n",
       "|---|---|---|---|---|---|---|---|---|---|---|---|\n",
       "| 3671 | CS025115000002                       | 小柳 夏希,1                          | 女性                                 | 2007-04-18                           | 11                                   | 245-0018                             | 神奈川県横浜市泉区上飯田町********** | S14025                               | 20160116                             | D-20100913-D                         |                                      |\n",
       "| 10746 | CS002113000009                       | 柴田 真悠子,1                        | 女性                                 | 2007-09-17                           | 11                                   | 184-0014                             | 東京都小金井市貫井南町**********     | S13002                               | 20160304                             | 0-00000000-0                         |                                      |\n",
       "| 19812 | CS004115000014                       | 松井 京子,1                          | 女性                                 | 2007-08-09                           | 11                                   | 165-0031                             | 東京都中野区上鷺宮**********         | S13004                               | 20161120                             | 1-20081231-1                         |                                      |\n",
       "| 1399 | CS040113000005                       | 尾崎 幸子,1                          | 女性                                 | 2006-07-07                           | 12                                   | 194-0001                             | 東京都町田市つくし野**********       | S14040                               | 20151130                             | 0-00000000-0                         |                                      |\n",
       "| 2243 | CS040112000011                       | 柳川 陽子,1                          | 女性                                 | 2006-05-21                           | 12                                   | 194-0014                             | 東京都町田市高ヶ坂**********         | S14040                               | 20180927                             | 0-00000000-0                         |                                      |\n",
       "| 10951 | CS016114000006                       | 高山 涼子,1                          | 女性                                 | 2006-08-12                           | 12                                   | 184-0011                             | 東京都小金井市東町**********         | S13016                               | 20150514                             | 9-20090628-7                         |                                      |\n",
       "| 11606 | CS004115000022                       | 竹村 美帆,1                          | 女性                                 | 2006-08-27                           | 12                                   | 165-0031                             | 東京都中野区上鷺宮**********         | S13004                               | 20161113                             | 0-00000000-0                         |                                      |\n",
       "| 13690 | CS023114000002                       | 葛西 茜,1                            | 女性                                 | 2006-10-10                           | 12                                   | 144-0046                             | 東京都大田区東六郷**********         | S14023                               | 20150117                             | A-20100228-D                         |                                      |\n",
       "| 14918 | CS002112000013                       | 森下 さやか,1                        | 女性                                 | 2006-11-10                           | 12                                   | 190-0001                             | 東京都立川市若葉町**********         | S13002                               | 20171106                             | 0-00000000-0                         |                                      |\n",
       "| 15098 | CS014113000008                       | 矢口 莉緒,1                          | 女性                                 | 2007-03-05                           | 12                                   | 260-0041                             | 千葉県千葉市中央区東千葉**********   | S12014                               | 20150622                             | 3-20091108-6                         |                                      |\n",
       "\n"
      ],
      "text/plain": [
       "      customer_id    customer_name gender_cd gender     birth_day age     \n",
       "3671  CS025115000002 小柳 夏希,1   女性      2007-04-18 11        245-0018\n",
       "10746 CS002113000009 柴田 真悠子,1 女性      2007-09-17 11        184-0014\n",
       "19812 CS004115000014 松井 京子,1   女性      2007-08-09 11        165-0031\n",
       "1399  CS040113000005 尾崎 幸子,1   女性      2006-07-07 12        194-0001\n",
       "2243  CS040112000011 柳川 陽子,1   女性      2006-05-21 12        194-0014\n",
       "10951 CS016114000006 高山 涼子,1   女性      2006-08-12 12        184-0011\n",
       "11606 CS004115000022 竹村 美帆,1   女性      2006-08-27 12        165-0031\n",
       "13690 CS023114000002 葛西 茜,1     女性      2006-10-10 12        144-0046\n",
       "14918 CS002112000013 森下 さやか,1 女性      2006-11-10 12        190-0001\n",
       "15098 CS014113000008 矢口 莉緒,1   女性      2007-03-05 12        260-0041\n",
       "      postal_cd                            address application_store_cd\n",
       "3671  神奈川県横浜市泉区上飯田町********** S14025  20160116            \n",
       "10746 東京都小金井市貫井南町**********     S13002  20160304            \n",
       "19812 東京都中野区上鷺宮**********         S13004  20161120            \n",
       "1399  東京都町田市つくし野**********       S14040  20151130            \n",
       "2243  東京都町田市高ヶ坂**********         S14040  20180927            \n",
       "10951 東京都小金井市東町**********         S13016  20150514            \n",
       "11606 東京都中野区上鷺宮**********         S13004  20161113            \n",
       "13690 東京都大田区東六郷**********         S14023  20150117            \n",
       "14918 東京都立川市若葉町**********         S13002  20171106            \n",
       "15098 千葉県千葉市中央区東千葉**********   S12014  20150622            \n",
       "      application_date status_cd\n",
       "3671  D-20100913-D              \n",
       "10746 0-00000000-0              \n",
       "19812 1-20081231-1              \n",
       "1399  0-00000000-0              \n",
       "2243  0-00000000-0              \n",
       "10951 9-20090628-7              \n",
       "11606 0-00000000-0              \n",
       "13690 A-20100228-D              \n",
       "14918 0-00000000-0              \n",
       "15098 3-20091108-6              "
      ]
     },
     "metadata": {},
     "output_type": "display_data"
    }
   ],
   "source": [
    "df_tmp <- df_customer[order(df_customer$birth_day, decreasing = FALSE), ]\n",
    "head(df_tmp, n=10)"
   ]
  },
  {
   "cell_type": "markdown",
   "metadata": {},
   "source": [
    "---\n",
    "> R-019: レシート明細データフレーム（df_receipt）に対し、1件あたりの売上金額（amount）が高い順にランクを付与し、先頭10件を抽出せよ。項目は顧客ID（customer_id）、売上金額（amount）、付与したランクを表示させること。なお、売上金額（amount）が等しい場合は同一順位を付与するものとする。"
   ]
  },
  {
   "cell_type": "code",
   "execution_count": 12,
   "metadata": {},
   "outputs": [
    {
     "data": {
      "text/html": [
       "<table>\n",
       "<thead><tr><th scope=col>sales_ymd</th><th scope=col>sales_epoch</th><th scope=col>store_cd</th><th scope=col>receipt_no</th><th scope=col>receipt_sub_no</th><th scope=col>customer_id</th><th scope=col>product_cd</th><th scope=col>quantity</th><th scope=col>amount</th></tr></thead>\n",
       "<tbody>\n",
       "\t<tr><td>20181103      </td><td>1257206400    </td><td>S14006        </td><td> 112          </td><td>1             </td><td>CS006214000001</td><td>P070305012    </td><td>1             </td><td>158           </td></tr>\n",
       "\t<tr><td>20181118      </td><td>1258502400    </td><td>S13008        </td><td>1132          </td><td>2             </td><td>CS008415000097</td><td>P070701017    </td><td>1             </td><td> 81           </td></tr>\n",
       "\t<tr><td>20170712      </td><td>1215820800    </td><td>S14028        </td><td>1102          </td><td>1             </td><td>CS028414000014</td><td>P060101005    </td><td>1             </td><td>170           </td></tr>\n",
       "\t<tr><td>20190205      </td><td>1265328000    </td><td>S14042        </td><td>1132          </td><td>1             </td><td>ZZ000000000000</td><td>P050301001    </td><td>1             </td><td> 25           </td></tr>\n",
       "\t<tr><td>20180821      </td><td>1250812800    </td><td>S14025        </td><td>1102          </td><td>2             </td><td>CS025415000050</td><td>P060102007    </td><td>1             </td><td> 90           </td></tr>\n",
       "\t<tr><td>20190605      </td><td>1275696000    </td><td>S13003        </td><td>1112          </td><td>1             </td><td>CS003515000195</td><td>P050102002    </td><td>1             </td><td>138           </td></tr>\n",
       "</tbody>\n",
       "</table>\n"
      ],
      "text/latex": [
       "\\begin{tabular}{r|lllllllll}\n",
       " sales\\_ymd & sales\\_epoch & store\\_cd & receipt\\_no & receipt\\_sub\\_no & customer\\_id & product\\_cd & quantity & amount\\\\\n",
       "\\hline\n",
       "\t 20181103       & 1257206400     & S14006         &  112           & 1              & CS006214000001 & P070305012     & 1              & 158           \\\\\n",
       "\t 20181118       & 1258502400     & S13008         & 1132           & 2              & CS008415000097 & P070701017     & 1              &  81           \\\\\n",
       "\t 20170712       & 1215820800     & S14028         & 1102           & 1              & CS028414000014 & P060101005     & 1              & 170           \\\\\n",
       "\t 20190205       & 1265328000     & S14042         & 1132           & 1              & ZZ000000000000 & P050301001     & 1              &  25           \\\\\n",
       "\t 20180821       & 1250812800     & S14025         & 1102           & 2              & CS025415000050 & P060102007     & 1              &  90           \\\\\n",
       "\t 20190605       & 1275696000     & S13003         & 1112           & 1              & CS003515000195 & P050102002     & 1              & 138           \\\\\n",
       "\\end{tabular}\n"
      ],
      "text/markdown": [
       "\n",
       "| sales_ymd | sales_epoch | store_cd | receipt_no | receipt_sub_no | customer_id | product_cd | quantity | amount |\n",
       "|---|---|---|---|---|---|---|---|---|\n",
       "| 20181103       | 1257206400     | S14006         |  112           | 1              | CS006214000001 | P070305012     | 1              | 158            |\n",
       "| 20181118       | 1258502400     | S13008         | 1132           | 2              | CS008415000097 | P070701017     | 1              |  81            |\n",
       "| 20170712       | 1215820800     | S14028         | 1102           | 1              | CS028414000014 | P060101005     | 1              | 170            |\n",
       "| 20190205       | 1265328000     | S14042         | 1132           | 1              | ZZ000000000000 | P050301001     | 1              |  25            |\n",
       "| 20180821       | 1250812800     | S14025         | 1102           | 2              | CS025415000050 | P060102007     | 1              |  90            |\n",
       "| 20190605       | 1275696000     | S13003         | 1112           | 1              | CS003515000195 | P050102002     | 1              | 138            |\n",
       "\n"
      ],
      "text/plain": [
       "  sales_ymd sales_epoch store_cd receipt_no receipt_sub_no customer_id   \n",
       "1 20181103  1257206400  S14006    112       1              CS006214000001\n",
       "2 20181118  1258502400  S13008   1132       2              CS008415000097\n",
       "3 20170712  1215820800  S14028   1102       1              CS028414000014\n",
       "4 20190205  1265328000  S14042   1132       1              ZZ000000000000\n",
       "5 20180821  1250812800  S14025   1102       2              CS025415000050\n",
       "6 20190605  1275696000  S13003   1112       1              CS003515000195\n",
       "  product_cd quantity amount\n",
       "1 P070305012 1        158   \n",
       "2 P070701017 1         81   \n",
       "3 P060101005 1        170   \n",
       "4 P050301001 1         25   \n",
       "5 P060102007 1         90   \n",
       "6 P050102002 1        138   "
      ]
     },
     "metadata": {},
     "output_type": "display_data"
    }
   ],
   "source": [
    "head(df_receipt)"
   ]
  },
  {
   "cell_type": "code",
   "execution_count": 13,
   "metadata": {},
   "outputs": [
    {
     "data": {
      "text/html": [
       "<table>\n",
       "<thead><tr><th scope=col>sales_ymd</th><th scope=col>sales_epoch</th><th scope=col>store_cd</th><th scope=col>receipt_no</th><th scope=col>receipt_sub_no</th><th scope=col>customer_id</th><th scope=col>product_cd</th><th scope=col>quantity</th><th scope=col>amount</th><th scope=col>ranking</th></tr></thead>\n",
       "<tbody>\n",
       "\t<tr><td>20190903      </td><td>1283472000    </td><td>S14011        </td><td>1192          </td><td>2             </td><td>CS011415000006</td><td>P080104055    </td><td>1             </td><td>10925         </td><td>1             </td></tr>\n",
       "\t<tr><td>20190304      </td><td>1267660800    </td><td>S14046        </td><td>1152          </td><td>2             </td><td>ZZ000000000000</td><td>P090302118    </td><td>1             </td><td> 6800         </td><td>2             </td></tr>\n",
       "\t<tr><td>20170921      </td><td>1221955200    </td><td>S14028        </td><td>1192          </td><td>2             </td><td>CS028605000002</td><td>P090907210    </td><td>1             </td><td> 5780         </td><td>3             </td></tr>\n",
       "\t<tr><td>20170721      </td><td>1216598400    </td><td>S13015        </td><td>1112          </td><td>1             </td><td>CS015515000034</td><td>P090907208    </td><td>1             </td><td> 5480         </td><td>4             </td></tr>\n",
       "\t<tr><td>20190103      </td><td>1262476800    </td><td>S14021        </td><td>1162          </td><td>2             </td><td>ZZ000000000000</td><td>P090907208    </td><td>1             </td><td> 5480         </td><td>4             </td></tr>\n",
       "\t<tr><td>20190724      </td><td>1279929600    </td><td>S13009        </td><td>1192          </td><td>2             </td><td>ZZ000000000000</td><td>P090907209    </td><td>1             </td><td> 5480         </td><td>4             </td></tr>\n",
       "\t<tr><td>20180621      </td><td>1245542400    </td><td>S13004        </td><td>1172          </td><td>2             </td><td>ZZ000000000000</td><td>P090907206    </td><td>1             </td><td> 5440         </td><td>7             </td></tr>\n",
       "\t<tr><td>20190209      </td><td>1265673600    </td><td>S14021        </td><td>1142          </td><td>2             </td><td>CS021515000089</td><td>P090907206    </td><td>1             </td><td> 5440         </td><td>7             </td></tr>\n",
       "\t<tr><td>20181219      </td><td>1261180800    </td><td>S13015        </td><td>1132          </td><td>1             </td><td>CS015515000083</td><td>P071301009    </td><td>1             </td><td> 5280         </td><td>9             </td></tr>\n",
       "\t<tr><td>20180603      </td><td>1243987200    </td><td>S13017        </td><td>1192          </td><td>1             </td><td>CS017414000114</td><td>P071301009    </td><td>1             </td><td> 5280         </td><td>9             </td></tr>\n",
       "</tbody>\n",
       "</table>\n"
      ],
      "text/latex": [
       "\\begin{tabular}{r|llllllllll}\n",
       " sales\\_ymd & sales\\_epoch & store\\_cd & receipt\\_no & receipt\\_sub\\_no & customer\\_id & product\\_cd & quantity & amount & ranking\\\\\n",
       "\\hline\n",
       "\t 20190903       & 1283472000     & S14011         & 1192           & 2              & CS011415000006 & P080104055     & 1              & 10925          & 1             \\\\\n",
       "\t 20190304       & 1267660800     & S14046         & 1152           & 2              & ZZ000000000000 & P090302118     & 1              &  6800          & 2             \\\\\n",
       "\t 20170921       & 1221955200     & S14028         & 1192           & 2              & CS028605000002 & P090907210     & 1              &  5780          & 3             \\\\\n",
       "\t 20170721       & 1216598400     & S13015         & 1112           & 1              & CS015515000034 & P090907208     & 1              &  5480          & 4             \\\\\n",
       "\t 20190103       & 1262476800     & S14021         & 1162           & 2              & ZZ000000000000 & P090907208     & 1              &  5480          & 4             \\\\\n",
       "\t 20190724       & 1279929600     & S13009         & 1192           & 2              & ZZ000000000000 & P090907209     & 1              &  5480          & 4             \\\\\n",
       "\t 20180621       & 1245542400     & S13004         & 1172           & 2              & ZZ000000000000 & P090907206     & 1              &  5440          & 7             \\\\\n",
       "\t 20190209       & 1265673600     & S14021         & 1142           & 2              & CS021515000089 & P090907206     & 1              &  5440          & 7             \\\\\n",
       "\t 20181219       & 1261180800     & S13015         & 1132           & 1              & CS015515000083 & P071301009     & 1              &  5280          & 9             \\\\\n",
       "\t 20180603       & 1243987200     & S13017         & 1192           & 1              & CS017414000114 & P071301009     & 1              &  5280          & 9             \\\\\n",
       "\\end{tabular}\n"
      ],
      "text/markdown": [
       "\n",
       "| sales_ymd | sales_epoch | store_cd | receipt_no | receipt_sub_no | customer_id | product_cd | quantity | amount | ranking |\n",
       "|---|---|---|---|---|---|---|---|---|---|\n",
       "| 20190903       | 1283472000     | S14011         | 1192           | 2              | CS011415000006 | P080104055     | 1              | 10925          | 1              |\n",
       "| 20190304       | 1267660800     | S14046         | 1152           | 2              | ZZ000000000000 | P090302118     | 1              |  6800          | 2              |\n",
       "| 20170921       | 1221955200     | S14028         | 1192           | 2              | CS028605000002 | P090907210     | 1              |  5780          | 3              |\n",
       "| 20170721       | 1216598400     | S13015         | 1112           | 1              | CS015515000034 | P090907208     | 1              |  5480          | 4              |\n",
       "| 20190103       | 1262476800     | S14021         | 1162           | 2              | ZZ000000000000 | P090907208     | 1              |  5480          | 4              |\n",
       "| 20190724       | 1279929600     | S13009         | 1192           | 2              | ZZ000000000000 | P090907209     | 1              |  5480          | 4              |\n",
       "| 20180621       | 1245542400     | S13004         | 1172           | 2              | ZZ000000000000 | P090907206     | 1              |  5440          | 7              |\n",
       "| 20190209       | 1265673600     | S14021         | 1142           | 2              | CS021515000089 | P090907206     | 1              |  5440          | 7              |\n",
       "| 20181219       | 1261180800     | S13015         | 1132           | 1              | CS015515000083 | P071301009     | 1              |  5280          | 9              |\n",
       "| 20180603       | 1243987200     | S13017         | 1192           | 1              | CS017414000114 | P071301009     | 1              |  5280          | 9              |\n",
       "\n"
      ],
      "text/plain": [
       "   sales_ymd sales_epoch store_cd receipt_no receipt_sub_no customer_id   \n",
       "1  20190903  1283472000  S14011   1192       2              CS011415000006\n",
       "2  20190304  1267660800  S14046   1152       2              ZZ000000000000\n",
       "3  20170921  1221955200  S14028   1192       2              CS028605000002\n",
       "4  20170721  1216598400  S13015   1112       1              CS015515000034\n",
       "5  20190103  1262476800  S14021   1162       2              ZZ000000000000\n",
       "6  20190724  1279929600  S13009   1192       2              ZZ000000000000\n",
       "7  20180621  1245542400  S13004   1172       2              ZZ000000000000\n",
       "8  20190209  1265673600  S14021   1142       2              CS021515000089\n",
       "9  20181219  1261180800  S13015   1132       1              CS015515000083\n",
       "10 20180603  1243987200  S13017   1192       1              CS017414000114\n",
       "   product_cd quantity amount ranking\n",
       "1  P080104055 1        10925  1      \n",
       "2  P090302118 1         6800  2      \n",
       "3  P090907210 1         5780  3      \n",
       "4  P090907208 1         5480  4      \n",
       "5  P090907208 1         5480  4      \n",
       "6  P090907209 1         5480  4      \n",
       "7  P090907206 1         5440  7      \n",
       "8  P090907206 1         5440  7      \n",
       "9  P071301009 1         5280  9      \n",
       "10 P071301009 1         5280  9      "
      ]
     },
     "metadata": {},
     "output_type": "display_data"
    }
   ],
   "source": [
    "df_receipt %>%\n",
    "    mutate(ranking = min_rank(desc(amount))) %>%\n",
    "    arrange(ranking) %>%\n",
    "    slice(1:10) \n",
    "# こんな処理が実質１行で書けるのは dplyr の威力ですね。\n",
    "# mutate() はデータセットに新たに変数を追加する関数\n",
    "# https://kazutan.github.io/kazutanR/hands_on_170730/mutate.html\n",
    "# arrange() は行をなら得変える\n",
    "# https://qiita.com/matsuou1/items/e995da273e3108e2338e\n",
    "# slice()　指定した行を切り出す。\n",
    "# https://hikaru1122.hatenadiary.jp/entry/2015/05/05/165831"
   ]
  },
  {
   "cell_type": "markdown",
   "metadata": {},
   "source": [
    "---\n",
    "> R-020: レシート明細データフレーム（df_receipt）に対し、1件あたりの売上金額（amount）が高い順にランクを付与し、先頭10件を抽出せよ。項目は顧客ID（customer_id）、売上金額（amount）、付与したランクを表示させること。なお、売上金額（amount）が等しい場合でも別順位を付与すること。"
   ]
  },
  {
   "cell_type": "code",
   "execution_count": 14,
   "metadata": {},
   "outputs": [
    {
     "data": {
      "text/html": [
       "<table>\n",
       "<thead><tr><th scope=col>sales_ymd</th><th scope=col>sales_epoch</th><th scope=col>store_cd</th><th scope=col>receipt_no</th><th scope=col>receipt_sub_no</th><th scope=col>customer_id</th><th scope=col>product_cd</th><th scope=col>quantity</th><th scope=col>amount</th><th scope=col>ranking</th></tr></thead>\n",
       "<tbody>\n",
       "\t<tr><td>20190903      </td><td>1283472000    </td><td>S14011        </td><td>1192          </td><td>2             </td><td>CS011415000006</td><td>P080104055    </td><td>1             </td><td>10925         </td><td> 1            </td></tr>\n",
       "\t<tr><td>20190304      </td><td>1267660800    </td><td>S14046        </td><td>1152          </td><td>2             </td><td>ZZ000000000000</td><td>P090302118    </td><td>1             </td><td> 6800         </td><td> 2            </td></tr>\n",
       "\t<tr><td>20170921      </td><td>1221955200    </td><td>S14028        </td><td>1192          </td><td>2             </td><td>CS028605000002</td><td>P090907210    </td><td>1             </td><td> 5780         </td><td> 3            </td></tr>\n",
       "\t<tr><td>20170721      </td><td>1216598400    </td><td>S13015        </td><td>1112          </td><td>1             </td><td>CS015515000034</td><td>P090907208    </td><td>1             </td><td> 5480         </td><td> 4            </td></tr>\n",
       "\t<tr><td>20190103      </td><td>1262476800    </td><td>S14021        </td><td>1162          </td><td>2             </td><td>ZZ000000000000</td><td>P090907208    </td><td>1             </td><td> 5480         </td><td> 5            </td></tr>\n",
       "\t<tr><td>20190724      </td><td>1279929600    </td><td>S13009        </td><td>1192          </td><td>2             </td><td>ZZ000000000000</td><td>P090907209    </td><td>1             </td><td> 5480         </td><td> 6            </td></tr>\n",
       "\t<tr><td>20180621      </td><td>1245542400    </td><td>S13004        </td><td>1172          </td><td>2             </td><td>ZZ000000000000</td><td>P090907206    </td><td>1             </td><td> 5440         </td><td> 7            </td></tr>\n",
       "\t<tr><td>20190209      </td><td>1265673600    </td><td>S14021        </td><td>1142          </td><td>2             </td><td>CS021515000089</td><td>P090907206    </td><td>1             </td><td> 5440         </td><td> 8            </td></tr>\n",
       "\t<tr><td>20181219      </td><td>1261180800    </td><td>S13015        </td><td>1132          </td><td>1             </td><td>CS015515000083</td><td>P071301009    </td><td>1             </td><td> 5280         </td><td> 9            </td></tr>\n",
       "\t<tr><td>20180603      </td><td>1243987200    </td><td>S13017        </td><td>1192          </td><td>1             </td><td>CS017414000114</td><td>P071301009    </td><td>1             </td><td> 5280         </td><td>10            </td></tr>\n",
       "</tbody>\n",
       "</table>\n"
      ],
      "text/latex": [
       "\\begin{tabular}{r|llllllllll}\n",
       " sales\\_ymd & sales\\_epoch & store\\_cd & receipt\\_no & receipt\\_sub\\_no & customer\\_id & product\\_cd & quantity & amount & ranking\\\\\n",
       "\\hline\n",
       "\t 20190903       & 1283472000     & S14011         & 1192           & 2              & CS011415000006 & P080104055     & 1              & 10925          &  1            \\\\\n",
       "\t 20190304       & 1267660800     & S14046         & 1152           & 2              & ZZ000000000000 & P090302118     & 1              &  6800          &  2            \\\\\n",
       "\t 20170921       & 1221955200     & S14028         & 1192           & 2              & CS028605000002 & P090907210     & 1              &  5780          &  3            \\\\\n",
       "\t 20170721       & 1216598400     & S13015         & 1112           & 1              & CS015515000034 & P090907208     & 1              &  5480          &  4            \\\\\n",
       "\t 20190103       & 1262476800     & S14021         & 1162           & 2              & ZZ000000000000 & P090907208     & 1              &  5480          &  5            \\\\\n",
       "\t 20190724       & 1279929600     & S13009         & 1192           & 2              & ZZ000000000000 & P090907209     & 1              &  5480          &  6            \\\\\n",
       "\t 20180621       & 1245542400     & S13004         & 1172           & 2              & ZZ000000000000 & P090907206     & 1              &  5440          &  7            \\\\\n",
       "\t 20190209       & 1265673600     & S14021         & 1142           & 2              & CS021515000089 & P090907206     & 1              &  5440          &  8            \\\\\n",
       "\t 20181219       & 1261180800     & S13015         & 1132           & 1              & CS015515000083 & P071301009     & 1              &  5280          &  9            \\\\\n",
       "\t 20180603       & 1243987200     & S13017         & 1192           & 1              & CS017414000114 & P071301009     & 1              &  5280          & 10            \\\\\n",
       "\\end{tabular}\n"
      ],
      "text/markdown": [
       "\n",
       "| sales_ymd | sales_epoch | store_cd | receipt_no | receipt_sub_no | customer_id | product_cd | quantity | amount | ranking |\n",
       "|---|---|---|---|---|---|---|---|---|---|\n",
       "| 20190903       | 1283472000     | S14011         | 1192           | 2              | CS011415000006 | P080104055     | 1              | 10925          |  1             |\n",
       "| 20190304       | 1267660800     | S14046         | 1152           | 2              | ZZ000000000000 | P090302118     | 1              |  6800          |  2             |\n",
       "| 20170921       | 1221955200     | S14028         | 1192           | 2              | CS028605000002 | P090907210     | 1              |  5780          |  3             |\n",
       "| 20170721       | 1216598400     | S13015         | 1112           | 1              | CS015515000034 | P090907208     | 1              |  5480          |  4             |\n",
       "| 20190103       | 1262476800     | S14021         | 1162           | 2              | ZZ000000000000 | P090907208     | 1              |  5480          |  5             |\n",
       "| 20190724       | 1279929600     | S13009         | 1192           | 2              | ZZ000000000000 | P090907209     | 1              |  5480          |  6             |\n",
       "| 20180621       | 1245542400     | S13004         | 1172           | 2              | ZZ000000000000 | P090907206     | 1              |  5440          |  7             |\n",
       "| 20190209       | 1265673600     | S14021         | 1142           | 2              | CS021515000089 | P090907206     | 1              |  5440          |  8             |\n",
       "| 20181219       | 1261180800     | S13015         | 1132           | 1              | CS015515000083 | P071301009     | 1              |  5280          |  9             |\n",
       "| 20180603       | 1243987200     | S13017         | 1192           | 1              | CS017414000114 | P071301009     | 1              |  5280          | 10             |\n",
       "\n"
      ],
      "text/plain": [
       "   sales_ymd sales_epoch store_cd receipt_no receipt_sub_no customer_id   \n",
       "1  20190903  1283472000  S14011   1192       2              CS011415000006\n",
       "2  20190304  1267660800  S14046   1152       2              ZZ000000000000\n",
       "3  20170921  1221955200  S14028   1192       2              CS028605000002\n",
       "4  20170721  1216598400  S13015   1112       1              CS015515000034\n",
       "5  20190103  1262476800  S14021   1162       2              ZZ000000000000\n",
       "6  20190724  1279929600  S13009   1192       2              ZZ000000000000\n",
       "7  20180621  1245542400  S13004   1172       2              ZZ000000000000\n",
       "8  20190209  1265673600  S14021   1142       2              CS021515000089\n",
       "9  20181219  1261180800  S13015   1132       1              CS015515000083\n",
       "10 20180603  1243987200  S13017   1192       1              CS017414000114\n",
       "   product_cd quantity amount ranking\n",
       "1  P080104055 1        10925   1     \n",
       "2  P090302118 1         6800   2     \n",
       "3  P090907210 1         5780   3     \n",
       "4  P090907208 1         5480   4     \n",
       "5  P090907208 1         5480   5     \n",
       "6  P090907209 1         5480   6     \n",
       "7  P090907206 1         5440   7     \n",
       "8  P090907206 1         5440   8     \n",
       "9  P071301009 1         5280   9     \n",
       "10 P071301009 1         5280  10     "
      ]
     },
     "metadata": {},
     "output_type": "display_data"
    }
   ],
   "source": [
    "df_receipt %>%\n",
    "    mutate(ranking = row_number(desc(amount))) %>%\n",
    "    arrange(ranking) %>%\n",
    "    slice(1:10) \n",
    "# mutate()関数の引数で使うランキング関数\n",
    "# https://qiita.com/matsuou1/items/db6e8c48fcfd791dd876"
   ]
  },
  {
   "cell_type": "markdown",
   "metadata": {},
   "source": [
    "### 主なランキング関数  \n",
    "<table border=\"1\" align=\"left\" widtd=600>\n",
    "<tr>\n",
    "    <th widtd=100>関数</th>\n",
    "    <th>説明</th>\n",
    "<tr>\n",
    "    <td>row_number</td>\n",
    "    <td>昇順にランキングを付ける。同じ値がある場合は、最初に来た方を優先</td>\n",
    "<tr>\n",
    "    <td>min_rank</td>\n",
    "    <td>昇順にランキングを付ける。同じ値がある場合は、同じ順位を付ける。gapあり</td>\n",
    "<tr>\n",
    "    <td>dense_rank</td>\n",
    "    <td>昇順にランキングを付ける。同じ値がある場合は、同じ順位を付ける。gapなし</td>\n",
    "<tr>\n",
    "    <td>percent_rank</td>\n",
    "    <td>min_rankを0～1にリスケールしたもの</td>\n",
    "<tr>\n",
    "    <td>cume_dist</td>\n",
    "    <td>累積割合。percent_rankの累積和ではない。</td>\n",
    "<tr>\n",
    "    <td>ntile</td>\n",
    "    <td>n個の群に分割する</td>\n",
    "</table>"
   ]
  },
  {
   "cell_type": "code",
   "execution_count": null,
   "metadata": {},
   "outputs": [],
   "source": []
  }
 ],
 "metadata": {
  "kernelspec": {
   "display_name": "R",
   "language": "R",
   "name": "ir"
  },
  "language_info": {
   "codemirror_mode": "r",
   "file_extension": ".r",
   "mimetype": "text/x-r-source",
   "name": "R",
   "pygments_lexer": "r",
   "version": "3.6.1"
  }
 },
 "nbformat": 4,
 "nbformat_minor": 4
}
