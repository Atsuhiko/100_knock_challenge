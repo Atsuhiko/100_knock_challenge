{
 "cells": [
  {
   "cell_type": "markdown",
   "metadata": {},
   "source": [
    "# データサイエンス100本ノック（構造化データ加工編） - R"
   ]
  },
  {
   "cell_type": "markdown",
   "metadata": {},
   "source": [
    "## はじめに\n",
    "- 初めに以下のセルを実行してください\n",
    "- 必要なライブラリのインポートとCSVファイルからのデータ読み込みを行います\n",
    "- 利用が想定されるライブラリは以下セルでインポートしています\n",
    "- その他利用したいライブラリがあれば適宜インストールしてください（!マークに続けてOSコマンドを入力することで、任意のubuntu Linuxコマンドが入力可能）\n",
    "- 名前、住所等はダミーデータであり、実在するものではありません"
   ]
  },
  {
   "cell_type": "code",
   "execution_count": 1,
   "metadata": {
    "scrolled": true
   },
   "outputs": [
    {
     "name": "stderr",
     "output_type": "stream",
     "text": [
      "Loading required package: tidyr\n",
      "Warning message:\n",
      "\"package 'tidyr' was built under R version 3.6.3\"Loading required package: dplyr\n",
      "Warning message:\n",
      "\"package 'dplyr' was built under R version 3.6.3\"\n",
      "Attaching package: 'dplyr'\n",
      "\n",
      "The following objects are masked from 'package:stats':\n",
      "\n",
      "    filter, lag\n",
      "\n",
      "The following objects are masked from 'package:base':\n",
      "\n",
      "    intersect, setdiff, setequal, union\n",
      "\n",
      "Loading required package: stringr\n",
      "Warning message:\n",
      "\"package 'stringr' was built under R version 3.6.3\"Loading required package: caret\n",
      "Warning message:\n",
      "\"package 'caret' was built under R version 3.6.3\"Loading required package: lattice\n",
      "Loading required package: ggplot2\n",
      "Warning message:\n",
      "\"package 'ggplot2' was built under R version 3.6.3\"Loading required package: lubridate\n",
      "\n",
      "Attaching package: 'lubridate'\n",
      "\n",
      "The following object is masked from 'package:base':\n",
      "\n",
      "    date\n",
      "\n",
      "Loading required package: rsample\n",
      "Warning message in library(package, lib.loc = lib.loc, character.only = TRUE, logical.return = TRUE, :\n",
      "\"there is no package called 'rsample'\"Loading required package: unbalanced\n",
      "Warning message in library(package, lib.loc = lib.loc, character.only = TRUE, logical.return = TRUE, :\n",
      "\"there is no package called 'unbalanced'\""
     ]
    }
   ],
   "source": [
    "# require('RPostgreSQL')\n",
    "require('tidyr')\n",
    "require('dplyr')\n",
    "require('stringr')\n",
    "require('caret')\n",
    "require('lubridate')\n",
    "require('rsample')\n",
    "require('unbalanced')\n",
    "\n",
    "# host <- 'db'\n",
    "# port <- Sys.getenv()[\"PG_PORT\"]\n",
    "# dbname <- Sys.getenv()[\"PG_DATABASE\"]\n",
    "# user <- Sys.getenv()[\"PG_USER\"]\n",
    "# password <- Sys.getenv()[\"PG_PASSWORD\"]\n",
    "\n",
    "# con <- dbConnect(PostgreSQL(), host=host, port=port, dbname=dbname, user=user, password=password)\n",
    "# df_customer <- dbGetQuery(con,\"SELECT * FROM customer\")\n",
    "# df_category <- dbGetQuery(con,\"SELECT * FROM category\")\n",
    "# df_product <- dbGetQuery(con,\"SELECT * FROM product\")\n",
    "# df_receipt <- dbGetQuery(con,\"SELECT * FROM receipt\")\n",
    "# df_store <- dbGetQuery(con,\"SELECT * FROM store\")\n",
    "# df_geocode <- dbGetQuery(con,\"SELECT * FROM geocode\")"
   ]
  },
  {
   "cell_type": "code",
   "execution_count": 2,
   "metadata": {},
   "outputs": [
    {
     "data": {
      "text/html": [
       "<table>\n",
       "<thead><tr><th scope=col>customer_id</th><th scope=col>customer_name</th><th scope=col>gender_cd</th><th scope=col>gender</th><th scope=col>birth_day</th><th scope=col>age</th><th scope=col>postal_cd</th><th scope=col>address</th><th scope=col>application_store_cd</th><th scope=col>application_date</th><th scope=col>status_cd</th></tr></thead>\n",
       "<tbody>\n",
       "\t<tr><td>CS021313000114                    </td><td>大野 あや子,1                     </td><td>女性                              </td><td>1981-04-29                        </td><td>37                                </td><td>259-1113                          </td><td>神奈川県伊勢原市粟窪**********    </td><td>S14021                            </td><td>20150905                          </td><td>0-00000000-0                      </td><td>                                  </td></tr>\n",
       "\t<tr><td>CS037613000071                    </td><td>六角 雅彦                         </td><td>9                                 </td><td>不明                              </td><td>1952-04-01                        </td><td>66                                </td><td>136-0076                          </td><td>東京都江東区南砂**********        </td><td>S13037                            </td><td>20150414                          </td><td>0-00000000-0                      </td></tr>\n",
       "\t<tr><td>CS031415000172                    </td><td>宇多田 貴美子,1                   </td><td>女性                              </td><td>1976-10-04                        </td><td>42                                </td><td>151-0053                          </td><td>東京都渋谷区代々木**********      </td><td>S13031                            </td><td>20150529                          </td><td>D-20100325-C                      </td><td>                                  </td></tr>\n",
       "\t<tr><td>CS028811000001                    </td><td>堀井 かおり,1                     </td><td>女性                              </td><td>1933-03-27                        </td><td>86                                </td><td>245-0016                          </td><td>神奈川県横浜市泉区和泉町**********</td><td>S14028                            </td><td>20160115                          </td><td>0-00000000-0                      </td><td>                                  </td></tr>\n",
       "\t<tr><td>CS001215000145                    </td><td>田崎 美紀                         </td><td>1                                 </td><td>女性                              </td><td>1995-03-29                        </td><td>24                                </td><td>144-0055                          </td><td>東京都大田区仲六郷**********      </td><td>S13001                            </td><td>20170605                          </td><td>6-20090929-2                      </td></tr>\n",
       "</tbody>\n",
       "</table>\n"
      ],
      "text/latex": [
       "\\begin{tabular}{r|lllllllllll}\n",
       " customer\\_id & customer\\_name & gender\\_cd & gender & birth\\_day & age & postal\\_cd & address & application\\_store\\_cd & application\\_date & status\\_cd\\\\\n",
       "\\hline\n",
       "\t CS021313000114                     & 大野 あや子,1                      & 女性                               & 1981-04-29                         & 37                                 & 259-1113                           & 神奈川県伊勢原市粟窪**********     & S14021                             & 20150905                           & 0-00000000-0                       &                                   \\\\\n",
       "\t CS037613000071                     & 六角 雅彦                          & 9                                  & 不明                               & 1952-04-01                         & 66                                 & 136-0076                           & 東京都江東区南砂**********         & S13037                             & 20150414                           & 0-00000000-0                      \\\\\n",
       "\t CS031415000172                     & 宇多田 貴美子,1                    & 女性                               & 1976-10-04                         & 42                                 & 151-0053                           & 東京都渋谷区代々木**********       & S13031                             & 20150529                           & D-20100325-C                       &                                   \\\\\n",
       "\t CS028811000001                     & 堀井 かおり,1                      & 女性                               & 1933-03-27                         & 86                                 & 245-0016                           & 神奈川県横浜市泉区和泉町********** & S14028                             & 20160115                           & 0-00000000-0                       &                                   \\\\\n",
       "\t CS001215000145                     & 田崎 美紀                          & 1                                  & 女性                               & 1995-03-29                         & 24                                 & 144-0055                           & 東京都大田区仲六郷**********       & S13001                             & 20170605                           & 6-20090929-2                      \\\\\n",
       "\\end{tabular}\n"
      ],
      "text/markdown": [
       "\n",
       "| customer_id | customer_name | gender_cd | gender | birth_day | age | postal_cd | address | application_store_cd | application_date | status_cd |\n",
       "|---|---|---|---|---|---|---|---|---|---|---|\n",
       "| CS021313000114                     | 大野 あや子,1                      | 女性                               | 1981-04-29                         | 37                                 | 259-1113                           | 神奈川県伊勢原市粟窪**********     | S14021                             | 20150905                           | 0-00000000-0                       |                                    |\n",
       "| CS037613000071                     | 六角 雅彦                          | 9                                  | 不明                               | 1952-04-01                         | 66                                 | 136-0076                           | 東京都江東区南砂**********         | S13037                             | 20150414                           | 0-00000000-0                       |\n",
       "| CS031415000172                     | 宇多田 貴美子,1                    | 女性                               | 1976-10-04                         | 42                                 | 151-0053                           | 東京都渋谷区代々木**********       | S13031                             | 20150529                           | D-20100325-C                       |                                    |\n",
       "| CS028811000001                     | 堀井 かおり,1                      | 女性                               | 1933-03-27                         | 86                                 | 245-0016                           | 神奈川県横浜市泉区和泉町********** | S14028                             | 20160115                           | 0-00000000-0                       |                                    |\n",
       "| CS001215000145                     | 田崎 美紀                          | 1                                  | 女性                               | 1995-03-29                         | 24                                 | 144-0055                           | 東京都大田区仲六郷**********       | S13001                             | 20170605                           | 6-20090929-2                       |\n",
       "\n"
      ],
      "text/plain": [
       "  customer_id    customer_name   gender_cd gender     birth_day  age     \n",
       "1 CS021313000114 大野 あや子,1   女性      1981-04-29 37         259-1113\n",
       "2 CS037613000071 六角 雅彦       9         不明       1952-04-01 66      \n",
       "3 CS031415000172 宇多田 貴美子,1 女性      1976-10-04 42         151-0053\n",
       "4 CS028811000001 堀井 かおり,1   女性      1933-03-27 86         245-0016\n",
       "5 CS001215000145 田崎 美紀       1         女性       1995-03-29 24      \n",
       "  postal_cd                          address                     \n",
       "1 神奈川県伊勢原市粟窪**********     S14021                      \n",
       "2 136-0076                           東京都江東区南砂**********  \n",
       "3 東京都渋谷区代々木**********       S13031                      \n",
       "4 神奈川県横浜市泉区和泉町********** S14028                      \n",
       "5 144-0055                           東京都大田区仲六郷**********\n",
       "  application_store_cd application_date status_cd   \n",
       "1 20150905             0-00000000-0                 \n",
       "2 S13037               20150414         0-00000000-0\n",
       "3 20150529             D-20100325-C                 \n",
       "4 20160115             0-00000000-0                 \n",
       "5 S13001               20170605         6-20090929-2"
      ]
     },
     "metadata": {},
     "output_type": "display_data"
    }
   ],
   "source": [
    "df_customer <- read.csv(\"./data/customer.csv\", encoding=\"UTF-8\")\n",
    "head(df_customer, n = 5)"
   ]
  },
  {
   "cell_type": "code",
   "execution_count": 3,
   "metadata": {},
   "outputs": [
    {
     "data": {
      "text/html": [
       "<table>\n",
       "<thead><tr><th scope=col>category_major_cd</th><th scope=col>category_major_name</th><th scope=col>category_medium_cd</th><th scope=col>category_medium_name</th><th scope=col>category_small_cd</th><th scope=col>category_small_name</th></tr></thead>\n",
       "<tbody>\n",
       "\t<tr><td>4         </td><td>惣菜      </td><td>401       </td><td>御飯類    </td><td>40101     </td><td>弁当類    </td></tr>\n",
       "\t<tr><td>4         </td><td>惣菜      </td><td>401       </td><td>御飯類    </td><td>40102     </td><td>寿司類    </td></tr>\n",
       "\t<tr><td>4         </td><td>惣菜      </td><td>402       </td><td>佃煮類    </td><td>40201     </td><td>魚介佃煮類</td></tr>\n",
       "\t<tr><td>4         </td><td>惣菜      </td><td>402       </td><td>佃煮類    </td><td>40202     </td><td>海草佃煮類</td></tr>\n",
       "\t<tr><td>4         </td><td>惣菜      </td><td>402       </td><td>佃煮類    </td><td>40203     </td><td>野菜佃煮類</td></tr>\n",
       "</tbody>\n",
       "</table>\n"
      ],
      "text/latex": [
       "\\begin{tabular}{r|llllll}\n",
       " category\\_major\\_cd & category\\_major\\_name & category\\_medium\\_cd & category\\_medium\\_name & category\\_small\\_cd & category\\_small\\_name\\\\\n",
       "\\hline\n",
       "\t 4          & 惣菜       & 401        & 御飯類     & 40101      & 弁当類    \\\\\n",
       "\t 4          & 惣菜       & 401        & 御飯類     & 40102      & 寿司類    \\\\\n",
       "\t 4          & 惣菜       & 402        & 佃煮類     & 40201      & 魚介佃煮類\\\\\n",
       "\t 4          & 惣菜       & 402        & 佃煮類     & 40202      & 海草佃煮類\\\\\n",
       "\t 4          & 惣菜       & 402        & 佃煮類     & 40203      & 野菜佃煮類\\\\\n",
       "\\end{tabular}\n"
      ],
      "text/markdown": [
       "\n",
       "| category_major_cd | category_major_name | category_medium_cd | category_medium_name | category_small_cd | category_small_name |\n",
       "|---|---|---|---|---|---|\n",
       "| 4          | 惣菜       | 401        | 御飯類     | 40101      | 弁当類     |\n",
       "| 4          | 惣菜       | 401        | 御飯類     | 40102      | 寿司類     |\n",
       "| 4          | 惣菜       | 402        | 佃煮類     | 40201      | 魚介佃煮類 |\n",
       "| 4          | 惣菜       | 402        | 佃煮類     | 40202      | 海草佃煮類 |\n",
       "| 4          | 惣菜       | 402        | 佃煮類     | 40203      | 野菜佃煮類 |\n",
       "\n"
      ],
      "text/plain": [
       "  category_major_cd category_major_name category_medium_cd category_medium_name\n",
       "1 4                 惣菜                401                御飯類              \n",
       "2 4                 惣菜                401                御飯類              \n",
       "3 4                 惣菜                402                佃煮類              \n",
       "4 4                 惣菜                402                佃煮類              \n",
       "5 4                 惣菜                402                佃煮類              \n",
       "  category_small_cd category_small_name\n",
       "1 40101             弁当類             \n",
       "2 40102             寿司類             \n",
       "3 40201             魚介佃煮類         \n",
       "4 40202             海草佃煮類         \n",
       "5 40203             野菜佃煮類         "
      ]
     },
     "metadata": {},
     "output_type": "display_data"
    }
   ],
   "source": [
    "# df_category <- read.csv(\"./data/category.csv\", encoding=\"UTF-8\")\n",
    "df_category <- read.csv(\"./data/category.csv\", encoding=\"shift-jis\") # エラーがでたので文字コードを変更\n",
    "head(df_category, n = 5)"
   ]
  },
  {
   "cell_type": "code",
   "execution_count": 4,
   "metadata": {},
   "outputs": [
    {
     "data": {
      "text/html": [
       "<table>\n",
       "<thead><tr><th scope=col>X.U.FEFF.product_cd</th><th scope=col>category_major_cd</th><th scope=col>category_medium_cd</th><th scope=col>category_small_cd</th><th scope=col>unit_price</th><th scope=col>unit_cost</th></tr></thead>\n",
       "<tbody>\n",
       "\t<tr><td>P040101001</td><td>4         </td><td>401       </td><td>40101     </td><td>198       </td><td>149       </td></tr>\n",
       "\t<tr><td>P040101002</td><td>4         </td><td>401       </td><td>40101     </td><td>218       </td><td>164       </td></tr>\n",
       "\t<tr><td>P040101003</td><td>4         </td><td>401       </td><td>40101     </td><td>230       </td><td>173       </td></tr>\n",
       "\t<tr><td>P040101004</td><td>4         </td><td>401       </td><td>40101     </td><td>248       </td><td>186       </td></tr>\n",
       "\t<tr><td>P040101005</td><td>4         </td><td>401       </td><td>40101     </td><td>268       </td><td>201       </td></tr>\n",
       "</tbody>\n",
       "</table>\n"
      ],
      "text/latex": [
       "\\begin{tabular}{r|llllll}\n",
       " X.U.FEFF.product\\_cd & category\\_major\\_cd & category\\_medium\\_cd & category\\_small\\_cd & unit\\_price & unit\\_cost\\\\\n",
       "\\hline\n",
       "\t P040101001 & 4          & 401        & 40101      & 198        & 149       \\\\\n",
       "\t P040101002 & 4          & 401        & 40101      & 218        & 164       \\\\\n",
       "\t P040101003 & 4          & 401        & 40101      & 230        & 173       \\\\\n",
       "\t P040101004 & 4          & 401        & 40101      & 248        & 186       \\\\\n",
       "\t P040101005 & 4          & 401        & 40101      & 268        & 201       \\\\\n",
       "\\end{tabular}\n"
      ],
      "text/markdown": [
       "\n",
       "| X.U.FEFF.product_cd | category_major_cd | category_medium_cd | category_small_cd | unit_price | unit_cost |\n",
       "|---|---|---|---|---|---|\n",
       "| P040101001 | 4          | 401        | 40101      | 198        | 149        |\n",
       "| P040101002 | 4          | 401        | 40101      | 218        | 164        |\n",
       "| P040101003 | 4          | 401        | 40101      | 230        | 173        |\n",
       "| P040101004 | 4          | 401        | 40101      | 248        | 186        |\n",
       "| P040101005 | 4          | 401        | 40101      | 268        | 201        |\n",
       "\n"
      ],
      "text/plain": [
       "  X.U.FEFF.product_cd category_major_cd category_medium_cd category_small_cd\n",
       "1 P040101001          4                 401                40101            \n",
       "2 P040101002          4                 401                40101            \n",
       "3 P040101003          4                 401                40101            \n",
       "4 P040101004          4                 401                40101            \n",
       "5 P040101005          4                 401                40101            \n",
       "  unit_price unit_cost\n",
       "1 198        149      \n",
       "2 218        164      \n",
       "3 230        173      \n",
       "4 248        186      \n",
       "5 268        201      "
      ]
     },
     "metadata": {},
     "output_type": "display_data"
    }
   ],
   "source": [
    "df_product <- read.csv(\"./data/product.csv\", encoding=\"UTF-8\")\n",
    "head(df_product, n = 5)"
   ]
  },
  {
   "cell_type": "code",
   "execution_count": 5,
   "metadata": {},
   "outputs": [
    {
     "data": {
      "text/html": [
       "<table>\n",
       "<thead><tr><th scope=col>sales_ymd</th><th scope=col>sales_epoch</th><th scope=col>store_cd</th><th scope=col>receipt_no</th><th scope=col>receipt_sub_no</th><th scope=col>customer_id</th><th scope=col>product_cd</th><th scope=col>quantity</th><th scope=col>amount</th></tr></thead>\n",
       "<tbody>\n",
       "\t<tr><td>20181103      </td><td>1257206400    </td><td>S14006        </td><td> 112          </td><td>1             </td><td>CS006214000001</td><td>P070305012    </td><td>1             </td><td>158           </td></tr>\n",
       "\t<tr><td>20181118      </td><td>1258502400    </td><td>S13008        </td><td>1132          </td><td>2             </td><td>CS008415000097</td><td>P070701017    </td><td>1             </td><td> 81           </td></tr>\n",
       "\t<tr><td>20170712      </td><td>1215820800    </td><td>S14028        </td><td>1102          </td><td>1             </td><td>CS028414000014</td><td>P060101005    </td><td>1             </td><td>170           </td></tr>\n",
       "\t<tr><td>20190205      </td><td>1265328000    </td><td>S14042        </td><td>1132          </td><td>1             </td><td>ZZ000000000000</td><td>P050301001    </td><td>1             </td><td> 25           </td></tr>\n",
       "\t<tr><td>20180821      </td><td>1250812800    </td><td>S14025        </td><td>1102          </td><td>2             </td><td>CS025415000050</td><td>P060102007    </td><td>1             </td><td> 90           </td></tr>\n",
       "</tbody>\n",
       "</table>\n"
      ],
      "text/latex": [
       "\\begin{tabular}{r|lllllllll}\n",
       " sales\\_ymd & sales\\_epoch & store\\_cd & receipt\\_no & receipt\\_sub\\_no & customer\\_id & product\\_cd & quantity & amount\\\\\n",
       "\\hline\n",
       "\t 20181103       & 1257206400     & S14006         &  112           & 1              & CS006214000001 & P070305012     & 1              & 158           \\\\\n",
       "\t 20181118       & 1258502400     & S13008         & 1132           & 2              & CS008415000097 & P070701017     & 1              &  81           \\\\\n",
       "\t 20170712       & 1215820800     & S14028         & 1102           & 1              & CS028414000014 & P060101005     & 1              & 170           \\\\\n",
       "\t 20190205       & 1265328000     & S14042         & 1132           & 1              & ZZ000000000000 & P050301001     & 1              &  25           \\\\\n",
       "\t 20180821       & 1250812800     & S14025         & 1102           & 2              & CS025415000050 & P060102007     & 1              &  90           \\\\\n",
       "\\end{tabular}\n"
      ],
      "text/markdown": [
       "\n",
       "| sales_ymd | sales_epoch | store_cd | receipt_no | receipt_sub_no | customer_id | product_cd | quantity | amount |\n",
       "|---|---|---|---|---|---|---|---|---|\n",
       "| 20181103       | 1257206400     | S14006         |  112           | 1              | CS006214000001 | P070305012     | 1              | 158            |\n",
       "| 20181118       | 1258502400     | S13008         | 1132           | 2              | CS008415000097 | P070701017     | 1              |  81            |\n",
       "| 20170712       | 1215820800     | S14028         | 1102           | 1              | CS028414000014 | P060101005     | 1              | 170            |\n",
       "| 20190205       | 1265328000     | S14042         | 1132           | 1              | ZZ000000000000 | P050301001     | 1              |  25            |\n",
       "| 20180821       | 1250812800     | S14025         | 1102           | 2              | CS025415000050 | P060102007     | 1              |  90            |\n",
       "\n"
      ],
      "text/plain": [
       "  sales_ymd sales_epoch store_cd receipt_no receipt_sub_no customer_id   \n",
       "1 20181103  1257206400  S14006    112       1              CS006214000001\n",
       "2 20181118  1258502400  S13008   1132       2              CS008415000097\n",
       "3 20170712  1215820800  S14028   1102       1              CS028414000014\n",
       "4 20190205  1265328000  S14042   1132       1              ZZ000000000000\n",
       "5 20180821  1250812800  S14025   1102       2              CS025415000050\n",
       "  product_cd quantity amount\n",
       "1 P070305012 1        158   \n",
       "2 P070701017 1         81   \n",
       "3 P060101005 1        170   \n",
       "4 P050301001 1         25   \n",
       "5 P060102007 1         90   "
      ]
     },
     "metadata": {},
     "output_type": "display_data"
    }
   ],
   "source": [
    "df_receipt <- read.csv(\"./data/receipt.csv\", encoding=\"UTF-8\")\n",
    "head(df_receipt, n = 5)"
   ]
  },
  {
   "cell_type": "code",
   "execution_count": 6,
   "metadata": {},
   "outputs": [
    {
     "data": {
      "text/html": [
       "<table>\n",
       "<thead><tr><th scope=col>store_cd</th><th scope=col>store_name</th><th scope=col>prefecture_cd</th><th scope=col>prefecture</th><th scope=col>address</th><th scope=col>address_kana</th><th scope=col>tel_no</th><th scope=col>longitude</th><th scope=col>latitude</th><th scope=col>floor_area</th></tr></thead>\n",
       "<tbody>\n",
       "\t<tr><td>S12014                                            </td><td>千草台店                                          </td><td>12                                                </td><td>千葉県                                            </td><td>千葉県千葉市稲毛区千草台一丁目                    </td><td>チバケンチバシイナゲクチグサダイイッチョウメ      </td><td>043-123-4003                                      </td><td>140.1180                                          </td><td>35.63559                                          </td><td>1698                                              </td></tr>\n",
       "\t<tr><td>S13002                                            </td><td>国分寺店                                          </td><td>13                                                </td><td>東京都                                            </td><td>東京都国分寺市本多二丁目                          </td><td>トウキョウトコクブンジシホンダニチョウメ          </td><td>042-123-4008                                      </td><td>139.4802                                          </td><td>35.70566                                          </td><td>1735                                              </td></tr>\n",
       "\t<tr><td>S14010                                            </td><td>菊名店                                            </td><td>14                                                </td><td>神奈川県                                          </td><td>神奈川県横浜市港北区菊名一丁目                    </td><td>カナガワケンヨコハマシコウホククキクナイッチョウメ</td><td>045-123-4032                                      </td><td>139.6326                                          </td><td>35.50049                                          </td><td>1732                                              </td></tr>\n",
       "\t<tr><td>S14033                                            </td><td>阿久和店                                          </td><td>14                                                </td><td>神奈川県                                          </td><td>神奈川県横浜市瀬谷区阿久和西一丁目                </td><td>カナガワケンヨコハマシセヤクアクワニシイッチョウメ</td><td>045-123-4043                                      </td><td>139.4961                                          </td><td>35.45918                                          </td><td>1495                                              </td></tr>\n",
       "\t<tr><td>S14036                                            </td><td>相模原中央店                                      </td><td>14                                                </td><td>神奈川県                                          </td><td>神奈川県相模原市中央二丁目                        </td><td>カナガワケンサガミハラシチュウオウニチョウメ      </td><td>042-123-4045                                      </td><td>139.3716                                          </td><td>35.57327                                          </td><td>1679                                              </td></tr>\n",
       "</tbody>\n",
       "</table>\n"
      ],
      "text/latex": [
       "\\begin{tabular}{r|llllllllll}\n",
       " store\\_cd & store\\_name & prefecture\\_cd & prefecture & address & address\\_kana & tel\\_no & longitude & latitude & floor\\_area\\\\\n",
       "\\hline\n",
       "\t S12014                                             & 千草台店                                           & 12                                                 & 千葉県                                             & 千葉県千葉市稲毛区千草台一丁目                     & チバケンチバシイナゲクチグサダイイッチョウメ       & 043-123-4003                                       & 140.1180                                           & 35.63559                                           & 1698                                              \\\\\n",
       "\t S13002                                             & 国分寺店                                           & 13                                                 & 東京都                                             & 東京都国分寺市本多二丁目                           & トウキョウトコクブンジシホンダニチョウメ           & 042-123-4008                                       & 139.4802                                           & 35.70566                                           & 1735                                              \\\\\n",
       "\t S14010                                             & 菊名店                                             & 14                                                 & 神奈川県                                           & 神奈川県横浜市港北区菊名一丁目                     & カナガワケンヨコハマシコウホククキクナイッチョウメ & 045-123-4032                                       & 139.6326                                           & 35.50049                                           & 1732                                              \\\\\n",
       "\t S14033                                             & 阿久和店                                           & 14                                                 & 神奈川県                                           & 神奈川県横浜市瀬谷区阿久和西一丁目                 & カナガワケンヨコハマシセヤクアクワニシイッチョウメ & 045-123-4043                                       & 139.4961                                           & 35.45918                                           & 1495                                              \\\\\n",
       "\t S14036                                             & 相模原中央店                                       & 14                                                 & 神奈川県                                           & 神奈川県相模原市中央二丁目                         & カナガワケンサガミハラシチュウオウニチョウメ       & 042-123-4045                                       & 139.3716                                           & 35.57327                                           & 1679                                              \\\\\n",
       "\\end{tabular}\n"
      ],
      "text/markdown": [
       "\n",
       "| store_cd | store_name | prefecture_cd | prefecture | address | address_kana | tel_no | longitude | latitude | floor_area |\n",
       "|---|---|---|---|---|---|---|---|---|---|\n",
       "| S12014                                             | 千草台店                                           | 12                                                 | 千葉県                                             | 千葉県千葉市稲毛区千草台一丁目                     | チバケンチバシイナゲクチグサダイイッチョウメ       | 043-123-4003                                       | 140.1180                                           | 35.63559                                           | 1698                                               |\n",
       "| S13002                                             | 国分寺店                                           | 13                                                 | 東京都                                             | 東京都国分寺市本多二丁目                           | トウキョウトコクブンジシホンダニチョウメ           | 042-123-4008                                       | 139.4802                                           | 35.70566                                           | 1735                                               |\n",
       "| S14010                                             | 菊名店                                             | 14                                                 | 神奈川県                                           | 神奈川県横浜市港北区菊名一丁目                     | カナガワケンヨコハマシコウホククキクナイッチョウメ | 045-123-4032                                       | 139.6326                                           | 35.50049                                           | 1732                                               |\n",
       "| S14033                                             | 阿久和店                                           | 14                                                 | 神奈川県                                           | 神奈川県横浜市瀬谷区阿久和西一丁目                 | カナガワケンヨコハマシセヤクアクワニシイッチョウメ | 045-123-4043                                       | 139.4961                                           | 35.45918                                           | 1495                                               |\n",
       "| S14036                                             | 相模原中央店                                       | 14                                                 | 神奈川県                                           | 神奈川県相模原市中央二丁目                         | カナガワケンサガミハラシチュウオウニチョウメ       | 042-123-4045                                       | 139.3716                                           | 35.57327                                           | 1679                                               |\n",
       "\n"
      ],
      "text/plain": [
       "  store_cd store_name   prefecture_cd prefecture\n",
       "1 S12014   千草台店     12            千葉県    \n",
       "2 S13002   国分寺店     13            東京都    \n",
       "3 S14010   菊名店       14            神奈川県  \n",
       "4 S14033   阿久和店     14            神奈川県  \n",
       "5 S14036   相模原中央店 14            神奈川県  \n",
       "  address                           \n",
       "1 千葉県千葉市稲毛区千草台一丁目    \n",
       "2 東京都国分寺市本多二丁目          \n",
       "3 神奈川県横浜市港北区菊名一丁目    \n",
       "4 神奈川県横浜市瀬谷区阿久和西一丁目\n",
       "5 神奈川県相模原市中央二丁目        \n",
       "  address_kana                                       tel_no       longitude\n",
       "1 チバケンチバシイナゲクチグサダイイッチョウメ       043-123-4003 140.1180 \n",
       "2 トウキョウトコクブンジシホンダニチョウメ           042-123-4008 139.4802 \n",
       "3 カナガワケンヨコハマシコウホククキクナイッチョウメ 045-123-4032 139.6326 \n",
       "4 カナガワケンヨコハマシセヤクアクワニシイッチョウメ 045-123-4043 139.4961 \n",
       "5 カナガワケンサガミハラシチュウオウニチョウメ       042-123-4045 139.3716 \n",
       "  latitude floor_area\n",
       "1 35.63559 1698      \n",
       "2 35.70566 1735      \n",
       "3 35.50049 1732      \n",
       "4 35.45918 1495      \n",
       "5 35.57327 1679      "
      ]
     },
     "metadata": {},
     "output_type": "display_data"
    }
   ],
   "source": [
    "df_store <- read.csv(\"./data/store.csv\", encoding=\"shift-jis\") # 正常に読まなかったので文字コードを変換した\n",
    "head(df_store, n = 5)"
   ]
  },
  {
   "cell_type": "code",
   "execution_count": 7,
   "metadata": {},
   "outputs": [
    {
     "data": {
      "text/html": [
       "<table>\n",
       "<thead><tr><th scope=col>X.U.FEFF.postal_cd</th><th scope=col>prefecture</th><th scope=col>city</th><th scope=col>town</th><th scope=col>street</th><th scope=col>address</th><th scope=col>full_address</th><th scope=col>longitude</th><th scope=col>latitude</th></tr></thead>\n",
       "<tbody>\n",
       "\t<tr><td>060-0000                          </td><td>北海道,札幌市中央区               </td><td>                                  </td><td>                                  </td><td>                                  </td><td>北海道札幌市中央区                </td><td>141.34103                         </td><td>43.05513                          </td><td>NA                                </td></tr>\n",
       "\t<tr><td>064-0941                          </td><td>北海道,札幌市中央区               </td><td>旭ケ丘,                           </td><td>                                  </td><td>北海道札幌市中央区旭ケ丘,141.31972</td><td>43.04223                          </td><td>                                  </td><td>      NA                          </td><td>NA                                </td></tr>\n",
       "\t<tr><td>060-0042                          </td><td>北海道,札幌市中央区               </td><td>大通西                            </td><td>                                  </td><td>１丁目                            </td><td>北海道札幌市中央区大通西１丁目    </td><td>141.35637                         </td><td>43.06102                          </td><td>NA                                </td></tr>\n",
       "\t<tr><td>060-0042                          </td><td>北海道,札幌市中央区               </td><td>大通西                            </td><td>                                  </td><td>２丁目                            </td><td>北海道札幌市中央区大通西２丁目    </td><td>141.35445                         </td><td>43.06080                          </td><td>NA                                </td></tr>\n",
       "\t<tr><td>060-0042                          </td><td>北海道,札幌市中央区               </td><td>大通西                            </td><td>                                  </td><td>３丁目                            </td><td>北海道札幌市中央区大通西３丁目    </td><td>141.35275                         </td><td>43.06086                          </td><td>NA                                </td></tr>\n",
       "</tbody>\n",
       "</table>\n"
      ],
      "text/latex": [
       "\\begin{tabular}{r|lllllllll}\n",
       " X.U.FEFF.postal\\_cd & prefecture & city & town & street & address & full\\_address & longitude & latitude\\\\\n",
       "\\hline\n",
       "\t 060-0000                           & 北海道,札幌市中央区                &                                    &                                    &                                    & 北海道札幌市中央区                 & 141.34103                          & 43.05513                           & NA                                \\\\\n",
       "\t 064-0941                           & 北海道,札幌市中央区                & 旭ケ丘,                            &                                    & 北海道札幌市中央区旭ケ丘,141.31972 & 43.04223                           &                                    &       NA                           & NA                                \\\\\n",
       "\t 060-0042                           & 北海道,札幌市中央区                & 大通西                             &                                    & １丁目                             & 北海道札幌市中央区大通西１丁目     & 141.35637                          & 43.06102                           & NA                                \\\\\n",
       "\t 060-0042                           & 北海道,札幌市中央区                & 大通西                             &                                    & ２丁目                             & 北海道札幌市中央区大通西２丁目     & 141.35445                          & 43.06080                           & NA                                \\\\\n",
       "\t 060-0042                           & 北海道,札幌市中央区                & 大通西                             &                                    & ３丁目                             & 北海道札幌市中央区大通西３丁目     & 141.35275                          & 43.06086                           & NA                                \\\\\n",
       "\\end{tabular}\n"
      ],
      "text/markdown": [
       "\n",
       "| X.U.FEFF.postal_cd | prefecture | city | town | street | address | full_address | longitude | latitude |\n",
       "|---|---|---|---|---|---|---|---|---|\n",
       "| 060-0000                           | 北海道,札幌市中央区                |                                    |                                    |                                    | 北海道札幌市中央区                 | 141.34103                          | 43.05513                           | NA                                 |\n",
       "| 064-0941                           | 北海道,札幌市中央区                | 旭ケ丘,                            |                                    | 北海道札幌市中央区旭ケ丘,141.31972 | 43.04223                           |                                    |       NA                           | NA                                 |\n",
       "| 060-0042                           | 北海道,札幌市中央区                | 大通西                             |                                    | １丁目                             | 北海道札幌市中央区大通西１丁目     | 141.35637                          | 43.06102                           | NA                                 |\n",
       "| 060-0042                           | 北海道,札幌市中央区                | 大通西                             |                                    | ２丁目                             | 北海道札幌市中央区大通西２丁目     | 141.35445                          | 43.06080                           | NA                                 |\n",
       "| 060-0042                           | 北海道,札幌市中央区                | 大通西                             |                                    | ３丁目                             | 北海道札幌市中央区大通西３丁目     | 141.35275                          | 43.06086                           | NA                                 |\n",
       "\n"
      ],
      "text/plain": [
       "  X.U.FEFF.postal_cd prefecture          city    town\n",
       "1 060-0000           北海道,札幌市中央区             \n",
       "2 064-0941           北海道,札幌市中央区 旭ケ丘,     \n",
       "3 060-0042           北海道,札幌市中央区 大通西      \n",
       "4 060-0042           北海道,札幌市中央区 大通西      \n",
       "5 060-0042           北海道,札幌市中央区 大通西      \n",
       "  street                             address                       \n",
       "1                                    北海道札幌市中央区            \n",
       "2 北海道札幌市中央区旭ケ丘,141.31972 43.04223                      \n",
       "3 １丁目                             北海道札幌市中央区大通西１丁目\n",
       "4 ２丁目                             北海道札幌市中央区大通西２丁目\n",
       "5 ３丁目                             北海道札幌市中央区大通西３丁目\n",
       "  full_address longitude latitude\n",
       "1 141.34103    43.05513  NA      \n",
       "2                    NA  NA      \n",
       "3 141.35637    43.06102  NA      \n",
       "4 141.35445    43.06080  NA      \n",
       "5 141.35275    43.06086  NA      "
      ]
     },
     "metadata": {},
     "output_type": "display_data"
    }
   ],
   "source": [
    "df_geocode <- read.csv(\"./data/geocode.csv\", encoding=\"UTF-8\") # 時間がかかる, Python では一瞬で読めた\n",
    "head(df_geocode, n = 5)"
   ]
  },
  {
   "cell_type": "markdown",
   "metadata": {},
   "source": [
    "# 演習問題"
   ]
  },
  {
   "cell_type": "markdown",
   "metadata": {},
   "source": [
    "---\n",
    "> R-011: 顧客データフレーム（df_customer）から顧客ID（customer_id）の末尾が1のものだけ全項目抽出し、10件だけ表示せよ。"
   ]
  },
  {
   "cell_type": "code",
   "execution_count": 8,
   "metadata": {
    "scrolled": false
   },
   "outputs": [
    {
     "data": {
      "text/html": [
       "<table>\n",
       "<thead><tr><th scope=col>customer_id</th><th scope=col>customer_name</th><th scope=col>gender_cd</th><th scope=col>gender</th><th scope=col>birth_day</th><th scope=col>age</th><th scope=col>postal_cd</th><th scope=col>address</th><th scope=col>application_store_cd</th><th scope=col>application_date</th><th scope=col>status_cd</th></tr></thead>\n",
       "<tbody>\n",
       "\t<tr><td>CS037613000071                      </td><td>六角 雅彦                           </td><td>9                                   </td><td>不明                                </td><td>1952-04-01                          </td><td>66                                  </td><td>136-0076                            </td><td>東京都江東区南砂**********          </td><td>S13037                              </td><td>20150414                            </td><td>0-00000000-0                        </td></tr>\n",
       "\t<tr><td>CS028811000001                      </td><td>堀井 かおり,1                       </td><td>女性                                </td><td>1933-03-27                          </td><td>86                                  </td><td>245-0016                            </td><td>神奈川県横浜市泉区和泉町**********  </td><td>S14028                              </td><td>20160115                            </td><td>0-00000000-0                        </td><td>                                    </td></tr>\n",
       "\t<tr><td>CS040412000191                      </td><td>川井 郁恵                           </td><td>1                                   </td><td>女性                                </td><td>1977-01-05                          </td><td>42                                  </td><td>226-0021                            </td><td>神奈川県横浜市緑区北八朔町**********</td><td>S14040                              </td><td>20151101                            </td><td>1-20091025-4                        </td></tr>\n",
       "\t<tr><td>CS028314000011                      </td><td>小菅 あおい,1                       </td><td>女性                                </td><td>1983-11-26                          </td><td>35                                  </td><td>246-0038                            </td><td>神奈川県横浜市瀬谷区宮沢**********  </td><td>S14028                              </td><td>20151123                            </td><td>1-20080426-5                        </td><td>                                    </td></tr>\n",
       "\t<tr><td>CS039212000051                      </td><td>藤島 恵梨香,1                       </td><td>女性                                </td><td>1997-02-03                          </td><td>22                                  </td><td>166-0001                            </td><td>東京都杉並区阿佐谷北**********      </td><td>S13039                              </td><td>20171121                            </td><td>1-20100215-4                        </td><td>                                    </td></tr>\n",
       "\t<tr><td>CS015412000111                      </td><td>松居 奈月                           </td><td>1                                   </td><td>女性                                </td><td>1972-10-04                          </td><td>46                                  </td><td>136-0071                            </td><td>東京都江東区亀戸**********          </td><td>S13015                              </td><td>20150629                            </td><td>0-00000000-0                        </td></tr>\n",
       "\t<tr><td>CS004702000041                      </td><td>野島 洋,0                           </td><td>男性                                </td><td>1943-08-24                          </td><td>75                                  </td><td>176-0022                            </td><td>東京都練馬区向山**********          </td><td>S13004                              </td><td>20170218                            </td><td>0-00000000-0                        </td><td>                                    </td></tr>\n",
       "\t<tr><td>CS041515000001                      </td><td>栗田 千夏,1                         </td><td>女性                                </td><td>1967-01-02                          </td><td>52                                  </td><td>206-0001                            </td><td>東京都多摩市和田**********          </td><td>S13041                              </td><td>20160422                            </td><td>E-20100803-F                        </td><td>                                    </td></tr>\n",
       "\t<tr><td>CS029313000221                      </td><td>北条 ひかり                         </td><td>1                                   </td><td>女性                                </td><td>1987-06-19                          </td><td>31                                  </td><td>279-0011                            </td><td>千葉県浦安市美浜**********          </td><td>S12029                              </td><td>20180810                            </td><td>0-00000000-0                        </td></tr>\n",
       "\t<tr><td>CS034312000071                      </td><td>望月 奈央                           </td><td>1                                   </td><td>女性                                </td><td>1980-09-20                          </td><td>38                                  </td><td>213-0026                            </td><td>神奈川県川崎市高津区久末**********  </td><td>S14034                              </td><td>20160106                            </td><td>0-00000000-0                        </td></tr>\n",
       "</tbody>\n",
       "</table>\n"
      ],
      "text/latex": [
       "\\begin{tabular}{r|lllllllllll}\n",
       " customer\\_id & customer\\_name & gender\\_cd & gender & birth\\_day & age & postal\\_cd & address & application\\_store\\_cd & application\\_date & status\\_cd\\\\\n",
       "\\hline\n",
       "\t CS037613000071                       & 六角 雅彦                            & 9                                    & 不明                                 & 1952-04-01                           & 66                                   & 136-0076                             & 東京都江東区南砂**********           & S13037                               & 20150414                             & 0-00000000-0                        \\\\\n",
       "\t CS028811000001                       & 堀井 かおり,1                        & 女性                                 & 1933-03-27                           & 86                                   & 245-0016                             & 神奈川県横浜市泉区和泉町**********   & S14028                               & 20160115                             & 0-00000000-0                         &                                     \\\\\n",
       "\t CS040412000191                       & 川井 郁恵                            & 1                                    & 女性                                 & 1977-01-05                           & 42                                   & 226-0021                             & 神奈川県横浜市緑区北八朔町********** & S14040                               & 20151101                             & 1-20091025-4                        \\\\\n",
       "\t CS028314000011                       & 小菅 あおい,1                        & 女性                                 & 1983-11-26                           & 35                                   & 246-0038                             & 神奈川県横浜市瀬谷区宮沢**********   & S14028                               & 20151123                             & 1-20080426-5                         &                                     \\\\\n",
       "\t CS039212000051                       & 藤島 恵梨香,1                        & 女性                                 & 1997-02-03                           & 22                                   & 166-0001                             & 東京都杉並区阿佐谷北**********       & S13039                               & 20171121                             & 1-20100215-4                         &                                     \\\\\n",
       "\t CS015412000111                       & 松居 奈月                            & 1                                    & 女性                                 & 1972-10-04                           & 46                                   & 136-0071                             & 東京都江東区亀戸**********           & S13015                               & 20150629                             & 0-00000000-0                        \\\\\n",
       "\t CS004702000041                       & 野島 洋,0                            & 男性                                 & 1943-08-24                           & 75                                   & 176-0022                             & 東京都練馬区向山**********           & S13004                               & 20170218                             & 0-00000000-0                         &                                     \\\\\n",
       "\t CS041515000001                       & 栗田 千夏,1                          & 女性                                 & 1967-01-02                           & 52                                   & 206-0001                             & 東京都多摩市和田**********           & S13041                               & 20160422                             & E-20100803-F                         &                                     \\\\\n",
       "\t CS029313000221                       & 北条 ひかり                          & 1                                    & 女性                                 & 1987-06-19                           & 31                                   & 279-0011                             & 千葉県浦安市美浜**********           & S12029                               & 20180810                             & 0-00000000-0                        \\\\\n",
       "\t CS034312000071                       & 望月 奈央                            & 1                                    & 女性                                 & 1980-09-20                           & 38                                   & 213-0026                             & 神奈川県川崎市高津区久末**********   & S14034                               & 20160106                             & 0-00000000-0                        \\\\\n",
       "\\end{tabular}\n"
      ],
      "text/markdown": [
       "\n",
       "| customer_id | customer_name | gender_cd | gender | birth_day | age | postal_cd | address | application_store_cd | application_date | status_cd |\n",
       "|---|---|---|---|---|---|---|---|---|---|---|\n",
       "| CS037613000071                       | 六角 雅彦                            | 9                                    | 不明                                 | 1952-04-01                           | 66                                   | 136-0076                             | 東京都江東区南砂**********           | S13037                               | 20150414                             | 0-00000000-0                         |\n",
       "| CS028811000001                       | 堀井 かおり,1                        | 女性                                 | 1933-03-27                           | 86                                   | 245-0016                             | 神奈川県横浜市泉区和泉町**********   | S14028                               | 20160115                             | 0-00000000-0                         |                                      |\n",
       "| CS040412000191                       | 川井 郁恵                            | 1                                    | 女性                                 | 1977-01-05                           | 42                                   | 226-0021                             | 神奈川県横浜市緑区北八朔町********** | S14040                               | 20151101                             | 1-20091025-4                         |\n",
       "| CS028314000011                       | 小菅 あおい,1                        | 女性                                 | 1983-11-26                           | 35                                   | 246-0038                             | 神奈川県横浜市瀬谷区宮沢**********   | S14028                               | 20151123                             | 1-20080426-5                         |                                      |\n",
       "| CS039212000051                       | 藤島 恵梨香,1                        | 女性                                 | 1997-02-03                           | 22                                   | 166-0001                             | 東京都杉並区阿佐谷北**********       | S13039                               | 20171121                             | 1-20100215-4                         |                                      |\n",
       "| CS015412000111                       | 松居 奈月                            | 1                                    | 女性                                 | 1972-10-04                           | 46                                   | 136-0071                             | 東京都江東区亀戸**********           | S13015                               | 20150629                             | 0-00000000-0                         |\n",
       "| CS004702000041                       | 野島 洋,0                            | 男性                                 | 1943-08-24                           | 75                                   | 176-0022                             | 東京都練馬区向山**********           | S13004                               | 20170218                             | 0-00000000-0                         |                                      |\n",
       "| CS041515000001                       | 栗田 千夏,1                          | 女性                                 | 1967-01-02                           | 52                                   | 206-0001                             | 東京都多摩市和田**********           | S13041                               | 20160422                             | E-20100803-F                         |                                      |\n",
       "| CS029313000221                       | 北条 ひかり                          | 1                                    | 女性                                 | 1987-06-19                           | 31                                   | 279-0011                             | 千葉県浦安市美浜**********           | S12029                               | 20180810                             | 0-00000000-0                         |\n",
       "| CS034312000071                       | 望月 奈央                            | 1                                    | 女性                                 | 1980-09-20                           | 38                                   | 213-0026                             | 神奈川県川崎市高津区久末**********   | S14034                               | 20160106                             | 0-00000000-0                         |\n",
       "\n"
      ],
      "text/plain": [
       "   customer_id    customer_name gender_cd gender     birth_day  age     \n",
       "1  CS037613000071 六角 雅彦     9         不明       1952-04-01 66      \n",
       "2  CS028811000001 堀井 かおり,1 女性      1933-03-27 86         245-0016\n",
       "3  CS040412000191 川井 郁恵     1         女性       1977-01-05 42      \n",
       "4  CS028314000011 小菅 あおい,1 女性      1983-11-26 35         246-0038\n",
       "5  CS039212000051 藤島 恵梨香,1 女性      1997-02-03 22         166-0001\n",
       "6  CS015412000111 松居 奈月     1         女性       1972-10-04 46      \n",
       "7  CS004702000041 野島 洋,0     男性      1943-08-24 75         176-0022\n",
       "8  CS041515000001 栗田 千夏,1   女性      1967-01-02 52         206-0001\n",
       "9  CS029313000221 北条 ひかり   1         女性       1987-06-19 31      \n",
       "10 CS034312000071 望月 奈央     1         女性       1980-09-20 38      \n",
       "   postal_cd                          address                             \n",
       "1  136-0076                           東京都江東区南砂**********          \n",
       "2  神奈川県横浜市泉区和泉町********** S14028                              \n",
       "3  226-0021                           神奈川県横浜市緑区北八朔町**********\n",
       "4  神奈川県横浜市瀬谷区宮沢********** S14028                              \n",
       "5  東京都杉並区阿佐谷北**********     S13039                              \n",
       "6  136-0071                           東京都江東区亀戸**********          \n",
       "7  東京都練馬区向山**********         S13004                              \n",
       "8  東京都多摩市和田**********         S13041                              \n",
       "9  279-0011                           千葉県浦安市美浜**********          \n",
       "10 213-0026                           神奈川県川崎市高津区久末**********  \n",
       "   application_store_cd application_date status_cd   \n",
       "1  S13037               20150414         0-00000000-0\n",
       "2  20160115             0-00000000-0                 \n",
       "3  S14040               20151101         1-20091025-4\n",
       "4  20151123             1-20080426-5                 \n",
       "5  20171121             1-20100215-4                 \n",
       "6  S13015               20150629         0-00000000-0\n",
       "7  20170218             0-00000000-0                 \n",
       "8  20160422             E-20100803-F                 \n",
       "9  S12029               20180810         0-00000000-0\n",
       "10 S14034               20160106         0-00000000-0"
      ]
     },
     "metadata": {},
     "output_type": "display_data"
    }
   ],
   "source": [
    "head(df_customer %>% filter(grepl(\"1$\", customer_id)), n=10)\n",
    "\n",
    "# dplyrでfilter時にlike（部分一致）で絞り込みたいときはgreplを使えばよい\n",
    "# https://datasciencehenomiti.com/post-613/\n",
    "# https://qiita.com/naofumi-fujii/items/71f41182a23ded86388b\n",
    "\n",
    "# ^1$ の $ は正規表現で「直前の文字が行の 末尾 にある場合にマッチ」\n",
    "# https://murashun.jp/article/programming/regular-expression.html"
   ]
  },
  {
   "cell_type": "markdown",
   "metadata": {},
   "source": [
    "---\n",
    "> R-012: 店舗データフレーム（df_store）から横浜市の店舗だけ全項目表示せよ。"
   ]
  },
  {
   "cell_type": "code",
   "execution_count": 9,
   "metadata": {},
   "outputs": [
    {
     "data": {
      "text/html": [
       "<table>\n",
       "<thead><tr><th scope=col>store_cd</th><th scope=col>store_name</th><th scope=col>prefecture_cd</th><th scope=col>prefecture</th><th scope=col>address</th><th scope=col>address_kana</th><th scope=col>tel_no</th><th scope=col>longitude</th><th scope=col>latitude</th><th scope=col>floor_area</th></tr></thead>\n",
       "<tbody>\n",
       "\t<tr><td>S14010                                                      </td><td>菊名店                                                      </td><td>14                                                          </td><td>神奈川県                                                    </td><td>神奈川県横浜市港北区菊名一丁目                              </td><td>カナガワケンヨコハマシコウホククキクナイッチョウメ          </td><td>045-123-4032                                                </td><td>139.6326                                                    </td><td>35.50049                                                    </td><td>1732                                                        </td></tr>\n",
       "\t<tr><td>S14033                                                      </td><td>阿久和店                                                    </td><td>14                                                          </td><td>神奈川県                                                    </td><td>神奈川県横浜市瀬谷区阿久和西一丁目                          </td><td>カナガワケンヨコハマシセヤクアクワニシイッチョウメ          </td><td>045-123-4043                                                </td><td>139.4961                                                    </td><td>35.45918                                                    </td><td>1495                                                        </td></tr>\n",
       "\t<tr><td>S14040                                                      </td><td>長津田店                                                    </td><td>14                                                          </td><td>神奈川県                                                    </td><td>神奈川県横浜市緑区長津田みなみ台五丁目                      </td><td>カナガワケンヨコハマシミドリクナガツタミナミダイゴチョウメ  </td><td>045-123-4046                                                </td><td>139.4994                                                    </td><td>35.52398                                                    </td><td>1548                                                        </td></tr>\n",
       "\t<tr><td>S14050                                                      </td><td>阿久和西店                                                  </td><td>14                                                          </td><td>神奈川県                                                    </td><td>神奈川県横浜市瀬谷区阿久和西一丁目                          </td><td>カナガワケンヨコハマシセヤクアクワニシイッチョウメ          </td><td>045-123-4053                                                </td><td>139.4961                                                    </td><td>35.45918                                                    </td><td>1830                                                        </td></tr>\n",
       "\t<tr><td>S14028                                                      </td><td>二ツ橋店                                                    </td><td>14                                                          </td><td>神奈川県                                                    </td><td>神奈川県横浜市瀬谷区二ツ橋町                                </td><td>カナガワケンヨコハマシセヤクフタツバシチョウ                </td><td>045-123-4042                                                </td><td>139.4963                                                    </td><td>35.46304                                                    </td><td>1574                                                        </td></tr>\n",
       "\t<tr><td>S14012                                                      </td><td>本牧和田店                                                  </td><td>14                                                          </td><td>神奈川県                                                    </td><td>神奈川県横浜市中区本牧和田                                  </td><td>カナガワケンヨコハマシナカクホンモクワダ                    </td><td>045-123-4034                                                </td><td>139.6582                                                    </td><td>35.42156                                                    </td><td>1341                                                        </td></tr>\n",
       "\t<tr><td>S14046                                                      </td><td>北山田店                                                    </td><td>14                                                          </td><td>神奈川県                                                    </td><td>神奈川県横浜市都筑区北山田一丁目                            </td><td>カナガワケンヨコハマシツヅキクキタヤマタイッチョウメ        </td><td>045-123-4049                                                </td><td>139.5916                                                    </td><td>35.56189                                                    </td><td> 831                                                        </td></tr>\n",
       "\t<tr><td>S14011                                                      </td><td>日吉本町店                                                  </td><td>14                                                          </td><td>神奈川県                                                    </td><td>神奈川県横浜市港北区日吉本町四丁目                          </td><td>カナガワケンヨコハマシコウホククヒヨシホンチョウヨンチョウメ</td><td>045-123-4033                                                </td><td>139.6316                                                    </td><td>35.54655                                                    </td><td> 890                                                        </td></tr>\n",
       "\t<tr><td>S14048                                                      </td><td>中川中央店                                                  </td><td>14                                                          </td><td>神奈川県                                                    </td><td>神奈川県横浜市都筑区中川中央二丁目                          </td><td>カナガワケンヨコハマシツヅキクナカガワチュウオウニチョウメ  </td><td>045-123-4051                                                </td><td>139.5758                                                    </td><td>35.54912                                                    </td><td>1657                                                        </td></tr>\n",
       "\t<tr><td>S14042                                                      </td><td>新山下店                                                    </td><td>14                                                          </td><td>神奈川県                                                    </td><td>神奈川県横浜市中区新山下二丁目                              </td><td>カナガワケンヨコハマシナカクシンヤマシタニチョウメ          </td><td>045-123-4047                                                </td><td>139.6593                                                    </td><td>35.43894                                                    </td><td>1044                                                        </td></tr>\n",
       "\t<tr><td>S14006                                                      </td><td>葛が谷店                                                    </td><td>14                                                          </td><td>神奈川県                                                    </td><td>神奈川県横浜市都筑区葛が谷                                  </td><td>カナガワケンヨコハマシツヅキククズガヤ                      </td><td>045-123-4031                                                </td><td>139.5633                                                    </td><td>35.53573                                                    </td><td>1886                                                        </td></tr>\n",
       "</tbody>\n",
       "</table>\n"
      ],
      "text/latex": [
       "\\begin{tabular}{r|llllllllll}\n",
       " store\\_cd & store\\_name & prefecture\\_cd & prefecture & address & address\\_kana & tel\\_no & longitude & latitude & floor\\_area\\\\\n",
       "\\hline\n",
       "\t S14010                                                       & 菊名店                                                       & 14                                                           & 神奈川県                                                     & 神奈川県横浜市港北区菊名一丁目                               & カナガワケンヨコハマシコウホククキクナイッチョウメ           & 045-123-4032                                                 & 139.6326                                                     & 35.50049                                                     & 1732                                                        \\\\\n",
       "\t S14033                                                       & 阿久和店                                                     & 14                                                           & 神奈川県                                                     & 神奈川県横浜市瀬谷区阿久和西一丁目                           & カナガワケンヨコハマシセヤクアクワニシイッチョウメ           & 045-123-4043                                                 & 139.4961                                                     & 35.45918                                                     & 1495                                                        \\\\\n",
       "\t S14040                                                       & 長津田店                                                     & 14                                                           & 神奈川県                                                     & 神奈川県横浜市緑区長津田みなみ台五丁目                       & カナガワケンヨコハマシミドリクナガツタミナミダイゴチョウメ   & 045-123-4046                                                 & 139.4994                                                     & 35.52398                                                     & 1548                                                        \\\\\n",
       "\t S14050                                                       & 阿久和西店                                                   & 14                                                           & 神奈川県                                                     & 神奈川県横浜市瀬谷区阿久和西一丁目                           & カナガワケンヨコハマシセヤクアクワニシイッチョウメ           & 045-123-4053                                                 & 139.4961                                                     & 35.45918                                                     & 1830                                                        \\\\\n",
       "\t S14028                                                       & 二ツ橋店                                                     & 14                                                           & 神奈川県                                                     & 神奈川県横浜市瀬谷区二ツ橋町                                 & カナガワケンヨコハマシセヤクフタツバシチョウ                 & 045-123-4042                                                 & 139.4963                                                     & 35.46304                                                     & 1574                                                        \\\\\n",
       "\t S14012                                                       & 本牧和田店                                                   & 14                                                           & 神奈川県                                                     & 神奈川県横浜市中区本牧和田                                   & カナガワケンヨコハマシナカクホンモクワダ                     & 045-123-4034                                                 & 139.6582                                                     & 35.42156                                                     & 1341                                                        \\\\\n",
       "\t S14046                                                       & 北山田店                                                     & 14                                                           & 神奈川県                                                     & 神奈川県横浜市都筑区北山田一丁目                             & カナガワケンヨコハマシツヅキクキタヤマタイッチョウメ         & 045-123-4049                                                 & 139.5916                                                     & 35.56189                                                     &  831                                                        \\\\\n",
       "\t S14011                                                       & 日吉本町店                                                   & 14                                                           & 神奈川県                                                     & 神奈川県横浜市港北区日吉本町四丁目                           & カナガワケンヨコハマシコウホククヒヨシホンチョウヨンチョウメ & 045-123-4033                                                 & 139.6316                                                     & 35.54655                                                     &  890                                                        \\\\\n",
       "\t S14048                                                       & 中川中央店                                                   & 14                                                           & 神奈川県                                                     & 神奈川県横浜市都筑区中川中央二丁目                           & カナガワケンヨコハマシツヅキクナカガワチュウオウニチョウメ   & 045-123-4051                                                 & 139.5758                                                     & 35.54912                                                     & 1657                                                        \\\\\n",
       "\t S14042                                                       & 新山下店                                                     & 14                                                           & 神奈川県                                                     & 神奈川県横浜市中区新山下二丁目                               & カナガワケンヨコハマシナカクシンヤマシタニチョウメ           & 045-123-4047                                                 & 139.6593                                                     & 35.43894                                                     & 1044                                                        \\\\\n",
       "\t S14006                                                       & 葛が谷店                                                     & 14                                                           & 神奈川県                                                     & 神奈川県横浜市都筑区葛が谷                                   & カナガワケンヨコハマシツヅキククズガヤ                       & 045-123-4031                                                 & 139.5633                                                     & 35.53573                                                     & 1886                                                        \\\\\n",
       "\\end{tabular}\n"
      ],
      "text/markdown": [
       "\n",
       "| store_cd | store_name | prefecture_cd | prefecture | address | address_kana | tel_no | longitude | latitude | floor_area |\n",
       "|---|---|---|---|---|---|---|---|---|---|\n",
       "| S14010                                                       | 菊名店                                                       | 14                                                           | 神奈川県                                                     | 神奈川県横浜市港北区菊名一丁目                               | カナガワケンヨコハマシコウホククキクナイッチョウメ           | 045-123-4032                                                 | 139.6326                                                     | 35.50049                                                     | 1732                                                         |\n",
       "| S14033                                                       | 阿久和店                                                     | 14                                                           | 神奈川県                                                     | 神奈川県横浜市瀬谷区阿久和西一丁目                           | カナガワケンヨコハマシセヤクアクワニシイッチョウメ           | 045-123-4043                                                 | 139.4961                                                     | 35.45918                                                     | 1495                                                         |\n",
       "| S14040                                                       | 長津田店                                                     | 14                                                           | 神奈川県                                                     | 神奈川県横浜市緑区長津田みなみ台五丁目                       | カナガワケンヨコハマシミドリクナガツタミナミダイゴチョウメ   | 045-123-4046                                                 | 139.4994                                                     | 35.52398                                                     | 1548                                                         |\n",
       "| S14050                                                       | 阿久和西店                                                   | 14                                                           | 神奈川県                                                     | 神奈川県横浜市瀬谷区阿久和西一丁目                           | カナガワケンヨコハマシセヤクアクワニシイッチョウメ           | 045-123-4053                                                 | 139.4961                                                     | 35.45918                                                     | 1830                                                         |\n",
       "| S14028                                                       | 二ツ橋店                                                     | 14                                                           | 神奈川県                                                     | 神奈川県横浜市瀬谷区二ツ橋町                                 | カナガワケンヨコハマシセヤクフタツバシチョウ                 | 045-123-4042                                                 | 139.4963                                                     | 35.46304                                                     | 1574                                                         |\n",
       "| S14012                                                       | 本牧和田店                                                   | 14                                                           | 神奈川県                                                     | 神奈川県横浜市中区本牧和田                                   | カナガワケンヨコハマシナカクホンモクワダ                     | 045-123-4034                                                 | 139.6582                                                     | 35.42156                                                     | 1341                                                         |\n",
       "| S14046                                                       | 北山田店                                                     | 14                                                           | 神奈川県                                                     | 神奈川県横浜市都筑区北山田一丁目                             | カナガワケンヨコハマシツヅキクキタヤマタイッチョウメ         | 045-123-4049                                                 | 139.5916                                                     | 35.56189                                                     |  831                                                         |\n",
       "| S14011                                                       | 日吉本町店                                                   | 14                                                           | 神奈川県                                                     | 神奈川県横浜市港北区日吉本町四丁目                           | カナガワケンヨコハマシコウホククヒヨシホンチョウヨンチョウメ | 045-123-4033                                                 | 139.6316                                                     | 35.54655                                                     |  890                                                         |\n",
       "| S14048                                                       | 中川中央店                                                   | 14                                                           | 神奈川県                                                     | 神奈川県横浜市都筑区中川中央二丁目                           | カナガワケンヨコハマシツヅキクナカガワチュウオウニチョウメ   | 045-123-4051                                                 | 139.5758                                                     | 35.54912                                                     | 1657                                                         |\n",
       "| S14042                                                       | 新山下店                                                     | 14                                                           | 神奈川県                                                     | 神奈川県横浜市中区新山下二丁目                               | カナガワケンヨコハマシナカクシンヤマシタニチョウメ           | 045-123-4047                                                 | 139.6593                                                     | 35.43894                                                     | 1044                                                         |\n",
       "| S14006                                                       | 葛が谷店                                                     | 14                                                           | 神奈川県                                                     | 神奈川県横浜市都筑区葛が谷                                   | カナガワケンヨコハマシツヅキククズガヤ                       | 045-123-4031                                                 | 139.5633                                                     | 35.53573                                                     | 1886                                                         |\n",
       "\n"
      ],
      "text/plain": [
       "   store_cd store_name prefecture_cd prefecture\n",
       "1  S14010   菊名店     14            神奈川県  \n",
       "2  S14033   阿久和店   14            神奈川県  \n",
       "3  S14040   長津田店   14            神奈川県  \n",
       "4  S14050   阿久和西店 14            神奈川県  \n",
       "5  S14028   二ツ橋店   14            神奈川県  \n",
       "6  S14012   本牧和田店 14            神奈川県  \n",
       "7  S14046   北山田店   14            神奈川県  \n",
       "8  S14011   日吉本町店 14            神奈川県  \n",
       "9  S14048   中川中央店 14            神奈川県  \n",
       "10 S14042   新山下店   14            神奈川県  \n",
       "11 S14006   葛が谷店   14            神奈川県  \n",
       "   address                               \n",
       "1  神奈川県横浜市港北区菊名一丁目        \n",
       "2  神奈川県横浜市瀬谷区阿久和西一丁目    \n",
       "3  神奈川県横浜市緑区長津田みなみ台五丁目\n",
       "4  神奈川県横浜市瀬谷区阿久和西一丁目    \n",
       "5  神奈川県横浜市瀬谷区二ツ橋町          \n",
       "6  神奈川県横浜市中区本牧和田            \n",
       "7  神奈川県横浜市都筑区北山田一丁目      \n",
       "8  神奈川県横浜市港北区日吉本町四丁目    \n",
       "9  神奈川県横浜市都筑区中川中央二丁目    \n",
       "10 神奈川県横浜市中区新山下二丁目        \n",
       "11 神奈川県横浜市都筑区葛が谷            \n",
       "   address_kana                                                 tel_no      \n",
       "1  カナガワケンヨコハマシコウホククキクナイッチョウメ           045-123-4032\n",
       "2  カナガワケンヨコハマシセヤクアクワニシイッチョウメ           045-123-4043\n",
       "3  カナガワケンヨコハマシミドリクナガツタミナミダイゴチョウメ   045-123-4046\n",
       "4  カナガワケンヨコハマシセヤクアクワニシイッチョウメ           045-123-4053\n",
       "5  カナガワケンヨコハマシセヤクフタツバシチョウ                 045-123-4042\n",
       "6  カナガワケンヨコハマシナカクホンモクワダ                     045-123-4034\n",
       "7  カナガワケンヨコハマシツヅキクキタヤマタイッチョウメ         045-123-4049\n",
       "8  カナガワケンヨコハマシコウホククヒヨシホンチョウヨンチョウメ 045-123-4033\n",
       "9  カナガワケンヨコハマシツヅキクナカガワチュウオウニチョウメ   045-123-4051\n",
       "10 カナガワケンヨコハマシナカクシンヤマシタニチョウメ           045-123-4047\n",
       "11 カナガワケンヨコハマシツヅキククズガヤ                       045-123-4031\n",
       "   longitude latitude floor_area\n",
       "1  139.6326  35.50049 1732      \n",
       "2  139.4961  35.45918 1495      \n",
       "3  139.4994  35.52398 1548      \n",
       "4  139.4961  35.45918 1830      \n",
       "5  139.4963  35.46304 1574      \n",
       "6  139.6582  35.42156 1341      \n",
       "7  139.5916  35.56189  831      \n",
       "8  139.6316  35.54655  890      \n",
       "9  139.5758  35.54912 1657      \n",
       "10 139.6593  35.43894 1044      \n",
       "11 139.5633  35.53573 1886      "
      ]
     },
     "metadata": {},
     "output_type": "display_data"
    }
   ],
   "source": [
    "df_store %>% filter(grepl(\"横浜市\", address))"
   ]
  },
  {
   "cell_type": "markdown",
   "metadata": {},
   "source": [
    "---\n",
    "> R-013: 顧客データフレーム（df_customer）から、ステータスコード（status_cd）の先頭がアルファベットのA〜Fで始まるデータを全項目抽出し、10件だけ表示せよ。"
   ]
  },
  {
   "cell_type": "code",
   "execution_count": 10,
   "metadata": {},
   "outputs": [
    {
     "data": {
      "text/html": [
       "<table>\n",
       "<thead><tr><th scope=col>customer_id</th><th scope=col>customer_name</th><th scope=col>gender_cd</th><th scope=col>gender</th><th scope=col>birth_day</th><th scope=col>age</th><th scope=col>postal_cd</th><th scope=col>address</th><th scope=col>application_store_cd</th><th scope=col>application_date</th><th scope=col>status_cd</th></tr></thead>\n",
       "<tbody>\n",
       "\t<tr><td>CS011215000048                        </td><td>芦田 沙耶                             </td><td>1                                     </td><td>女性                                  </td><td>1992-02-01                            </td><td>27                                    </td><td>223-0062                              </td><td>神奈川県横浜市港北区日吉本町**********</td><td>S14011                                </td><td>20150228                              </td><td>C-20100421-9                          </td></tr>\n",
       "\t<tr><td>CS033605000005                        </td><td>猪股 雄太                             </td><td>0                                     </td><td>男性                                  </td><td>1955-12-05                            </td><td>63                                    </td><td>246-0031                              </td><td>神奈川県横浜市瀬谷区瀬谷**********    </td><td>S14033                                </td><td>20150425                              </td><td>F-20100917-E                          </td></tr>\n",
       "\t<tr><td>CS027515000123                        </td><td>田村 咲                               </td><td>1                                     </td><td>女性                                  </td><td>1965-06-01                            </td><td>53                                    </td><td>251-0015                              </td><td>神奈川県藤沢市川名**********          </td><td>S14027                                </td><td>20150210                              </td><td>E-20100901-E                          </td></tr>\n",
       "\t<tr><td>CS028415000057                        </td><td>山内 瞬                               </td><td>1                                     </td><td>女性                                  </td><td>1975-08-26                            </td><td>43                                    </td><td>246-0035                              </td><td>神奈川県横浜市瀬谷区下瀬谷**********  </td><td>S14028                                </td><td>20150518                              </td><td>F-20100908-F                          </td></tr>\n",
       "\t<tr><td>CS022414000100                        </td><td>戸田 そら                             </td><td>1                                     </td><td>女性                                  </td><td>1973-10-19                            </td><td>45                                    </td><td>249-0006                              </td><td>神奈川県逗子市逗子**********          </td><td>S14022                                </td><td>20150926                              </td><td>A-20090814-C                          </td></tr>\n",
       "\t<tr><td>CS004415000388                        </td><td>浅野 ちえみ                           </td><td>1                                     </td><td>女性                                  </td><td>1973-09-15                            </td><td>45                                    </td><td>165-0027                              </td><td>東京都中野区野方**********            </td><td>S13004                                </td><td>20161008                              </td><td>C-20101008-C                          </td></tr>\n",
       "\t<tr><td>CS019415000117                        </td><td>宮脇 芽以                             </td><td>1                                     </td><td>女性                                  </td><td>1974-07-10                            </td><td>44                                    </td><td>173-0036                              </td><td>東京都板橋区向原**********            </td><td>S13019                                </td><td>20141114                              </td><td>C-20100720-D                          </td></tr>\n",
       "\t<tr><td>CS013615000053                        </td><td>西脇 季衣                             </td><td>1                                     </td><td>女性                                  </td><td>1953-10-18                            </td><td>65                                    </td><td>261-0026                              </td><td>千葉県千葉市美浜区幕張西**********    </td><td>S12013                                </td><td>20150128                              </td><td>B-20100329-6                          </td></tr>\n",
       "\t<tr><td>CS024415000108                        </td><td>広末 コウ                             </td><td>1                                     </td><td>女性                                  </td><td>1969-04-25                            </td><td>49                                    </td><td>214-0036                              </td><td>神奈川県川崎市多摩区南生田**********  </td><td>S14024                                </td><td>20150311                              </td><td>D-20100608-D                          </td></tr>\n",
       "\t<tr><td>CS026515000132                        </td><td>江崎 くるみ                           </td><td>1                                     </td><td>女性                                  </td><td>1964-10-14                            </td><td>54                                    </td><td>251-0045                              </td><td>神奈川県藤沢市辻堂東海岸**********    </td><td>S14026                                </td><td>20150527                              </td><td>D-20100306-D                          </td></tr>\n",
       "</tbody>\n",
       "</table>\n"
      ],
      "text/latex": [
       "\\begin{tabular}{r|lllllllllll}\n",
       " customer\\_id & customer\\_name & gender\\_cd & gender & birth\\_day & age & postal\\_cd & address & application\\_store\\_cd & application\\_date & status\\_cd\\\\\n",
       "\\hline\n",
       "\t CS011215000048                         & 芦田 沙耶                              & 1                                      & 女性                                   & 1992-02-01                             & 27                                     & 223-0062                               & 神奈川県横浜市港北区日吉本町********** & S14011                                 & 20150228                               & C-20100421-9                          \\\\\n",
       "\t CS033605000005                         & 猪股 雄太                              & 0                                      & 男性                                   & 1955-12-05                             & 63                                     & 246-0031                               & 神奈川県横浜市瀬谷区瀬谷**********     & S14033                                 & 20150425                               & F-20100917-E                          \\\\\n",
       "\t CS027515000123                         & 田村 咲                                & 1                                      & 女性                                   & 1965-06-01                             & 53                                     & 251-0015                               & 神奈川県藤沢市川名**********           & S14027                                 & 20150210                               & E-20100901-E                          \\\\\n",
       "\t CS028415000057                         & 山内 瞬                                & 1                                      & 女性                                   & 1975-08-26                             & 43                                     & 246-0035                               & 神奈川県横浜市瀬谷区下瀬谷**********   & S14028                                 & 20150518                               & F-20100908-F                          \\\\\n",
       "\t CS022414000100                         & 戸田 そら                              & 1                                      & 女性                                   & 1973-10-19                             & 45                                     & 249-0006                               & 神奈川県逗子市逗子**********           & S14022                                 & 20150926                               & A-20090814-C                          \\\\\n",
       "\t CS004415000388                         & 浅野 ちえみ                            & 1                                      & 女性                                   & 1973-09-15                             & 45                                     & 165-0027                               & 東京都中野区野方**********             & S13004                                 & 20161008                               & C-20101008-C                          \\\\\n",
       "\t CS019415000117                         & 宮脇 芽以                              & 1                                      & 女性                                   & 1974-07-10                             & 44                                     & 173-0036                               & 東京都板橋区向原**********             & S13019                                 & 20141114                               & C-20100720-D                          \\\\\n",
       "\t CS013615000053                         & 西脇 季衣                              & 1                                      & 女性                                   & 1953-10-18                             & 65                                     & 261-0026                               & 千葉県千葉市美浜区幕張西**********     & S12013                                 & 20150128                               & B-20100329-6                          \\\\\n",
       "\t CS024415000108                         & 広末 コウ                              & 1                                      & 女性                                   & 1969-04-25                             & 49                                     & 214-0036                               & 神奈川県川崎市多摩区南生田**********   & S14024                                 & 20150311                               & D-20100608-D                          \\\\\n",
       "\t CS026515000132                         & 江崎 くるみ                            & 1                                      & 女性                                   & 1964-10-14                             & 54                                     & 251-0045                               & 神奈川県藤沢市辻堂東海岸**********     & S14026                                 & 20150527                               & D-20100306-D                          \\\\\n",
       "\\end{tabular}\n"
      ],
      "text/markdown": [
       "\n",
       "| customer_id | customer_name | gender_cd | gender | birth_day | age | postal_cd | address | application_store_cd | application_date | status_cd |\n",
       "|---|---|---|---|---|---|---|---|---|---|---|\n",
       "| CS011215000048                         | 芦田 沙耶                              | 1                                      | 女性                                   | 1992-02-01                             | 27                                     | 223-0062                               | 神奈川県横浜市港北区日吉本町********** | S14011                                 | 20150228                               | C-20100421-9                           |\n",
       "| CS033605000005                         | 猪股 雄太                              | 0                                      | 男性                                   | 1955-12-05                             | 63                                     | 246-0031                               | 神奈川県横浜市瀬谷区瀬谷**********     | S14033                                 | 20150425                               | F-20100917-E                           |\n",
       "| CS027515000123                         | 田村 咲                                | 1                                      | 女性                                   | 1965-06-01                             | 53                                     | 251-0015                               | 神奈川県藤沢市川名**********           | S14027                                 | 20150210                               | E-20100901-E                           |\n",
       "| CS028415000057                         | 山内 瞬                                | 1                                      | 女性                                   | 1975-08-26                             | 43                                     | 246-0035                               | 神奈川県横浜市瀬谷区下瀬谷**********   | S14028                                 | 20150518                               | F-20100908-F                           |\n",
       "| CS022414000100                         | 戸田 そら                              | 1                                      | 女性                                   | 1973-10-19                             | 45                                     | 249-0006                               | 神奈川県逗子市逗子**********           | S14022                                 | 20150926                               | A-20090814-C                           |\n",
       "| CS004415000388                         | 浅野 ちえみ                            | 1                                      | 女性                                   | 1973-09-15                             | 45                                     | 165-0027                               | 東京都中野区野方**********             | S13004                                 | 20161008                               | C-20101008-C                           |\n",
       "| CS019415000117                         | 宮脇 芽以                              | 1                                      | 女性                                   | 1974-07-10                             | 44                                     | 173-0036                               | 東京都板橋区向原**********             | S13019                                 | 20141114                               | C-20100720-D                           |\n",
       "| CS013615000053                         | 西脇 季衣                              | 1                                      | 女性                                   | 1953-10-18                             | 65                                     | 261-0026                               | 千葉県千葉市美浜区幕張西**********     | S12013                                 | 20150128                               | B-20100329-6                           |\n",
       "| CS024415000108                         | 広末 コウ                              | 1                                      | 女性                                   | 1969-04-25                             | 49                                     | 214-0036                               | 神奈川県川崎市多摩区南生田**********   | S14024                                 | 20150311                               | D-20100608-D                           |\n",
       "| CS026515000132                         | 江崎 くるみ                            | 1                                      | 女性                                   | 1964-10-14                             | 54                                     | 251-0045                               | 神奈川県藤沢市辻堂東海岸**********     | S14026                                 | 20150527                               | D-20100306-D                           |\n",
       "\n"
      ],
      "text/plain": [
       "   customer_id    customer_name gender_cd gender birth_day  age postal_cd\n",
       "1  CS011215000048 芦田 沙耶     1         女性   1992-02-01 27  223-0062 \n",
       "2  CS033605000005 猪股 雄太     0         男性   1955-12-05 63  246-0031 \n",
       "3  CS027515000123 田村 咲       1         女性   1965-06-01 53  251-0015 \n",
       "4  CS028415000057 山内 瞬       1         女性   1975-08-26 43  246-0035 \n",
       "5  CS022414000100 戸田 そら     1         女性   1973-10-19 45  249-0006 \n",
       "6  CS004415000388 浅野 ちえみ   1         女性   1973-09-15 45  165-0027 \n",
       "7  CS019415000117 宮脇 芽以     1         女性   1974-07-10 44  173-0036 \n",
       "8  CS013615000053 西脇 季衣     1         女性   1953-10-18 65  261-0026 \n",
       "9  CS024415000108 広末 コウ     1         女性   1969-04-25 49  214-0036 \n",
       "10 CS026515000132 江崎 くるみ   1         女性   1964-10-14 54  251-0045 \n",
       "   address                                application_store_cd application_date\n",
       "1  神奈川県横浜市港北区日吉本町********** S14011               20150228        \n",
       "2  神奈川県横浜市瀬谷区瀬谷**********     S14033               20150425        \n",
       "3  神奈川県藤沢市川名**********           S14027               20150210        \n",
       "4  神奈川県横浜市瀬谷区下瀬谷**********   S14028               20150518        \n",
       "5  神奈川県逗子市逗子**********           S14022               20150926        \n",
       "6  東京都中野区野方**********             S13004               20161008        \n",
       "7  東京都板橋区向原**********             S13019               20141114        \n",
       "8  千葉県千葉市美浜区幕張西**********     S12013               20150128        \n",
       "9  神奈川県川崎市多摩区南生田**********   S14024               20150311        \n",
       "10 神奈川県藤沢市辻堂東海岸**********     S14026               20150527        \n",
       "   status_cd   \n",
       "1  C-20100421-9\n",
       "2  F-20100917-E\n",
       "3  E-20100901-E\n",
       "4  F-20100908-F\n",
       "5  A-20090814-C\n",
       "6  C-20101008-C\n",
       "7  C-20100720-D\n",
       "8  B-20100329-6\n",
       "9  D-20100608-D\n",
       "10 D-20100306-D"
      ]
     },
     "metadata": {},
     "output_type": "display_data"
    }
   ],
   "source": [
    "head(df_customer %>% filter(grepl(\"^[A-F]\", status_cd)), n=10)\n",
    "\n",
    "# 正規表現 [...] 角括弧に含まれるいずれか１文字にマッチ。"
   ]
  },
  {
   "cell_type": "markdown",
   "metadata": {},
   "source": [
    "---\n",
    "> R-014: 顧客データフレーム（df_customer）から、ステータスコード（status_cd）の末尾が数字の1〜9で終わるデータを全項目抽出し、10件だけ表示せよ。"
   ]
  },
  {
   "cell_type": "code",
   "execution_count": 11,
   "metadata": {},
   "outputs": [
    {
     "data": {
      "text/html": [
       "<table>\n",
       "<thead><tr><th scope=col>customer_id</th><th scope=col>customer_name</th><th scope=col>gender_cd</th><th scope=col>gender</th><th scope=col>birth_day</th><th scope=col>age</th><th scope=col>postal_cd</th><th scope=col>address</th><th scope=col>application_store_cd</th><th scope=col>application_date</th><th scope=col>status_cd</th></tr></thead>\n",
       "<tbody>\n",
       "\t<tr><td>CS001215000145                        </td><td>田崎 美紀                             </td><td>1                                     </td><td>女性                                  </td><td>1995-03-29                            </td><td>24                                    </td><td>144-0055                              </td><td>東京都大田区仲六郷**********          </td><td>S13001                                </td><td>20170605                              </td><td>6-20090929-2                          </td></tr>\n",
       "\t<tr><td>CS033513000180                        </td><td>安斎 遥                               </td><td>1                                     </td><td>女性                                  </td><td>1962-07-11                            </td><td>56                                    </td><td>241-0823                              </td><td>神奈川県横浜市旭区善部町**********    </td><td>S14033                                </td><td>20150728                              </td><td>6-20080506-5                          </td></tr>\n",
       "\t<tr><td>CS011215000048                        </td><td>芦田 沙耶                             </td><td>1                                     </td><td>女性                                  </td><td>1992-02-01                            </td><td>27                                    </td><td>223-0062                              </td><td>神奈川県横浜市港北区日吉本町**********</td><td>S14011                                </td><td>20150228                              </td><td>C-20100421-9                          </td></tr>\n",
       "\t<tr><td>CS040412000191                        </td><td>川井 郁恵                             </td><td>1                                     </td><td>女性                                  </td><td>1977-01-05                            </td><td>42                                    </td><td>226-0021                              </td><td>神奈川県横浜市緑区北八朔町**********  </td><td>S14040                                </td><td>20151101                              </td><td>1-20091025-4                          </td></tr>\n",
       "\t<tr><td>CS023513000066                        </td><td>神戸 そら                             </td><td>1                                     </td><td>女性                                  </td><td>1961-12-17                            </td><td>57                                    </td><td>210-0005                              </td><td>神奈川県川崎市川崎区東田町**********  </td><td>S14023                                </td><td>20150915                              </td><td>5-20100524-9                          </td></tr>\n",
       "\t<tr><td>CS001515000263                        </td><td>高松 夏空                             </td><td>1                                     </td><td>女性                                  </td><td>1962-11-09                            </td><td>56                                    </td><td>144-0051                              </td><td>東京都大田区西蒲田**********          </td><td>S13001                                </td><td>20160812                              </td><td>1-20100804-1                          </td></tr>\n",
       "\t<tr><td>CS006415000279                        </td><td>末永 綾                               </td><td>1                                     </td><td>女性                                  </td><td>1969-10-03                            </td><td>49                                    </td><td>224-0037                              </td><td>神奈川県横浜市都筑区茅ケ崎南**********</td><td>S14006                                </td><td>20150713                              </td><td>1-20100519-2                          </td></tr>\n",
       "\t<tr><td>CS001212000098                        </td><td>菊地 りえ                             </td><td>9                                     </td><td>不明                                  </td><td>1995-01-19                            </td><td>24                                    </td><td>210-0842                              </td><td>神奈川県川崎市川崎区渡田東町**********</td><td>S13001                                </td><td>20170604                              </td><td>3-20090405-2                          </td></tr>\n",
       "\t<tr><td>CS008615000055                        </td><td>二宮 コウ                             </td><td>1                                     </td><td>女性                                  </td><td>1953-06-15                            </td><td>65                                    </td><td>157-0074                              </td><td>東京都世田谷区大蔵**********          </td><td>S13008                                </td><td>20150623                              </td><td>5-20100531-8                          </td></tr>\n",
       "\t<tr><td>CS030615000018                        </td><td>島崎 美菜                             </td><td>1                                     </td><td>女性                                  </td><td>1957-10-16                            </td><td>61                                    </td><td>272-0024                              </td><td>千葉県市川市稲荷木**********          </td><td>S12030                                </td><td>20150925                              </td><td>2-20100705-4                          </td></tr>\n",
       "</tbody>\n",
       "</table>\n"
      ],
      "text/latex": [
       "\\begin{tabular}{r|lllllllllll}\n",
       " customer\\_id & customer\\_name & gender\\_cd & gender & birth\\_day & age & postal\\_cd & address & application\\_store\\_cd & application\\_date & status\\_cd\\\\\n",
       "\\hline\n",
       "\t CS001215000145                         & 田崎 美紀                              & 1                                      & 女性                                   & 1995-03-29                             & 24                                     & 144-0055                               & 東京都大田区仲六郷**********           & S13001                                 & 20170605                               & 6-20090929-2                          \\\\\n",
       "\t CS033513000180                         & 安斎 遥                                & 1                                      & 女性                                   & 1962-07-11                             & 56                                     & 241-0823                               & 神奈川県横浜市旭区善部町**********     & S14033                                 & 20150728                               & 6-20080506-5                          \\\\\n",
       "\t CS011215000048                         & 芦田 沙耶                              & 1                                      & 女性                                   & 1992-02-01                             & 27                                     & 223-0062                               & 神奈川県横浜市港北区日吉本町********** & S14011                                 & 20150228                               & C-20100421-9                          \\\\\n",
       "\t CS040412000191                         & 川井 郁恵                              & 1                                      & 女性                                   & 1977-01-05                             & 42                                     & 226-0021                               & 神奈川県横浜市緑区北八朔町**********   & S14040                                 & 20151101                               & 1-20091025-4                          \\\\\n",
       "\t CS023513000066                         & 神戸 そら                              & 1                                      & 女性                                   & 1961-12-17                             & 57                                     & 210-0005                               & 神奈川県川崎市川崎区東田町**********   & S14023                                 & 20150915                               & 5-20100524-9                          \\\\\n",
       "\t CS001515000263                         & 高松 夏空                              & 1                                      & 女性                                   & 1962-11-09                             & 56                                     & 144-0051                               & 東京都大田区西蒲田**********           & S13001                                 & 20160812                               & 1-20100804-1                          \\\\\n",
       "\t CS006415000279                         & 末永 綾                                & 1                                      & 女性                                   & 1969-10-03                             & 49                                     & 224-0037                               & 神奈川県横浜市都筑区茅ケ崎南********** & S14006                                 & 20150713                               & 1-20100519-2                          \\\\\n",
       "\t CS001212000098                         & 菊地 りえ                              & 9                                      & 不明                                   & 1995-01-19                             & 24                                     & 210-0842                               & 神奈川県川崎市川崎区渡田東町********** & S13001                                 & 20170604                               & 3-20090405-2                          \\\\\n",
       "\t CS008615000055                         & 二宮 コウ                              & 1                                      & 女性                                   & 1953-06-15                             & 65                                     & 157-0074                               & 東京都世田谷区大蔵**********           & S13008                                 & 20150623                               & 5-20100531-8                          \\\\\n",
       "\t CS030615000018                         & 島崎 美菜                              & 1                                      & 女性                                   & 1957-10-16                             & 61                                     & 272-0024                               & 千葉県市川市稲荷木**********           & S12030                                 & 20150925                               & 2-20100705-4                          \\\\\n",
       "\\end{tabular}\n"
      ],
      "text/markdown": [
       "\n",
       "| customer_id | customer_name | gender_cd | gender | birth_day | age | postal_cd | address | application_store_cd | application_date | status_cd |\n",
       "|---|---|---|---|---|---|---|---|---|---|---|\n",
       "| CS001215000145                         | 田崎 美紀                              | 1                                      | 女性                                   | 1995-03-29                             | 24                                     | 144-0055                               | 東京都大田区仲六郷**********           | S13001                                 | 20170605                               | 6-20090929-2                           |\n",
       "| CS033513000180                         | 安斎 遥                                | 1                                      | 女性                                   | 1962-07-11                             | 56                                     | 241-0823                               | 神奈川県横浜市旭区善部町**********     | S14033                                 | 20150728                               | 6-20080506-5                           |\n",
       "| CS011215000048                         | 芦田 沙耶                              | 1                                      | 女性                                   | 1992-02-01                             | 27                                     | 223-0062                               | 神奈川県横浜市港北区日吉本町********** | S14011                                 | 20150228                               | C-20100421-9                           |\n",
       "| CS040412000191                         | 川井 郁恵                              | 1                                      | 女性                                   | 1977-01-05                             | 42                                     | 226-0021                               | 神奈川県横浜市緑区北八朔町**********   | S14040                                 | 20151101                               | 1-20091025-4                           |\n",
       "| CS023513000066                         | 神戸 そら                              | 1                                      | 女性                                   | 1961-12-17                             | 57                                     | 210-0005                               | 神奈川県川崎市川崎区東田町**********   | S14023                                 | 20150915                               | 5-20100524-9                           |\n",
       "| CS001515000263                         | 高松 夏空                              | 1                                      | 女性                                   | 1962-11-09                             | 56                                     | 144-0051                               | 東京都大田区西蒲田**********           | S13001                                 | 20160812                               | 1-20100804-1                           |\n",
       "| CS006415000279                         | 末永 綾                                | 1                                      | 女性                                   | 1969-10-03                             | 49                                     | 224-0037                               | 神奈川県横浜市都筑区茅ケ崎南********** | S14006                                 | 20150713                               | 1-20100519-2                           |\n",
       "| CS001212000098                         | 菊地 りえ                              | 9                                      | 不明                                   | 1995-01-19                             | 24                                     | 210-0842                               | 神奈川県川崎市川崎区渡田東町********** | S13001                                 | 20170604                               | 3-20090405-2                           |\n",
       "| CS008615000055                         | 二宮 コウ                              | 1                                      | 女性                                   | 1953-06-15                             | 65                                     | 157-0074                               | 東京都世田谷区大蔵**********           | S13008                                 | 20150623                               | 5-20100531-8                           |\n",
       "| CS030615000018                         | 島崎 美菜                              | 1                                      | 女性                                   | 1957-10-16                             | 61                                     | 272-0024                               | 千葉県市川市稲荷木**********           | S12030                                 | 20150925                               | 2-20100705-4                           |\n",
       "\n"
      ],
      "text/plain": [
       "   customer_id    customer_name gender_cd gender birth_day  age postal_cd\n",
       "1  CS001215000145 田崎 美紀     1         女性   1995-03-29 24  144-0055 \n",
       "2  CS033513000180 安斎 遥       1         女性   1962-07-11 56  241-0823 \n",
       "3  CS011215000048 芦田 沙耶     1         女性   1992-02-01 27  223-0062 \n",
       "4  CS040412000191 川井 郁恵     1         女性   1977-01-05 42  226-0021 \n",
       "5  CS023513000066 神戸 そら     1         女性   1961-12-17 57  210-0005 \n",
       "6  CS001515000263 高松 夏空     1         女性   1962-11-09 56  144-0051 \n",
       "7  CS006415000279 末永 綾       1         女性   1969-10-03 49  224-0037 \n",
       "8  CS001212000098 菊地 りえ     9         不明   1995-01-19 24  210-0842 \n",
       "9  CS008615000055 二宮 コウ     1         女性   1953-06-15 65  157-0074 \n",
       "10 CS030615000018 島崎 美菜     1         女性   1957-10-16 61  272-0024 \n",
       "   address                                application_store_cd application_date\n",
       "1  東京都大田区仲六郷**********           S13001               20170605        \n",
       "2  神奈川県横浜市旭区善部町**********     S14033               20150728        \n",
       "3  神奈川県横浜市港北区日吉本町********** S14011               20150228        \n",
       "4  神奈川県横浜市緑区北八朔町**********   S14040               20151101        \n",
       "5  神奈川県川崎市川崎区東田町**********   S14023               20150915        \n",
       "6  東京都大田区西蒲田**********           S13001               20160812        \n",
       "7  神奈川県横浜市都筑区茅ケ崎南********** S14006               20150713        \n",
       "8  神奈川県川崎市川崎区渡田東町********** S13001               20170604        \n",
       "9  東京都世田谷区大蔵**********           S13008               20150623        \n",
       "10 千葉県市川市稲荷木**********           S12030               20150925        \n",
       "   status_cd   \n",
       "1  6-20090929-2\n",
       "2  6-20080506-5\n",
       "3  C-20100421-9\n",
       "4  1-20091025-4\n",
       "5  5-20100524-9\n",
       "6  1-20100804-1\n",
       "7  1-20100519-2\n",
       "8  3-20090405-2\n",
       "9  5-20100531-8\n",
       "10 2-20100705-4"
      ]
     },
     "metadata": {},
     "output_type": "display_data"
    }
   ],
   "source": [
    "head(df_customer %>% filter(grepl(\"[1-9]$\", status_cd)), n=10)"
   ]
  },
  {
   "cell_type": "markdown",
   "metadata": {},
   "source": [
    "---\n",
    "> R-015: 顧客データフレーム（df_customer）から、ステータスコード（status_cd）の先頭がアルファベットのA〜Fで始まり、末尾が数字の1〜9で終わるデータを全項目抽出し、10件だけ表示せよ。"
   ]
  },
  {
   "cell_type": "code",
   "execution_count": 12,
   "metadata": {},
   "outputs": [
    {
     "data": {
      "text/html": [
       "<table>\n",
       "<thead><tr><th scope=col>customer_id</th><th scope=col>customer_name</th><th scope=col>gender_cd</th><th scope=col>gender</th><th scope=col>birth_day</th><th scope=col>age</th><th scope=col>postal_cd</th><th scope=col>address</th><th scope=col>application_store_cd</th><th scope=col>application_date</th><th scope=col>status_cd</th></tr></thead>\n",
       "<tbody>\n",
       "\t<tr><td>CS011215000048                        </td><td>芦田 沙耶                             </td><td>1                                     </td><td>女性                                  </td><td>1992-02-01                            </td><td>27                                    </td><td>223-0062                              </td><td>神奈川県横浜市港北区日吉本町**********</td><td>S14011                                </td><td>20150228                              </td><td>C-20100421-9                          </td></tr>\n",
       "\t<tr><td>CS013615000053                        </td><td>西脇 季衣                             </td><td>1                                     </td><td>女性                                  </td><td>1953-10-18                            </td><td>65                                    </td><td>261-0026                              </td><td>千葉県千葉市美浜区幕張西**********    </td><td>S12013                                </td><td>20150128                              </td><td>B-20100329-6                          </td></tr>\n",
       "\t<tr><td>CS020412000161                        </td><td>小宮 薫                               </td><td>1                                     </td><td>女性                                  </td><td>1974-05-21                            </td><td>44                                    </td><td>174-0042                              </td><td>東京都板橋区東坂下**********          </td><td>S13020                                </td><td>20150822                              </td><td>B-20081021-3                          </td></tr>\n",
       "\t<tr><td>CS001215000097                        </td><td>竹中 あさみ                           </td><td>1                                     </td><td>女性                                  </td><td>1990-07-25                            </td><td>28                                    </td><td>146-0095                              </td><td>東京都大田区多摩川**********          </td><td>S13001                                </td><td>20170315                              </td><td>A-20100211-2                          </td></tr>\n",
       "\t<tr><td>CS002515000386                        </td><td>野田 コウ                             </td><td>1                                     </td><td>女性                                  </td><td>1963-05-30                            </td><td>55                                    </td><td>185-0013                              </td><td>東京都国分寺市西恋ケ窪**********      </td><td>S13002                                </td><td>20160410                              </td><td>C-20100127-8                          </td></tr>\n",
       "\t<tr><td>CS001615000372                        </td><td>稲垣 寿々花                           </td><td>1                                     </td><td>女性                                  </td><td>1956-10-29                            </td><td>62                                    </td><td>144-0035                              </td><td>東京都大田区南蒲田**********          </td><td>S13001                                </td><td>20170403                              </td><td>A-20100104-1                          </td></tr>\n",
       "\t<tr><td>CS002614000180                        </td><td>関口 沙知絵                           </td><td>1                                     </td><td>女性                                  </td><td>1948-10-19                            </td><td>70                                    </td><td>187-0021                              </td><td>東京都小平市上水南町**********        </td><td>S13002                                </td><td>20170130                              </td><td>C-20100830-7                          </td></tr>\n",
       "\t<tr><td>CS022513000145                        </td><td>河原 美佳                             </td><td>1                                     </td><td>女性                                  </td><td>1966-02-20                            </td><td>53                                    </td><td>249-0005                              </td><td>神奈川県逗子市桜山**********          </td><td>S14022                                </td><td>20150927                              </td><td>D-20100207-7                          </td></tr>\n",
       "\t<tr><td>CS013615000047                        </td><td>紺野 花                               </td><td>1                                     </td><td>女性                                  </td><td>1949-03-27                            </td><td>70                                    </td><td>275-0021                              </td><td>千葉県習志野市袖ケ浦**********        </td><td>S12013                                </td><td>20150110                              </td><td>B-20090629-6                          </td></tr>\n",
       "\t<tr><td>CS003415000776                        </td><td>望月 薫                               </td><td>1                                     </td><td>女性                                  </td><td>1977-01-28                            </td><td>42                                    </td><td>201-0002                              </td><td>東京都狛江市東野川**********          </td><td>S13003                                </td><td>20171020                              </td><td>D-20100903-7                          </td></tr>\n",
       "</tbody>\n",
       "</table>\n"
      ],
      "text/latex": [
       "\\begin{tabular}{r|lllllllllll}\n",
       " customer\\_id & customer\\_name & gender\\_cd & gender & birth\\_day & age & postal\\_cd & address & application\\_store\\_cd & application\\_date & status\\_cd\\\\\n",
       "\\hline\n",
       "\t CS011215000048                         & 芦田 沙耶                              & 1                                      & 女性                                   & 1992-02-01                             & 27                                     & 223-0062                               & 神奈川県横浜市港北区日吉本町********** & S14011                                 & 20150228                               & C-20100421-9                          \\\\\n",
       "\t CS013615000053                         & 西脇 季衣                              & 1                                      & 女性                                   & 1953-10-18                             & 65                                     & 261-0026                               & 千葉県千葉市美浜区幕張西**********     & S12013                                 & 20150128                               & B-20100329-6                          \\\\\n",
       "\t CS020412000161                         & 小宮 薫                                & 1                                      & 女性                                   & 1974-05-21                             & 44                                     & 174-0042                               & 東京都板橋区東坂下**********           & S13020                                 & 20150822                               & B-20081021-3                          \\\\\n",
       "\t CS001215000097                         & 竹中 あさみ                            & 1                                      & 女性                                   & 1990-07-25                             & 28                                     & 146-0095                               & 東京都大田区多摩川**********           & S13001                                 & 20170315                               & A-20100211-2                          \\\\\n",
       "\t CS002515000386                         & 野田 コウ                              & 1                                      & 女性                                   & 1963-05-30                             & 55                                     & 185-0013                               & 東京都国分寺市西恋ケ窪**********       & S13002                                 & 20160410                               & C-20100127-8                          \\\\\n",
       "\t CS001615000372                         & 稲垣 寿々花                            & 1                                      & 女性                                   & 1956-10-29                             & 62                                     & 144-0035                               & 東京都大田区南蒲田**********           & S13001                                 & 20170403                               & A-20100104-1                          \\\\\n",
       "\t CS002614000180                         & 関口 沙知絵                            & 1                                      & 女性                                   & 1948-10-19                             & 70                                     & 187-0021                               & 東京都小平市上水南町**********         & S13002                                 & 20170130                               & C-20100830-7                          \\\\\n",
       "\t CS022513000145                         & 河原 美佳                              & 1                                      & 女性                                   & 1966-02-20                             & 53                                     & 249-0005                               & 神奈川県逗子市桜山**********           & S14022                                 & 20150927                               & D-20100207-7                          \\\\\n",
       "\t CS013615000047                         & 紺野 花                                & 1                                      & 女性                                   & 1949-03-27                             & 70                                     & 275-0021                               & 千葉県習志野市袖ケ浦**********         & S12013                                 & 20150110                               & B-20090629-6                          \\\\\n",
       "\t CS003415000776                         & 望月 薫                                & 1                                      & 女性                                   & 1977-01-28                             & 42                                     & 201-0002                               & 東京都狛江市東野川**********           & S13003                                 & 20171020                               & D-20100903-7                          \\\\\n",
       "\\end{tabular}\n"
      ],
      "text/markdown": [
       "\n",
       "| customer_id | customer_name | gender_cd | gender | birth_day | age | postal_cd | address | application_store_cd | application_date | status_cd |\n",
       "|---|---|---|---|---|---|---|---|---|---|---|\n",
       "| CS011215000048                         | 芦田 沙耶                              | 1                                      | 女性                                   | 1992-02-01                             | 27                                     | 223-0062                               | 神奈川県横浜市港北区日吉本町********** | S14011                                 | 20150228                               | C-20100421-9                           |\n",
       "| CS013615000053                         | 西脇 季衣                              | 1                                      | 女性                                   | 1953-10-18                             | 65                                     | 261-0026                               | 千葉県千葉市美浜区幕張西**********     | S12013                                 | 20150128                               | B-20100329-6                           |\n",
       "| CS020412000161                         | 小宮 薫                                | 1                                      | 女性                                   | 1974-05-21                             | 44                                     | 174-0042                               | 東京都板橋区東坂下**********           | S13020                                 | 20150822                               | B-20081021-3                           |\n",
       "| CS001215000097                         | 竹中 あさみ                            | 1                                      | 女性                                   | 1990-07-25                             | 28                                     | 146-0095                               | 東京都大田区多摩川**********           | S13001                                 | 20170315                               | A-20100211-2                           |\n",
       "| CS002515000386                         | 野田 コウ                              | 1                                      | 女性                                   | 1963-05-30                             | 55                                     | 185-0013                               | 東京都国分寺市西恋ケ窪**********       | S13002                                 | 20160410                               | C-20100127-8                           |\n",
       "| CS001615000372                         | 稲垣 寿々花                            | 1                                      | 女性                                   | 1956-10-29                             | 62                                     | 144-0035                               | 東京都大田区南蒲田**********           | S13001                                 | 20170403                               | A-20100104-1                           |\n",
       "| CS002614000180                         | 関口 沙知絵                            | 1                                      | 女性                                   | 1948-10-19                             | 70                                     | 187-0021                               | 東京都小平市上水南町**********         | S13002                                 | 20170130                               | C-20100830-7                           |\n",
       "| CS022513000145                         | 河原 美佳                              | 1                                      | 女性                                   | 1966-02-20                             | 53                                     | 249-0005                               | 神奈川県逗子市桜山**********           | S14022                                 | 20150927                               | D-20100207-7                           |\n",
       "| CS013615000047                         | 紺野 花                                | 1                                      | 女性                                   | 1949-03-27                             | 70                                     | 275-0021                               | 千葉県習志野市袖ケ浦**********         | S12013                                 | 20150110                               | B-20090629-6                           |\n",
       "| CS003415000776                         | 望月 薫                                | 1                                      | 女性                                   | 1977-01-28                             | 42                                     | 201-0002                               | 東京都狛江市東野川**********           | S13003                                 | 20171020                               | D-20100903-7                           |\n",
       "\n"
      ],
      "text/plain": [
       "   customer_id    customer_name gender_cd gender birth_day  age postal_cd\n",
       "1  CS011215000048 芦田 沙耶     1         女性   1992-02-01 27  223-0062 \n",
       "2  CS013615000053 西脇 季衣     1         女性   1953-10-18 65  261-0026 \n",
       "3  CS020412000161 小宮 薫       1         女性   1974-05-21 44  174-0042 \n",
       "4  CS001215000097 竹中 あさみ   1         女性   1990-07-25 28  146-0095 \n",
       "5  CS002515000386 野田 コウ     1         女性   1963-05-30 55  185-0013 \n",
       "6  CS001615000372 稲垣 寿々花   1         女性   1956-10-29 62  144-0035 \n",
       "7  CS002614000180 関口 沙知絵   1         女性   1948-10-19 70  187-0021 \n",
       "8  CS022513000145 河原 美佳     1         女性   1966-02-20 53  249-0005 \n",
       "9  CS013615000047 紺野 花       1         女性   1949-03-27 70  275-0021 \n",
       "10 CS003415000776 望月 薫       1         女性   1977-01-28 42  201-0002 \n",
       "   address                                application_store_cd application_date\n",
       "1  神奈川県横浜市港北区日吉本町********** S14011               20150228        \n",
       "2  千葉県千葉市美浜区幕張西**********     S12013               20150128        \n",
       "3  東京都板橋区東坂下**********           S13020               20150822        \n",
       "4  東京都大田区多摩川**********           S13001               20170315        \n",
       "5  東京都国分寺市西恋ケ窪**********       S13002               20160410        \n",
       "6  東京都大田区南蒲田**********           S13001               20170403        \n",
       "7  東京都小平市上水南町**********         S13002               20170130        \n",
       "8  神奈川県逗子市桜山**********           S14022               20150927        \n",
       "9  千葉県習志野市袖ケ浦**********         S12013               20150110        \n",
       "10 東京都狛江市東野川**********           S13003               20171020        \n",
       "   status_cd   \n",
       "1  C-20100421-9\n",
       "2  B-20100329-6\n",
       "3  B-20081021-3\n",
       "4  A-20100211-2\n",
       "5  C-20100127-8\n",
       "6  A-20100104-1\n",
       "7  C-20100830-7\n",
       "8  D-20100207-7\n",
       "9  B-20090629-6\n",
       "10 D-20100903-7"
      ]
     },
     "metadata": {},
     "output_type": "display_data"
    }
   ],
   "source": [
    "head(df_customer %>% filter(grepl(\"^[A-Z].*[1-9]$\", status_cd)), n=10)\n",
    "\n",
    "# 正規表現 .(ピリオド) 任意の１文字 にマッチ。\n",
    "# * 直前の文字が ０回以上 繰り返す場合にマッチ。"
   ]
  },
  {
   "cell_type": "code",
   "execution_count": null,
   "metadata": {},
   "outputs": [],
   "source": []
  }
 ],
 "metadata": {
  "kernelspec": {
   "display_name": "R",
   "language": "R",
   "name": "ir"
  },
  "language_info": {
   "codemirror_mode": "r",
   "file_extension": ".r",
   "mimetype": "text/x-r-source",
   "name": "R",
   "pygments_lexer": "r",
   "version": "3.6.1"
  }
 },
 "nbformat": 4,
 "nbformat_minor": 4
}
