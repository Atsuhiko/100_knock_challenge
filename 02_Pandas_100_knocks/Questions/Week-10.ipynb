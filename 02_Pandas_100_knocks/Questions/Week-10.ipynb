{
 "cells": [
  {
   "cell_type": "markdown",
   "metadata": {},
   "source": [
    "# 初学者向けPandas100本ノックver1.0.3"
   ]
  },
  {
   "cell_type": "code",
   "execution_count": null,
   "metadata": {},
   "outputs": [],
   "source": [
    "# ライブラリーの読み込み\n",
    "import pandas as pd\n",
    "import glob\n",
    "\n",
    "# DataFrameの準備\n",
    "df = pd.read_csv('./data/titanic3.csv'')\n",
    "df2 = pd.read_csv('./data/data1.csv')\n",
    "df3 = pd.read_csv('./data/data1_2.csv')\n",
    "df4 = pd.read_csv('./data/data1_3.csv')\n",
    "df5 = pd.read_csv('./data/data2.csv',encoding='cp932')"
   ]
  },
  {
   "cell_type": "markdown",
   "metadata": {},
   "source": [
    "# タイタニック号の生存者予測 (90 - 100)  \n",
    "これまで触れてきたタイタニック号の乗客データを使用して、乗客の生存有無を  \n",
    "予測してみます。  \n",
    "  \n",
    "※90～100については順番通りにやらないと上手く動作しません"
   ]
  },
  {
   "cell_type": "code",
   "execution_count": null,
   "metadata": {},
   "outputs": [],
   "source": [
    "# 【90】ラベルエンコーディング\n",
    "# df_copyのsexとembarked列をラベルエンコーディング\n",
    "# (from sklearn.preprocessing import LabelEncoderをインポート)\n",
    "# (df_copyはdfをコピーしたもの)\n",
    "\n",
    "\n",
    "\n",
    "\n"
   ]
  },
  {
   "cell_type": "code",
   "execution_count": null,
   "metadata": {},
   "outputs": [],
   "source": [
    "# 【91】欠損値確認\n",
    "# df_copyの欠損値を確認\n",
    "\n",
    "\n",
    "\n",
    "\n"
   ]
  },
  {
   "cell_type": "code",
   "execution_count": null,
   "metadata": {},
   "outputs": [],
   "source": [
    "# 【92】欠損値補完\n",
    "# df_copyのage、fare列の欠損値を各列の平均値で補完\n",
    "\n",
    "\n",
    "\n",
    "\n"
   ]
  },
  {
   "cell_type": "code",
   "execution_count": null,
   "metadata": {},
   "outputs": [],
   "source": [
    "# 【93】不要列の削除\n",
    "# df_copyの中で機械学習で使用しない不要な行を削除\n",
    "# (name, ticket, cabin, boat, body, home.destを削除)\n",
    "\n",
    "\n",
    "\n",
    "\n"
   ]
  },
  {
   "cell_type": "code",
   "execution_count": null,
   "metadata": {},
   "outputs": [],
   "source": [
    "# 【94】ndarray形式への変換\n",
    "# ①df_copyのpclass、age、sex、fare、embarkedの列を抽出し、ndarray形式に変換\n",
    "# ②df_copyのsurvivedの列を抽出し、ndarray形式に変換\n",
    "# (①をfeatures、②をtargetという変数にそれぞれ格納)\n",
    "\n",
    "\n",
    "\n",
    "\n"
   ]
  },
  {
   "cell_type": "code",
   "execution_count": null,
   "metadata": {},
   "outputs": [],
   "source": [
    "# 【95】学習データとテストデータに分割\n",
    "# 【94】で作成したfeatrues、targetを学習データとテストデータに分割\n",
    "# (from sklearn.model_selection import  train_test_splitをインポート)\n",
    "# ※分割時のパラメータは次を指定 test_size=0.3 random_state=0\n",
    "\n",
    "\n",
    "\n",
    "\n"
   ]
  },
  {
   "cell_type": "code",
   "execution_count": null,
   "metadata": {},
   "outputs": [],
   "source": [
    "# 【96】学習の実行\n",
    "# 学習データ(features、target)を用いランダムフォレストにて学習を実行\n",
    "# (from sklearn.ensemble import RandomForestClassifierをインポート)\n",
    "# ※パラメータは次を指定 n_estimators=100 random_state=0\n",
    "\n",
    "\n",
    "\n",
    "\n"
   ]
  },
  {
   "cell_type": "code",
   "execution_count": null,
   "metadata": {},
   "outputs": [],
   "source": [
    "# 【97】予測の実行\n",
    "# test_Xデータの乗客の生存を予測\n",
    "\n",
    "\n",
    "\n"
   ]
  },
  {
   "cell_type": "code",
   "execution_count": null,
   "metadata": {},
   "outputs": [],
   "source": [
    "# 【98】予測精度の確認\n",
    "# 予測結果がtest_y(生存有無の答え)とどれぐらい\n",
    "# 整合していたかを確認(評価指標はaccuracy)\n",
    "# (from sklearn.metrics import accuracy_scoreをインポート)\n",
    "\n",
    "\n",
    "\n",
    "\n"
   ]
  },
  {
   "cell_type": "code",
   "execution_count": null,
   "metadata": {},
   "outputs": [],
   "source": [
    "# 【99】重要度の確認\n",
    "# 学習における各列(特徴量)の\n",
    "# 重要度を表示\n",
    "\n",
    "\n",
    "\n",
    "\n"
   ]
  },
  {
   "cell_type": "code",
   "execution_count": null,
   "metadata": {},
   "outputs": [],
   "source": [
    "# 【100】予測結果のcsv出力\n",
    "# test_Xの予測結果をcsvでoutputフォルダに出力(ファイル名は「submission.csv」)\n",
    "# (headerは不要)\n",
    "\n",
    "\n",
    "\n",
    "\n"
   ]
  },
  {
   "cell_type": "markdown",
   "metadata": {},
   "source": [
    "# ノックお疲れ様でした\n",
    "各セルのoutput表示をすべてクリアにしたい場合は、ツールバーの  \n",
    "「Kernel」→「Restart & Clear Output」を実行して下さい。"
   ]
  }
 ],
 "metadata": {
  "kernelspec": {
   "display_name": "Python 3",
   "language": "python",
   "name": "python3"
  },
  "language_info": {
   "codemirror_mode": {
    "name": "ipython",
    "version": 3
   },
   "file_extension": ".py",
   "mimetype": "text/x-python",
   "name": "python",
   "nbconvert_exporter": "python",
   "pygments_lexer": "ipython3",
   "version": "3.7.7"
  }
 },
 "nbformat": 4,
 "nbformat_minor": 4
}
