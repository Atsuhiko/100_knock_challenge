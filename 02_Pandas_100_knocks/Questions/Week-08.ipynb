{
 "cells": [
  {
   "cell_type": "markdown",
   "metadata": {},
   "source": [
    "# 初学者向けPandas100本ノックver1.0.3"
   ]
  },
  {
   "cell_type": "code",
   "execution_count": null,
   "metadata": {},
   "outputs": [],
   "source": [
    "# ライブラリーの読み込み\n",
    "import pandas as pd\n",
    "import glob\n",
    "\n",
    "# DataFrameの準備\n",
    "df = pd.read_csv('./data/titanic3.csv'')\n",
    "df2 = pd.read_csv('./data/data1.csv')\n",
    "df3 = pd.read_csv('./data/data1_2.csv')\n",
    "df4 = pd.read_csv('./data/data1_3.csv')\n",
    "df5 = pd.read_csv('./data/data2.csv',encoding='cp932')"
   ]
  },
  {
   "cell_type": "markdown",
   "metadata": {},
   "source": [
    "# 統計 (66 - 79)"
   ]
  },
  {
   "cell_type": "code",
   "execution_count": null,
   "metadata": {},
   "outputs": [],
   "source": [
    "# 【71】\n",
    "# df2においてclassでグルーピングし、クラスごとの科目の\n",
    "# 最大値、最小値、平均値を求める(name列は削除しておく)\n",
    "\n",
    "\n",
    "\n"
   ]
  },
  {
   "cell_type": "code",
   "execution_count": null,
   "metadata": {},
   "outputs": [],
   "source": [
    "# 【72】\n",
    "# dfの基本統計量を確認(describe)\n",
    "\n",
    "\n",
    "\n"
   ]
  },
  {
   "cell_type": "code",
   "execution_count": null,
   "metadata": {},
   "outputs": [],
   "source": [
    "# 【73】\n",
    "# dfの各列間の(Pearson)相関係数を確認\n",
    "\n",
    "\n",
    "\n"
   ]
  },
  {
   "cell_type": "code",
   "execution_count": null,
   "metadata": {},
   "outputs": [],
   "source": [
    "# 【74】\n",
    "# scikit-learnを用いてdf2のEnglish、Mathmatics、History列を標準化する\n",
    "# (from sklearn.preprocessing import StandardScalerをインポート)\n",
    "\n",
    "\n",
    "\n",
    "\n"
   ]
  },
  {
   "cell_type": "code",
   "execution_count": null,
   "metadata": {},
   "outputs": [],
   "source": [
    "# 【75】\n",
    "# scikit-learnを用いてdf2のEnglish列を標準化する\n",
    "# (from sklearn.preprocessing import StandardScalerをインポート)\n",
    "\n",
    "\n",
    "\n",
    "\n"
   ]
  },
  {
   "cell_type": "code",
   "execution_count": null,
   "metadata": {},
   "outputs": [],
   "source": [
    "# 【76】\n",
    "# scikit-learnを用いてdf2のEnglish、Mathmatics、History列を\n",
    "# Min-Maxスケーリングする\n",
    "# (from sklearn.preprocessing import StandardScalerをインポート)\n",
    "\n",
    "\n",
    "\n",
    "\n"
   ]
  },
  {
   "cell_type": "code",
   "execution_count": null,
   "metadata": {},
   "outputs": [],
   "source": [
    "# 【77】\n",
    "# dfのfare列の最大値、最小値の行名を取得\n",
    "\n",
    "\n",
    "\n",
    "\n"
   ]
  },
  {
   "cell_type": "code",
   "execution_count": null,
   "metadata": {},
   "outputs": [],
   "source": [
    "# 【78】\n",
    "# dfのfare列の0、25、50、75、100パーセンタイルを取得\n",
    "\n",
    "\n",
    "\n"
   ]
  },
  {
   "cell_type": "code",
   "execution_count": null,
   "metadata": {},
   "outputs": [],
   "source": [
    "# 【79】\n",
    "# ①dfのage列の最頻値を取得\n",
    "# ②value_counts()にてage列の要素数を\n",
    "# 確認し、①の結果の妥当性を確認\n",
    "\n",
    "\n",
    "\n",
    "\n"
   ]
  }
 ],
 "metadata": {
  "kernelspec": {
   "display_name": "Python 3",
   "language": "python",
   "name": "python3"
  },
  "language_info": {
   "codemirror_mode": {
    "name": "ipython",
    "version": 3
   },
   "file_extension": ".py",
   "mimetype": "text/x-python",
   "name": "python",
   "nbconvert_exporter": "python",
   "pygments_lexer": "ipython3",
   "version": "3.7.7"
  }
 },
 "nbformat": 4,
 "nbformat_minor": 4
}
