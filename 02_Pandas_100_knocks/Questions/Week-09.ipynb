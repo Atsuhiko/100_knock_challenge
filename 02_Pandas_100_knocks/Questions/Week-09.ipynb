{
 "cells": [
  {
   "cell_type": "markdown",
   "metadata": {},
   "source": [
    "# 初学者向けPandas100本ノックver1.0.3"
   ]
  },
  {
   "cell_type": "code",
   "execution_count": null,
   "metadata": {},
   "outputs": [],
   "source": [
    "# ライブラリーの読み込み\n",
    "import pandas as pd\n",
    "import glob\n",
    "\n",
    "# DataFrameの準備\n",
    "df = pd.read_csv('./data/titanic3.csv'')\n",
    "df2 = pd.read_csv('./data/data1.csv')\n",
    "df3 = pd.read_csv('./data/data1_2.csv')\n",
    "df4 = pd.read_csv('./data/data1_3.csv')\n",
    "df5 = pd.read_csv('./data/data2.csv',encoding='cp932')"
   ]
  },
  {
   "cell_type": "markdown",
   "metadata": {},
   "source": [
    "# ラベリング (80 - 81)"
   ]
  },
  {
   "cell_type": "code",
   "execution_count": null,
   "metadata": {},
   "outputs": [],
   "source": [
    "# 【80】\n",
    "# dfのsex列をラベルエンコーディングし、\n",
    "# dfの先頭5行を表示\n",
    "# (from sklearn.preprocessing import LabelEncoderをインポート)\n",
    "\n",
    "\n",
    "\n"
   ]
  },
  {
   "cell_type": "code",
   "execution_count": null,
   "metadata": {},
   "outputs": [],
   "source": [
    "# 【81】\n",
    "# dfのsex列をOne-hotエンコーディングし、\n",
    "# dfの先頭5行を表示\n",
    "\n",
    "\n",
    "\n",
    "\n"
   ]
  },
  {
   "cell_type": "markdown",
   "metadata": {},
   "source": [
    "# Pandasプロット (82 - 89)\n",
    "Pandasプロットの機能については以下のサイトの説明が分かりやすいです  \n",
    "[自調自考の旅](https://own-search-and-study.xyz/2016/08/03/pandas%E3%81%AEplot%E3%81%AE%E5%85%A8%E5%BC%95%E6%95%B0%E3%82%92%E4%BD%BF%E3%81%84%E3%81%93%E3%81%AA%E3%81%99/)"
   ]
  },
  {
   "cell_type": "code",
   "execution_count": null,
   "metadata": {},
   "outputs": [],
   "source": [
    "# 【82】\n",
    "# dfのすべての数値列のヒストグラムを表示\n",
    "\n",
    "\n",
    "\n",
    "\n"
   ]
  },
  {
   "cell_type": "code",
   "execution_count": null,
   "metadata": {},
   "outputs": [],
   "source": [
    "# 【83】\n",
    "# dfのage列をヒストグラムで表示\n",
    "\n",
    "\n",
    "\n",
    "\n"
   ]
  },
  {
   "cell_type": "code",
   "execution_count": null,
   "metadata": {},
   "outputs": [],
   "source": [
    "# 【84】\n",
    "# df2のname列の要素ごとの3科目合計得点を棒グラフで表示\n",
    "\n",
    "\n",
    "\n"
   ]
  },
  {
   "cell_type": "code",
   "execution_count": null,
   "metadata": {},
   "outputs": [],
   "source": [
    "# 【85】\n",
    "# df2のname列の要素ごとの3科目を棒グラフで\n",
    "# 並べて表示\n",
    "\n",
    "\n",
    "\n",
    "\n"
   ]
  },
  {
   "cell_type": "code",
   "execution_count": null,
   "metadata": {},
   "outputs": [],
   "source": [
    "# 【86】\n",
    "# df2のname列の要素ごとの3科目を積み上げ棒グラフで表示\n",
    "\n",
    "\n",
    "\n",
    "\n"
   ]
  },
  {
   "cell_type": "code",
   "execution_count": null,
   "metadata": {},
   "outputs": [],
   "source": [
    "# 【87】\n",
    "# dfの各列間の散布図を表示\n",
    "# (from pandas.plotting import scatter_matrixをインポート)\n",
    "\n",
    "\n",
    "\n"
   ]
  },
  {
   "cell_type": "code",
   "execution_count": null,
   "metadata": {},
   "outputs": [],
   "source": [
    "# 【88】\n",
    "# dfのage列とfare列で散布図を作成\n",
    "\n",
    "\n",
    "\n"
   ]
  },
  {
   "cell_type": "code",
   "execution_count": null,
   "metadata": {},
   "outputs": [],
   "source": [
    "# 【89】\n",
    "# 【88】で描画したグラフに「age-fare scatter」という\n",
    "# グラフタイトルをつける\n",
    "\n",
    "\n",
    "\n",
    "\n"
   ]
  }
 ],
 "metadata": {
  "kernelspec": {
   "display_name": "Python 3",
   "language": "python",
   "name": "python3"
  },
  "language_info": {
   "codemirror_mode": {
    "name": "ipython",
    "version": 3
   },
   "file_extension": ".py",
   "mimetype": "text/x-python",
   "name": "python",
   "nbconvert_exporter": "python",
   "pygments_lexer": "ipython3",
   "version": "3.7.7"
  }
 },
 "nbformat": 4,
 "nbformat_minor": 4
}
