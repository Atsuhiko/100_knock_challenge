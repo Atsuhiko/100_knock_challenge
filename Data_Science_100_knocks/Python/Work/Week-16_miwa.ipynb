{
 "cells": [
  {
   "cell_type": "markdown",
   "metadata": {},
   "source": [
    "# データサイエンス100本ノック（構造化データ加工編） - Python"
   ]
  },
  {
   "cell_type": "code",
   "execution_count": 1,
   "metadata": {},
   "outputs": [
    {
     "name": "stderr",
     "output_type": "stream",
     "text": [
      "/Users/miwa/.pyenv/versions/anaconda3-5.3.1/lib/python3.7/site-packages/sklearn/ensemble/weight_boosting.py:29: DeprecationWarning: numpy.core.umath_tests is an internal NumPy module and should not be imported. It will be removed in a future NumPy release.\n",
      "  from numpy.core.umath_tests import inner1d\n",
      "/Users/miwa/.pyenv/versions/anaconda3-5.3.1/lib/python3.7/site-packages/IPython/core/interactiveshell.py:2785: DtypeWarning: Columns (4) have mixed types. Specify dtype option on import or set low_memory=False.\n",
      "  interactivity=interactivity, compiler=compiler, result=result)\n"
     ]
    }
   ],
   "source": [
    "import os\n",
    "import pandas as pd\n",
    "import numpy as np\n",
    "from datetime import datetime, date\n",
    "from dateutil.relativedelta import relativedelta\n",
    "import math\n",
    "import psycopg2\n",
    "from sqlalchemy import create_engine\n",
    "from sklearn import preprocessing\n",
    "from sklearn.model_selection import train_test_split\n",
    "from imblearn.under_sampling import RandomUnderSampler # conda install -c conda-forge imbalanced-learn\n",
    "\n",
    "df_customer = pd.read_csv(\"./data/customer.csv\")\n",
    "df_category = pd.read_csv(\"./data/category.csv\")\n",
    "df_product = pd.read_csv(\"./data/product.csv\")\n",
    "df_receipt = pd.read_csv(\"./data/receipt.csv\")\n",
    "df_store = pd.read_csv(\"./data/store.csv\")\n",
    "df_geocode = pd.read_csv(\"./data/geocode.csv\")"
   ]
  },
  {
   "cell_type": "markdown",
   "metadata": {},
   "source": [
    "## はじめに\n",
    "- 初めに以下のセルを実行してください\n",
    "- 必要なライブラリのインポートとデータベース（PostgreSQL）からのデータ読み込みを行います\n",
    "- pandas等、利用が想定されるライブラリは以下セルでインポートしています\n",
    "- その他利用したいライブラリがあれば適宜インストールしてください（\"!pip install ライブラリ名\"でインストールも可能）\n",
    "- 処理は複数回に分けても構いません\n",
    "- 名前、住所等はダミーデータであり、実在するものではありません"
   ]
  },
  {
   "cell_type": "markdown",
   "metadata": {},
   "source": [
    "---\n",
    "> P-076: 顧客データフレーム（df_customer）から性別（gender_cd）の割合に基づきランダムに10%のデータを層化抽出データし、性別ごとに件数を集計せよ。"
   ]
  },
  {
   "cell_type": "code",
   "execution_count": 2,
   "metadata": {},
   "outputs": [
    {
     "data": {
      "text/html": [
       "<div>\n",
       "<style scoped>\n",
       "    .dataframe tbody tr th:only-of-type {\n",
       "        vertical-align: middle;\n",
       "    }\n",
       "\n",
       "    .dataframe tbody tr th {\n",
       "        vertical-align: top;\n",
       "    }\n",
       "\n",
       "    .dataframe thead th {\n",
       "        text-align: right;\n",
       "    }\n",
       "</style>\n",
       "<table border=\"1\" class=\"dataframe\">\n",
       "  <thead>\n",
       "    <tr style=\"text-align: right;\">\n",
       "      <th></th>\n",
       "      <th>customer_id</th>\n",
       "    </tr>\n",
       "    <tr>\n",
       "      <th>gender_cd</th>\n",
       "      <th></th>\n",
       "    </tr>\n",
       "  </thead>\n",
       "  <tbody>\n",
       "    <tr>\n",
       "      <th>0</th>\n",
       "      <td>298</td>\n",
       "    </tr>\n",
       "    <tr>\n",
       "      <th>1</th>\n",
       "      <td>1793</td>\n",
       "    </tr>\n",
       "    <tr>\n",
       "      <th>9</th>\n",
       "      <td>107</td>\n",
       "    </tr>\n",
       "  </tbody>\n",
       "</table>\n",
       "</div>"
      ],
      "text/plain": [
       "           customer_id\n",
       "gender_cd             \n",
       "0                  298\n",
       "1                 1793\n",
       "9                  107"
      ]
     },
     "execution_count": 2,
     "metadata": {},
     "output_type": "execute_result"
    }
   ],
   "source": [
    "# 層下抽出のやり方はない？\n",
    "# samleでは出来なさそう\n",
    "# 分からないから答え見る\n",
    "\n",
    "_, df_tmp = train_test_split(df_customer, test_size=0.1, stratify=df_customer['gender'])\n",
    "df_tmp.groupby('gender_cd').agg({'customer_id': 'count'})"
   ]
  },
  {
   "cell_type": "markdown",
   "metadata": {},
   "source": [
    "---\n",
    "> P-077: レシート明細データフレーム（df_receipt）の売上金額（amount）を顧客単位に合計し、合計した売上金額の外れ値を抽出せよ。ただし、顧客IDが\"Z\"から始まるのものは非会員を表すため、除外して計算すること。なお、ここでは外れ値を平均から3σ以上離れたものとする。結果は10件表示させれば良い。"
   ]
  },
  {
   "cell_type": "code",
   "execution_count": 6,
   "metadata": {},
   "outputs": [
    {
     "name": "stderr",
     "output_type": "stream",
     "text": [
      "/Users/miwa/.pyenv/versions/anaconda3-5.3.1/lib/python3.7/site-packages/sklearn/utils/validation.py:475: DataConversionWarning: Data with input dtype int64 was converted to float64 by the scale function.\n",
      "  warnings.warn(msg, DataConversionWarning)\n"
     ]
    },
    {
     "data": {
      "text/html": [
       "<div>\n",
       "<style scoped>\n",
       "    .dataframe tbody tr th:only-of-type {\n",
       "        vertical-align: middle;\n",
       "    }\n",
       "\n",
       "    .dataframe tbody tr th {\n",
       "        vertical-align: top;\n",
       "    }\n",
       "\n",
       "    .dataframe thead th {\n",
       "        text-align: right;\n",
       "    }\n",
       "</style>\n",
       "<table border=\"1\" class=\"dataframe\">\n",
       "  <thead>\n",
       "    <tr style=\"text-align: right;\">\n",
       "      <th></th>\n",
       "      <th>customer_id</th>\n",
       "      <th>amount</th>\n",
       "      <th>amount_ss</th>\n",
       "    </tr>\n",
       "  </thead>\n",
       "  <tbody>\n",
       "    <tr>\n",
       "      <th>332</th>\n",
       "      <td>CS001605000009</td>\n",
       "      <td>18925</td>\n",
       "      <td>6.019921</td>\n",
       "    </tr>\n",
       "    <tr>\n",
       "      <th>1755</th>\n",
       "      <td>CS006415000147</td>\n",
       "      <td>12723</td>\n",
       "      <td>3.740202</td>\n",
       "    </tr>\n",
       "    <tr>\n",
       "      <th>1817</th>\n",
       "      <td>CS006515000023</td>\n",
       "      <td>18372</td>\n",
       "      <td>5.816651</td>\n",
       "    </tr>\n",
       "    <tr>\n",
       "      <th>1833</th>\n",
       "      <td>CS006515000125</td>\n",
       "      <td>12575</td>\n",
       "      <td>3.685800</td>\n",
       "    </tr>\n",
       "    <tr>\n",
       "      <th>1841</th>\n",
       "      <td>CS006515000209</td>\n",
       "      <td>11373</td>\n",
       "      <td>3.243972</td>\n",
       "    </tr>\n",
       "    <tr>\n",
       "      <th>1870</th>\n",
       "      <td>CS007115000006</td>\n",
       "      <td>11528</td>\n",
       "      <td>3.300946</td>\n",
       "    </tr>\n",
       "    <tr>\n",
       "      <th>1941</th>\n",
       "      <td>CS007514000056</td>\n",
       "      <td>13293</td>\n",
       "      <td>3.949721</td>\n",
       "    </tr>\n",
       "    <tr>\n",
       "      <th>1943</th>\n",
       "      <td>CS007514000094</td>\n",
       "      <td>15735</td>\n",
       "      <td>4.847347</td>\n",
       "    </tr>\n",
       "    <tr>\n",
       "      <th>1951</th>\n",
       "      <td>CS007515000107</td>\n",
       "      <td>11188</td>\n",
       "      <td>3.175970</td>\n",
       "    </tr>\n",
       "    <tr>\n",
       "      <th>1997</th>\n",
       "      <td>CS007615000026</td>\n",
       "      <td>11959</td>\n",
       "      <td>3.459372</td>\n",
       "    </tr>\n",
       "  </tbody>\n",
       "</table>\n",
       "</div>"
      ],
      "text/plain": [
       "         customer_id  amount  amount_ss\n",
       "332   CS001605000009   18925   6.019921\n",
       "1755  CS006415000147   12723   3.740202\n",
       "1817  CS006515000023   18372   5.816651\n",
       "1833  CS006515000125   12575   3.685800\n",
       "1841  CS006515000209   11373   3.243972\n",
       "1870  CS007115000006   11528   3.300946\n",
       "1941  CS007514000056   13293   3.949721\n",
       "1943  CS007514000094   15735   4.847347\n",
       "1951  CS007515000107   11188   3.175970\n",
       "1997  CS007615000026   11959   3.459372"
      ]
     },
     "execution_count": 6,
     "metadata": {},
     "output_type": "execute_result"
    }
   ],
   "source": [
    "# 分からねえ。外れ値ってなんや。多分平均から異常に離れた値のことやけど。3σってなに\n",
    "\n",
    "# df_tmp = df_receipt.groupby('customer_id').amount.sum().reset_index()\n",
    "# df_tmp.head()\n",
    "\n",
    "# 答え見る\n",
    "df_sales_amount = df_receipt.query('not customer_id.str.startswith(\"Z\")', engine='python'). \\\n",
    "    groupby('customer_id').agg({'amount':'sum'}).reset_index()\n",
    "df_sales_amount['amount_ss'] = preprocessing.scale(df_sales_amount['amount'])\n",
    "df_sales_amount.query('abs(amount_ss) >= 3').head(10)"
   ]
  },
  {
   "cell_type": "markdown",
   "metadata": {},
   "source": [
    "---\n",
    "> P-078: レシート明細データフレーム（df_receipt）の売上金額（amount）を顧客単位に合計し、合計した売上金額の外れ値を抽出せよ。ただし、顧客IDが\"Z\"から始まるのものは非会員を表すため、除外して計算すること。なお、ここでは外れ値を第一四分位と第三四分位の差であるIQRを用いて、「第一四分位数-1.5×IQR」よりも下回るもの、または「第三四分位数+1.5×IQR」を超えるものとする。結果は10件表示させれば良い。"
   ]
  },
  {
   "cell_type": "code",
   "execution_count": 11,
   "metadata": {},
   "outputs": [
    {
     "data": {
      "text/html": [
       "<div>\n",
       "<style scoped>\n",
       "    .dataframe tbody tr th:only-of-type {\n",
       "        vertical-align: middle;\n",
       "    }\n",
       "\n",
       "    .dataframe tbody tr th {\n",
       "        vertical-align: top;\n",
       "    }\n",
       "\n",
       "    .dataframe thead th {\n",
       "        text-align: right;\n",
       "    }\n",
       "</style>\n",
       "<table border=\"1\" class=\"dataframe\">\n",
       "  <thead>\n",
       "    <tr style=\"text-align: right;\">\n",
       "      <th></th>\n",
       "      <th>customer_id</th>\n",
       "      <th>amount</th>\n",
       "    </tr>\n",
       "  </thead>\n",
       "  <tbody>\n",
       "    <tr>\n",
       "      <th>98</th>\n",
       "      <td>CS001414000048</td>\n",
       "      <td>8584</td>\n",
       "    </tr>\n",
       "    <tr>\n",
       "      <th>332</th>\n",
       "      <td>CS001605000009</td>\n",
       "      <td>18925</td>\n",
       "    </tr>\n",
       "    <tr>\n",
       "      <th>549</th>\n",
       "      <td>CS002415000594</td>\n",
       "      <td>9568</td>\n",
       "    </tr>\n",
       "    <tr>\n",
       "      <th>1180</th>\n",
       "      <td>CS004414000181</td>\n",
       "      <td>9584</td>\n",
       "    </tr>\n",
       "    <tr>\n",
       "      <th>1558</th>\n",
       "      <td>CS005415000137</td>\n",
       "      <td>8734</td>\n",
       "    </tr>\n",
       "    <tr>\n",
       "      <th>1733</th>\n",
       "      <td>CS006414000001</td>\n",
       "      <td>9156</td>\n",
       "    </tr>\n",
       "    <tr>\n",
       "      <th>1736</th>\n",
       "      <td>CS006414000029</td>\n",
       "      <td>9179</td>\n",
       "    </tr>\n",
       "    <tr>\n",
       "      <th>1752</th>\n",
       "      <td>CS006415000105</td>\n",
       "      <td>10042</td>\n",
       "    </tr>\n",
       "    <tr>\n",
       "      <th>1755</th>\n",
       "      <td>CS006415000147</td>\n",
       "      <td>12723</td>\n",
       "    </tr>\n",
       "    <tr>\n",
       "      <th>1757</th>\n",
       "      <td>CS006415000157</td>\n",
       "      <td>10648</td>\n",
       "    </tr>\n",
       "  </tbody>\n",
       "</table>\n",
       "</div>"
      ],
      "text/plain": [
       "         customer_id  amount\n",
       "98    CS001414000048    8584\n",
       "332   CS001605000009   18925\n",
       "549   CS002415000594    9568\n",
       "1180  CS004414000181    9584\n",
       "1558  CS005415000137    8734\n",
       "1733  CS006414000001    9156\n",
       "1736  CS006414000029    9179\n",
       "1752  CS006415000105   10042\n",
       "1755  CS006415000147   12723\n",
       "1757  CS006415000157   10648"
      ]
     },
     "execution_count": 11,
     "metadata": {},
     "output_type": "execute_result"
    }
   ],
   "source": [
    "# 分からんから若干答え見た\n",
    "# https://teratail.com/questions/163958?fbclid=IwAR2d4n3SAPVW6z5r88O0Sc2vcqTlippT6hbzOGMm2M_wnIjRhbkQyugyU2w\n",
    "\n",
    "df_sales_amount = df_receipt.query('not customer_id.str.startswith(\"Z\")', engine='python'). \\\n",
    "    groupby('customer_id').agg({'amount':'sum'}).reset_index()\n",
    "\n",
    "q75, q25 = np.percentile(df_sales_amount['amount'], [75 ,25])\n",
    "iqr = q75 - q25\n",
    "amount_low = q25 - (iqr * 1.5)\n",
    "amount_high = q75 + (iqr * 1.5)\n",
    "# queryの中で@入れると呼び出し元で定義された変数にアクセス出来るらしい。これってpython全体の仕様？\n",
    "df_sales_amount.query('amount < @amount_low or @amount_high < amount').head(10)"
   ]
  },
  {
   "cell_type": "markdown",
   "metadata": {},
   "source": [
    "---\n",
    "> P-079: 商品データフレーム（df_product）の各項目に対し、欠損数を確認せよ。"
   ]
  },
  {
   "cell_type": "code",
   "execution_count": 16,
   "metadata": {},
   "outputs": [
    {
     "data": {
      "text/plain": [
       "product_cd            0\n",
       "category_major_cd     0\n",
       "category_medium_cd    0\n",
       "category_small_cd     0\n",
       "unit_price            7\n",
       "unit_cost             7\n",
       "dtype: int64"
      ]
     },
     "execution_count": 16,
     "metadata": {},
     "output_type": "execute_result"
    }
   ],
   "source": [
    "df_product.isnull().sum()"
   ]
  },
  {
   "cell_type": "markdown",
   "metadata": {},
   "source": [
    "---\n",
    "> P-080: 商品データフレーム（df_product）のいずれかの項目に欠損が発生しているレコードを全て削除した新たなdf_product_1を作成せよ。なお、削除前後の件数を表示させ、前設問で確認した件数だけ減少していることも確認すること。"
   ]
  },
  {
   "cell_type": "code",
   "execution_count": 23,
   "metadata": {},
   "outputs": [
    {
     "ename": "SyntaxError",
     "evalue": "unexpected EOF while parsing (<ipython-input-23-5c4b7ac65c15>, line 2)",
     "output_type": "error",
     "traceback": [
      "\u001b[0;36m  File \u001b[0;32m\"<ipython-input-23-5c4b7ac65c15>\"\u001b[0;36m, line \u001b[0;32m2\u001b[0m\n\u001b[0;31m    {'削除前': df_product.product_cd.count(), '削除後': df_product_1.product_cd.count()\u001b[0m\n\u001b[0m                                                                                 ^\u001b[0m\n\u001b[0;31mSyntaxError\u001b[0m\u001b[0;31m:\u001b[0m unexpected EOF while parsing\n"
     ]
    }
   ],
   "source": [
    "df_product_1 = df_product.dropna()\n",
    "{'削除前': df_product.product_cd.count(), df_product_1.product_cd.count()]"
   ]
  },
  {
   "cell_type": "code",
   "execution_count": null,
   "metadata": {},
   "outputs": [],
   "source": []
  }
 ],
 "metadata": {
  "kernelspec": {
   "display_name": "Python 3",
   "language": "python",
   "name": "python3"
  },
  "language_info": {
   "codemirror_mode": {
    "name": "ipython",
    "version": 3
   },
   "file_extension": ".py",
   "mimetype": "text/x-python",
   "name": "python",
   "nbconvert_exporter": "python",
   "pygments_lexer": "ipython3",
   "version": "3.7.7"
  }
 },
 "nbformat": 4,
 "nbformat_minor": 4
}
