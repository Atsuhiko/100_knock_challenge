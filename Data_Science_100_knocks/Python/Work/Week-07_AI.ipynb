{
 "cells": [
  {
   "cell_type": "markdown",
   "metadata": {},
   "source": [
    "# データサイエンス100本ノック（構造化データ加工編） - Python"
   ]
  },
  {
   "cell_type": "markdown",
   "metadata": {},
   "source": [
    "## はじめに\n",
    "- 初めに以下のセルを実行してください\n",
    "- 必要なライブラリのインポートとデータベース（PostgreSQL）からのデータ読み込みを行います\n",
    "- pandas等、利用が想定されるライブラリは以下セルでインポートしています\n",
    "- その他利用したいライブラリがあれば適宜インストールしてください（\"!pip install ライブラリ名\"でインストールも可能）\n",
    "- 処理は複数回に分けても構いません\n",
    "- 名前、住所等はダミーデータであり、実在するものではありません"
   ]
  },
  {
   "cell_type": "code",
   "execution_count": 1,
   "metadata": {},
   "outputs": [
    {
     "name": "stderr",
     "output_type": "stream",
     "text": [
      "C:\\Users\\iiats\\Anaconda3\\envs\\Python36-gpu\\lib\\site-packages\\IPython\\core\\interactiveshell.py:3063: DtypeWarning: Columns (4) have mixed types.Specify dtype option on import or set low_memory=False.\n",
      "  interactivity=interactivity, compiler=compiler, result=result)\n"
     ]
    }
   ],
   "source": [
    "import os\n",
    "import pandas as pd\n",
    "import numpy as np\n",
    "from datetime import datetime, date\n",
    "from dateutil.relativedelta import relativedelta\n",
    "import math\n",
    "import psycopg2\n",
    "from sqlalchemy import create_engine\n",
    "from sklearn import preprocessing\n",
    "from sklearn.model_selection import train_test_split\n",
    "from imblearn.under_sampling import RandomUnderSampler # conda install -c conda-forge imbalanced-learn\n",
    "\n",
    "df_customer = pd.read_csv(\"./data/customer.csv\")\n",
    "df_category = pd.read_csv(\"./data/category.csv\")\n",
    "df_product = pd.read_csv(\"./data/product.csv\")\n",
    "df_receipt = pd.read_csv(\"./data/receipt.csv\")\n",
    "df_store = pd.read_csv(\"./data/store.csv\")\n",
    "df_geocode = pd.read_csv(\"./data/geocode.csv\")"
   ]
  },
  {
   "cell_type": "markdown",
   "metadata": {},
   "source": [
    "# 演習問題"
   ]
  },
  {
   "cell_type": "markdown",
   "metadata": {},
   "source": [
    "---\n",
    "> P-031: レシート明細データフレーム（df_receipt）に対し、店舗コード（store_cd）ごとに売上金額（amount）の標本標準偏差を計算し、降順でTOP5を表示せよ。"
   ]
  },
  {
   "cell_type": "code",
   "execution_count": 2,
   "metadata": {},
   "outputs": [
    {
     "data": {
      "text/html": [
       "<div>\n",
       "<style scoped>\n",
       "    .dataframe tbody tr th:only-of-type {\n",
       "        vertical-align: middle;\n",
       "    }\n",
       "\n",
       "    .dataframe tbody tr th {\n",
       "        vertical-align: top;\n",
       "    }\n",
       "\n",
       "    .dataframe thead th {\n",
       "        text-align: right;\n",
       "    }\n",
       "</style>\n",
       "<table border=\"1\" class=\"dataframe\">\n",
       "  <thead>\n",
       "    <tr style=\"text-align: right;\">\n",
       "      <th></th>\n",
       "      <th>store_cd</th>\n",
       "      <th>amount</th>\n",
       "    </tr>\n",
       "  </thead>\n",
       "  <tbody>\n",
       "    <tr>\n",
       "      <th>28</th>\n",
       "      <td>S13052</td>\n",
       "      <td>663.391816</td>\n",
       "    </tr>\n",
       "    <tr>\n",
       "      <th>31</th>\n",
       "      <td>S14011</td>\n",
       "      <td>553.456916</td>\n",
       "    </tr>\n",
       "    <tr>\n",
       "      <th>42</th>\n",
       "      <td>S14034</td>\n",
       "      <td>544.903736</td>\n",
       "    </tr>\n",
       "    <tr>\n",
       "      <th>5</th>\n",
       "      <td>S13001</td>\n",
       "      <td>543.536561</td>\n",
       "    </tr>\n",
       "    <tr>\n",
       "      <th>12</th>\n",
       "      <td>S13015</td>\n",
       "      <td>543.409938</td>\n",
       "    </tr>\n",
       "  </tbody>\n",
       "</table>\n",
       "</div>"
      ],
      "text/plain": [
       "   store_cd      amount\n",
       "28   S13052  663.391816\n",
       "31   S14011  553.456916\n",
       "42   S14034  544.903736\n",
       "5    S13001  543.536561\n",
       "12   S13015  543.409938"
      ]
     },
     "execution_count": 2,
     "metadata": {},
     "output_type": "execute_result"
    }
   ],
   "source": [
    "# Week-06 で鍛えられたのですんなり解けました。\n",
    "# Pandas で標準偏差を出す方法： https://it-engineer-lab.com/archives/1065?fbclid=IwAR29InKEJcB6eeF6TL56xEVFfCsXHQodFSK5K_sPFAWHL-E-bQy2dWU12kA\n",
    "df_receipt2 = df_receipt.groupby('store_cd').amount.std(ddof=0).reset_index()\n",
    "df_receipt3 = df_receipt2.sort_values('amount', ascending=False)\n",
    "df_receipt3.head()"
   ]
  },
  {
   "cell_type": "markdown",
   "metadata": {},
   "source": [
    "---\n",
    "> P-032: レシート明細データフレーム（df_receipt）の売上金額（amount）について、25％刻みでパーセンタイル値を求めよ。"
   ]
  },
  {
   "cell_type": "code",
   "execution_count": 3,
   "metadata": {},
   "outputs": [
    {
     "data": {
      "text/plain": [
       "0.00       10.0\n",
       "0.25      102.0\n",
       "0.50      170.0\n",
       "0.75      288.0\n",
       "1.00    10925.0\n",
       "Name: amount, dtype: float64"
      ]
     },
     "execution_count": 3,
     "metadata": {},
     "output_type": "execute_result"
    }
   ],
   "source": [
    "# パーセンタイル値ってなんだ？　https://bellcurve.jp/statistics/glossary/1388.html\n",
    "# Pandas でパーセンタイルを取得する方法　https://note.nkmk.me/python-pandas-quantile/\n",
    "perc = [0, 0.25, 0.5, 0.75, 1]\n",
    "df_receipt.amount.quantile(perc)"
   ]
  },
  {
   "cell_type": "code",
   "execution_count": 4,
   "metadata": {},
   "outputs": [
    {
     "data": {
      "text/plain": [
       "array([  102.,   170.,   288., 10925.])"
      ]
     },
     "execution_count": 4,
     "metadata": {},
     "output_type": "execute_result"
    }
   ],
   "source": [
    "# Numpy でパーセンタイルを取得する方法　https://analytics-note.xyz/programming/numpy-percentile/\n",
    "amount = df_receipt.amount\n",
    "perc = [25, 50, 75, 100] # 0 を入れるとエラー\n",
    "np.percentile(amount, perc)"
   ]
  },
  {
   "cell_type": "markdown",
   "metadata": {},
   "source": [
    "---\n",
    "> P-033: レシート明細データフレーム（df_receipt）に対し、店舗コード（store_cd）ごとに売上金額（amount）の平均を計算し、330以上のものを抽出せよ。"
   ]
  },
  {
   "cell_type": "code",
   "execution_count": 5,
   "metadata": {},
   "outputs": [
    {
     "data": {
      "text/html": [
       "<div>\n",
       "<style scoped>\n",
       "    .dataframe tbody tr th:only-of-type {\n",
       "        vertical-align: middle;\n",
       "    }\n",
       "\n",
       "    .dataframe tbody tr th {\n",
       "        vertical-align: top;\n",
       "    }\n",
       "\n",
       "    .dataframe thead th {\n",
       "        text-align: right;\n",
       "    }\n",
       "</style>\n",
       "<table border=\"1\" class=\"dataframe\">\n",
       "  <thead>\n",
       "    <tr style=\"text-align: right;\">\n",
       "      <th></th>\n",
       "      <th>store_cd</th>\n",
       "      <th>amount</th>\n",
       "    </tr>\n",
       "  </thead>\n",
       "  <tbody>\n",
       "    <tr>\n",
       "      <th>1</th>\n",
       "      <td>S12013</td>\n",
       "      <td>330.194130</td>\n",
       "    </tr>\n",
       "    <tr>\n",
       "      <th>5</th>\n",
       "      <td>S13001</td>\n",
       "      <td>348.470386</td>\n",
       "    </tr>\n",
       "    <tr>\n",
       "      <th>7</th>\n",
       "      <td>S13003</td>\n",
       "      <td>350.915519</td>\n",
       "    </tr>\n",
       "    <tr>\n",
       "      <th>8</th>\n",
       "      <td>S13004</td>\n",
       "      <td>330.943949</td>\n",
       "    </tr>\n",
       "    <tr>\n",
       "      <th>12</th>\n",
       "      <td>S13015</td>\n",
       "      <td>351.111960</td>\n",
       "    </tr>\n",
       "    <tr>\n",
       "      <th>16</th>\n",
       "      <td>S13019</td>\n",
       "      <td>330.208616</td>\n",
       "    </tr>\n",
       "    <tr>\n",
       "      <th>17</th>\n",
       "      <td>S13020</td>\n",
       "      <td>337.879932</td>\n",
       "    </tr>\n",
       "    <tr>\n",
       "      <th>28</th>\n",
       "      <td>S13052</td>\n",
       "      <td>402.867470</td>\n",
       "    </tr>\n",
       "    <tr>\n",
       "      <th>30</th>\n",
       "      <td>S14010</td>\n",
       "      <td>348.791262</td>\n",
       "    </tr>\n",
       "    <tr>\n",
       "      <th>31</th>\n",
       "      <td>S14011</td>\n",
       "      <td>335.718333</td>\n",
       "    </tr>\n",
       "    <tr>\n",
       "      <th>38</th>\n",
       "      <td>S14026</td>\n",
       "      <td>332.340588</td>\n",
       "    </tr>\n",
       "    <tr>\n",
       "      <th>46</th>\n",
       "      <td>S14045</td>\n",
       "      <td>330.082073</td>\n",
       "    </tr>\n",
       "    <tr>\n",
       "      <th>48</th>\n",
       "      <td>S14047</td>\n",
       "      <td>330.077073</td>\n",
       "    </tr>\n",
       "  </tbody>\n",
       "</table>\n",
       "</div>"
      ],
      "text/plain": [
       "   store_cd      amount\n",
       "1    S12013  330.194130\n",
       "5    S13001  348.470386\n",
       "7    S13003  350.915519\n",
       "8    S13004  330.943949\n",
       "12   S13015  351.111960\n",
       "16   S13019  330.208616\n",
       "17   S13020  337.879932\n",
       "28   S13052  402.867470\n",
       "30   S14010  348.791262\n",
       "31   S14011  335.718333\n",
       "38   S14026  332.340588\n",
       "46   S14045  330.082073\n",
       "48   S14047  330.077073"
      ]
     },
     "execution_count": 5,
     "metadata": {},
     "output_type": "execute_result"
    }
   ],
   "source": [
    "# 割とストレートな問題です\n",
    "df_receipt2 = df_receipt.groupby('store_cd').amount.mean().reset_index()\n",
    "df_receipt2.query('amount >= 330')"
   ]
  },
  {
   "cell_type": "markdown",
   "metadata": {},
   "source": [
    "---\n",
    "> P-034: レシート明細データフレーム（df_receipt）に対し、顧客ID（customer_id）ごとに売上金額（amount）を合計して全顧客の平均を求めよ。ただし、顧客IDが\"Z\"から始まるのものは非会員を表すため、除外して計算すること。\n"
   ]
  },
  {
   "cell_type": "code",
   "execution_count": 6,
   "metadata": {},
   "outputs": [
    {
     "data": {
      "text/html": [
       "<div>\n",
       "<style scoped>\n",
       "    .dataframe tbody tr th:only-of-type {\n",
       "        vertical-align: middle;\n",
       "    }\n",
       "\n",
       "    .dataframe tbody tr th {\n",
       "        vertical-align: top;\n",
       "    }\n",
       "\n",
       "    .dataframe thead th {\n",
       "        text-align: right;\n",
       "    }\n",
       "</style>\n",
       "<table border=\"1\" class=\"dataframe\">\n",
       "  <thead>\n",
       "    <tr style=\"text-align: right;\">\n",
       "      <th></th>\n",
       "      <th>sales_ymd</th>\n",
       "      <th>sales_epoch</th>\n",
       "      <th>store_cd</th>\n",
       "      <th>receipt_no</th>\n",
       "      <th>receipt_sub_no</th>\n",
       "      <th>customer_id</th>\n",
       "      <th>product_cd</th>\n",
       "      <th>quantity</th>\n",
       "      <th>amount</th>\n",
       "    </tr>\n",
       "  </thead>\n",
       "  <tbody>\n",
       "    <tr>\n",
       "      <th>0</th>\n",
       "      <td>20181103</td>\n",
       "      <td>1257206400</td>\n",
       "      <td>S14006</td>\n",
       "      <td>112</td>\n",
       "      <td>1</td>\n",
       "      <td>CS006214000001</td>\n",
       "      <td>P070305012</td>\n",
       "      <td>1</td>\n",
       "      <td>158</td>\n",
       "    </tr>\n",
       "    <tr>\n",
       "      <th>1</th>\n",
       "      <td>20181118</td>\n",
       "      <td>1258502400</td>\n",
       "      <td>S13008</td>\n",
       "      <td>1132</td>\n",
       "      <td>2</td>\n",
       "      <td>CS008415000097</td>\n",
       "      <td>P070701017</td>\n",
       "      <td>1</td>\n",
       "      <td>81</td>\n",
       "    </tr>\n",
       "    <tr>\n",
       "      <th>2</th>\n",
       "      <td>20170712</td>\n",
       "      <td>1215820800</td>\n",
       "      <td>S14028</td>\n",
       "      <td>1102</td>\n",
       "      <td>1</td>\n",
       "      <td>CS028414000014</td>\n",
       "      <td>P060101005</td>\n",
       "      <td>1</td>\n",
       "      <td>170</td>\n",
       "    </tr>\n",
       "    <tr>\n",
       "      <th>4</th>\n",
       "      <td>20180821</td>\n",
       "      <td>1250812800</td>\n",
       "      <td>S14025</td>\n",
       "      <td>1102</td>\n",
       "      <td>2</td>\n",
       "      <td>CS025415000050</td>\n",
       "      <td>P060102007</td>\n",
       "      <td>1</td>\n",
       "      <td>90</td>\n",
       "    </tr>\n",
       "    <tr>\n",
       "      <th>5</th>\n",
       "      <td>20190605</td>\n",
       "      <td>1275696000</td>\n",
       "      <td>S13003</td>\n",
       "      <td>1112</td>\n",
       "      <td>1</td>\n",
       "      <td>CS003515000195</td>\n",
       "      <td>P050102002</td>\n",
       "      <td>1</td>\n",
       "      <td>138</td>\n",
       "    </tr>\n",
       "    <tr>\n",
       "      <th>...</th>\n",
       "      <td>...</td>\n",
       "      <td>...</td>\n",
       "      <td>...</td>\n",
       "      <td>...</td>\n",
       "      <td>...</td>\n",
       "      <td>...</td>\n",
       "      <td>...</td>\n",
       "      <td>...</td>\n",
       "      <td>...</td>\n",
       "    </tr>\n",
       "    <tr>\n",
       "      <th>104671</th>\n",
       "      <td>20180131</td>\n",
       "      <td>1233360000</td>\n",
       "      <td>S14010</td>\n",
       "      <td>1102</td>\n",
       "      <td>1</td>\n",
       "      <td>CS010414000008</td>\n",
       "      <td>P060103003</td>\n",
       "      <td>1</td>\n",
       "      <td>150</td>\n",
       "    </tr>\n",
       "    <tr>\n",
       "      <th>104673</th>\n",
       "      <td>20181217</td>\n",
       "      <td>1261008000</td>\n",
       "      <td>S13004</td>\n",
       "      <td>1142</td>\n",
       "      <td>2</td>\n",
       "      <td>CS004515000066</td>\n",
       "      <td>P059001016</td>\n",
       "      <td>1</td>\n",
       "      <td>308</td>\n",
       "    </tr>\n",
       "    <tr>\n",
       "      <th>104674</th>\n",
       "      <td>20190911</td>\n",
       "      <td>1284163200</td>\n",
       "      <td>S14046</td>\n",
       "      <td>1182</td>\n",
       "      <td>1</td>\n",
       "      <td>CS046415000017</td>\n",
       "      <td>P070703003</td>\n",
       "      <td>1</td>\n",
       "      <td>98</td>\n",
       "    </tr>\n",
       "    <tr>\n",
       "      <th>104678</th>\n",
       "      <td>20170311</td>\n",
       "      <td>1205193600</td>\n",
       "      <td>S14040</td>\n",
       "      <td>1122</td>\n",
       "      <td>1</td>\n",
       "      <td>CS040513000195</td>\n",
       "      <td>P050405003</td>\n",
       "      <td>1</td>\n",
       "      <td>168</td>\n",
       "    </tr>\n",
       "    <tr>\n",
       "      <th>104679</th>\n",
       "      <td>20170331</td>\n",
       "      <td>1206921600</td>\n",
       "      <td>S13002</td>\n",
       "      <td>1142</td>\n",
       "      <td>1</td>\n",
       "      <td>CS002513000049</td>\n",
       "      <td>P060303001</td>\n",
       "      <td>1</td>\n",
       "      <td>148</td>\n",
       "    </tr>\n",
       "  </tbody>\n",
       "</table>\n",
       "<p>65682 rows × 9 columns</p>\n",
       "</div>"
      ],
      "text/plain": [
       "        sales_ymd  sales_epoch store_cd  receipt_no  receipt_sub_no  \\\n",
       "0        20181103   1257206400   S14006         112               1   \n",
       "1        20181118   1258502400   S13008        1132               2   \n",
       "2        20170712   1215820800   S14028        1102               1   \n",
       "4        20180821   1250812800   S14025        1102               2   \n",
       "5        20190605   1275696000   S13003        1112               1   \n",
       "...           ...          ...      ...         ...             ...   \n",
       "104671   20180131   1233360000   S14010        1102               1   \n",
       "104673   20181217   1261008000   S13004        1142               2   \n",
       "104674   20190911   1284163200   S14046        1182               1   \n",
       "104678   20170311   1205193600   S14040        1122               1   \n",
       "104679   20170331   1206921600   S13002        1142               1   \n",
       "\n",
       "           customer_id  product_cd  quantity  amount  \n",
       "0       CS006214000001  P070305012         1     158  \n",
       "1       CS008415000097  P070701017         1      81  \n",
       "2       CS028414000014  P060101005         1     170  \n",
       "4       CS025415000050  P060102007         1      90  \n",
       "5       CS003515000195  P050102002         1     138  \n",
       "...                ...         ...       ...     ...  \n",
       "104671  CS010414000008  P060103003         1     150  \n",
       "104673  CS004515000066  P059001016         1     308  \n",
       "104674  CS046415000017  P070703003         1      98  \n",
       "104678  CS040513000195  P050405003         1     168  \n",
       "104679  CS002513000049  P060303001         1     148  \n",
       "\n",
       "[65682 rows x 9 columns]"
      ]
     },
     "execution_count": 6,
     "metadata": {},
     "output_type": "execute_result"
    }
   ],
   "source": [
    "# 顧客IDが\"Z\"から始まるのものは非会員を表すため除外する方法がわからなくて公式解答をカンニング\n",
    "df_receipt2 = df_receipt[~df_receipt['customer_id'].str.startswith(\"Z\")]\n",
    "df_receipt2\n",
    "\n",
    "# ~ はビット反転演算子\n",
    "# Pandas では~ はNOTの意味 https://note.nkmk.me/python-pandas-multiple-conditions/"
   ]
  },
  {
   "cell_type": "code",
   "execution_count": 7,
   "metadata": {},
   "outputs": [
    {
     "data": {
      "text/plain": [
       "2547.742234529256"
      ]
     },
     "execution_count": 7,
     "metadata": {},
     "output_type": "execute_result"
    }
   ],
   "source": [
    "df_receipt2.groupby('customer_id').amount.sum().mean()"
   ]
  },
  {
   "cell_type": "code",
   "execution_count": 8,
   "metadata": {},
   "outputs": [
    {
     "data": {
      "text/plain": [
       "2547.742234529256"
      ]
     },
     "execution_count": 8,
     "metadata": {},
     "output_type": "execute_result"
    }
   ],
   "source": [
    "# これも公式解答の答え\n",
    "# queryを使う書き方\n",
    "df_receipt.query('not customer_id.str.startswith(\"Z\")', engine='python').groupby('customer_id').amount.sum().mean()\n",
    "\n",
    "# query() 最強！"
   ]
  },
  {
   "cell_type": "markdown",
   "metadata": {},
   "source": [
    "---\n",
    "> P-035: レシート明細データフレーム（df_receipt）に対し、顧客ID（customer_id）ごとに売上金額（amount）を合計して全顧客の平均を求め、平均以上に買い物をしている顧客を抽出せよ。ただし、顧客IDが\"Z\"から始まるのものは非会員を表すため、除外して計算すること。なお、データは10件だけ表示させれば良い。"
   ]
  },
  {
   "cell_type": "code",
   "execution_count": 9,
   "metadata": {},
   "outputs": [
    {
     "data": {
      "text/plain": [
       "2547.742234529256"
      ]
     },
     "execution_count": 9,
     "metadata": {},
     "output_type": "execute_result"
    }
   ],
   "source": [
    "amount = df_receipt[~df_receipt['customer_id'].str.startswith(\"Z\")].groupby('customer_id').amount\n",
    "mean = amount.sum().mean()\n",
    "mean"
   ]
  },
  {
   "cell_type": "code",
   "execution_count": 10,
   "metadata": {},
   "outputs": [
    {
     "data": {
      "text/html": [
       "<div>\n",
       "<style scoped>\n",
       "    .dataframe tbody tr th:only-of-type {\n",
       "        vertical-align: middle;\n",
       "    }\n",
       "\n",
       "    .dataframe tbody tr th {\n",
       "        vertical-align: top;\n",
       "    }\n",
       "\n",
       "    .dataframe thead th {\n",
       "        text-align: right;\n",
       "    }\n",
       "</style>\n",
       "<table border=\"1\" class=\"dataframe\">\n",
       "  <thead>\n",
       "    <tr style=\"text-align: right;\">\n",
       "      <th></th>\n",
       "      <th>customer_id</th>\n",
       "      <th>amount</th>\n",
       "    </tr>\n",
       "  </thead>\n",
       "  <tbody>\n",
       "    <tr>\n",
       "      <th>0</th>\n",
       "      <td>CS001113000004</td>\n",
       "      <td>1298</td>\n",
       "    </tr>\n",
       "    <tr>\n",
       "      <th>1</th>\n",
       "      <td>CS001114000005</td>\n",
       "      <td>626</td>\n",
       "    </tr>\n",
       "    <tr>\n",
       "      <th>2</th>\n",
       "      <td>CS001115000010</td>\n",
       "      <td>3044</td>\n",
       "    </tr>\n",
       "    <tr>\n",
       "      <th>3</th>\n",
       "      <td>CS001205000004</td>\n",
       "      <td>1988</td>\n",
       "    </tr>\n",
       "    <tr>\n",
       "      <th>4</th>\n",
       "      <td>CS001205000006</td>\n",
       "      <td>3337</td>\n",
       "    </tr>\n",
       "  </tbody>\n",
       "</table>\n",
       "</div>"
      ],
      "text/plain": [
       "      customer_id  amount\n",
       "0  CS001113000004    1298\n",
       "1  CS001114000005     626\n",
       "2  CS001115000010    3044\n",
       "3  CS001205000004    1988\n",
       "4  CS001205000006    3337"
      ]
     },
     "execution_count": 10,
     "metadata": {},
     "output_type": "execute_result"
    }
   ],
   "source": [
    "df_receipt2 = df_receipt.groupby('customer_id').amount.sum().reset_index()\n",
    "df_receipt2.head()"
   ]
  },
  {
   "cell_type": "code",
   "execution_count": 11,
   "metadata": {},
   "outputs": [
    {
     "data": {
      "text/html": [
       "<div>\n",
       "<style scoped>\n",
       "    .dataframe tbody tr th:only-of-type {\n",
       "        vertical-align: middle;\n",
       "    }\n",
       "\n",
       "    .dataframe tbody tr th {\n",
       "        vertical-align: top;\n",
       "    }\n",
       "\n",
       "    .dataframe thead th {\n",
       "        text-align: right;\n",
       "    }\n",
       "</style>\n",
       "<table border=\"1\" class=\"dataframe\">\n",
       "  <thead>\n",
       "    <tr style=\"text-align: right;\">\n",
       "      <th></th>\n",
       "      <th>customer_id</th>\n",
       "      <th>amount</th>\n",
       "    </tr>\n",
       "  </thead>\n",
       "  <tbody>\n",
       "    <tr>\n",
       "      <th>2</th>\n",
       "      <td>CS001115000010</td>\n",
       "      <td>3044</td>\n",
       "    </tr>\n",
       "    <tr>\n",
       "      <th>4</th>\n",
       "      <td>CS001205000006</td>\n",
       "      <td>3337</td>\n",
       "    </tr>\n",
       "    <tr>\n",
       "      <th>13</th>\n",
       "      <td>CS001214000009</td>\n",
       "      <td>4685</td>\n",
       "    </tr>\n",
       "    <tr>\n",
       "      <th>14</th>\n",
       "      <td>CS001214000017</td>\n",
       "      <td>4132</td>\n",
       "    </tr>\n",
       "    <tr>\n",
       "      <th>17</th>\n",
       "      <td>CS001214000052</td>\n",
       "      <td>5639</td>\n",
       "    </tr>\n",
       "    <tr>\n",
       "      <th>21</th>\n",
       "      <td>CS001215000040</td>\n",
       "      <td>3496</td>\n",
       "    </tr>\n",
       "    <tr>\n",
       "      <th>30</th>\n",
       "      <td>CS001304000006</td>\n",
       "      <td>3726</td>\n",
       "    </tr>\n",
       "    <tr>\n",
       "      <th>32</th>\n",
       "      <td>CS001305000005</td>\n",
       "      <td>3485</td>\n",
       "    </tr>\n",
       "    <tr>\n",
       "      <th>33</th>\n",
       "      <td>CS001305000011</td>\n",
       "      <td>4370</td>\n",
       "    </tr>\n",
       "    <tr>\n",
       "      <th>53</th>\n",
       "      <td>CS001315000180</td>\n",
       "      <td>3300</td>\n",
       "    </tr>\n",
       "  </tbody>\n",
       "</table>\n",
       "</div>"
      ],
      "text/plain": [
       "       customer_id  amount\n",
       "2   CS001115000010    3044\n",
       "4   CS001205000006    3337\n",
       "13  CS001214000009    4685\n",
       "14  CS001214000017    4132\n",
       "17  CS001214000052    5639\n",
       "21  CS001215000040    3496\n",
       "30  CS001304000006    3726\n",
       "32  CS001305000005    3485\n",
       "33  CS001305000011    4370\n",
       "53  CS001315000180    3300"
      ]
     },
     "execution_count": 11,
     "metadata": {},
     "output_type": "execute_result"
    }
   ],
   "source": [
    "df_receipt3 = df_receipt2[df_receipt2.amount >= mean]\n",
    "df_receipt3.head(10)"
   ]
  },
  {
   "cell_type": "code",
   "execution_count": null,
   "metadata": {},
   "outputs": [],
   "source": []
  }
 ],
 "metadata": {
  "kernelspec": {
   "display_name": "Python 3",
   "language": "python",
   "name": "python3"
  },
  "language_info": {
   "codemirror_mode": {
    "name": "ipython",
    "version": 3
   },
   "file_extension": ".py",
   "mimetype": "text/x-python",
   "name": "python",
   "nbconvert_exporter": "python",
   "pygments_lexer": "ipython3",
   "version": "3.6.10"
  }
 },
 "nbformat": 4,
 "nbformat_minor": 4
}
