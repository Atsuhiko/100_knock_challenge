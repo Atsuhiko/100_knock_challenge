{
 "cells": [
  {
   "cell_type": "markdown",
   "metadata": {},
   "source": [
    "# データサイエンス100本ノック（構造化データ加工編） - Python"
   ]
  },
  {
   "cell_type": "markdown",
   "metadata": {},
   "source": [
    "## はじめに\n",
    "- 初めに以下のセルを実行してください\n",
    "- 必要なライブラリのインポートとデータベース（PostgreSQL）からのデータ読み込みを行います\n",
    "- pandas等、利用が想定されるライブラリは以下セルでインポートしています\n",
    "- その他利用したいライブラリがあれば適宜インストールしてください（\"!pip install ライブラリ名\"でインストールも可能）\n",
    "- 処理は複数回に分けても構いません\n",
    "- 名前、住所等はダミーデータであり、実在するものではありません"
   ]
  },
  {
   "cell_type": "code",
   "execution_count": 1,
   "metadata": {},
   "outputs": [
    {
     "name": "stderr",
     "output_type": "stream",
     "text": [
      "C:\\Users\\iiats\\Anaconda3\\envs\\Python37\\lib\\site-packages\\IPython\\core\\interactiveshell.py:3146: DtypeWarning: Columns (4) have mixed types.Specify dtype option on import or set low_memory=False.\n",
      "  interactivity=interactivity, compiler=compiler, result=result)\n"
     ]
    }
   ],
   "source": [
    "import os\n",
    "import pandas as pd\n",
    "import numpy as np\n",
    "from datetime import datetime, date\n",
    "from dateutil.relativedelta import relativedelta\n",
    "import math\n",
    "import psycopg2\n",
    "from sqlalchemy import create_engine\n",
    "from sklearn import preprocessing\n",
    "from sklearn.model_selection import train_test_split\n",
    "from imblearn.under_sampling import RandomUnderSampler # conda install -c conda-forge imbalanced-learn\n",
    "\n",
    "df_customer = pd.read_csv(\"./data/customer.csv\")\n",
    "df_category = pd.read_csv(\"./data/category.csv\")\n",
    "df_product = pd.read_csv(\"./data/product.csv\")\n",
    "df_receipt = pd.read_csv(\"./data/receipt.csv\")\n",
    "df_store = pd.read_csv(\"./data/store.csv\")\n",
    "df_geocode = pd.read_csv(\"./data/geocode.csv\")"
   ]
  },
  {
   "cell_type": "markdown",
   "metadata": {},
   "source": [
    "# 演習問題"
   ]
  },
  {
   "cell_type": "markdown",
   "metadata": {},
   "source": [
    "---\n",
    "### P-86で使用する\n",
    "> P-085: 顧客データフレーム（df_customer）の全顧客に対し、郵便番号（postal_cd）を用いて経度緯度変換用データフレーム（df_geocode）を紐付け、新たなdf_customer_1を作成せよ。ただし、複数紐づく場合は経度（longitude）、緯度（latitude）それぞれ平均を算出すること。\n"
   ]
  },
  {
   "cell_type": "code",
   "execution_count": 2,
   "metadata": {
    "scrolled": true
   },
   "outputs": [
    {
     "data": {
      "text/html": [
       "<div>\n",
       "<style scoped>\n",
       "    .dataframe tbody tr th:only-of-type {\n",
       "        vertical-align: middle;\n",
       "    }\n",
       "\n",
       "    .dataframe tbody tr th {\n",
       "        vertical-align: top;\n",
       "    }\n",
       "\n",
       "    .dataframe thead th {\n",
       "        text-align: right;\n",
       "    }\n",
       "</style>\n",
       "<table border=\"1\" class=\"dataframe\">\n",
       "  <thead>\n",
       "    <tr style=\"text-align: right;\">\n",
       "      <th></th>\n",
       "      <th>customer_id</th>\n",
       "      <th>customer_name</th>\n",
       "      <th>gender_cd</th>\n",
       "      <th>gender</th>\n",
       "      <th>birth_day</th>\n",
       "      <th>age</th>\n",
       "      <th>postal_cd</th>\n",
       "      <th>address</th>\n",
       "      <th>application_store_cd</th>\n",
       "      <th>application_date</th>\n",
       "      <th>status_cd</th>\n",
       "      <th>m_longitude</th>\n",
       "      <th>m_latitude</th>\n",
       "    </tr>\n",
       "  </thead>\n",
       "  <tbody>\n",
       "    <tr>\n",
       "      <th>0</th>\n",
       "      <td>CS021313000114</td>\n",
       "      <td>大野 あや子</td>\n",
       "      <td>1</td>\n",
       "      <td>女性</td>\n",
       "      <td>1981-04-29</td>\n",
       "      <td>37</td>\n",
       "      <td>259-1113</td>\n",
       "      <td>神奈川県伊勢原市粟窪**********</td>\n",
       "      <td>S14021</td>\n",
       "      <td>20150905</td>\n",
       "      <td>0-00000000-0</td>\n",
       "      <td>139.31779</td>\n",
       "      <td>35.41358</td>\n",
       "    </tr>\n",
       "    <tr>\n",
       "      <th>1</th>\n",
       "      <td>CS037613000071</td>\n",
       "      <td>六角 雅彦</td>\n",
       "      <td>9</td>\n",
       "      <td>不明</td>\n",
       "      <td>1952-04-01</td>\n",
       "      <td>66</td>\n",
       "      <td>136-0076</td>\n",
       "      <td>東京都江東区南砂**********</td>\n",
       "      <td>S13037</td>\n",
       "      <td>20150414</td>\n",
       "      <td>0-00000000-0</td>\n",
       "      <td>139.83502</td>\n",
       "      <td>35.67193</td>\n",
       "    </tr>\n",
       "    <tr>\n",
       "      <th>2</th>\n",
       "      <td>CS031415000172</td>\n",
       "      <td>宇多田 貴美子</td>\n",
       "      <td>1</td>\n",
       "      <td>女性</td>\n",
       "      <td>1976-10-04</td>\n",
       "      <td>42</td>\n",
       "      <td>151-0053</td>\n",
       "      <td>東京都渋谷区代々木**********</td>\n",
       "      <td>S13031</td>\n",
       "      <td>20150529</td>\n",
       "      <td>D-20100325-C</td>\n",
       "      <td>139.68965</td>\n",
       "      <td>35.67374</td>\n",
       "    </tr>\n",
       "  </tbody>\n",
       "</table>\n",
       "</div>"
      ],
      "text/plain": [
       "      customer_id customer_name  gender_cd gender   birth_day  age postal_cd  \\\n",
       "0  CS021313000114        大野 あや子          1     女性  1981-04-29   37  259-1113   \n",
       "1  CS037613000071         六角 雅彦          9     不明  1952-04-01   66  136-0076   \n",
       "2  CS031415000172       宇多田 貴美子          1     女性  1976-10-04   42  151-0053   \n",
       "\n",
       "                address application_store_cd  application_date     status_cd  \\\n",
       "0  神奈川県伊勢原市粟窪**********               S14021          20150905  0-00000000-0   \n",
       "1    東京都江東区南砂**********               S13037          20150414  0-00000000-0   \n",
       "2   東京都渋谷区代々木**********               S13031          20150529  D-20100325-C   \n",
       "\n",
       "   m_longitude  m_latitude  \n",
       "0    139.31779    35.41358  \n",
       "1    139.83502    35.67193  \n",
       "2    139.68965    35.67374  "
      ]
     },
     "execution_count": 2,
     "metadata": {},
     "output_type": "execute_result"
    }
   ],
   "source": [
    "df_customer_1 = pd.merge(df_customer[['customer_id', 'postal_cd']],\n",
    "                         df_geocode[['postal_cd', 'longitude' ,'latitude']],\n",
    "                         how='inner', on='postal_cd')\n",
    "df_customer_1 = df_customer_1.groupby('customer_id'). \\\n",
    "    agg({'longitude':'mean', 'latitude':'mean'}).reset_index(). \\\n",
    "    rename(columns={'longitude':'m_longitude', 'latitude':'m_latitude'})\n",
    "\n",
    "df_customer_1 = pd.merge(df_customer, df_customer_1, how='inner', on='customer_id')\n",
    "df_customer_1.head(3)"
   ]
  },
  {
   "cell_type": "code",
   "execution_count": 16,
   "metadata": {},
   "outputs": [],
   "source": [
    "# pd の DataFrame の表示カラム数を増やす\n",
    "pd.set_option('display.max_columns',90)"
   ]
  },
  {
   "cell_type": "markdown",
   "metadata": {},
   "source": [
    "---\n",
    "> P-086: 前設問で作成した緯度経度つき顧客データフレーム（df_customer_1）に対し、申込み店舗コード（application_store_cd）をキーに店舗データフレーム（df_store）と結合せよ。そして申込み店舗の緯度（latitude）・経度情報（longitude)と顧客の緯度・経度を用いて距離（km）を求め、顧客ID（customer_id）、顧客住所（address）、店舗住所（address）とともに表示せよ。計算式は簡易式で良いものとするが、その他精度の高い方式を利用したライブラリを利用してもかまわない。結果は10件表示すれば良い。"
   ]
  },
  {
   "cell_type": "markdown",
   "metadata": {},
   "source": [
    "$$\n",
    "緯度（ラジアン）：\\phi \\\\\n",
    "経度（ラジアン）：\\lambda \\\\\n",
    "距離L = 6371 * arccos(sin \\phi_1 * sin \\phi_2\n",
    "+ cos \\phi_1 * cos \\phi_2 * cos(\\lambda_1 − \\lambda_2))\n",
    "$$"
   ]
  },
  {
   "cell_type": "code",
   "execution_count": null,
   "metadata": {},
   "outputs": [],
   "source": []
  },
  {
   "cell_type": "markdown",
   "metadata": {},
   "source": [
    "---\n",
    "> P-087:  顧客データフレーム（df_customer）では、異なる店舗での申込みなどにより同一顧客が複数登録されている。名前（customer_name）と郵便番号（postal_cd）が同じ顧客は同一顧客とみなし、1顧客1レコードとなるように名寄せした名寄顧客データフレーム（df_customer_u）を作成せよ。ただし、同一顧客に対しては売上金額合計が最も高いものを残すものとし、売上金額合計が同一もしくは売上実績の無い顧客については顧客ID（customer_id）の番号が小さいものを残すこととする。"
   ]
  },
  {
   "cell_type": "code",
   "execution_count": null,
   "metadata": {},
   "outputs": [],
   "source": []
  },
  {
   "cell_type": "markdown",
   "metadata": {},
   "source": [
    "---\n",
    "> P-088: 前設問で作成したデータを元に、顧客データフレームに統合名寄IDを付与したデータフレーム（df_customer_n）を作成せよ。ただし、統合名寄IDは以下の仕様で付与するものとする。\n",
    ">\n",
    "> - 重複していない顧客：顧客ID（customer_id）を設定\n",
    "> - 重複している顧客：前設問で抽出したレコードの顧客IDを設定"
   ]
  },
  {
   "cell_type": "code",
   "execution_count": null,
   "metadata": {},
   "outputs": [],
   "source": []
  },
  {
   "cell_type": "markdown",
   "metadata": {},
   "source": [
    "---\n",
    "> P-閑話: df_customer_1, df_customer_nは使わないので削除する。"
   ]
  },
  {
   "cell_type": "code",
   "execution_count": null,
   "metadata": {},
   "outputs": [],
   "source": []
  },
  {
   "cell_type": "markdown",
   "metadata": {},
   "source": [
    "---\n",
    "> P-089: 売上実績のある顧客に対し、予測モデル構築のため学習用データとテスト用データに分割したい。それぞれ8:2の割合でランダムにデータを分割せよ。"
   ]
  },
  {
   "cell_type": "code",
   "execution_count": null,
   "metadata": {},
   "outputs": [],
   "source": []
  },
  {
   "cell_type": "markdown",
   "metadata": {},
   "source": [
    "---\n",
    "> P-090: レシート明細データフレーム（df_receipt）は2017年1月1日〜2019年10月31日までのデータを有している。売上金額（amount）を月次で集計し、学習用に12ヶ月、テスト用に6ヶ月のモデル構築用データを3セット作成せよ。"
   ]
  },
  {
   "cell_type": "code",
   "execution_count": null,
   "metadata": {},
   "outputs": [],
   "source": []
  }
 ],
 "metadata": {
  "kernelspec": {
   "display_name": "Python 3",
   "language": "python",
   "name": "python3"
  },
  "language_info": {
   "codemirror_mode": {
    "name": "ipython",
    "version": 3
   },
   "file_extension": ".py",
   "mimetype": "text/x-python",
   "name": "python",
   "nbconvert_exporter": "python",
   "pygments_lexer": "ipython3",
   "version": "3.7.7"
  }
 },
 "nbformat": 4,
 "nbformat_minor": 4
}
