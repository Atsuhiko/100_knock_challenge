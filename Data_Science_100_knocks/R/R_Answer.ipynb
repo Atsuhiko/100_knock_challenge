{
 "cells": [
  {
   "cell_type": "markdown",
   "metadata": {},
   "source": [
    "# データサイエンス100本ノック（構造化データ加工編） - R"
   ]
  },
  {
   "cell_type": "markdown",
   "metadata": {},
   "source": [
    "## はじめに\n",
    "- 初めに以下のセルを実行してください\n",
    "- 必要なライブラリのインポートとCSVファイルからのデータ読み込みを行います\n",
    "- 利用が想定されるライブラリは以下セルでインポートしています\n",
    "- その他利用したいライブラリがあれば適宜インストールしてください（!マークに続けてOSコマンドを入力することで、任意のubuntu Linuxコマンドが入力可能）\n",
    "- 名前、住所等はダミーデータであり、実在するものではありません"
   ]
  },
  {
   "cell_type": "code",
   "execution_count": 113,
   "metadata": {
    "scrolled": true
   },
   "outputs": [
    {
     "name": "stderr",
     "output_type": "stream",
     "text": [
      "Loading required package: lubridate\n",
      "\n",
      "Attaching package: 'lubridate'\n",
      "\n",
      "The following object is masked from 'package:base':\n",
      "\n",
      "    date\n",
      "\n",
      "Loading required package: rsample\n",
      "Warning message in library(package, lib.loc = lib.loc, character.only = TRUE, logical.return = TRUE, :\n",
      "\"there is no package called 'rsample'\"Loading required package: unbalanced\n",
      "Warning message in library(package, lib.loc = lib.loc, character.only = TRUE, logical.return = TRUE, :\n",
      "\"there is no package called 'unbalanced'\""
     ]
    }
   ],
   "source": [
    "# require('RPostgreSQL')\n",
    "require('tidyr')\n",
    "require('dplyr')\n",
    "require('stringr')\n",
    "require('caret')\n",
    "require('lubridate')\n",
    "require('rsample')\n",
    "require('unbalanced')\n",
    "\n",
    "# host <- 'db'\n",
    "# port <- Sys.getenv()[\"PG_PORT\"]\n",
    "# dbname <- Sys.getenv()[\"PG_DATABASE\"]\n",
    "# user <- Sys.getenv()[\"PG_USER\"]\n",
    "# password <- Sys.getenv()[\"PG_PASSWORD\"]\n",
    "\n",
    "# con <- dbConnect(PostgreSQL(), host=host, port=port, dbname=dbname, user=user, password=password)\n",
    "# df_customer <- dbGetQuery(con,\"SELECT * FROM customer\")\n",
    "# df_category <- dbGetQuery(con,\"SELECT * FROM category\")\n",
    "# df_product <- dbGetQuery(con,\"SELECT * FROM product\")\n",
    "# df_receipt <- dbGetQuery(con,\"SELECT * FROM receipt\")\n",
    "# df_store <- dbGetQuery(con,\"SELECT * FROM store\")\n",
    "# df_geocode <- dbGetQuery(con,\"SELECT * FROM geocode\")"
   ]
  },
  {
   "cell_type": "code",
   "execution_count": 2,
   "metadata": {},
   "outputs": [
    {
     "data": {
      "text/html": [
       "<table>\n",
       "<thead><tr><th scope=col>customer_id</th><th scope=col>customer_name</th><th scope=col>gender_cd</th><th scope=col>gender</th><th scope=col>birth_day</th><th scope=col>age</th><th scope=col>postal_cd</th><th scope=col>address</th><th scope=col>application_store_cd</th><th scope=col>application_date</th><th scope=col>status_cd</th></tr></thead>\n",
       "<tbody>\n",
       "\t<tr><td>CS021313000114                    </td><td>大野 あや子,1                     </td><td>女性                              </td><td>1981-04-29                        </td><td>37                                </td><td>259-1113                          </td><td>神奈川県伊勢原市粟窪**********    </td><td>S14021                            </td><td>20150905                          </td><td>0-00000000-0                      </td><td>                                  </td></tr>\n",
       "\t<tr><td>CS037613000071                    </td><td>六角 雅彦                         </td><td>9                                 </td><td>不明                              </td><td>1952-04-01                        </td><td>66                                </td><td>136-0076                          </td><td>東京都江東区南砂**********        </td><td>S13037                            </td><td>20150414                          </td><td>0-00000000-0                      </td></tr>\n",
       "\t<tr><td>CS031415000172                    </td><td>宇多田 貴美子,1                   </td><td>女性                              </td><td>1976-10-04                        </td><td>42                                </td><td>151-0053                          </td><td>東京都渋谷区代々木**********      </td><td>S13031                            </td><td>20150529                          </td><td>D-20100325-C                      </td><td>                                  </td></tr>\n",
       "\t<tr><td>CS028811000001                    </td><td>堀井 かおり,1                     </td><td>女性                              </td><td>1933-03-27                        </td><td>86                                </td><td>245-0016                          </td><td>神奈川県横浜市泉区和泉町**********</td><td>S14028                            </td><td>20160115                          </td><td>0-00000000-0                      </td><td>                                  </td></tr>\n",
       "\t<tr><td>CS001215000145                    </td><td>田崎 美紀                         </td><td>1                                 </td><td>女性                              </td><td>1995-03-29                        </td><td>24                                </td><td>144-0055                          </td><td>東京都大田区仲六郷**********      </td><td>S13001                            </td><td>20170605                          </td><td>6-20090929-2                      </td></tr>\n",
       "</tbody>\n",
       "</table>\n"
      ],
      "text/latex": [
       "\\begin{tabular}{r|lllllllllll}\n",
       " customer\\_id & customer\\_name & gender\\_cd & gender & birth\\_day & age & postal\\_cd & address & application\\_store\\_cd & application\\_date & status\\_cd\\\\\n",
       "\\hline\n",
       "\t CS021313000114                     & 大野 あや子,1                      & 女性                               & 1981-04-29                         & 37                                 & 259-1113                           & 神奈川県伊勢原市粟窪**********     & S14021                             & 20150905                           & 0-00000000-0                       &                                   \\\\\n",
       "\t CS037613000071                     & 六角 雅彦                          & 9                                  & 不明                               & 1952-04-01                         & 66                                 & 136-0076                           & 東京都江東区南砂**********         & S13037                             & 20150414                           & 0-00000000-0                      \\\\\n",
       "\t CS031415000172                     & 宇多田 貴美子,1                    & 女性                               & 1976-10-04                         & 42                                 & 151-0053                           & 東京都渋谷区代々木**********       & S13031                             & 20150529                           & D-20100325-C                       &                                   \\\\\n",
       "\t CS028811000001                     & 堀井 かおり,1                      & 女性                               & 1933-03-27                         & 86                                 & 245-0016                           & 神奈川県横浜市泉区和泉町********** & S14028                             & 20160115                           & 0-00000000-0                       &                                   \\\\\n",
       "\t CS001215000145                     & 田崎 美紀                          & 1                                  & 女性                               & 1995-03-29                         & 24                                 & 144-0055                           & 東京都大田区仲六郷**********       & S13001                             & 20170605                           & 6-20090929-2                      \\\\\n",
       "\\end{tabular}\n"
      ],
      "text/markdown": [
       "\n",
       "| customer_id | customer_name | gender_cd | gender | birth_day | age | postal_cd | address | application_store_cd | application_date | status_cd |\n",
       "|---|---|---|---|---|---|---|---|---|---|---|\n",
       "| CS021313000114                     | 大野 あや子,1                      | 女性                               | 1981-04-29                         | 37                                 | 259-1113                           | 神奈川県伊勢原市粟窪**********     | S14021                             | 20150905                           | 0-00000000-0                       |                                    |\n",
       "| CS037613000071                     | 六角 雅彦                          | 9                                  | 不明                               | 1952-04-01                         | 66                                 | 136-0076                           | 東京都江東区南砂**********         | S13037                             | 20150414                           | 0-00000000-0                       |\n",
       "| CS031415000172                     | 宇多田 貴美子,1                    | 女性                               | 1976-10-04                         | 42                                 | 151-0053                           | 東京都渋谷区代々木**********       | S13031                             | 20150529                           | D-20100325-C                       |                                    |\n",
       "| CS028811000001                     | 堀井 かおり,1                      | 女性                               | 1933-03-27                         | 86                                 | 245-0016                           | 神奈川県横浜市泉区和泉町********** | S14028                             | 20160115                           | 0-00000000-0                       |                                    |\n",
       "| CS001215000145                     | 田崎 美紀                          | 1                                  | 女性                               | 1995-03-29                         | 24                                 | 144-0055                           | 東京都大田区仲六郷**********       | S13001                             | 20170605                           | 6-20090929-2                       |\n",
       "\n"
      ],
      "text/plain": [
       "  customer_id    customer_name   gender_cd gender     birth_day  age     \n",
       "1 CS021313000114 大野 あや子,1   女性      1981-04-29 37         259-1113\n",
       "2 CS037613000071 六角 雅彦       9         不明       1952-04-01 66      \n",
       "3 CS031415000172 宇多田 貴美子,1 女性      1976-10-04 42         151-0053\n",
       "4 CS028811000001 堀井 かおり,1   女性      1933-03-27 86         245-0016\n",
       "5 CS001215000145 田崎 美紀       1         女性       1995-03-29 24      \n",
       "  postal_cd                          address                     \n",
       "1 神奈川県伊勢原市粟窪**********     S14021                      \n",
       "2 136-0076                           東京都江東区南砂**********  \n",
       "3 東京都渋谷区代々木**********       S13031                      \n",
       "4 神奈川県横浜市泉区和泉町********** S14028                      \n",
       "5 144-0055                           東京都大田区仲六郷**********\n",
       "  application_store_cd application_date status_cd   \n",
       "1 20150905             0-00000000-0                 \n",
       "2 S13037               20150414         0-00000000-0\n",
       "3 20150529             D-20100325-C                 \n",
       "4 20160115             0-00000000-0                 \n",
       "5 S13001               20170605         6-20090929-2"
      ]
     },
     "metadata": {},
     "output_type": "display_data"
    }
   ],
   "source": [
    "df_customer <- read.csv(\"./data/customer.csv\", encoding=\"UTF-8\")\n",
    "head(df_customer, n = 5)"
   ]
  },
  {
   "cell_type": "code",
   "execution_count": 3,
   "metadata": {},
   "outputs": [
    {
     "data": {
      "text/html": [
       "<table>\n",
       "<thead><tr><th scope=col>category_major_cd</th><th scope=col>category_major_name</th><th scope=col>category_medium_cd</th><th scope=col>category_medium_name</th><th scope=col>category_small_cd</th><th scope=col>category_small_name</th></tr></thead>\n",
       "<tbody>\n",
       "\t<tr><td>4         </td><td>惣菜      </td><td>401       </td><td>御飯類    </td><td>40101     </td><td>弁当類    </td></tr>\n",
       "\t<tr><td>4         </td><td>惣菜      </td><td>401       </td><td>御飯類    </td><td>40102     </td><td>寿司類    </td></tr>\n",
       "\t<tr><td>4         </td><td>惣菜      </td><td>402       </td><td>佃煮類    </td><td>40201     </td><td>魚介佃煮類</td></tr>\n",
       "\t<tr><td>4         </td><td>惣菜      </td><td>402       </td><td>佃煮類    </td><td>40202     </td><td>海草佃煮類</td></tr>\n",
       "\t<tr><td>4         </td><td>惣菜      </td><td>402       </td><td>佃煮類    </td><td>40203     </td><td>野菜佃煮類</td></tr>\n",
       "</tbody>\n",
       "</table>\n"
      ],
      "text/latex": [
       "\\begin{tabular}{r|llllll}\n",
       " category\\_major\\_cd & category\\_major\\_name & category\\_medium\\_cd & category\\_medium\\_name & category\\_small\\_cd & category\\_small\\_name\\\\\n",
       "\\hline\n",
       "\t 4          & 惣菜       & 401        & 御飯類     & 40101      & 弁当類    \\\\\n",
       "\t 4          & 惣菜       & 401        & 御飯類     & 40102      & 寿司類    \\\\\n",
       "\t 4          & 惣菜       & 402        & 佃煮類     & 40201      & 魚介佃煮類\\\\\n",
       "\t 4          & 惣菜       & 402        & 佃煮類     & 40202      & 海草佃煮類\\\\\n",
       "\t 4          & 惣菜       & 402        & 佃煮類     & 40203      & 野菜佃煮類\\\\\n",
       "\\end{tabular}\n"
      ],
      "text/markdown": [
       "\n",
       "| category_major_cd | category_major_name | category_medium_cd | category_medium_name | category_small_cd | category_small_name |\n",
       "|---|---|---|---|---|---|\n",
       "| 4          | 惣菜       | 401        | 御飯類     | 40101      | 弁当類     |\n",
       "| 4          | 惣菜       | 401        | 御飯類     | 40102      | 寿司類     |\n",
       "| 4          | 惣菜       | 402        | 佃煮類     | 40201      | 魚介佃煮類 |\n",
       "| 4          | 惣菜       | 402        | 佃煮類     | 40202      | 海草佃煮類 |\n",
       "| 4          | 惣菜       | 402        | 佃煮類     | 40203      | 野菜佃煮類 |\n",
       "\n"
      ],
      "text/plain": [
       "  category_major_cd category_major_name category_medium_cd category_medium_name\n",
       "1 4                 惣菜                401                御飯類              \n",
       "2 4                 惣菜                401                御飯類              \n",
       "3 4                 惣菜                402                佃煮類              \n",
       "4 4                 惣菜                402                佃煮類              \n",
       "5 4                 惣菜                402                佃煮類              \n",
       "  category_small_cd category_small_name\n",
       "1 40101             弁当類             \n",
       "2 40102             寿司類             \n",
       "3 40201             魚介佃煮類         \n",
       "4 40202             海草佃煮類         \n",
       "5 40203             野菜佃煮類         "
      ]
     },
     "metadata": {},
     "output_type": "display_data"
    }
   ],
   "source": [
    "# df_category <- read.csv(\"./data/category.csv\", encoding=\"UTF-8\")\n",
    "df_category <- read.csv(\"./data/category.csv\", encoding=\"shift-jis\") # エラーがでたので文字コードを変更\n",
    "head(df_category, n = 5)"
   ]
  },
  {
   "cell_type": "code",
   "execution_count": 4,
   "metadata": {},
   "outputs": [
    {
     "data": {
      "text/html": [
       "<table>\n",
       "<thead><tr><th scope=col>X.U.FEFF.product_cd</th><th scope=col>category_major_cd</th><th scope=col>category_medium_cd</th><th scope=col>category_small_cd</th><th scope=col>unit_price</th><th scope=col>unit_cost</th></tr></thead>\n",
       "<tbody>\n",
       "\t<tr><td>P040101001</td><td>4         </td><td>401       </td><td>40101     </td><td>198       </td><td>149       </td></tr>\n",
       "\t<tr><td>P040101002</td><td>4         </td><td>401       </td><td>40101     </td><td>218       </td><td>164       </td></tr>\n",
       "\t<tr><td>P040101003</td><td>4         </td><td>401       </td><td>40101     </td><td>230       </td><td>173       </td></tr>\n",
       "\t<tr><td>P040101004</td><td>4         </td><td>401       </td><td>40101     </td><td>248       </td><td>186       </td></tr>\n",
       "\t<tr><td>P040101005</td><td>4         </td><td>401       </td><td>40101     </td><td>268       </td><td>201       </td></tr>\n",
       "</tbody>\n",
       "</table>\n"
      ],
      "text/latex": [
       "\\begin{tabular}{r|llllll}\n",
       " X.U.FEFF.product\\_cd & category\\_major\\_cd & category\\_medium\\_cd & category\\_small\\_cd & unit\\_price & unit\\_cost\\\\\n",
       "\\hline\n",
       "\t P040101001 & 4          & 401        & 40101      & 198        & 149       \\\\\n",
       "\t P040101002 & 4          & 401        & 40101      & 218        & 164       \\\\\n",
       "\t P040101003 & 4          & 401        & 40101      & 230        & 173       \\\\\n",
       "\t P040101004 & 4          & 401        & 40101      & 248        & 186       \\\\\n",
       "\t P040101005 & 4          & 401        & 40101      & 268        & 201       \\\\\n",
       "\\end{tabular}\n"
      ],
      "text/markdown": [
       "\n",
       "| X.U.FEFF.product_cd | category_major_cd | category_medium_cd | category_small_cd | unit_price | unit_cost |\n",
       "|---|---|---|---|---|---|\n",
       "| P040101001 | 4          | 401        | 40101      | 198        | 149        |\n",
       "| P040101002 | 4          | 401        | 40101      | 218        | 164        |\n",
       "| P040101003 | 4          | 401        | 40101      | 230        | 173        |\n",
       "| P040101004 | 4          | 401        | 40101      | 248        | 186        |\n",
       "| P040101005 | 4          | 401        | 40101      | 268        | 201        |\n",
       "\n"
      ],
      "text/plain": [
       "  X.U.FEFF.product_cd category_major_cd category_medium_cd category_small_cd\n",
       "1 P040101001          4                 401                40101            \n",
       "2 P040101002          4                 401                40101            \n",
       "3 P040101003          4                 401                40101            \n",
       "4 P040101004          4                 401                40101            \n",
       "5 P040101005          4                 401                40101            \n",
       "  unit_price unit_cost\n",
       "1 198        149      \n",
       "2 218        164      \n",
       "3 230        173      \n",
       "4 248        186      \n",
       "5 268        201      "
      ]
     },
     "metadata": {},
     "output_type": "display_data"
    }
   ],
   "source": [
    "df_product <- read.csv(\"./data/product.csv\", encoding=\"UTF-8\")\n",
    "head(df_product, n = 5)"
   ]
  },
  {
   "cell_type": "code",
   "execution_count": 5,
   "metadata": {},
   "outputs": [
    {
     "data": {
      "text/html": [
       "<table>\n",
       "<thead><tr><th scope=col>sales_ymd</th><th scope=col>sales_epoch</th><th scope=col>store_cd</th><th scope=col>receipt_no</th><th scope=col>receipt_sub_no</th><th scope=col>customer_id</th><th scope=col>product_cd</th><th scope=col>quantity</th><th scope=col>amount</th></tr></thead>\n",
       "<tbody>\n",
       "\t<tr><td>20181103      </td><td>1257206400    </td><td>S14006        </td><td> 112          </td><td>1             </td><td>CS006214000001</td><td>P070305012    </td><td>1             </td><td>158           </td></tr>\n",
       "\t<tr><td>20181118      </td><td>1258502400    </td><td>S13008        </td><td>1132          </td><td>2             </td><td>CS008415000097</td><td>P070701017    </td><td>1             </td><td> 81           </td></tr>\n",
       "\t<tr><td>20170712      </td><td>1215820800    </td><td>S14028        </td><td>1102          </td><td>1             </td><td>CS028414000014</td><td>P060101005    </td><td>1             </td><td>170           </td></tr>\n",
       "\t<tr><td>20190205      </td><td>1265328000    </td><td>S14042        </td><td>1132          </td><td>1             </td><td>ZZ000000000000</td><td>P050301001    </td><td>1             </td><td> 25           </td></tr>\n",
       "\t<tr><td>20180821      </td><td>1250812800    </td><td>S14025        </td><td>1102          </td><td>2             </td><td>CS025415000050</td><td>P060102007    </td><td>1             </td><td> 90           </td></tr>\n",
       "</tbody>\n",
       "</table>\n"
      ],
      "text/latex": [
       "\\begin{tabular}{r|lllllllll}\n",
       " sales\\_ymd & sales\\_epoch & store\\_cd & receipt\\_no & receipt\\_sub\\_no & customer\\_id & product\\_cd & quantity & amount\\\\\n",
       "\\hline\n",
       "\t 20181103       & 1257206400     & S14006         &  112           & 1              & CS006214000001 & P070305012     & 1              & 158           \\\\\n",
       "\t 20181118       & 1258502400     & S13008         & 1132           & 2              & CS008415000097 & P070701017     & 1              &  81           \\\\\n",
       "\t 20170712       & 1215820800     & S14028         & 1102           & 1              & CS028414000014 & P060101005     & 1              & 170           \\\\\n",
       "\t 20190205       & 1265328000     & S14042         & 1132           & 1              & ZZ000000000000 & P050301001     & 1              &  25           \\\\\n",
       "\t 20180821       & 1250812800     & S14025         & 1102           & 2              & CS025415000050 & P060102007     & 1              &  90           \\\\\n",
       "\\end{tabular}\n"
      ],
      "text/markdown": [
       "\n",
       "| sales_ymd | sales_epoch | store_cd | receipt_no | receipt_sub_no | customer_id | product_cd | quantity | amount |\n",
       "|---|---|---|---|---|---|---|---|---|\n",
       "| 20181103       | 1257206400     | S14006         |  112           | 1              | CS006214000001 | P070305012     | 1              | 158            |\n",
       "| 20181118       | 1258502400     | S13008         | 1132           | 2              | CS008415000097 | P070701017     | 1              |  81            |\n",
       "| 20170712       | 1215820800     | S14028         | 1102           | 1              | CS028414000014 | P060101005     | 1              | 170            |\n",
       "| 20190205       | 1265328000     | S14042         | 1132           | 1              | ZZ000000000000 | P050301001     | 1              |  25            |\n",
       "| 20180821       | 1250812800     | S14025         | 1102           | 2              | CS025415000050 | P060102007     | 1              |  90            |\n",
       "\n"
      ],
      "text/plain": [
       "  sales_ymd sales_epoch store_cd receipt_no receipt_sub_no customer_id   \n",
       "1 20181103  1257206400  S14006    112       1              CS006214000001\n",
       "2 20181118  1258502400  S13008   1132       2              CS008415000097\n",
       "3 20170712  1215820800  S14028   1102       1              CS028414000014\n",
       "4 20190205  1265328000  S14042   1132       1              ZZ000000000000\n",
       "5 20180821  1250812800  S14025   1102       2              CS025415000050\n",
       "  product_cd quantity amount\n",
       "1 P070305012 1        158   \n",
       "2 P070701017 1         81   \n",
       "3 P060101005 1        170   \n",
       "4 P050301001 1         25   \n",
       "5 P060102007 1         90   "
      ]
     },
     "metadata": {},
     "output_type": "display_data"
    }
   ],
   "source": [
    "df_receipt <- read.csv(\"./data/receipt.csv\", encoding=\"UTF-8\")\n",
    "head(df_receipt, n = 5)"
   ]
  },
  {
   "cell_type": "code",
   "execution_count": 6,
   "metadata": {},
   "outputs": [
    {
     "data": {
      "text/html": [
       "<table>\n",
       "<thead><tr><th scope=col>store_cd</th><th scope=col>store_name</th><th scope=col>prefecture_cd</th><th scope=col>prefecture</th><th scope=col>address</th><th scope=col>address_kana</th><th scope=col>tel_no</th><th scope=col>longitude</th><th scope=col>latitude</th><th scope=col>floor_area</th></tr></thead>\n",
       "<tbody>\n",
       "\t<tr><td>S12014                                            </td><td>千草台店                                          </td><td>12                                                </td><td>千葉県                                            </td><td>千葉県千葉市稲毛区千草台一丁目                    </td><td>チバケンチバシイナゲクチグサダイイッチョウメ      </td><td>043-123-4003                                      </td><td>140.1180                                          </td><td>35.63559                                          </td><td>1698                                              </td></tr>\n",
       "\t<tr><td>S13002                                            </td><td>国分寺店                                          </td><td>13                                                </td><td>東京都                                            </td><td>東京都国分寺市本多二丁目                          </td><td>トウキョウトコクブンジシホンダニチョウメ          </td><td>042-123-4008                                      </td><td>139.4802                                          </td><td>35.70566                                          </td><td>1735                                              </td></tr>\n",
       "\t<tr><td>S14010                                            </td><td>菊名店                                            </td><td>14                                                </td><td>神奈川県                                          </td><td>神奈川県横浜市港北区菊名一丁目                    </td><td>カナガワケンヨコハマシコウホククキクナイッチョウメ</td><td>045-123-4032                                      </td><td>139.6326                                          </td><td>35.50049                                          </td><td>1732                                              </td></tr>\n",
       "\t<tr><td>S14033                                            </td><td>阿久和店                                          </td><td>14                                                </td><td>神奈川県                                          </td><td>神奈川県横浜市瀬谷区阿久和西一丁目                </td><td>カナガワケンヨコハマシセヤクアクワニシイッチョウメ</td><td>045-123-4043                                      </td><td>139.4961                                          </td><td>35.45918                                          </td><td>1495                                              </td></tr>\n",
       "\t<tr><td>S14036                                            </td><td>相模原中央店                                      </td><td>14                                                </td><td>神奈川県                                          </td><td>神奈川県相模原市中央二丁目                        </td><td>カナガワケンサガミハラシチュウオウニチョウメ      </td><td>042-123-4045                                      </td><td>139.3716                                          </td><td>35.57327                                          </td><td>1679                                              </td></tr>\n",
       "</tbody>\n",
       "</table>\n"
      ],
      "text/latex": [
       "\\begin{tabular}{r|llllllllll}\n",
       " store\\_cd & store\\_name & prefecture\\_cd & prefecture & address & address\\_kana & tel\\_no & longitude & latitude & floor\\_area\\\\\n",
       "\\hline\n",
       "\t S12014                                             & 千草台店                                           & 12                                                 & 千葉県                                             & 千葉県千葉市稲毛区千草台一丁目                     & チバケンチバシイナゲクチグサダイイッチョウメ       & 043-123-4003                                       & 140.1180                                           & 35.63559                                           & 1698                                              \\\\\n",
       "\t S13002                                             & 国分寺店                                           & 13                                                 & 東京都                                             & 東京都国分寺市本多二丁目                           & トウキョウトコクブンジシホンダニチョウメ           & 042-123-4008                                       & 139.4802                                           & 35.70566                                           & 1735                                              \\\\\n",
       "\t S14010                                             & 菊名店                                             & 14                                                 & 神奈川県                                           & 神奈川県横浜市港北区菊名一丁目                     & カナガワケンヨコハマシコウホククキクナイッチョウメ & 045-123-4032                                       & 139.6326                                           & 35.50049                                           & 1732                                              \\\\\n",
       "\t S14033                                             & 阿久和店                                           & 14                                                 & 神奈川県                                           & 神奈川県横浜市瀬谷区阿久和西一丁目                 & カナガワケンヨコハマシセヤクアクワニシイッチョウメ & 045-123-4043                                       & 139.4961                                           & 35.45918                                           & 1495                                              \\\\\n",
       "\t S14036                                             & 相模原中央店                                       & 14                                                 & 神奈川県                                           & 神奈川県相模原市中央二丁目                         & カナガワケンサガミハラシチュウオウニチョウメ       & 042-123-4045                                       & 139.3716                                           & 35.57327                                           & 1679                                              \\\\\n",
       "\\end{tabular}\n"
      ],
      "text/markdown": [
       "\n",
       "| store_cd | store_name | prefecture_cd | prefecture | address | address_kana | tel_no | longitude | latitude | floor_area |\n",
       "|---|---|---|---|---|---|---|---|---|---|\n",
       "| S12014                                             | 千草台店                                           | 12                                                 | 千葉県                                             | 千葉県千葉市稲毛区千草台一丁目                     | チバケンチバシイナゲクチグサダイイッチョウメ       | 043-123-4003                                       | 140.1180                                           | 35.63559                                           | 1698                                               |\n",
       "| S13002                                             | 国分寺店                                           | 13                                                 | 東京都                                             | 東京都国分寺市本多二丁目                           | トウキョウトコクブンジシホンダニチョウメ           | 042-123-4008                                       | 139.4802                                           | 35.70566                                           | 1735                                               |\n",
       "| S14010                                             | 菊名店                                             | 14                                                 | 神奈川県                                           | 神奈川県横浜市港北区菊名一丁目                     | カナガワケンヨコハマシコウホククキクナイッチョウメ | 045-123-4032                                       | 139.6326                                           | 35.50049                                           | 1732                                               |\n",
       "| S14033                                             | 阿久和店                                           | 14                                                 | 神奈川県                                           | 神奈川県横浜市瀬谷区阿久和西一丁目                 | カナガワケンヨコハマシセヤクアクワニシイッチョウメ | 045-123-4043                                       | 139.4961                                           | 35.45918                                           | 1495                                               |\n",
       "| S14036                                             | 相模原中央店                                       | 14                                                 | 神奈川県                                           | 神奈川県相模原市中央二丁目                         | カナガワケンサガミハラシチュウオウニチョウメ       | 042-123-4045                                       | 139.3716                                           | 35.57327                                           | 1679                                               |\n",
       "\n"
      ],
      "text/plain": [
       "  store_cd store_name   prefecture_cd prefecture\n",
       "1 S12014   千草台店     12            千葉県    \n",
       "2 S13002   国分寺店     13            東京都    \n",
       "3 S14010   菊名店       14            神奈川県  \n",
       "4 S14033   阿久和店     14            神奈川県  \n",
       "5 S14036   相模原中央店 14            神奈川県  \n",
       "  address                           \n",
       "1 千葉県千葉市稲毛区千草台一丁目    \n",
       "2 東京都国分寺市本多二丁目          \n",
       "3 神奈川県横浜市港北区菊名一丁目    \n",
       "4 神奈川県横浜市瀬谷区阿久和西一丁目\n",
       "5 神奈川県相模原市中央二丁目        \n",
       "  address_kana                                       tel_no       longitude\n",
       "1 チバケンチバシイナゲクチグサダイイッチョウメ       043-123-4003 140.1180 \n",
       "2 トウキョウトコクブンジシホンダニチョウメ           042-123-4008 139.4802 \n",
       "3 カナガワケンヨコハマシコウホククキクナイッチョウメ 045-123-4032 139.6326 \n",
       "4 カナガワケンヨコハマシセヤクアクワニシイッチョウメ 045-123-4043 139.4961 \n",
       "5 カナガワケンサガミハラシチュウオウニチョウメ       042-123-4045 139.3716 \n",
       "  latitude floor_area\n",
       "1 35.63559 1698      \n",
       "2 35.70566 1735      \n",
       "3 35.50049 1732      \n",
       "4 35.45918 1495      \n",
       "5 35.57327 1679      "
      ]
     },
     "metadata": {},
     "output_type": "display_data"
    }
   ],
   "source": [
    "df_store <- read.csv(\"./data/store.csv\", encoding=\"shift-jis\") # 正常に読まなかったので文字コードを変換した\n",
    "head(df_store, n = 5)"
   ]
  },
  {
   "cell_type": "code",
   "execution_count": 7,
   "metadata": {},
   "outputs": [
    {
     "data": {
      "text/html": [
       "<table>\n",
       "<thead><tr><th scope=col>X.U.FEFF.postal_cd</th><th scope=col>prefecture</th><th scope=col>city</th><th scope=col>town</th><th scope=col>street</th><th scope=col>address</th><th scope=col>full_address</th><th scope=col>longitude</th><th scope=col>latitude</th></tr></thead>\n",
       "<tbody>\n",
       "\t<tr><td>060-0000                          </td><td>北海道,札幌市中央区               </td><td>                                  </td><td>                                  </td><td>                                  </td><td>北海道札幌市中央区                </td><td>141.34103                         </td><td>43.05513                          </td><td>NA                                </td></tr>\n",
       "\t<tr><td>064-0941                          </td><td>北海道,札幌市中央区               </td><td>旭ケ丘,                           </td><td>                                  </td><td>北海道札幌市中央区旭ケ丘,141.31972</td><td>43.04223                          </td><td>                                  </td><td>      NA                          </td><td>NA                                </td></tr>\n",
       "\t<tr><td>060-0042                          </td><td>北海道,札幌市中央区               </td><td>大通西                            </td><td>                                  </td><td>１丁目                            </td><td>北海道札幌市中央区大通西１丁目    </td><td>141.35637                         </td><td>43.06102                          </td><td>NA                                </td></tr>\n",
       "\t<tr><td>060-0042                          </td><td>北海道,札幌市中央区               </td><td>大通西                            </td><td>                                  </td><td>２丁目                            </td><td>北海道札幌市中央区大通西２丁目    </td><td>141.35445                         </td><td>43.06080                          </td><td>NA                                </td></tr>\n",
       "\t<tr><td>060-0042                          </td><td>北海道,札幌市中央区               </td><td>大通西                            </td><td>                                  </td><td>３丁目                            </td><td>北海道札幌市中央区大通西３丁目    </td><td>141.35275                         </td><td>43.06086                          </td><td>NA                                </td></tr>\n",
       "</tbody>\n",
       "</table>\n"
      ],
      "text/latex": [
       "\\begin{tabular}{r|lllllllll}\n",
       " X.U.FEFF.postal\\_cd & prefecture & city & town & street & address & full\\_address & longitude & latitude\\\\\n",
       "\\hline\n",
       "\t 060-0000                           & 北海道,札幌市中央区                &                                    &                                    &                                    & 北海道札幌市中央区                 & 141.34103                          & 43.05513                           & NA                                \\\\\n",
       "\t 064-0941                           & 北海道,札幌市中央区                & 旭ケ丘,                            &                                    & 北海道札幌市中央区旭ケ丘,141.31972 & 43.04223                           &                                    &       NA                           & NA                                \\\\\n",
       "\t 060-0042                           & 北海道,札幌市中央区                & 大通西                             &                                    & １丁目                             & 北海道札幌市中央区大通西１丁目     & 141.35637                          & 43.06102                           & NA                                \\\\\n",
       "\t 060-0042                           & 北海道,札幌市中央区                & 大通西                             &                                    & ２丁目                             & 北海道札幌市中央区大通西２丁目     & 141.35445                          & 43.06080                           & NA                                \\\\\n",
       "\t 060-0042                           & 北海道,札幌市中央区                & 大通西                             &                                    & ３丁目                             & 北海道札幌市中央区大通西３丁目     & 141.35275                          & 43.06086                           & NA                                \\\\\n",
       "\\end{tabular}\n"
      ],
      "text/markdown": [
       "\n",
       "| X.U.FEFF.postal_cd | prefecture | city | town | street | address | full_address | longitude | latitude |\n",
       "|---|---|---|---|---|---|---|---|---|\n",
       "| 060-0000                           | 北海道,札幌市中央区                |                                    |                                    |                                    | 北海道札幌市中央区                 | 141.34103                          | 43.05513                           | NA                                 |\n",
       "| 064-0941                           | 北海道,札幌市中央区                | 旭ケ丘,                            |                                    | 北海道札幌市中央区旭ケ丘,141.31972 | 43.04223                           |                                    |       NA                           | NA                                 |\n",
       "| 060-0042                           | 北海道,札幌市中央区                | 大通西                             |                                    | １丁目                             | 北海道札幌市中央区大通西１丁目     | 141.35637                          | 43.06102                           | NA                                 |\n",
       "| 060-0042                           | 北海道,札幌市中央区                | 大通西                             |                                    | ２丁目                             | 北海道札幌市中央区大通西２丁目     | 141.35445                          | 43.06080                           | NA                                 |\n",
       "| 060-0042                           | 北海道,札幌市中央区                | 大通西                             |                                    | ３丁目                             | 北海道札幌市中央区大通西３丁目     | 141.35275                          | 43.06086                           | NA                                 |\n",
       "\n"
      ],
      "text/plain": [
       "  X.U.FEFF.postal_cd prefecture          city    town\n",
       "1 060-0000           北海道,札幌市中央区             \n",
       "2 064-0941           北海道,札幌市中央区 旭ケ丘,     \n",
       "3 060-0042           北海道,札幌市中央区 大通西      \n",
       "4 060-0042           北海道,札幌市中央区 大通西      \n",
       "5 060-0042           北海道,札幌市中央区 大通西      \n",
       "  street                             address                       \n",
       "1                                    北海道札幌市中央区            \n",
       "2 北海道札幌市中央区旭ケ丘,141.31972 43.04223                      \n",
       "3 １丁目                             北海道札幌市中央区大通西１丁目\n",
       "4 ２丁目                             北海道札幌市中央区大通西２丁目\n",
       "5 ３丁目                             北海道札幌市中央区大通西３丁目\n",
       "  full_address longitude latitude\n",
       "1 141.34103    43.05513  NA      \n",
       "2                    NA  NA      \n",
       "3 141.35637    43.06102  NA      \n",
       "4 141.35445    43.06080  NA      \n",
       "5 141.35275    43.06086  NA      "
      ]
     },
     "metadata": {},
     "output_type": "display_data"
    }
   ],
   "source": [
    "df_geocode <- read.csv(\"./data/geocode.csv\", encoding=\"UTF-8\") # 時間がかかる, Python では一瞬で読めた\n",
    "head(df_geocode, n = 5)"
   ]
  },
  {
   "cell_type": "markdown",
   "metadata": {},
   "source": [
    "# 演習問題"
   ]
  },
  {
   "cell_type": "markdown",
   "metadata": {},
   "source": [
    "---\n",
    "> R-001: レシート明細データフレーム（df_receipt）から全項目の先頭10件を表示し、どのようなデータを保有しているか目視で確認せよ。"
   ]
  },
  {
   "cell_type": "code",
   "execution_count": 8,
   "metadata": {},
   "outputs": [
    {
     "data": {
      "text/html": [
       "<table>\n",
       "<thead><tr><th scope=col>sales_ymd</th><th scope=col>sales_epoch</th><th scope=col>store_cd</th><th scope=col>receipt_no</th><th scope=col>receipt_sub_no</th><th scope=col>customer_id</th><th scope=col>product_cd</th><th scope=col>quantity</th><th scope=col>amount</th></tr></thead>\n",
       "<tbody>\n",
       "\t<tr><td>20181103      </td><td>1257206400    </td><td>S14006        </td><td> 112          </td><td>1             </td><td>CS006214000001</td><td>P070305012    </td><td>1             </td><td>158           </td></tr>\n",
       "\t<tr><td>20181118      </td><td>1258502400    </td><td>S13008        </td><td>1132          </td><td>2             </td><td>CS008415000097</td><td>P070701017    </td><td>1             </td><td> 81           </td></tr>\n",
       "\t<tr><td>20170712      </td><td>1215820800    </td><td>S14028        </td><td>1102          </td><td>1             </td><td>CS028414000014</td><td>P060101005    </td><td>1             </td><td>170           </td></tr>\n",
       "\t<tr><td>20190205      </td><td>1265328000    </td><td>S14042        </td><td>1132          </td><td>1             </td><td>ZZ000000000000</td><td>P050301001    </td><td>1             </td><td> 25           </td></tr>\n",
       "\t<tr><td>20180821      </td><td>1250812800    </td><td>S14025        </td><td>1102          </td><td>2             </td><td>CS025415000050</td><td>P060102007    </td><td>1             </td><td> 90           </td></tr>\n",
       "\t<tr><td>20190605      </td><td>1275696000    </td><td>S13003        </td><td>1112          </td><td>1             </td><td>CS003515000195</td><td>P050102002    </td><td>1             </td><td>138           </td></tr>\n",
       "\t<tr><td>20181205      </td><td>1259971200    </td><td>S14024        </td><td>1102          </td><td>2             </td><td>CS024514000042</td><td>P080101005    </td><td>1             </td><td> 30           </td></tr>\n",
       "\t<tr><td>20190922      </td><td>1285113600    </td><td>S14040        </td><td>1102          </td><td>1             </td><td>CS040415000178</td><td>P070501004    </td><td>1             </td><td>128           </td></tr>\n",
       "\t<tr><td>20170504      </td><td>1209859200    </td><td>S13020        </td><td>1112          </td><td>2             </td><td>ZZ000000000000</td><td>P071302010    </td><td>1             </td><td>770           </td></tr>\n",
       "\t<tr><td>20191010      </td><td>1286668800    </td><td>S14027        </td><td>1102          </td><td>1             </td><td>CS027514000015</td><td>P071101003    </td><td>1             </td><td>680           </td></tr>\n",
       "</tbody>\n",
       "</table>\n"
      ],
      "text/latex": [
       "\\begin{tabular}{r|lllllllll}\n",
       " sales\\_ymd & sales\\_epoch & store\\_cd & receipt\\_no & receipt\\_sub\\_no & customer\\_id & product\\_cd & quantity & amount\\\\\n",
       "\\hline\n",
       "\t 20181103       & 1257206400     & S14006         &  112           & 1              & CS006214000001 & P070305012     & 1              & 158           \\\\\n",
       "\t 20181118       & 1258502400     & S13008         & 1132           & 2              & CS008415000097 & P070701017     & 1              &  81           \\\\\n",
       "\t 20170712       & 1215820800     & S14028         & 1102           & 1              & CS028414000014 & P060101005     & 1              & 170           \\\\\n",
       "\t 20190205       & 1265328000     & S14042         & 1132           & 1              & ZZ000000000000 & P050301001     & 1              &  25           \\\\\n",
       "\t 20180821       & 1250812800     & S14025         & 1102           & 2              & CS025415000050 & P060102007     & 1              &  90           \\\\\n",
       "\t 20190605       & 1275696000     & S13003         & 1112           & 1              & CS003515000195 & P050102002     & 1              & 138           \\\\\n",
       "\t 20181205       & 1259971200     & S14024         & 1102           & 2              & CS024514000042 & P080101005     & 1              &  30           \\\\\n",
       "\t 20190922       & 1285113600     & S14040         & 1102           & 1              & CS040415000178 & P070501004     & 1              & 128           \\\\\n",
       "\t 20170504       & 1209859200     & S13020         & 1112           & 2              & ZZ000000000000 & P071302010     & 1              & 770           \\\\\n",
       "\t 20191010       & 1286668800     & S14027         & 1102           & 1              & CS027514000015 & P071101003     & 1              & 680           \\\\\n",
       "\\end{tabular}\n"
      ],
      "text/markdown": [
       "\n",
       "| sales_ymd | sales_epoch | store_cd | receipt_no | receipt_sub_no | customer_id | product_cd | quantity | amount |\n",
       "|---|---|---|---|---|---|---|---|---|\n",
       "| 20181103       | 1257206400     | S14006         |  112           | 1              | CS006214000001 | P070305012     | 1              | 158            |\n",
       "| 20181118       | 1258502400     | S13008         | 1132           | 2              | CS008415000097 | P070701017     | 1              |  81            |\n",
       "| 20170712       | 1215820800     | S14028         | 1102           | 1              | CS028414000014 | P060101005     | 1              | 170            |\n",
       "| 20190205       | 1265328000     | S14042         | 1132           | 1              | ZZ000000000000 | P050301001     | 1              |  25            |\n",
       "| 20180821       | 1250812800     | S14025         | 1102           | 2              | CS025415000050 | P060102007     | 1              |  90            |\n",
       "| 20190605       | 1275696000     | S13003         | 1112           | 1              | CS003515000195 | P050102002     | 1              | 138            |\n",
       "| 20181205       | 1259971200     | S14024         | 1102           | 2              | CS024514000042 | P080101005     | 1              |  30            |\n",
       "| 20190922       | 1285113600     | S14040         | 1102           | 1              | CS040415000178 | P070501004     | 1              | 128            |\n",
       "| 20170504       | 1209859200     | S13020         | 1112           | 2              | ZZ000000000000 | P071302010     | 1              | 770            |\n",
       "| 20191010       | 1286668800     | S14027         | 1102           | 1              | CS027514000015 | P071101003     | 1              | 680            |\n",
       "\n"
      ],
      "text/plain": [
       "   sales_ymd sales_epoch store_cd receipt_no receipt_sub_no customer_id   \n",
       "1  20181103  1257206400  S14006    112       1              CS006214000001\n",
       "2  20181118  1258502400  S13008   1132       2              CS008415000097\n",
       "3  20170712  1215820800  S14028   1102       1              CS028414000014\n",
       "4  20190205  1265328000  S14042   1132       1              ZZ000000000000\n",
       "5  20180821  1250812800  S14025   1102       2              CS025415000050\n",
       "6  20190605  1275696000  S13003   1112       1              CS003515000195\n",
       "7  20181205  1259971200  S14024   1102       2              CS024514000042\n",
       "8  20190922  1285113600  S14040   1102       1              CS040415000178\n",
       "9  20170504  1209859200  S13020   1112       2              ZZ000000000000\n",
       "10 20191010  1286668800  S14027   1102       1              CS027514000015\n",
       "   product_cd quantity amount\n",
       "1  P070305012 1        158   \n",
       "2  P070701017 1         81   \n",
       "3  P060101005 1        170   \n",
       "4  P050301001 1         25   \n",
       "5  P060102007 1         90   \n",
       "6  P050102002 1        138   \n",
       "7  P080101005 1         30   \n",
       "8  P070501004 1        128   \n",
       "9  P071302010 1        770   \n",
       "10 P071101003 1        680   "
      ]
     },
     "metadata": {},
     "output_type": "display_data"
    }
   ],
   "source": [
    "head(df_receipt, n = 10)"
   ]
  },
  {
   "cell_type": "markdown",
   "metadata": {},
   "source": [
    "---\n",
    "> R-002: レシート明細データフレーム（df_receipt）から売上日（sales_ymd）、顧客ID（customer_id）、商品コード（product_cd）、売上金額（amount）の順に列を指定し、10件表示させよ。"
   ]
  },
  {
   "cell_type": "code",
   "execution_count": 9,
   "metadata": {},
   "outputs": [
    {
     "data": {
      "text/html": [
       "<table>\n",
       "<thead><tr><th scope=col>sales_ymd</th><th scope=col>customer_id</th><th scope=col>product_cd</th><th scope=col>amount</th></tr></thead>\n",
       "<tbody>\n",
       "\t<tr><td>20181103      </td><td>CS006214000001</td><td>P070305012    </td><td>158           </td></tr>\n",
       "\t<tr><td>20181118      </td><td>CS008415000097</td><td>P070701017    </td><td> 81           </td></tr>\n",
       "\t<tr><td>20170712      </td><td>CS028414000014</td><td>P060101005    </td><td>170           </td></tr>\n",
       "\t<tr><td>20190205      </td><td>ZZ000000000000</td><td>P050301001    </td><td> 25           </td></tr>\n",
       "\t<tr><td>20180821      </td><td>CS025415000050</td><td>P060102007    </td><td> 90           </td></tr>\n",
       "\t<tr><td>20190605      </td><td>CS003515000195</td><td>P050102002    </td><td>138           </td></tr>\n",
       "\t<tr><td>20181205      </td><td>CS024514000042</td><td>P080101005    </td><td> 30           </td></tr>\n",
       "\t<tr><td>20190922      </td><td>CS040415000178</td><td>P070501004    </td><td>128           </td></tr>\n",
       "\t<tr><td>20170504      </td><td>ZZ000000000000</td><td>P071302010    </td><td>770           </td></tr>\n",
       "\t<tr><td>20191010      </td><td>CS027514000015</td><td>P071101003    </td><td>680           </td></tr>\n",
       "</tbody>\n",
       "</table>\n"
      ],
      "text/latex": [
       "\\begin{tabular}{r|llll}\n",
       " sales\\_ymd & customer\\_id & product\\_cd & amount\\\\\n",
       "\\hline\n",
       "\t 20181103       & CS006214000001 & P070305012     & 158           \\\\\n",
       "\t 20181118       & CS008415000097 & P070701017     &  81           \\\\\n",
       "\t 20170712       & CS028414000014 & P060101005     & 170           \\\\\n",
       "\t 20190205       & ZZ000000000000 & P050301001     &  25           \\\\\n",
       "\t 20180821       & CS025415000050 & P060102007     &  90           \\\\\n",
       "\t 20190605       & CS003515000195 & P050102002     & 138           \\\\\n",
       "\t 20181205       & CS024514000042 & P080101005     &  30           \\\\\n",
       "\t 20190922       & CS040415000178 & P070501004     & 128           \\\\\n",
       "\t 20170504       & ZZ000000000000 & P071302010     & 770           \\\\\n",
       "\t 20191010       & CS027514000015 & P071101003     & 680           \\\\\n",
       "\\end{tabular}\n"
      ],
      "text/markdown": [
       "\n",
       "| sales_ymd | customer_id | product_cd | amount |\n",
       "|---|---|---|---|\n",
       "| 20181103       | CS006214000001 | P070305012     | 158            |\n",
       "| 20181118       | CS008415000097 | P070701017     |  81            |\n",
       "| 20170712       | CS028414000014 | P060101005     | 170            |\n",
       "| 20190205       | ZZ000000000000 | P050301001     |  25            |\n",
       "| 20180821       | CS025415000050 | P060102007     |  90            |\n",
       "| 20190605       | CS003515000195 | P050102002     | 138            |\n",
       "| 20181205       | CS024514000042 | P080101005     |  30            |\n",
       "| 20190922       | CS040415000178 | P070501004     | 128            |\n",
       "| 20170504       | ZZ000000000000 | P071302010     | 770            |\n",
       "| 20191010       | CS027514000015 | P071101003     | 680            |\n",
       "\n"
      ],
      "text/plain": [
       "   sales_ymd customer_id    product_cd amount\n",
       "1  20181103  CS006214000001 P070305012 158   \n",
       "2  20181118  CS008415000097 P070701017  81   \n",
       "3  20170712  CS028414000014 P060101005 170   \n",
       "4  20190205  ZZ000000000000 P050301001  25   \n",
       "5  20180821  CS025415000050 P060102007  90   \n",
       "6  20190605  CS003515000195 P050102002 138   \n",
       "7  20181205  CS024514000042 P080101005  30   \n",
       "8  20190922  CS040415000178 P070501004 128   \n",
       "9  20170504  ZZ000000000000 P071302010 770   \n",
       "10 20191010  CS027514000015 P071101003 680   "
      ]
     },
     "metadata": {},
     "output_type": "display_data"
    }
   ],
   "source": [
    "head(df_receipt[c(\"sales_ymd\", \"customer_id\", \"product_cd\", \"amount\")], n=10)"
   ]
  },
  {
   "cell_type": "markdown",
   "metadata": {},
   "source": [
    "---\n",
    "> R-003: レシート明細データフレーム（df_receipt）から売上日（sales_ymd）、顧客ID（customer_id）、商品コード（product_cd）、売上金額（amount）の順に列を指定し、10件表示させよ。ただし、sales_ymdはsales_dateに項目名を変更しながら抽出すること。"
   ]
  },
  {
   "cell_type": "code",
   "execution_count": 10,
   "metadata": {},
   "outputs": [
    {
     "data": {
      "text/html": [
       "<table>\n",
       "<thead><tr><th scope=col>sales_date</th><th scope=col>customer_id</th><th scope=col>product_cd</th><th scope=col>amount</th></tr></thead>\n",
       "<tbody>\n",
       "\t<tr><td>20181103      </td><td>CS006214000001</td><td>P070305012    </td><td>158           </td></tr>\n",
       "\t<tr><td>20181118      </td><td>CS008415000097</td><td>P070701017    </td><td> 81           </td></tr>\n",
       "\t<tr><td>20170712      </td><td>CS028414000014</td><td>P060101005    </td><td>170           </td></tr>\n",
       "\t<tr><td>20190205      </td><td>ZZ000000000000</td><td>P050301001    </td><td> 25           </td></tr>\n",
       "\t<tr><td>20180821      </td><td>CS025415000050</td><td>P060102007    </td><td> 90           </td></tr>\n",
       "\t<tr><td>20190605      </td><td>CS003515000195</td><td>P050102002    </td><td>138           </td></tr>\n",
       "\t<tr><td>20181205      </td><td>CS024514000042</td><td>P080101005    </td><td> 30           </td></tr>\n",
       "\t<tr><td>20190922      </td><td>CS040415000178</td><td>P070501004    </td><td>128           </td></tr>\n",
       "\t<tr><td>20170504      </td><td>ZZ000000000000</td><td>P071302010    </td><td>770           </td></tr>\n",
       "\t<tr><td>20191010      </td><td>CS027514000015</td><td>P071101003    </td><td>680           </td></tr>\n",
       "</tbody>\n",
       "</table>\n"
      ],
      "text/latex": [
       "\\begin{tabular}{r|llll}\n",
       " sales\\_date & customer\\_id & product\\_cd & amount\\\\\n",
       "\\hline\n",
       "\t 20181103       & CS006214000001 & P070305012     & 158           \\\\\n",
       "\t 20181118       & CS008415000097 & P070701017     &  81           \\\\\n",
       "\t 20170712       & CS028414000014 & P060101005     & 170           \\\\\n",
       "\t 20190205       & ZZ000000000000 & P050301001     &  25           \\\\\n",
       "\t 20180821       & CS025415000050 & P060102007     &  90           \\\\\n",
       "\t 20190605       & CS003515000195 & P050102002     & 138           \\\\\n",
       "\t 20181205       & CS024514000042 & P080101005     &  30           \\\\\n",
       "\t 20190922       & CS040415000178 & P070501004     & 128           \\\\\n",
       "\t 20170504       & ZZ000000000000 & P071302010     & 770           \\\\\n",
       "\t 20191010       & CS027514000015 & P071101003     & 680           \\\\\n",
       "\\end{tabular}\n"
      ],
      "text/markdown": [
       "\n",
       "| sales_date | customer_id | product_cd | amount |\n",
       "|---|---|---|---|\n",
       "| 20181103       | CS006214000001 | P070305012     | 158            |\n",
       "| 20181118       | CS008415000097 | P070701017     |  81            |\n",
       "| 20170712       | CS028414000014 | P060101005     | 170            |\n",
       "| 20190205       | ZZ000000000000 | P050301001     |  25            |\n",
       "| 20180821       | CS025415000050 | P060102007     |  90            |\n",
       "| 20190605       | CS003515000195 | P050102002     | 138            |\n",
       "| 20181205       | CS024514000042 | P080101005     |  30            |\n",
       "| 20190922       | CS040415000178 | P070501004     | 128            |\n",
       "| 20170504       | ZZ000000000000 | P071302010     | 770            |\n",
       "| 20191010       | CS027514000015 | P071101003     | 680            |\n",
       "\n"
      ],
      "text/plain": [
       "   sales_date customer_id    product_cd amount\n",
       "1  20181103   CS006214000001 P070305012 158   \n",
       "2  20181118   CS008415000097 P070701017  81   \n",
       "3  20170712   CS028414000014 P060101005 170   \n",
       "4  20190205   ZZ000000000000 P050301001  25   \n",
       "5  20180821   CS025415000050 P060102007  90   \n",
       "6  20190605   CS003515000195 P050102002 138   \n",
       "7  20181205   CS024514000042 P080101005  30   \n",
       "8  20190922   CS040415000178 P070501004 128   \n",
       "9  20170504   ZZ000000000000 P071302010 770   \n",
       "10 20191010   CS027514000015 P071101003 680   "
      ]
     },
     "metadata": {},
     "output_type": "display_data"
    }
   ],
   "source": [
    "head(rename(df_receipt[c(\"sales_ymd\", \"customer_id\", \"product_cd\", \"amount\")], sales_date = sales_ymd), n=10)"
   ]
  },
  {
   "cell_type": "markdown",
   "metadata": {},
   "source": [
    "---\n",
    "> R-004: レシート明細データフレーム（df_receipt）から売上日（sales_ymd）、顧客ID（customer_id）、商品コード（product_cd）、売上金額（amount）の順に列を指定し、以下の条件を満たすデータを抽出せよ。\n",
    "> - 顧客ID（customer_id）が\"CS018205000001\""
   ]
  },
  {
   "cell_type": "code",
   "execution_count": 11,
   "metadata": {},
   "outputs": [
    {
     "data": {
      "text/html": [
       "<table>\n",
       "<thead><tr><th scope=col>sales_ymd</th><th scope=col>customer_id</th><th scope=col>product_cd</th><th scope=col>amount</th></tr></thead>\n",
       "<tbody>\n",
       "\t<tr><td>20180911      </td><td>CS018205000001</td><td>P071401012    </td><td>2200          </td></tr>\n",
       "\t<tr><td>20180414      </td><td>CS018205000001</td><td>P060104007    </td><td> 600          </td></tr>\n",
       "\t<tr><td>20170614      </td><td>CS018205000001</td><td>P050206001    </td><td> 990          </td></tr>\n",
       "\t<tr><td>20170614      </td><td>CS018205000001</td><td>P060702015    </td><td> 108          </td></tr>\n",
       "\t<tr><td>20190216      </td><td>CS018205000001</td><td>P071005024    </td><td> 102          </td></tr>\n",
       "\t<tr><td>20180414      </td><td>CS018205000001</td><td>P071101002    </td><td> 278          </td></tr>\n",
       "\t<tr><td>20190226      </td><td>CS018205000001</td><td>P070902035    </td><td> 168          </td></tr>\n",
       "\t<tr><td>20190924      </td><td>CS018205000001</td><td>P060805001    </td><td> 495          </td></tr>\n",
       "\t<tr><td>20190226      </td><td>CS018205000001</td><td>P071401020    </td><td>2200          </td></tr>\n",
       "\t<tr><td>20180911      </td><td>CS018205000001</td><td>P071401005    </td><td>1100          </td></tr>\n",
       "\t<tr><td>20190216      </td><td>CS018205000001</td><td>P040101002    </td><td> 218          </td></tr>\n",
       "\t<tr><td>20190924      </td><td>CS018205000001</td><td>P091503001    </td><td> 280          </td></tr>\n",
       "</tbody>\n",
       "</table>\n"
      ],
      "text/latex": [
       "\\begin{tabular}{r|llll}\n",
       " sales\\_ymd & customer\\_id & product\\_cd & amount\\\\\n",
       "\\hline\n",
       "\t 20180911       & CS018205000001 & P071401012     & 2200          \\\\\n",
       "\t 20180414       & CS018205000001 & P060104007     &  600          \\\\\n",
       "\t 20170614       & CS018205000001 & P050206001     &  990          \\\\\n",
       "\t 20170614       & CS018205000001 & P060702015     &  108          \\\\\n",
       "\t 20190216       & CS018205000001 & P071005024     &  102          \\\\\n",
       "\t 20180414       & CS018205000001 & P071101002     &  278          \\\\\n",
       "\t 20190226       & CS018205000001 & P070902035     &  168          \\\\\n",
       "\t 20190924       & CS018205000001 & P060805001     &  495          \\\\\n",
       "\t 20190226       & CS018205000001 & P071401020     & 2200          \\\\\n",
       "\t 20180911       & CS018205000001 & P071401005     & 1100          \\\\\n",
       "\t 20190216       & CS018205000001 & P040101002     &  218          \\\\\n",
       "\t 20190924       & CS018205000001 & P091503001     &  280          \\\\\n",
       "\\end{tabular}\n"
      ],
      "text/markdown": [
       "\n",
       "| sales_ymd | customer_id | product_cd | amount |\n",
       "|---|---|---|---|\n",
       "| 20180911       | CS018205000001 | P071401012     | 2200           |\n",
       "| 20180414       | CS018205000001 | P060104007     |  600           |\n",
       "| 20170614       | CS018205000001 | P050206001     |  990           |\n",
       "| 20170614       | CS018205000001 | P060702015     |  108           |\n",
       "| 20190216       | CS018205000001 | P071005024     |  102           |\n",
       "| 20180414       | CS018205000001 | P071101002     |  278           |\n",
       "| 20190226       | CS018205000001 | P070902035     |  168           |\n",
       "| 20190924       | CS018205000001 | P060805001     |  495           |\n",
       "| 20190226       | CS018205000001 | P071401020     | 2200           |\n",
       "| 20180911       | CS018205000001 | P071401005     | 1100           |\n",
       "| 20190216       | CS018205000001 | P040101002     |  218           |\n",
       "| 20190924       | CS018205000001 | P091503001     |  280           |\n",
       "\n"
      ],
      "text/plain": [
       "   sales_ymd customer_id    product_cd amount\n",
       "1  20180911  CS018205000001 P071401012 2200  \n",
       "2  20180414  CS018205000001 P060104007  600  \n",
       "3  20170614  CS018205000001 P050206001  990  \n",
       "4  20170614  CS018205000001 P060702015  108  \n",
       "5  20190216  CS018205000001 P071005024  102  \n",
       "6  20180414  CS018205000001 P071101002  278  \n",
       "7  20190226  CS018205000001 P070902035  168  \n",
       "8  20190924  CS018205000001 P060805001  495  \n",
       "9  20190226  CS018205000001 P071401020 2200  \n",
       "10 20180911  CS018205000001 P071401005 1100  \n",
       "11 20190216  CS018205000001 P040101002  218  \n",
       "12 20190924  CS018205000001 P091503001  280  "
      ]
     },
     "metadata": {},
     "output_type": "display_data"
    }
   ],
   "source": [
    "df_receipt[c(\"sales_ymd\", \"customer_id\", \"product_cd\", \"amount\")] %>%\n",
    "    filter(customer_id == \"CS018205000001\")"
   ]
  },
  {
   "cell_type": "markdown",
   "metadata": {},
   "source": [
    "---\n",
    "> R-005: レシート明細データフレーム（df_receipt）から売上日（sales_ymd）、顧客ID（customer_id）、商品コード（product_cd）、売上金額（amount）の順に列を指定し、以下の条件を満たすデータを抽出せよ。\n",
    "> - 顧客ID（customer_id）が\"CS018205000001\"\n",
    "> - 売上金額（amount）が1,000以上"
   ]
  },
  {
   "cell_type": "code",
   "execution_count": 12,
   "metadata": {},
   "outputs": [
    {
     "data": {
      "text/html": [
       "<table>\n",
       "<thead><tr><th scope=col>sales_ymd</th><th scope=col>customer_id</th><th scope=col>product_cd</th><th scope=col>amount</th></tr></thead>\n",
       "<tbody>\n",
       "\t<tr><td>20180911      </td><td>CS018205000001</td><td>P071401012    </td><td>2200          </td></tr>\n",
       "\t<tr><td>20190226      </td><td>CS018205000001</td><td>P071401020    </td><td>2200          </td></tr>\n",
       "\t<tr><td>20180911      </td><td>CS018205000001</td><td>P071401005    </td><td>1100          </td></tr>\n",
       "</tbody>\n",
       "</table>\n"
      ],
      "text/latex": [
       "\\begin{tabular}{r|llll}\n",
       " sales\\_ymd & customer\\_id & product\\_cd & amount\\\\\n",
       "\\hline\n",
       "\t 20180911       & CS018205000001 & P071401012     & 2200          \\\\\n",
       "\t 20190226       & CS018205000001 & P071401020     & 2200          \\\\\n",
       "\t 20180911       & CS018205000001 & P071401005     & 1100          \\\\\n",
       "\\end{tabular}\n"
      ],
      "text/markdown": [
       "\n",
       "| sales_ymd | customer_id | product_cd | amount |\n",
       "|---|---|---|---|\n",
       "| 20180911       | CS018205000001 | P071401012     | 2200           |\n",
       "| 20190226       | CS018205000001 | P071401020     | 2200           |\n",
       "| 20180911       | CS018205000001 | P071401005     | 1100           |\n",
       "\n"
      ],
      "text/plain": [
       "  sales_ymd customer_id    product_cd amount\n",
       "1 20180911  CS018205000001 P071401012 2200  \n",
       "2 20190226  CS018205000001 P071401020 2200  \n",
       "3 20180911  CS018205000001 P071401005 1100  "
      ]
     },
     "metadata": {},
     "output_type": "display_data"
    }
   ],
   "source": [
    "df_receipt[c(\"sales_ymd\", \"customer_id\", \"product_cd\", \"amount\")] %>%\n",
    "    filter(customer_id == \"CS018205000001\" & amount >= 1000)"
   ]
  },
  {
   "cell_type": "markdown",
   "metadata": {},
   "source": [
    "---\n",
    "> R-006: レシート明細データフレーム（receipt）から売上日（sales_ymd）、顧客ID（customer_id）、商品コード（product_cd）、売上数量（quantity）、売上金額（amount）の順に列を指定し、以下の条件を満たすデータを抽出せよ。\n",
    "> - 顧客ID（customer_id）が\"CS018205000001\"\n",
    "> - 売上金額（amount）が1,000以上または売上数量（quantity）が5以上"
   ]
  },
  {
   "cell_type": "code",
   "execution_count": 13,
   "metadata": {},
   "outputs": [
    {
     "data": {
      "text/html": [
       "<table>\n",
       "<thead><tr><th scope=col>sales_ymd</th><th scope=col>customer_id</th><th scope=col>product_cd</th><th scope=col>quantity</th><th scope=col>amount</th></tr></thead>\n",
       "<tbody>\n",
       "\t<tr><td>20180911      </td><td>CS018205000001</td><td>P071401012    </td><td>1             </td><td>2200          </td></tr>\n",
       "\t<tr><td>20180414      </td><td>CS018205000001</td><td>P060104007    </td><td>6             </td><td> 600          </td></tr>\n",
       "\t<tr><td>20170614      </td><td>CS018205000001</td><td>P050206001    </td><td>5             </td><td> 990          </td></tr>\n",
       "\t<tr><td>20190226      </td><td>CS018205000001</td><td>P071401020    </td><td>1             </td><td>2200          </td></tr>\n",
       "\t<tr><td>20180911      </td><td>CS018205000001</td><td>P071401005    </td><td>1             </td><td>1100          </td></tr>\n",
       "</tbody>\n",
       "</table>\n"
      ],
      "text/latex": [
       "\\begin{tabular}{r|lllll}\n",
       " sales\\_ymd & customer\\_id & product\\_cd & quantity & amount\\\\\n",
       "\\hline\n",
       "\t 20180911       & CS018205000001 & P071401012     & 1              & 2200          \\\\\n",
       "\t 20180414       & CS018205000001 & P060104007     & 6              &  600          \\\\\n",
       "\t 20170614       & CS018205000001 & P050206001     & 5              &  990          \\\\\n",
       "\t 20190226       & CS018205000001 & P071401020     & 1              & 2200          \\\\\n",
       "\t 20180911       & CS018205000001 & P071401005     & 1              & 1100          \\\\\n",
       "\\end{tabular}\n"
      ],
      "text/markdown": [
       "\n",
       "| sales_ymd | customer_id | product_cd | quantity | amount |\n",
       "|---|---|---|---|---|\n",
       "| 20180911       | CS018205000001 | P071401012     | 1              | 2200           |\n",
       "| 20180414       | CS018205000001 | P060104007     | 6              |  600           |\n",
       "| 20170614       | CS018205000001 | P050206001     | 5              |  990           |\n",
       "| 20190226       | CS018205000001 | P071401020     | 1              | 2200           |\n",
       "| 20180911       | CS018205000001 | P071401005     | 1              | 1100           |\n",
       "\n"
      ],
      "text/plain": [
       "  sales_ymd customer_id    product_cd quantity amount\n",
       "1 20180911  CS018205000001 P071401012 1        2200  \n",
       "2 20180414  CS018205000001 P060104007 6         600  \n",
       "3 20170614  CS018205000001 P050206001 5         990  \n",
       "4 20190226  CS018205000001 P071401020 1        2200  \n",
       "5 20180911  CS018205000001 P071401005 1        1100  "
      ]
     },
     "metadata": {},
     "output_type": "display_data"
    }
   ],
   "source": [
    "df_receipt[c(\"sales_ymd\", \"customer_id\", \"product_cd\", \"quantity\", \"amount\")] %>%\n",
    "    filter(customer_id == \"CS018205000001\" &\n",
    "           (amount >= 1000 | quantity >= 5))"
   ]
  },
  {
   "cell_type": "markdown",
   "metadata": {},
   "source": [
    "---\n",
    "> R-007: レシート明細のデータフレーム（df_receipt）から売上日（sales_ymd）、顧客ID（customer_id）、商品コード（product_cd）、売上金額（amount）の順に列を指定し、以下の条件を満たすデータを抽出せよ。\n",
    "> - 顧客ID（customer_id）が\"CS018205000001\"\n",
    "> - 売上金額（amount）が1,000以上2,000以下"
   ]
  },
  {
   "cell_type": "code",
   "execution_count": 14,
   "metadata": {},
   "outputs": [
    {
     "data": {
      "text/html": [
       "<table>\n",
       "<thead><tr><th scope=col>sales_ymd</th><th scope=col>customer_id</th><th scope=col>product_cd</th><th scope=col>amount</th></tr></thead>\n",
       "<tbody>\n",
       "\t<tr><td>20180911      </td><td>CS018205000001</td><td>P071401005    </td><td>1100          </td></tr>\n",
       "</tbody>\n",
       "</table>\n"
      ],
      "text/latex": [
       "\\begin{tabular}{r|llll}\n",
       " sales\\_ymd & customer\\_id & product\\_cd & amount\\\\\n",
       "\\hline\n",
       "\t 20180911       & CS018205000001 & P071401005     & 1100          \\\\\n",
       "\\end{tabular}\n"
      ],
      "text/markdown": [
       "\n",
       "| sales_ymd | customer_id | product_cd | amount |\n",
       "|---|---|---|---|\n",
       "| 20180911       | CS018205000001 | P071401005     | 1100           |\n",
       "\n"
      ],
      "text/plain": [
       "  sales_ymd customer_id    product_cd amount\n",
       "1 20180911  CS018205000001 P071401005 1100  "
      ]
     },
     "metadata": {},
     "output_type": "display_data"
    }
   ],
   "source": [
    "df_receipt[c(\"sales_ymd\", \"customer_id\", \"product_cd\", \"amount\")] %>%\n",
    "    filter(customer_id == \"CS018205000001\" &\n",
    "           between(amount, 1000, 2000))"
   ]
  },
  {
   "cell_type": "markdown",
   "metadata": {},
   "source": [
    "---\n",
    "> R-008: レシート明細データフレーム（df_receipt）から売上日（sales_ymd）、顧客ID（customer_id）、商品コード（product_cd）、売上金額（amount）の順に列を指定し、以下の条件を満たすデータを抽出せよ。\n",
    "> - 顧客ID（customer_id）が\"CS018205000001\"\n",
    "> - 商品コード（product_cd）が\"P071401019\"以外"
   ]
  },
  {
   "cell_type": "code",
   "execution_count": 15,
   "metadata": {},
   "outputs": [
    {
     "data": {
      "text/html": [
       "<table>\n",
       "<thead><tr><th scope=col>sales_ymd</th><th scope=col>customer_id</th><th scope=col>product_cd</th><th scope=col>amount</th></tr></thead>\n",
       "<tbody>\n",
       "\t<tr><td>20180911      </td><td>CS018205000001</td><td>P071401012    </td><td>2200          </td></tr>\n",
       "\t<tr><td>20180414      </td><td>CS018205000001</td><td>P060104007    </td><td> 600          </td></tr>\n",
       "\t<tr><td>20170614      </td><td>CS018205000001</td><td>P050206001    </td><td> 990          </td></tr>\n",
       "\t<tr><td>20170614      </td><td>CS018205000001</td><td>P060702015    </td><td> 108          </td></tr>\n",
       "\t<tr><td>20190216      </td><td>CS018205000001</td><td>P071005024    </td><td> 102          </td></tr>\n",
       "\t<tr><td>20180414      </td><td>CS018205000001</td><td>P071101002    </td><td> 278          </td></tr>\n",
       "\t<tr><td>20190226      </td><td>CS018205000001</td><td>P070902035    </td><td> 168          </td></tr>\n",
       "\t<tr><td>20190924      </td><td>CS018205000001</td><td>P060805001    </td><td> 495          </td></tr>\n",
       "\t<tr><td>20190226      </td><td>CS018205000001</td><td>P071401020    </td><td>2200          </td></tr>\n",
       "\t<tr><td>20180911      </td><td>CS018205000001</td><td>P071401005    </td><td>1100          </td></tr>\n",
       "\t<tr><td>20190216      </td><td>CS018205000001</td><td>P040101002    </td><td> 218          </td></tr>\n",
       "\t<tr><td>20190924      </td><td>CS018205000001</td><td>P091503001    </td><td> 280          </td></tr>\n",
       "</tbody>\n",
       "</table>\n"
      ],
      "text/latex": [
       "\\begin{tabular}{r|llll}\n",
       " sales\\_ymd & customer\\_id & product\\_cd & amount\\\\\n",
       "\\hline\n",
       "\t 20180911       & CS018205000001 & P071401012     & 2200          \\\\\n",
       "\t 20180414       & CS018205000001 & P060104007     &  600          \\\\\n",
       "\t 20170614       & CS018205000001 & P050206001     &  990          \\\\\n",
       "\t 20170614       & CS018205000001 & P060702015     &  108          \\\\\n",
       "\t 20190216       & CS018205000001 & P071005024     &  102          \\\\\n",
       "\t 20180414       & CS018205000001 & P071101002     &  278          \\\\\n",
       "\t 20190226       & CS018205000001 & P070902035     &  168          \\\\\n",
       "\t 20190924       & CS018205000001 & P060805001     &  495          \\\\\n",
       "\t 20190226       & CS018205000001 & P071401020     & 2200          \\\\\n",
       "\t 20180911       & CS018205000001 & P071401005     & 1100          \\\\\n",
       "\t 20190216       & CS018205000001 & P040101002     &  218          \\\\\n",
       "\t 20190924       & CS018205000001 & P091503001     &  280          \\\\\n",
       "\\end{tabular}\n"
      ],
      "text/markdown": [
       "\n",
       "| sales_ymd | customer_id | product_cd | amount |\n",
       "|---|---|---|---|\n",
       "| 20180911       | CS018205000001 | P071401012     | 2200           |\n",
       "| 20180414       | CS018205000001 | P060104007     |  600           |\n",
       "| 20170614       | CS018205000001 | P050206001     |  990           |\n",
       "| 20170614       | CS018205000001 | P060702015     |  108           |\n",
       "| 20190216       | CS018205000001 | P071005024     |  102           |\n",
       "| 20180414       | CS018205000001 | P071101002     |  278           |\n",
       "| 20190226       | CS018205000001 | P070902035     |  168           |\n",
       "| 20190924       | CS018205000001 | P060805001     |  495           |\n",
       "| 20190226       | CS018205000001 | P071401020     | 2200           |\n",
       "| 20180911       | CS018205000001 | P071401005     | 1100           |\n",
       "| 20190216       | CS018205000001 | P040101002     |  218           |\n",
       "| 20190924       | CS018205000001 | P091503001     |  280           |\n",
       "\n"
      ],
      "text/plain": [
       "   sales_ymd customer_id    product_cd amount\n",
       "1  20180911  CS018205000001 P071401012 2200  \n",
       "2  20180414  CS018205000001 P060104007  600  \n",
       "3  20170614  CS018205000001 P050206001  990  \n",
       "4  20170614  CS018205000001 P060702015  108  \n",
       "5  20190216  CS018205000001 P071005024  102  \n",
       "6  20180414  CS018205000001 P071101002  278  \n",
       "7  20190226  CS018205000001 P070902035  168  \n",
       "8  20190924  CS018205000001 P060805001  495  \n",
       "9  20190226  CS018205000001 P071401020 2200  \n",
       "10 20180911  CS018205000001 P071401005 1100  \n",
       "11 20190216  CS018205000001 P040101002  218  \n",
       "12 20190924  CS018205000001 P091503001  280  "
      ]
     },
     "metadata": {},
     "output_type": "display_data"
    }
   ],
   "source": [
    "df_receipt[c(\"sales_ymd\", \"customer_id\", \"product_cd\", \"amount\")] %>%\n",
    "    filter(customer_id == \"CS018205000001\" &\n",
    "           product_cd != \"P071401019\")"
   ]
  },
  {
   "cell_type": "markdown",
   "metadata": {},
   "source": [
    "---\n",
    "> R-009: 以下の処理において、出力結果を変えずにORをANDに書き換えよ。\n",
    "\n",
    "`\n",
    "df_store %>%\n",
    "    filter(!(prefecture_cd == \"13\" | floor_area > 900))\n",
    "`"
   ]
  },
  {
   "cell_type": "code",
   "execution_count": 16,
   "metadata": {},
   "outputs": [
    {
     "data": {
      "text/html": [
       "<table>\n",
       "<thead><tr><th scope=col>store_cd</th><th scope=col>store_name</th><th scope=col>prefecture_cd</th><th scope=col>prefecture</th><th scope=col>address</th><th scope=col>address_kana</th><th scope=col>tel_no</th><th scope=col>longitude</th><th scope=col>latitude</th><th scope=col>floor_area</th></tr></thead>\n",
       "<tbody>\n",
       "\t<tr><td>S14046                                                      </td><td>北山田店                                                    </td><td>14                                                          </td><td>神奈川県                                                    </td><td>神奈川県横浜市都筑区北山田一丁目                            </td><td>カナガワケンヨコハマシツヅキクキタヤマタイッチョウメ        </td><td>045-123-4049                                                </td><td>139.5916                                                    </td><td>35.56189                                                    </td><td>831                                                         </td></tr>\n",
       "\t<tr><td>S14011                                                      </td><td>日吉本町店                                                  </td><td>14                                                          </td><td>神奈川県                                                    </td><td>神奈川県横浜市港北区日吉本町四丁目                          </td><td>カナガワケンヨコハマシコウホククヒヨシホンチョウヨンチョウメ</td><td>045-123-4033                                                </td><td>139.6316                                                    </td><td>35.54655                                                    </td><td>890                                                         </td></tr>\n",
       "\t<tr><td>S12013                                                      </td><td>習志野店                                                    </td><td>12                                                          </td><td>千葉県                                                      </td><td>千葉県習志野市芝園一丁目                                    </td><td>チバケンナラシノシシバゾノイッチョウメ                      </td><td>047-123-4002                                                </td><td>140.0220                                                    </td><td>35.66122                                                    </td><td>808                                                         </td></tr>\n",
       "</tbody>\n",
       "</table>\n"
      ],
      "text/latex": [
       "\\begin{tabular}{r|llllllllll}\n",
       " store\\_cd & store\\_name & prefecture\\_cd & prefecture & address & address\\_kana & tel\\_no & longitude & latitude & floor\\_area\\\\\n",
       "\\hline\n",
       "\t S14046                                                       & 北山田店                                                     & 14                                                           & 神奈川県                                                     & 神奈川県横浜市都筑区北山田一丁目                             & カナガワケンヨコハマシツヅキクキタヤマタイッチョウメ         & 045-123-4049                                                 & 139.5916                                                     & 35.56189                                                     & 831                                                         \\\\\n",
       "\t S14011                                                       & 日吉本町店                                                   & 14                                                           & 神奈川県                                                     & 神奈川県横浜市港北区日吉本町四丁目                           & カナガワケンヨコハマシコウホククヒヨシホンチョウヨンチョウメ & 045-123-4033                                                 & 139.6316                                                     & 35.54655                                                     & 890                                                         \\\\\n",
       "\t S12013                                                       & 習志野店                                                     & 12                                                           & 千葉県                                                       & 千葉県習志野市芝園一丁目                                     & チバケンナラシノシシバゾノイッチョウメ                       & 047-123-4002                                                 & 140.0220                                                     & 35.66122                                                     & 808                                                         \\\\\n",
       "\\end{tabular}\n"
      ],
      "text/markdown": [
       "\n",
       "| store_cd | store_name | prefecture_cd | prefecture | address | address_kana | tel_no | longitude | latitude | floor_area |\n",
       "|---|---|---|---|---|---|---|---|---|---|\n",
       "| S14046                                                       | 北山田店                                                     | 14                                                           | 神奈川県                                                     | 神奈川県横浜市都筑区北山田一丁目                             | カナガワケンヨコハマシツヅキクキタヤマタイッチョウメ         | 045-123-4049                                                 | 139.5916                                                     | 35.56189                                                     | 831                                                          |\n",
       "| S14011                                                       | 日吉本町店                                                   | 14                                                           | 神奈川県                                                     | 神奈川県横浜市港北区日吉本町四丁目                           | カナガワケンヨコハマシコウホククヒヨシホンチョウヨンチョウメ | 045-123-4033                                                 | 139.6316                                                     | 35.54655                                                     | 890                                                          |\n",
       "| S12013                                                       | 習志野店                                                     | 12                                                           | 千葉県                                                       | 千葉県習志野市芝園一丁目                                     | チバケンナラシノシシバゾノイッチョウメ                       | 047-123-4002                                                 | 140.0220                                                     | 35.66122                                                     | 808                                                          |\n",
       "\n"
      ],
      "text/plain": [
       "  store_cd store_name prefecture_cd prefecture\n",
       "1 S14046   北山田店   14            神奈川県  \n",
       "2 S14011   日吉本町店 14            神奈川県  \n",
       "3 S12013   習志野店   12            千葉県    \n",
       "  address                           \n",
       "1 神奈川県横浜市都筑区北山田一丁目  \n",
       "2 神奈川県横浜市港北区日吉本町四丁目\n",
       "3 千葉県習志野市芝園一丁目          \n",
       "  address_kana                                                 tel_no      \n",
       "1 カナガワケンヨコハマシツヅキクキタヤマタイッチョウメ         045-123-4049\n",
       "2 カナガワケンヨコハマシコウホククヒヨシホンチョウヨンチョウメ 045-123-4033\n",
       "3 チバケンナラシノシシバゾノイッチョウメ                       047-123-4002\n",
       "  longitude latitude floor_area\n",
       "1 139.5916  35.56189 831       \n",
       "2 139.6316  35.54655 890       \n",
       "3 140.0220  35.66122 808       "
      ]
     },
     "metadata": {},
     "output_type": "display_data"
    }
   ],
   "source": [
    "df_store %>% filter(prefecture_cd != \"13\" & floor_area <= 900)"
   ]
  },
  {
   "cell_type": "markdown",
   "metadata": {},
   "source": [
    "---\n",
    "> R-010: 店舗データフレーム（df_store）から、店舗コード（store_cd）が\"S14\"で始まるものだけ全項目抽出し、10件だけ表示せよ。"
   ]
  },
  {
   "cell_type": "code",
   "execution_count": 17,
   "metadata": {},
   "outputs": [
    {
     "data": {
      "text/html": [
       "<table>\n",
       "<thead><tr><th scope=col>store_cd</th><th scope=col>store_name</th><th scope=col>prefecture_cd</th><th scope=col>prefecture</th><th scope=col>address</th><th scope=col>address_kana</th><th scope=col>tel_no</th><th scope=col>longitude</th><th scope=col>latitude</th><th scope=col>floor_area</th></tr></thead>\n",
       "<tbody>\n",
       "\t<tr><td>S14010                                                      </td><td>菊名店                                                      </td><td>14                                                          </td><td>神奈川県                                                    </td><td>神奈川県横浜市港北区菊名一丁目                              </td><td>カナガワケンヨコハマシコウホククキクナイッチョウメ          </td><td>045-123-4032                                                </td><td>139.6326                                                    </td><td>35.50049                                                    </td><td>1732                                                        </td></tr>\n",
       "\t<tr><td>S14033                                                      </td><td>阿久和店                                                    </td><td>14                                                          </td><td>神奈川県                                                    </td><td>神奈川県横浜市瀬谷区阿久和西一丁目                          </td><td>カナガワケンヨコハマシセヤクアクワニシイッチョウメ          </td><td>045-123-4043                                                </td><td>139.4961                                                    </td><td>35.45918                                                    </td><td>1495                                                        </td></tr>\n",
       "\t<tr><td>S14036                                                      </td><td>相模原中央店                                                </td><td>14                                                          </td><td>神奈川県                                                    </td><td>神奈川県相模原市中央二丁目                                  </td><td>カナガワケンサガミハラシチュウオウニチョウメ                </td><td>042-123-4045                                                </td><td>139.3716                                                    </td><td>35.57327                                                    </td><td>1679                                                        </td></tr>\n",
       "\t<tr><td>S14040                                                      </td><td>長津田店                                                    </td><td>14                                                          </td><td>神奈川県                                                    </td><td>神奈川県横浜市緑区長津田みなみ台五丁目                      </td><td>カナガワケンヨコハマシミドリクナガツタミナミダイゴチョウメ  </td><td>045-123-4046                                                </td><td>139.4994                                                    </td><td>35.52398                                                    </td><td>1548                                                        </td></tr>\n",
       "\t<tr><td>S14050                                                      </td><td>阿久和西店                                                  </td><td>14                                                          </td><td>神奈川県                                                    </td><td>神奈川県横浜市瀬谷区阿久和西一丁目                          </td><td>カナガワケンヨコハマシセヤクアクワニシイッチョウメ          </td><td>045-123-4053                                                </td><td>139.4961                                                    </td><td>35.45918                                                    </td><td>1830                                                        </td></tr>\n",
       "\t<tr><td>S14028                                                      </td><td>二ツ橋店                                                    </td><td>14                                                          </td><td>神奈川県                                                    </td><td>神奈川県横浜市瀬谷区二ツ橋町                                </td><td>カナガワケンヨコハマシセヤクフタツバシチョウ                </td><td>045-123-4042                                                </td><td>139.4963                                                    </td><td>35.46304                                                    </td><td>1574                                                        </td></tr>\n",
       "\t<tr><td>S14012                                                      </td><td>本牧和田店                                                  </td><td>14                                                          </td><td>神奈川県                                                    </td><td>神奈川県横浜市中区本牧和田                                  </td><td>カナガワケンヨコハマシナカクホンモクワダ                    </td><td>045-123-4034                                                </td><td>139.6582                                                    </td><td>35.42156                                                    </td><td>1341                                                        </td></tr>\n",
       "\t<tr><td>S14046                                                      </td><td>北山田店                                                    </td><td>14                                                          </td><td>神奈川県                                                    </td><td>神奈川県横浜市都筑区北山田一丁目                            </td><td>カナガワケンヨコハマシツヅキクキタヤマタイッチョウメ        </td><td>045-123-4049                                                </td><td>139.5916                                                    </td><td>35.56189                                                    </td><td> 831                                                        </td></tr>\n",
       "\t<tr><td>S14022                                                      </td><td>逗子店                                                      </td><td>14                                                          </td><td>神奈川県                                                    </td><td>神奈川県逗子市逗子一丁目                                    </td><td>カナガワケンズシシズシイッチョウメ                          </td><td>046-123-4036                                                </td><td>139.5789                                                    </td><td>35.29642                                                    </td><td>1838                                                        </td></tr>\n",
       "\t<tr><td>S14011                                                      </td><td>日吉本町店                                                  </td><td>14                                                          </td><td>神奈川県                                                    </td><td>神奈川県横浜市港北区日吉本町四丁目                          </td><td>カナガワケンヨコハマシコウホククヒヨシホンチョウヨンチョウメ</td><td>045-123-4033                                                </td><td>139.6316                                                    </td><td>35.54655                                                    </td><td> 890                                                        </td></tr>\n",
       "</tbody>\n",
       "</table>\n"
      ],
      "text/latex": [
       "\\begin{tabular}{r|llllllllll}\n",
       " store\\_cd & store\\_name & prefecture\\_cd & prefecture & address & address\\_kana & tel\\_no & longitude & latitude & floor\\_area\\\\\n",
       "\\hline\n",
       "\t S14010                                                       & 菊名店                                                       & 14                                                           & 神奈川県                                                     & 神奈川県横浜市港北区菊名一丁目                               & カナガワケンヨコハマシコウホククキクナイッチョウメ           & 045-123-4032                                                 & 139.6326                                                     & 35.50049                                                     & 1732                                                        \\\\\n",
       "\t S14033                                                       & 阿久和店                                                     & 14                                                           & 神奈川県                                                     & 神奈川県横浜市瀬谷区阿久和西一丁目                           & カナガワケンヨコハマシセヤクアクワニシイッチョウメ           & 045-123-4043                                                 & 139.4961                                                     & 35.45918                                                     & 1495                                                        \\\\\n",
       "\t S14036                                                       & 相模原中央店                                                 & 14                                                           & 神奈川県                                                     & 神奈川県相模原市中央二丁目                                   & カナガワケンサガミハラシチュウオウニチョウメ                 & 042-123-4045                                                 & 139.3716                                                     & 35.57327                                                     & 1679                                                        \\\\\n",
       "\t S14040                                                       & 長津田店                                                     & 14                                                           & 神奈川県                                                     & 神奈川県横浜市緑区長津田みなみ台五丁目                       & カナガワケンヨコハマシミドリクナガツタミナミダイゴチョウメ   & 045-123-4046                                                 & 139.4994                                                     & 35.52398                                                     & 1548                                                        \\\\\n",
       "\t S14050                                                       & 阿久和西店                                                   & 14                                                           & 神奈川県                                                     & 神奈川県横浜市瀬谷区阿久和西一丁目                           & カナガワケンヨコハマシセヤクアクワニシイッチョウメ           & 045-123-4053                                                 & 139.4961                                                     & 35.45918                                                     & 1830                                                        \\\\\n",
       "\t S14028                                                       & 二ツ橋店                                                     & 14                                                           & 神奈川県                                                     & 神奈川県横浜市瀬谷区二ツ橋町                                 & カナガワケンヨコハマシセヤクフタツバシチョウ                 & 045-123-4042                                                 & 139.4963                                                     & 35.46304                                                     & 1574                                                        \\\\\n",
       "\t S14012                                                       & 本牧和田店                                                   & 14                                                           & 神奈川県                                                     & 神奈川県横浜市中区本牧和田                                   & カナガワケンヨコハマシナカクホンモクワダ                     & 045-123-4034                                                 & 139.6582                                                     & 35.42156                                                     & 1341                                                        \\\\\n",
       "\t S14046                                                       & 北山田店                                                     & 14                                                           & 神奈川県                                                     & 神奈川県横浜市都筑区北山田一丁目                             & カナガワケンヨコハマシツヅキクキタヤマタイッチョウメ         & 045-123-4049                                                 & 139.5916                                                     & 35.56189                                                     &  831                                                        \\\\\n",
       "\t S14022                                                       & 逗子店                                                       & 14                                                           & 神奈川県                                                     & 神奈川県逗子市逗子一丁目                                     & カナガワケンズシシズシイッチョウメ                           & 046-123-4036                                                 & 139.5789                                                     & 35.29642                                                     & 1838                                                        \\\\\n",
       "\t S14011                                                       & 日吉本町店                                                   & 14                                                           & 神奈川県                                                     & 神奈川県横浜市港北区日吉本町四丁目                           & カナガワケンヨコハマシコウホククヒヨシホンチョウヨンチョウメ & 045-123-4033                                                 & 139.6316                                                     & 35.54655                                                     &  890                                                        \\\\\n",
       "\\end{tabular}\n"
      ],
      "text/markdown": [
       "\n",
       "| store_cd | store_name | prefecture_cd | prefecture | address | address_kana | tel_no | longitude | latitude | floor_area |\n",
       "|---|---|---|---|---|---|---|---|---|---|\n",
       "| S14010                                                       | 菊名店                                                       | 14                                                           | 神奈川県                                                     | 神奈川県横浜市港北区菊名一丁目                               | カナガワケンヨコハマシコウホククキクナイッチョウメ           | 045-123-4032                                                 | 139.6326                                                     | 35.50049                                                     | 1732                                                         |\n",
       "| S14033                                                       | 阿久和店                                                     | 14                                                           | 神奈川県                                                     | 神奈川県横浜市瀬谷区阿久和西一丁目                           | カナガワケンヨコハマシセヤクアクワニシイッチョウメ           | 045-123-4043                                                 | 139.4961                                                     | 35.45918                                                     | 1495                                                         |\n",
       "| S14036                                                       | 相模原中央店                                                 | 14                                                           | 神奈川県                                                     | 神奈川県相模原市中央二丁目                                   | カナガワケンサガミハラシチュウオウニチョウメ                 | 042-123-4045                                                 | 139.3716                                                     | 35.57327                                                     | 1679                                                         |\n",
       "| S14040                                                       | 長津田店                                                     | 14                                                           | 神奈川県                                                     | 神奈川県横浜市緑区長津田みなみ台五丁目                       | カナガワケンヨコハマシミドリクナガツタミナミダイゴチョウメ   | 045-123-4046                                                 | 139.4994                                                     | 35.52398                                                     | 1548                                                         |\n",
       "| S14050                                                       | 阿久和西店                                                   | 14                                                           | 神奈川県                                                     | 神奈川県横浜市瀬谷区阿久和西一丁目                           | カナガワケンヨコハマシセヤクアクワニシイッチョウメ           | 045-123-4053                                                 | 139.4961                                                     | 35.45918                                                     | 1830                                                         |\n",
       "| S14028                                                       | 二ツ橋店                                                     | 14                                                           | 神奈川県                                                     | 神奈川県横浜市瀬谷区二ツ橋町                                 | カナガワケンヨコハマシセヤクフタツバシチョウ                 | 045-123-4042                                                 | 139.4963                                                     | 35.46304                                                     | 1574                                                         |\n",
       "| S14012                                                       | 本牧和田店                                                   | 14                                                           | 神奈川県                                                     | 神奈川県横浜市中区本牧和田                                   | カナガワケンヨコハマシナカクホンモクワダ                     | 045-123-4034                                                 | 139.6582                                                     | 35.42156                                                     | 1341                                                         |\n",
       "| S14046                                                       | 北山田店                                                     | 14                                                           | 神奈川県                                                     | 神奈川県横浜市都筑区北山田一丁目                             | カナガワケンヨコハマシツヅキクキタヤマタイッチョウメ         | 045-123-4049                                                 | 139.5916                                                     | 35.56189                                                     |  831                                                         |\n",
       "| S14022                                                       | 逗子店                                                       | 14                                                           | 神奈川県                                                     | 神奈川県逗子市逗子一丁目                                     | カナガワケンズシシズシイッチョウメ                           | 046-123-4036                                                 | 139.5789                                                     | 35.29642                                                     | 1838                                                         |\n",
       "| S14011                                                       | 日吉本町店                                                   | 14                                                           | 神奈川県                                                     | 神奈川県横浜市港北区日吉本町四丁目                           | カナガワケンヨコハマシコウホククヒヨシホンチョウヨンチョウメ | 045-123-4033                                                 | 139.6316                                                     | 35.54655                                                     |  890                                                         |\n",
       "\n"
      ],
      "text/plain": [
       "   store_cd store_name   prefecture_cd prefecture\n",
       "1  S14010   菊名店       14            神奈川県  \n",
       "2  S14033   阿久和店     14            神奈川県  \n",
       "3  S14036   相模原中央店 14            神奈川県  \n",
       "4  S14040   長津田店     14            神奈川県  \n",
       "5  S14050   阿久和西店   14            神奈川県  \n",
       "6  S14028   二ツ橋店     14            神奈川県  \n",
       "7  S14012   本牧和田店   14            神奈川県  \n",
       "8  S14046   北山田店     14            神奈川県  \n",
       "9  S14022   逗子店       14            神奈川県  \n",
       "10 S14011   日吉本町店   14            神奈川県  \n",
       "   address                               \n",
       "1  神奈川県横浜市港北区菊名一丁目        \n",
       "2  神奈川県横浜市瀬谷区阿久和西一丁目    \n",
       "3  神奈川県相模原市中央二丁目            \n",
       "4  神奈川県横浜市緑区長津田みなみ台五丁目\n",
       "5  神奈川県横浜市瀬谷区阿久和西一丁目    \n",
       "6  神奈川県横浜市瀬谷区二ツ橋町          \n",
       "7  神奈川県横浜市中区本牧和田            \n",
       "8  神奈川県横浜市都筑区北山田一丁目      \n",
       "9  神奈川県逗子市逗子一丁目              \n",
       "10 神奈川県横浜市港北区日吉本町四丁目    \n",
       "   address_kana                                                 tel_no      \n",
       "1  カナガワケンヨコハマシコウホククキクナイッチョウメ           045-123-4032\n",
       "2  カナガワケンヨコハマシセヤクアクワニシイッチョウメ           045-123-4043\n",
       "3  カナガワケンサガミハラシチュウオウニチョウメ                 042-123-4045\n",
       "4  カナガワケンヨコハマシミドリクナガツタミナミダイゴチョウメ   045-123-4046\n",
       "5  カナガワケンヨコハマシセヤクアクワニシイッチョウメ           045-123-4053\n",
       "6  カナガワケンヨコハマシセヤクフタツバシチョウ                 045-123-4042\n",
       "7  カナガワケンヨコハマシナカクホンモクワダ                     045-123-4034\n",
       "8  カナガワケンヨコハマシツヅキクキタヤマタイッチョウメ         045-123-4049\n",
       "9  カナガワケンズシシズシイッチョウメ                           046-123-4036\n",
       "10 カナガワケンヨコハマシコウホククヒヨシホンチョウヨンチョウメ 045-123-4033\n",
       "   longitude latitude floor_area\n",
       "1  139.6326  35.50049 1732      \n",
       "2  139.4961  35.45918 1495      \n",
       "3  139.3716  35.57327 1679      \n",
       "4  139.4994  35.52398 1548      \n",
       "5  139.4961  35.45918 1830      \n",
       "6  139.4963  35.46304 1574      \n",
       "7  139.6582  35.42156 1341      \n",
       "8  139.5916  35.56189  831      \n",
       "9  139.5789  35.29642 1838      \n",
       "10 139.6316  35.54655  890      "
      ]
     },
     "metadata": {},
     "output_type": "display_data"
    }
   ],
   "source": [
    "head(df_store %>% filter(grepl(\"^S14\", store_cd)), n=10)"
   ]
  },
  {
   "cell_type": "markdown",
   "metadata": {},
   "source": [
    "---\n",
    "> R-011: 顧客データフレーム（df_customer）から顧客ID（customer_id）の末尾が1のものだけ全項目抽出し、10件だけ表示せよ。"
   ]
  },
  {
   "cell_type": "code",
   "execution_count": 18,
   "metadata": {},
   "outputs": [
    {
     "data": {
      "text/html": [
       "<table>\n",
       "<thead><tr><th scope=col>customer_id</th><th scope=col>customer_name</th><th scope=col>gender_cd</th><th scope=col>gender</th><th scope=col>birth_day</th><th scope=col>age</th><th scope=col>postal_cd</th><th scope=col>address</th><th scope=col>application_store_cd</th><th scope=col>application_date</th><th scope=col>status_cd</th></tr></thead>\n",
       "<tbody>\n",
       "\t<tr><td>CS037613000071                      </td><td>六角 雅彦                           </td><td>9                                   </td><td>不明                                </td><td>1952-04-01                          </td><td>66                                  </td><td>136-0076                            </td><td>東京都江東区南砂**********          </td><td>S13037                              </td><td>20150414                            </td><td>0-00000000-0                        </td></tr>\n",
       "\t<tr><td>CS028811000001                      </td><td>堀井 かおり,1                       </td><td>女性                                </td><td>1933-03-27                          </td><td>86                                  </td><td>245-0016                            </td><td>神奈川県横浜市泉区和泉町**********  </td><td>S14028                              </td><td>20160115                            </td><td>0-00000000-0                        </td><td>                                    </td></tr>\n",
       "\t<tr><td>CS040412000191                      </td><td>川井 郁恵                           </td><td>1                                   </td><td>女性                                </td><td>1977-01-05                          </td><td>42                                  </td><td>226-0021                            </td><td>神奈川県横浜市緑区北八朔町**********</td><td>S14040                              </td><td>20151101                            </td><td>1-20091025-4                        </td></tr>\n",
       "\t<tr><td>CS028314000011                      </td><td>小菅 あおい,1                       </td><td>女性                                </td><td>1983-11-26                          </td><td>35                                  </td><td>246-0038                            </td><td>神奈川県横浜市瀬谷区宮沢**********  </td><td>S14028                              </td><td>20151123                            </td><td>1-20080426-5                        </td><td>                                    </td></tr>\n",
       "\t<tr><td>CS039212000051                      </td><td>藤島 恵梨香,1                       </td><td>女性                                </td><td>1997-02-03                          </td><td>22                                  </td><td>166-0001                            </td><td>東京都杉並区阿佐谷北**********      </td><td>S13039                              </td><td>20171121                            </td><td>1-20100215-4                        </td><td>                                    </td></tr>\n",
       "\t<tr><td>CS015412000111                      </td><td>松居 奈月                           </td><td>1                                   </td><td>女性                                </td><td>1972-10-04                          </td><td>46                                  </td><td>136-0071                            </td><td>東京都江東区亀戸**********          </td><td>S13015                              </td><td>20150629                            </td><td>0-00000000-0                        </td></tr>\n",
       "\t<tr><td>CS004702000041                      </td><td>野島 洋,0                           </td><td>男性                                </td><td>1943-08-24                          </td><td>75                                  </td><td>176-0022                            </td><td>東京都練馬区向山**********          </td><td>S13004                              </td><td>20170218                            </td><td>0-00000000-0                        </td><td>                                    </td></tr>\n",
       "\t<tr><td>CS041515000001                      </td><td>栗田 千夏,1                         </td><td>女性                                </td><td>1967-01-02                          </td><td>52                                  </td><td>206-0001                            </td><td>東京都多摩市和田**********          </td><td>S13041                              </td><td>20160422                            </td><td>E-20100803-F                        </td><td>                                    </td></tr>\n",
       "\t<tr><td>CS029313000221                      </td><td>北条 ひかり                         </td><td>1                                   </td><td>女性                                </td><td>1987-06-19                          </td><td>31                                  </td><td>279-0011                            </td><td>千葉県浦安市美浜**********          </td><td>S12029                              </td><td>20180810                            </td><td>0-00000000-0                        </td></tr>\n",
       "\t<tr><td>CS034312000071                      </td><td>望月 奈央                           </td><td>1                                   </td><td>女性                                </td><td>1980-09-20                          </td><td>38                                  </td><td>213-0026                            </td><td>神奈川県川崎市高津区久末**********  </td><td>S14034                              </td><td>20160106                            </td><td>0-00000000-0                        </td></tr>\n",
       "</tbody>\n",
       "</table>\n"
      ],
      "text/latex": [
       "\\begin{tabular}{r|lllllllllll}\n",
       " customer\\_id & customer\\_name & gender\\_cd & gender & birth\\_day & age & postal\\_cd & address & application\\_store\\_cd & application\\_date & status\\_cd\\\\\n",
       "\\hline\n",
       "\t CS037613000071                       & 六角 雅彦                            & 9                                    & 不明                                 & 1952-04-01                           & 66                                   & 136-0076                             & 東京都江東区南砂**********           & S13037                               & 20150414                             & 0-00000000-0                        \\\\\n",
       "\t CS028811000001                       & 堀井 かおり,1                        & 女性                                 & 1933-03-27                           & 86                                   & 245-0016                             & 神奈川県横浜市泉区和泉町**********   & S14028                               & 20160115                             & 0-00000000-0                         &                                     \\\\\n",
       "\t CS040412000191                       & 川井 郁恵                            & 1                                    & 女性                                 & 1977-01-05                           & 42                                   & 226-0021                             & 神奈川県横浜市緑区北八朔町********** & S14040                               & 20151101                             & 1-20091025-4                        \\\\\n",
       "\t CS028314000011                       & 小菅 あおい,1                        & 女性                                 & 1983-11-26                           & 35                                   & 246-0038                             & 神奈川県横浜市瀬谷区宮沢**********   & S14028                               & 20151123                             & 1-20080426-5                         &                                     \\\\\n",
       "\t CS039212000051                       & 藤島 恵梨香,1                        & 女性                                 & 1997-02-03                           & 22                                   & 166-0001                             & 東京都杉並区阿佐谷北**********       & S13039                               & 20171121                             & 1-20100215-4                         &                                     \\\\\n",
       "\t CS015412000111                       & 松居 奈月                            & 1                                    & 女性                                 & 1972-10-04                           & 46                                   & 136-0071                             & 東京都江東区亀戸**********           & S13015                               & 20150629                             & 0-00000000-0                        \\\\\n",
       "\t CS004702000041                       & 野島 洋,0                            & 男性                                 & 1943-08-24                           & 75                                   & 176-0022                             & 東京都練馬区向山**********           & S13004                               & 20170218                             & 0-00000000-0                         &                                     \\\\\n",
       "\t CS041515000001                       & 栗田 千夏,1                          & 女性                                 & 1967-01-02                           & 52                                   & 206-0001                             & 東京都多摩市和田**********           & S13041                               & 20160422                             & E-20100803-F                         &                                     \\\\\n",
       "\t CS029313000221                       & 北条 ひかり                          & 1                                    & 女性                                 & 1987-06-19                           & 31                                   & 279-0011                             & 千葉県浦安市美浜**********           & S12029                               & 20180810                             & 0-00000000-0                        \\\\\n",
       "\t CS034312000071                       & 望月 奈央                            & 1                                    & 女性                                 & 1980-09-20                           & 38                                   & 213-0026                             & 神奈川県川崎市高津区久末**********   & S14034                               & 20160106                             & 0-00000000-0                        \\\\\n",
       "\\end{tabular}\n"
      ],
      "text/markdown": [
       "\n",
       "| customer_id | customer_name | gender_cd | gender | birth_day | age | postal_cd | address | application_store_cd | application_date | status_cd |\n",
       "|---|---|---|---|---|---|---|---|---|---|---|\n",
       "| CS037613000071                       | 六角 雅彦                            | 9                                    | 不明                                 | 1952-04-01                           | 66                                   | 136-0076                             | 東京都江東区南砂**********           | S13037                               | 20150414                             | 0-00000000-0                         |\n",
       "| CS028811000001                       | 堀井 かおり,1                        | 女性                                 | 1933-03-27                           | 86                                   | 245-0016                             | 神奈川県横浜市泉区和泉町**********   | S14028                               | 20160115                             | 0-00000000-0                         |                                      |\n",
       "| CS040412000191                       | 川井 郁恵                            | 1                                    | 女性                                 | 1977-01-05                           | 42                                   | 226-0021                             | 神奈川県横浜市緑区北八朔町********** | S14040                               | 20151101                             | 1-20091025-4                         |\n",
       "| CS028314000011                       | 小菅 あおい,1                        | 女性                                 | 1983-11-26                           | 35                                   | 246-0038                             | 神奈川県横浜市瀬谷区宮沢**********   | S14028                               | 20151123                             | 1-20080426-5                         |                                      |\n",
       "| CS039212000051                       | 藤島 恵梨香,1                        | 女性                                 | 1997-02-03                           | 22                                   | 166-0001                             | 東京都杉並区阿佐谷北**********       | S13039                               | 20171121                             | 1-20100215-4                         |                                      |\n",
       "| CS015412000111                       | 松居 奈月                            | 1                                    | 女性                                 | 1972-10-04                           | 46                                   | 136-0071                             | 東京都江東区亀戸**********           | S13015                               | 20150629                             | 0-00000000-0                         |\n",
       "| CS004702000041                       | 野島 洋,0                            | 男性                                 | 1943-08-24                           | 75                                   | 176-0022                             | 東京都練馬区向山**********           | S13004                               | 20170218                             | 0-00000000-0                         |                                      |\n",
       "| CS041515000001                       | 栗田 千夏,1                          | 女性                                 | 1967-01-02                           | 52                                   | 206-0001                             | 東京都多摩市和田**********           | S13041                               | 20160422                             | E-20100803-F                         |                                      |\n",
       "| CS029313000221                       | 北条 ひかり                          | 1                                    | 女性                                 | 1987-06-19                           | 31                                   | 279-0011                             | 千葉県浦安市美浜**********           | S12029                               | 20180810                             | 0-00000000-0                         |\n",
       "| CS034312000071                       | 望月 奈央                            | 1                                    | 女性                                 | 1980-09-20                           | 38                                   | 213-0026                             | 神奈川県川崎市高津区久末**********   | S14034                               | 20160106                             | 0-00000000-0                         |\n",
       "\n"
      ],
      "text/plain": [
       "   customer_id    customer_name gender_cd gender     birth_day  age     \n",
       "1  CS037613000071 六角 雅彦     9         不明       1952-04-01 66      \n",
       "2  CS028811000001 堀井 かおり,1 女性      1933-03-27 86         245-0016\n",
       "3  CS040412000191 川井 郁恵     1         女性       1977-01-05 42      \n",
       "4  CS028314000011 小菅 あおい,1 女性      1983-11-26 35         246-0038\n",
       "5  CS039212000051 藤島 恵梨香,1 女性      1997-02-03 22         166-0001\n",
       "6  CS015412000111 松居 奈月     1         女性       1972-10-04 46      \n",
       "7  CS004702000041 野島 洋,0     男性      1943-08-24 75         176-0022\n",
       "8  CS041515000001 栗田 千夏,1   女性      1967-01-02 52         206-0001\n",
       "9  CS029313000221 北条 ひかり   1         女性       1987-06-19 31      \n",
       "10 CS034312000071 望月 奈央     1         女性       1980-09-20 38      \n",
       "   postal_cd                          address                             \n",
       "1  136-0076                           東京都江東区南砂**********          \n",
       "2  神奈川県横浜市泉区和泉町********** S14028                              \n",
       "3  226-0021                           神奈川県横浜市緑区北八朔町**********\n",
       "4  神奈川県横浜市瀬谷区宮沢********** S14028                              \n",
       "5  東京都杉並区阿佐谷北**********     S13039                              \n",
       "6  136-0071                           東京都江東区亀戸**********          \n",
       "7  東京都練馬区向山**********         S13004                              \n",
       "8  東京都多摩市和田**********         S13041                              \n",
       "9  279-0011                           千葉県浦安市美浜**********          \n",
       "10 213-0026                           神奈川県川崎市高津区久末**********  \n",
       "   application_store_cd application_date status_cd   \n",
       "1  S13037               20150414         0-00000000-0\n",
       "2  20160115             0-00000000-0                 \n",
       "3  S14040               20151101         1-20091025-4\n",
       "4  20151123             1-20080426-5                 \n",
       "5  20171121             1-20100215-4                 \n",
       "6  S13015               20150629         0-00000000-0\n",
       "7  20170218             0-00000000-0                 \n",
       "8  20160422             E-20100803-F                 \n",
       "9  S12029               20180810         0-00000000-0\n",
       "10 S14034               20160106         0-00000000-0"
      ]
     },
     "metadata": {},
     "output_type": "display_data"
    }
   ],
   "source": [
    "head(df_customer %>% filter(grepl(\"1$\", customer_id)), n=10)"
   ]
  },
  {
   "cell_type": "markdown",
   "metadata": {},
   "source": [
    "---\n",
    "> R-012: 店舗データフレーム（df_store）から横浜市の店舗だけ全項目表示せよ。"
   ]
  },
  {
   "cell_type": "code",
   "execution_count": 19,
   "metadata": {},
   "outputs": [
    {
     "data": {
      "text/html": [
       "<table>\n",
       "<thead><tr><th scope=col>store_cd</th><th scope=col>store_name</th><th scope=col>prefecture_cd</th><th scope=col>prefecture</th><th scope=col>address</th><th scope=col>address_kana</th><th scope=col>tel_no</th><th scope=col>longitude</th><th scope=col>latitude</th><th scope=col>floor_area</th></tr></thead>\n",
       "<tbody>\n",
       "\t<tr><td>S14010                                                      </td><td>菊名店                                                      </td><td>14                                                          </td><td>神奈川県                                                    </td><td>神奈川県横浜市港北区菊名一丁目                              </td><td>カナガワケンヨコハマシコウホククキクナイッチョウメ          </td><td>045-123-4032                                                </td><td>139.6326                                                    </td><td>35.50049                                                    </td><td>1732                                                        </td></tr>\n",
       "\t<tr><td>S14033                                                      </td><td>阿久和店                                                    </td><td>14                                                          </td><td>神奈川県                                                    </td><td>神奈川県横浜市瀬谷区阿久和西一丁目                          </td><td>カナガワケンヨコハマシセヤクアクワニシイッチョウメ          </td><td>045-123-4043                                                </td><td>139.4961                                                    </td><td>35.45918                                                    </td><td>1495                                                        </td></tr>\n",
       "\t<tr><td>S14040                                                      </td><td>長津田店                                                    </td><td>14                                                          </td><td>神奈川県                                                    </td><td>神奈川県横浜市緑区長津田みなみ台五丁目                      </td><td>カナガワケンヨコハマシミドリクナガツタミナミダイゴチョウメ  </td><td>045-123-4046                                                </td><td>139.4994                                                    </td><td>35.52398                                                    </td><td>1548                                                        </td></tr>\n",
       "\t<tr><td>S14050                                                      </td><td>阿久和西店                                                  </td><td>14                                                          </td><td>神奈川県                                                    </td><td>神奈川県横浜市瀬谷区阿久和西一丁目                          </td><td>カナガワケンヨコハマシセヤクアクワニシイッチョウメ          </td><td>045-123-4053                                                </td><td>139.4961                                                    </td><td>35.45918                                                    </td><td>1830                                                        </td></tr>\n",
       "\t<tr><td>S14028                                                      </td><td>二ツ橋店                                                    </td><td>14                                                          </td><td>神奈川県                                                    </td><td>神奈川県横浜市瀬谷区二ツ橋町                                </td><td>カナガワケンヨコハマシセヤクフタツバシチョウ                </td><td>045-123-4042                                                </td><td>139.4963                                                    </td><td>35.46304                                                    </td><td>1574                                                        </td></tr>\n",
       "\t<tr><td>S14012                                                      </td><td>本牧和田店                                                  </td><td>14                                                          </td><td>神奈川県                                                    </td><td>神奈川県横浜市中区本牧和田                                  </td><td>カナガワケンヨコハマシナカクホンモクワダ                    </td><td>045-123-4034                                                </td><td>139.6582                                                    </td><td>35.42156                                                    </td><td>1341                                                        </td></tr>\n",
       "\t<tr><td>S14046                                                      </td><td>北山田店                                                    </td><td>14                                                          </td><td>神奈川県                                                    </td><td>神奈川県横浜市都筑区北山田一丁目                            </td><td>カナガワケンヨコハマシツヅキクキタヤマタイッチョウメ        </td><td>045-123-4049                                                </td><td>139.5916                                                    </td><td>35.56189                                                    </td><td> 831                                                        </td></tr>\n",
       "\t<tr><td>S14011                                                      </td><td>日吉本町店                                                  </td><td>14                                                          </td><td>神奈川県                                                    </td><td>神奈川県横浜市港北区日吉本町四丁目                          </td><td>カナガワケンヨコハマシコウホククヒヨシホンチョウヨンチョウメ</td><td>045-123-4033                                                </td><td>139.6316                                                    </td><td>35.54655                                                    </td><td> 890                                                        </td></tr>\n",
       "\t<tr><td>S14048                                                      </td><td>中川中央店                                                  </td><td>14                                                          </td><td>神奈川県                                                    </td><td>神奈川県横浜市都筑区中川中央二丁目                          </td><td>カナガワケンヨコハマシツヅキクナカガワチュウオウニチョウメ  </td><td>045-123-4051                                                </td><td>139.5758                                                    </td><td>35.54912                                                    </td><td>1657                                                        </td></tr>\n",
       "\t<tr><td>S14042                                                      </td><td>新山下店                                                    </td><td>14                                                          </td><td>神奈川県                                                    </td><td>神奈川県横浜市中区新山下二丁目                              </td><td>カナガワケンヨコハマシナカクシンヤマシタニチョウメ          </td><td>045-123-4047                                                </td><td>139.6593                                                    </td><td>35.43894                                                    </td><td>1044                                                        </td></tr>\n",
       "\t<tr><td>S14006                                                      </td><td>葛が谷店                                                    </td><td>14                                                          </td><td>神奈川県                                                    </td><td>神奈川県横浜市都筑区葛が谷                                  </td><td>カナガワケンヨコハマシツヅキククズガヤ                      </td><td>045-123-4031                                                </td><td>139.5633                                                    </td><td>35.53573                                                    </td><td>1886                                                        </td></tr>\n",
       "</tbody>\n",
       "</table>\n"
      ],
      "text/latex": [
       "\\begin{tabular}{r|llllllllll}\n",
       " store\\_cd & store\\_name & prefecture\\_cd & prefecture & address & address\\_kana & tel\\_no & longitude & latitude & floor\\_area\\\\\n",
       "\\hline\n",
       "\t S14010                                                       & 菊名店                                                       & 14                                                           & 神奈川県                                                     & 神奈川県横浜市港北区菊名一丁目                               & カナガワケンヨコハマシコウホククキクナイッチョウメ           & 045-123-4032                                                 & 139.6326                                                     & 35.50049                                                     & 1732                                                        \\\\\n",
       "\t S14033                                                       & 阿久和店                                                     & 14                                                           & 神奈川県                                                     & 神奈川県横浜市瀬谷区阿久和西一丁目                           & カナガワケンヨコハマシセヤクアクワニシイッチョウメ           & 045-123-4043                                                 & 139.4961                                                     & 35.45918                                                     & 1495                                                        \\\\\n",
       "\t S14040                                                       & 長津田店                                                     & 14                                                           & 神奈川県                                                     & 神奈川県横浜市緑区長津田みなみ台五丁目                       & カナガワケンヨコハマシミドリクナガツタミナミダイゴチョウメ   & 045-123-4046                                                 & 139.4994                                                     & 35.52398                                                     & 1548                                                        \\\\\n",
       "\t S14050                                                       & 阿久和西店                                                   & 14                                                           & 神奈川県                                                     & 神奈川県横浜市瀬谷区阿久和西一丁目                           & カナガワケンヨコハマシセヤクアクワニシイッチョウメ           & 045-123-4053                                                 & 139.4961                                                     & 35.45918                                                     & 1830                                                        \\\\\n",
       "\t S14028                                                       & 二ツ橋店                                                     & 14                                                           & 神奈川県                                                     & 神奈川県横浜市瀬谷区二ツ橋町                                 & カナガワケンヨコハマシセヤクフタツバシチョウ                 & 045-123-4042                                                 & 139.4963                                                     & 35.46304                                                     & 1574                                                        \\\\\n",
       "\t S14012                                                       & 本牧和田店                                                   & 14                                                           & 神奈川県                                                     & 神奈川県横浜市中区本牧和田                                   & カナガワケンヨコハマシナカクホンモクワダ                     & 045-123-4034                                                 & 139.6582                                                     & 35.42156                                                     & 1341                                                        \\\\\n",
       "\t S14046                                                       & 北山田店                                                     & 14                                                           & 神奈川県                                                     & 神奈川県横浜市都筑区北山田一丁目                             & カナガワケンヨコハマシツヅキクキタヤマタイッチョウメ         & 045-123-4049                                                 & 139.5916                                                     & 35.56189                                                     &  831                                                        \\\\\n",
       "\t S14011                                                       & 日吉本町店                                                   & 14                                                           & 神奈川県                                                     & 神奈川県横浜市港北区日吉本町四丁目                           & カナガワケンヨコハマシコウホククヒヨシホンチョウヨンチョウメ & 045-123-4033                                                 & 139.6316                                                     & 35.54655                                                     &  890                                                        \\\\\n",
       "\t S14048                                                       & 中川中央店                                                   & 14                                                           & 神奈川県                                                     & 神奈川県横浜市都筑区中川中央二丁目                           & カナガワケンヨコハマシツヅキクナカガワチュウオウニチョウメ   & 045-123-4051                                                 & 139.5758                                                     & 35.54912                                                     & 1657                                                        \\\\\n",
       "\t S14042                                                       & 新山下店                                                     & 14                                                           & 神奈川県                                                     & 神奈川県横浜市中区新山下二丁目                               & カナガワケンヨコハマシナカクシンヤマシタニチョウメ           & 045-123-4047                                                 & 139.6593                                                     & 35.43894                                                     & 1044                                                        \\\\\n",
       "\t S14006                                                       & 葛が谷店                                                     & 14                                                           & 神奈川県                                                     & 神奈川県横浜市都筑区葛が谷                                   & カナガワケンヨコハマシツヅキククズガヤ                       & 045-123-4031                                                 & 139.5633                                                     & 35.53573                                                     & 1886                                                        \\\\\n",
       "\\end{tabular}\n"
      ],
      "text/markdown": [
       "\n",
       "| store_cd | store_name | prefecture_cd | prefecture | address | address_kana | tel_no | longitude | latitude | floor_area |\n",
       "|---|---|---|---|---|---|---|---|---|---|\n",
       "| S14010                                                       | 菊名店                                                       | 14                                                           | 神奈川県                                                     | 神奈川県横浜市港北区菊名一丁目                               | カナガワケンヨコハマシコウホククキクナイッチョウメ           | 045-123-4032                                                 | 139.6326                                                     | 35.50049                                                     | 1732                                                         |\n",
       "| S14033                                                       | 阿久和店                                                     | 14                                                           | 神奈川県                                                     | 神奈川県横浜市瀬谷区阿久和西一丁目                           | カナガワケンヨコハマシセヤクアクワニシイッチョウメ           | 045-123-4043                                                 | 139.4961                                                     | 35.45918                                                     | 1495                                                         |\n",
       "| S14040                                                       | 長津田店                                                     | 14                                                           | 神奈川県                                                     | 神奈川県横浜市緑区長津田みなみ台五丁目                       | カナガワケンヨコハマシミドリクナガツタミナミダイゴチョウメ   | 045-123-4046                                                 | 139.4994                                                     | 35.52398                                                     | 1548                                                         |\n",
       "| S14050                                                       | 阿久和西店                                                   | 14                                                           | 神奈川県                                                     | 神奈川県横浜市瀬谷区阿久和西一丁目                           | カナガワケンヨコハマシセヤクアクワニシイッチョウメ           | 045-123-4053                                                 | 139.4961                                                     | 35.45918                                                     | 1830                                                         |\n",
       "| S14028                                                       | 二ツ橋店                                                     | 14                                                           | 神奈川県                                                     | 神奈川県横浜市瀬谷区二ツ橋町                                 | カナガワケンヨコハマシセヤクフタツバシチョウ                 | 045-123-4042                                                 | 139.4963                                                     | 35.46304                                                     | 1574                                                         |\n",
       "| S14012                                                       | 本牧和田店                                                   | 14                                                           | 神奈川県                                                     | 神奈川県横浜市中区本牧和田                                   | カナガワケンヨコハマシナカクホンモクワダ                     | 045-123-4034                                                 | 139.6582                                                     | 35.42156                                                     | 1341                                                         |\n",
       "| S14046                                                       | 北山田店                                                     | 14                                                           | 神奈川県                                                     | 神奈川県横浜市都筑区北山田一丁目                             | カナガワケンヨコハマシツヅキクキタヤマタイッチョウメ         | 045-123-4049                                                 | 139.5916                                                     | 35.56189                                                     |  831                                                         |\n",
       "| S14011                                                       | 日吉本町店                                                   | 14                                                           | 神奈川県                                                     | 神奈川県横浜市港北区日吉本町四丁目                           | カナガワケンヨコハマシコウホククヒヨシホンチョウヨンチョウメ | 045-123-4033                                                 | 139.6316                                                     | 35.54655                                                     |  890                                                         |\n",
       "| S14048                                                       | 中川中央店                                                   | 14                                                           | 神奈川県                                                     | 神奈川県横浜市都筑区中川中央二丁目                           | カナガワケンヨコハマシツヅキクナカガワチュウオウニチョウメ   | 045-123-4051                                                 | 139.5758                                                     | 35.54912                                                     | 1657                                                         |\n",
       "| S14042                                                       | 新山下店                                                     | 14                                                           | 神奈川県                                                     | 神奈川県横浜市中区新山下二丁目                               | カナガワケンヨコハマシナカクシンヤマシタニチョウメ           | 045-123-4047                                                 | 139.6593                                                     | 35.43894                                                     | 1044                                                         |\n",
       "| S14006                                                       | 葛が谷店                                                     | 14                                                           | 神奈川県                                                     | 神奈川県横浜市都筑区葛が谷                                   | カナガワケンヨコハマシツヅキククズガヤ                       | 045-123-4031                                                 | 139.5633                                                     | 35.53573                                                     | 1886                                                         |\n",
       "\n"
      ],
      "text/plain": [
       "   store_cd store_name prefecture_cd prefecture\n",
       "1  S14010   菊名店     14            神奈川県  \n",
       "2  S14033   阿久和店   14            神奈川県  \n",
       "3  S14040   長津田店   14            神奈川県  \n",
       "4  S14050   阿久和西店 14            神奈川県  \n",
       "5  S14028   二ツ橋店   14            神奈川県  \n",
       "6  S14012   本牧和田店 14            神奈川県  \n",
       "7  S14046   北山田店   14            神奈川県  \n",
       "8  S14011   日吉本町店 14            神奈川県  \n",
       "9  S14048   中川中央店 14            神奈川県  \n",
       "10 S14042   新山下店   14            神奈川県  \n",
       "11 S14006   葛が谷店   14            神奈川県  \n",
       "   address                               \n",
       "1  神奈川県横浜市港北区菊名一丁目        \n",
       "2  神奈川県横浜市瀬谷区阿久和西一丁目    \n",
       "3  神奈川県横浜市緑区長津田みなみ台五丁目\n",
       "4  神奈川県横浜市瀬谷区阿久和西一丁目    \n",
       "5  神奈川県横浜市瀬谷区二ツ橋町          \n",
       "6  神奈川県横浜市中区本牧和田            \n",
       "7  神奈川県横浜市都筑区北山田一丁目      \n",
       "8  神奈川県横浜市港北区日吉本町四丁目    \n",
       "9  神奈川県横浜市都筑区中川中央二丁目    \n",
       "10 神奈川県横浜市中区新山下二丁目        \n",
       "11 神奈川県横浜市都筑区葛が谷            \n",
       "   address_kana                                                 tel_no      \n",
       "1  カナガワケンヨコハマシコウホククキクナイッチョウメ           045-123-4032\n",
       "2  カナガワケンヨコハマシセヤクアクワニシイッチョウメ           045-123-4043\n",
       "3  カナガワケンヨコハマシミドリクナガツタミナミダイゴチョウメ   045-123-4046\n",
       "4  カナガワケンヨコハマシセヤクアクワニシイッチョウメ           045-123-4053\n",
       "5  カナガワケンヨコハマシセヤクフタツバシチョウ                 045-123-4042\n",
       "6  カナガワケンヨコハマシナカクホンモクワダ                     045-123-4034\n",
       "7  カナガワケンヨコハマシツヅキクキタヤマタイッチョウメ         045-123-4049\n",
       "8  カナガワケンヨコハマシコウホククヒヨシホンチョウヨンチョウメ 045-123-4033\n",
       "9  カナガワケンヨコハマシツヅキクナカガワチュウオウニチョウメ   045-123-4051\n",
       "10 カナガワケンヨコハマシナカクシンヤマシタニチョウメ           045-123-4047\n",
       "11 カナガワケンヨコハマシツヅキククズガヤ                       045-123-4031\n",
       "   longitude latitude floor_area\n",
       "1  139.6326  35.50049 1732      \n",
       "2  139.4961  35.45918 1495      \n",
       "3  139.4994  35.52398 1548      \n",
       "4  139.4961  35.45918 1830      \n",
       "5  139.4963  35.46304 1574      \n",
       "6  139.6582  35.42156 1341      \n",
       "7  139.5916  35.56189  831      \n",
       "8  139.6316  35.54655  890      \n",
       "9  139.5758  35.54912 1657      \n",
       "10 139.6593  35.43894 1044      \n",
       "11 139.5633  35.53573 1886      "
      ]
     },
     "metadata": {},
     "output_type": "display_data"
    }
   ],
   "source": [
    "df_store %>% filter(grepl(\"横浜市\", address))"
   ]
  },
  {
   "cell_type": "markdown",
   "metadata": {},
   "source": [
    "---\n",
    "> R-013: 顧客データフレーム（df_customer）から、ステータスコード（status_cd）の先頭がアルファベットのA〜Fで始まるデータを全項目抽出し、10件だけ表示せよ。"
   ]
  },
  {
   "cell_type": "code",
   "execution_count": 20,
   "metadata": {},
   "outputs": [
    {
     "data": {
      "text/html": [
       "<table>\n",
       "<thead><tr><th scope=col>customer_id</th><th scope=col>customer_name</th><th scope=col>gender_cd</th><th scope=col>gender</th><th scope=col>birth_day</th><th scope=col>age</th><th scope=col>postal_cd</th><th scope=col>address</th><th scope=col>application_store_cd</th><th scope=col>application_date</th><th scope=col>status_cd</th></tr></thead>\n",
       "<tbody>\n",
       "\t<tr><td>CS011215000048                        </td><td>芦田 沙耶                             </td><td>1                                     </td><td>女性                                  </td><td>1992-02-01                            </td><td>27                                    </td><td>223-0062                              </td><td>神奈川県横浜市港北区日吉本町**********</td><td>S14011                                </td><td>20150228                              </td><td>C-20100421-9                          </td></tr>\n",
       "\t<tr><td>CS033605000005                        </td><td>猪股 雄太                             </td><td>0                                     </td><td>男性                                  </td><td>1955-12-05                            </td><td>63                                    </td><td>246-0031                              </td><td>神奈川県横浜市瀬谷区瀬谷**********    </td><td>S14033                                </td><td>20150425                              </td><td>F-20100917-E                          </td></tr>\n",
       "\t<tr><td>CS027515000123                        </td><td>田村 咲                               </td><td>1                                     </td><td>女性                                  </td><td>1965-06-01                            </td><td>53                                    </td><td>251-0015                              </td><td>神奈川県藤沢市川名**********          </td><td>S14027                                </td><td>20150210                              </td><td>E-20100901-E                          </td></tr>\n",
       "\t<tr><td>CS028415000057                        </td><td>山内 瞬                               </td><td>1                                     </td><td>女性                                  </td><td>1975-08-26                            </td><td>43                                    </td><td>246-0035                              </td><td>神奈川県横浜市瀬谷区下瀬谷**********  </td><td>S14028                                </td><td>20150518                              </td><td>F-20100908-F                          </td></tr>\n",
       "\t<tr><td>CS022414000100                        </td><td>戸田 そら                             </td><td>1                                     </td><td>女性                                  </td><td>1973-10-19                            </td><td>45                                    </td><td>249-0006                              </td><td>神奈川県逗子市逗子**********          </td><td>S14022                                </td><td>20150926                              </td><td>A-20090814-C                          </td></tr>\n",
       "\t<tr><td>CS004415000388                        </td><td>浅野 ちえみ                           </td><td>1                                     </td><td>女性                                  </td><td>1973-09-15                            </td><td>45                                    </td><td>165-0027                              </td><td>東京都中野区野方**********            </td><td>S13004                                </td><td>20161008                              </td><td>C-20101008-C                          </td></tr>\n",
       "\t<tr><td>CS019415000117                        </td><td>宮脇 芽以                             </td><td>1                                     </td><td>女性                                  </td><td>1974-07-10                            </td><td>44                                    </td><td>173-0036                              </td><td>東京都板橋区向原**********            </td><td>S13019                                </td><td>20141114                              </td><td>C-20100720-D                          </td></tr>\n",
       "\t<tr><td>CS013615000053                        </td><td>西脇 季衣                             </td><td>1                                     </td><td>女性                                  </td><td>1953-10-18                            </td><td>65                                    </td><td>261-0026                              </td><td>千葉県千葉市美浜区幕張西**********    </td><td>S12013                                </td><td>20150128                              </td><td>B-20100329-6                          </td></tr>\n",
       "\t<tr><td>CS024415000108                        </td><td>広末 コウ                             </td><td>1                                     </td><td>女性                                  </td><td>1969-04-25                            </td><td>49                                    </td><td>214-0036                              </td><td>神奈川県川崎市多摩区南生田**********  </td><td>S14024                                </td><td>20150311                              </td><td>D-20100608-D                          </td></tr>\n",
       "\t<tr><td>CS026515000132                        </td><td>江崎 くるみ                           </td><td>1                                     </td><td>女性                                  </td><td>1964-10-14                            </td><td>54                                    </td><td>251-0045                              </td><td>神奈川県藤沢市辻堂東海岸**********    </td><td>S14026                                </td><td>20150527                              </td><td>D-20100306-D                          </td></tr>\n",
       "</tbody>\n",
       "</table>\n"
      ],
      "text/latex": [
       "\\begin{tabular}{r|lllllllllll}\n",
       " customer\\_id & customer\\_name & gender\\_cd & gender & birth\\_day & age & postal\\_cd & address & application\\_store\\_cd & application\\_date & status\\_cd\\\\\n",
       "\\hline\n",
       "\t CS011215000048                         & 芦田 沙耶                              & 1                                      & 女性                                   & 1992-02-01                             & 27                                     & 223-0062                               & 神奈川県横浜市港北区日吉本町********** & S14011                                 & 20150228                               & C-20100421-9                          \\\\\n",
       "\t CS033605000005                         & 猪股 雄太                              & 0                                      & 男性                                   & 1955-12-05                             & 63                                     & 246-0031                               & 神奈川県横浜市瀬谷区瀬谷**********     & S14033                                 & 20150425                               & F-20100917-E                          \\\\\n",
       "\t CS027515000123                         & 田村 咲                                & 1                                      & 女性                                   & 1965-06-01                             & 53                                     & 251-0015                               & 神奈川県藤沢市川名**********           & S14027                                 & 20150210                               & E-20100901-E                          \\\\\n",
       "\t CS028415000057                         & 山内 瞬                                & 1                                      & 女性                                   & 1975-08-26                             & 43                                     & 246-0035                               & 神奈川県横浜市瀬谷区下瀬谷**********   & S14028                                 & 20150518                               & F-20100908-F                          \\\\\n",
       "\t CS022414000100                         & 戸田 そら                              & 1                                      & 女性                                   & 1973-10-19                             & 45                                     & 249-0006                               & 神奈川県逗子市逗子**********           & S14022                                 & 20150926                               & A-20090814-C                          \\\\\n",
       "\t CS004415000388                         & 浅野 ちえみ                            & 1                                      & 女性                                   & 1973-09-15                             & 45                                     & 165-0027                               & 東京都中野区野方**********             & S13004                                 & 20161008                               & C-20101008-C                          \\\\\n",
       "\t CS019415000117                         & 宮脇 芽以                              & 1                                      & 女性                                   & 1974-07-10                             & 44                                     & 173-0036                               & 東京都板橋区向原**********             & S13019                                 & 20141114                               & C-20100720-D                          \\\\\n",
       "\t CS013615000053                         & 西脇 季衣                              & 1                                      & 女性                                   & 1953-10-18                             & 65                                     & 261-0026                               & 千葉県千葉市美浜区幕張西**********     & S12013                                 & 20150128                               & B-20100329-6                          \\\\\n",
       "\t CS024415000108                         & 広末 コウ                              & 1                                      & 女性                                   & 1969-04-25                             & 49                                     & 214-0036                               & 神奈川県川崎市多摩区南生田**********   & S14024                                 & 20150311                               & D-20100608-D                          \\\\\n",
       "\t CS026515000132                         & 江崎 くるみ                            & 1                                      & 女性                                   & 1964-10-14                             & 54                                     & 251-0045                               & 神奈川県藤沢市辻堂東海岸**********     & S14026                                 & 20150527                               & D-20100306-D                          \\\\\n",
       "\\end{tabular}\n"
      ],
      "text/markdown": [
       "\n",
       "| customer_id | customer_name | gender_cd | gender | birth_day | age | postal_cd | address | application_store_cd | application_date | status_cd |\n",
       "|---|---|---|---|---|---|---|---|---|---|---|\n",
       "| CS011215000048                         | 芦田 沙耶                              | 1                                      | 女性                                   | 1992-02-01                             | 27                                     | 223-0062                               | 神奈川県横浜市港北区日吉本町********** | S14011                                 | 20150228                               | C-20100421-9                           |\n",
       "| CS033605000005                         | 猪股 雄太                              | 0                                      | 男性                                   | 1955-12-05                             | 63                                     | 246-0031                               | 神奈川県横浜市瀬谷区瀬谷**********     | S14033                                 | 20150425                               | F-20100917-E                           |\n",
       "| CS027515000123                         | 田村 咲                                | 1                                      | 女性                                   | 1965-06-01                             | 53                                     | 251-0015                               | 神奈川県藤沢市川名**********           | S14027                                 | 20150210                               | E-20100901-E                           |\n",
       "| CS028415000057                         | 山内 瞬                                | 1                                      | 女性                                   | 1975-08-26                             | 43                                     | 246-0035                               | 神奈川県横浜市瀬谷区下瀬谷**********   | S14028                                 | 20150518                               | F-20100908-F                           |\n",
       "| CS022414000100                         | 戸田 そら                              | 1                                      | 女性                                   | 1973-10-19                             | 45                                     | 249-0006                               | 神奈川県逗子市逗子**********           | S14022                                 | 20150926                               | A-20090814-C                           |\n",
       "| CS004415000388                         | 浅野 ちえみ                            | 1                                      | 女性                                   | 1973-09-15                             | 45                                     | 165-0027                               | 東京都中野区野方**********             | S13004                                 | 20161008                               | C-20101008-C                           |\n",
       "| CS019415000117                         | 宮脇 芽以                              | 1                                      | 女性                                   | 1974-07-10                             | 44                                     | 173-0036                               | 東京都板橋区向原**********             | S13019                                 | 20141114                               | C-20100720-D                           |\n",
       "| CS013615000053                         | 西脇 季衣                              | 1                                      | 女性                                   | 1953-10-18                             | 65                                     | 261-0026                               | 千葉県千葉市美浜区幕張西**********     | S12013                                 | 20150128                               | B-20100329-6                           |\n",
       "| CS024415000108                         | 広末 コウ                              | 1                                      | 女性                                   | 1969-04-25                             | 49                                     | 214-0036                               | 神奈川県川崎市多摩区南生田**********   | S14024                                 | 20150311                               | D-20100608-D                           |\n",
       "| CS026515000132                         | 江崎 くるみ                            | 1                                      | 女性                                   | 1964-10-14                             | 54                                     | 251-0045                               | 神奈川県藤沢市辻堂東海岸**********     | S14026                                 | 20150527                               | D-20100306-D                           |\n",
       "\n"
      ],
      "text/plain": [
       "   customer_id    customer_name gender_cd gender birth_day  age postal_cd\n",
       "1  CS011215000048 芦田 沙耶     1         女性   1992-02-01 27  223-0062 \n",
       "2  CS033605000005 猪股 雄太     0         男性   1955-12-05 63  246-0031 \n",
       "3  CS027515000123 田村 咲       1         女性   1965-06-01 53  251-0015 \n",
       "4  CS028415000057 山内 瞬       1         女性   1975-08-26 43  246-0035 \n",
       "5  CS022414000100 戸田 そら     1         女性   1973-10-19 45  249-0006 \n",
       "6  CS004415000388 浅野 ちえみ   1         女性   1973-09-15 45  165-0027 \n",
       "7  CS019415000117 宮脇 芽以     1         女性   1974-07-10 44  173-0036 \n",
       "8  CS013615000053 西脇 季衣     1         女性   1953-10-18 65  261-0026 \n",
       "9  CS024415000108 広末 コウ     1         女性   1969-04-25 49  214-0036 \n",
       "10 CS026515000132 江崎 くるみ   1         女性   1964-10-14 54  251-0045 \n",
       "   address                                application_store_cd application_date\n",
       "1  神奈川県横浜市港北区日吉本町********** S14011               20150228        \n",
       "2  神奈川県横浜市瀬谷区瀬谷**********     S14033               20150425        \n",
       "3  神奈川県藤沢市川名**********           S14027               20150210        \n",
       "4  神奈川県横浜市瀬谷区下瀬谷**********   S14028               20150518        \n",
       "5  神奈川県逗子市逗子**********           S14022               20150926        \n",
       "6  東京都中野区野方**********             S13004               20161008        \n",
       "7  東京都板橋区向原**********             S13019               20141114        \n",
       "8  千葉県千葉市美浜区幕張西**********     S12013               20150128        \n",
       "9  神奈川県川崎市多摩区南生田**********   S14024               20150311        \n",
       "10 神奈川県藤沢市辻堂東海岸**********     S14026               20150527        \n",
       "   status_cd   \n",
       "1  C-20100421-9\n",
       "2  F-20100917-E\n",
       "3  E-20100901-E\n",
       "4  F-20100908-F\n",
       "5  A-20090814-C\n",
       "6  C-20101008-C\n",
       "7  C-20100720-D\n",
       "8  B-20100329-6\n",
       "9  D-20100608-D\n",
       "10 D-20100306-D"
      ]
     },
     "metadata": {},
     "output_type": "display_data"
    }
   ],
   "source": [
    "head(df_customer %>% filter(grepl(\"^[A-F]\", status_cd)), n=10)"
   ]
  },
  {
   "cell_type": "markdown",
   "metadata": {},
   "source": [
    "---\n",
    "> R-014: 顧客データフレーム（df_customer）から、ステータスコード（status_cd）の末尾が数字の1〜9で終わるデータを全項目抽出し、10件だけ表示せよ。"
   ]
  },
  {
   "cell_type": "code",
   "execution_count": 21,
   "metadata": {},
   "outputs": [
    {
     "data": {
      "text/html": [
       "<table>\n",
       "<thead><tr><th scope=col>customer_id</th><th scope=col>customer_name</th><th scope=col>gender_cd</th><th scope=col>gender</th><th scope=col>birth_day</th><th scope=col>age</th><th scope=col>postal_cd</th><th scope=col>address</th><th scope=col>application_store_cd</th><th scope=col>application_date</th><th scope=col>status_cd</th></tr></thead>\n",
       "<tbody>\n",
       "\t<tr><td>CS001215000145                        </td><td>田崎 美紀                             </td><td>1                                     </td><td>女性                                  </td><td>1995-03-29                            </td><td>24                                    </td><td>144-0055                              </td><td>東京都大田区仲六郷**********          </td><td>S13001                                </td><td>20170605                              </td><td>6-20090929-2                          </td></tr>\n",
       "\t<tr><td>CS033513000180                        </td><td>安斎 遥                               </td><td>1                                     </td><td>女性                                  </td><td>1962-07-11                            </td><td>56                                    </td><td>241-0823                              </td><td>神奈川県横浜市旭区善部町**********    </td><td>S14033                                </td><td>20150728                              </td><td>6-20080506-5                          </td></tr>\n",
       "\t<tr><td>CS011215000048                        </td><td>芦田 沙耶                             </td><td>1                                     </td><td>女性                                  </td><td>1992-02-01                            </td><td>27                                    </td><td>223-0062                              </td><td>神奈川県横浜市港北区日吉本町**********</td><td>S14011                                </td><td>20150228                              </td><td>C-20100421-9                          </td></tr>\n",
       "\t<tr><td>CS040412000191                        </td><td>川井 郁恵                             </td><td>1                                     </td><td>女性                                  </td><td>1977-01-05                            </td><td>42                                    </td><td>226-0021                              </td><td>神奈川県横浜市緑区北八朔町**********  </td><td>S14040                                </td><td>20151101                              </td><td>1-20091025-4                          </td></tr>\n",
       "\t<tr><td>CS023513000066                        </td><td>神戸 そら                             </td><td>1                                     </td><td>女性                                  </td><td>1961-12-17                            </td><td>57                                    </td><td>210-0005                              </td><td>神奈川県川崎市川崎区東田町**********  </td><td>S14023                                </td><td>20150915                              </td><td>5-20100524-9                          </td></tr>\n",
       "\t<tr><td>CS001515000263                        </td><td>高松 夏空                             </td><td>1                                     </td><td>女性                                  </td><td>1962-11-09                            </td><td>56                                    </td><td>144-0051                              </td><td>東京都大田区西蒲田**********          </td><td>S13001                                </td><td>20160812                              </td><td>1-20100804-1                          </td></tr>\n",
       "\t<tr><td>CS006415000279                        </td><td>末永 綾                               </td><td>1                                     </td><td>女性                                  </td><td>1969-10-03                            </td><td>49                                    </td><td>224-0037                              </td><td>神奈川県横浜市都筑区茅ケ崎南**********</td><td>S14006                                </td><td>20150713                              </td><td>1-20100519-2                          </td></tr>\n",
       "\t<tr><td>CS001212000098                        </td><td>菊地 りえ                             </td><td>9                                     </td><td>不明                                  </td><td>1995-01-19                            </td><td>24                                    </td><td>210-0842                              </td><td>神奈川県川崎市川崎区渡田東町**********</td><td>S13001                                </td><td>20170604                              </td><td>3-20090405-2                          </td></tr>\n",
       "\t<tr><td>CS008615000055                        </td><td>二宮 コウ                             </td><td>1                                     </td><td>女性                                  </td><td>1953-06-15                            </td><td>65                                    </td><td>157-0074                              </td><td>東京都世田谷区大蔵**********          </td><td>S13008                                </td><td>20150623                              </td><td>5-20100531-8                          </td></tr>\n",
       "\t<tr><td>CS030615000018                        </td><td>島崎 美菜                             </td><td>1                                     </td><td>女性                                  </td><td>1957-10-16                            </td><td>61                                    </td><td>272-0024                              </td><td>千葉県市川市稲荷木**********          </td><td>S12030                                </td><td>20150925                              </td><td>2-20100705-4                          </td></tr>\n",
       "</tbody>\n",
       "</table>\n"
      ],
      "text/latex": [
       "\\begin{tabular}{r|lllllllllll}\n",
       " customer\\_id & customer\\_name & gender\\_cd & gender & birth\\_day & age & postal\\_cd & address & application\\_store\\_cd & application\\_date & status\\_cd\\\\\n",
       "\\hline\n",
       "\t CS001215000145                         & 田崎 美紀                              & 1                                      & 女性                                   & 1995-03-29                             & 24                                     & 144-0055                               & 東京都大田区仲六郷**********           & S13001                                 & 20170605                               & 6-20090929-2                          \\\\\n",
       "\t CS033513000180                         & 安斎 遥                                & 1                                      & 女性                                   & 1962-07-11                             & 56                                     & 241-0823                               & 神奈川県横浜市旭区善部町**********     & S14033                                 & 20150728                               & 6-20080506-5                          \\\\\n",
       "\t CS011215000048                         & 芦田 沙耶                              & 1                                      & 女性                                   & 1992-02-01                             & 27                                     & 223-0062                               & 神奈川県横浜市港北区日吉本町********** & S14011                                 & 20150228                               & C-20100421-9                          \\\\\n",
       "\t CS040412000191                         & 川井 郁恵                              & 1                                      & 女性                                   & 1977-01-05                             & 42                                     & 226-0021                               & 神奈川県横浜市緑区北八朔町**********   & S14040                                 & 20151101                               & 1-20091025-4                          \\\\\n",
       "\t CS023513000066                         & 神戸 そら                              & 1                                      & 女性                                   & 1961-12-17                             & 57                                     & 210-0005                               & 神奈川県川崎市川崎区東田町**********   & S14023                                 & 20150915                               & 5-20100524-9                          \\\\\n",
       "\t CS001515000263                         & 高松 夏空                              & 1                                      & 女性                                   & 1962-11-09                             & 56                                     & 144-0051                               & 東京都大田区西蒲田**********           & S13001                                 & 20160812                               & 1-20100804-1                          \\\\\n",
       "\t CS006415000279                         & 末永 綾                                & 1                                      & 女性                                   & 1969-10-03                             & 49                                     & 224-0037                               & 神奈川県横浜市都筑区茅ケ崎南********** & S14006                                 & 20150713                               & 1-20100519-2                          \\\\\n",
       "\t CS001212000098                         & 菊地 りえ                              & 9                                      & 不明                                   & 1995-01-19                             & 24                                     & 210-0842                               & 神奈川県川崎市川崎区渡田東町********** & S13001                                 & 20170604                               & 3-20090405-2                          \\\\\n",
       "\t CS008615000055                         & 二宮 コウ                              & 1                                      & 女性                                   & 1953-06-15                             & 65                                     & 157-0074                               & 東京都世田谷区大蔵**********           & S13008                                 & 20150623                               & 5-20100531-8                          \\\\\n",
       "\t CS030615000018                         & 島崎 美菜                              & 1                                      & 女性                                   & 1957-10-16                             & 61                                     & 272-0024                               & 千葉県市川市稲荷木**********           & S12030                                 & 20150925                               & 2-20100705-4                          \\\\\n",
       "\\end{tabular}\n"
      ],
      "text/markdown": [
       "\n",
       "| customer_id | customer_name | gender_cd | gender | birth_day | age | postal_cd | address | application_store_cd | application_date | status_cd |\n",
       "|---|---|---|---|---|---|---|---|---|---|---|\n",
       "| CS001215000145                         | 田崎 美紀                              | 1                                      | 女性                                   | 1995-03-29                             | 24                                     | 144-0055                               | 東京都大田区仲六郷**********           | S13001                                 | 20170605                               | 6-20090929-2                           |\n",
       "| CS033513000180                         | 安斎 遥                                | 1                                      | 女性                                   | 1962-07-11                             | 56                                     | 241-0823                               | 神奈川県横浜市旭区善部町**********     | S14033                                 | 20150728                               | 6-20080506-5                           |\n",
       "| CS011215000048                         | 芦田 沙耶                              | 1                                      | 女性                                   | 1992-02-01                             | 27                                     | 223-0062                               | 神奈川県横浜市港北区日吉本町********** | S14011                                 | 20150228                               | C-20100421-9                           |\n",
       "| CS040412000191                         | 川井 郁恵                              | 1                                      | 女性                                   | 1977-01-05                             | 42                                     | 226-0021                               | 神奈川県横浜市緑区北八朔町**********   | S14040                                 | 20151101                               | 1-20091025-4                           |\n",
       "| CS023513000066                         | 神戸 そら                              | 1                                      | 女性                                   | 1961-12-17                             | 57                                     | 210-0005                               | 神奈川県川崎市川崎区東田町**********   | S14023                                 | 20150915                               | 5-20100524-9                           |\n",
       "| CS001515000263                         | 高松 夏空                              | 1                                      | 女性                                   | 1962-11-09                             | 56                                     | 144-0051                               | 東京都大田区西蒲田**********           | S13001                                 | 20160812                               | 1-20100804-1                           |\n",
       "| CS006415000279                         | 末永 綾                                | 1                                      | 女性                                   | 1969-10-03                             | 49                                     | 224-0037                               | 神奈川県横浜市都筑区茅ケ崎南********** | S14006                                 | 20150713                               | 1-20100519-2                           |\n",
       "| CS001212000098                         | 菊地 りえ                              | 9                                      | 不明                                   | 1995-01-19                             | 24                                     | 210-0842                               | 神奈川県川崎市川崎区渡田東町********** | S13001                                 | 20170604                               | 3-20090405-2                           |\n",
       "| CS008615000055                         | 二宮 コウ                              | 1                                      | 女性                                   | 1953-06-15                             | 65                                     | 157-0074                               | 東京都世田谷区大蔵**********           | S13008                                 | 20150623                               | 5-20100531-8                           |\n",
       "| CS030615000018                         | 島崎 美菜                              | 1                                      | 女性                                   | 1957-10-16                             | 61                                     | 272-0024                               | 千葉県市川市稲荷木**********           | S12030                                 | 20150925                               | 2-20100705-4                           |\n",
       "\n"
      ],
      "text/plain": [
       "   customer_id    customer_name gender_cd gender birth_day  age postal_cd\n",
       "1  CS001215000145 田崎 美紀     1         女性   1995-03-29 24  144-0055 \n",
       "2  CS033513000180 安斎 遥       1         女性   1962-07-11 56  241-0823 \n",
       "3  CS011215000048 芦田 沙耶     1         女性   1992-02-01 27  223-0062 \n",
       "4  CS040412000191 川井 郁恵     1         女性   1977-01-05 42  226-0021 \n",
       "5  CS023513000066 神戸 そら     1         女性   1961-12-17 57  210-0005 \n",
       "6  CS001515000263 高松 夏空     1         女性   1962-11-09 56  144-0051 \n",
       "7  CS006415000279 末永 綾       1         女性   1969-10-03 49  224-0037 \n",
       "8  CS001212000098 菊地 りえ     9         不明   1995-01-19 24  210-0842 \n",
       "9  CS008615000055 二宮 コウ     1         女性   1953-06-15 65  157-0074 \n",
       "10 CS030615000018 島崎 美菜     1         女性   1957-10-16 61  272-0024 \n",
       "   address                                application_store_cd application_date\n",
       "1  東京都大田区仲六郷**********           S13001               20170605        \n",
       "2  神奈川県横浜市旭区善部町**********     S14033               20150728        \n",
       "3  神奈川県横浜市港北区日吉本町********** S14011               20150228        \n",
       "4  神奈川県横浜市緑区北八朔町**********   S14040               20151101        \n",
       "5  神奈川県川崎市川崎区東田町**********   S14023               20150915        \n",
       "6  東京都大田区西蒲田**********           S13001               20160812        \n",
       "7  神奈川県横浜市都筑区茅ケ崎南********** S14006               20150713        \n",
       "8  神奈川県川崎市川崎区渡田東町********** S13001               20170604        \n",
       "9  東京都世田谷区大蔵**********           S13008               20150623        \n",
       "10 千葉県市川市稲荷木**********           S12030               20150925        \n",
       "   status_cd   \n",
       "1  6-20090929-2\n",
       "2  6-20080506-5\n",
       "3  C-20100421-9\n",
       "4  1-20091025-4\n",
       "5  5-20100524-9\n",
       "6  1-20100804-1\n",
       "7  1-20100519-2\n",
       "8  3-20090405-2\n",
       "9  5-20100531-8\n",
       "10 2-20100705-4"
      ]
     },
     "metadata": {},
     "output_type": "display_data"
    }
   ],
   "source": [
    "head(df_customer %>% filter(grepl(\"[1-9]$\", status_cd)), n=10)"
   ]
  },
  {
   "cell_type": "markdown",
   "metadata": {},
   "source": [
    "---\n",
    "> R-015: 顧客データフレーム（df_customer）から、ステータスコード（status_cd）の先頭がアルファベットのA〜Fで始まり、末尾が数字の1〜9で終わるデータを全項目抽出し、10件だけ表示せよ。"
   ]
  },
  {
   "cell_type": "code",
   "execution_count": 22,
   "metadata": {},
   "outputs": [
    {
     "data": {
      "text/html": [
       "<table>\n",
       "<thead><tr><th scope=col>customer_id</th><th scope=col>customer_name</th><th scope=col>gender_cd</th><th scope=col>gender</th><th scope=col>birth_day</th><th scope=col>age</th><th scope=col>postal_cd</th><th scope=col>address</th><th scope=col>application_store_cd</th><th scope=col>application_date</th><th scope=col>status_cd</th></tr></thead>\n",
       "<tbody>\n",
       "\t<tr><td>CS011215000048                        </td><td>芦田 沙耶                             </td><td>1                                     </td><td>女性                                  </td><td>1992-02-01                            </td><td>27                                    </td><td>223-0062                              </td><td>神奈川県横浜市港北区日吉本町**********</td><td>S14011                                </td><td>20150228                              </td><td>C-20100421-9                          </td></tr>\n",
       "\t<tr><td>CS013615000053                        </td><td>西脇 季衣                             </td><td>1                                     </td><td>女性                                  </td><td>1953-10-18                            </td><td>65                                    </td><td>261-0026                              </td><td>千葉県千葉市美浜区幕張西**********    </td><td>S12013                                </td><td>20150128                              </td><td>B-20100329-6                          </td></tr>\n",
       "\t<tr><td>CS020412000161                        </td><td>小宮 薫                               </td><td>1                                     </td><td>女性                                  </td><td>1974-05-21                            </td><td>44                                    </td><td>174-0042                              </td><td>東京都板橋区東坂下**********          </td><td>S13020                                </td><td>20150822                              </td><td>B-20081021-3                          </td></tr>\n",
       "\t<tr><td>CS001215000097                        </td><td>竹中 あさみ                           </td><td>1                                     </td><td>女性                                  </td><td>1990-07-25                            </td><td>28                                    </td><td>146-0095                              </td><td>東京都大田区多摩川**********          </td><td>S13001                                </td><td>20170315                              </td><td>A-20100211-2                          </td></tr>\n",
       "\t<tr><td>CS002515000386                        </td><td>野田 コウ                             </td><td>1                                     </td><td>女性                                  </td><td>1963-05-30                            </td><td>55                                    </td><td>185-0013                              </td><td>東京都国分寺市西恋ケ窪**********      </td><td>S13002                                </td><td>20160410                              </td><td>C-20100127-8                          </td></tr>\n",
       "\t<tr><td>CS001615000372                        </td><td>稲垣 寿々花                           </td><td>1                                     </td><td>女性                                  </td><td>1956-10-29                            </td><td>62                                    </td><td>144-0035                              </td><td>東京都大田区南蒲田**********          </td><td>S13001                                </td><td>20170403                              </td><td>A-20100104-1                          </td></tr>\n",
       "\t<tr><td>CS002614000180                        </td><td>関口 沙知絵                           </td><td>1                                     </td><td>女性                                  </td><td>1948-10-19                            </td><td>70                                    </td><td>187-0021                              </td><td>東京都小平市上水南町**********        </td><td>S13002                                </td><td>20170130                              </td><td>C-20100830-7                          </td></tr>\n",
       "\t<tr><td>CS022513000145                        </td><td>河原 美佳                             </td><td>1                                     </td><td>女性                                  </td><td>1966-02-20                            </td><td>53                                    </td><td>249-0005                              </td><td>神奈川県逗子市桜山**********          </td><td>S14022                                </td><td>20150927                              </td><td>D-20100207-7                          </td></tr>\n",
       "\t<tr><td>CS013615000047                        </td><td>紺野 花                               </td><td>1                                     </td><td>女性                                  </td><td>1949-03-27                            </td><td>70                                    </td><td>275-0021                              </td><td>千葉県習志野市袖ケ浦**********        </td><td>S12013                                </td><td>20150110                              </td><td>B-20090629-6                          </td></tr>\n",
       "\t<tr><td>CS003415000776                        </td><td>望月 薫                               </td><td>1                                     </td><td>女性                                  </td><td>1977-01-28                            </td><td>42                                    </td><td>201-0002                              </td><td>東京都狛江市東野川**********          </td><td>S13003                                </td><td>20171020                              </td><td>D-20100903-7                          </td></tr>\n",
       "</tbody>\n",
       "</table>\n"
      ],
      "text/latex": [
       "\\begin{tabular}{r|lllllllllll}\n",
       " customer\\_id & customer\\_name & gender\\_cd & gender & birth\\_day & age & postal\\_cd & address & application\\_store\\_cd & application\\_date & status\\_cd\\\\\n",
       "\\hline\n",
       "\t CS011215000048                         & 芦田 沙耶                              & 1                                      & 女性                                   & 1992-02-01                             & 27                                     & 223-0062                               & 神奈川県横浜市港北区日吉本町********** & S14011                                 & 20150228                               & C-20100421-9                          \\\\\n",
       "\t CS013615000053                         & 西脇 季衣                              & 1                                      & 女性                                   & 1953-10-18                             & 65                                     & 261-0026                               & 千葉県千葉市美浜区幕張西**********     & S12013                                 & 20150128                               & B-20100329-6                          \\\\\n",
       "\t CS020412000161                         & 小宮 薫                                & 1                                      & 女性                                   & 1974-05-21                             & 44                                     & 174-0042                               & 東京都板橋区東坂下**********           & S13020                                 & 20150822                               & B-20081021-3                          \\\\\n",
       "\t CS001215000097                         & 竹中 あさみ                            & 1                                      & 女性                                   & 1990-07-25                             & 28                                     & 146-0095                               & 東京都大田区多摩川**********           & S13001                                 & 20170315                               & A-20100211-2                          \\\\\n",
       "\t CS002515000386                         & 野田 コウ                              & 1                                      & 女性                                   & 1963-05-30                             & 55                                     & 185-0013                               & 東京都国分寺市西恋ケ窪**********       & S13002                                 & 20160410                               & C-20100127-8                          \\\\\n",
       "\t CS001615000372                         & 稲垣 寿々花                            & 1                                      & 女性                                   & 1956-10-29                             & 62                                     & 144-0035                               & 東京都大田区南蒲田**********           & S13001                                 & 20170403                               & A-20100104-1                          \\\\\n",
       "\t CS002614000180                         & 関口 沙知絵                            & 1                                      & 女性                                   & 1948-10-19                             & 70                                     & 187-0021                               & 東京都小平市上水南町**********         & S13002                                 & 20170130                               & C-20100830-7                          \\\\\n",
       "\t CS022513000145                         & 河原 美佳                              & 1                                      & 女性                                   & 1966-02-20                             & 53                                     & 249-0005                               & 神奈川県逗子市桜山**********           & S14022                                 & 20150927                               & D-20100207-7                          \\\\\n",
       "\t CS013615000047                         & 紺野 花                                & 1                                      & 女性                                   & 1949-03-27                             & 70                                     & 275-0021                               & 千葉県習志野市袖ケ浦**********         & S12013                                 & 20150110                               & B-20090629-6                          \\\\\n",
       "\t CS003415000776                         & 望月 薫                                & 1                                      & 女性                                   & 1977-01-28                             & 42                                     & 201-0002                               & 東京都狛江市東野川**********           & S13003                                 & 20171020                               & D-20100903-7                          \\\\\n",
       "\\end{tabular}\n"
      ],
      "text/markdown": [
       "\n",
       "| customer_id | customer_name | gender_cd | gender | birth_day | age | postal_cd | address | application_store_cd | application_date | status_cd |\n",
       "|---|---|---|---|---|---|---|---|---|---|---|\n",
       "| CS011215000048                         | 芦田 沙耶                              | 1                                      | 女性                                   | 1992-02-01                             | 27                                     | 223-0062                               | 神奈川県横浜市港北区日吉本町********** | S14011                                 | 20150228                               | C-20100421-9                           |\n",
       "| CS013615000053                         | 西脇 季衣                              | 1                                      | 女性                                   | 1953-10-18                             | 65                                     | 261-0026                               | 千葉県千葉市美浜区幕張西**********     | S12013                                 | 20150128                               | B-20100329-6                           |\n",
       "| CS020412000161                         | 小宮 薫                                | 1                                      | 女性                                   | 1974-05-21                             | 44                                     | 174-0042                               | 東京都板橋区東坂下**********           | S13020                                 | 20150822                               | B-20081021-3                           |\n",
       "| CS001215000097                         | 竹中 あさみ                            | 1                                      | 女性                                   | 1990-07-25                             | 28                                     | 146-0095                               | 東京都大田区多摩川**********           | S13001                                 | 20170315                               | A-20100211-2                           |\n",
       "| CS002515000386                         | 野田 コウ                              | 1                                      | 女性                                   | 1963-05-30                             | 55                                     | 185-0013                               | 東京都国分寺市西恋ケ窪**********       | S13002                                 | 20160410                               | C-20100127-8                           |\n",
       "| CS001615000372                         | 稲垣 寿々花                            | 1                                      | 女性                                   | 1956-10-29                             | 62                                     | 144-0035                               | 東京都大田区南蒲田**********           | S13001                                 | 20170403                               | A-20100104-1                           |\n",
       "| CS002614000180                         | 関口 沙知絵                            | 1                                      | 女性                                   | 1948-10-19                             | 70                                     | 187-0021                               | 東京都小平市上水南町**********         | S13002                                 | 20170130                               | C-20100830-7                           |\n",
       "| CS022513000145                         | 河原 美佳                              | 1                                      | 女性                                   | 1966-02-20                             | 53                                     | 249-0005                               | 神奈川県逗子市桜山**********           | S14022                                 | 20150927                               | D-20100207-7                           |\n",
       "| CS013615000047                         | 紺野 花                                | 1                                      | 女性                                   | 1949-03-27                             | 70                                     | 275-0021                               | 千葉県習志野市袖ケ浦**********         | S12013                                 | 20150110                               | B-20090629-6                           |\n",
       "| CS003415000776                         | 望月 薫                                | 1                                      | 女性                                   | 1977-01-28                             | 42                                     | 201-0002                               | 東京都狛江市東野川**********           | S13003                                 | 20171020                               | D-20100903-7                           |\n",
       "\n"
      ],
      "text/plain": [
       "   customer_id    customer_name gender_cd gender birth_day  age postal_cd\n",
       "1  CS011215000048 芦田 沙耶     1         女性   1992-02-01 27  223-0062 \n",
       "2  CS013615000053 西脇 季衣     1         女性   1953-10-18 65  261-0026 \n",
       "3  CS020412000161 小宮 薫       1         女性   1974-05-21 44  174-0042 \n",
       "4  CS001215000097 竹中 あさみ   1         女性   1990-07-25 28  146-0095 \n",
       "5  CS002515000386 野田 コウ     1         女性   1963-05-30 55  185-0013 \n",
       "6  CS001615000372 稲垣 寿々花   1         女性   1956-10-29 62  144-0035 \n",
       "7  CS002614000180 関口 沙知絵   1         女性   1948-10-19 70  187-0021 \n",
       "8  CS022513000145 河原 美佳     1         女性   1966-02-20 53  249-0005 \n",
       "9  CS013615000047 紺野 花       1         女性   1949-03-27 70  275-0021 \n",
       "10 CS003415000776 望月 薫       1         女性   1977-01-28 42  201-0002 \n",
       "   address                                application_store_cd application_date\n",
       "1  神奈川県横浜市港北区日吉本町********** S14011               20150228        \n",
       "2  千葉県千葉市美浜区幕張西**********     S12013               20150128        \n",
       "3  東京都板橋区東坂下**********           S13020               20150822        \n",
       "4  東京都大田区多摩川**********           S13001               20170315        \n",
       "5  東京都国分寺市西恋ケ窪**********       S13002               20160410        \n",
       "6  東京都大田区南蒲田**********           S13001               20170403        \n",
       "7  東京都小平市上水南町**********         S13002               20170130        \n",
       "8  神奈川県逗子市桜山**********           S14022               20150927        \n",
       "9  千葉県習志野市袖ケ浦**********         S12013               20150110        \n",
       "10 東京都狛江市東野川**********           S13003               20171020        \n",
       "   status_cd   \n",
       "1  C-20100421-9\n",
       "2  B-20100329-6\n",
       "3  B-20081021-3\n",
       "4  A-20100211-2\n",
       "5  C-20100127-8\n",
       "6  A-20100104-1\n",
       "7  C-20100830-7\n",
       "8  D-20100207-7\n",
       "9  B-20090629-6\n",
       "10 D-20100903-7"
      ]
     },
     "metadata": {},
     "output_type": "display_data"
    }
   ],
   "source": [
    "head(df_customer %>% filter(grepl(\"^[A-Z].*[1-9]$\", status_cd)), n=10)"
   ]
  },
  {
   "cell_type": "markdown",
   "metadata": {},
   "source": [
    "---\n",
    "> R-016: 店舗データフレーム（df_store）から、電話番号（tel_no）が3桁-3桁-4桁のデータを全項目表示せよ。"
   ]
  },
  {
   "cell_type": "code",
   "execution_count": 23,
   "metadata": {},
   "outputs": [
    {
     "data": {
      "text/html": [
       "<table>\n",
       "<thead><tr><th scope=col>store_cd</th><th scope=col>store_name</th><th scope=col>prefecture_cd</th><th scope=col>prefecture</th><th scope=col>address</th><th scope=col>address_kana</th><th scope=col>tel_no</th><th scope=col>longitude</th><th scope=col>latitude</th><th scope=col>floor_area</th></tr></thead>\n",
       "<tbody>\n",
       "\t<tr><td>S12014                                                      </td><td>千草台店                                                    </td><td>12                                                          </td><td>千葉県                                                      </td><td>千葉県千葉市稲毛区千草台一丁目                              </td><td>チバケンチバシイナゲクチグサダイイッチョウメ                </td><td>043-123-4003                                                </td><td>140.1180                                                    </td><td>35.63559                                                    </td><td>1698                                                        </td></tr>\n",
       "\t<tr><td>S13002                                                      </td><td>国分寺店                                                    </td><td>13                                                          </td><td>東京都                                                      </td><td>東京都国分寺市本多二丁目                                    </td><td>トウキョウトコクブンジシホンダニチョウメ                    </td><td>042-123-4008                                                </td><td>139.4802                                                    </td><td>35.70566                                                    </td><td>1735                                                        </td></tr>\n",
       "\t<tr><td>S14010                                                      </td><td>菊名店                                                      </td><td>14                                                          </td><td>神奈川県                                                    </td><td>神奈川県横浜市港北区菊名一丁目                              </td><td>カナガワケンヨコハマシコウホククキクナイッチョウメ          </td><td>045-123-4032                                                </td><td>139.6326                                                    </td><td>35.50049                                                    </td><td>1732                                                        </td></tr>\n",
       "\t<tr><td>S14033                                                      </td><td>阿久和店                                                    </td><td>14                                                          </td><td>神奈川県                                                    </td><td>神奈川県横浜市瀬谷区阿久和西一丁目                          </td><td>カナガワケンヨコハマシセヤクアクワニシイッチョウメ          </td><td>045-123-4043                                                </td><td>139.4961                                                    </td><td>35.45918                                                    </td><td>1495                                                        </td></tr>\n",
       "\t<tr><td>S14036                                                      </td><td>相模原中央店                                                </td><td>14                                                          </td><td>神奈川県                                                    </td><td>神奈川県相模原市中央二丁目                                  </td><td>カナガワケンサガミハラシチュウオウニチョウメ                </td><td>042-123-4045                                                </td><td>139.3716                                                    </td><td>35.57327                                                    </td><td>1679                                                        </td></tr>\n",
       "\t<tr><td>S14040                                                      </td><td>長津田店                                                    </td><td>14                                                          </td><td>神奈川県                                                    </td><td>神奈川県横浜市緑区長津田みなみ台五丁目                      </td><td>カナガワケンヨコハマシミドリクナガツタミナミダイゴチョウメ  </td><td>045-123-4046                                                </td><td>139.4994                                                    </td><td>35.52398                                                    </td><td>1548                                                        </td></tr>\n",
       "\t<tr><td>S14050                                                      </td><td>阿久和西店                                                  </td><td>14                                                          </td><td>神奈川県                                                    </td><td>神奈川県横浜市瀬谷区阿久和西一丁目                          </td><td>カナガワケンヨコハマシセヤクアクワニシイッチョウメ          </td><td>045-123-4053                                                </td><td>139.4961                                                    </td><td>35.45918                                                    </td><td>1830                                                        </td></tr>\n",
       "\t<tr><td>S13052                                                      </td><td>森野店                                                      </td><td>13                                                          </td><td>東京都                                                      </td><td>東京都町田市森野三丁目                                      </td><td>トウキョウトマチダシモリノサンチョウメ                      </td><td>042-123-4030                                                </td><td>139.4383                                                    </td><td>35.55293                                                    </td><td>1087                                                        </td></tr>\n",
       "\t<tr><td>S14028                                                      </td><td>二ツ橋店                                                    </td><td>14                                                          </td><td>神奈川県                                                    </td><td>神奈川県横浜市瀬谷区二ツ橋町                                </td><td>カナガワケンヨコハマシセヤクフタツバシチョウ                </td><td>045-123-4042                                                </td><td>139.4963                                                    </td><td>35.46304                                                    </td><td>1574                                                        </td></tr>\n",
       "\t<tr><td>S14012                                                      </td><td>本牧和田店                                                  </td><td>14                                                          </td><td>神奈川県                                                    </td><td>神奈川県横浜市中区本牧和田                                  </td><td>カナガワケンヨコハマシナカクホンモクワダ                    </td><td>045-123-4034                                                </td><td>139.6582                                                    </td><td>35.42156                                                    </td><td>1341                                                        </td></tr>\n",
       "\t<tr><td>S14046                                                      </td><td>北山田店                                                    </td><td>14                                                          </td><td>神奈川県                                                    </td><td>神奈川県横浜市都筑区北山田一丁目                            </td><td>カナガワケンヨコハマシツヅキクキタヤマタイッチョウメ        </td><td>045-123-4049                                                </td><td>139.5916                                                    </td><td>35.56189                                                    </td><td> 831                                                        </td></tr>\n",
       "\t<tr><td>S14022                                                      </td><td>逗子店                                                      </td><td>14                                                          </td><td>神奈川県                                                    </td><td>神奈川県逗子市逗子一丁目                                    </td><td>カナガワケンズシシズシイッチョウメ                          </td><td>046-123-4036                                                </td><td>139.5789                                                    </td><td>35.29642                                                    </td><td>1838                                                        </td></tr>\n",
       "\t<tr><td>S14011                                                      </td><td>日吉本町店                                                  </td><td>14                                                          </td><td>神奈川県                                                    </td><td>神奈川県横浜市港北区日吉本町四丁目                          </td><td>カナガワケンヨコハマシコウホククヒヨシホンチョウヨンチョウメ</td><td>045-123-4033                                                </td><td>139.6316                                                    </td><td>35.54655                                                    </td><td> 890                                                        </td></tr>\n",
       "\t<tr><td>S13016                                                      </td><td>小金井店                                                    </td><td>13                                                          </td><td>東京都                                                      </td><td>東京都小金井市本町一丁目                                    </td><td>トウキョウトコガネイシホンチョウイッチョウメ                </td><td>042-123-4015                                                </td><td>139.5094                                                    </td><td>35.70018                                                    </td><td>1399                                                        </td></tr>\n",
       "\t<tr><td>S14034                                                      </td><td>川崎野川店                                                  </td><td>14                                                          </td><td>神奈川県                                                    </td><td>神奈川県川崎市宮前区野川                                    </td><td>カナガワケンカワサキシミヤマエクノガワ                      </td><td>044-123-4044                                                </td><td>139.5998                                                    </td><td>35.57693                                                    </td><td>1318                                                        </td></tr>\n",
       "\t<tr><td>S14048                                                      </td><td>中川中央店                                                  </td><td>14                                                          </td><td>神奈川県                                                    </td><td>神奈川県横浜市都筑区中川中央二丁目                          </td><td>カナガワケンヨコハマシツヅキクナカガワチュウオウニチョウメ  </td><td>045-123-4051                                                </td><td>139.5758                                                    </td><td>35.54912                                                    </td><td>1657                                                        </td></tr>\n",
       "\t<tr><td>S12007                                                      </td><td>佐倉店                                                      </td><td>12                                                          </td><td>千葉県                                                      </td><td>千葉県佐倉市上志津                                          </td><td>チバケンサクラシカミシヅ                                    </td><td>043-123-4001                                                </td><td>140.1452                                                    </td><td>35.71872                                                    </td><td>1895                                                        </td></tr>\n",
       "\t<tr><td>S14026                                                      </td><td>辻堂西海岸店                                                </td><td>14                                                          </td><td>神奈川県                                                    </td><td>神奈川県藤沢市辻堂西海岸二丁目                              </td><td>カナガワケンフジサワシツジドウニシカイガンニチョウメ        </td><td>046-123-4040                                                </td><td>139.4466                                                    </td><td>35.32464                                                    </td><td>1732                                                        </td></tr>\n",
       "\t<tr><td>S13041                                                      </td><td>八王子店                                                    </td><td>13                                                          </td><td>東京都                                                      </td><td>東京都八王子市大塚                                          </td><td>トウキョウトハチオウジシオオツカ                            </td><td>042-123-4026                                                </td><td>139.4235                                                    </td><td>35.63787                                                    </td><td> 810                                                        </td></tr>\n",
       "\t<tr><td>S14049                                                      </td><td>川崎大師店                                                  </td><td>14                                                          </td><td>神奈川県                                                    </td><td>神奈川県川崎市川崎区中瀬三丁目                              </td><td>カナガワケンカワサキシカワサキクナカゼサンチョウメ          </td><td>044-123-4052                                                </td><td>139.7327                                                    </td><td>35.53759                                                    </td><td> 962                                                        </td></tr>\n",
       "\t<tr><td>S14023                                                      </td><td>川崎店                                                      </td><td>14                                                          </td><td>神奈川県                                                    </td><td>神奈川県川崎市川崎区本町二丁目                              </td><td>カナガワケンカワサキシカワサキクホンチョウニチョウメ        </td><td>044-123-4037                                                </td><td>139.7028                                                    </td><td>35.53599                                                    </td><td>1804                                                        </td></tr>\n",
       "\t<tr><td>S13018                                                      </td><td>清瀬店                                                      </td><td>13                                                          </td><td>東京都                                                      </td><td>東京都清瀬市松山一丁目                                      </td><td>トウキョウトキヨセシマツヤマイッチョウメ                    </td><td>042-123-4017                                                </td><td>139.5178                                                    </td><td>35.76885                                                    </td><td>1220                                                        </td></tr>\n",
       "\t<tr><td>S14027                                                      </td><td>南藤沢店                                                    </td><td>14                                                          </td><td>神奈川県                                                    </td><td>神奈川県藤沢市南藤沢                                        </td><td>カナガワケンフジサワシミナミフジサワ                        </td><td>046-123-4041                                                </td><td>139.4896                                                    </td><td>35.33762                                                    </td><td>1521                                                        </td></tr>\n",
       "\t<tr><td>S14021                                                      </td><td>伊勢原店                                                    </td><td>14                                                          </td><td>神奈川県                                                    </td><td>神奈川県伊勢原市伊勢原四丁目                                </td><td>カナガワケンイセハラシイセハラヨンチョウメ                  </td><td>046-123-4035                                                </td><td>139.3129                                                    </td><td>35.40169                                                    </td><td> 962                                                        </td></tr>\n",
       "\t<tr><td>S14047                                                      </td><td>相模原店                                                    </td><td>14                                                          </td><td>神奈川県                                                    </td><td>神奈川県相模原市千代田六丁目                                </td><td>カナガワケンサガミハラシチヨダロクチョウメ                  </td><td>042-123-4050                                                </td><td>139.3748                                                    </td><td>35.55959                                                    </td><td>1047                                                        </td></tr>\n",
       "\t<tr><td>S12013                                                      </td><td>習志野店                                                    </td><td>12                                                          </td><td>千葉県                                                      </td><td>千葉県習志野市芝園一丁目                                    </td><td>チバケンナラシノシシバゾノイッチョウメ                      </td><td>047-123-4002                                                </td><td>140.0220                                                    </td><td>35.66122                                                    </td><td> 808                                                        </td></tr>\n",
       "\t<tr><td>S14042                                                      </td><td>新山下店                                                    </td><td>14                                                          </td><td>神奈川県                                                    </td><td>神奈川県横浜市中区新山下二丁目                              </td><td>カナガワケンヨコハマシナカクシンヤマシタニチョウメ          </td><td>045-123-4047                                                </td><td>139.6593                                                    </td><td>35.43894                                                    </td><td>1044                                                        </td></tr>\n",
       "\t<tr><td>S12030                                                      </td><td>八幡店                                                      </td><td>12                                                          </td><td>千葉県                                                      </td><td>千葉県市川市八幡三丁目                                      </td><td>チバケンイチカワシヤワタサンチョウメ                        </td><td>047-123-4005                                                </td><td>139.9240                                                    </td><td>35.72318                                                    </td><td>1162                                                        </td></tr>\n",
       "\t<tr><td>S14025                                                      </td><td>大和店                                                      </td><td>14                                                          </td><td>神奈川県                                                    </td><td>神奈川県大和市下和田                                        </td><td>カナガワケンヤマトシシモワダ                                </td><td>046-123-4039                                                </td><td>139.4680                                                    </td><td>35.43414                                                    </td><td>1011                                                        </td></tr>\n",
       "\t<tr><td>S14045                                                      </td><td>厚木店                                                      </td><td>14                                                          </td><td>神奈川県                                                    </td><td>神奈川県厚木市中町二丁目                                    </td><td>カナガワケンアツギシナカチョウニチョウメ                    </td><td>046-123-4048                                                </td><td>139.3651                                                    </td><td>35.44182                                                    </td><td> 980                                                        </td></tr>\n",
       "\t<tr><td>S12029                                                      </td><td>東野店                                                      </td><td>12                                                          </td><td>千葉県                                                      </td><td>千葉県浦安市東野一丁目                                      </td><td>チバケンウラヤスシヒガシノイッチョウメ                      </td><td>047-123-4004                                                </td><td>139.8968                                                    </td><td>35.65086                                                    </td><td>1101                                                        </td></tr>\n",
       "\t<tr><td>S12053                                                      </td><td>高洲店                                                      </td><td>12                                                          </td><td>千葉県                                                      </td><td>千葉県浦安市高洲五丁目                                      </td><td>チバケンウラヤスシタカスゴチョウメ                          </td><td>047-123-4006                                                </td><td>139.9176                                                    </td><td>35.63755                                                    </td><td>1555                                                        </td></tr>\n",
       "\t<tr><td>S14024                                                      </td><td>三田店                                                      </td><td>14                                                          </td><td>神奈川県                                                    </td><td>神奈川県川崎市多摩区三田四丁目                              </td><td>カナガワケンカワサキシタマクミタヨンチョウメ                </td><td>044-123-4038                                                </td><td>139.5424                                                    </td><td>35.60770                                                    </td><td> 972                                                        </td></tr>\n",
       "\t<tr><td>S14006                                                      </td><td>葛が谷店                                                    </td><td>14                                                          </td><td>神奈川県                                                    </td><td>神奈川県横浜市都筑区葛が谷                                  </td><td>カナガワケンヨコハマシツヅキククズガヤ                      </td><td>045-123-4031                                                </td><td>139.5633                                                    </td><td>35.53573                                                    </td><td>1886                                                        </td></tr>\n",
       "</tbody>\n",
       "</table>\n"
      ],
      "text/latex": [
       "\\begin{tabular}{r|llllllllll}\n",
       " store\\_cd & store\\_name & prefecture\\_cd & prefecture & address & address\\_kana & tel\\_no & longitude & latitude & floor\\_area\\\\\n",
       "\\hline\n",
       "\t S12014                                                       & 千草台店                                                     & 12                                                           & 千葉県                                                       & 千葉県千葉市稲毛区千草台一丁目                               & チバケンチバシイナゲクチグサダイイッチョウメ                 & 043-123-4003                                                 & 140.1180                                                     & 35.63559                                                     & 1698                                                        \\\\\n",
       "\t S13002                                                       & 国分寺店                                                     & 13                                                           & 東京都                                                       & 東京都国分寺市本多二丁目                                     & トウキョウトコクブンジシホンダニチョウメ                     & 042-123-4008                                                 & 139.4802                                                     & 35.70566                                                     & 1735                                                        \\\\\n",
       "\t S14010                                                       & 菊名店                                                       & 14                                                           & 神奈川県                                                     & 神奈川県横浜市港北区菊名一丁目                               & カナガワケンヨコハマシコウホククキクナイッチョウメ           & 045-123-4032                                                 & 139.6326                                                     & 35.50049                                                     & 1732                                                        \\\\\n",
       "\t S14033                                                       & 阿久和店                                                     & 14                                                           & 神奈川県                                                     & 神奈川県横浜市瀬谷区阿久和西一丁目                           & カナガワケンヨコハマシセヤクアクワニシイッチョウメ           & 045-123-4043                                                 & 139.4961                                                     & 35.45918                                                     & 1495                                                        \\\\\n",
       "\t S14036                                                       & 相模原中央店                                                 & 14                                                           & 神奈川県                                                     & 神奈川県相模原市中央二丁目                                   & カナガワケンサガミハラシチュウオウニチョウメ                 & 042-123-4045                                                 & 139.3716                                                     & 35.57327                                                     & 1679                                                        \\\\\n",
       "\t S14040                                                       & 長津田店                                                     & 14                                                           & 神奈川県                                                     & 神奈川県横浜市緑区長津田みなみ台五丁目                       & カナガワケンヨコハマシミドリクナガツタミナミダイゴチョウメ   & 045-123-4046                                                 & 139.4994                                                     & 35.52398                                                     & 1548                                                        \\\\\n",
       "\t S14050                                                       & 阿久和西店                                                   & 14                                                           & 神奈川県                                                     & 神奈川県横浜市瀬谷区阿久和西一丁目                           & カナガワケンヨコハマシセヤクアクワニシイッチョウメ           & 045-123-4053                                                 & 139.4961                                                     & 35.45918                                                     & 1830                                                        \\\\\n",
       "\t S13052                                                       & 森野店                                                       & 13                                                           & 東京都                                                       & 東京都町田市森野三丁目                                       & トウキョウトマチダシモリノサンチョウメ                       & 042-123-4030                                                 & 139.4383                                                     & 35.55293                                                     & 1087                                                        \\\\\n",
       "\t S14028                                                       & 二ツ橋店                                                     & 14                                                           & 神奈川県                                                     & 神奈川県横浜市瀬谷区二ツ橋町                                 & カナガワケンヨコハマシセヤクフタツバシチョウ                 & 045-123-4042                                                 & 139.4963                                                     & 35.46304                                                     & 1574                                                        \\\\\n",
       "\t S14012                                                       & 本牧和田店                                                   & 14                                                           & 神奈川県                                                     & 神奈川県横浜市中区本牧和田                                   & カナガワケンヨコハマシナカクホンモクワダ                     & 045-123-4034                                                 & 139.6582                                                     & 35.42156                                                     & 1341                                                        \\\\\n",
       "\t S14046                                                       & 北山田店                                                     & 14                                                           & 神奈川県                                                     & 神奈川県横浜市都筑区北山田一丁目                             & カナガワケンヨコハマシツヅキクキタヤマタイッチョウメ         & 045-123-4049                                                 & 139.5916                                                     & 35.56189                                                     &  831                                                        \\\\\n",
       "\t S14022                                                       & 逗子店                                                       & 14                                                           & 神奈川県                                                     & 神奈川県逗子市逗子一丁目                                     & カナガワケンズシシズシイッチョウメ                           & 046-123-4036                                                 & 139.5789                                                     & 35.29642                                                     & 1838                                                        \\\\\n",
       "\t S14011                                                       & 日吉本町店                                                   & 14                                                           & 神奈川県                                                     & 神奈川県横浜市港北区日吉本町四丁目                           & カナガワケンヨコハマシコウホククヒヨシホンチョウヨンチョウメ & 045-123-4033                                                 & 139.6316                                                     & 35.54655                                                     &  890                                                        \\\\\n",
       "\t S13016                                                       & 小金井店                                                     & 13                                                           & 東京都                                                       & 東京都小金井市本町一丁目                                     & トウキョウトコガネイシホンチョウイッチョウメ                 & 042-123-4015                                                 & 139.5094                                                     & 35.70018                                                     & 1399                                                        \\\\\n",
       "\t S14034                                                       & 川崎野川店                                                   & 14                                                           & 神奈川県                                                     & 神奈川県川崎市宮前区野川                                     & カナガワケンカワサキシミヤマエクノガワ                       & 044-123-4044                                                 & 139.5998                                                     & 35.57693                                                     & 1318                                                        \\\\\n",
       "\t S14048                                                       & 中川中央店                                                   & 14                                                           & 神奈川県                                                     & 神奈川県横浜市都筑区中川中央二丁目                           & カナガワケンヨコハマシツヅキクナカガワチュウオウニチョウメ   & 045-123-4051                                                 & 139.5758                                                     & 35.54912                                                     & 1657                                                        \\\\\n",
       "\t S12007                                                       & 佐倉店                                                       & 12                                                           & 千葉県                                                       & 千葉県佐倉市上志津                                           & チバケンサクラシカミシヅ                                     & 043-123-4001                                                 & 140.1452                                                     & 35.71872                                                     & 1895                                                        \\\\\n",
       "\t S14026                                                       & 辻堂西海岸店                                                 & 14                                                           & 神奈川県                                                     & 神奈川県藤沢市辻堂西海岸二丁目                               & カナガワケンフジサワシツジドウニシカイガンニチョウメ         & 046-123-4040                                                 & 139.4466                                                     & 35.32464                                                     & 1732                                                        \\\\\n",
       "\t S13041                                                       & 八王子店                                                     & 13                                                           & 東京都                                                       & 東京都八王子市大塚                                           & トウキョウトハチオウジシオオツカ                             & 042-123-4026                                                 & 139.4235                                                     & 35.63787                                                     &  810                                                        \\\\\n",
       "\t S14049                                                       & 川崎大師店                                                   & 14                                                           & 神奈川県                                                     & 神奈川県川崎市川崎区中瀬三丁目                               & カナガワケンカワサキシカワサキクナカゼサンチョウメ           & 044-123-4052                                                 & 139.7327                                                     & 35.53759                                                     &  962                                                        \\\\\n",
       "\t S14023                                                       & 川崎店                                                       & 14                                                           & 神奈川県                                                     & 神奈川県川崎市川崎区本町二丁目                               & カナガワケンカワサキシカワサキクホンチョウニチョウメ         & 044-123-4037                                                 & 139.7028                                                     & 35.53599                                                     & 1804                                                        \\\\\n",
       "\t S13018                                                       & 清瀬店                                                       & 13                                                           & 東京都                                                       & 東京都清瀬市松山一丁目                                       & トウキョウトキヨセシマツヤマイッチョウメ                     & 042-123-4017                                                 & 139.5178                                                     & 35.76885                                                     & 1220                                                        \\\\\n",
       "\t S14027                                                       & 南藤沢店                                                     & 14                                                           & 神奈川県                                                     & 神奈川県藤沢市南藤沢                                         & カナガワケンフジサワシミナミフジサワ                         & 046-123-4041                                                 & 139.4896                                                     & 35.33762                                                     & 1521                                                        \\\\\n",
       "\t S14021                                                       & 伊勢原店                                                     & 14                                                           & 神奈川県                                                     & 神奈川県伊勢原市伊勢原四丁目                                 & カナガワケンイセハラシイセハラヨンチョウメ                   & 046-123-4035                                                 & 139.3129                                                     & 35.40169                                                     &  962                                                        \\\\\n",
       "\t S14047                                                       & 相模原店                                                     & 14                                                           & 神奈川県                                                     & 神奈川県相模原市千代田六丁目                                 & カナガワケンサガミハラシチヨダロクチョウメ                   & 042-123-4050                                                 & 139.3748                                                     & 35.55959                                                     & 1047                                                        \\\\\n",
       "\t S12013                                                       & 習志野店                                                     & 12                                                           & 千葉県                                                       & 千葉県習志野市芝園一丁目                                     & チバケンナラシノシシバゾノイッチョウメ                       & 047-123-4002                                                 & 140.0220                                                     & 35.66122                                                     &  808                                                        \\\\\n",
       "\t S14042                                                       & 新山下店                                                     & 14                                                           & 神奈川県                                                     & 神奈川県横浜市中区新山下二丁目                               & カナガワケンヨコハマシナカクシンヤマシタニチョウメ           & 045-123-4047                                                 & 139.6593                                                     & 35.43894                                                     & 1044                                                        \\\\\n",
       "\t S12030                                                       & 八幡店                                                       & 12                                                           & 千葉県                                                       & 千葉県市川市八幡三丁目                                       & チバケンイチカワシヤワタサンチョウメ                         & 047-123-4005                                                 & 139.9240                                                     & 35.72318                                                     & 1162                                                        \\\\\n",
       "\t S14025                                                       & 大和店                                                       & 14                                                           & 神奈川県                                                     & 神奈川県大和市下和田                                         & カナガワケンヤマトシシモワダ                                 & 046-123-4039                                                 & 139.4680                                                     & 35.43414                                                     & 1011                                                        \\\\\n",
       "\t S14045                                                       & 厚木店                                                       & 14                                                           & 神奈川県                                                     & 神奈川県厚木市中町二丁目                                     & カナガワケンアツギシナカチョウニチョウメ                     & 046-123-4048                                                 & 139.3651                                                     & 35.44182                                                     &  980                                                        \\\\\n",
       "\t S12029                                                       & 東野店                                                       & 12                                                           & 千葉県                                                       & 千葉県浦安市東野一丁目                                       & チバケンウラヤスシヒガシノイッチョウメ                       & 047-123-4004                                                 & 139.8968                                                     & 35.65086                                                     & 1101                                                        \\\\\n",
       "\t S12053                                                       & 高洲店                                                       & 12                                                           & 千葉県                                                       & 千葉県浦安市高洲五丁目                                       & チバケンウラヤスシタカスゴチョウメ                           & 047-123-4006                                                 & 139.9176                                                     & 35.63755                                                     & 1555                                                        \\\\\n",
       "\t S14024                                                       & 三田店                                                       & 14                                                           & 神奈川県                                                     & 神奈川県川崎市多摩区三田四丁目                               & カナガワケンカワサキシタマクミタヨンチョウメ                 & 044-123-4038                                                 & 139.5424                                                     & 35.60770                                                     &  972                                                        \\\\\n",
       "\t S14006                                                       & 葛が谷店                                                     & 14                                                           & 神奈川県                                                     & 神奈川県横浜市都筑区葛が谷                                   & カナガワケンヨコハマシツヅキククズガヤ                       & 045-123-4031                                                 & 139.5633                                                     & 35.53573                                                     & 1886                                                        \\\\\n",
       "\\end{tabular}\n"
      ],
      "text/markdown": [
       "\n",
       "| store_cd | store_name | prefecture_cd | prefecture | address | address_kana | tel_no | longitude | latitude | floor_area |\n",
       "|---|---|---|---|---|---|---|---|---|---|\n",
       "| S12014                                                       | 千草台店                                                     | 12                                                           | 千葉県                                                       | 千葉県千葉市稲毛区千草台一丁目                               | チバケンチバシイナゲクチグサダイイッチョウメ                 | 043-123-4003                                                 | 140.1180                                                     | 35.63559                                                     | 1698                                                         |\n",
       "| S13002                                                       | 国分寺店                                                     | 13                                                           | 東京都                                                       | 東京都国分寺市本多二丁目                                     | トウキョウトコクブンジシホンダニチョウメ                     | 042-123-4008                                                 | 139.4802                                                     | 35.70566                                                     | 1735                                                         |\n",
       "| S14010                                                       | 菊名店                                                       | 14                                                           | 神奈川県                                                     | 神奈川県横浜市港北区菊名一丁目                               | カナガワケンヨコハマシコウホククキクナイッチョウメ           | 045-123-4032                                                 | 139.6326                                                     | 35.50049                                                     | 1732                                                         |\n",
       "| S14033                                                       | 阿久和店                                                     | 14                                                           | 神奈川県                                                     | 神奈川県横浜市瀬谷区阿久和西一丁目                           | カナガワケンヨコハマシセヤクアクワニシイッチョウメ           | 045-123-4043                                                 | 139.4961                                                     | 35.45918                                                     | 1495                                                         |\n",
       "| S14036                                                       | 相模原中央店                                                 | 14                                                           | 神奈川県                                                     | 神奈川県相模原市中央二丁目                                   | カナガワケンサガミハラシチュウオウニチョウメ                 | 042-123-4045                                                 | 139.3716                                                     | 35.57327                                                     | 1679                                                         |\n",
       "| S14040                                                       | 長津田店                                                     | 14                                                           | 神奈川県                                                     | 神奈川県横浜市緑区長津田みなみ台五丁目                       | カナガワケンヨコハマシミドリクナガツタミナミダイゴチョウメ   | 045-123-4046                                                 | 139.4994                                                     | 35.52398                                                     | 1548                                                         |\n",
       "| S14050                                                       | 阿久和西店                                                   | 14                                                           | 神奈川県                                                     | 神奈川県横浜市瀬谷区阿久和西一丁目                           | カナガワケンヨコハマシセヤクアクワニシイッチョウメ           | 045-123-4053                                                 | 139.4961                                                     | 35.45918                                                     | 1830                                                         |\n",
       "| S13052                                                       | 森野店                                                       | 13                                                           | 東京都                                                       | 東京都町田市森野三丁目                                       | トウキョウトマチダシモリノサンチョウメ                       | 042-123-4030                                                 | 139.4383                                                     | 35.55293                                                     | 1087                                                         |\n",
       "| S14028                                                       | 二ツ橋店                                                     | 14                                                           | 神奈川県                                                     | 神奈川県横浜市瀬谷区二ツ橋町                                 | カナガワケンヨコハマシセヤクフタツバシチョウ                 | 045-123-4042                                                 | 139.4963                                                     | 35.46304                                                     | 1574                                                         |\n",
       "| S14012                                                       | 本牧和田店                                                   | 14                                                           | 神奈川県                                                     | 神奈川県横浜市中区本牧和田                                   | カナガワケンヨコハマシナカクホンモクワダ                     | 045-123-4034                                                 | 139.6582                                                     | 35.42156                                                     | 1341                                                         |\n",
       "| S14046                                                       | 北山田店                                                     | 14                                                           | 神奈川県                                                     | 神奈川県横浜市都筑区北山田一丁目                             | カナガワケンヨコハマシツヅキクキタヤマタイッチョウメ         | 045-123-4049                                                 | 139.5916                                                     | 35.56189                                                     |  831                                                         |\n",
       "| S14022                                                       | 逗子店                                                       | 14                                                           | 神奈川県                                                     | 神奈川県逗子市逗子一丁目                                     | カナガワケンズシシズシイッチョウメ                           | 046-123-4036                                                 | 139.5789                                                     | 35.29642                                                     | 1838                                                         |\n",
       "| S14011                                                       | 日吉本町店                                                   | 14                                                           | 神奈川県                                                     | 神奈川県横浜市港北区日吉本町四丁目                           | カナガワケンヨコハマシコウホククヒヨシホンチョウヨンチョウメ | 045-123-4033                                                 | 139.6316                                                     | 35.54655                                                     |  890                                                         |\n",
       "| S13016                                                       | 小金井店                                                     | 13                                                           | 東京都                                                       | 東京都小金井市本町一丁目                                     | トウキョウトコガネイシホンチョウイッチョウメ                 | 042-123-4015                                                 | 139.5094                                                     | 35.70018                                                     | 1399                                                         |\n",
       "| S14034                                                       | 川崎野川店                                                   | 14                                                           | 神奈川県                                                     | 神奈川県川崎市宮前区野川                                     | カナガワケンカワサキシミヤマエクノガワ                       | 044-123-4044                                                 | 139.5998                                                     | 35.57693                                                     | 1318                                                         |\n",
       "| S14048                                                       | 中川中央店                                                   | 14                                                           | 神奈川県                                                     | 神奈川県横浜市都筑区中川中央二丁目                           | カナガワケンヨコハマシツヅキクナカガワチュウオウニチョウメ   | 045-123-4051                                                 | 139.5758                                                     | 35.54912                                                     | 1657                                                         |\n",
       "| S12007                                                       | 佐倉店                                                       | 12                                                           | 千葉県                                                       | 千葉県佐倉市上志津                                           | チバケンサクラシカミシヅ                                     | 043-123-4001                                                 | 140.1452                                                     | 35.71872                                                     | 1895                                                         |\n",
       "| S14026                                                       | 辻堂西海岸店                                                 | 14                                                           | 神奈川県                                                     | 神奈川県藤沢市辻堂西海岸二丁目                               | カナガワケンフジサワシツジドウニシカイガンニチョウメ         | 046-123-4040                                                 | 139.4466                                                     | 35.32464                                                     | 1732                                                         |\n",
       "| S13041                                                       | 八王子店                                                     | 13                                                           | 東京都                                                       | 東京都八王子市大塚                                           | トウキョウトハチオウジシオオツカ                             | 042-123-4026                                                 | 139.4235                                                     | 35.63787                                                     |  810                                                         |\n",
       "| S14049                                                       | 川崎大師店                                                   | 14                                                           | 神奈川県                                                     | 神奈川県川崎市川崎区中瀬三丁目                               | カナガワケンカワサキシカワサキクナカゼサンチョウメ           | 044-123-4052                                                 | 139.7327                                                     | 35.53759                                                     |  962                                                         |\n",
       "| S14023                                                       | 川崎店                                                       | 14                                                           | 神奈川県                                                     | 神奈川県川崎市川崎区本町二丁目                               | カナガワケンカワサキシカワサキクホンチョウニチョウメ         | 044-123-4037                                                 | 139.7028                                                     | 35.53599                                                     | 1804                                                         |\n",
       "| S13018                                                       | 清瀬店                                                       | 13                                                           | 東京都                                                       | 東京都清瀬市松山一丁目                                       | トウキョウトキヨセシマツヤマイッチョウメ                     | 042-123-4017                                                 | 139.5178                                                     | 35.76885                                                     | 1220                                                         |\n",
       "| S14027                                                       | 南藤沢店                                                     | 14                                                           | 神奈川県                                                     | 神奈川県藤沢市南藤沢                                         | カナガワケンフジサワシミナミフジサワ                         | 046-123-4041                                                 | 139.4896                                                     | 35.33762                                                     | 1521                                                         |\n",
       "| S14021                                                       | 伊勢原店                                                     | 14                                                           | 神奈川県                                                     | 神奈川県伊勢原市伊勢原四丁目                                 | カナガワケンイセハラシイセハラヨンチョウメ                   | 046-123-4035                                                 | 139.3129                                                     | 35.40169                                                     |  962                                                         |\n",
       "| S14047                                                       | 相模原店                                                     | 14                                                           | 神奈川県                                                     | 神奈川県相模原市千代田六丁目                                 | カナガワケンサガミハラシチヨダロクチョウメ                   | 042-123-4050                                                 | 139.3748                                                     | 35.55959                                                     | 1047                                                         |\n",
       "| S12013                                                       | 習志野店                                                     | 12                                                           | 千葉県                                                       | 千葉県習志野市芝園一丁目                                     | チバケンナラシノシシバゾノイッチョウメ                       | 047-123-4002                                                 | 140.0220                                                     | 35.66122                                                     |  808                                                         |\n",
       "| S14042                                                       | 新山下店                                                     | 14                                                           | 神奈川県                                                     | 神奈川県横浜市中区新山下二丁目                               | カナガワケンヨコハマシナカクシンヤマシタニチョウメ           | 045-123-4047                                                 | 139.6593                                                     | 35.43894                                                     | 1044                                                         |\n",
       "| S12030                                                       | 八幡店                                                       | 12                                                           | 千葉県                                                       | 千葉県市川市八幡三丁目                                       | チバケンイチカワシヤワタサンチョウメ                         | 047-123-4005                                                 | 139.9240                                                     | 35.72318                                                     | 1162                                                         |\n",
       "| S14025                                                       | 大和店                                                       | 14                                                           | 神奈川県                                                     | 神奈川県大和市下和田                                         | カナガワケンヤマトシシモワダ                                 | 046-123-4039                                                 | 139.4680                                                     | 35.43414                                                     | 1011                                                         |\n",
       "| S14045                                                       | 厚木店                                                       | 14                                                           | 神奈川県                                                     | 神奈川県厚木市中町二丁目                                     | カナガワケンアツギシナカチョウニチョウメ                     | 046-123-4048                                                 | 139.3651                                                     | 35.44182                                                     |  980                                                         |\n",
       "| S12029                                                       | 東野店                                                       | 12                                                           | 千葉県                                                       | 千葉県浦安市東野一丁目                                       | チバケンウラヤスシヒガシノイッチョウメ                       | 047-123-4004                                                 | 139.8968                                                     | 35.65086                                                     | 1101                                                         |\n",
       "| S12053                                                       | 高洲店                                                       | 12                                                           | 千葉県                                                       | 千葉県浦安市高洲五丁目                                       | チバケンウラヤスシタカスゴチョウメ                           | 047-123-4006                                                 | 139.9176                                                     | 35.63755                                                     | 1555                                                         |\n",
       "| S14024                                                       | 三田店                                                       | 14                                                           | 神奈川県                                                     | 神奈川県川崎市多摩区三田四丁目                               | カナガワケンカワサキシタマクミタヨンチョウメ                 | 044-123-4038                                                 | 139.5424                                                     | 35.60770                                                     |  972                                                         |\n",
       "| S14006                                                       | 葛が谷店                                                     | 14                                                           | 神奈川県                                                     | 神奈川県横浜市都筑区葛が谷                                   | カナガワケンヨコハマシツヅキククズガヤ                       | 045-123-4031                                                 | 139.5633                                                     | 35.53573                                                     | 1886                                                         |\n",
       "\n"
      ],
      "text/plain": [
       "   store_cd store_name   prefecture_cd prefecture\n",
       "1  S12014   千草台店     12            千葉県    \n",
       "2  S13002   国分寺店     13            東京都    \n",
       "3  S14010   菊名店       14            神奈川県  \n",
       "4  S14033   阿久和店     14            神奈川県  \n",
       "5  S14036   相模原中央店 14            神奈川県  \n",
       "6  S14040   長津田店     14            神奈川県  \n",
       "7  S14050   阿久和西店   14            神奈川県  \n",
       "8  S13052   森野店       13            東京都    \n",
       "9  S14028   二ツ橋店     14            神奈川県  \n",
       "10 S14012   本牧和田店   14            神奈川県  \n",
       "11 S14046   北山田店     14            神奈川県  \n",
       "12 S14022   逗子店       14            神奈川県  \n",
       "13 S14011   日吉本町店   14            神奈川県  \n",
       "14 S13016   小金井店     13            東京都    \n",
       "15 S14034   川崎野川店   14            神奈川県  \n",
       "16 S14048   中川中央店   14            神奈川県  \n",
       "17 S12007   佐倉店       12            千葉県    \n",
       "18 S14026   辻堂西海岸店 14            神奈川県  \n",
       "19 S13041   八王子店     13            東京都    \n",
       "20 S14049   川崎大師店   14            神奈川県  \n",
       "21 S14023   川崎店       14            神奈川県  \n",
       "22 S13018   清瀬店       13            東京都    \n",
       "23 S14027   南藤沢店     14            神奈川県  \n",
       "24 S14021   伊勢原店     14            神奈川県  \n",
       "25 S14047   相模原店     14            神奈川県  \n",
       "26 S12013   習志野店     12            千葉県    \n",
       "27 S14042   新山下店     14            神奈川県  \n",
       "28 S12030   八幡店       12            千葉県    \n",
       "29 S14025   大和店       14            神奈川県  \n",
       "30 S14045   厚木店       14            神奈川県  \n",
       "31 S12029   東野店       12            千葉県    \n",
       "32 S12053   高洲店       12            千葉県    \n",
       "33 S14024   三田店       14            神奈川県  \n",
       "34 S14006   葛が谷店     14            神奈川県  \n",
       "   address                               \n",
       "1  千葉県千葉市稲毛区千草台一丁目        \n",
       "2  東京都国分寺市本多二丁目              \n",
       "3  神奈川県横浜市港北区菊名一丁目        \n",
       "4  神奈川県横浜市瀬谷区阿久和西一丁目    \n",
       "5  神奈川県相模原市中央二丁目            \n",
       "6  神奈川県横浜市緑区長津田みなみ台五丁目\n",
       "7  神奈川県横浜市瀬谷区阿久和西一丁目    \n",
       "8  東京都町田市森野三丁目                \n",
       "9  神奈川県横浜市瀬谷区二ツ橋町          \n",
       "10 神奈川県横浜市中区本牧和田            \n",
       "11 神奈川県横浜市都筑区北山田一丁目      \n",
       "12 神奈川県逗子市逗子一丁目              \n",
       "13 神奈川県横浜市港北区日吉本町四丁目    \n",
       "14 東京都小金井市本町一丁目              \n",
       "15 神奈川県川崎市宮前区野川              \n",
       "16 神奈川県横浜市都筑区中川中央二丁目    \n",
       "17 千葉県佐倉市上志津                    \n",
       "18 神奈川県藤沢市辻堂西海岸二丁目        \n",
       "19 東京都八王子市大塚                    \n",
       "20 神奈川県川崎市川崎区中瀬三丁目        \n",
       "21 神奈川県川崎市川崎区本町二丁目        \n",
       "22 東京都清瀬市松山一丁目                \n",
       "23 神奈川県藤沢市南藤沢                  \n",
       "24 神奈川県伊勢原市伊勢原四丁目          \n",
       "25 神奈川県相模原市千代田六丁目          \n",
       "26 千葉県習志野市芝園一丁目              \n",
       "27 神奈川県横浜市中区新山下二丁目        \n",
       "28 千葉県市川市八幡三丁目                \n",
       "29 神奈川県大和市下和田                  \n",
       "30 神奈川県厚木市中町二丁目              \n",
       "31 千葉県浦安市東野一丁目                \n",
       "32 千葉県浦安市高洲五丁目                \n",
       "33 神奈川県川崎市多摩区三田四丁目        \n",
       "34 神奈川県横浜市都筑区葛が谷            \n",
       "   address_kana                                                 tel_no      \n",
       "1  チバケンチバシイナゲクチグサダイイッチョウメ                 043-123-4003\n",
       "2  トウキョウトコクブンジシホンダニチョウメ                     042-123-4008\n",
       "3  カナガワケンヨコハマシコウホククキクナイッチョウメ           045-123-4032\n",
       "4  カナガワケンヨコハマシセヤクアクワニシイッチョウメ           045-123-4043\n",
       "5  カナガワケンサガミハラシチュウオウニチョウメ                 042-123-4045\n",
       "6  カナガワケンヨコハマシミドリクナガツタミナミダイゴチョウメ   045-123-4046\n",
       "7  カナガワケンヨコハマシセヤクアクワニシイッチョウメ           045-123-4053\n",
       "8  トウキョウトマチダシモリノサンチョウメ                       042-123-4030\n",
       "9  カナガワケンヨコハマシセヤクフタツバシチョウ                 045-123-4042\n",
       "10 カナガワケンヨコハマシナカクホンモクワダ                     045-123-4034\n",
       "11 カナガワケンヨコハマシツヅキクキタヤマタイッチョウメ         045-123-4049\n",
       "12 カナガワケンズシシズシイッチョウメ                           046-123-4036\n",
       "13 カナガワケンヨコハマシコウホククヒヨシホンチョウヨンチョウメ 045-123-4033\n",
       "14 トウキョウトコガネイシホンチョウイッチョウメ                 042-123-4015\n",
       "15 カナガワケンカワサキシミヤマエクノガワ                       044-123-4044\n",
       "16 カナガワケンヨコハマシツヅキクナカガワチュウオウニチョウメ   045-123-4051\n",
       "17 チバケンサクラシカミシヅ                                     043-123-4001\n",
       "18 カナガワケンフジサワシツジドウニシカイガンニチョウメ         046-123-4040\n",
       "19 トウキョウトハチオウジシオオツカ                             042-123-4026\n",
       "20 カナガワケンカワサキシカワサキクナカゼサンチョウメ           044-123-4052\n",
       "21 カナガワケンカワサキシカワサキクホンチョウニチョウメ         044-123-4037\n",
       "22 トウキョウトキヨセシマツヤマイッチョウメ                     042-123-4017\n",
       "23 カナガワケンフジサワシミナミフジサワ                         046-123-4041\n",
       "24 カナガワケンイセハラシイセハラヨンチョウメ                   046-123-4035\n",
       "25 カナガワケンサガミハラシチヨダロクチョウメ                   042-123-4050\n",
       "26 チバケンナラシノシシバゾノイッチョウメ                       047-123-4002\n",
       "27 カナガワケンヨコハマシナカクシンヤマシタニチョウメ           045-123-4047\n",
       "28 チバケンイチカワシヤワタサンチョウメ                         047-123-4005\n",
       "29 カナガワケンヤマトシシモワダ                                 046-123-4039\n",
       "30 カナガワケンアツギシナカチョウニチョウメ                     046-123-4048\n",
       "31 チバケンウラヤスシヒガシノイッチョウメ                       047-123-4004\n",
       "32 チバケンウラヤスシタカスゴチョウメ                           047-123-4006\n",
       "33 カナガワケンカワサキシタマクミタヨンチョウメ                 044-123-4038\n",
       "34 カナガワケンヨコハマシツヅキククズガヤ                       045-123-4031\n",
       "   longitude latitude floor_area\n",
       "1  140.1180  35.63559 1698      \n",
       "2  139.4802  35.70566 1735      \n",
       "3  139.6326  35.50049 1732      \n",
       "4  139.4961  35.45918 1495      \n",
       "5  139.3716  35.57327 1679      \n",
       "6  139.4994  35.52398 1548      \n",
       "7  139.4961  35.45918 1830      \n",
       "8  139.4383  35.55293 1087      \n",
       "9  139.4963  35.46304 1574      \n",
       "10 139.6582  35.42156 1341      \n",
       "11 139.5916  35.56189  831      \n",
       "12 139.5789  35.29642 1838      \n",
       "13 139.6316  35.54655  890      \n",
       "14 139.5094  35.70018 1399      \n",
       "15 139.5998  35.57693 1318      \n",
       "16 139.5758  35.54912 1657      \n",
       "17 140.1452  35.71872 1895      \n",
       "18 139.4466  35.32464 1732      \n",
       "19 139.4235  35.63787  810      \n",
       "20 139.7327  35.53759  962      \n",
       "21 139.7028  35.53599 1804      \n",
       "22 139.5178  35.76885 1220      \n",
       "23 139.4896  35.33762 1521      \n",
       "24 139.3129  35.40169  962      \n",
       "25 139.3748  35.55959 1047      \n",
       "26 140.0220  35.66122  808      \n",
       "27 139.6593  35.43894 1044      \n",
       "28 139.9240  35.72318 1162      \n",
       "29 139.4680  35.43414 1011      \n",
       "30 139.3651  35.44182  980      \n",
       "31 139.8968  35.65086 1101      \n",
       "32 139.9176  35.63755 1555      \n",
       "33 139.5424  35.60770  972      \n",
       "34 139.5633  35.53573 1886      "
      ]
     },
     "metadata": {},
     "output_type": "display_data"
    }
   ],
   "source": [
    "df_store %>% filter(grepl(\"[0-9]{3}-[0-9]{3}-[0-9]\", tel_no))"
   ]
  },
  {
   "cell_type": "markdown",
   "metadata": {},
   "source": [
    "---\n",
    "> R-017: 顧客データフレーム（df_customer）を生年月日（birth_day）で高齢順にソートし、先頭10件を全項目表示せよ。"
   ]
  },
  {
   "cell_type": "code",
   "execution_count": 24,
   "metadata": {},
   "outputs": [
    {
     "data": {
      "text/html": [
       "<table>\n",
       "<thead><tr><th></th><th scope=col>customer_id</th><th scope=col>customer_name</th><th scope=col>gender_cd</th><th scope=col>gender</th><th scope=col>birth_day</th><th scope=col>age</th><th scope=col>postal_cd</th><th scope=col>address</th><th scope=col>application_store_cd</th><th scope=col>application_date</th><th scope=col>status_cd</th></tr></thead>\n",
       "<tbody>\n",
       "\t<tr><th scope=row>3671</th><td>CS025115000002                      </td><td>小柳 夏希,1                         </td><td>女性                                </td><td>2007-04-18                          </td><td>11                                  </td><td>245-0018                            </td><td>神奈川県横浜市泉区上飯田町**********</td><td>S14025                              </td><td>20160116                            </td><td>D-20100913-D                        </td><td>                                    </td></tr>\n",
       "\t<tr><th scope=row>10746</th><td>CS002113000009                      </td><td>柴田 真悠子,1                       </td><td>女性                                </td><td>2007-09-17                          </td><td>11                                  </td><td>184-0014                            </td><td>東京都小金井市貫井南町**********    </td><td>S13002                              </td><td>20160304                            </td><td>0-00000000-0                        </td><td>                                    </td></tr>\n",
       "\t<tr><th scope=row>19812</th><td>CS004115000014                      </td><td>松井 京子,1                         </td><td>女性                                </td><td>2007-08-09                          </td><td>11                                  </td><td>165-0031                            </td><td>東京都中野区上鷺宮**********        </td><td>S13004                              </td><td>20161120                            </td><td>1-20081231-1                        </td><td>                                    </td></tr>\n",
       "\t<tr><th scope=row>1399</th><td>CS040113000005                      </td><td>尾崎 幸子,1                         </td><td>女性                                </td><td>2006-07-07                          </td><td>12                                  </td><td>194-0001                            </td><td>東京都町田市つくし野**********      </td><td>S14040                              </td><td>20151130                            </td><td>0-00000000-0                        </td><td>                                    </td></tr>\n",
       "\t<tr><th scope=row>2243</th><td>CS040112000011                      </td><td>柳川 陽子,1                         </td><td>女性                                </td><td>2006-05-21                          </td><td>12                                  </td><td>194-0014                            </td><td>東京都町田市高ヶ坂**********        </td><td>S14040                              </td><td>20180927                            </td><td>0-00000000-0                        </td><td>                                    </td></tr>\n",
       "\t<tr><th scope=row>10951</th><td>CS016114000006                      </td><td>高山 涼子,1                         </td><td>女性                                </td><td>2006-08-12                          </td><td>12                                  </td><td>184-0011                            </td><td>東京都小金井市東町**********        </td><td>S13016                              </td><td>20150514                            </td><td>9-20090628-7                        </td><td>                                    </td></tr>\n",
       "\t<tr><th scope=row>11606</th><td>CS004115000022                      </td><td>竹村 美帆,1                         </td><td>女性                                </td><td>2006-08-27                          </td><td>12                                  </td><td>165-0031                            </td><td>東京都中野区上鷺宮**********        </td><td>S13004                              </td><td>20161113                            </td><td>0-00000000-0                        </td><td>                                    </td></tr>\n",
       "\t<tr><th scope=row>13690</th><td>CS023114000002                      </td><td>葛西 茜,1                           </td><td>女性                                </td><td>2006-10-10                          </td><td>12                                  </td><td>144-0046                            </td><td>東京都大田区東六郷**********        </td><td>S14023                              </td><td>20150117                            </td><td>A-20100228-D                        </td><td>                                    </td></tr>\n",
       "\t<tr><th scope=row>14918</th><td>CS002112000013                      </td><td>森下 さやか,1                       </td><td>女性                                </td><td>2006-11-10                          </td><td>12                                  </td><td>190-0001                            </td><td>東京都立川市若葉町**********        </td><td>S13002                              </td><td>20171106                            </td><td>0-00000000-0                        </td><td>                                    </td></tr>\n",
       "\t<tr><th scope=row>15098</th><td>CS014113000008                      </td><td>矢口 莉緒,1                         </td><td>女性                                </td><td>2007-03-05                          </td><td>12                                  </td><td>260-0041                            </td><td>千葉県千葉市中央区東千葉**********  </td><td>S12014                              </td><td>20150622                            </td><td>3-20091108-6                        </td><td>                                    </td></tr>\n",
       "</tbody>\n",
       "</table>\n"
      ],
      "text/latex": [
       "\\begin{tabular}{r|lllllllllll}\n",
       "  & customer\\_id & customer\\_name & gender\\_cd & gender & birth\\_day & age & postal\\_cd & address & application\\_store\\_cd & application\\_date & status\\_cd\\\\\n",
       "\\hline\n",
       "\t3671 & CS025115000002                       & 小柳 夏希,1                          & 女性                                 & 2007-04-18                           & 11                                   & 245-0018                             & 神奈川県横浜市泉区上飯田町********** & S14025                               & 20160116                             & D-20100913-D                         &                                     \\\\\n",
       "\t10746 & CS002113000009                       & 柴田 真悠子,1                        & 女性                                 & 2007-09-17                           & 11                                   & 184-0014                             & 東京都小金井市貫井南町**********     & S13002                               & 20160304                             & 0-00000000-0                         &                                     \\\\\n",
       "\t19812 & CS004115000014                       & 松井 京子,1                          & 女性                                 & 2007-08-09                           & 11                                   & 165-0031                             & 東京都中野区上鷺宮**********         & S13004                               & 20161120                             & 1-20081231-1                         &                                     \\\\\n",
       "\t1399 & CS040113000005                       & 尾崎 幸子,1                          & 女性                                 & 2006-07-07                           & 12                                   & 194-0001                             & 東京都町田市つくし野**********       & S14040                               & 20151130                             & 0-00000000-0                         &                                     \\\\\n",
       "\t2243 & CS040112000011                       & 柳川 陽子,1                          & 女性                                 & 2006-05-21                           & 12                                   & 194-0014                             & 東京都町田市高ヶ坂**********         & S14040                               & 20180927                             & 0-00000000-0                         &                                     \\\\\n",
       "\t10951 & CS016114000006                       & 高山 涼子,1                          & 女性                                 & 2006-08-12                           & 12                                   & 184-0011                             & 東京都小金井市東町**********         & S13016                               & 20150514                             & 9-20090628-7                         &                                     \\\\\n",
       "\t11606 & CS004115000022                       & 竹村 美帆,1                          & 女性                                 & 2006-08-27                           & 12                                   & 165-0031                             & 東京都中野区上鷺宮**********         & S13004                               & 20161113                             & 0-00000000-0                         &                                     \\\\\n",
       "\t13690 & CS023114000002                       & 葛西 茜,1                            & 女性                                 & 2006-10-10                           & 12                                   & 144-0046                             & 東京都大田区東六郷**********         & S14023                               & 20150117                             & A-20100228-D                         &                                     \\\\\n",
       "\t14918 & CS002112000013                       & 森下 さやか,1                        & 女性                                 & 2006-11-10                           & 12                                   & 190-0001                             & 東京都立川市若葉町**********         & S13002                               & 20171106                             & 0-00000000-0                         &                                     \\\\\n",
       "\t15098 & CS014113000008                       & 矢口 莉緒,1                          & 女性                                 & 2007-03-05                           & 12                                   & 260-0041                             & 千葉県千葉市中央区東千葉**********   & S12014                               & 20150622                             & 3-20091108-6                         &                                     \\\\\n",
       "\\end{tabular}\n"
      ],
      "text/markdown": [
       "\n",
       "| <!--/--> | customer_id | customer_name | gender_cd | gender | birth_day | age | postal_cd | address | application_store_cd | application_date | status_cd |\n",
       "|---|---|---|---|---|---|---|---|---|---|---|---|\n",
       "| 3671 | CS025115000002                       | 小柳 夏希,1                          | 女性                                 | 2007-04-18                           | 11                                   | 245-0018                             | 神奈川県横浜市泉区上飯田町********** | S14025                               | 20160116                             | D-20100913-D                         |                                      |\n",
       "| 10746 | CS002113000009                       | 柴田 真悠子,1                        | 女性                                 | 2007-09-17                           | 11                                   | 184-0014                             | 東京都小金井市貫井南町**********     | S13002                               | 20160304                             | 0-00000000-0                         |                                      |\n",
       "| 19812 | CS004115000014                       | 松井 京子,1                          | 女性                                 | 2007-08-09                           | 11                                   | 165-0031                             | 東京都中野区上鷺宮**********         | S13004                               | 20161120                             | 1-20081231-1                         |                                      |\n",
       "| 1399 | CS040113000005                       | 尾崎 幸子,1                          | 女性                                 | 2006-07-07                           | 12                                   | 194-0001                             | 東京都町田市つくし野**********       | S14040                               | 20151130                             | 0-00000000-0                         |                                      |\n",
       "| 2243 | CS040112000011                       | 柳川 陽子,1                          | 女性                                 | 2006-05-21                           | 12                                   | 194-0014                             | 東京都町田市高ヶ坂**********         | S14040                               | 20180927                             | 0-00000000-0                         |                                      |\n",
       "| 10951 | CS016114000006                       | 高山 涼子,1                          | 女性                                 | 2006-08-12                           | 12                                   | 184-0011                             | 東京都小金井市東町**********         | S13016                               | 20150514                             | 9-20090628-7                         |                                      |\n",
       "| 11606 | CS004115000022                       | 竹村 美帆,1                          | 女性                                 | 2006-08-27                           | 12                                   | 165-0031                             | 東京都中野区上鷺宮**********         | S13004                               | 20161113                             | 0-00000000-0                         |                                      |\n",
       "| 13690 | CS023114000002                       | 葛西 茜,1                            | 女性                                 | 2006-10-10                           | 12                                   | 144-0046                             | 東京都大田区東六郷**********         | S14023                               | 20150117                             | A-20100228-D                         |                                      |\n",
       "| 14918 | CS002112000013                       | 森下 さやか,1                        | 女性                                 | 2006-11-10                           | 12                                   | 190-0001                             | 東京都立川市若葉町**********         | S13002                               | 20171106                             | 0-00000000-0                         |                                      |\n",
       "| 15098 | CS014113000008                       | 矢口 莉緒,1                          | 女性                                 | 2007-03-05                           | 12                                   | 260-0041                             | 千葉県千葉市中央区東千葉**********   | S12014                               | 20150622                             | 3-20091108-6                         |                                      |\n",
       "\n"
      ],
      "text/plain": [
       "      customer_id    customer_name gender_cd gender     birth_day age     \n",
       "3671  CS025115000002 小柳 夏希,1   女性      2007-04-18 11        245-0018\n",
       "10746 CS002113000009 柴田 真悠子,1 女性      2007-09-17 11        184-0014\n",
       "19812 CS004115000014 松井 京子,1   女性      2007-08-09 11        165-0031\n",
       "1399  CS040113000005 尾崎 幸子,1   女性      2006-07-07 12        194-0001\n",
       "2243  CS040112000011 柳川 陽子,1   女性      2006-05-21 12        194-0014\n",
       "10951 CS016114000006 高山 涼子,1   女性      2006-08-12 12        184-0011\n",
       "11606 CS004115000022 竹村 美帆,1   女性      2006-08-27 12        165-0031\n",
       "13690 CS023114000002 葛西 茜,1     女性      2006-10-10 12        144-0046\n",
       "14918 CS002112000013 森下 さやか,1 女性      2006-11-10 12        190-0001\n",
       "15098 CS014113000008 矢口 莉緒,1   女性      2007-03-05 12        260-0041\n",
       "      postal_cd                            address application_store_cd\n",
       "3671  神奈川県横浜市泉区上飯田町********** S14025  20160116            \n",
       "10746 東京都小金井市貫井南町**********     S13002  20160304            \n",
       "19812 東京都中野区上鷺宮**********         S13004  20161120            \n",
       "1399  東京都町田市つくし野**********       S14040  20151130            \n",
       "2243  東京都町田市高ヶ坂**********         S14040  20180927            \n",
       "10951 東京都小金井市東町**********         S13016  20150514            \n",
       "11606 東京都中野区上鷺宮**********         S13004  20161113            \n",
       "13690 東京都大田区東六郷**********         S14023  20150117            \n",
       "14918 東京都立川市若葉町**********         S13002  20171106            \n",
       "15098 千葉県千葉市中央区東千葉**********   S12014  20150622            \n",
       "      application_date status_cd\n",
       "3671  D-20100913-D              \n",
       "10746 0-00000000-0              \n",
       "19812 1-20081231-1              \n",
       "1399  0-00000000-0              \n",
       "2243  0-00000000-0              \n",
       "10951 9-20090628-7              \n",
       "11606 0-00000000-0              \n",
       "13690 A-20100228-D              \n",
       "14918 0-00000000-0              \n",
       "15098 3-20091108-6              "
      ]
     },
     "metadata": {},
     "output_type": "display_data"
    }
   ],
   "source": [
    "head(\n",
    "    df_customer[order(df_customer$birth_day\n",
    "                      , decreasing = FALSE), ],\n",
    "    n=10\n",
    ")"
   ]
  },
  {
   "cell_type": "markdown",
   "metadata": {},
   "source": [
    "---\n",
    "> R-018: 顧客データフレーム（df_customer）を生年月日（birth_day）で若い順にソートし、先頭10件を全項目表示せよ。"
   ]
  },
  {
   "cell_type": "code",
   "execution_count": 25,
   "metadata": {},
   "outputs": [
    {
     "data": {
      "text/html": [
       "<table>\n",
       "<thead><tr><th></th><th scope=col>customer_id</th><th scope=col>customer_name</th><th scope=col>gender_cd</th><th scope=col>gender</th><th scope=col>birth_day</th><th scope=col>age</th><th scope=col>postal_cd</th><th scope=col>address</th><th scope=col>application_store_cd</th><th scope=col>application_date</th><th scope=col>status_cd</th></tr></thead>\n",
       "<tbody>\n",
       "\t<tr><th scope=row>7512</th><td>CS001814000022                      </td><td>鶴田 里穂,1                         </td><td>女性                                </td><td>1929-01-28                          </td><td>90                                  </td><td>144-0045                            </td><td>東京都大田区南六郷**********        </td><td>S13001                              </td><td>20161012                            </td><td>A-20090415-7                        </td><td>                                    </td></tr>\n",
       "\t<tr><th scope=row>18818</th><td>CS003813000014                      </td><td>村山 菜々美,1                       </td><td>女性                                </td><td>1928-11-26                          </td><td>90                                  </td><td>182-0007                            </td><td>東京都調布市菊野台**********        </td><td>S13003                              </td><td>20160214                            </td><td>0-00000000-0                        </td><td>                                    </td></tr>\n",
       "\t<tr><th scope=row>36</th><td>CS003802000009                      </td><td>大森 照生,0                         </td><td>男性                                </td><td>1930-01-23                          </td><td>89                                  </td><td>214-0014                            </td><td>神奈川県川崎市多摩区登戸**********  </td><td>S13003                              </td><td>20150216                            </td><td>0-00000000-0                        </td><td>                                    </td></tr>\n",
       "\t<tr><th scope=row>128</th><td>CS001812000030                      </td><td>土屋 奈々,1                         </td><td>女性                                </td><td>1929-07-04                          </td><td>89                                  </td><td>212-0024                            </td><td>神奈川県川崎市幸区塚越**********    </td><td>S13001                              </td><td>20160821                            </td><td>0-00000000-0                        </td><td>                                    </td></tr>\n",
       "\t<tr><th scope=row>1122</th><td>CS008812000007                      </td><td>高嶋 路子,1                         </td><td>女性                                </td><td>1930-01-09                          </td><td>89                                  </td><td>213-0034                            </td><td>神奈川県川崎市高津区上作延**********</td><td>S13008                              </td><td>20150503                            </td><td>0-00000000-0                        </td><td>                                    </td></tr>\n",
       "\t<tr><th scope=row>1301</th><td>CS004814000023                      </td><td>荒井 七世,1                         </td><td>女性                                </td><td>1930-02-21                          </td><td>89                                  </td><td>176-0025                            </td><td>東京都練馬区中村南**********        </td><td>S13004                              </td><td>20170315                            </td><td>7-20100922-5                        </td><td>                                    </td></tr>\n",
       "\t<tr><th scope=row>2964</th><td>CS005812000018                      </td><td>砂川 瑠璃亜,1                       </td><td>女性                                </td><td>1929-08-22                          </td><td>89                                  </td><td>167-0032                            </td><td>東京都杉並区天沼**********          </td><td>S13005                              </td><td>20170916                            </td><td>0-00000000-0                        </td><td>                                    </td></tr>\n",
       "\t<tr><th scope=row>3447</th><td>CS038815000019                      </td><td>田辺 怜奈,1                         </td><td>女性                                </td><td>1930-01-29                          </td><td>89                                  </td><td>134-0084                            </td><td>東京都江戸川区東葛西**********      </td><td>S13038                              </td><td>20150829                            </td><td>0-00000000-0                        </td><td>                                    </td></tr>\n",
       "\t<tr><th scope=row>3535</th><td>CS004813000015                      </td><td>吉原 幸子,1                         </td><td>女性                                </td><td>1929-09-08                          </td><td>89                                  </td><td>165-0035                            </td><td>東京都中野区白鷺**********          </td><td>S13004                              </td><td>20150408                            </td><td>0-00000000-0                        </td><td>                                    </td></tr>\n",
       "\t<tr><th scope=row>3615</th><td>CS029803000002                      </td><td>加藤 浩介,0                         </td><td>男性                                </td><td>1929-10-28                          </td><td>89                                  </td><td>279-0041                            </td><td>千葉県浦安市堀江**********          </td><td>S12029                              </td><td>20150701                            </td><td>2-20100329-5                        </td><td>                                    </td></tr>\n",
       "</tbody>\n",
       "</table>\n"
      ],
      "text/latex": [
       "\\begin{tabular}{r|lllllllllll}\n",
       "  & customer\\_id & customer\\_name & gender\\_cd & gender & birth\\_day & age & postal\\_cd & address & application\\_store\\_cd & application\\_date & status\\_cd\\\\\n",
       "\\hline\n",
       "\t7512 & CS001814000022                       & 鶴田 里穂,1                          & 女性                                 & 1929-01-28                           & 90                                   & 144-0045                             & 東京都大田区南六郷**********         & S13001                               & 20161012                             & A-20090415-7                         &                                     \\\\\n",
       "\t18818 & CS003813000014                       & 村山 菜々美,1                        & 女性                                 & 1928-11-26                           & 90                                   & 182-0007                             & 東京都調布市菊野台**********         & S13003                               & 20160214                             & 0-00000000-0                         &                                     \\\\\n",
       "\t36 & CS003802000009                       & 大森 照生,0                          & 男性                                 & 1930-01-23                           & 89                                   & 214-0014                             & 神奈川県川崎市多摩区登戸**********   & S13003                               & 20150216                             & 0-00000000-0                         &                                     \\\\\n",
       "\t128 & CS001812000030                       & 土屋 奈々,1                          & 女性                                 & 1929-07-04                           & 89                                   & 212-0024                             & 神奈川県川崎市幸区塚越**********     & S13001                               & 20160821                             & 0-00000000-0                         &                                     \\\\\n",
       "\t1122 & CS008812000007                       & 高嶋 路子,1                          & 女性                                 & 1930-01-09                           & 89                                   & 213-0034                             & 神奈川県川崎市高津区上作延********** & S13008                               & 20150503                             & 0-00000000-0                         &                                     \\\\\n",
       "\t1301 & CS004814000023                       & 荒井 七世,1                          & 女性                                 & 1930-02-21                           & 89                                   & 176-0025                             & 東京都練馬区中村南**********         & S13004                               & 20170315                             & 7-20100922-5                         &                                     \\\\\n",
       "\t2964 & CS005812000018                       & 砂川 瑠璃亜,1                        & 女性                                 & 1929-08-22                           & 89                                   & 167-0032                             & 東京都杉並区天沼**********           & S13005                               & 20170916                             & 0-00000000-0                         &                                     \\\\\n",
       "\t3447 & CS038815000019                       & 田辺 怜奈,1                          & 女性                                 & 1930-01-29                           & 89                                   & 134-0084                             & 東京都江戸川区東葛西**********       & S13038                               & 20150829                             & 0-00000000-0                         &                                     \\\\\n",
       "\t3535 & CS004813000015                       & 吉原 幸子,1                          & 女性                                 & 1929-09-08                           & 89                                   & 165-0035                             & 東京都中野区白鷺**********           & S13004                               & 20150408                             & 0-00000000-0                         &                                     \\\\\n",
       "\t3615 & CS029803000002                       & 加藤 浩介,0                          & 男性                                 & 1929-10-28                           & 89                                   & 279-0041                             & 千葉県浦安市堀江**********           & S12029                               & 20150701                             & 2-20100329-5                         &                                     \\\\\n",
       "\\end{tabular}\n"
      ],
      "text/markdown": [
       "\n",
       "| <!--/--> | customer_id | customer_name | gender_cd | gender | birth_day | age | postal_cd | address | application_store_cd | application_date | status_cd |\n",
       "|---|---|---|---|---|---|---|---|---|---|---|---|\n",
       "| 7512 | CS001814000022                       | 鶴田 里穂,1                          | 女性                                 | 1929-01-28                           | 90                                   | 144-0045                             | 東京都大田区南六郷**********         | S13001                               | 20161012                             | A-20090415-7                         |                                      |\n",
       "| 18818 | CS003813000014                       | 村山 菜々美,1                        | 女性                                 | 1928-11-26                           | 90                                   | 182-0007                             | 東京都調布市菊野台**********         | S13003                               | 20160214                             | 0-00000000-0                         |                                      |\n",
       "| 36 | CS003802000009                       | 大森 照生,0                          | 男性                                 | 1930-01-23                           | 89                                   | 214-0014                             | 神奈川県川崎市多摩区登戸**********   | S13003                               | 20150216                             | 0-00000000-0                         |                                      |\n",
       "| 128 | CS001812000030                       | 土屋 奈々,1                          | 女性                                 | 1929-07-04                           | 89                                   | 212-0024                             | 神奈川県川崎市幸区塚越**********     | S13001                               | 20160821                             | 0-00000000-0                         |                                      |\n",
       "| 1122 | CS008812000007                       | 高嶋 路子,1                          | 女性                                 | 1930-01-09                           | 89                                   | 213-0034                             | 神奈川県川崎市高津区上作延********** | S13008                               | 20150503                             | 0-00000000-0                         |                                      |\n",
       "| 1301 | CS004814000023                       | 荒井 七世,1                          | 女性                                 | 1930-02-21                           | 89                                   | 176-0025                             | 東京都練馬区中村南**********         | S13004                               | 20170315                             | 7-20100922-5                         |                                      |\n",
       "| 2964 | CS005812000018                       | 砂川 瑠璃亜,1                        | 女性                                 | 1929-08-22                           | 89                                   | 167-0032                             | 東京都杉並区天沼**********           | S13005                               | 20170916                             | 0-00000000-0                         |                                      |\n",
       "| 3447 | CS038815000019                       | 田辺 怜奈,1                          | 女性                                 | 1930-01-29                           | 89                                   | 134-0084                             | 東京都江戸川区東葛西**********       | S13038                               | 20150829                             | 0-00000000-0                         |                                      |\n",
       "| 3535 | CS004813000015                       | 吉原 幸子,1                          | 女性                                 | 1929-09-08                           | 89                                   | 165-0035                             | 東京都中野区白鷺**********           | S13004                               | 20150408                             | 0-00000000-0                         |                                      |\n",
       "| 3615 | CS029803000002                       | 加藤 浩介,0                          | 男性                                 | 1929-10-28                           | 89                                   | 279-0041                             | 千葉県浦安市堀江**********           | S12029                               | 20150701                             | 2-20100329-5                         |                                      |\n",
       "\n"
      ],
      "text/plain": [
       "      customer_id    customer_name gender_cd gender     birth_day age     \n",
       "7512  CS001814000022 鶴田 里穂,1   女性      1929-01-28 90        144-0045\n",
       "18818 CS003813000014 村山 菜々美,1 女性      1928-11-26 90        182-0007\n",
       "36    CS003802000009 大森 照生,0   男性      1930-01-23 89        214-0014\n",
       "128   CS001812000030 土屋 奈々,1   女性      1929-07-04 89        212-0024\n",
       "1122  CS008812000007 高嶋 路子,1   女性      1930-01-09 89        213-0034\n",
       "1301  CS004814000023 荒井 七世,1   女性      1930-02-21 89        176-0025\n",
       "2964  CS005812000018 砂川 瑠璃亜,1 女性      1929-08-22 89        167-0032\n",
       "3447  CS038815000019 田辺 怜奈,1   女性      1930-01-29 89        134-0084\n",
       "3535  CS004813000015 吉原 幸子,1   女性      1929-09-08 89        165-0035\n",
       "3615  CS029803000002 加藤 浩介,0   男性      1929-10-28 89        279-0041\n",
       "      postal_cd                            address application_store_cd\n",
       "7512  東京都大田区南六郷**********         S13001  20161012            \n",
       "18818 東京都調布市菊野台**********         S13003  20160214            \n",
       "36    神奈川県川崎市多摩区登戸**********   S13003  20150216            \n",
       "128   神奈川県川崎市幸区塚越**********     S13001  20160821            \n",
       "1122  神奈川県川崎市高津区上作延********** S13008  20150503            \n",
       "1301  東京都練馬区中村南**********         S13004  20170315            \n",
       "2964  東京都杉並区天沼**********           S13005  20170916            \n",
       "3447  東京都江戸川区東葛西**********       S13038  20150829            \n",
       "3535  東京都中野区白鷺**********           S13004  20150408            \n",
       "3615  千葉県浦安市堀江**********           S12029  20150701            \n",
       "      application_date status_cd\n",
       "7512  A-20090415-7              \n",
       "18818 0-00000000-0              \n",
       "36    0-00000000-0              \n",
       "128   0-00000000-0              \n",
       "1122  0-00000000-0              \n",
       "1301  7-20100922-5              \n",
       "2964  0-00000000-0              \n",
       "3447  0-00000000-0              \n",
       "3535  0-00000000-0              \n",
       "3615  2-20100329-5              "
      ]
     },
     "metadata": {},
     "output_type": "display_data"
    }
   ],
   "source": [
    "head(\n",
    "    df_customer[order(df_customer$birth_day,\n",
    "                      decreasing = TRUE), ],\n",
    "    n=10\n",
    ")"
   ]
  },
  {
   "cell_type": "markdown",
   "metadata": {},
   "source": [
    "---\n",
    "> R-019: レシート明細データフレーム（df_receipt）に対し、1件あたりの売上金額（amount）が高い順にランクを付与し、先頭10件を抽出せよ。項目は顧客ID（customer_id）、売上金額（amount）、付与したランクを表示させること。なお、売上金額（amount）が等しい場合は同一順位を付与するものとする。"
   ]
  },
  {
   "cell_type": "code",
   "execution_count": 26,
   "metadata": {},
   "outputs": [
    {
     "data": {
      "text/html": [
       "<table>\n",
       "<thead><tr><th scope=col>sales_ymd</th><th scope=col>sales_epoch</th><th scope=col>store_cd</th><th scope=col>receipt_no</th><th scope=col>receipt_sub_no</th><th scope=col>customer_id</th><th scope=col>product_cd</th><th scope=col>quantity</th><th scope=col>amount</th><th scope=col>ranking</th></tr></thead>\n",
       "<tbody>\n",
       "\t<tr><td>20190903      </td><td>1283472000    </td><td>S14011        </td><td>1192          </td><td>2             </td><td>CS011415000006</td><td>P080104055    </td><td>1             </td><td>10925         </td><td>1             </td></tr>\n",
       "\t<tr><td>20190304      </td><td>1267660800    </td><td>S14046        </td><td>1152          </td><td>2             </td><td>ZZ000000000000</td><td>P090302118    </td><td>1             </td><td> 6800         </td><td>2             </td></tr>\n",
       "\t<tr><td>20170921      </td><td>1221955200    </td><td>S14028        </td><td>1192          </td><td>2             </td><td>CS028605000002</td><td>P090907210    </td><td>1             </td><td> 5780         </td><td>3             </td></tr>\n",
       "\t<tr><td>20170721      </td><td>1216598400    </td><td>S13015        </td><td>1112          </td><td>1             </td><td>CS015515000034</td><td>P090907208    </td><td>1             </td><td> 5480         </td><td>4             </td></tr>\n",
       "\t<tr><td>20190103      </td><td>1262476800    </td><td>S14021        </td><td>1162          </td><td>2             </td><td>ZZ000000000000</td><td>P090907208    </td><td>1             </td><td> 5480         </td><td>4             </td></tr>\n",
       "\t<tr><td>20190724      </td><td>1279929600    </td><td>S13009        </td><td>1192          </td><td>2             </td><td>ZZ000000000000</td><td>P090907209    </td><td>1             </td><td> 5480         </td><td>4             </td></tr>\n",
       "\t<tr><td>20180621      </td><td>1245542400    </td><td>S13004        </td><td>1172          </td><td>2             </td><td>ZZ000000000000</td><td>P090907206    </td><td>1             </td><td> 5440         </td><td>7             </td></tr>\n",
       "\t<tr><td>20190209      </td><td>1265673600    </td><td>S14021        </td><td>1142          </td><td>2             </td><td>CS021515000089</td><td>P090907206    </td><td>1             </td><td> 5440         </td><td>7             </td></tr>\n",
       "\t<tr><td>20181219      </td><td>1261180800    </td><td>S13015        </td><td>1132          </td><td>1             </td><td>CS015515000083</td><td>P071301009    </td><td>1             </td><td> 5280         </td><td>9             </td></tr>\n",
       "\t<tr><td>20180603      </td><td>1243987200    </td><td>S13017        </td><td>1192          </td><td>1             </td><td>CS017414000114</td><td>P071301009    </td><td>1             </td><td> 5280         </td><td>9             </td></tr>\n",
       "</tbody>\n",
       "</table>\n"
      ],
      "text/latex": [
       "\\begin{tabular}{r|llllllllll}\n",
       " sales\\_ymd & sales\\_epoch & store\\_cd & receipt\\_no & receipt\\_sub\\_no & customer\\_id & product\\_cd & quantity & amount & ranking\\\\\n",
       "\\hline\n",
       "\t 20190903       & 1283472000     & S14011         & 1192           & 2              & CS011415000006 & P080104055     & 1              & 10925          & 1             \\\\\n",
       "\t 20190304       & 1267660800     & S14046         & 1152           & 2              & ZZ000000000000 & P090302118     & 1              &  6800          & 2             \\\\\n",
       "\t 20170921       & 1221955200     & S14028         & 1192           & 2              & CS028605000002 & P090907210     & 1              &  5780          & 3             \\\\\n",
       "\t 20170721       & 1216598400     & S13015         & 1112           & 1              & CS015515000034 & P090907208     & 1              &  5480          & 4             \\\\\n",
       "\t 20190103       & 1262476800     & S14021         & 1162           & 2              & ZZ000000000000 & P090907208     & 1              &  5480          & 4             \\\\\n",
       "\t 20190724       & 1279929600     & S13009         & 1192           & 2              & ZZ000000000000 & P090907209     & 1              &  5480          & 4             \\\\\n",
       "\t 20180621       & 1245542400     & S13004         & 1172           & 2              & ZZ000000000000 & P090907206     & 1              &  5440          & 7             \\\\\n",
       "\t 20190209       & 1265673600     & S14021         & 1142           & 2              & CS021515000089 & P090907206     & 1              &  5440          & 7             \\\\\n",
       "\t 20181219       & 1261180800     & S13015         & 1132           & 1              & CS015515000083 & P071301009     & 1              &  5280          & 9             \\\\\n",
       "\t 20180603       & 1243987200     & S13017         & 1192           & 1              & CS017414000114 & P071301009     & 1              &  5280          & 9             \\\\\n",
       "\\end{tabular}\n"
      ],
      "text/markdown": [
       "\n",
       "| sales_ymd | sales_epoch | store_cd | receipt_no | receipt_sub_no | customer_id | product_cd | quantity | amount | ranking |\n",
       "|---|---|---|---|---|---|---|---|---|---|\n",
       "| 20190903       | 1283472000     | S14011         | 1192           | 2              | CS011415000006 | P080104055     | 1              | 10925          | 1              |\n",
       "| 20190304       | 1267660800     | S14046         | 1152           | 2              | ZZ000000000000 | P090302118     | 1              |  6800          | 2              |\n",
       "| 20170921       | 1221955200     | S14028         | 1192           | 2              | CS028605000002 | P090907210     | 1              |  5780          | 3              |\n",
       "| 20170721       | 1216598400     | S13015         | 1112           | 1              | CS015515000034 | P090907208     | 1              |  5480          | 4              |\n",
       "| 20190103       | 1262476800     | S14021         | 1162           | 2              | ZZ000000000000 | P090907208     | 1              |  5480          | 4              |\n",
       "| 20190724       | 1279929600     | S13009         | 1192           | 2              | ZZ000000000000 | P090907209     | 1              |  5480          | 4              |\n",
       "| 20180621       | 1245542400     | S13004         | 1172           | 2              | ZZ000000000000 | P090907206     | 1              |  5440          | 7              |\n",
       "| 20190209       | 1265673600     | S14021         | 1142           | 2              | CS021515000089 | P090907206     | 1              |  5440          | 7              |\n",
       "| 20181219       | 1261180800     | S13015         | 1132           | 1              | CS015515000083 | P071301009     | 1              |  5280          | 9              |\n",
       "| 20180603       | 1243987200     | S13017         | 1192           | 1              | CS017414000114 | P071301009     | 1              |  5280          | 9              |\n",
       "\n"
      ],
      "text/plain": [
       "   sales_ymd sales_epoch store_cd receipt_no receipt_sub_no customer_id   \n",
       "1  20190903  1283472000  S14011   1192       2              CS011415000006\n",
       "2  20190304  1267660800  S14046   1152       2              ZZ000000000000\n",
       "3  20170921  1221955200  S14028   1192       2              CS028605000002\n",
       "4  20170721  1216598400  S13015   1112       1              CS015515000034\n",
       "5  20190103  1262476800  S14021   1162       2              ZZ000000000000\n",
       "6  20190724  1279929600  S13009   1192       2              ZZ000000000000\n",
       "7  20180621  1245542400  S13004   1172       2              ZZ000000000000\n",
       "8  20190209  1265673600  S14021   1142       2              CS021515000089\n",
       "9  20181219  1261180800  S13015   1132       1              CS015515000083\n",
       "10 20180603  1243987200  S13017   1192       1              CS017414000114\n",
       "   product_cd quantity amount ranking\n",
       "1  P080104055 1        10925  1      \n",
       "2  P090302118 1         6800  2      \n",
       "3  P090907210 1         5780  3      \n",
       "4  P090907208 1         5480  4      \n",
       "5  P090907208 1         5480  4      \n",
       "6  P090907209 1         5480  4      \n",
       "7  P090907206 1         5440  7      \n",
       "8  P090907206 1         5440  7      \n",
       "9  P071301009 1         5280  9      \n",
       "10 P071301009 1         5280  9      "
      ]
     },
     "metadata": {},
     "output_type": "display_data"
    }
   ],
   "source": [
    "df_receipt %>%\n",
    "    mutate(ranking = min_rank(desc(amount))) %>%\n",
    "    arrange(ranking) %>%\n",
    "    slice(1:10) "
   ]
  },
  {
   "cell_type": "markdown",
   "metadata": {},
   "source": [
    "---\n",
    "> R-020: レシート明細データフレーム（df_receipt）に対し、1件あたりの売上金額（amount）が高い順にランクを付与し、先頭10件を抽出せよ。項目は顧客ID（customer_id）、売上金額（amount）、付与したランクを表示させること。なお、売上金額（amount）が等しい場合でも別順位を付与すること。"
   ]
  },
  {
   "cell_type": "code",
   "execution_count": 27,
   "metadata": {},
   "outputs": [
    {
     "data": {
      "text/html": [
       "<table>\n",
       "<thead><tr><th scope=col>sales_ymd</th><th scope=col>sales_epoch</th><th scope=col>store_cd</th><th scope=col>receipt_no</th><th scope=col>receipt_sub_no</th><th scope=col>customer_id</th><th scope=col>product_cd</th><th scope=col>quantity</th><th scope=col>amount</th><th scope=col>ranking</th></tr></thead>\n",
       "<tbody>\n",
       "\t<tr><td>20190903      </td><td>1283472000    </td><td>S14011        </td><td>1192          </td><td>2             </td><td>CS011415000006</td><td>P080104055    </td><td>1             </td><td>10925         </td><td> 1            </td></tr>\n",
       "\t<tr><td>20190304      </td><td>1267660800    </td><td>S14046        </td><td>1152          </td><td>2             </td><td>ZZ000000000000</td><td>P090302118    </td><td>1             </td><td> 6800         </td><td> 2            </td></tr>\n",
       "\t<tr><td>20170921      </td><td>1221955200    </td><td>S14028        </td><td>1192          </td><td>2             </td><td>CS028605000002</td><td>P090907210    </td><td>1             </td><td> 5780         </td><td> 3            </td></tr>\n",
       "\t<tr><td>20170721      </td><td>1216598400    </td><td>S13015        </td><td>1112          </td><td>1             </td><td>CS015515000034</td><td>P090907208    </td><td>1             </td><td> 5480         </td><td> 4            </td></tr>\n",
       "\t<tr><td>20190103      </td><td>1262476800    </td><td>S14021        </td><td>1162          </td><td>2             </td><td>ZZ000000000000</td><td>P090907208    </td><td>1             </td><td> 5480         </td><td> 5            </td></tr>\n",
       "\t<tr><td>20190724      </td><td>1279929600    </td><td>S13009        </td><td>1192          </td><td>2             </td><td>ZZ000000000000</td><td>P090907209    </td><td>1             </td><td> 5480         </td><td> 6            </td></tr>\n",
       "\t<tr><td>20180621      </td><td>1245542400    </td><td>S13004        </td><td>1172          </td><td>2             </td><td>ZZ000000000000</td><td>P090907206    </td><td>1             </td><td> 5440         </td><td> 7            </td></tr>\n",
       "\t<tr><td>20190209      </td><td>1265673600    </td><td>S14021        </td><td>1142          </td><td>2             </td><td>CS021515000089</td><td>P090907206    </td><td>1             </td><td> 5440         </td><td> 8            </td></tr>\n",
       "\t<tr><td>20181219      </td><td>1261180800    </td><td>S13015        </td><td>1132          </td><td>1             </td><td>CS015515000083</td><td>P071301009    </td><td>1             </td><td> 5280         </td><td> 9            </td></tr>\n",
       "\t<tr><td>20180603      </td><td>1243987200    </td><td>S13017        </td><td>1192          </td><td>1             </td><td>CS017414000114</td><td>P071301009    </td><td>1             </td><td> 5280         </td><td>10            </td></tr>\n",
       "</tbody>\n",
       "</table>\n"
      ],
      "text/latex": [
       "\\begin{tabular}{r|llllllllll}\n",
       " sales\\_ymd & sales\\_epoch & store\\_cd & receipt\\_no & receipt\\_sub\\_no & customer\\_id & product\\_cd & quantity & amount & ranking\\\\\n",
       "\\hline\n",
       "\t 20190903       & 1283472000     & S14011         & 1192           & 2              & CS011415000006 & P080104055     & 1              & 10925          &  1            \\\\\n",
       "\t 20190304       & 1267660800     & S14046         & 1152           & 2              & ZZ000000000000 & P090302118     & 1              &  6800          &  2            \\\\\n",
       "\t 20170921       & 1221955200     & S14028         & 1192           & 2              & CS028605000002 & P090907210     & 1              &  5780          &  3            \\\\\n",
       "\t 20170721       & 1216598400     & S13015         & 1112           & 1              & CS015515000034 & P090907208     & 1              &  5480          &  4            \\\\\n",
       "\t 20190103       & 1262476800     & S14021         & 1162           & 2              & ZZ000000000000 & P090907208     & 1              &  5480          &  5            \\\\\n",
       "\t 20190724       & 1279929600     & S13009         & 1192           & 2              & ZZ000000000000 & P090907209     & 1              &  5480          &  6            \\\\\n",
       "\t 20180621       & 1245542400     & S13004         & 1172           & 2              & ZZ000000000000 & P090907206     & 1              &  5440          &  7            \\\\\n",
       "\t 20190209       & 1265673600     & S14021         & 1142           & 2              & CS021515000089 & P090907206     & 1              &  5440          &  8            \\\\\n",
       "\t 20181219       & 1261180800     & S13015         & 1132           & 1              & CS015515000083 & P071301009     & 1              &  5280          &  9            \\\\\n",
       "\t 20180603       & 1243987200     & S13017         & 1192           & 1              & CS017414000114 & P071301009     & 1              &  5280          & 10            \\\\\n",
       "\\end{tabular}\n"
      ],
      "text/markdown": [
       "\n",
       "| sales_ymd | sales_epoch | store_cd | receipt_no | receipt_sub_no | customer_id | product_cd | quantity | amount | ranking |\n",
       "|---|---|---|---|---|---|---|---|---|---|\n",
       "| 20190903       | 1283472000     | S14011         | 1192           | 2              | CS011415000006 | P080104055     | 1              | 10925          |  1             |\n",
       "| 20190304       | 1267660800     | S14046         | 1152           | 2              | ZZ000000000000 | P090302118     | 1              |  6800          |  2             |\n",
       "| 20170921       | 1221955200     | S14028         | 1192           | 2              | CS028605000002 | P090907210     | 1              |  5780          |  3             |\n",
       "| 20170721       | 1216598400     | S13015         | 1112           | 1              | CS015515000034 | P090907208     | 1              |  5480          |  4             |\n",
       "| 20190103       | 1262476800     | S14021         | 1162           | 2              | ZZ000000000000 | P090907208     | 1              |  5480          |  5             |\n",
       "| 20190724       | 1279929600     | S13009         | 1192           | 2              | ZZ000000000000 | P090907209     | 1              |  5480          |  6             |\n",
       "| 20180621       | 1245542400     | S13004         | 1172           | 2              | ZZ000000000000 | P090907206     | 1              |  5440          |  7             |\n",
       "| 20190209       | 1265673600     | S14021         | 1142           | 2              | CS021515000089 | P090907206     | 1              |  5440          |  8             |\n",
       "| 20181219       | 1261180800     | S13015         | 1132           | 1              | CS015515000083 | P071301009     | 1              |  5280          |  9             |\n",
       "| 20180603       | 1243987200     | S13017         | 1192           | 1              | CS017414000114 | P071301009     | 1              |  5280          | 10             |\n",
       "\n"
      ],
      "text/plain": [
       "   sales_ymd sales_epoch store_cd receipt_no receipt_sub_no customer_id   \n",
       "1  20190903  1283472000  S14011   1192       2              CS011415000006\n",
       "2  20190304  1267660800  S14046   1152       2              ZZ000000000000\n",
       "3  20170921  1221955200  S14028   1192       2              CS028605000002\n",
       "4  20170721  1216598400  S13015   1112       1              CS015515000034\n",
       "5  20190103  1262476800  S14021   1162       2              ZZ000000000000\n",
       "6  20190724  1279929600  S13009   1192       2              ZZ000000000000\n",
       "7  20180621  1245542400  S13004   1172       2              ZZ000000000000\n",
       "8  20190209  1265673600  S14021   1142       2              CS021515000089\n",
       "9  20181219  1261180800  S13015   1132       1              CS015515000083\n",
       "10 20180603  1243987200  S13017   1192       1              CS017414000114\n",
       "   product_cd quantity amount ranking\n",
       "1  P080104055 1        10925   1     \n",
       "2  P090302118 1         6800   2     \n",
       "3  P090907210 1         5780   3     \n",
       "4  P090907208 1         5480   4     \n",
       "5  P090907208 1         5480   5     \n",
       "6  P090907209 1         5480   6     \n",
       "7  P090907206 1         5440   7     \n",
       "8  P090907206 1         5440   8     \n",
       "9  P071301009 1         5280   9     \n",
       "10 P071301009 1         5280  10     "
      ]
     },
     "metadata": {},
     "output_type": "display_data"
    }
   ],
   "source": [
    "df_receipt %>%\n",
    "    mutate(ranking = row_number(desc(amount))) %>%\n",
    "    arrange(ranking) %>%\n",
    "    slice(1:10) "
   ]
  },
  {
   "cell_type": "markdown",
   "metadata": {},
   "source": [
    "---\n",
    "> R-021: レシート明細データフレーム（df_receipt）に対し、件数をカウントせよ。"
   ]
  },
  {
   "cell_type": "code",
   "execution_count": 28,
   "metadata": {},
   "outputs": [
    {
     "data": {
      "text/html": [
       "104681"
      ],
      "text/latex": [
       "104681"
      ],
      "text/markdown": [
       "104681"
      ],
      "text/plain": [
       "[1] 104681"
      ]
     },
     "metadata": {},
     "output_type": "display_data"
    }
   ],
   "source": [
    "nrow(df_receipt)"
   ]
  },
  {
   "cell_type": "markdown",
   "metadata": {},
   "source": [
    "---\n",
    "> R-022: レシート明細データフレーム（df_receipt）の顧客ID（customer_id）に対し、ユニーク件数をカウントせよ。"
   ]
  },
  {
   "cell_type": "code",
   "execution_count": 29,
   "metadata": {},
   "outputs": [
    {
     "data": {
      "text/html": [
       "8307"
      ],
      "text/latex": [
       "8307"
      ],
      "text/markdown": [
       "8307"
      ],
      "text/plain": [
       "[1] 8307"
      ]
     },
     "metadata": {},
     "output_type": "display_data"
    }
   ],
   "source": [
    "length(unique(df_receipt$customer_id))"
   ]
  },
  {
   "cell_type": "markdown",
   "metadata": {},
   "source": [
    "---\n",
    "> R-023: レシート明細データフレーム（df_receipt）に対し、店舗コード（store_cd）ごとに売上金額（amount）と売上数量（quantity）を合計せよ。"
   ]
  },
  {
   "cell_type": "code",
   "execution_count": 30,
   "metadata": {},
   "outputs": [
    {
     "name": "stderr",
     "output_type": "stream",
     "text": [
      "`summarise()` ungrouping output (override with `.groups` argument)\n"
     ]
    },
    {
     "data": {
      "text/html": [
       "<table>\n",
       "<thead><tr><th scope=col>store_cd</th><th scope=col>amount</th><th scope=col>quantity</th></tr></thead>\n",
       "<tbody>\n",
       "\t<tr><td>S12007</td><td>638761</td><td>2099  </td></tr>\n",
       "\t<tr><td>S12013</td><td>787513</td><td>2425  </td></tr>\n",
       "\t<tr><td>S12014</td><td>725167</td><td>2358  </td></tr>\n",
       "\t<tr><td>S12029</td><td>794741</td><td>2555  </td></tr>\n",
       "\t<tr><td>S12030</td><td>684402</td><td>2403  </td></tr>\n",
       "\t<tr><td>S13001</td><td>811936</td><td>2347  </td></tr>\n",
       "\t<tr><td>S13002</td><td>727821</td><td>2340  </td></tr>\n",
       "\t<tr><td>S13003</td><td>764294</td><td>2197  </td></tr>\n",
       "\t<tr><td>S13004</td><td>779373</td><td>2390  </td></tr>\n",
       "\t<tr><td>S13005</td><td>629876</td><td>2004  </td></tr>\n",
       "\t<tr><td>S13008</td><td>809288</td><td>2491  </td></tr>\n",
       "\t<tr><td>S13009</td><td>808870</td><td>2486  </td></tr>\n",
       "\t<tr><td>S13015</td><td>780873</td><td>2248  </td></tr>\n",
       "\t<tr><td>S13016</td><td>793773</td><td>2432  </td></tr>\n",
       "\t<tr><td>S13017</td><td>748221</td><td>2376  </td></tr>\n",
       "\t<tr><td>S13018</td><td>790535</td><td>2562  </td></tr>\n",
       "\t<tr><td>S13019</td><td>827833</td><td>2541  </td></tr>\n",
       "\t<tr><td>S13020</td><td>796383</td><td>2383  </td></tr>\n",
       "\t<tr><td>S13031</td><td>705968</td><td>2336  </td></tr>\n",
       "\t<tr><td>S13032</td><td>790501</td><td>2491  </td></tr>\n",
       "\t<tr><td>S13035</td><td>715869</td><td>2219  </td></tr>\n",
       "\t<tr><td>S13037</td><td>693087</td><td>2344  </td></tr>\n",
       "\t<tr><td>S13038</td><td>708884</td><td>2337  </td></tr>\n",
       "\t<tr><td>S13039</td><td>611888</td><td>1981  </td></tr>\n",
       "\t<tr><td>S13041</td><td>728266</td><td>2233  </td></tr>\n",
       "\t<tr><td>S13043</td><td>587895</td><td>1881  </td></tr>\n",
       "\t<tr><td>S13044</td><td>520764</td><td>1729  </td></tr>\n",
       "\t<tr><td>S13051</td><td>107452</td><td> 354  </td></tr>\n",
       "\t<tr><td>S13052</td><td>100314</td><td> 250  </td></tr>\n",
       "\t<tr><td>S14006</td><td>712839</td><td>2284  </td></tr>\n",
       "\t<tr><td>S14010</td><td>790361</td><td>2290  </td></tr>\n",
       "\t<tr><td>S14011</td><td>805724</td><td>2434  </td></tr>\n",
       "\t<tr><td>S14012</td><td>720600</td><td>2412  </td></tr>\n",
       "\t<tr><td>S14021</td><td>699511</td><td>2231  </td></tr>\n",
       "\t<tr><td>S14022</td><td>651328</td><td>2047  </td></tr>\n",
       "\t<tr><td>S14023</td><td>727630</td><td>2258  </td></tr>\n",
       "\t<tr><td>S14024</td><td>736323</td><td>2417  </td></tr>\n",
       "\t<tr><td>S14025</td><td>755581</td><td>2394  </td></tr>\n",
       "\t<tr><td>S14026</td><td>824537</td><td>2503  </td></tr>\n",
       "\t<tr><td>S14027</td><td>714550</td><td>2303  </td></tr>\n",
       "\t<tr><td>S14028</td><td>786145</td><td>2458  </td></tr>\n",
       "\t<tr><td>S14033</td><td>725318</td><td>2282  </td></tr>\n",
       "\t<tr><td>S14034</td><td>653681</td><td>2024  </td></tr>\n",
       "\t<tr><td>S14036</td><td>203694</td><td> 635  </td></tr>\n",
       "\t<tr><td>S14040</td><td>701858</td><td>2233  </td></tr>\n",
       "\t<tr><td>S14042</td><td>534689</td><td>1935  </td></tr>\n",
       "\t<tr><td>S14045</td><td>458484</td><td>1398  </td></tr>\n",
       "\t<tr><td>S14046</td><td>412646</td><td>1354  </td></tr>\n",
       "\t<tr><td>S14047</td><td>338329</td><td>1041  </td></tr>\n",
       "\t<tr><td>S14048</td><td>234276</td><td> 769  </td></tr>\n",
       "\t<tr><td>S14049</td><td>230808</td><td> 788  </td></tr>\n",
       "\t<tr><td>S14050</td><td>167090</td><td> 580  </td></tr>\n",
       "</tbody>\n",
       "</table>\n"
      ],
      "text/latex": [
       "\\begin{tabular}{r|lll}\n",
       " store\\_cd & amount & quantity\\\\\n",
       "\\hline\n",
       "\t S12007 & 638761 & 2099  \\\\\n",
       "\t S12013 & 787513 & 2425  \\\\\n",
       "\t S12014 & 725167 & 2358  \\\\\n",
       "\t S12029 & 794741 & 2555  \\\\\n",
       "\t S12030 & 684402 & 2403  \\\\\n",
       "\t S13001 & 811936 & 2347  \\\\\n",
       "\t S13002 & 727821 & 2340  \\\\\n",
       "\t S13003 & 764294 & 2197  \\\\\n",
       "\t S13004 & 779373 & 2390  \\\\\n",
       "\t S13005 & 629876 & 2004  \\\\\n",
       "\t S13008 & 809288 & 2491  \\\\\n",
       "\t S13009 & 808870 & 2486  \\\\\n",
       "\t S13015 & 780873 & 2248  \\\\\n",
       "\t S13016 & 793773 & 2432  \\\\\n",
       "\t S13017 & 748221 & 2376  \\\\\n",
       "\t S13018 & 790535 & 2562  \\\\\n",
       "\t S13019 & 827833 & 2541  \\\\\n",
       "\t S13020 & 796383 & 2383  \\\\\n",
       "\t S13031 & 705968 & 2336  \\\\\n",
       "\t S13032 & 790501 & 2491  \\\\\n",
       "\t S13035 & 715869 & 2219  \\\\\n",
       "\t S13037 & 693087 & 2344  \\\\\n",
       "\t S13038 & 708884 & 2337  \\\\\n",
       "\t S13039 & 611888 & 1981  \\\\\n",
       "\t S13041 & 728266 & 2233  \\\\\n",
       "\t S13043 & 587895 & 1881  \\\\\n",
       "\t S13044 & 520764 & 1729  \\\\\n",
       "\t S13051 & 107452 &  354  \\\\\n",
       "\t S13052 & 100314 &  250  \\\\\n",
       "\t S14006 & 712839 & 2284  \\\\\n",
       "\t S14010 & 790361 & 2290  \\\\\n",
       "\t S14011 & 805724 & 2434  \\\\\n",
       "\t S14012 & 720600 & 2412  \\\\\n",
       "\t S14021 & 699511 & 2231  \\\\\n",
       "\t S14022 & 651328 & 2047  \\\\\n",
       "\t S14023 & 727630 & 2258  \\\\\n",
       "\t S14024 & 736323 & 2417  \\\\\n",
       "\t S14025 & 755581 & 2394  \\\\\n",
       "\t S14026 & 824537 & 2503  \\\\\n",
       "\t S14027 & 714550 & 2303  \\\\\n",
       "\t S14028 & 786145 & 2458  \\\\\n",
       "\t S14033 & 725318 & 2282  \\\\\n",
       "\t S14034 & 653681 & 2024  \\\\\n",
       "\t S14036 & 203694 &  635  \\\\\n",
       "\t S14040 & 701858 & 2233  \\\\\n",
       "\t S14042 & 534689 & 1935  \\\\\n",
       "\t S14045 & 458484 & 1398  \\\\\n",
       "\t S14046 & 412646 & 1354  \\\\\n",
       "\t S14047 & 338329 & 1041  \\\\\n",
       "\t S14048 & 234276 &  769  \\\\\n",
       "\t S14049 & 230808 &  788  \\\\\n",
       "\t S14050 & 167090 &  580  \\\\\n",
       "\\end{tabular}\n"
      ],
      "text/markdown": [
       "\n",
       "| store_cd | amount | quantity |\n",
       "|---|---|---|\n",
       "| S12007 | 638761 | 2099   |\n",
       "| S12013 | 787513 | 2425   |\n",
       "| S12014 | 725167 | 2358   |\n",
       "| S12029 | 794741 | 2555   |\n",
       "| S12030 | 684402 | 2403   |\n",
       "| S13001 | 811936 | 2347   |\n",
       "| S13002 | 727821 | 2340   |\n",
       "| S13003 | 764294 | 2197   |\n",
       "| S13004 | 779373 | 2390   |\n",
       "| S13005 | 629876 | 2004   |\n",
       "| S13008 | 809288 | 2491   |\n",
       "| S13009 | 808870 | 2486   |\n",
       "| S13015 | 780873 | 2248   |\n",
       "| S13016 | 793773 | 2432   |\n",
       "| S13017 | 748221 | 2376   |\n",
       "| S13018 | 790535 | 2562   |\n",
       "| S13019 | 827833 | 2541   |\n",
       "| S13020 | 796383 | 2383   |\n",
       "| S13031 | 705968 | 2336   |\n",
       "| S13032 | 790501 | 2491   |\n",
       "| S13035 | 715869 | 2219   |\n",
       "| S13037 | 693087 | 2344   |\n",
       "| S13038 | 708884 | 2337   |\n",
       "| S13039 | 611888 | 1981   |\n",
       "| S13041 | 728266 | 2233   |\n",
       "| S13043 | 587895 | 1881   |\n",
       "| S13044 | 520764 | 1729   |\n",
       "| S13051 | 107452 |  354   |\n",
       "| S13052 | 100314 |  250   |\n",
       "| S14006 | 712839 | 2284   |\n",
       "| S14010 | 790361 | 2290   |\n",
       "| S14011 | 805724 | 2434   |\n",
       "| S14012 | 720600 | 2412   |\n",
       "| S14021 | 699511 | 2231   |\n",
       "| S14022 | 651328 | 2047   |\n",
       "| S14023 | 727630 | 2258   |\n",
       "| S14024 | 736323 | 2417   |\n",
       "| S14025 | 755581 | 2394   |\n",
       "| S14026 | 824537 | 2503   |\n",
       "| S14027 | 714550 | 2303   |\n",
       "| S14028 | 786145 | 2458   |\n",
       "| S14033 | 725318 | 2282   |\n",
       "| S14034 | 653681 | 2024   |\n",
       "| S14036 | 203694 |  635   |\n",
       "| S14040 | 701858 | 2233   |\n",
       "| S14042 | 534689 | 1935   |\n",
       "| S14045 | 458484 | 1398   |\n",
       "| S14046 | 412646 | 1354   |\n",
       "| S14047 | 338329 | 1041   |\n",
       "| S14048 | 234276 |  769   |\n",
       "| S14049 | 230808 |  788   |\n",
       "| S14050 | 167090 |  580   |\n",
       "\n"
      ],
      "text/plain": [
       "   store_cd amount quantity\n",
       "1  S12007   638761 2099    \n",
       "2  S12013   787513 2425    \n",
       "3  S12014   725167 2358    \n",
       "4  S12029   794741 2555    \n",
       "5  S12030   684402 2403    \n",
       "6  S13001   811936 2347    \n",
       "7  S13002   727821 2340    \n",
       "8  S13003   764294 2197    \n",
       "9  S13004   779373 2390    \n",
       "10 S13005   629876 2004    \n",
       "11 S13008   809288 2491    \n",
       "12 S13009   808870 2486    \n",
       "13 S13015   780873 2248    \n",
       "14 S13016   793773 2432    \n",
       "15 S13017   748221 2376    \n",
       "16 S13018   790535 2562    \n",
       "17 S13019   827833 2541    \n",
       "18 S13020   796383 2383    \n",
       "19 S13031   705968 2336    \n",
       "20 S13032   790501 2491    \n",
       "21 S13035   715869 2219    \n",
       "22 S13037   693087 2344    \n",
       "23 S13038   708884 2337    \n",
       "24 S13039   611888 1981    \n",
       "25 S13041   728266 2233    \n",
       "26 S13043   587895 1881    \n",
       "27 S13044   520764 1729    \n",
       "28 S13051   107452  354    \n",
       "29 S13052   100314  250    \n",
       "30 S14006   712839 2284    \n",
       "31 S14010   790361 2290    \n",
       "32 S14011   805724 2434    \n",
       "33 S14012   720600 2412    \n",
       "34 S14021   699511 2231    \n",
       "35 S14022   651328 2047    \n",
       "36 S14023   727630 2258    \n",
       "37 S14024   736323 2417    \n",
       "38 S14025   755581 2394    \n",
       "39 S14026   824537 2503    \n",
       "40 S14027   714550 2303    \n",
       "41 S14028   786145 2458    \n",
       "42 S14033   725318 2282    \n",
       "43 S14034   653681 2024    \n",
       "44 S14036   203694  635    \n",
       "45 S14040   701858 2233    \n",
       "46 S14042   534689 1935    \n",
       "47 S14045   458484 1398    \n",
       "48 S14046   412646 1354    \n",
       "49 S14047   338329 1041    \n",
       "50 S14048   234276  769    \n",
       "51 S14049   230808  788    \n",
       "52 S14050   167090  580    "
      ]
     },
     "metadata": {},
     "output_type": "display_data"
    }
   ],
   "source": [
    "df_receipt %>%\n",
    "    group_by(store_cd) %>%\n",
    "    summarise(amount=sum(amount),\n",
    "              quantity=sum(quantity))"
   ]
  },
  {
   "cell_type": "markdown",
   "metadata": {},
   "source": [
    "---\n",
    "> R-024: レシート明細データフレーム（df_receipt）に対し、顧客ID（customer_id）ごとに最も新しい売上日（sales_ymd）を求め、10件表示せよ。"
   ]
  },
  {
   "cell_type": "code",
   "execution_count": 31,
   "metadata": {},
   "outputs": [
    {
     "name": "stderr",
     "output_type": "stream",
     "text": [
      "`summarise()` ungrouping output (override with `.groups` argument)\n"
     ]
    },
    {
     "data": {
      "text/html": [
       "<table>\n",
       "<thead><tr><th scope=col>customer_id</th><th scope=col>max_ymd</th></tr></thead>\n",
       "<tbody>\n",
       "\t<tr><td>CS001113000004</td><td>20190308      </td></tr>\n",
       "\t<tr><td>CS001114000005</td><td>20190731      </td></tr>\n",
       "\t<tr><td>CS001115000010</td><td>20190405      </td></tr>\n",
       "\t<tr><td>CS001205000004</td><td>20190625      </td></tr>\n",
       "\t<tr><td>CS001205000006</td><td>20190224      </td></tr>\n",
       "\t<tr><td>CS001211000025</td><td>20190322      </td></tr>\n",
       "\t<tr><td>CS001212000027</td><td>20170127      </td></tr>\n",
       "\t<tr><td>CS001212000031</td><td>20180906      </td></tr>\n",
       "\t<tr><td>CS001212000046</td><td>20170811      </td></tr>\n",
       "\t<tr><td>CS001212000070</td><td>20191018      </td></tr>\n",
       "</tbody>\n",
       "</table>\n"
      ],
      "text/latex": [
       "\\begin{tabular}{r|ll}\n",
       " customer\\_id & max\\_ymd\\\\\n",
       "\\hline\n",
       "\t CS001113000004 & 20190308      \\\\\n",
       "\t CS001114000005 & 20190731      \\\\\n",
       "\t CS001115000010 & 20190405      \\\\\n",
       "\t CS001205000004 & 20190625      \\\\\n",
       "\t CS001205000006 & 20190224      \\\\\n",
       "\t CS001211000025 & 20190322      \\\\\n",
       "\t CS001212000027 & 20170127      \\\\\n",
       "\t CS001212000031 & 20180906      \\\\\n",
       "\t CS001212000046 & 20170811      \\\\\n",
       "\t CS001212000070 & 20191018      \\\\\n",
       "\\end{tabular}\n"
      ],
      "text/markdown": [
       "\n",
       "| customer_id | max_ymd |\n",
       "|---|---|\n",
       "| CS001113000004 | 20190308       |\n",
       "| CS001114000005 | 20190731       |\n",
       "| CS001115000010 | 20190405       |\n",
       "| CS001205000004 | 20190625       |\n",
       "| CS001205000006 | 20190224       |\n",
       "| CS001211000025 | 20190322       |\n",
       "| CS001212000027 | 20170127       |\n",
       "| CS001212000031 | 20180906       |\n",
       "| CS001212000046 | 20170811       |\n",
       "| CS001212000070 | 20191018       |\n",
       "\n"
      ],
      "text/plain": [
       "   customer_id    max_ymd \n",
       "1  CS001113000004 20190308\n",
       "2  CS001114000005 20190731\n",
       "3  CS001115000010 20190405\n",
       "4  CS001205000004 20190625\n",
       "5  CS001205000006 20190224\n",
       "6  CS001211000025 20190322\n",
       "7  CS001212000027 20170127\n",
       "8  CS001212000031 20180906\n",
       "9  CS001212000046 20170811\n",
       "10 CS001212000070 20191018"
      ]
     },
     "metadata": {},
     "output_type": "display_data"
    }
   ],
   "source": [
    "df_receipt %>%\n",
    "    group_by(customer_id) %>%\n",
    "    summarise(max_ymd=max(sales_ymd)) %>%\n",
    "    slice(1:10)"
   ]
  },
  {
   "cell_type": "markdown",
   "metadata": {},
   "source": [
    "---\n",
    "> R-025: レシート明細データフレーム（df_receipt）に対し、顧客ID（customer_id）ごとに最も古い売上日（sales_ymd）を求め、10件表示せよ。"
   ]
  },
  {
   "cell_type": "code",
   "execution_count": 32,
   "metadata": {},
   "outputs": [
    {
     "name": "stderr",
     "output_type": "stream",
     "text": [
      "`summarise()` ungrouping output (override with `.groups` argument)\n"
     ]
    },
    {
     "data": {
      "text/html": [
       "<table>\n",
       "<thead><tr><th scope=col>customer_id</th><th scope=col>min_ymd</th></tr></thead>\n",
       "<tbody>\n",
       "\t<tr><td>CS001113000004</td><td>20190308      </td></tr>\n",
       "\t<tr><td>CS001114000005</td><td>20180503      </td></tr>\n",
       "\t<tr><td>CS001115000010</td><td>20171228      </td></tr>\n",
       "\t<tr><td>CS001205000004</td><td>20170914      </td></tr>\n",
       "\t<tr><td>CS001205000006</td><td>20180207      </td></tr>\n",
       "\t<tr><td>CS001211000025</td><td>20190322      </td></tr>\n",
       "\t<tr><td>CS001212000027</td><td>20170127      </td></tr>\n",
       "\t<tr><td>CS001212000031</td><td>20180906      </td></tr>\n",
       "\t<tr><td>CS001212000046</td><td>20170811      </td></tr>\n",
       "\t<tr><td>CS001212000070</td><td>20191018      </td></tr>\n",
       "</tbody>\n",
       "</table>\n"
      ],
      "text/latex": [
       "\\begin{tabular}{r|ll}\n",
       " customer\\_id & min\\_ymd\\\\\n",
       "\\hline\n",
       "\t CS001113000004 & 20190308      \\\\\n",
       "\t CS001114000005 & 20180503      \\\\\n",
       "\t CS001115000010 & 20171228      \\\\\n",
       "\t CS001205000004 & 20170914      \\\\\n",
       "\t CS001205000006 & 20180207      \\\\\n",
       "\t CS001211000025 & 20190322      \\\\\n",
       "\t CS001212000027 & 20170127      \\\\\n",
       "\t CS001212000031 & 20180906      \\\\\n",
       "\t CS001212000046 & 20170811      \\\\\n",
       "\t CS001212000070 & 20191018      \\\\\n",
       "\\end{tabular}\n"
      ],
      "text/markdown": [
       "\n",
       "| customer_id | min_ymd |\n",
       "|---|---|\n",
       "| CS001113000004 | 20190308       |\n",
       "| CS001114000005 | 20180503       |\n",
       "| CS001115000010 | 20171228       |\n",
       "| CS001205000004 | 20170914       |\n",
       "| CS001205000006 | 20180207       |\n",
       "| CS001211000025 | 20190322       |\n",
       "| CS001212000027 | 20170127       |\n",
       "| CS001212000031 | 20180906       |\n",
       "| CS001212000046 | 20170811       |\n",
       "| CS001212000070 | 20191018       |\n",
       "\n"
      ],
      "text/plain": [
       "   customer_id    min_ymd \n",
       "1  CS001113000004 20190308\n",
       "2  CS001114000005 20180503\n",
       "3  CS001115000010 20171228\n",
       "4  CS001205000004 20170914\n",
       "5  CS001205000006 20180207\n",
       "6  CS001211000025 20190322\n",
       "7  CS001212000027 20170127\n",
       "8  CS001212000031 20180906\n",
       "9  CS001212000046 20170811\n",
       "10 CS001212000070 20191018"
      ]
     },
     "metadata": {},
     "output_type": "display_data"
    }
   ],
   "source": [
    "df_receipt %>%\n",
    "    group_by(customer_id) %>%\n",
    "    summarise(min_ymd=min(sales_ymd)) %>%\n",
    "    slice(1:10)"
   ]
  },
  {
   "cell_type": "markdown",
   "metadata": {},
   "source": [
    "---\n",
    "> R-026: レシート明細データフレーム（df_receipt）に対し、顧客ID（customer_id）ごとに最も新しい売上日（sales_ymd）と古い売上日を求め、両者が異なるデータを10件表示せよ。"
   ]
  },
  {
   "cell_type": "code",
   "execution_count": 33,
   "metadata": {},
   "outputs": [
    {
     "name": "stderr",
     "output_type": "stream",
     "text": [
      "`summarise()` ungrouping output (override with `.groups` argument)\n"
     ]
    },
    {
     "data": {
      "text/html": [
       "<table>\n",
       "<thead><tr><th scope=col>customer_id</th><th scope=col>max_ymd</th><th scope=col>min_ymd</th></tr></thead>\n",
       "<tbody>\n",
       "\t<tr><td>CS001114000005</td><td>20190731      </td><td>20180503      </td></tr>\n",
       "\t<tr><td>CS001115000010</td><td>20190405      </td><td>20171228      </td></tr>\n",
       "\t<tr><td>CS001205000004</td><td>20190625      </td><td>20170914      </td></tr>\n",
       "\t<tr><td>CS001205000006</td><td>20190224      </td><td>20180207      </td></tr>\n",
       "\t<tr><td>CS001214000009</td><td>20190902      </td><td>20170306      </td></tr>\n",
       "\t<tr><td>CS001214000017</td><td>20191006      </td><td>20180828      </td></tr>\n",
       "\t<tr><td>CS001214000048</td><td>20190929      </td><td>20171109      </td></tr>\n",
       "\t<tr><td>CS001214000052</td><td>20190617      </td><td>20180208      </td></tr>\n",
       "\t<tr><td>CS001215000005</td><td>20181021      </td><td>20170206      </td></tr>\n",
       "\t<tr><td>CS001215000040</td><td>20171022      </td><td>20170214      </td></tr>\n",
       "</tbody>\n",
       "</table>\n"
      ],
      "text/latex": [
       "\\begin{tabular}{r|lll}\n",
       " customer\\_id & max\\_ymd & min\\_ymd\\\\\n",
       "\\hline\n",
       "\t CS001114000005 & 20190731       & 20180503      \\\\\n",
       "\t CS001115000010 & 20190405       & 20171228      \\\\\n",
       "\t CS001205000004 & 20190625       & 20170914      \\\\\n",
       "\t CS001205000006 & 20190224       & 20180207      \\\\\n",
       "\t CS001214000009 & 20190902       & 20170306      \\\\\n",
       "\t CS001214000017 & 20191006       & 20180828      \\\\\n",
       "\t CS001214000048 & 20190929       & 20171109      \\\\\n",
       "\t CS001214000052 & 20190617       & 20180208      \\\\\n",
       "\t CS001215000005 & 20181021       & 20170206      \\\\\n",
       "\t CS001215000040 & 20171022       & 20170214      \\\\\n",
       "\\end{tabular}\n"
      ],
      "text/markdown": [
       "\n",
       "| customer_id | max_ymd | min_ymd |\n",
       "|---|---|---|\n",
       "| CS001114000005 | 20190731       | 20180503       |\n",
       "| CS001115000010 | 20190405       | 20171228       |\n",
       "| CS001205000004 | 20190625       | 20170914       |\n",
       "| CS001205000006 | 20190224       | 20180207       |\n",
       "| CS001214000009 | 20190902       | 20170306       |\n",
       "| CS001214000017 | 20191006       | 20180828       |\n",
       "| CS001214000048 | 20190929       | 20171109       |\n",
       "| CS001214000052 | 20190617       | 20180208       |\n",
       "| CS001215000005 | 20181021       | 20170206       |\n",
       "| CS001215000040 | 20171022       | 20170214       |\n",
       "\n"
      ],
      "text/plain": [
       "   customer_id    max_ymd  min_ymd \n",
       "1  CS001114000005 20190731 20180503\n",
       "2  CS001115000010 20190405 20171228\n",
       "3  CS001205000004 20190625 20170914\n",
       "4  CS001205000006 20190224 20180207\n",
       "5  CS001214000009 20190902 20170306\n",
       "6  CS001214000017 20191006 20180828\n",
       "7  CS001214000048 20190929 20171109\n",
       "8  CS001214000052 20190617 20180208\n",
       "9  CS001215000005 20181021 20170206\n",
       "10 CS001215000040 20171022 20170214"
      ]
     },
     "metadata": {},
     "output_type": "display_data"
    }
   ],
   "source": [
    "df_receipt %>%\n",
    "    group_by(customer_id) %>%\n",
    "    summarise(max_ymd=max(sales_ymd)\n",
    "             ,min_ymd=min(sales_ymd)) %>%\n",
    "    filter(max_ymd != min_ymd) %>%\n",
    "    slice(1:10)"
   ]
  },
  {
   "cell_type": "markdown",
   "metadata": {},
   "source": [
    "---\n",
    "> R-027: レシート明細データフレーム（df_receipt）に対し、店舗コード（store_cd）ごとに売上金額（amount）の平均を計算し、降順でTOP5を表示せよ。"
   ]
  },
  {
   "cell_type": "code",
   "execution_count": 34,
   "metadata": {},
   "outputs": [
    {
     "name": "stderr",
     "output_type": "stream",
     "text": [
      "`summarise()` ungrouping output (override with `.groups` argument)\n"
     ]
    },
    {
     "data": {
      "text/html": [
       "<table>\n",
       "<thead><tr><th scope=col>store_cd</th><th scope=col>mean_amount</th></tr></thead>\n",
       "<tbody>\n",
       "\t<tr><td>S13052  </td><td>402.8675</td></tr>\n",
       "\t<tr><td>S13015  </td><td>351.1120</td></tr>\n",
       "\t<tr><td>S13003  </td><td>350.9155</td></tr>\n",
       "\t<tr><td>S14010  </td><td>348.7913</td></tr>\n",
       "\t<tr><td>S13001  </td><td>348.4704</td></tr>\n",
       "</tbody>\n",
       "</table>\n"
      ],
      "text/latex": [
       "\\begin{tabular}{r|ll}\n",
       " store\\_cd & mean\\_amount\\\\\n",
       "\\hline\n",
       "\t S13052   & 402.8675\\\\\n",
       "\t S13015   & 351.1120\\\\\n",
       "\t S13003   & 350.9155\\\\\n",
       "\t S14010   & 348.7913\\\\\n",
       "\t S13001   & 348.4704\\\\\n",
       "\\end{tabular}\n"
      ],
      "text/markdown": [
       "\n",
       "| store_cd | mean_amount |\n",
       "|---|---|\n",
       "| S13052   | 402.8675 |\n",
       "| S13015   | 351.1120 |\n",
       "| S13003   | 350.9155 |\n",
       "| S14010   | 348.7913 |\n",
       "| S13001   | 348.4704 |\n",
       "\n"
      ],
      "text/plain": [
       "  store_cd mean_amount\n",
       "1 S13052   402.8675   \n",
       "2 S13015   351.1120   \n",
       "3 S13003   350.9155   \n",
       "4 S14010   348.7913   \n",
       "5 S13001   348.4704   "
      ]
     },
     "metadata": {},
     "output_type": "display_data"
    }
   ],
   "source": [
    "df_receipt %>%\n",
    "    group_by(store_cd) %>%\n",
    "    summarise(mean_amount=mean(amount)) %>%\n",
    "    arrange(desc(mean_amount)) %>%\n",
    "    slice(1:5)"
   ]
  },
  {
   "cell_type": "markdown",
   "metadata": {},
   "source": [
    "---\n",
    "> R-028: レシート明細データフレーム（df_receipt）に対し、店舗コード（store_cd）ごとに売上金額（amount）の中央値を計算し、降順でTOP5を表示せよ。"
   ]
  },
  {
   "cell_type": "code",
   "execution_count": 35,
   "metadata": {},
   "outputs": [
    {
     "name": "stderr",
     "output_type": "stream",
     "text": [
      "`summarise()` ungrouping output (override with `.groups` argument)\n"
     ]
    },
    {
     "data": {
      "text/html": [
       "<table>\n",
       "<thead><tr><th scope=col>store_cd</th><th scope=col>median_amount</th></tr></thead>\n",
       "<tbody>\n",
       "\t<tr><td>S13052</td><td>190   </td></tr>\n",
       "\t<tr><td>S14010</td><td>188   </td></tr>\n",
       "\t<tr><td>S14050</td><td>185   </td></tr>\n",
       "\t<tr><td>S13003</td><td>180   </td></tr>\n",
       "\t<tr><td>S13018</td><td>180   </td></tr>\n",
       "</tbody>\n",
       "</table>\n"
      ],
      "text/latex": [
       "\\begin{tabular}{r|ll}\n",
       " store\\_cd & median\\_amount\\\\\n",
       "\\hline\n",
       "\t S13052 & 190   \\\\\n",
       "\t S14010 & 188   \\\\\n",
       "\t S14050 & 185   \\\\\n",
       "\t S13003 & 180   \\\\\n",
       "\t S13018 & 180   \\\\\n",
       "\\end{tabular}\n"
      ],
      "text/markdown": [
       "\n",
       "| store_cd | median_amount |\n",
       "|---|---|\n",
       "| S13052 | 190    |\n",
       "| S14010 | 188    |\n",
       "| S14050 | 185    |\n",
       "| S13003 | 180    |\n",
       "| S13018 | 180    |\n",
       "\n"
      ],
      "text/plain": [
       "  store_cd median_amount\n",
       "1 S13052   190          \n",
       "2 S14010   188          \n",
       "3 S14050   185          \n",
       "4 S13003   180          \n",
       "5 S13018   180          "
      ]
     },
     "metadata": {},
     "output_type": "display_data"
    }
   ],
   "source": [
    "df_receipt %>%\n",
    "    group_by(store_cd) %>%\n",
    "    summarise(median_amount=median(amount)) %>%\n",
    "    arrange(desc(median_amount)) %>%\n",
    "    slice(1:5)"
   ]
  },
  {
   "cell_type": "markdown",
   "metadata": {},
   "source": [
    "---\n",
    "> R-029: レシート明細データフレーム（df_receipt）に対し、店舗コード（store_cd）ごとに商品コード（product_cd）の最頻値を求めよ。"
   ]
  },
  {
   "cell_type": "code",
   "execution_count": 36,
   "metadata": {},
   "outputs": [
    {
     "data": {
      "text/html": [
       "<table>\n",
       "<thead><tr><th scope=col>store_cd</th><th scope=col>store_cd.1</th></tr></thead>\n",
       "<tbody>\n",
       "\t<tr><td>1         </td><td>P060303001</td></tr>\n",
       "\t<tr><td>2         </td><td>P060303001</td></tr>\n",
       "\t<tr><td>3         </td><td>P060303001</td></tr>\n",
       "\t<tr><td>4         </td><td>P060303001</td></tr>\n",
       "\t<tr><td>5         </td><td>P060303001</td></tr>\n",
       "\t<tr><td>6         </td><td>P060303001</td></tr>\n",
       "\t<tr><td>7         </td><td>P060303001</td></tr>\n",
       "\t<tr><td>8         </td><td>P071401001</td></tr>\n",
       "\t<tr><td>9         </td><td>P060303001</td></tr>\n",
       "\t<tr><td>10        </td><td>P040503001</td></tr>\n",
       "\t<tr><td>11        </td><td>P060303001</td></tr>\n",
       "\t<tr><td>12        </td><td>P060303001</td></tr>\n",
       "\t<tr><td>13        </td><td>P071401001</td></tr>\n",
       "\t<tr><td>14        </td><td>P071102001</td></tr>\n",
       "\t<tr><td>15        </td><td>P060101002</td></tr>\n",
       "\t<tr><td>16        </td><td>P071401001</td></tr>\n",
       "\t<tr><td>17        </td><td>P071401001</td></tr>\n",
       "\t<tr><td>18        </td><td>P071401001</td></tr>\n",
       "\t<tr><td>19        </td><td>P060303001</td></tr>\n",
       "\t<tr><td>20        </td><td>P060303001</td></tr>\n",
       "\t<tr><td>21        </td><td>P040503001</td></tr>\n",
       "\t<tr><td>22        </td><td>P060303001</td></tr>\n",
       "\t<tr><td>23        </td><td>P060303001</td></tr>\n",
       "\t<tr><td>24        </td><td>P071401001</td></tr>\n",
       "\t<tr><td>25        </td><td>P071401001</td></tr>\n",
       "\t<tr><td>26        </td><td>P060303001</td></tr>\n",
       "\t<tr><td>27        </td><td>P060303001</td></tr>\n",
       "\t<tr><td>28        </td><td>P050102001</td></tr>\n",
       "\t<tr><td>29        </td><td>P050101001</td></tr>\n",
       "\t<tr><td>30        </td><td>P060303001</td></tr>\n",
       "\t<tr><td>31        </td><td>P060303001</td></tr>\n",
       "\t<tr><td>32        </td><td>P060101001</td></tr>\n",
       "\t<tr><td>33        </td><td>P060303001</td></tr>\n",
       "\t<tr><td>34        </td><td>P060101001</td></tr>\n",
       "\t<tr><td>35        </td><td>P060303001</td></tr>\n",
       "\t<tr><td>36        </td><td>P071401001</td></tr>\n",
       "\t<tr><td>37        </td><td>P060303001</td></tr>\n",
       "\t<tr><td>38        </td><td>P060303001</td></tr>\n",
       "\t<tr><td>39        </td><td>P071401001</td></tr>\n",
       "\t<tr><td>40        </td><td>P060303001</td></tr>\n",
       "\t<tr><td>41        </td><td>P060303001</td></tr>\n",
       "\t<tr><td>42        </td><td>P071401001</td></tr>\n",
       "\t<tr><td>43        </td><td>P060303001</td></tr>\n",
       "\t<tr><td>44        </td><td>P040503001</td></tr>\n",
       "\t<tr><td>45        </td><td>P060303001</td></tr>\n",
       "\t<tr><td>46        </td><td>P050101001</td></tr>\n",
       "\t<tr><td>47        </td><td>P060303001</td></tr>\n",
       "\t<tr><td>48        </td><td>P060303001</td></tr>\n",
       "\t<tr><td>49        </td><td>P060303001</td></tr>\n",
       "\t<tr><td>50        </td><td>P050101001</td></tr>\n",
       "\t<tr><td>51        </td><td>P060303001</td></tr>\n",
       "\t<tr><td>52        </td><td>P060303001</td></tr>\n",
       "</tbody>\n",
       "</table>\n"
      ],
      "text/latex": [
       "\\begin{tabular}{r|ll}\n",
       " store\\_cd & store\\_cd.1\\\\\n",
       "\\hline\n",
       "\t 1          & P060303001\\\\\n",
       "\t 2          & P060303001\\\\\n",
       "\t 3          & P060303001\\\\\n",
       "\t 4          & P060303001\\\\\n",
       "\t 5          & P060303001\\\\\n",
       "\t 6          & P060303001\\\\\n",
       "\t 7          & P060303001\\\\\n",
       "\t 8          & P071401001\\\\\n",
       "\t 9          & P060303001\\\\\n",
       "\t 10         & P040503001\\\\\n",
       "\t 11         & P060303001\\\\\n",
       "\t 12         & P060303001\\\\\n",
       "\t 13         & P071401001\\\\\n",
       "\t 14         & P071102001\\\\\n",
       "\t 15         & P060101002\\\\\n",
       "\t 16         & P071401001\\\\\n",
       "\t 17         & P071401001\\\\\n",
       "\t 18         & P071401001\\\\\n",
       "\t 19         & P060303001\\\\\n",
       "\t 20         & P060303001\\\\\n",
       "\t 21         & P040503001\\\\\n",
       "\t 22         & P060303001\\\\\n",
       "\t 23         & P060303001\\\\\n",
       "\t 24         & P071401001\\\\\n",
       "\t 25         & P071401001\\\\\n",
       "\t 26         & P060303001\\\\\n",
       "\t 27         & P060303001\\\\\n",
       "\t 28         & P050102001\\\\\n",
       "\t 29         & P050101001\\\\\n",
       "\t 30         & P060303001\\\\\n",
       "\t 31         & P060303001\\\\\n",
       "\t 32         & P060101001\\\\\n",
       "\t 33         & P060303001\\\\\n",
       "\t 34         & P060101001\\\\\n",
       "\t 35         & P060303001\\\\\n",
       "\t 36         & P071401001\\\\\n",
       "\t 37         & P060303001\\\\\n",
       "\t 38         & P060303001\\\\\n",
       "\t 39         & P071401001\\\\\n",
       "\t 40         & P060303001\\\\\n",
       "\t 41         & P060303001\\\\\n",
       "\t 42         & P071401001\\\\\n",
       "\t 43         & P060303001\\\\\n",
       "\t 44         & P040503001\\\\\n",
       "\t 45         & P060303001\\\\\n",
       "\t 46         & P050101001\\\\\n",
       "\t 47         & P060303001\\\\\n",
       "\t 48         & P060303001\\\\\n",
       "\t 49         & P060303001\\\\\n",
       "\t 50         & P050101001\\\\\n",
       "\t 51         & P060303001\\\\\n",
       "\t 52         & P060303001\\\\\n",
       "\\end{tabular}\n"
      ],
      "text/markdown": [
       "\n",
       "| store_cd | store_cd.1 |\n",
       "|---|---|\n",
       "| 1          | P060303001 |\n",
       "| 2          | P060303001 |\n",
       "| 3          | P060303001 |\n",
       "| 4          | P060303001 |\n",
       "| 5          | P060303001 |\n",
       "| 6          | P060303001 |\n",
       "| 7          | P060303001 |\n",
       "| 8          | P071401001 |\n",
       "| 9          | P060303001 |\n",
       "| 10         | P040503001 |\n",
       "| 11         | P060303001 |\n",
       "| 12         | P060303001 |\n",
       "| 13         | P071401001 |\n",
       "| 14         | P071102001 |\n",
       "| 15         | P060101002 |\n",
       "| 16         | P071401001 |\n",
       "| 17         | P071401001 |\n",
       "| 18         | P071401001 |\n",
       "| 19         | P060303001 |\n",
       "| 20         | P060303001 |\n",
       "| 21         | P040503001 |\n",
       "| 22         | P060303001 |\n",
       "| 23         | P060303001 |\n",
       "| 24         | P071401001 |\n",
       "| 25         | P071401001 |\n",
       "| 26         | P060303001 |\n",
       "| 27         | P060303001 |\n",
       "| 28         | P050102001 |\n",
       "| 29         | P050101001 |\n",
       "| 30         | P060303001 |\n",
       "| 31         | P060303001 |\n",
       "| 32         | P060101001 |\n",
       "| 33         | P060303001 |\n",
       "| 34         | P060101001 |\n",
       "| 35         | P060303001 |\n",
       "| 36         | P071401001 |\n",
       "| 37         | P060303001 |\n",
       "| 38         | P060303001 |\n",
       "| 39         | P071401001 |\n",
       "| 40         | P060303001 |\n",
       "| 41         | P060303001 |\n",
       "| 42         | P071401001 |\n",
       "| 43         | P060303001 |\n",
       "| 44         | P040503001 |\n",
       "| 45         | P060303001 |\n",
       "| 46         | P050101001 |\n",
       "| 47         | P060303001 |\n",
       "| 48         | P060303001 |\n",
       "| 49         | P060303001 |\n",
       "| 50         | P050101001 |\n",
       "| 51         | P060303001 |\n",
       "| 52         | P060303001 |\n",
       "\n"
      ],
      "text/plain": [
       "   store_cd store_cd.1\n",
       "1  1        P060303001\n",
       "2  2        P060303001\n",
       "3  3        P060303001\n",
       "4  4        P060303001\n",
       "5  5        P060303001\n",
       "6  6        P060303001\n",
       "7  7        P060303001\n",
       "8  8        P071401001\n",
       "9  9        P060303001\n",
       "10 10       P040503001\n",
       "11 11       P060303001\n",
       "12 12       P060303001\n",
       "13 13       P071401001\n",
       "14 14       P071102001\n",
       "15 15       P060101002\n",
       "16 16       P071401001\n",
       "17 17       P071401001\n",
       "18 18       P071401001\n",
       "19 19       P060303001\n",
       "20 20       P060303001\n",
       "21 21       P040503001\n",
       "22 22       P060303001\n",
       "23 23       P060303001\n",
       "24 24       P071401001\n",
       "25 25       P071401001\n",
       "26 26       P060303001\n",
       "27 27       P060303001\n",
       "28 28       P050102001\n",
       "29 29       P050101001\n",
       "30 30       P060303001\n",
       "31 31       P060303001\n",
       "32 32       P060101001\n",
       "33 33       P060303001\n",
       "34 34       P060101001\n",
       "35 35       P060303001\n",
       "36 36       P071401001\n",
       "37 37       P060303001\n",
       "38 38       P060303001\n",
       "39 39       P071401001\n",
       "40 40       P060303001\n",
       "41 41       P060303001\n",
       "42 42       P071401001\n",
       "43 43       P060303001\n",
       "44 44       P040503001\n",
       "45 45       P060303001\n",
       "46 46       P050101001\n",
       "47 47       P060303001\n",
       "48 48       P060303001\n",
       "49 49       P060303001\n",
       "50 50       P050101001\n",
       "51 51       P060303001\n",
       "52 52       P060303001"
      ]
     },
     "metadata": {},
     "output_type": "display_data"
    }
   ],
   "source": [
    "table_product <-table(c(df_receipt$store_cd), df_receipt$product_cd)\n",
    "\n",
    "store <- names(table_product[,1])\n",
    "\n",
    "mode_product <- c()\n",
    "for (i in 1:length(store)){\n",
    "    mode_product[i] <- names(which.max(table_product[i,]))\n",
    "}\n",
    "\n",
    "data.frame(store_cd = store, store_cd = mode_product)"
   ]
  },
  {
   "cell_type": "markdown",
   "metadata": {},
   "source": [
    "---\n",
    "> R-030: レシート明細データフレーム（df_receipt）に対し、店舗コード（store_cd）ごとに売上金額（amount）の標本分散を計算し、降順でTOP5を表示せよ。"
   ]
  },
  {
   "cell_type": "code",
   "execution_count": 37,
   "metadata": {},
   "outputs": [
    {
     "name": "stderr",
     "output_type": "stream",
     "text": [
      "`summarise()` ungrouping output (override with `.groups` argument)\n"
     ]
    },
    {
     "data": {
      "text/html": [
       "<table>\n",
       "<thead><tr><th scope=col>store_cd</th><th scope=col>var_amount</th></tr></thead>\n",
       "<tbody>\n",
       "\t<tr><td>S13052  </td><td>440088.7</td></tr>\n",
       "\t<tr><td>S14011  </td><td>306314.6</td></tr>\n",
       "\t<tr><td>S14034  </td><td>296920.1</td></tr>\n",
       "\t<tr><td>S13001  </td><td>295432.0</td></tr>\n",
       "\t<tr><td>S13015  </td><td>295294.4</td></tr>\n",
       "</tbody>\n",
       "</table>\n"
      ],
      "text/latex": [
       "\\begin{tabular}{r|ll}\n",
       " store\\_cd & var\\_amount\\\\\n",
       "\\hline\n",
       "\t S13052   & 440088.7\\\\\n",
       "\t S14011   & 306314.6\\\\\n",
       "\t S14034   & 296920.1\\\\\n",
       "\t S13001   & 295432.0\\\\\n",
       "\t S13015   & 295294.4\\\\\n",
       "\\end{tabular}\n"
      ],
      "text/markdown": [
       "\n",
       "| store_cd | var_amount |\n",
       "|---|---|\n",
       "| S13052   | 440088.7 |\n",
       "| S14011   | 306314.6 |\n",
       "| S14034   | 296920.1 |\n",
       "| S13001   | 295432.0 |\n",
       "| S13015   | 295294.4 |\n",
       "\n"
      ],
      "text/plain": [
       "  store_cd var_amount\n",
       "1 S13052   440088.7  \n",
       "2 S14011   306314.6  \n",
       "3 S14034   296920.1  \n",
       "4 S13001   295432.0  \n",
       "5 S13015   295294.4  "
      ]
     },
     "metadata": {},
     "output_type": "display_data"
    }
   ],
   "source": [
    "var_sample <- function(x){ var(x)*(length(x)-1)/length(x) }\n",
    "\n",
    "\n",
    "df_receipt %>%\n",
    "    group_by(store_cd) %>%\n",
    "    summarise(var_amount=var_sample(amount)) %>%\n",
    "    arrange(desc(var_amount)) %>%\n",
    "    slice(1:5)"
   ]
  },
  {
   "cell_type": "markdown",
   "metadata": {},
   "source": [
    "---\n",
    "> R-031: レシート明細データフレーム（df_receipt）に対し、店舗コード（store_cd）ごとに売上金額（amount）の標本標準偏差を計算し、降順でTOP5を表示せよ。"
   ]
  },
  {
   "cell_type": "code",
   "execution_count": 38,
   "metadata": {},
   "outputs": [
    {
     "name": "stderr",
     "output_type": "stream",
     "text": [
      "`summarise()` ungrouping output (override with `.groups` argument)\n"
     ]
    },
    {
     "data": {
      "text/html": [
       "<table>\n",
       "<thead><tr><th scope=col>store_cd</th><th scope=col>std_amount</th></tr></thead>\n",
       "<tbody>\n",
       "\t<tr><td>S13052  </td><td>663.3918</td></tr>\n",
       "\t<tr><td>S14011  </td><td>553.4569</td></tr>\n",
       "\t<tr><td>S14034  </td><td>544.9037</td></tr>\n",
       "\t<tr><td>S13001  </td><td>543.5366</td></tr>\n",
       "\t<tr><td>S13015  </td><td>543.4099</td></tr>\n",
       "</tbody>\n",
       "</table>\n"
      ],
      "text/latex": [
       "\\begin{tabular}{r|ll}\n",
       " store\\_cd & std\\_amount\\\\\n",
       "\\hline\n",
       "\t S13052   & 663.3918\\\\\n",
       "\t S14011   & 553.4569\\\\\n",
       "\t S14034   & 544.9037\\\\\n",
       "\t S13001   & 543.5366\\\\\n",
       "\t S13015   & 543.4099\\\\\n",
       "\\end{tabular}\n"
      ],
      "text/markdown": [
       "\n",
       "| store_cd | std_amount |\n",
       "|---|---|\n",
       "| S13052   | 663.3918 |\n",
       "| S14011   | 553.4569 |\n",
       "| S14034   | 544.9037 |\n",
       "| S13001   | 543.5366 |\n",
       "| S13015   | 543.4099 |\n",
       "\n"
      ],
      "text/plain": [
       "  store_cd std_amount\n",
       "1 S13052   663.3918  \n",
       "2 S14011   553.4569  \n",
       "3 S14034   544.9037  \n",
       "4 S13001   543.5366  \n",
       "5 S13015   543.4099  "
      ]
     },
     "metadata": {},
     "output_type": "display_data"
    }
   ],
   "source": [
    "var_sample <- function(x){ var(x)*(length(x)-1)/length(x) }\n",
    "std_sample <- function(x){ sqrt(var_sample(x)) }\n",
    "\n",
    "head(\n",
    "    df_receipt %>%\n",
    "        group_by(store_cd) %>%\n",
    "        summarise(std_amount=std_sample(amount)) %>%\n",
    "        arrange(desc(std_amount))\n",
    "    , n=5\n",
    ")"
   ]
  },
  {
   "cell_type": "markdown",
   "metadata": {},
   "source": [
    "---\n",
    "> R-032: レシート明細データフレーム（df_receipt）の売上金額（amount）について、25％刻みでパーセンタイル値を求めよ。"
   ]
  },
  {
   "cell_type": "code",
   "execution_count": 39,
   "metadata": {},
   "outputs": [
    {
     "data": {
      "text/html": [
       "<table>\n",
       "<thead><tr><th scope=col>amount_25per</th><th scope=col>amount_50per</th><th scope=col>amount_75per</th><th scope=col>amount_100per</th></tr></thead>\n",
       "<tbody>\n",
       "\t<tr><td>102  </td><td>170  </td><td>288  </td><td>10925</td></tr>\n",
       "</tbody>\n",
       "</table>\n"
      ],
      "text/latex": [
       "\\begin{tabular}{r|llll}\n",
       " amount\\_25per & amount\\_50per & amount\\_75per & amount\\_100per\\\\\n",
       "\\hline\n",
       "\t 102   & 170   & 288   & 10925\\\\\n",
       "\\end{tabular}\n"
      ],
      "text/markdown": [
       "\n",
       "| amount_25per | amount_50per | amount_75per | amount_100per |\n",
       "|---|---|---|---|\n",
       "| 102   | 170   | 288   | 10925 |\n",
       "\n"
      ],
      "text/plain": [
       "  amount_25per amount_50per amount_75per amount_100per\n",
       "1 102          170          288          10925        "
      ]
     },
     "metadata": {},
     "output_type": "display_data"
    }
   ],
   "source": [
    "df_receipt %>%\n",
    "    summarise(amount_25per=quantile(amount, 0.25),\n",
    "              amount_50per=quantile(amount, 0.5),\n",
    "              amount_75per=quantile(amount, 0.75),\n",
    "              amount_100per=quantile(amount, 1.0))"
   ]
  },
  {
   "cell_type": "markdown",
   "metadata": {},
   "source": [
    "---\n",
    "> R-033: レシート明細データフレーム（df_receipt）に対し、店舗コード（store_cd）ごとに売上金額（amount）の平均を計算し、330以上のものを抽出せよ。"
   ]
  },
  {
   "cell_type": "code",
   "execution_count": 40,
   "metadata": {},
   "outputs": [
    {
     "name": "stderr",
     "output_type": "stream",
     "text": [
      "`summarise()` ungrouping output (override with `.groups` argument)\n"
     ]
    },
    {
     "data": {
      "text/html": [
       "<table>\n",
       "<thead><tr><th scope=col>store_cd</th><th scope=col>mean_amount</th></tr></thead>\n",
       "<tbody>\n",
       "\t<tr><td>S12013  </td><td>330.1941</td></tr>\n",
       "\t<tr><td>S13001  </td><td>348.4704</td></tr>\n",
       "\t<tr><td>S13003  </td><td>350.9155</td></tr>\n",
       "\t<tr><td>S13004  </td><td>330.9439</td></tr>\n",
       "\t<tr><td>S13015  </td><td>351.1120</td></tr>\n",
       "\t<tr><td>S13019  </td><td>330.2086</td></tr>\n",
       "\t<tr><td>S13020  </td><td>337.8799</td></tr>\n",
       "\t<tr><td>S13052  </td><td>402.8675</td></tr>\n",
       "\t<tr><td>S14010  </td><td>348.7913</td></tr>\n",
       "\t<tr><td>S14011  </td><td>335.7183</td></tr>\n",
       "\t<tr><td>S14026  </td><td>332.3406</td></tr>\n",
       "\t<tr><td>S14045  </td><td>330.0821</td></tr>\n",
       "\t<tr><td>S14047  </td><td>330.0771</td></tr>\n",
       "</tbody>\n",
       "</table>\n"
      ],
      "text/latex": [
       "\\begin{tabular}{r|ll}\n",
       " store\\_cd & mean\\_amount\\\\\n",
       "\\hline\n",
       "\t S12013   & 330.1941\\\\\n",
       "\t S13001   & 348.4704\\\\\n",
       "\t S13003   & 350.9155\\\\\n",
       "\t S13004   & 330.9439\\\\\n",
       "\t S13015   & 351.1120\\\\\n",
       "\t S13019   & 330.2086\\\\\n",
       "\t S13020   & 337.8799\\\\\n",
       "\t S13052   & 402.8675\\\\\n",
       "\t S14010   & 348.7913\\\\\n",
       "\t S14011   & 335.7183\\\\\n",
       "\t S14026   & 332.3406\\\\\n",
       "\t S14045   & 330.0821\\\\\n",
       "\t S14047   & 330.0771\\\\\n",
       "\\end{tabular}\n"
      ],
      "text/markdown": [
       "\n",
       "| store_cd | mean_amount |\n",
       "|---|---|\n",
       "| S12013   | 330.1941 |\n",
       "| S13001   | 348.4704 |\n",
       "| S13003   | 350.9155 |\n",
       "| S13004   | 330.9439 |\n",
       "| S13015   | 351.1120 |\n",
       "| S13019   | 330.2086 |\n",
       "| S13020   | 337.8799 |\n",
       "| S13052   | 402.8675 |\n",
       "| S14010   | 348.7913 |\n",
       "| S14011   | 335.7183 |\n",
       "| S14026   | 332.3406 |\n",
       "| S14045   | 330.0821 |\n",
       "| S14047   | 330.0771 |\n",
       "\n"
      ],
      "text/plain": [
       "   store_cd mean_amount\n",
       "1  S12013   330.1941   \n",
       "2  S13001   348.4704   \n",
       "3  S13003   350.9155   \n",
       "4  S13004   330.9439   \n",
       "5  S13015   351.1120   \n",
       "6  S13019   330.2086   \n",
       "7  S13020   337.8799   \n",
       "8  S13052   402.8675   \n",
       "9  S14010   348.7913   \n",
       "10 S14011   335.7183   \n",
       "11 S14026   332.3406   \n",
       "12 S14045   330.0821   \n",
       "13 S14047   330.0771   "
      ]
     },
     "metadata": {},
     "output_type": "display_data"
    }
   ],
   "source": [
    "df_receipt %>%\n",
    "    group_by(store_cd) %>%\n",
    "    summarise(mean_amount=mean(amount)) %>%\n",
    "    filter(mean_amount >= 330)"
   ]
  },
  {
   "cell_type": "markdown",
   "metadata": {},
   "source": [
    "---\n",
    "> R-034: レシート明細データフレーム（df_receipt）に対し、顧客ID（customer_id）ごとに売上金額（amount）を合計して全顧客の平均を求めよ。ただし、顧客IDが\"Z\"から始まるのものは非会員を表すため、除外して計算すること。"
   ]
  },
  {
   "cell_type": "code",
   "execution_count": 41,
   "metadata": {},
   "outputs": [
    {
     "name": "stderr",
     "output_type": "stream",
     "text": [
      "`summarise()` ungrouping output (override with `.groups` argument)\n"
     ]
    },
    {
     "data": {
      "text/html": [
       "2547.74223452926"
      ],
      "text/latex": [
       "2547.74223452926"
      ],
      "text/markdown": [
       "2547.74223452926"
      ],
      "text/plain": [
       "[1] 2547.742"
      ]
     },
     "metadata": {},
     "output_type": "display_data"
    }
   ],
   "source": [
    "df_mean <- df_receipt %>%\n",
    "    filter(!grepl(\"^Z\", customer_id)) %>%\n",
    "    group_by(customer_id) %>%\n",
    "    summarise(sum_amount=sum(amount)) %>%\n",
    "    summarise(mean_amount=mean(sum_amount))\n",
    "df_mean$mean_amount"
   ]
  },
  {
   "cell_type": "markdown",
   "metadata": {},
   "source": [
    "---\n",
    "> R-035: レシート明細データフレーム（df_receipt）に対し、顧客ID（customer_id）ごとに売上金額（amount）を合計して全顧客の平均を求め、平均以上に買い物をしている顧客を抽出せよ。ただし、顧客IDが\"Z\"から始まるのものは非会員を表すため、除外して計算すること。なお、データは10件だけ表示させれば良い。"
   ]
  },
  {
   "cell_type": "code",
   "execution_count": 42,
   "metadata": {},
   "outputs": [
    {
     "name": "stderr",
     "output_type": "stream",
     "text": [
      "`summarise()` ungrouping output (override with `.groups` argument)\n"
     ]
    },
    {
     "data": {
      "text/html": [
       "<table>\n",
       "<thead><tr><th scope=col>customer_id</th><th scope=col>sum_amount</th></tr></thead>\n",
       "<tbody>\n",
       "\t<tr><td>CS001115000010</td><td>3044          </td></tr>\n",
       "\t<tr><td>CS001205000006</td><td>3337          </td></tr>\n",
       "\t<tr><td>CS001214000009</td><td>4685          </td></tr>\n",
       "\t<tr><td>CS001214000017</td><td>4132          </td></tr>\n",
       "\t<tr><td>CS001214000052</td><td>5639          </td></tr>\n",
       "\t<tr><td>CS001215000040</td><td>3496          </td></tr>\n",
       "\t<tr><td>CS001304000006</td><td>3726          </td></tr>\n",
       "\t<tr><td>CS001305000005</td><td>3485          </td></tr>\n",
       "\t<tr><td>CS001305000011</td><td>4370          </td></tr>\n",
       "\t<tr><td>CS001315000180</td><td>3300          </td></tr>\n",
       "</tbody>\n",
       "</table>\n"
      ],
      "text/latex": [
       "\\begin{tabular}{r|ll}\n",
       " customer\\_id & sum\\_amount\\\\\n",
       "\\hline\n",
       "\t CS001115000010 & 3044          \\\\\n",
       "\t CS001205000006 & 3337          \\\\\n",
       "\t CS001214000009 & 4685          \\\\\n",
       "\t CS001214000017 & 4132          \\\\\n",
       "\t CS001214000052 & 5639          \\\\\n",
       "\t CS001215000040 & 3496          \\\\\n",
       "\t CS001304000006 & 3726          \\\\\n",
       "\t CS001305000005 & 3485          \\\\\n",
       "\t CS001305000011 & 4370          \\\\\n",
       "\t CS001315000180 & 3300          \\\\\n",
       "\\end{tabular}\n"
      ],
      "text/markdown": [
       "\n",
       "| customer_id | sum_amount |\n",
       "|---|---|\n",
       "| CS001115000010 | 3044           |\n",
       "| CS001205000006 | 3337           |\n",
       "| CS001214000009 | 4685           |\n",
       "| CS001214000017 | 4132           |\n",
       "| CS001214000052 | 5639           |\n",
       "| CS001215000040 | 3496           |\n",
       "| CS001304000006 | 3726           |\n",
       "| CS001305000005 | 3485           |\n",
       "| CS001305000011 | 4370           |\n",
       "| CS001315000180 | 3300           |\n",
       "\n"
      ],
      "text/plain": [
       "   customer_id    sum_amount\n",
       "1  CS001115000010 3044      \n",
       "2  CS001205000006 3337      \n",
       "3  CS001214000009 4685      \n",
       "4  CS001214000017 4132      \n",
       "5  CS001214000052 5639      \n",
       "6  CS001215000040 3496      \n",
       "7  CS001304000006 3726      \n",
       "8  CS001305000005 3485      \n",
       "9  CS001305000011 4370      \n",
       "10 CS001315000180 3300      "
      ]
     },
     "metadata": {},
     "output_type": "display_data"
    }
   ],
   "source": [
    "df_sum <- df_receipt %>%\n",
    "    filter(!grepl(\"^Z\", customer_id)) %>%\n",
    "    group_by(customer_id) %>%\n",
    "    summarise(sum_amount=sum(amount))\n",
    "df_mean <- df_sum %>%\n",
    "    summarise(mean_amount=mean(sum_amount))\n",
    "df_sum %>%\n",
    "    filter(sum_amount > df_mean$mean_amount) %>%\n",
    "    slice(1:10)"
   ]
  },
  {
   "cell_type": "markdown",
   "metadata": {},
   "source": [
    "---\n",
    "> R-036: レシート明細データフレーム（df_receipt）と店舗データフレーム（df_store）を内部結合し、レシート明細データフレームの全項目と店舗データフレームの店舗名（store_name）を10件表示させよ。"
   ]
  },
  {
   "cell_type": "code",
   "execution_count": 43,
   "metadata": {},
   "outputs": [],
   "source": [
    "# これが実行できない\n",
    "# inner_join(df_receipt, df_store[c('store_cd', 'store_name')], by = 'store_cd') %>% ３６slice(1:10)"
   ]
  },
  {
   "cell_type": "markdown",
   "metadata": {},
   "source": [
    "---\n",
    "> R-037: 商品データフレーム（df_product）とカテゴリデータフレーム（df_category）を内部結合し、商品データフレームの全項目とカテゴリデータフレームの小区分名（category_small_name）を10件表示させよ。"
   ]
  },
  {
   "cell_type": "code",
   "execution_count": 44,
   "metadata": {},
   "outputs": [],
   "source": [
    "# inner_join(df_product,\n",
    "#            df_category[c('category_major_cd', 'category_medium_cd','category_small_cd','category_small_name')],\n",
    "#            by = c('category_major_cd', 'category_medium_cd','category_small_cd')) %>%\n",
    "#     slice(1:10)"
   ]
  },
  {
   "cell_type": "markdown",
   "metadata": {},
   "source": [
    "---\n",
    "> R-038: 顧客データフレーム（df_customer）とレシート明細データフレーム（df_receipt）から、各顧客ごとの売上金額合計を求めよ。ただし、買い物の実績がない顧客については売上金額を0として表示させること。また、顧客は性別コード（gender_cd）が女性（1）であるものを対象とし、非会員（顧客IDが'Z'から始まるもの）は除外すること。なお、結果は10件だけ表示させれば良い。"
   ]
  },
  {
   "cell_type": "code",
   "execution_count": 45,
   "metadata": {},
   "outputs": [
    {
     "name": "stderr",
     "output_type": "stream",
     "text": [
      "`summarise()` ungrouping output (override with `.groups` argument)\n"
     ]
    },
    {
     "data": {
      "text/html": [
       "<table>\n",
       "<thead><tr><th scope=col>customer_id</th><th scope=col>sum_amount</th></tr></thead>\n",
       "<tbody>\n",
       "\t<tr><td>CS001215000145</td><td> 875          </td></tr>\n",
       "\t<tr><td>CS033513000180</td><td> 868          </td></tr>\n",
       "\t<tr><td>CS011215000048</td><td>3444          </td></tr>\n",
       "\t<tr><td>CS009413000079</td><td>   0          </td></tr>\n",
       "\t<tr><td>CS040412000191</td><td> 210          </td></tr>\n",
       "\t<tr><td>CS046615000013</td><td>   0          </td></tr>\n",
       "\t<tr><td>CS002613000047</td><td>   0          </td></tr>\n",
       "\t<tr><td>CS023513000066</td><td> 771          </td></tr>\n",
       "\t<tr><td>CS011312000159</td><td>   0          </td></tr>\n",
       "\t<tr><td>CS004613000404</td><td>   0          </td></tr>\n",
       "</tbody>\n",
       "</table>\n"
      ],
      "text/latex": [
       "\\begin{tabular}{r|ll}\n",
       " customer\\_id & sum\\_amount\\\\\n",
       "\\hline\n",
       "\t CS001215000145 &  875          \\\\\n",
       "\t CS033513000180 &  868          \\\\\n",
       "\t CS011215000048 & 3444          \\\\\n",
       "\t CS009413000079 &    0          \\\\\n",
       "\t CS040412000191 &  210          \\\\\n",
       "\t CS046615000013 &    0          \\\\\n",
       "\t CS002613000047 &    0          \\\\\n",
       "\t CS023513000066 &  771          \\\\\n",
       "\t CS011312000159 &    0          \\\\\n",
       "\t CS004613000404 &    0          \\\\\n",
       "\\end{tabular}\n"
      ],
      "text/markdown": [
       "\n",
       "| customer_id | sum_amount |\n",
       "|---|---|\n",
       "| CS001215000145 |  875           |\n",
       "| CS033513000180 |  868           |\n",
       "| CS011215000048 | 3444           |\n",
       "| CS009413000079 |    0           |\n",
       "| CS040412000191 |  210           |\n",
       "| CS046615000013 |    0           |\n",
       "| CS002613000047 |    0           |\n",
       "| CS023513000066 |  771           |\n",
       "| CS011312000159 |    0           |\n",
       "| CS004613000404 |    0           |\n",
       "\n"
      ],
      "text/plain": [
       "   customer_id    sum_amount\n",
       "1  CS001215000145  875      \n",
       "2  CS033513000180  868      \n",
       "3  CS011215000048 3444      \n",
       "4  CS009413000079    0      \n",
       "5  CS040412000191  210      \n",
       "6  CS046615000013    0      \n",
       "7  CS002613000047    0      \n",
       "8  CS023513000066  771      \n",
       "9  CS011312000159    0      \n",
       "10 CS004613000404    0      "
      ]
     },
     "metadata": {},
     "output_type": "display_data"
    }
   ],
   "source": [
    "df_sum <- df_receipt %>%\n",
    "    filter(!grepl(\"^Z\", customer_id)) %>%\n",
    "    group_by(customer_id) %>%\n",
    "    summarise(sum_amount=sum(amount))\n",
    "\n",
    "df_target <- df_customer %>%\n",
    "    filter(!grepl(\"^Z\", customer_id) & gender_cd == '1')\n",
    "\n",
    "left_join(df_target['customer_id'], df_sum, by = 'customer_id') %>%\n",
    "    replace_na(list(sum_amount=0)) %>%\n",
    "    slice(1:10)"
   ]
  },
  {
   "cell_type": "markdown",
   "metadata": {},
   "source": [
    "---\n",
    "> R-039: レシート明細データフレーム（df_receipt）から売上日数の多い顧客の上位20件と、売上金額合計の多い顧客の上位20件を抽出し、完全外部結合せよ。ただし、非会員（顧客IDが'Z'から始まるもの）は除外すること。"
   ]
  },
  {
   "cell_type": "code",
   "execution_count": 46,
   "metadata": {},
   "outputs": [
    {
     "name": "stderr",
     "output_type": "stream",
     "text": [
      "`summarise()` ungrouping output (override with `.groups` argument)\n",
      "`summarise()` ungrouping output (override with `.groups` argument)\n"
     ]
    },
    {
     "data": {
      "text/html": [
       "<table>\n",
       "<thead><tr><th scope=col>customer_id</th><th scope=col>sum_amount</th><th scope=col>come_days</th></tr></thead>\n",
       "<tbody>\n",
       "\t<tr><td>CS017415000097</td><td>23086         </td><td>20            </td></tr>\n",
       "\t<tr><td>CS015415000185</td><td>20153         </td><td>22            </td></tr>\n",
       "\t<tr><td>CS031414000051</td><td>19202         </td><td>19            </td></tr>\n",
       "\t<tr><td>CS028415000007</td><td>19127         </td><td>21            </td></tr>\n",
       "\t<tr><td>CS001605000009</td><td>18925         </td><td>NA            </td></tr>\n",
       "\t<tr><td>CS010214000010</td><td>18585         </td><td>22            </td></tr>\n",
       "\t<tr><td>CS006515000023</td><td>18372         </td><td>NA            </td></tr>\n",
       "\t<tr><td>CS016415000141</td><td>18372         </td><td>20            </td></tr>\n",
       "\t<tr><td>CS011414000106</td><td>18338         </td><td>NA            </td></tr>\n",
       "\t<tr><td>CS038415000104</td><td>17847         </td><td>NA            </td></tr>\n",
       "\t<tr><td>CS035414000024</td><td>17615         </td><td>NA            </td></tr>\n",
       "\t<tr><td>CS021515000089</td><td>17580         </td><td>NA            </td></tr>\n",
       "\t<tr><td>CS032414000072</td><td>16563         </td><td>NA            </td></tr>\n",
       "\t<tr><td>CS016415000101</td><td>16348         </td><td>NA            </td></tr>\n",
       "\t<tr><td>CS011415000006</td><td>16094         </td><td>NA            </td></tr>\n",
       "\t<tr><td>CS034415000047</td><td>16083         </td><td>NA            </td></tr>\n",
       "\t<tr><td>CS007514000094</td><td>15735         </td><td>NA            </td></tr>\n",
       "\t<tr><td>CS009414000059</td><td>15492         </td><td>NA            </td></tr>\n",
       "\t<tr><td>CS030415000034</td><td>15468         </td><td>NA            </td></tr>\n",
       "\t<tr><td>CS015515000034</td><td>15300         </td><td>NA            </td></tr>\n",
       "\t<tr><td>CS040214000008</td><td>   NA         </td><td>23            </td></tr>\n",
       "\t<tr><td>CS010214000002</td><td>   NA         </td><td>21            </td></tr>\n",
       "\t<tr><td>CS014214000023</td><td>   NA         </td><td>19            </td></tr>\n",
       "\t<tr><td>CS021514000045</td><td>   NA         </td><td>19            </td></tr>\n",
       "\t<tr><td>CS021515000172</td><td>   NA         </td><td>19            </td></tr>\n",
       "\t<tr><td>CS022515000226</td><td>   NA         </td><td>19            </td></tr>\n",
       "\t<tr><td>CS039414000052</td><td>   NA         </td><td>19            </td></tr>\n",
       "\t<tr><td>CS007515000107</td><td>   NA         </td><td>18            </td></tr>\n",
       "\t<tr><td>CS014415000077</td><td>   NA         </td><td>18            </td></tr>\n",
       "\t<tr><td>CS021515000056</td><td>   NA         </td><td>18            </td></tr>\n",
       "\t<tr><td>CS021515000211</td><td>   NA         </td><td>18            </td></tr>\n",
       "\t<tr><td>CS022515000028</td><td>   NA         </td><td>18            </td></tr>\n",
       "\t<tr><td>CS030214000008</td><td>   NA         </td><td>18            </td></tr>\n",
       "\t<tr><td>CS031414000073</td><td>   NA         </td><td>18            </td></tr>\n",
       "</tbody>\n",
       "</table>\n"
      ],
      "text/latex": [
       "\\begin{tabular}{r|lll}\n",
       " customer\\_id & sum\\_amount & come\\_days\\\\\n",
       "\\hline\n",
       "\t CS017415000097 & 23086          & 20            \\\\\n",
       "\t CS015415000185 & 20153          & 22            \\\\\n",
       "\t CS031414000051 & 19202          & 19            \\\\\n",
       "\t CS028415000007 & 19127          & 21            \\\\\n",
       "\t CS001605000009 & 18925          & NA            \\\\\n",
       "\t CS010214000010 & 18585          & 22            \\\\\n",
       "\t CS006515000023 & 18372          & NA            \\\\\n",
       "\t CS016415000141 & 18372          & 20            \\\\\n",
       "\t CS011414000106 & 18338          & NA            \\\\\n",
       "\t CS038415000104 & 17847          & NA            \\\\\n",
       "\t CS035414000024 & 17615          & NA            \\\\\n",
       "\t CS021515000089 & 17580          & NA            \\\\\n",
       "\t CS032414000072 & 16563          & NA            \\\\\n",
       "\t CS016415000101 & 16348          & NA            \\\\\n",
       "\t CS011415000006 & 16094          & NA            \\\\\n",
       "\t CS034415000047 & 16083          & NA            \\\\\n",
       "\t CS007514000094 & 15735          & NA            \\\\\n",
       "\t CS009414000059 & 15492          & NA            \\\\\n",
       "\t CS030415000034 & 15468          & NA            \\\\\n",
       "\t CS015515000034 & 15300          & NA            \\\\\n",
       "\t CS040214000008 &    NA          & 23            \\\\\n",
       "\t CS010214000002 &    NA          & 21            \\\\\n",
       "\t CS014214000023 &    NA          & 19            \\\\\n",
       "\t CS021514000045 &    NA          & 19            \\\\\n",
       "\t CS021515000172 &    NA          & 19            \\\\\n",
       "\t CS022515000226 &    NA          & 19            \\\\\n",
       "\t CS039414000052 &    NA          & 19            \\\\\n",
       "\t CS007515000107 &    NA          & 18            \\\\\n",
       "\t CS014415000077 &    NA          & 18            \\\\\n",
       "\t CS021515000056 &    NA          & 18            \\\\\n",
       "\t CS021515000211 &    NA          & 18            \\\\\n",
       "\t CS022515000028 &    NA          & 18            \\\\\n",
       "\t CS030214000008 &    NA          & 18            \\\\\n",
       "\t CS031414000073 &    NA          & 18            \\\\\n",
       "\\end{tabular}\n"
      ],
      "text/markdown": [
       "\n",
       "| customer_id | sum_amount | come_days |\n",
       "|---|---|---|\n",
       "| CS017415000097 | 23086          | 20             |\n",
       "| CS015415000185 | 20153          | 22             |\n",
       "| CS031414000051 | 19202          | 19             |\n",
       "| CS028415000007 | 19127          | 21             |\n",
       "| CS001605000009 | 18925          | NA             |\n",
       "| CS010214000010 | 18585          | 22             |\n",
       "| CS006515000023 | 18372          | NA             |\n",
       "| CS016415000141 | 18372          | 20             |\n",
       "| CS011414000106 | 18338          | NA             |\n",
       "| CS038415000104 | 17847          | NA             |\n",
       "| CS035414000024 | 17615          | NA             |\n",
       "| CS021515000089 | 17580          | NA             |\n",
       "| CS032414000072 | 16563          | NA             |\n",
       "| CS016415000101 | 16348          | NA             |\n",
       "| CS011415000006 | 16094          | NA             |\n",
       "| CS034415000047 | 16083          | NA             |\n",
       "| CS007514000094 | 15735          | NA             |\n",
       "| CS009414000059 | 15492          | NA             |\n",
       "| CS030415000034 | 15468          | NA             |\n",
       "| CS015515000034 | 15300          | NA             |\n",
       "| CS040214000008 |    NA          | 23             |\n",
       "| CS010214000002 |    NA          | 21             |\n",
       "| CS014214000023 |    NA          | 19             |\n",
       "| CS021514000045 |    NA          | 19             |\n",
       "| CS021515000172 |    NA          | 19             |\n",
       "| CS022515000226 |    NA          | 19             |\n",
       "| CS039414000052 |    NA          | 19             |\n",
       "| CS007515000107 |    NA          | 18             |\n",
       "| CS014415000077 |    NA          | 18             |\n",
       "| CS021515000056 |    NA          | 18             |\n",
       "| CS021515000211 |    NA          | 18             |\n",
       "| CS022515000028 |    NA          | 18             |\n",
       "| CS030214000008 |    NA          | 18             |\n",
       "| CS031414000073 |    NA          | 18             |\n",
       "\n"
      ],
      "text/plain": [
       "   customer_id    sum_amount come_days\n",
       "1  CS017415000097 23086      20       \n",
       "2  CS015415000185 20153      22       \n",
       "3  CS031414000051 19202      19       \n",
       "4  CS028415000007 19127      21       \n",
       "5  CS001605000009 18925      NA       \n",
       "6  CS010214000010 18585      22       \n",
       "7  CS006515000023 18372      NA       \n",
       "8  CS016415000141 18372      20       \n",
       "9  CS011414000106 18338      NA       \n",
       "10 CS038415000104 17847      NA       \n",
       "11 CS035414000024 17615      NA       \n",
       "12 CS021515000089 17580      NA       \n",
       "13 CS032414000072 16563      NA       \n",
       "14 CS016415000101 16348      NA       \n",
       "15 CS011415000006 16094      NA       \n",
       "16 CS034415000047 16083      NA       \n",
       "17 CS007514000094 15735      NA       \n",
       "18 CS009414000059 15492      NA       \n",
       "19 CS030415000034 15468      NA       \n",
       "20 CS015515000034 15300      NA       \n",
       "21 CS040214000008    NA      23       \n",
       "22 CS010214000002    NA      21       \n",
       "23 CS014214000023    NA      19       \n",
       "24 CS021514000045    NA      19       \n",
       "25 CS021515000172    NA      19       \n",
       "26 CS022515000226    NA      19       \n",
       "27 CS039414000052    NA      19       \n",
       "28 CS007515000107    NA      18       \n",
       "29 CS014415000077    NA      18       \n",
       "30 CS021515000056    NA      18       \n",
       "31 CS021515000211    NA      18       \n",
       "32 CS022515000028    NA      18       \n",
       "33 CS030214000008    NA      18       \n",
       "34 CS031414000073    NA      18       "
      ]
     },
     "metadata": {},
     "output_type": "display_data"
    }
   ],
   "source": [
    "df_sum <- df_receipt %>%\n",
    "    filter(!grepl(\"^Z\", customer_id)) %>%\n",
    "    group_by(customer_id) %>%\n",
    "    summarise(sum_amount=sum(amount)) %>%\n",
    "    arrange(desc(sum_amount)) %>%\n",
    "    slice(1:20)\n",
    "\n",
    "df_cnt <- df_receipt %>%\n",
    "    filter(!grepl(\"^Z\", customer_id)) %>%\n",
    "    group_by(customer_id) %>%\n",
    "    summarise(come_days=n_distinct(sales_ymd)) %>%\n",
    "    arrange(desc(come_days), customer_id) %>%\n",
    "    slice(1:20)\n",
    "\n",
    "full_join(df_sum, df_cnt, by = \"customer_id\")"
   ]
  },
  {
   "cell_type": "markdown",
   "metadata": {},
   "source": [
    "---\n",
    "> R-040: 全ての店舗と全ての商品を組み合わせると何件のデータとなるか調査したい。店舗（df_store）と商品（df_product）を直積した件数を計算せよ。"
   ]
  },
  {
   "cell_type": "code",
   "execution_count": 47,
   "metadata": {},
   "outputs": [
    {
     "data": {
      "text/html": [
       "531590"
      ],
      "text/latex": [
       "531590"
      ],
      "text/markdown": [
       "531590"
      ],
      "text/plain": [
       "[1] 531590"
      ]
     },
     "metadata": {},
     "output_type": "display_data"
    }
   ],
   "source": [
    "df_store_tmp <- df_store\n",
    "df_product_tmp <- df_product\n",
    "df_store_tmp['key'] <- 0\n",
    "df_product_tmp['key'] <- 0\n",
    "nrow(full_join(df_store_tmp, df_product_tmp, by = \"key\"))"
   ]
  },
  {
   "cell_type": "markdown",
   "metadata": {},
   "source": [
    "---\n",
    "> R-041: レシート明細データフレーム（df_receipt）の売上金額（amount）を日付（sales_ymd）ごとに集計し、前日からの売上金額増減を計算せよ。なお、計算結果は10件表示すればよい。"
   ]
  },
  {
   "cell_type": "code",
   "execution_count": 48,
   "metadata": {},
   "outputs": [
    {
     "name": "stderr",
     "output_type": "stream",
     "text": [
      "`summarise()` ungrouping output (override with `.groups` argument)\n"
     ]
    },
    {
     "data": {
      "text/html": [
       "<table>\n",
       "<thead><tr><th scope=col>sales_ymd</th><th scope=col>sum_amount</th><th scope=col>lag_ymd</th><th scope=col>lag_amount</th><th scope=col>diff_amount</th></tr></thead>\n",
       "<tbody>\n",
       "\t<tr><td>20170101</td><td>33723   </td><td>      NA</td><td>   NA   </td><td>   NA   </td></tr>\n",
       "\t<tr><td>20170102</td><td>24165   </td><td>20170101</td><td>33723   </td><td>-9558   </td></tr>\n",
       "\t<tr><td>20170103</td><td>27503   </td><td>20170102</td><td>24165   </td><td> 3338   </td></tr>\n",
       "\t<tr><td>20170104</td><td>36165   </td><td>20170103</td><td>27503   </td><td> 8662   </td></tr>\n",
       "\t<tr><td>20170105</td><td>37830   </td><td>20170104</td><td>36165   </td><td> 1665   </td></tr>\n",
       "\t<tr><td>20170106</td><td>32387   </td><td>20170105</td><td>37830   </td><td>-5443   </td></tr>\n",
       "\t<tr><td>20170107</td><td>23415   </td><td>20170106</td><td>32387   </td><td>-8972   </td></tr>\n",
       "\t<tr><td>20170108</td><td>24737   </td><td>20170107</td><td>23415   </td><td> 1322   </td></tr>\n",
       "\t<tr><td>20170109</td><td>26718   </td><td>20170108</td><td>24737   </td><td> 1981   </td></tr>\n",
       "\t<tr><td>20170110</td><td>20143   </td><td>20170109</td><td>26718   </td><td>-6575   </td></tr>\n",
       "</tbody>\n",
       "</table>\n"
      ],
      "text/latex": [
       "\\begin{tabular}{r|lllll}\n",
       " sales\\_ymd & sum\\_amount & lag\\_ymd & lag\\_amount & diff\\_amount\\\\\n",
       "\\hline\n",
       "\t 20170101 & 33723    &       NA &    NA    &    NA   \\\\\n",
       "\t 20170102 & 24165    & 20170101 & 33723    & -9558   \\\\\n",
       "\t 20170103 & 27503    & 20170102 & 24165    &  3338   \\\\\n",
       "\t 20170104 & 36165    & 20170103 & 27503    &  8662   \\\\\n",
       "\t 20170105 & 37830    & 20170104 & 36165    &  1665   \\\\\n",
       "\t 20170106 & 32387    & 20170105 & 37830    & -5443   \\\\\n",
       "\t 20170107 & 23415    & 20170106 & 32387    & -8972   \\\\\n",
       "\t 20170108 & 24737    & 20170107 & 23415    &  1322   \\\\\n",
       "\t 20170109 & 26718    & 20170108 & 24737    &  1981   \\\\\n",
       "\t 20170110 & 20143    & 20170109 & 26718    & -6575   \\\\\n",
       "\\end{tabular}\n"
      ],
      "text/markdown": [
       "\n",
       "| sales_ymd | sum_amount | lag_ymd | lag_amount | diff_amount |\n",
       "|---|---|---|---|---|\n",
       "| 20170101 | 33723    |       NA |    NA    |    NA    |\n",
       "| 20170102 | 24165    | 20170101 | 33723    | -9558    |\n",
       "| 20170103 | 27503    | 20170102 | 24165    |  3338    |\n",
       "| 20170104 | 36165    | 20170103 | 27503    |  8662    |\n",
       "| 20170105 | 37830    | 20170104 | 36165    |  1665    |\n",
       "| 20170106 | 32387    | 20170105 | 37830    | -5443    |\n",
       "| 20170107 | 23415    | 20170106 | 32387    | -8972    |\n",
       "| 20170108 | 24737    | 20170107 | 23415    |  1322    |\n",
       "| 20170109 | 26718    | 20170108 | 24737    |  1981    |\n",
       "| 20170110 | 20143    | 20170109 | 26718    | -6575    |\n",
       "\n"
      ],
      "text/plain": [
       "   sales_ymd sum_amount lag_ymd  lag_amount diff_amount\n",
       "1  20170101  33723            NA    NA         NA      \n",
       "2  20170102  24165      20170101 33723      -9558      \n",
       "3  20170103  27503      20170102 24165       3338      \n",
       "4  20170104  36165      20170103 27503       8662      \n",
       "5  20170105  37830      20170104 36165       1665      \n",
       "6  20170106  32387      20170105 37830      -5443      \n",
       "7  20170107  23415      20170106 32387      -8972      \n",
       "8  20170108  24737      20170107 23415       1322      \n",
       "9  20170109  26718      20170108 24737       1981      \n",
       "10 20170110  20143      20170109 26718      -6575      "
      ]
     },
     "metadata": {},
     "output_type": "display_data"
    }
   ],
   "source": [
    "df_receipt %>%\n",
    "    group_by(sales_ymd) %>%\n",
    "    summarise(sum_amount=sum(amount)) %>%\n",
    "    mutate(lag_ymd = lag(sales_ymd), lag_amount = lag(sum_amount), diff_amount = sum_amount - lag_amount) %>%\n",
    "    slice(1:10)"
   ]
  },
  {
   "cell_type": "markdown",
   "metadata": {},
   "source": [
    "---\n",
    "> R-042: レシート明細データフレーム（df_receipt）の売上金額（amount）を日付（sales_ymd）ごとに集計し、各日付のデータに対し、１日前、２日前、３日前のデータを結合せよ。結果は10件表示すればよい。"
   ]
  },
  {
   "cell_type": "code",
   "execution_count": 49,
   "metadata": {},
   "outputs": [
    {
     "name": "stderr",
     "output_type": "stream",
     "text": [
      "`summarise()` ungrouping output (override with `.groups` argument)\n"
     ]
    },
    {
     "data": {
      "text/html": [
       "<table>\n",
       "<thead><tr><th scope=col>sales_ymd</th><th scope=col>sum_amount</th><th scope=col>lag_ymd</th><th scope=col>lag_amount</th></tr></thead>\n",
       "<tbody>\n",
       "\t<tr><td>20170102</td><td>24165   </td><td>20170101</td><td>33723   </td></tr>\n",
       "\t<tr><td>20170103</td><td>27503   </td><td>20170101</td><td>33723   </td></tr>\n",
       "\t<tr><td>20170103</td><td>27503   </td><td>20170102</td><td>24165   </td></tr>\n",
       "\t<tr><td>20170104</td><td>36165   </td><td>20170101</td><td>33723   </td></tr>\n",
       "\t<tr><td>20170104</td><td>36165   </td><td>20170102</td><td>24165   </td></tr>\n",
       "\t<tr><td>20170104</td><td>36165   </td><td>20170103</td><td>27503   </td></tr>\n",
       "\t<tr><td>20170105</td><td>37830   </td><td>20170102</td><td>24165   </td></tr>\n",
       "\t<tr><td>20170105</td><td>37830   </td><td>20170103</td><td>27503   </td></tr>\n",
       "\t<tr><td>20170105</td><td>37830   </td><td>20170104</td><td>36165   </td></tr>\n",
       "\t<tr><td>20170106</td><td>32387   </td><td>20170103</td><td>27503   </td></tr>\n",
       "</tbody>\n",
       "</table>\n"
      ],
      "text/latex": [
       "\\begin{tabular}{r|llll}\n",
       " sales\\_ymd & sum\\_amount & lag\\_ymd & lag\\_amount\\\\\n",
       "\\hline\n",
       "\t 20170102 & 24165    & 20170101 & 33723   \\\\\n",
       "\t 20170103 & 27503    & 20170101 & 33723   \\\\\n",
       "\t 20170103 & 27503    & 20170102 & 24165   \\\\\n",
       "\t 20170104 & 36165    & 20170101 & 33723   \\\\\n",
       "\t 20170104 & 36165    & 20170102 & 24165   \\\\\n",
       "\t 20170104 & 36165    & 20170103 & 27503   \\\\\n",
       "\t 20170105 & 37830    & 20170102 & 24165   \\\\\n",
       "\t 20170105 & 37830    & 20170103 & 27503   \\\\\n",
       "\t 20170105 & 37830    & 20170104 & 36165   \\\\\n",
       "\t 20170106 & 32387    & 20170103 & 27503   \\\\\n",
       "\\end{tabular}\n"
      ],
      "text/markdown": [
       "\n",
       "| sales_ymd | sum_amount | lag_ymd | lag_amount |\n",
       "|---|---|---|---|\n",
       "| 20170102 | 24165    | 20170101 | 33723    |\n",
       "| 20170103 | 27503    | 20170101 | 33723    |\n",
       "| 20170103 | 27503    | 20170102 | 24165    |\n",
       "| 20170104 | 36165    | 20170101 | 33723    |\n",
       "| 20170104 | 36165    | 20170102 | 24165    |\n",
       "| 20170104 | 36165    | 20170103 | 27503    |\n",
       "| 20170105 | 37830    | 20170102 | 24165    |\n",
       "| 20170105 | 37830    | 20170103 | 27503    |\n",
       "| 20170105 | 37830    | 20170104 | 36165    |\n",
       "| 20170106 | 32387    | 20170103 | 27503    |\n",
       "\n"
      ],
      "text/plain": [
       "   sales_ymd sum_amount lag_ymd  lag_amount\n",
       "1  20170102  24165      20170101 33723     \n",
       "2  20170103  27503      20170101 33723     \n",
       "3  20170103  27503      20170102 24165     \n",
       "4  20170104  36165      20170101 33723     \n",
       "5  20170104  36165      20170102 24165     \n",
       "6  20170104  36165      20170103 27503     \n",
       "7  20170105  37830      20170102 24165     \n",
       "8  20170105  37830      20170103 27503     \n",
       "9  20170105  37830      20170104 36165     \n",
       "10 20170106  32387      20170103 27503     "
      ]
     },
     "metadata": {},
     "output_type": "display_data"
    }
   ],
   "source": [
    "# コード例1:縦持ちケース\n",
    "df_sum <-df_receipt %>%\n",
    "    group_by(sales_ymd) %>%\n",
    "    summarise(sum_amount=sum(amount))\n",
    "\n",
    "for (i in 1:3){\n",
    "    if (i == 1){\n",
    "        df_lag <- df_sum %>%\n",
    "            mutate(lag_ymd = lag(sales_ymd, n=i), lag_amount = lag(sum_amount, n=i))\n",
    "    }\n",
    "    else{\n",
    "        df_tmp <- df_sum %>%\n",
    "            mutate(lag_ymd = lag(sales_ymd, n=i), lag_amount = lag(sum_amount, n=i))\n",
    "        df_lag <- rbind(df_lag, df_tmp)\n",
    "    }\n",
    "}\n",
    "\n",
    "drop_na(df_lag, everything()) %>%\n",
    "    arrange(sales_ymd, lag_ymd) %>%\n",
    "    slice(1:10)"
   ]
  },
  {
   "cell_type": "code",
   "execution_count": 50,
   "metadata": {},
   "outputs": [
    {
     "name": "stderr",
     "output_type": "stream",
     "text": [
      "`summarise()` ungrouping output (override with `.groups` argument)\n"
     ]
    },
    {
     "name": "stdout",
     "output_type": "stream",
     "text": [
      "[1] \"lag_ymd_2\"\n",
      "[1] \"lag_amount_2\"\n",
      "[1] \"lag_ymd_3\"\n",
      "[1] \"lag_amount_3\"\n"
     ]
    },
    {
     "data": {
      "text/html": [
       "<table>\n",
       "<thead><tr><th scope=col>sales_ymd</th><th scope=col>sum_amount</th><th scope=col>lag_ymd_1</th><th scope=col>lag_amount_1</th><th scope=col>lag_ymd_2</th><th scope=col>lag_amount_2</th><th scope=col>lag_ymd_3</th><th scope=col>lag_amount_3</th></tr></thead>\n",
       "<tbody>\n",
       "\t<tr><td>20170104</td><td>36165   </td><td>20170103</td><td>27503   </td><td>20170102</td><td>24165   </td><td>20170101</td><td>33723   </td></tr>\n",
       "\t<tr><td>20170105</td><td>37830   </td><td>20170104</td><td>36165   </td><td>20170103</td><td>27503   </td><td>20170102</td><td>24165   </td></tr>\n",
       "\t<tr><td>20170106</td><td>32387   </td><td>20170105</td><td>37830   </td><td>20170104</td><td>36165   </td><td>20170103</td><td>27503   </td></tr>\n",
       "\t<tr><td>20170107</td><td>23415   </td><td>20170106</td><td>32387   </td><td>20170105</td><td>37830   </td><td>20170104</td><td>36165   </td></tr>\n",
       "\t<tr><td>20170108</td><td>24737   </td><td>20170107</td><td>23415   </td><td>20170106</td><td>32387   </td><td>20170105</td><td>37830   </td></tr>\n",
       "\t<tr><td>20170109</td><td>26718   </td><td>20170108</td><td>24737   </td><td>20170107</td><td>23415   </td><td>20170106</td><td>32387   </td></tr>\n",
       "\t<tr><td>20170110</td><td>20143   </td><td>20170109</td><td>26718   </td><td>20170108</td><td>24737   </td><td>20170107</td><td>23415   </td></tr>\n",
       "\t<tr><td>20170111</td><td>24287   </td><td>20170110</td><td>20143   </td><td>20170109</td><td>26718   </td><td>20170108</td><td>24737   </td></tr>\n",
       "\t<tr><td>20170112</td><td>23526   </td><td>20170111</td><td>24287   </td><td>20170110</td><td>20143   </td><td>20170109</td><td>26718   </td></tr>\n",
       "\t<tr><td>20170113</td><td>28004   </td><td>20170112</td><td>23526   </td><td>20170111</td><td>24287   </td><td>20170110</td><td>20143   </td></tr>\n",
       "</tbody>\n",
       "</table>\n"
      ],
      "text/latex": [
       "\\begin{tabular}{r|llllllll}\n",
       " sales\\_ymd & sum\\_amount & lag\\_ymd\\_1 & lag\\_amount\\_1 & lag\\_ymd\\_2 & lag\\_amount\\_2 & lag\\_ymd\\_3 & lag\\_amount\\_3\\\\\n",
       "\\hline\n",
       "\t 20170104 & 36165    & 20170103 & 27503    & 20170102 & 24165    & 20170101 & 33723   \\\\\n",
       "\t 20170105 & 37830    & 20170104 & 36165    & 20170103 & 27503    & 20170102 & 24165   \\\\\n",
       "\t 20170106 & 32387    & 20170105 & 37830    & 20170104 & 36165    & 20170103 & 27503   \\\\\n",
       "\t 20170107 & 23415    & 20170106 & 32387    & 20170105 & 37830    & 20170104 & 36165   \\\\\n",
       "\t 20170108 & 24737    & 20170107 & 23415    & 20170106 & 32387    & 20170105 & 37830   \\\\\n",
       "\t 20170109 & 26718    & 20170108 & 24737    & 20170107 & 23415    & 20170106 & 32387   \\\\\n",
       "\t 20170110 & 20143    & 20170109 & 26718    & 20170108 & 24737    & 20170107 & 23415   \\\\\n",
       "\t 20170111 & 24287    & 20170110 & 20143    & 20170109 & 26718    & 20170108 & 24737   \\\\\n",
       "\t 20170112 & 23526    & 20170111 & 24287    & 20170110 & 20143    & 20170109 & 26718   \\\\\n",
       "\t 20170113 & 28004    & 20170112 & 23526    & 20170111 & 24287    & 20170110 & 20143   \\\\\n",
       "\\end{tabular}\n"
      ],
      "text/markdown": [
       "\n",
       "| sales_ymd | sum_amount | lag_ymd_1 | lag_amount_1 | lag_ymd_2 | lag_amount_2 | lag_ymd_3 | lag_amount_3 |\n",
       "|---|---|---|---|---|---|---|---|\n",
       "| 20170104 | 36165    | 20170103 | 27503    | 20170102 | 24165    | 20170101 | 33723    |\n",
       "| 20170105 | 37830    | 20170104 | 36165    | 20170103 | 27503    | 20170102 | 24165    |\n",
       "| 20170106 | 32387    | 20170105 | 37830    | 20170104 | 36165    | 20170103 | 27503    |\n",
       "| 20170107 | 23415    | 20170106 | 32387    | 20170105 | 37830    | 20170104 | 36165    |\n",
       "| 20170108 | 24737    | 20170107 | 23415    | 20170106 | 32387    | 20170105 | 37830    |\n",
       "| 20170109 | 26718    | 20170108 | 24737    | 20170107 | 23415    | 20170106 | 32387    |\n",
       "| 20170110 | 20143    | 20170109 | 26718    | 20170108 | 24737    | 20170107 | 23415    |\n",
       "| 20170111 | 24287    | 20170110 | 20143    | 20170109 | 26718    | 20170108 | 24737    |\n",
       "| 20170112 | 23526    | 20170111 | 24287    | 20170110 | 20143    | 20170109 | 26718    |\n",
       "| 20170113 | 28004    | 20170112 | 23526    | 20170111 | 24287    | 20170110 | 20143    |\n",
       "\n"
      ],
      "text/plain": [
       "   sales_ymd sum_amount lag_ymd_1 lag_amount_1 lag_ymd_2 lag_amount_2 lag_ymd_3\n",
       "1  20170104  36165      20170103  27503        20170102  24165        20170101 \n",
       "2  20170105  37830      20170104  36165        20170103  27503        20170102 \n",
       "3  20170106  32387      20170105  37830        20170104  36165        20170103 \n",
       "4  20170107  23415      20170106  32387        20170105  37830        20170104 \n",
       "5  20170108  24737      20170107  23415        20170106  32387        20170105 \n",
       "6  20170109  26718      20170108  24737        20170107  23415        20170106 \n",
       "7  20170110  20143      20170109  26718        20170108  24737        20170107 \n",
       "8  20170111  24287      20170110  20143        20170109  26718        20170108 \n",
       "9  20170112  23526      20170111  24287        20170110  20143        20170109 \n",
       "10 20170113  28004      20170112  23526        20170111  24287        20170110 \n",
       "   lag_amount_3\n",
       "1  33723       \n",
       "2  24165       \n",
       "3  27503       \n",
       "4  36165       \n",
       "5  37830       \n",
       "6  32387       \n",
       "7  23415       \n",
       "8  24737       \n",
       "9  26718       \n",
       "10 20143       "
      ]
     },
     "metadata": {},
     "output_type": "display_data"
    }
   ],
   "source": [
    "# コード例2:横持ちケース\n",
    "df_sum <-df_receipt %>%\n",
    "    group_by(sales_ymd) %>%\n",
    "    summarise(sum_amount=sum(amount))\n",
    "\n",
    "for (i in 1:3){\n",
    "    if (i == 1){\n",
    "        df_lag <- df_sum %>%\n",
    "            mutate(lag_ymd_1 = lag(sales_ymd, n=i), lag_amount_1 = lag(sum_amount, n=i))\n",
    "    }\n",
    "    else{\n",
    "        col_name_1 <- paste(\"lag_ymd\", i , sep=\"_\")\n",
    "        col_name_2 <- paste(\"lag_amount\", i , sep=\"_\")\n",
    "        print(col_name_1)\n",
    "        print(col_name_2)\n",
    "        df_tmp <- df_sum %>%\n",
    "            mutate(!!col_name_1 := lag(sales_ymd, n=i), !!col_name_2 := lag(sum_amount, n=i))\n",
    "        df_lag <- cbind(df_lag, df_tmp[c(col_name_1, col_name_2)])\n",
    "    }\n",
    "}\n",
    "\n",
    "drop_na(df_lag, everything()) %>%\n",
    "    arrange(sales_ymd) %>%\n",
    "    slice(1:10)"
   ]
  },
  {
   "cell_type": "markdown",
   "metadata": {},
   "source": [
    "---\n",
    "> R-043: レシート明細データフレーム（df_receipt）と顧客データフレーム（df_customer）を結合し、性別（gender）と年代（ageから計算）ごとに売上金額（amount）を合計した売上サマリデータフレーム（df_sales_summary）を作成せよ。性別は0が男性、1が女性、9が不明を表すものとする。\n",
    ">\n",
    "> ただし、項目構成は年代、女性の売上金額、男性の売上金額、性別不明の売上金額の4項目とすること（縦に年代、横に性別のクロス集計）。また、年代は10歳ごとの階級とすること。"
   ]
  },
  {
   "cell_type": "code",
   "execution_count": 51,
   "metadata": {},
   "outputs": [
    {
     "name": "stderr",
     "output_type": "stream",
     "text": [
      "Warning message:\n",
      "\"Problem with `mutate()` input `era`.\n",
      "i '/' not meaningful for factors\n",
      "i Input `era` is `trunc(age/10) * 10`.\"Warning message in Ops.factor(age, 10):\n",
      "\"'/' not meaningful for factors\"`summarise()` regrouping output by 'gender_cd' (override with `.groups` argument)\n"
     ]
    },
    {
     "data": {
      "text/html": [
       "<table>\n",
       "<thead><tr><th scope=col>era</th><th scope=col>male</th><th scope=col>female</th><th scope=col>unknown</th><th scope=col>女性</th><th scope=col>男性</th><th scope=col>不明</th></tr></thead>\n",
       "<tbody>\n",
       "\t<tr><td>NA     </td><td>416079 </td><td>9628404</td><td>564438 </td><td>9870874</td><td>241713 </td><td>440039 </td></tr>\n",
       "</tbody>\n",
       "</table>\n"
      ],
      "text/latex": [
       "\\begin{tabular}{r|lllllll}\n",
       " era & male & female & unknown & 女性 & 男性 & 不明\\\\\n",
       "\\hline\n",
       "\t NA      & 416079  & 9628404 & 564438  & 9870874 & 241713  & 440039 \\\\\n",
       "\\end{tabular}\n"
      ],
      "text/markdown": [
       "\n",
       "| era | male | female | unknown | 女性 | 男性 | 不明 |\n",
       "|---|---|---|---|---|---|---|\n",
       "| NA      | 416079  | 9628404 | 564438  | 9870874 | 241713  | 440039  |\n",
       "\n"
      ],
      "text/plain": [
       "  era male   female  unknown 女性    男性   不明  \n",
       "1 NA  416079 9628404 564438  9870874 241713 440039"
      ]
     },
     "metadata": {},
     "output_type": "display_data"
    }
   ],
   "source": [
    "df_sales_summary <- df_customer[c(\"customer_id\", \"gender_cd\", \"birth_day\" , \"age\")] %>%\n",
    "    mutate(era = trunc(age / 10) * 10) %>%\n",
    "    inner_join(df_receipt, by=\"customer_id\") %>%\n",
    "    group_by(gender_cd, era) %>%\n",
    "    summarise(sum_amount=sum(amount)) %>%\n",
    "    spread(gender_cd, sum_amount, fill=0) %>%\n",
    "    rename(male='0', female='1', unknown='9')\n",
    "\n",
    "df_sales_summary"
   ]
  },
  {
   "cell_type": "markdown",
   "metadata": {},
   "source": [
    "---\n",
    "> R-044: 前設問で作成した売上サマリデータフレーム（df_sales_summary）は性別の売上を横持ちさせたものであった。このデータフレームから性別を縦持ちさせ、年代、性別コード、売上金額の3項目に変換せよ。ただし、性別コードは男性を'00'、女性を'01'、不明を'99'とする。"
   ]
  },
  {
   "cell_type": "code",
   "execution_count": 52,
   "metadata": {},
   "outputs": [
    {
     "data": {
      "text/html": [
       "<table>\n",
       "<thead><tr><th scope=col>era</th><th scope=col>女性</th><th scope=col>男性</th><th scope=col>不明</th><th scope=col>gender_cd</th><th scope=col>sum_amount</th></tr></thead>\n",
       "<tbody>\n",
       "\t<tr><td>NA     </td><td>9870874</td><td>241713 </td><td>440039 </td><td>00     </td><td> 416079</td></tr>\n",
       "\t<tr><td>NA     </td><td>9870874</td><td>241713 </td><td>440039 </td><td>01     </td><td>9628404</td></tr>\n",
       "\t<tr><td>NA     </td><td>9870874</td><td>241713 </td><td>440039 </td><td>99     </td><td> 564438</td></tr>\n",
       "</tbody>\n",
       "</table>\n"
      ],
      "text/latex": [
       "\\begin{tabular}{r|llllll}\n",
       " era & 女性 & 男性 & 不明 & gender\\_cd & sum\\_amount\\\\\n",
       "\\hline\n",
       "\t NA      & 9870874 & 241713  & 440039  & 00      &  416079\\\\\n",
       "\t NA      & 9870874 & 241713  & 440039  & 01      & 9628404\\\\\n",
       "\t NA      & 9870874 & 241713  & 440039  & 99      &  564438\\\\\n",
       "\\end{tabular}\n"
      ],
      "text/markdown": [
       "\n",
       "| era | 女性 | 男性 | 不明 | gender_cd | sum_amount |\n",
       "|---|---|---|---|---|---|\n",
       "| NA      | 9870874 | 241713  | 440039  | 00      |  416079 |\n",
       "| NA      | 9870874 | 241713  | 440039  | 01      | 9628404 |\n",
       "| NA      | 9870874 | 241713  | 440039  | 99      |  564438 |\n",
       "\n"
      ],
      "text/plain": [
       "  era 女性    男性   不明   gender_cd sum_amount\n",
       "1 NA  9870874 241713 440039 00         416079   \n",
       "2 NA  9870874 241713 440039 01        9628404   \n",
       "3 NA  9870874 241713 440039 99         564438   "
      ]
     },
     "metadata": {},
     "output_type": "display_data"
    }
   ],
   "source": [
    "gather(df_sales_summary, key = gender_cd, value = sum_amount, male, female, unknown) %>%\n",
    "    mutate(gender_cd = case_when(\n",
    "        gender_cd == \"male\"  ~ \"00\",\n",
    "        gender_cd == \"female\"  ~ \"01\",\n",
    "        gender_cd == \"unknown\"  ~ \"99\",\n",
    "    ))"
   ]
  },
  {
   "cell_type": "markdown",
   "metadata": {},
   "source": [
    "---\n",
    "> R-045: 顧客データフレーム（df_customer）の生年月日（birth_day）は日付型（Date）でデータを保有している。これをYYYYMMDD形式の文字列に変換し、顧客ID（customer_id）とともに抽出せよ。データは10件を抽出すれば良い。"
   ]
  },
  {
   "cell_type": "code",
   "execution_count": 54,
   "metadata": {},
   "outputs": [],
   "source": [
    "# エラー\n",
    "# df_tmp <- cbind(df_customer['customer_id'], strftime(df_customer$birth_day, format=\"%Y%m%d\"))\n",
    "# colnames(df_tmp) <- c(\"customer_id\",\"birth_day\")\n",
    "# head(df_tmp,10)"
   ]
  },
  {
   "cell_type": "markdown",
   "metadata": {},
   "source": [
    "---\n",
    "> R-046: 顧客データフレーム（df_customer）の申し込み日（application_date）はYYYYMMDD形式の文字列型でデータを保有している。これを日付型（dateやdatetime）に変換し、顧客ID（customer_id）とともに抽出せよ。データは10件を抽出すれば良い。"
   ]
  },
  {
   "cell_type": "code",
   "execution_count": 55,
   "metadata": {},
   "outputs": [
    {
     "data": {
      "text/html": [
       "<table>\n",
       "<thead><tr><th scope=col>customer_id</th><th scope=col>application_date</th></tr></thead>\n",
       "<tbody>\n",
       "\t<tr><td>CS021313000114</td><td>NA            </td></tr>\n",
       "\t<tr><td>CS037613000071</td><td>2015-04-14    </td></tr>\n",
       "\t<tr><td>CS031415000172</td><td>NA            </td></tr>\n",
       "\t<tr><td>CS028811000001</td><td>NA            </td></tr>\n",
       "\t<tr><td>CS001215000145</td><td>2017-06-05    </td></tr>\n",
       "\t<tr><td>CS020401000016</td><td>2015-02-25    </td></tr>\n",
       "\t<tr><td>CS015414000103</td><td>NA            </td></tr>\n",
       "\t<tr><td>CS029403000008</td><td>NA            </td></tr>\n",
       "\t<tr><td>CS015804000004</td><td>2015-06-07    </td></tr>\n",
       "\t<tr><td>CS033513000180</td><td>2015-07-28    </td></tr>\n",
       "</tbody>\n",
       "</table>\n"
      ],
      "text/latex": [
       "\\begin{tabular}{r|ll}\n",
       " customer\\_id & application\\_date\\\\\n",
       "\\hline\n",
       "\t CS021313000114 & NA            \\\\\n",
       "\t CS037613000071 & 2015-04-14    \\\\\n",
       "\t CS031415000172 & NA            \\\\\n",
       "\t CS028811000001 & NA            \\\\\n",
       "\t CS001215000145 & 2017-06-05    \\\\\n",
       "\t CS020401000016 & 2015-02-25    \\\\\n",
       "\t CS015414000103 & NA            \\\\\n",
       "\t CS029403000008 & NA            \\\\\n",
       "\t CS015804000004 & 2015-06-07    \\\\\n",
       "\t CS033513000180 & 2015-07-28    \\\\\n",
       "\\end{tabular}\n"
      ],
      "text/markdown": [
       "\n",
       "| customer_id | application_date |\n",
       "|---|---|\n",
       "| CS021313000114 | NA             |\n",
       "| CS037613000071 | 2015-04-14     |\n",
       "| CS031415000172 | NA             |\n",
       "| CS028811000001 | NA             |\n",
       "| CS001215000145 | 2017-06-05     |\n",
       "| CS020401000016 | 2015-02-25     |\n",
       "| CS015414000103 | NA             |\n",
       "| CS029403000008 | NA             |\n",
       "| CS015804000004 | 2015-06-07     |\n",
       "| CS033513000180 | 2015-07-28     |\n",
       "\n"
      ],
      "text/plain": [
       "   customer_id    application_date\n",
       "1  CS021313000114 <NA>            \n",
       "2  CS037613000071 2015-04-14      \n",
       "3  CS031415000172 <NA>            \n",
       "4  CS028811000001 <NA>            \n",
       "5  CS001215000145 2017-06-05      \n",
       "6  CS020401000016 2015-02-25      \n",
       "7  CS015414000103 <NA>            \n",
       "8  CS029403000008 <NA>            \n",
       "9  CS015804000004 2015-06-07      \n",
       "10 CS033513000180 2015-07-28      "
      ]
     },
     "metadata": {},
     "output_type": "display_data"
    }
   ],
   "source": [
    "df_tmp <- cbind(df_customer[\"customer_id\"], \n",
    "                strptime(df_customer$application_date, '%Y%m%d'))\n",
    "colnames(df_tmp) <- c(\"customer_id\",\"application_date\")\n",
    "head(df_tmp, 10)"
   ]
  },
  {
   "cell_type": "markdown",
   "metadata": {},
   "source": [
    "---\n",
    "> R-047: レシート明細データフレーム（df_receipt）の売上日（sales_ymd）はYYYYMMDD形式の数値型でデータを保有している。これを日付型（dateやdatetime）に変換し、レシート番号(receipt_no)、レシートサブ番号（receipt_sub_no）とともに抽出せよ。データは10件を抽出すれば良い。"
   ]
  },
  {
   "cell_type": "code",
   "execution_count": 56,
   "metadata": {},
   "outputs": [
    {
     "data": {
      "text/html": [
       "<table>\n",
       "<thead><tr><th scope=col>receipt_no</th><th scope=col>receipt_sub_no</th><th scope=col>sales_ymd</th></tr></thead>\n",
       "<tbody>\n",
       "\t<tr><td> 112      </td><td>1         </td><td>2018-11-03</td></tr>\n",
       "\t<tr><td>1132      </td><td>2         </td><td>2018-11-18</td></tr>\n",
       "\t<tr><td>1102      </td><td>1         </td><td>2017-07-12</td></tr>\n",
       "\t<tr><td>1132      </td><td>1         </td><td>2019-02-05</td></tr>\n",
       "\t<tr><td>1102      </td><td>2         </td><td>2018-08-21</td></tr>\n",
       "\t<tr><td>1112      </td><td>1         </td><td>2019-06-05</td></tr>\n",
       "\t<tr><td>1102      </td><td>2         </td><td>2018-12-05</td></tr>\n",
       "\t<tr><td>1102      </td><td>1         </td><td>2019-09-22</td></tr>\n",
       "\t<tr><td>1112      </td><td>2         </td><td>2017-05-04</td></tr>\n",
       "\t<tr><td>1102      </td><td>1         </td><td>2019-10-10</td></tr>\n",
       "</tbody>\n",
       "</table>\n"
      ],
      "text/latex": [
       "\\begin{tabular}{r|lll}\n",
       " receipt\\_no & receipt\\_sub\\_no & sales\\_ymd\\\\\n",
       "\\hline\n",
       "\t  112       & 1          & 2018-11-03\\\\\n",
       "\t 1132       & 2          & 2018-11-18\\\\\n",
       "\t 1102       & 1          & 2017-07-12\\\\\n",
       "\t 1132       & 1          & 2019-02-05\\\\\n",
       "\t 1102       & 2          & 2018-08-21\\\\\n",
       "\t 1112       & 1          & 2019-06-05\\\\\n",
       "\t 1102       & 2          & 2018-12-05\\\\\n",
       "\t 1102       & 1          & 2019-09-22\\\\\n",
       "\t 1112       & 2          & 2017-05-04\\\\\n",
       "\t 1102       & 1          & 2019-10-10\\\\\n",
       "\\end{tabular}\n"
      ],
      "text/markdown": [
       "\n",
       "| receipt_no | receipt_sub_no | sales_ymd |\n",
       "|---|---|---|\n",
       "|  112       | 1          | 2018-11-03 |\n",
       "| 1132       | 2          | 2018-11-18 |\n",
       "| 1102       | 1          | 2017-07-12 |\n",
       "| 1132       | 1          | 2019-02-05 |\n",
       "| 1102       | 2          | 2018-08-21 |\n",
       "| 1112       | 1          | 2019-06-05 |\n",
       "| 1102       | 2          | 2018-12-05 |\n",
       "| 1102       | 1          | 2019-09-22 |\n",
       "| 1112       | 2          | 2017-05-04 |\n",
       "| 1102       | 1          | 2019-10-10 |\n",
       "\n"
      ],
      "text/plain": [
       "   receipt_no receipt_sub_no sales_ymd \n",
       "1   112       1              2018-11-03\n",
       "2  1132       2              2018-11-18\n",
       "3  1102       1              2017-07-12\n",
       "4  1132       1              2019-02-05\n",
       "5  1102       2              2018-08-21\n",
       "6  1112       1              2019-06-05\n",
       "7  1102       2              2018-12-05\n",
       "8  1102       1              2019-09-22\n",
       "9  1112       2              2017-05-04\n",
       "10 1102       1              2019-10-10"
      ]
     },
     "metadata": {},
     "output_type": "display_data"
    }
   ],
   "source": [
    "df_tmp <- cbind(df_receipt[c('receipt_no', 'receipt_sub_no')], \n",
    "                strptime(as.character(df_receipt$sales_ymd), '%Y%m%d'))\n",
    "colnames(df_tmp) <- c(\"receipt_no\",\"receipt_sub_no\", \"sales_ymd\")\n",
    "head(df_tmp, 10)"
   ]
  },
  {
   "cell_type": "markdown",
   "metadata": {},
   "source": [
    "---\n",
    "> R-048: レシート明細データフレーム（df_receipt）の売上エポック秒（sales_epoch）は数値型のUNIX秒でデータを保有している。これを日付型（POSIXct）に変換し、レシート番号(receipt_no)、レシートサブ番号（receipt_sub_no）とともに抽出せよ。データは10件を抽出すれば良い。"
   ]
  },
  {
   "cell_type": "code",
   "execution_count": 57,
   "metadata": {},
   "outputs": [
    {
     "data": {
      "text/html": [
       "<table>\n",
       "<thead><tr><th scope=col>receipt_no</th><th scope=col>receipt_sub_no</th><th scope=col>sales_ymd</th></tr></thead>\n",
       "<tbody>\n",
       "\t<tr><td> 112               </td><td>1                  </td><td>2009-11-03 09:00:00</td></tr>\n",
       "\t<tr><td>1132               </td><td>2                  </td><td>2009-11-18 09:00:00</td></tr>\n",
       "\t<tr><td>1102               </td><td>1                  </td><td>2008-07-12 09:00:00</td></tr>\n",
       "\t<tr><td>1132               </td><td>1                  </td><td>2010-02-05 09:00:00</td></tr>\n",
       "\t<tr><td>1102               </td><td>2                  </td><td>2009-08-21 09:00:00</td></tr>\n",
       "\t<tr><td>1112               </td><td>1                  </td><td>2010-06-05 09:00:00</td></tr>\n",
       "\t<tr><td>1102               </td><td>2                  </td><td>2009-12-05 09:00:00</td></tr>\n",
       "\t<tr><td>1102               </td><td>1                  </td><td>2010-09-22 09:00:00</td></tr>\n",
       "\t<tr><td>1112               </td><td>2                  </td><td>2008-05-04 09:00:00</td></tr>\n",
       "\t<tr><td>1102               </td><td>1                  </td><td>2010-10-10 09:00:00</td></tr>\n",
       "</tbody>\n",
       "</table>\n"
      ],
      "text/latex": [
       "\\begin{tabular}{r|lll}\n",
       " receipt\\_no & receipt\\_sub\\_no & sales\\_ymd\\\\\n",
       "\\hline\n",
       "\t  112                & 1                   & 2009-11-03 09:00:00\\\\\n",
       "\t 1132                & 2                   & 2009-11-18 09:00:00\\\\\n",
       "\t 1102                & 1                   & 2008-07-12 09:00:00\\\\\n",
       "\t 1132                & 1                   & 2010-02-05 09:00:00\\\\\n",
       "\t 1102                & 2                   & 2009-08-21 09:00:00\\\\\n",
       "\t 1112                & 1                   & 2010-06-05 09:00:00\\\\\n",
       "\t 1102                & 2                   & 2009-12-05 09:00:00\\\\\n",
       "\t 1102                & 1                   & 2010-09-22 09:00:00\\\\\n",
       "\t 1112                & 2                   & 2008-05-04 09:00:00\\\\\n",
       "\t 1102                & 1                   & 2010-10-10 09:00:00\\\\\n",
       "\\end{tabular}\n"
      ],
      "text/markdown": [
       "\n",
       "| receipt_no | receipt_sub_no | sales_ymd |\n",
       "|---|---|---|\n",
       "|  112                | 1                   | 2009-11-03 09:00:00 |\n",
       "| 1132                | 2                   | 2009-11-18 09:00:00 |\n",
       "| 1102                | 1                   | 2008-07-12 09:00:00 |\n",
       "| 1132                | 1                   | 2010-02-05 09:00:00 |\n",
       "| 1102                | 2                   | 2009-08-21 09:00:00 |\n",
       "| 1112                | 1                   | 2010-06-05 09:00:00 |\n",
       "| 1102                | 2                   | 2009-12-05 09:00:00 |\n",
       "| 1102                | 1                   | 2010-09-22 09:00:00 |\n",
       "| 1112                | 2                   | 2008-05-04 09:00:00 |\n",
       "| 1102                | 1                   | 2010-10-10 09:00:00 |\n",
       "\n"
      ],
      "text/plain": [
       "   receipt_no receipt_sub_no sales_ymd          \n",
       "1   112       1              2009-11-03 09:00:00\n",
       "2  1132       2              2009-11-18 09:00:00\n",
       "3  1102       1              2008-07-12 09:00:00\n",
       "4  1132       1              2010-02-05 09:00:00\n",
       "5  1102       2              2009-08-21 09:00:00\n",
       "6  1112       1              2010-06-05 09:00:00\n",
       "7  1102       2              2009-12-05 09:00:00\n",
       "8  1102       1              2010-09-22 09:00:00\n",
       "9  1112       2              2008-05-04 09:00:00\n",
       "10 1102       1              2010-10-10 09:00:00"
      ]
     },
     "metadata": {},
     "output_type": "display_data"
    }
   ],
   "source": [
    "df_tmp <- cbind(df_receipt[c('receipt_no', 'receipt_sub_no')], \n",
    "                as.POSIXct(df_receipt$sales_epoch, origin=\"1970-01-01\"))\n",
    "colnames(df_tmp) <- c(\"receipt_no\",\"receipt_sub_no\", \"sales_ymd\")\n",
    "head(df_tmp, 10)"
   ]
  },
  {
   "cell_type": "markdown",
   "metadata": {},
   "source": [
    "---\n",
    "> R-049: レシート明細データフレーム（df_receipt）の売上エポック秒（sales_epoch）を日付型（POSIXct）に変換し、\"年\"だけ取り出してレシート番号(receipt_no)、レシートサブ番号（receipt_sub_no）とともに抽出せよ。データは10件を抽出すれば良い。"
   ]
  },
  {
   "cell_type": "code",
   "execution_count": 58,
   "metadata": {},
   "outputs": [
    {
     "data": {
      "text/html": [
       "<table>\n",
       "<thead><tr><th scope=col>receipt_no</th><th scope=col>receipt_sub_no</th><th scope=col>sales_ymd</th></tr></thead>\n",
       "<tbody>\n",
       "\t<tr><td> 112</td><td>1   </td><td>2009</td></tr>\n",
       "\t<tr><td>1132</td><td>2   </td><td>2009</td></tr>\n",
       "\t<tr><td>1102</td><td>1   </td><td>2008</td></tr>\n",
       "\t<tr><td>1132</td><td>1   </td><td>2010</td></tr>\n",
       "\t<tr><td>1102</td><td>2   </td><td>2009</td></tr>\n",
       "\t<tr><td>1112</td><td>1   </td><td>2010</td></tr>\n",
       "\t<tr><td>1102</td><td>2   </td><td>2009</td></tr>\n",
       "\t<tr><td>1102</td><td>1   </td><td>2010</td></tr>\n",
       "\t<tr><td>1112</td><td>2   </td><td>2008</td></tr>\n",
       "\t<tr><td>1102</td><td>1   </td><td>2010</td></tr>\n",
       "</tbody>\n",
       "</table>\n"
      ],
      "text/latex": [
       "\\begin{tabular}{r|lll}\n",
       " receipt\\_no & receipt\\_sub\\_no & sales\\_ymd\\\\\n",
       "\\hline\n",
       "\t  112 & 1    & 2009\\\\\n",
       "\t 1132 & 2    & 2009\\\\\n",
       "\t 1102 & 1    & 2008\\\\\n",
       "\t 1132 & 1    & 2010\\\\\n",
       "\t 1102 & 2    & 2009\\\\\n",
       "\t 1112 & 1    & 2010\\\\\n",
       "\t 1102 & 2    & 2009\\\\\n",
       "\t 1102 & 1    & 2010\\\\\n",
       "\t 1112 & 2    & 2008\\\\\n",
       "\t 1102 & 1    & 2010\\\\\n",
       "\\end{tabular}\n"
      ],
      "text/markdown": [
       "\n",
       "| receipt_no | receipt_sub_no | sales_ymd |\n",
       "|---|---|---|\n",
       "|  112 | 1    | 2009 |\n",
       "| 1132 | 2    | 2009 |\n",
       "| 1102 | 1    | 2008 |\n",
       "| 1132 | 1    | 2010 |\n",
       "| 1102 | 2    | 2009 |\n",
       "| 1112 | 1    | 2010 |\n",
       "| 1102 | 2    | 2009 |\n",
       "| 1102 | 1    | 2010 |\n",
       "| 1112 | 2    | 2008 |\n",
       "| 1102 | 1    | 2010 |\n",
       "\n"
      ],
      "text/plain": [
       "   receipt_no receipt_sub_no sales_ymd\n",
       "1   112       1              2009     \n",
       "2  1132       2              2009     \n",
       "3  1102       1              2008     \n",
       "4  1132       1              2010     \n",
       "5  1102       2              2009     \n",
       "6  1112       1              2010     \n",
       "7  1102       2              2009     \n",
       "8  1102       1              2010     \n",
       "9  1112       2              2008     \n",
       "10 1102       1              2010     "
      ]
     },
     "metadata": {},
     "output_type": "display_data"
    }
   ],
   "source": [
    "df_tmp <- cbind(df_receipt[c('receipt_no', 'receipt_sub_no')], \n",
    "                substring(as.POSIXct(df_receipt$sales_epoch, origin=\"1970-01-01\"), 1, 4))\n",
    "colnames(df_tmp) <- c(\"receipt_no\",\"receipt_sub_no\", \"sales_ymd\")\n",
    "head(df_tmp, 10)"
   ]
  },
  {
   "cell_type": "markdown",
   "metadata": {},
   "source": [
    "---\n",
    "> R-050: レシート明細データフレーム（df_receipt）の売上エポック秒（sales_epoch）を日付型（POSIXct）に変換し、\"月\"だけ取り出してレシート番号(receipt_no)、レシートサブ番号（receipt_sub_no）とともに抽出せよ。なお、\"月\"は0埋め2桁で取り出すこと。データは10件を抽出すれば良い。"
   ]
  },
  {
   "cell_type": "code",
   "execution_count": 59,
   "metadata": {},
   "outputs": [
    {
     "data": {
      "text/html": [
       "<table>\n",
       "<thead><tr><th scope=col>receipt_no</th><th scope=col>receipt_sub_no</th><th scope=col>sales_ymd</th></tr></thead>\n",
       "<tbody>\n",
       "\t<tr><td> 112</td><td>1   </td><td>11  </td></tr>\n",
       "\t<tr><td>1132</td><td>2   </td><td>11  </td></tr>\n",
       "\t<tr><td>1102</td><td>1   </td><td>07  </td></tr>\n",
       "\t<tr><td>1132</td><td>1   </td><td>02  </td></tr>\n",
       "\t<tr><td>1102</td><td>2   </td><td>08  </td></tr>\n",
       "\t<tr><td>1112</td><td>1   </td><td>06  </td></tr>\n",
       "\t<tr><td>1102</td><td>2   </td><td>12  </td></tr>\n",
       "\t<tr><td>1102</td><td>1   </td><td>09  </td></tr>\n",
       "\t<tr><td>1112</td><td>2   </td><td>05  </td></tr>\n",
       "\t<tr><td>1102</td><td>1   </td><td>10  </td></tr>\n",
       "</tbody>\n",
       "</table>\n"
      ],
      "text/latex": [
       "\\begin{tabular}{r|lll}\n",
       " receipt\\_no & receipt\\_sub\\_no & sales\\_ymd\\\\\n",
       "\\hline\n",
       "\t  112 & 1    & 11  \\\\\n",
       "\t 1132 & 2    & 11  \\\\\n",
       "\t 1102 & 1    & 07  \\\\\n",
       "\t 1132 & 1    & 02  \\\\\n",
       "\t 1102 & 2    & 08  \\\\\n",
       "\t 1112 & 1    & 06  \\\\\n",
       "\t 1102 & 2    & 12  \\\\\n",
       "\t 1102 & 1    & 09  \\\\\n",
       "\t 1112 & 2    & 05  \\\\\n",
       "\t 1102 & 1    & 10  \\\\\n",
       "\\end{tabular}\n"
      ],
      "text/markdown": [
       "\n",
       "| receipt_no | receipt_sub_no | sales_ymd |\n",
       "|---|---|---|\n",
       "|  112 | 1    | 11   |\n",
       "| 1132 | 2    | 11   |\n",
       "| 1102 | 1    | 07   |\n",
       "| 1132 | 1    | 02   |\n",
       "| 1102 | 2    | 08   |\n",
       "| 1112 | 1    | 06   |\n",
       "| 1102 | 2    | 12   |\n",
       "| 1102 | 1    | 09   |\n",
       "| 1112 | 2    | 05   |\n",
       "| 1102 | 1    | 10   |\n",
       "\n"
      ],
      "text/plain": [
       "   receipt_no receipt_sub_no sales_ymd\n",
       "1   112       1              11       \n",
       "2  1132       2              11       \n",
       "3  1102       1              07       \n",
       "4  1132       1              02       \n",
       "5  1102       2              08       \n",
       "6  1112       1              06       \n",
       "7  1102       2              12       \n",
       "8  1102       1              09       \n",
       "9  1112       2              05       \n",
       "10 1102       1              10       "
      ]
     },
     "metadata": {},
     "output_type": "display_data"
    }
   ],
   "source": [
    "df_tmp <- cbind(df_receipt[c('receipt_no', 'receipt_sub_no')], \n",
    "                substring(as.POSIXct(df_receipt$sales_epoch, origin=\"1970-01-01\"), 6, 7))\n",
    "colnames(df_tmp) <- c(\"receipt_no\",\"receipt_sub_no\", \"sales_ymd\")\n",
    "head(df_tmp, 10)"
   ]
  },
  {
   "cell_type": "markdown",
   "metadata": {},
   "source": [
    "---\n",
    "> R-051: レシート明細データフレーム（df_receipt）の売上エポック秒（sales_epoch）を日付型（POSIXct）に変換し、\"日\"だけ取り出してレシート番号(receipt_no)、レシートサブ番号（receipt_sub_no）とともに抽出せよ。なお、\"日\"は0埋め2桁で取り出すこと。データは10件を抽出すれば良い。"
   ]
  },
  {
   "cell_type": "code",
   "execution_count": 60,
   "metadata": {},
   "outputs": [
    {
     "data": {
      "text/html": [
       "<table>\n",
       "<thead><tr><th scope=col>receipt_no</th><th scope=col>receipt_sub_no</th><th scope=col>sales_ymd</th></tr></thead>\n",
       "<tbody>\n",
       "\t<tr><td> 112</td><td>1   </td><td>03  </td></tr>\n",
       "\t<tr><td>1132</td><td>2   </td><td>18  </td></tr>\n",
       "\t<tr><td>1102</td><td>1   </td><td>12  </td></tr>\n",
       "\t<tr><td>1132</td><td>1   </td><td>05  </td></tr>\n",
       "\t<tr><td>1102</td><td>2   </td><td>21  </td></tr>\n",
       "\t<tr><td>1112</td><td>1   </td><td>05  </td></tr>\n",
       "\t<tr><td>1102</td><td>2   </td><td>05  </td></tr>\n",
       "\t<tr><td>1102</td><td>1   </td><td>22  </td></tr>\n",
       "\t<tr><td>1112</td><td>2   </td><td>04  </td></tr>\n",
       "\t<tr><td>1102</td><td>1   </td><td>10  </td></tr>\n",
       "</tbody>\n",
       "</table>\n"
      ],
      "text/latex": [
       "\\begin{tabular}{r|lll}\n",
       " receipt\\_no & receipt\\_sub\\_no & sales\\_ymd\\\\\n",
       "\\hline\n",
       "\t  112 & 1    & 03  \\\\\n",
       "\t 1132 & 2    & 18  \\\\\n",
       "\t 1102 & 1    & 12  \\\\\n",
       "\t 1132 & 1    & 05  \\\\\n",
       "\t 1102 & 2    & 21  \\\\\n",
       "\t 1112 & 1    & 05  \\\\\n",
       "\t 1102 & 2    & 05  \\\\\n",
       "\t 1102 & 1    & 22  \\\\\n",
       "\t 1112 & 2    & 04  \\\\\n",
       "\t 1102 & 1    & 10  \\\\\n",
       "\\end{tabular}\n"
      ],
      "text/markdown": [
       "\n",
       "| receipt_no | receipt_sub_no | sales_ymd |\n",
       "|---|---|---|\n",
       "|  112 | 1    | 03   |\n",
       "| 1132 | 2    | 18   |\n",
       "| 1102 | 1    | 12   |\n",
       "| 1132 | 1    | 05   |\n",
       "| 1102 | 2    | 21   |\n",
       "| 1112 | 1    | 05   |\n",
       "| 1102 | 2    | 05   |\n",
       "| 1102 | 1    | 22   |\n",
       "| 1112 | 2    | 04   |\n",
       "| 1102 | 1    | 10   |\n",
       "\n"
      ],
      "text/plain": [
       "   receipt_no receipt_sub_no sales_ymd\n",
       "1   112       1              03       \n",
       "2  1132       2              18       \n",
       "3  1102       1              12       \n",
       "4  1132       1              05       \n",
       "5  1102       2              21       \n",
       "6  1112       1              05       \n",
       "7  1102       2              05       \n",
       "8  1102       1              22       \n",
       "9  1112       2              04       \n",
       "10 1102       1              10       "
      ]
     },
     "metadata": {},
     "output_type": "display_data"
    }
   ],
   "source": [
    "df_tmp <- cbind(df_receipt[c('receipt_no', 'receipt_sub_no')], \n",
    "                substring(as.POSIXct(df_receipt$sales_epoch, origin=\"1970-01-01\"), 9, 10))\n",
    "colnames(df_tmp) <- c(\"receipt_no\",\"receipt_sub_no\", \"sales_ymd\")\n",
    "head(df_tmp, 10)"
   ]
  },
  {
   "cell_type": "markdown",
   "metadata": {},
   "source": [
    "---\n",
    "> R-052: レシート明細データフレーム（df_receipt）の売上金額（amount）を顧客ID（customer_id）ごとに合計の上、売上金額合計に対して2000円以下を0、2000円超を1に2値化し、顧客ID、合計金額とともに10件表示せよ。ただし、顧客IDが\"Z\"から始まるのものは非会員を表すため、除外して計算すること。\n"
   ]
  },
  {
   "cell_type": "code",
   "execution_count": 61,
   "metadata": {},
   "outputs": [
    {
     "name": "stderr",
     "output_type": "stream",
     "text": [
      "`summarise()` ungrouping output (override with `.groups` argument)\n"
     ]
    },
    {
     "data": {
      "text/html": [
       "<table>\n",
       "<thead><tr><th scope=col>customer_id</th><th scope=col>sum_amount</th><th scope=col>bit_amount</th></tr></thead>\n",
       "<tbody>\n",
       "\t<tr><td>CS001113000004</td><td>1298          </td><td>0             </td></tr>\n",
       "\t<tr><td>CS001114000005</td><td> 626          </td><td>0             </td></tr>\n",
       "\t<tr><td>CS001115000010</td><td>3044          </td><td>1             </td></tr>\n",
       "\t<tr><td>CS001205000004</td><td>1988          </td><td>0             </td></tr>\n",
       "\t<tr><td>CS001205000006</td><td>3337          </td><td>1             </td></tr>\n",
       "\t<tr><td>CS001211000025</td><td> 456          </td><td>0             </td></tr>\n",
       "\t<tr><td>CS001212000027</td><td> 448          </td><td>0             </td></tr>\n",
       "\t<tr><td>CS001212000031</td><td> 296          </td><td>0             </td></tr>\n",
       "\t<tr><td>CS001212000046</td><td> 228          </td><td>0             </td></tr>\n",
       "\t<tr><td>CS001212000070</td><td> 456          </td><td>0             </td></tr>\n",
       "</tbody>\n",
       "</table>\n"
      ],
      "text/latex": [
       "\\begin{tabular}{r|lll}\n",
       " customer\\_id & sum\\_amount & bit\\_amount\\\\\n",
       "\\hline\n",
       "\t CS001113000004 & 1298           & 0             \\\\\n",
       "\t CS001114000005 &  626           & 0             \\\\\n",
       "\t CS001115000010 & 3044           & 1             \\\\\n",
       "\t CS001205000004 & 1988           & 0             \\\\\n",
       "\t CS001205000006 & 3337           & 1             \\\\\n",
       "\t CS001211000025 &  456           & 0             \\\\\n",
       "\t CS001212000027 &  448           & 0             \\\\\n",
       "\t CS001212000031 &  296           & 0             \\\\\n",
       "\t CS001212000046 &  228           & 0             \\\\\n",
       "\t CS001212000070 &  456           & 0             \\\\\n",
       "\\end{tabular}\n"
      ],
      "text/markdown": [
       "\n",
       "| customer_id | sum_amount | bit_amount |\n",
       "|---|---|---|\n",
       "| CS001113000004 | 1298           | 0              |\n",
       "| CS001114000005 |  626           | 0              |\n",
       "| CS001115000010 | 3044           | 1              |\n",
       "| CS001205000004 | 1988           | 0              |\n",
       "| CS001205000006 | 3337           | 1              |\n",
       "| CS001211000025 |  456           | 0              |\n",
       "| CS001212000027 |  448           | 0              |\n",
       "| CS001212000031 |  296           | 0              |\n",
       "| CS001212000046 |  228           | 0              |\n",
       "| CS001212000070 |  456           | 0              |\n",
       "\n"
      ],
      "text/plain": [
       "   customer_id    sum_amount bit_amount\n",
       "1  CS001113000004 1298       0         \n",
       "2  CS001114000005  626       0         \n",
       "3  CS001115000010 3044       1         \n",
       "4  CS001205000004 1988       0         \n",
       "5  CS001205000006 3337       1         \n",
       "6  CS001211000025  456       0         \n",
       "7  CS001212000027  448       0         \n",
       "8  CS001212000031  296       0         \n",
       "9  CS001212000046  228       0         \n",
       "10 CS001212000070  456       0         "
      ]
     },
     "metadata": {},
     "output_type": "display_data"
    }
   ],
   "source": [
    "df_receipt %>%\n",
    "    filter(!grepl(\"^Z\", customer_id)) %>%\n",
    "    group_by(customer_id) %>%\n",
    "    summarise(sum_amount=sum(amount)) %>%\n",
    "    mutate(bit_amount = ifelse(sum_amount <= 2000, 0, 1))　%>%\n",
    "    slice(1:10)"
   ]
  },
  {
   "cell_type": "markdown",
   "metadata": {},
   "source": [
    "---\n",
    "> R-053: 顧客データフレーム（df_customer）の郵便番号（postal_cd）に対し、東京（先頭3桁が100〜209のもの）を1、それ以外のものを０に２値化せよ。さらにレシート明細データフレーム（df_receipt）と結合し、全期間において買い物実績のある顧客数を、作成した2値ごとにカウントせよ。"
   ]
  },
  {
   "cell_type": "code",
   "execution_count": 62,
   "metadata": {},
   "outputs": [
    {
     "name": "stderr",
     "output_type": "stream",
     "text": [
      "Warning message:\n",
      "\"Problem with `mutate()` input `postal_bit`.\n",
      "i  強制変換により NA が生成されました \n",
      "i Input `postal_bit` is `ifelse(...)`.\"Warning message in ifelse(100 <= as.integer(str_sub(postal_cd, start = 1, end = 3)) & :\n",
      "\" 強制変換により NA が生成されました \"Warning message:\n",
      "\"Problem with `mutate()` input `postal_bit`.\n",
      "i  強制変換により NA が生成されました \n",
      "i Input `postal_bit` is `ifelse(...)`.\"Warning message in ifelse(100 <= as.integer(str_sub(postal_cd, start = 1, end = 3)) & :\n",
      "\" 強制変換により NA が生成されました \"`summarise()` ungrouping output (override with `.groups` argument)\n"
     ]
    },
    {
     "data": {
      "text/html": [
       "<table>\n",
       "<thead><tr><th scope=col>postal_bit</th><th scope=col>customer_cnt</th></tr></thead>\n",
       "<tbody>\n",
       "\t<tr><td> 0  </td><td>1940</td></tr>\n",
       "\t<tr><td> 1  </td><td>2192</td></tr>\n",
       "\t<tr><td>NA  </td><td>4174</td></tr>\n",
       "</tbody>\n",
       "</table>\n"
      ],
      "text/latex": [
       "\\begin{tabular}{r|ll}\n",
       " postal\\_bit & customer\\_cnt\\\\\n",
       "\\hline\n",
       "\t  0   & 1940\\\\\n",
       "\t  1   & 2192\\\\\n",
       "\t NA   & 4174\\\\\n",
       "\\end{tabular}\n"
      ],
      "text/markdown": [
       "\n",
       "| postal_bit | customer_cnt |\n",
       "|---|---|\n",
       "|  0   | 1940 |\n",
       "|  1   | 2192 |\n",
       "| NA   | 4174 |\n",
       "\n"
      ],
      "text/plain": [
       "  postal_bit customer_cnt\n",
       "1  0         1940        \n",
       "2  1         2192        \n",
       "3 NA         4174        "
      ]
     },
     "metadata": {},
     "output_type": "display_data"
    }
   ],
   "source": [
    "inner_join(df_receipt, df_customer, by = \"customer_id\") %>%\n",
    "    mutate(postal_bit = ifelse(100 <= as.integer(str_sub(postal_cd, start=1, end=3)) & \n",
    "                                   as.integer(str_sub(postal_cd, start=1, end=3)) <= 209, 1, 0)) %>%\n",
    "    group_by(postal_bit) %>%\n",
    "    summarise(customer_cnt = n_distinct(customer_id))"
   ]
  },
  {
   "cell_type": "markdown",
   "metadata": {},
   "source": [
    "---\n",
    "> R-054: 顧客データデータフレーム（df_customer）の住所（address）は、埼玉県、千葉県、東京都、神奈川県のいずれかとなっている。都道府県毎にコード値を作成し、顧客ID、住所とともに抽出せよ。値は埼玉県を11、千葉県を12、東京都を13、神奈川県を14とすること。結果は10件表示させれば良い。"
   ]
  },
  {
   "cell_type": "code",
   "execution_count": 63,
   "metadata": {},
   "outputs": [
    {
     "data": {
      "text/html": [
       "<table>\n",
       "<thead><tr><th scope=col>customer_id</th><th scope=col>address</th><th scope=col>prefecture_cd</th></tr></thead>\n",
       "<tbody>\n",
       "\t<tr><td>CS021313000114                    </td><td>S14021                            </td><td>NA                                </td></tr>\n",
       "\t<tr><td>CS037613000071                    </td><td>東京都江東区南砂**********        </td><td>13                                </td></tr>\n",
       "\t<tr><td>CS031415000172                    </td><td>S13031                            </td><td>NA                                </td></tr>\n",
       "\t<tr><td>CS028811000001                    </td><td>S14028                            </td><td>NA                                </td></tr>\n",
       "\t<tr><td>CS001215000145                    </td><td>東京都大田区仲六郷**********      </td><td>13                                </td></tr>\n",
       "\t<tr><td>CS020401000016                    </td><td>東京都板橋区若木**********        </td><td>13                                </td></tr>\n",
       "\t<tr><td>CS015414000103                    </td><td>S13015                            </td><td>NA                                </td></tr>\n",
       "\t<tr><td>CS029403000008                    </td><td>S12029                            </td><td>NA                                </td></tr>\n",
       "\t<tr><td>CS015804000004                    </td><td>東京都江東区北砂**********        </td><td>13                                </td></tr>\n",
       "\t<tr><td>CS033513000180                    </td><td>神奈川県横浜市旭区善部町**********</td><td>14                                </td></tr>\n",
       "</tbody>\n",
       "</table>\n"
      ],
      "text/latex": [
       "\\begin{tabular}{r|lll}\n",
       " customer\\_id & address & prefecture\\_cd\\\\\n",
       "\\hline\n",
       "\t CS021313000114                     & S14021                             & NA                                \\\\\n",
       "\t CS037613000071                     & 東京都江東区南砂**********         & 13                                \\\\\n",
       "\t CS031415000172                     & S13031                             & NA                                \\\\\n",
       "\t CS028811000001                     & S14028                             & NA                                \\\\\n",
       "\t CS001215000145                     & 東京都大田区仲六郷**********       & 13                                \\\\\n",
       "\t CS020401000016                     & 東京都板橋区若木**********         & 13                                \\\\\n",
       "\t CS015414000103                     & S13015                             & NA                                \\\\\n",
       "\t CS029403000008                     & S12029                             & NA                                \\\\\n",
       "\t CS015804000004                     & 東京都江東区北砂**********         & 13                                \\\\\n",
       "\t CS033513000180                     & 神奈川県横浜市旭区善部町********** & 14                                \\\\\n",
       "\\end{tabular}\n"
      ],
      "text/markdown": [
       "\n",
       "| customer_id | address | prefecture_cd |\n",
       "|---|---|---|\n",
       "| CS021313000114                     | S14021                             | NA                                 |\n",
       "| CS037613000071                     | 東京都江東区南砂**********         | 13                                 |\n",
       "| CS031415000172                     | S13031                             | NA                                 |\n",
       "| CS028811000001                     | S14028                             | NA                                 |\n",
       "| CS001215000145                     | 東京都大田区仲六郷**********       | 13                                 |\n",
       "| CS020401000016                     | 東京都板橋区若木**********         | 13                                 |\n",
       "| CS015414000103                     | S13015                             | NA                                 |\n",
       "| CS029403000008                     | S12029                             | NA                                 |\n",
       "| CS015804000004                     | 東京都江東区北砂**********         | 13                                 |\n",
       "| CS033513000180                     | 神奈川県横浜市旭区善部町********** | 14                                 |\n",
       "\n"
      ],
      "text/plain": [
       "   customer_id    address                            prefecture_cd\n",
       "1  CS021313000114 S14021                             NA           \n",
       "2  CS037613000071 東京都江東区南砂**********         13           \n",
       "3  CS031415000172 S13031                             NA           \n",
       "4  CS028811000001 S14028                             NA           \n",
       "5  CS001215000145 東京都大田区仲六郷**********       13           \n",
       "6  CS020401000016 東京都板橋区若木**********         13           \n",
       "7  CS015414000103 S13015                             NA           \n",
       "8  CS029403000008 S12029                             NA           \n",
       "9  CS015804000004 東京都江東区北砂**********         13           \n",
       "10 CS033513000180 神奈川県横浜市旭区善部町********** 14           "
      ]
     },
     "metadata": {},
     "output_type": "display_data"
    }
   ],
   "source": [
    "df_customer %>%\n",
    "    mutate(prefecture_cd = case_when(\n",
    "                                str_sub(address, start=1, end=3) == \"埼玉県\" ~ \"11\",\n",
    "                                str_sub(address, start=1, end=3) == \"千葉県\" ~ \"12\",\n",
    "                                str_sub(address, start=1, end=3) == \"東京都\" ~ \"13\",\n",
    "                                str_sub(address, start=1, end=3) == \"神奈川\" ~ \"14\")) %>%\n",
    "    select(customer_id, address, prefecture_cd) %>%\n",
    "    slice(1:10)"
   ]
  },
  {
   "cell_type": "markdown",
   "metadata": {},
   "source": [
    "---\n",
    "> R-055: レシート明細データフレーム（df_receipt）の売上金額（amount）を顧客ID（customer_id）ごとに合計し、その合計金額の四分位点を求めよ。その上で、顧客ごとの売上金額合計に対して以下の基準でカテゴリ値を作成し、顧客ID、売上金額と合計ともに表示せよ。カテゴリ値は上から順に1〜4とする。結果は10件表示させれば良い。\n",
    ">\n",
    "> - 最小値以上第一四分位未満\n",
    "> - 第一四分位以上第二四分位未満\n",
    "> - 第二四分位以上第三四分位未満\n",
    "> - 第三四分位以上"
   ]
  },
  {
   "cell_type": "code",
   "execution_count": 64,
   "metadata": {},
   "outputs": [
    {
     "name": "stderr",
     "output_type": "stream",
     "text": [
      "`summarise()` ungrouping output (override with `.groups` argument)\n"
     ]
    },
    {
     "data": {
      "text/html": [
       "<table>\n",
       "<thead><tr><th scope=col>customer_id</th><th scope=col>sum_amount</th><th scope=col>amount_cat</th></tr></thead>\n",
       "<tbody>\n",
       "\t<tr><td>CS001113000004</td><td>1298          </td><td>2             </td></tr>\n",
       "\t<tr><td>CS001114000005</td><td> 626          </td><td>2             </td></tr>\n",
       "\t<tr><td>CS001115000010</td><td>3044          </td><td>3             </td></tr>\n",
       "\t<tr><td>CS001205000004</td><td>1988          </td><td>3             </td></tr>\n",
       "\t<tr><td>CS001205000006</td><td>3337          </td><td>3             </td></tr>\n",
       "\t<tr><td>CS001211000025</td><td> 456          </td><td>1             </td></tr>\n",
       "\t<tr><td>CS001212000027</td><td> 448          </td><td>1             </td></tr>\n",
       "\t<tr><td>CS001212000031</td><td> 296          </td><td>1             </td></tr>\n",
       "\t<tr><td>CS001212000046</td><td> 228          </td><td>1             </td></tr>\n",
       "\t<tr><td>CS001212000070</td><td> 456          </td><td>1             </td></tr>\n",
       "</tbody>\n",
       "</table>\n"
      ],
      "text/latex": [
       "\\begin{tabular}{r|lll}\n",
       " customer\\_id & sum\\_amount & amount\\_cat\\\\\n",
       "\\hline\n",
       "\t CS001113000004 & 1298           & 2             \\\\\n",
       "\t CS001114000005 &  626           & 2             \\\\\n",
       "\t CS001115000010 & 3044           & 3             \\\\\n",
       "\t CS001205000004 & 1988           & 3             \\\\\n",
       "\t CS001205000006 & 3337           & 3             \\\\\n",
       "\t CS001211000025 &  456           & 1             \\\\\n",
       "\t CS001212000027 &  448           & 1             \\\\\n",
       "\t CS001212000031 &  296           & 1             \\\\\n",
       "\t CS001212000046 &  228           & 1             \\\\\n",
       "\t CS001212000070 &  456           & 1             \\\\\n",
       "\\end{tabular}\n"
      ],
      "text/markdown": [
       "\n",
       "| customer_id | sum_amount | amount_cat |\n",
       "|---|---|---|\n",
       "| CS001113000004 | 1298           | 2              |\n",
       "| CS001114000005 |  626           | 2              |\n",
       "| CS001115000010 | 3044           | 3              |\n",
       "| CS001205000004 | 1988           | 3              |\n",
       "| CS001205000006 | 3337           | 3              |\n",
       "| CS001211000025 |  456           | 1              |\n",
       "| CS001212000027 |  448           | 1              |\n",
       "| CS001212000031 |  296           | 1              |\n",
       "| CS001212000046 |  228           | 1              |\n",
       "| CS001212000070 |  456           | 1              |\n",
       "\n"
      ],
      "text/plain": [
       "   customer_id    sum_amount amount_cat\n",
       "1  CS001113000004 1298       2         \n",
       "2  CS001114000005  626       2         \n",
       "3  CS001115000010 3044       3         \n",
       "4  CS001205000004 1988       3         \n",
       "5  CS001205000006 3337       3         \n",
       "6  CS001211000025  456       1         \n",
       "7  CS001212000027  448       1         \n",
       "8  CS001212000031  296       1         \n",
       "9  CS001212000046  228       1         \n",
       "10 CS001212000070  456       1         "
      ]
     },
     "metadata": {},
     "output_type": "display_data"
    }
   ],
   "source": [
    "df_receipt %>%\n",
    "    group_by(customer_id) %>%\n",
    "    summarise(sum_amount = sum(amount)) %>%\n",
    "    mutate(amount_cat = case_when(\n",
    "        sum_amount < quantile(sum_amount)[2]  ~ \"1\",\n",
    "        sum_amount < quantile(sum_amount)[3]  ~ \"2\",\n",
    "        sum_amount < quantile(sum_amount)[4]  ~ \"3\",\n",
    "        quantile(sum_amount)[4] <= sum_amount ~ \"4\"\n",
    "    )) %>%\n",
    "    slice(1:10)"
   ]
  },
  {
   "cell_type": "markdown",
   "metadata": {},
   "source": [
    "---\n",
    "> R-056: 顧客データフレーム（df_customer）の年齢（age）をもとに10歳刻みで年代を算出し、顧客ID（customer_id）、生年月日（birth_day）とともに抽出せよ。ただし、60歳以上は全て60歳代とすること。年代を表すカテゴリ名は任意とする。先頭10件を表示させればよい。"
   ]
  },
  {
   "cell_type": "code",
   "execution_count": 65,
   "metadata": {},
   "outputs": [
    {
     "name": "stderr",
     "output_type": "stream",
     "text": [
      "Warning message:\n",
      "\"Problem with `mutate()` input `era`.\n",
      "i '/' not meaningful for factors\n",
      "i Input `era` is `trunc(age/10) * 10`.\"Warning message in Ops.factor(age, 10):\n",
      "\"'/' not meaningful for factors\"Warning message:\n",
      "\"Problem with `mutate()` input `era`.\n",
      "i invalid factor level, NA generated\n",
      "i Input `era` is `case_when(era < 60 ~ as.factor(era), era >= 60 ~ as.factor(\"60\"))`.\"Warning message in `[<-.factor`(`*tmp*`, i, value = structure(1L, .Label = \"60\", class = \"factor\")):\n",
      "\"invalid factor level, NA generated\""
     ]
    },
    {
     "data": {
      "text/html": [
       "<table>\n",
       "<thead><tr><th scope=col>customer_id</th><th scope=col>birth_day</th><th scope=col>age</th><th scope=col>era</th></tr></thead>\n",
       "<tbody>\n",
       "\t<tr><td>CS021313000114</td><td>37            </td><td>259-1113      </td><td>NA            </td></tr>\n",
       "\t<tr><td>CS037613000071</td><td>1952-04-01    </td><td>66            </td><td>NA            </td></tr>\n",
       "\t<tr><td>CS031415000172</td><td>42            </td><td>151-0053      </td><td>NA            </td></tr>\n",
       "\t<tr><td>CS028811000001</td><td>86            </td><td>245-0016      </td><td>NA            </td></tr>\n",
       "\t<tr><td>CS001215000145</td><td>1995-03-29    </td><td>24            </td><td>NA            </td></tr>\n",
       "\t<tr><td>CS020401000016</td><td>1974-09-15    </td><td>44            </td><td>NA            </td></tr>\n",
       "\t<tr><td>CS015414000103</td><td>41            </td><td>136-0073      </td><td>NA            </td></tr>\n",
       "\t<tr><td>CS029403000008</td><td>45            </td><td>279-0003      </td><td>NA            </td></tr>\n",
       "\t<tr><td>CS015804000004</td><td>1931-05-02    </td><td>87            </td><td>NA            </td></tr>\n",
       "\t<tr><td>CS033513000180</td><td>1962-07-11    </td><td>56            </td><td>NA            </td></tr>\n",
       "</tbody>\n",
       "</table>\n"
      ],
      "text/latex": [
       "\\begin{tabular}{r|llll}\n",
       " customer\\_id & birth\\_day & age & era\\\\\n",
       "\\hline\n",
       "\t CS021313000114 & 37             & 259-1113       & NA            \\\\\n",
       "\t CS037613000071 & 1952-04-01     & 66             & NA            \\\\\n",
       "\t CS031415000172 & 42             & 151-0053       & NA            \\\\\n",
       "\t CS028811000001 & 86             & 245-0016       & NA            \\\\\n",
       "\t CS001215000145 & 1995-03-29     & 24             & NA            \\\\\n",
       "\t CS020401000016 & 1974-09-15     & 44             & NA            \\\\\n",
       "\t CS015414000103 & 41             & 136-0073       & NA            \\\\\n",
       "\t CS029403000008 & 45             & 279-0003       & NA            \\\\\n",
       "\t CS015804000004 & 1931-05-02     & 87             & NA            \\\\\n",
       "\t CS033513000180 & 1962-07-11     & 56             & NA            \\\\\n",
       "\\end{tabular}\n"
      ],
      "text/markdown": [
       "\n",
       "| customer_id | birth_day | age | era |\n",
       "|---|---|---|---|\n",
       "| CS021313000114 | 37             | 259-1113       | NA             |\n",
       "| CS037613000071 | 1952-04-01     | 66             | NA             |\n",
       "| CS031415000172 | 42             | 151-0053       | NA             |\n",
       "| CS028811000001 | 86             | 245-0016       | NA             |\n",
       "| CS001215000145 | 1995-03-29     | 24             | NA             |\n",
       "| CS020401000016 | 1974-09-15     | 44             | NA             |\n",
       "| CS015414000103 | 41             | 136-0073       | NA             |\n",
       "| CS029403000008 | 45             | 279-0003       | NA             |\n",
       "| CS015804000004 | 1931-05-02     | 87             | NA             |\n",
       "| CS033513000180 | 1962-07-11     | 56             | NA             |\n",
       "\n"
      ],
      "text/plain": [
       "   customer_id    birth_day  age      era\n",
       "1  CS021313000114 37         259-1113 NA \n",
       "2  CS037613000071 1952-04-01 66       NA \n",
       "3  CS031415000172 42         151-0053 NA \n",
       "4  CS028811000001 86         245-0016 NA \n",
       "5  CS001215000145 1995-03-29 24       NA \n",
       "6  CS020401000016 1974-09-15 44       NA \n",
       "7  CS015414000103 41         136-0073 NA \n",
       "8  CS029403000008 45         279-0003 NA \n",
       "9  CS015804000004 1931-05-02 87       NA \n",
       "10 CS033513000180 1962-07-11 56       NA "
      ]
     },
     "metadata": {},
     "output_type": "display_data"
    }
   ],
   "source": [
    "df_customer[c(\"customer_id\", \"birth_day\",\"age\")] %>%\n",
    "    mutate(era = trunc(age / 10) * 10) %>%\n",
    "    mutate(era = case_when(\n",
    "        era < 60 ~ as.factor(era),\n",
    "        era >= 60 ~　as.factor(\"60\")\n",
    "    )) %>%\n",
    "    slice(1:10)\n"
   ]
  },
  {
   "cell_type": "markdown",
   "metadata": {},
   "source": [
    "---\n",
    "> R-057: 前問題の抽出結果と性別（gender）を組み合わせ、新たに性別×年代の組み合わせを表すカテゴリデータを作成せよ。組み合わせを表すカテゴリの値は任意とする。先頭10件を表示させればよい。"
   ]
  },
  {
   "cell_type": "code",
   "execution_count": 66,
   "metadata": {},
   "outputs": [
    {
     "name": "stderr",
     "output_type": "stream",
     "text": [
      "Warning message:\n",
      "\"Problem with `mutate()` input `era`.\n",
      "i '/' not meaningful for factors\n",
      "i Input `era` is `trunc(age/10) * 10`.\"Warning message in Ops.factor(age, 10):\n",
      "\"'/' not meaningful for factors\"Warning message:\n",
      "\"Problem with `mutate()` input `era`.\n",
      "i invalid factor level, NA generated\n",
      "i Input `era` is `case_when(era < 60 ~ as.factor(era), era >= 60 ~ as.factor(\"60\"))`.\"Warning message in `[<-.factor`(`*tmp*`, i, value = structure(1L, .Label = \"60\", class = \"factor\")):\n",
      "\"invalid factor level, NA generated\""
     ]
    },
    {
     "data": {
      "text/html": [
       "<table>\n",
       "<thead><tr><th scope=col>customer_id</th><th scope=col>gender_cd</th><th scope=col>birth_day</th><th scope=col>age</th><th scope=col>era</th><th scope=col>gender_era_cd</th></tr></thead>\n",
       "<tbody>\n",
       "\t<tr><td>CS021313000114</td><td>女性          </td><td>37            </td><td>259-1113      </td><td>NA            </td><td>女性NA        </td></tr>\n",
       "\t<tr><td>CS037613000071</td><td>9             </td><td>1952-04-01    </td><td>66            </td><td>NA            </td><td>9NA           </td></tr>\n",
       "\t<tr><td>CS031415000172</td><td>女性          </td><td>42            </td><td>151-0053      </td><td>NA            </td><td>女性NA        </td></tr>\n",
       "\t<tr><td>CS028811000001</td><td>女性          </td><td>86            </td><td>245-0016      </td><td>NA            </td><td>女性NA        </td></tr>\n",
       "\t<tr><td>CS001215000145</td><td>1             </td><td>1995-03-29    </td><td>24            </td><td>NA            </td><td>1NA           </td></tr>\n",
       "\t<tr><td>CS020401000016</td><td>0             </td><td>1974-09-15    </td><td>44            </td><td>NA            </td><td>0NA           </td></tr>\n",
       "\t<tr><td>CS015414000103</td><td>女性          </td><td>41            </td><td>136-0073      </td><td>NA            </td><td>女性NA        </td></tr>\n",
       "\t<tr><td>CS029403000008</td><td>男性          </td><td>45            </td><td>279-0003      </td><td>NA            </td><td>男性NA        </td></tr>\n",
       "\t<tr><td>CS015804000004</td><td>0             </td><td>1931-05-02    </td><td>87            </td><td>NA            </td><td>0NA           </td></tr>\n",
       "\t<tr><td>CS033513000180</td><td>1             </td><td>1962-07-11    </td><td>56            </td><td>NA            </td><td>1NA           </td></tr>\n",
       "</tbody>\n",
       "</table>\n"
      ],
      "text/latex": [
       "\\begin{tabular}{r|llllll}\n",
       " customer\\_id & gender\\_cd & birth\\_day & age & era & gender\\_era\\_cd\\\\\n",
       "\\hline\n",
       "\t CS021313000114 & 女性           & 37             & 259-1113       & NA             & 女性NA        \\\\\n",
       "\t CS037613000071 & 9              & 1952-04-01     & 66             & NA             & 9NA           \\\\\n",
       "\t CS031415000172 & 女性           & 42             & 151-0053       & NA             & 女性NA        \\\\\n",
       "\t CS028811000001 & 女性           & 86             & 245-0016       & NA             & 女性NA        \\\\\n",
       "\t CS001215000145 & 1              & 1995-03-29     & 24             & NA             & 1NA           \\\\\n",
       "\t CS020401000016 & 0              & 1974-09-15     & 44             & NA             & 0NA           \\\\\n",
       "\t CS015414000103 & 女性           & 41             & 136-0073       & NA             & 女性NA        \\\\\n",
       "\t CS029403000008 & 男性           & 45             & 279-0003       & NA             & 男性NA        \\\\\n",
       "\t CS015804000004 & 0              & 1931-05-02     & 87             & NA             & 0NA           \\\\\n",
       "\t CS033513000180 & 1              & 1962-07-11     & 56             & NA             & 1NA           \\\\\n",
       "\\end{tabular}\n"
      ],
      "text/markdown": [
       "\n",
       "| customer_id | gender_cd | birth_day | age | era | gender_era_cd |\n",
       "|---|---|---|---|---|---|\n",
       "| CS021313000114 | 女性           | 37             | 259-1113       | NA             | 女性NA         |\n",
       "| CS037613000071 | 9              | 1952-04-01     | 66             | NA             | 9NA            |\n",
       "| CS031415000172 | 女性           | 42             | 151-0053       | NA             | 女性NA         |\n",
       "| CS028811000001 | 女性           | 86             | 245-0016       | NA             | 女性NA         |\n",
       "| CS001215000145 | 1              | 1995-03-29     | 24             | NA             | 1NA            |\n",
       "| CS020401000016 | 0              | 1974-09-15     | 44             | NA             | 0NA            |\n",
       "| CS015414000103 | 女性           | 41             | 136-0073       | NA             | 女性NA         |\n",
       "| CS029403000008 | 男性           | 45             | 279-0003       | NA             | 男性NA         |\n",
       "| CS015804000004 | 0              | 1931-05-02     | 87             | NA             | 0NA            |\n",
       "| CS033513000180 | 1              | 1962-07-11     | 56             | NA             | 1NA            |\n",
       "\n"
      ],
      "text/plain": [
       "   customer_id    gender_cd birth_day  age      era gender_era_cd\n",
       "1  CS021313000114 女性      37         259-1113 NA  女性NA       \n",
       "2  CS037613000071 9         1952-04-01 66       NA  9NA          \n",
       "3  CS031415000172 女性      42         151-0053 NA  女性NA       \n",
       "4  CS028811000001 女性      86         245-0016 NA  女性NA       \n",
       "5  CS001215000145 1         1995-03-29 24       NA  1NA          \n",
       "6  CS020401000016 0         1974-09-15 44       NA  0NA          \n",
       "7  CS015414000103 女性      41         136-0073 NA  女性NA       \n",
       "8  CS029403000008 男性      45         279-0003 NA  男性NA       \n",
       "9  CS015804000004 0         1931-05-02 87       NA  0NA          \n",
       "10 CS033513000180 1         1962-07-11 56       NA  1NA          "
      ]
     },
     "metadata": {},
     "output_type": "display_data"
    }
   ],
   "source": [
    "# 性別コード１桁と年代コード２桁を連結した性年代コードを生成する\n",
    "df_customer[c(\"customer_id\", \"gender_cd\",\"birth_day\", \"age\")] %>%\n",
    "    mutate(era = trunc(age / 10) * 10) %>%\n",
    "    mutate(era = case_when(\n",
    "        era < 60 ~ as.factor(era),\n",
    "        era >= 60 ~　as.factor(\"60\"))) %>%\n",
    "    mutate(gender_era_cd = paste(gender_cd, era, sep=\"\")) %>%\n",
    "    slice(1:10)\n"
   ]
  },
  {
   "cell_type": "markdown",
   "metadata": {},
   "source": [
    "---\n",
    "> R-058: 顧客データフレーム（df_customer）の性別コード（gender_cd）をダミー変数化し、顧客ID（customer_id）とともに抽出せよ。結果は10件表示させれば良い。"
   ]
  },
  {
   "cell_type": "code",
   "execution_count": 67,
   "metadata": {},
   "outputs": [
    {
     "data": {
      "text/html": [
       "<table>\n",
       "<thead><tr><th scope=col>customer_id</th><th scope=col>gender_cd.0</th><th scope=col>gender_cd.1</th><th scope=col>gender_cd.9</th><th scope=col>gender_cd.女性</th><th scope=col>gender_cd.男性</th><th scope=col>gender_cd.不明</th></tr></thead>\n",
       "<tbody>\n",
       "\t<tr><td>CS021313000114</td><td>0             </td><td>0             </td><td>0             </td><td>1             </td><td>0             </td><td>0             </td></tr>\n",
       "\t<tr><td>CS037613000071</td><td>0             </td><td>0             </td><td>1             </td><td>0             </td><td>0             </td><td>0             </td></tr>\n",
       "\t<tr><td>CS031415000172</td><td>0             </td><td>0             </td><td>0             </td><td>1             </td><td>0             </td><td>0             </td></tr>\n",
       "\t<tr><td>CS028811000001</td><td>0             </td><td>0             </td><td>0             </td><td>1             </td><td>0             </td><td>0             </td></tr>\n",
       "\t<tr><td>CS001215000145</td><td>0             </td><td>1             </td><td>0             </td><td>0             </td><td>0             </td><td>0             </td></tr>\n",
       "\t<tr><td>CS020401000016</td><td>1             </td><td>0             </td><td>0             </td><td>0             </td><td>0             </td><td>0             </td></tr>\n",
       "\t<tr><td>CS015414000103</td><td>0             </td><td>0             </td><td>0             </td><td>1             </td><td>0             </td><td>0             </td></tr>\n",
       "\t<tr><td>CS029403000008</td><td>0             </td><td>0             </td><td>0             </td><td>0             </td><td>1             </td><td>0             </td></tr>\n",
       "\t<tr><td>CS015804000004</td><td>1             </td><td>0             </td><td>0             </td><td>0             </td><td>0             </td><td>0             </td></tr>\n",
       "\t<tr><td>CS033513000180</td><td>0             </td><td>1             </td><td>0             </td><td>0             </td><td>0             </td><td>0             </td></tr>\n",
       "</tbody>\n",
       "</table>\n"
      ],
      "text/latex": [
       "\\begin{tabular}{r|lllllll}\n",
       " customer\\_id & gender\\_cd.0 & gender\\_cd.1 & gender\\_cd.9 & gender\\_cd.女性 & gender\\_cd.男性 & gender\\_cd.不明\\\\\n",
       "\\hline\n",
       "\t CS021313000114 & 0              & 0              & 0              & 1              & 0              & 0             \\\\\n",
       "\t CS037613000071 & 0              & 0              & 1              & 0              & 0              & 0             \\\\\n",
       "\t CS031415000172 & 0              & 0              & 0              & 1              & 0              & 0             \\\\\n",
       "\t CS028811000001 & 0              & 0              & 0              & 1              & 0              & 0             \\\\\n",
       "\t CS001215000145 & 0              & 1              & 0              & 0              & 0              & 0             \\\\\n",
       "\t CS020401000016 & 1              & 0              & 0              & 0              & 0              & 0             \\\\\n",
       "\t CS015414000103 & 0              & 0              & 0              & 1              & 0              & 0             \\\\\n",
       "\t CS029403000008 & 0              & 0              & 0              & 0              & 1              & 0             \\\\\n",
       "\t CS015804000004 & 1              & 0              & 0              & 0              & 0              & 0             \\\\\n",
       "\t CS033513000180 & 0              & 1              & 0              & 0              & 0              & 0             \\\\\n",
       "\\end{tabular}\n"
      ],
      "text/markdown": [
       "\n",
       "| customer_id | gender_cd.0 | gender_cd.1 | gender_cd.9 | gender_cd.女性 | gender_cd.男性 | gender_cd.不明 |\n",
       "|---|---|---|---|---|---|---|\n",
       "| CS021313000114 | 0              | 0              | 0              | 1              | 0              | 0              |\n",
       "| CS037613000071 | 0              | 0              | 1              | 0              | 0              | 0              |\n",
       "| CS031415000172 | 0              | 0              | 0              | 1              | 0              | 0              |\n",
       "| CS028811000001 | 0              | 0              | 0              | 1              | 0              | 0              |\n",
       "| CS001215000145 | 0              | 1              | 0              | 0              | 0              | 0              |\n",
       "| CS020401000016 | 1              | 0              | 0              | 0              | 0              | 0              |\n",
       "| CS015414000103 | 0              | 0              | 0              | 1              | 0              | 0              |\n",
       "| CS029403000008 | 0              | 0              | 0              | 0              | 1              | 0              |\n",
       "| CS015804000004 | 1              | 0              | 0              | 0              | 0              | 0              |\n",
       "| CS033513000180 | 0              | 1              | 0              | 0              | 0              | 0              |\n",
       "\n"
      ],
      "text/plain": [
       "   customer_id    gender_cd.0 gender_cd.1 gender_cd.9 gender_cd.女性\n",
       "1  CS021313000114 0           0           0           1             \n",
       "2  CS037613000071 0           0           1           0             \n",
       "3  CS031415000172 0           0           0           1             \n",
       "4  CS028811000001 0           0           0           1             \n",
       "5  CS001215000145 0           1           0           0             \n",
       "6  CS020401000016 1           0           0           0             \n",
       "7  CS015414000103 0           0           0           1             \n",
       "8  CS029403000008 0           0           0           0             \n",
       "9  CS015804000004 1           0           0           0             \n",
       "10 CS033513000180 0           1           0           0             \n",
       "   gender_cd.男性 gender_cd.不明\n",
       "1  0              0             \n",
       "2  0              0             \n",
       "3  0              0             \n",
       "4  0              0             \n",
       "5  0              0             \n",
       "6  0              0             \n",
       "7  0              0             \n",
       "8  1              0             \n",
       "9  0              0             \n",
       "10 0              0             "
      ]
     },
     "metadata": {},
     "output_type": "display_data"
    }
   ],
   "source": [
    "dummy_gender_model <- dummyVars(~gender_cd, data = df_customer, fullRank = FALSE)\n",
    "dummy_dender <- predict(dummy_gender_model, df_customer)\n",
    "head(cbind(df_customer['customer_id'], dummy_dender),10)"
   ]
  },
  {
   "cell_type": "markdown",
   "metadata": {},
   "source": [
    "---\n",
    "> R-059: レシート明細データフレーム（df_receipt）の売上金額（amount）を顧客ID（customer_id）ごとに合計し、合計した売上金額を平均0、標準偏差1に標準化して顧客ID、売上金額合計とともに表示せよ。標準化に使用する標準偏差は、不偏標準偏差と標本標準偏差のどちらでも良いものとする。ただし、顧客IDが\"Z\"から始まるのものは非会員を表すため、除外して計算すること。結果は10件表示させれば良い。"
   ]
  },
  {
   "cell_type": "code",
   "execution_count": 68,
   "metadata": {},
   "outputs": [
    {
     "name": "stderr",
     "output_type": "stream",
     "text": [
      "`summarise()` ungrouping output (override with `.groups` argument)\n"
     ]
    },
    {
     "data": {
      "text/html": [
       "<table>\n",
       "<thead><tr><th scope=col>customer_id</th><th scope=col>sum_amount</th><th scope=col>normalized_amount</th></tr></thead>\n",
       "<tbody>\n",
       "\t<tr><td>CS001113000004</td><td>1298          </td><td>-0.4593502    </td></tr>\n",
       "\t<tr><td>CS001114000005</td><td> 626          </td><td>-0.7063478    </td></tr>\n",
       "\t<tr><td>CS001115000010</td><td>3044          </td><td> 0.1824025    </td></tr>\n",
       "\t<tr><td>CS001205000004</td><td>1988          </td><td>-0.2057366    </td></tr>\n",
       "\t<tr><td>CS001205000006</td><td>3337          </td><td> 0.2900964    </td></tr>\n",
       "\t<tr><td>CS001211000025</td><td> 456          </td><td>-0.7688324    </td></tr>\n",
       "\t<tr><td>CS001212000027</td><td> 448          </td><td>-0.7717728    </td></tr>\n",
       "\t<tr><td>CS001212000031</td><td> 296          </td><td>-0.8276413    </td></tr>\n",
       "\t<tr><td>CS001212000046</td><td> 228          </td><td>-0.8526351    </td></tr>\n",
       "\t<tr><td>CS001212000070</td><td> 456          </td><td>-0.7688324    </td></tr>\n",
       "</tbody>\n",
       "</table>\n"
      ],
      "text/latex": [
       "\\begin{tabular}{r|lll}\n",
       " customer\\_id & sum\\_amount & normalized\\_amount\\\\\n",
       "\\hline\n",
       "\t CS001113000004 & 1298           & -0.4593502    \\\\\n",
       "\t CS001114000005 &  626           & -0.7063478    \\\\\n",
       "\t CS001115000010 & 3044           &  0.1824025    \\\\\n",
       "\t CS001205000004 & 1988           & -0.2057366    \\\\\n",
       "\t CS001205000006 & 3337           &  0.2900964    \\\\\n",
       "\t CS001211000025 &  456           & -0.7688324    \\\\\n",
       "\t CS001212000027 &  448           & -0.7717728    \\\\\n",
       "\t CS001212000031 &  296           & -0.8276413    \\\\\n",
       "\t CS001212000046 &  228           & -0.8526351    \\\\\n",
       "\t CS001212000070 &  456           & -0.7688324    \\\\\n",
       "\\end{tabular}\n"
      ],
      "text/markdown": [
       "\n",
       "| customer_id | sum_amount | normalized_amount |\n",
       "|---|---|---|\n",
       "| CS001113000004 | 1298           | -0.4593502     |\n",
       "| CS001114000005 |  626           | -0.7063478     |\n",
       "| CS001115000010 | 3044           |  0.1824025     |\n",
       "| CS001205000004 | 1988           | -0.2057366     |\n",
       "| CS001205000006 | 3337           |  0.2900964     |\n",
       "| CS001211000025 |  456           | -0.7688324     |\n",
       "| CS001212000027 |  448           | -0.7717728     |\n",
       "| CS001212000031 |  296           | -0.8276413     |\n",
       "| CS001212000046 |  228           | -0.8526351     |\n",
       "| CS001212000070 |  456           | -0.7688324     |\n",
       "\n"
      ],
      "text/plain": [
       "   customer_id    sum_amount normalized_amount\n",
       "1  CS001113000004 1298       -0.4593502       \n",
       "2  CS001114000005  626       -0.7063478       \n",
       "3  CS001115000010 3044        0.1824025       \n",
       "4  CS001205000004 1988       -0.2057366       \n",
       "5  CS001205000006 3337        0.2900964       \n",
       "6  CS001211000025  456       -0.7688324       \n",
       "7  CS001212000027  448       -0.7717728       \n",
       "8  CS001212000031  296       -0.8276413       \n",
       "9  CS001212000046  228       -0.8526351       \n",
       "10 CS001212000070  456       -0.7688324       "
      ]
     },
     "metadata": {},
     "output_type": "display_data"
    }
   ],
   "source": [
    "# Rのscaleを使用しているため不偏標準偏差で標準化される\n",
    "df_receipt %>%\n",
    "    filter(!grepl(\"^Z\", customer_id)) %>%\n",
    "    group_by(customer_id) %>%\n",
    "    summarise(sum_amount = sum(amount)) %>%\n",
    "    mutate(normalized_amount = scale(sum_amount, center = TRUE, scale = TRUE)) %>%\n",
    "    slice(1:10)"
   ]
  },
  {
   "cell_type": "markdown",
   "metadata": {},
   "source": [
    "---\n",
    "> R-060: レシート明細データフレーム（df_receipt）の売上金額（amount）を顧客ID（customer_id）ごとに合計し、合計した売上金額を最小値0、最大値1に正規化して顧客ID、売上金額合計とともに表示せよ。ただし、顧客IDが\"Z\"から始まるのものは非会員を表すため、除外して計算すること。結果は10件表示させれば良い。"
   ]
  },
  {
   "cell_type": "code",
   "execution_count": 69,
   "metadata": {},
   "outputs": [
    {
     "name": "stderr",
     "output_type": "stream",
     "text": [
      "`summarise()` ungrouping output (override with `.groups` argument)\n"
     ]
    },
    {
     "data": {
      "text/html": [
       "<table>\n",
       "<thead><tr><th scope=col>customer_id</th><th scope=col>sum_amount</th><th scope=col>normalized_amount</th></tr></thead>\n",
       "<tbody>\n",
       "\t<tr><td>CS001113000004</td><td>1298          </td><td>0.053354188   </td></tr>\n",
       "\t<tr><td>CS001114000005</td><td> 626          </td><td>0.024157108   </td></tr>\n",
       "\t<tr><td>CS001115000010</td><td>3044          </td><td>0.129214460   </td></tr>\n",
       "\t<tr><td>CS001205000004</td><td>1988          </td><td>0.083333333   </td></tr>\n",
       "\t<tr><td>CS001205000006</td><td>3337          </td><td>0.141944734   </td></tr>\n",
       "\t<tr><td>CS001211000025</td><td> 456          </td><td>0.016770942   </td></tr>\n",
       "\t<tr><td>CS001212000027</td><td> 448          </td><td>0.016423358   </td></tr>\n",
       "\t<tr><td>CS001212000031</td><td> 296          </td><td>0.009819256   </td></tr>\n",
       "\t<tr><td>CS001212000046</td><td> 228          </td><td>0.006864790   </td></tr>\n",
       "\t<tr><td>CS001212000070</td><td> 456          </td><td>0.016770942   </td></tr>\n",
       "</tbody>\n",
       "</table>\n"
      ],
      "text/latex": [
       "\\begin{tabular}{r|lll}\n",
       " customer\\_id & sum\\_amount & normalized\\_amount\\\\\n",
       "\\hline\n",
       "\t CS001113000004 & 1298           & 0.053354188   \\\\\n",
       "\t CS001114000005 &  626           & 0.024157108   \\\\\n",
       "\t CS001115000010 & 3044           & 0.129214460   \\\\\n",
       "\t CS001205000004 & 1988           & 0.083333333   \\\\\n",
       "\t CS001205000006 & 3337           & 0.141944734   \\\\\n",
       "\t CS001211000025 &  456           & 0.016770942   \\\\\n",
       "\t CS001212000027 &  448           & 0.016423358   \\\\\n",
       "\t CS001212000031 &  296           & 0.009819256   \\\\\n",
       "\t CS001212000046 &  228           & 0.006864790   \\\\\n",
       "\t CS001212000070 &  456           & 0.016770942   \\\\\n",
       "\\end{tabular}\n"
      ],
      "text/markdown": [
       "\n",
       "| customer_id | sum_amount | normalized_amount |\n",
       "|---|---|---|\n",
       "| CS001113000004 | 1298           | 0.053354188    |\n",
       "| CS001114000005 |  626           | 0.024157108    |\n",
       "| CS001115000010 | 3044           | 0.129214460    |\n",
       "| CS001205000004 | 1988           | 0.083333333    |\n",
       "| CS001205000006 | 3337           | 0.141944734    |\n",
       "| CS001211000025 |  456           | 0.016770942    |\n",
       "| CS001212000027 |  448           | 0.016423358    |\n",
       "| CS001212000031 |  296           | 0.009819256    |\n",
       "| CS001212000046 |  228           | 0.006864790    |\n",
       "| CS001212000070 |  456           | 0.016770942    |\n",
       "\n"
      ],
      "text/plain": [
       "   customer_id    sum_amount normalized_amount\n",
       "1  CS001113000004 1298       0.053354188      \n",
       "2  CS001114000005  626       0.024157108      \n",
       "3  CS001115000010 3044       0.129214460      \n",
       "4  CS001205000004 1988       0.083333333      \n",
       "5  CS001205000006 3337       0.141944734      \n",
       "6  CS001211000025  456       0.016770942      \n",
       "7  CS001212000027  448       0.016423358      \n",
       "8  CS001212000031  296       0.009819256      \n",
       "9  CS001212000046  228       0.006864790      \n",
       "10 CS001212000070  456       0.016770942      "
      ]
     },
     "metadata": {},
     "output_type": "display_data"
    }
   ],
   "source": [
    "df_receipt %>%\n",
    "    filter(!grepl(\"^Z\", customer_id)) %>%\n",
    "    group_by(customer_id) %>%\n",
    "    summarise(sum_amount = sum(amount)) %>%\n",
    "    mutate(normalized_amount = scale(sum_amount, center = min(sum_amount), scale = max(sum_amount) - min(sum_amount))) %>%\n",
    "    slice(1:10)"
   ]
  },
  {
   "cell_type": "markdown",
   "metadata": {},
   "source": [
    "---\n",
    "> R-061: レシート明細データフレーム（df_receipt）の売上金額（amount）を顧客ID（customer_id）ごとに合計し、合計した売上金額を常用対数化（底=10）して顧客ID、売上金額合計とともに表示せよ（ただし、顧客IDが\"Z\"から始まるのものは非会員を表すため、除外して計算すること）。結果は10件表示させれば良い。"
   ]
  },
  {
   "cell_type": "code",
   "execution_count": 70,
   "metadata": {},
   "outputs": [
    {
     "name": "stderr",
     "output_type": "stream",
     "text": [
      "`summarise()` ungrouping output (override with `.groups` argument)\n"
     ]
    },
    {
     "data": {
      "text/html": [
       "<table>\n",
       "<thead><tr><th scope=col>customer_id</th><th scope=col>sum_amount</th><th scope=col>log_amount</th></tr></thead>\n",
       "<tbody>\n",
       "\t<tr><td>CS001113000004</td><td>1298          </td><td>3.113609      </td></tr>\n",
       "\t<tr><td>CS001114000005</td><td> 626          </td><td>2.797268      </td></tr>\n",
       "\t<tr><td>CS001115000010</td><td>3044          </td><td>3.483587      </td></tr>\n",
       "\t<tr><td>CS001205000004</td><td>1988          </td><td>3.298635      </td></tr>\n",
       "\t<tr><td>CS001205000006</td><td>3337          </td><td>3.523486      </td></tr>\n",
       "\t<tr><td>CS001211000025</td><td> 456          </td><td>2.659916      </td></tr>\n",
       "\t<tr><td>CS001212000027</td><td> 448          </td><td>2.652246      </td></tr>\n",
       "\t<tr><td>CS001212000031</td><td> 296          </td><td>2.472756      </td></tr>\n",
       "\t<tr><td>CS001212000046</td><td> 228          </td><td>2.359835      </td></tr>\n",
       "\t<tr><td>CS001212000070</td><td> 456          </td><td>2.659916      </td></tr>\n",
       "</tbody>\n",
       "</table>\n"
      ],
      "text/latex": [
       "\\begin{tabular}{r|lll}\n",
       " customer\\_id & sum\\_amount & log\\_amount\\\\\n",
       "\\hline\n",
       "\t CS001113000004 & 1298           & 3.113609      \\\\\n",
       "\t CS001114000005 &  626           & 2.797268      \\\\\n",
       "\t CS001115000010 & 3044           & 3.483587      \\\\\n",
       "\t CS001205000004 & 1988           & 3.298635      \\\\\n",
       "\t CS001205000006 & 3337           & 3.523486      \\\\\n",
       "\t CS001211000025 &  456           & 2.659916      \\\\\n",
       "\t CS001212000027 &  448           & 2.652246      \\\\\n",
       "\t CS001212000031 &  296           & 2.472756      \\\\\n",
       "\t CS001212000046 &  228           & 2.359835      \\\\\n",
       "\t CS001212000070 &  456           & 2.659916      \\\\\n",
       "\\end{tabular}\n"
      ],
      "text/markdown": [
       "\n",
       "| customer_id | sum_amount | log_amount |\n",
       "|---|---|---|\n",
       "| CS001113000004 | 1298           | 3.113609       |\n",
       "| CS001114000005 |  626           | 2.797268       |\n",
       "| CS001115000010 | 3044           | 3.483587       |\n",
       "| CS001205000004 | 1988           | 3.298635       |\n",
       "| CS001205000006 | 3337           | 3.523486       |\n",
       "| CS001211000025 |  456           | 2.659916       |\n",
       "| CS001212000027 |  448           | 2.652246       |\n",
       "| CS001212000031 |  296           | 2.472756       |\n",
       "| CS001212000046 |  228           | 2.359835       |\n",
       "| CS001212000070 |  456           | 2.659916       |\n",
       "\n"
      ],
      "text/plain": [
       "   customer_id    sum_amount log_amount\n",
       "1  CS001113000004 1298       3.113609  \n",
       "2  CS001114000005  626       2.797268  \n",
       "3  CS001115000010 3044       3.483587  \n",
       "4  CS001205000004 1988       3.298635  \n",
       "5  CS001205000006 3337       3.523486  \n",
       "6  CS001211000025  456       2.659916  \n",
       "7  CS001212000027  448       2.652246  \n",
       "8  CS001212000031  296       2.472756  \n",
       "9  CS001212000046  228       2.359835  \n",
       "10 CS001212000070  456       2.659916  "
      ]
     },
     "metadata": {},
     "output_type": "display_data"
    }
   ],
   "source": [
    "df_receipt %>%\n",
    "    filter(!grepl(\"^Z\", customer_id)) %>%\n",
    "    group_by(customer_id) %>%\n",
    "    summarise(sum_amount = sum(amount)) %>%\n",
    "    mutate(log_amount = log((sum_amount + 1),10)) %>%\n",
    "    slice(1:10)"
   ]
  },
  {
   "cell_type": "markdown",
   "metadata": {},
   "source": [
    "---\n",
    "> R-062: レシート明細データフレーム（df_receipt）の売上金額（amount）を顧客ID（customer_id）ごとに合計し、合計した売上金額を自然対数化(底=e）して顧客ID、売上金額合計とともに表示せよ。ただし、顧客IDが\"Z\"から始まるのものは非会員を表すため、除外して計算すること。結果は10件表示させれば良い。"
   ]
  },
  {
   "cell_type": "code",
   "execution_count": 71,
   "metadata": {},
   "outputs": [
    {
     "name": "stderr",
     "output_type": "stream",
     "text": [
      "`summarise()` ungrouping output (override with `.groups` argument)\n"
     ]
    },
    {
     "data": {
      "text/html": [
       "<table>\n",
       "<thead><tr><th scope=col>customer_id</th><th scope=col>sum_amount</th><th scope=col>log_amount</th></tr></thead>\n",
       "<tbody>\n",
       "\t<tr><td>CS001113000004</td><td>1298          </td><td>7.169350      </td></tr>\n",
       "\t<tr><td>CS001114000005</td><td> 626          </td><td>6.440947      </td></tr>\n",
       "\t<tr><td>CS001115000010</td><td>3044          </td><td>8.021256      </td></tr>\n",
       "\t<tr><td>CS001205000004</td><td>1988          </td><td>7.595387      </td></tr>\n",
       "\t<tr><td>CS001205000006</td><td>3337          </td><td>8.113127      </td></tr>\n",
       "\t<tr><td>CS001211000025</td><td> 456          </td><td>6.124683      </td></tr>\n",
       "\t<tr><td>CS001212000027</td><td> 448          </td><td>6.107023      </td></tr>\n",
       "\t<tr><td>CS001212000031</td><td> 296          </td><td>5.693732      </td></tr>\n",
       "\t<tr><td>CS001212000046</td><td> 228          </td><td>5.433722      </td></tr>\n",
       "\t<tr><td>CS001212000070</td><td> 456          </td><td>6.124683      </td></tr>\n",
       "</tbody>\n",
       "</table>\n"
      ],
      "text/latex": [
       "\\begin{tabular}{r|lll}\n",
       " customer\\_id & sum\\_amount & log\\_amount\\\\\n",
       "\\hline\n",
       "\t CS001113000004 & 1298           & 7.169350      \\\\\n",
       "\t CS001114000005 &  626           & 6.440947      \\\\\n",
       "\t CS001115000010 & 3044           & 8.021256      \\\\\n",
       "\t CS001205000004 & 1988           & 7.595387      \\\\\n",
       "\t CS001205000006 & 3337           & 8.113127      \\\\\n",
       "\t CS001211000025 &  456           & 6.124683      \\\\\n",
       "\t CS001212000027 &  448           & 6.107023      \\\\\n",
       "\t CS001212000031 &  296           & 5.693732      \\\\\n",
       "\t CS001212000046 &  228           & 5.433722      \\\\\n",
       "\t CS001212000070 &  456           & 6.124683      \\\\\n",
       "\\end{tabular}\n"
      ],
      "text/markdown": [
       "\n",
       "| customer_id | sum_amount | log_amount |\n",
       "|---|---|---|\n",
       "| CS001113000004 | 1298           | 7.169350       |\n",
       "| CS001114000005 |  626           | 6.440947       |\n",
       "| CS001115000010 | 3044           | 8.021256       |\n",
       "| CS001205000004 | 1988           | 7.595387       |\n",
       "| CS001205000006 | 3337           | 8.113127       |\n",
       "| CS001211000025 |  456           | 6.124683       |\n",
       "| CS001212000027 |  448           | 6.107023       |\n",
       "| CS001212000031 |  296           | 5.693732       |\n",
       "| CS001212000046 |  228           | 5.433722       |\n",
       "| CS001212000070 |  456           | 6.124683       |\n",
       "\n"
      ],
      "text/plain": [
       "   customer_id    sum_amount log_amount\n",
       "1  CS001113000004 1298       7.169350  \n",
       "2  CS001114000005  626       6.440947  \n",
       "3  CS001115000010 3044       8.021256  \n",
       "4  CS001205000004 1988       7.595387  \n",
       "5  CS001205000006 3337       8.113127  \n",
       "6  CS001211000025  456       6.124683  \n",
       "7  CS001212000027  448       6.107023  \n",
       "8  CS001212000031  296       5.693732  \n",
       "9  CS001212000046  228       5.433722  \n",
       "10 CS001212000070  456       6.124683  "
      ]
     },
     "metadata": {},
     "output_type": "display_data"
    }
   ],
   "source": [
    "df_receipt %>%\n",
    "    filter(!grepl(\"^Z\", customer_id)) %>%\n",
    "    group_by(customer_id) %>%\n",
    "    summarise(sum_amount = sum(amount)) %>%\n",
    "    mutate(log_amount = log(sum_amount + 1)) %>%\n",
    "    slice(1:10)"
   ]
  },
  {
   "cell_type": "markdown",
   "metadata": {},
   "source": [
    "---\n",
    "> R-063: 商品データフレーム（df_product）の単価（unit_price）と原価（unit_cost）から、各商品の利益額を算出せよ。結果は10件表示させれば良い。"
   ]
  },
  {
   "cell_type": "code",
   "execution_count": 72,
   "metadata": {},
   "outputs": [
    {
     "data": {
      "text/html": [
       "<table>\n",
       "<thead><tr><th scope=col>X.U.FEFF.product_cd</th><th scope=col>category_major_cd</th><th scope=col>category_medium_cd</th><th scope=col>category_small_cd</th><th scope=col>unit_price</th><th scope=col>unit_cost</th><th scope=col>unit_profit</th></tr></thead>\n",
       "<tbody>\n",
       "\t<tr><td>P040101001</td><td>4         </td><td>401       </td><td>40101     </td><td>198       </td><td>149       </td><td> 49       </td></tr>\n",
       "\t<tr><td>P040101002</td><td>4         </td><td>401       </td><td>40101     </td><td>218       </td><td>164       </td><td> 54       </td></tr>\n",
       "\t<tr><td>P040101003</td><td>4         </td><td>401       </td><td>40101     </td><td>230       </td><td>173       </td><td> 57       </td></tr>\n",
       "\t<tr><td>P040101004</td><td>4         </td><td>401       </td><td>40101     </td><td>248       </td><td>186       </td><td> 62       </td></tr>\n",
       "\t<tr><td>P040101005</td><td>4         </td><td>401       </td><td>40101     </td><td>268       </td><td>201       </td><td> 67       </td></tr>\n",
       "\t<tr><td>P040101006</td><td>4         </td><td>401       </td><td>40101     </td><td>298       </td><td>224       </td><td> 74       </td></tr>\n",
       "\t<tr><td>P040101007</td><td>4         </td><td>401       </td><td>40101     </td><td>338       </td><td>254       </td><td> 84       </td></tr>\n",
       "\t<tr><td>P040101008</td><td>4         </td><td>401       </td><td>40101     </td><td>420       </td><td>315       </td><td>105       </td></tr>\n",
       "\t<tr><td>P040101009</td><td>4         </td><td>401       </td><td>40101     </td><td>498       </td><td>374       </td><td>124       </td></tr>\n",
       "\t<tr><td>P040101010</td><td>4         </td><td>401       </td><td>40101     </td><td>580       </td><td>435       </td><td>145       </td></tr>\n",
       "</tbody>\n",
       "</table>\n"
      ],
      "text/latex": [
       "\\begin{tabular}{r|lllllll}\n",
       " X.U.FEFF.product\\_cd & category\\_major\\_cd & category\\_medium\\_cd & category\\_small\\_cd & unit\\_price & unit\\_cost & unit\\_profit\\\\\n",
       "\\hline\n",
       "\t P040101001 & 4          & 401        & 40101      & 198        & 149        &  49       \\\\\n",
       "\t P040101002 & 4          & 401        & 40101      & 218        & 164        &  54       \\\\\n",
       "\t P040101003 & 4          & 401        & 40101      & 230        & 173        &  57       \\\\\n",
       "\t P040101004 & 4          & 401        & 40101      & 248        & 186        &  62       \\\\\n",
       "\t P040101005 & 4          & 401        & 40101      & 268        & 201        &  67       \\\\\n",
       "\t P040101006 & 4          & 401        & 40101      & 298        & 224        &  74       \\\\\n",
       "\t P040101007 & 4          & 401        & 40101      & 338        & 254        &  84       \\\\\n",
       "\t P040101008 & 4          & 401        & 40101      & 420        & 315        & 105       \\\\\n",
       "\t P040101009 & 4          & 401        & 40101      & 498        & 374        & 124       \\\\\n",
       "\t P040101010 & 4          & 401        & 40101      & 580        & 435        & 145       \\\\\n",
       "\\end{tabular}\n"
      ],
      "text/markdown": [
       "\n",
       "| X.U.FEFF.product_cd | category_major_cd | category_medium_cd | category_small_cd | unit_price | unit_cost | unit_profit |\n",
       "|---|---|---|---|---|---|---|\n",
       "| P040101001 | 4          | 401        | 40101      | 198        | 149        |  49        |\n",
       "| P040101002 | 4          | 401        | 40101      | 218        | 164        |  54        |\n",
       "| P040101003 | 4          | 401        | 40101      | 230        | 173        |  57        |\n",
       "| P040101004 | 4          | 401        | 40101      | 248        | 186        |  62        |\n",
       "| P040101005 | 4          | 401        | 40101      | 268        | 201        |  67        |\n",
       "| P040101006 | 4          | 401        | 40101      | 298        | 224        |  74        |\n",
       "| P040101007 | 4          | 401        | 40101      | 338        | 254        |  84        |\n",
       "| P040101008 | 4          | 401        | 40101      | 420        | 315        | 105        |\n",
       "| P040101009 | 4          | 401        | 40101      | 498        | 374        | 124        |\n",
       "| P040101010 | 4          | 401        | 40101      | 580        | 435        | 145        |\n",
       "\n"
      ],
      "text/plain": [
       "   X.U.FEFF.product_cd category_major_cd category_medium_cd category_small_cd\n",
       "1  P040101001          4                 401                40101            \n",
       "2  P040101002          4                 401                40101            \n",
       "3  P040101003          4                 401                40101            \n",
       "4  P040101004          4                 401                40101            \n",
       "5  P040101005          4                 401                40101            \n",
       "6  P040101006          4                 401                40101            \n",
       "7  P040101007          4                 401                40101            \n",
       "8  P040101008          4                 401                40101            \n",
       "9  P040101009          4                 401                40101            \n",
       "10 P040101010          4                 401                40101            \n",
       "   unit_price unit_cost unit_profit\n",
       "1  198        149        49        \n",
       "2  218        164        54        \n",
       "3  230        173        57        \n",
       "4  248        186        62        \n",
       "5  268        201        67        \n",
       "6  298        224        74        \n",
       "7  338        254        84        \n",
       "8  420        315       105        \n",
       "9  498        374       124        \n",
       "10 580        435       145        "
      ]
     },
     "metadata": {},
     "output_type": "display_data"
    }
   ],
   "source": [
    "df_product %>%\n",
    "    mutate(unit_profit = unit_price - unit_cost) %>%\n",
    "    slice(1:10)"
   ]
  },
  {
   "cell_type": "markdown",
   "metadata": {},
   "source": [
    "---\n",
    "> R-064: 商品データフレーム（df_product）の単価（unit_price）と原価（unit_cost）から、各商品の利益率の全体平均を算出せよ。 ただし、単価と原価にはNULLが存在することに注意せよ。"
   ]
  },
  {
   "cell_type": "code",
   "execution_count": 73,
   "metadata": {},
   "outputs": [
    {
     "data": {
      "text/html": [
       "<table>\n",
       "<thead><tr><th scope=col>total_mean</th></tr></thead>\n",
       "<tbody>\n",
       "\t<tr><td>0.2491139</td></tr>\n",
       "</tbody>\n",
       "</table>\n"
      ],
      "text/latex": [
       "\\begin{tabular}{r|l}\n",
       " total\\_mean\\\\\n",
       "\\hline\n",
       "\t 0.2491139\\\\\n",
       "\\end{tabular}\n"
      ],
      "text/markdown": [
       "\n",
       "| total_mean |\n",
       "|---|\n",
       "| 0.2491139 |\n",
       "\n"
      ],
      "text/plain": [
       "  total_mean\n",
       "1 0.2491139 "
      ]
     },
     "metadata": {},
     "output_type": "display_data"
    }
   ],
   "source": [
    "df_product %>%\n",
    "    mutate(unit_profit_rate = (unit_price - unit_cost)/ unit_price)%>%\n",
    "    summarise(total_mean = mean(unit_profit_rate, na.rm = TRUE))\n"
   ]
  },
  {
   "cell_type": "markdown",
   "metadata": {},
   "source": [
    "---\n",
    "> R-065: 商品データフレーム（df_product）の各商品について、利益率が30%となる新たな単価を求めよ。ただし、1円未満は切り捨てること。そして結果を10件表示させ、利益率がおよそ30％付近であることを確認せよ。ただし、単価（unit_price）と原価（unit_cost）にはNULLが存在することに注意せよ。"
   ]
  },
  {
   "cell_type": "code",
   "execution_count": 74,
   "metadata": {},
   "outputs": [
    {
     "data": {
      "text/html": [
       "<table>\n",
       "<thead><tr><th scope=col>X.U.FEFF.product_cd</th><th scope=col>category_major_cd</th><th scope=col>category_medium_cd</th><th scope=col>category_small_cd</th><th scope=col>unit_price</th><th scope=col>unit_cost</th><th scope=col>new_price</th><th scope=col>new_profit_rate</th></tr></thead>\n",
       "<tbody>\n",
       "\t<tr><td>P040101001</td><td>4         </td><td>401       </td><td>40101     </td><td>198       </td><td>149       </td><td>212       </td><td>0.2971698 </td></tr>\n",
       "\t<tr><td>P040101002</td><td>4         </td><td>401       </td><td>40101     </td><td>218       </td><td>164       </td><td>234       </td><td>0.2991453 </td></tr>\n",
       "\t<tr><td>P040101003</td><td>4         </td><td>401       </td><td>40101     </td><td>230       </td><td>173       </td><td>247       </td><td>0.2995951 </td></tr>\n",
       "\t<tr><td>P040101004</td><td>4         </td><td>401       </td><td>40101     </td><td>248       </td><td>186       </td><td>265       </td><td>0.2981132 </td></tr>\n",
       "\t<tr><td>P040101005</td><td>4         </td><td>401       </td><td>40101     </td><td>268       </td><td>201       </td><td>287       </td><td>0.2996516 </td></tr>\n",
       "\t<tr><td>P040101006</td><td>4         </td><td>401       </td><td>40101     </td><td>298       </td><td>224       </td><td>320       </td><td>0.3000000 </td></tr>\n",
       "\t<tr><td>P040101007</td><td>4         </td><td>401       </td><td>40101     </td><td>338       </td><td>254       </td><td>362       </td><td>0.2983425 </td></tr>\n",
       "\t<tr><td>P040101008</td><td>4         </td><td>401       </td><td>40101     </td><td>420       </td><td>315       </td><td>450       </td><td>0.3000000 </td></tr>\n",
       "\t<tr><td>P040101009</td><td>4         </td><td>401       </td><td>40101     </td><td>498       </td><td>374       </td><td>534       </td><td>0.2996255 </td></tr>\n",
       "\t<tr><td>P040101010</td><td>4         </td><td>401       </td><td>40101     </td><td>580       </td><td>435       </td><td>621       </td><td>0.2995169 </td></tr>\n",
       "</tbody>\n",
       "</table>\n"
      ],
      "text/latex": [
       "\\begin{tabular}{r|llllllll}\n",
       " X.U.FEFF.product\\_cd & category\\_major\\_cd & category\\_medium\\_cd & category\\_small\\_cd & unit\\_price & unit\\_cost & new\\_price & new\\_profit\\_rate\\\\\n",
       "\\hline\n",
       "\t P040101001 & 4          & 401        & 40101      & 198        & 149        & 212        & 0.2971698 \\\\\n",
       "\t P040101002 & 4          & 401        & 40101      & 218        & 164        & 234        & 0.2991453 \\\\\n",
       "\t P040101003 & 4          & 401        & 40101      & 230        & 173        & 247        & 0.2995951 \\\\\n",
       "\t P040101004 & 4          & 401        & 40101      & 248        & 186        & 265        & 0.2981132 \\\\\n",
       "\t P040101005 & 4          & 401        & 40101      & 268        & 201        & 287        & 0.2996516 \\\\\n",
       "\t P040101006 & 4          & 401        & 40101      & 298        & 224        & 320        & 0.3000000 \\\\\n",
       "\t P040101007 & 4          & 401        & 40101      & 338        & 254        & 362        & 0.2983425 \\\\\n",
       "\t P040101008 & 4          & 401        & 40101      & 420        & 315        & 450        & 0.3000000 \\\\\n",
       "\t P040101009 & 4          & 401        & 40101      & 498        & 374        & 534        & 0.2996255 \\\\\n",
       "\t P040101010 & 4          & 401        & 40101      & 580        & 435        & 621        & 0.2995169 \\\\\n",
       "\\end{tabular}\n"
      ],
      "text/markdown": [
       "\n",
       "| X.U.FEFF.product_cd | category_major_cd | category_medium_cd | category_small_cd | unit_price | unit_cost | new_price | new_profit_rate |\n",
       "|---|---|---|---|---|---|---|---|\n",
       "| P040101001 | 4          | 401        | 40101      | 198        | 149        | 212        | 0.2971698  |\n",
       "| P040101002 | 4          | 401        | 40101      | 218        | 164        | 234        | 0.2991453  |\n",
       "| P040101003 | 4          | 401        | 40101      | 230        | 173        | 247        | 0.2995951  |\n",
       "| P040101004 | 4          | 401        | 40101      | 248        | 186        | 265        | 0.2981132  |\n",
       "| P040101005 | 4          | 401        | 40101      | 268        | 201        | 287        | 0.2996516  |\n",
       "| P040101006 | 4          | 401        | 40101      | 298        | 224        | 320        | 0.3000000  |\n",
       "| P040101007 | 4          | 401        | 40101      | 338        | 254        | 362        | 0.2983425  |\n",
       "| P040101008 | 4          | 401        | 40101      | 420        | 315        | 450        | 0.3000000  |\n",
       "| P040101009 | 4          | 401        | 40101      | 498        | 374        | 534        | 0.2996255  |\n",
       "| P040101010 | 4          | 401        | 40101      | 580        | 435        | 621        | 0.2995169  |\n",
       "\n"
      ],
      "text/plain": [
       "   X.U.FEFF.product_cd category_major_cd category_medium_cd category_small_cd\n",
       "1  P040101001          4                 401                40101            \n",
       "2  P040101002          4                 401                40101            \n",
       "3  P040101003          4                 401                40101            \n",
       "4  P040101004          4                 401                40101            \n",
       "5  P040101005          4                 401                40101            \n",
       "6  P040101006          4                 401                40101            \n",
       "7  P040101007          4                 401                40101            \n",
       "8  P040101008          4                 401                40101            \n",
       "9  P040101009          4                 401                40101            \n",
       "10 P040101010          4                 401                40101            \n",
       "   unit_price unit_cost new_price new_profit_rate\n",
       "1  198        149       212       0.2971698      \n",
       "2  218        164       234       0.2991453      \n",
       "3  230        173       247       0.2995951      \n",
       "4  248        186       265       0.2981132      \n",
       "5  268        201       287       0.2996516      \n",
       "6  298        224       320       0.3000000      \n",
       "7  338        254       362       0.2983425      \n",
       "8  420        315       450       0.3000000      \n",
       "9  498        374       534       0.2996255      \n",
       "10 580        435       621       0.2995169      "
      ]
     },
     "metadata": {},
     "output_type": "display_data"
    }
   ],
   "source": [
    "df_product %>%\n",
    "    mutate(new_price = trunc(unit_cost / 0.7)) %>%\n",
    "    mutate(new_profit_rate = (new_price - unit_cost)/ new_price) %>%\n",
    "    slice(1:10)"
   ]
  },
  {
   "cell_type": "markdown",
   "metadata": {},
   "source": [
    "---\n",
    "> R-066: 商品データフレーム（df_product）の各商品について、利益率が30%となる新たな単価を求めよ。今回は、1円未満を四捨五入すること（0.5については偶数方向の丸めで良い）。そして結果を10件表示させ、利益率がおよそ30％付近であることを確認せよ。ただし、単価（unit_price）と原価（unit_cost）にはNULLが存在することに注意せよ。"
   ]
  },
  {
   "cell_type": "code",
   "execution_count": 75,
   "metadata": {},
   "outputs": [
    {
     "data": {
      "text/html": [
       "<table>\n",
       "<thead><tr><th scope=col>X.U.FEFF.product_cd</th><th scope=col>category_major_cd</th><th scope=col>category_medium_cd</th><th scope=col>category_small_cd</th><th scope=col>unit_price</th><th scope=col>unit_cost</th><th scope=col>new_price</th><th scope=col>new_profit_rate</th></tr></thead>\n",
       "<tbody>\n",
       "\t<tr><td>P040101001</td><td>4         </td><td>401       </td><td>40101     </td><td>198       </td><td>149       </td><td>213       </td><td>0.3004695 </td></tr>\n",
       "\t<tr><td>P040101002</td><td>4         </td><td>401       </td><td>40101     </td><td>218       </td><td>164       </td><td>234       </td><td>0.2991453 </td></tr>\n",
       "\t<tr><td>P040101003</td><td>4         </td><td>401       </td><td>40101     </td><td>230       </td><td>173       </td><td>247       </td><td>0.2995951 </td></tr>\n",
       "\t<tr><td>P040101004</td><td>4         </td><td>401       </td><td>40101     </td><td>248       </td><td>186       </td><td>266       </td><td>0.3007519 </td></tr>\n",
       "\t<tr><td>P040101005</td><td>4         </td><td>401       </td><td>40101     </td><td>268       </td><td>201       </td><td>287       </td><td>0.2996516 </td></tr>\n",
       "\t<tr><td>P040101006</td><td>4         </td><td>401       </td><td>40101     </td><td>298       </td><td>224       </td><td>320       </td><td>0.3000000 </td></tr>\n",
       "\t<tr><td>P040101007</td><td>4         </td><td>401       </td><td>40101     </td><td>338       </td><td>254       </td><td>363       </td><td>0.3002755 </td></tr>\n",
       "\t<tr><td>P040101008</td><td>4         </td><td>401       </td><td>40101     </td><td>420       </td><td>315       </td><td>450       </td><td>0.3000000 </td></tr>\n",
       "\t<tr><td>P040101009</td><td>4         </td><td>401       </td><td>40101     </td><td>498       </td><td>374       </td><td>534       </td><td>0.2996255 </td></tr>\n",
       "\t<tr><td>P040101010</td><td>4         </td><td>401       </td><td>40101     </td><td>580       </td><td>435       </td><td>621       </td><td>0.2995169 </td></tr>\n",
       "</tbody>\n",
       "</table>\n"
      ],
      "text/latex": [
       "\\begin{tabular}{r|llllllll}\n",
       " X.U.FEFF.product\\_cd & category\\_major\\_cd & category\\_medium\\_cd & category\\_small\\_cd & unit\\_price & unit\\_cost & new\\_price & new\\_profit\\_rate\\\\\n",
       "\\hline\n",
       "\t P040101001 & 4          & 401        & 40101      & 198        & 149        & 213        & 0.3004695 \\\\\n",
       "\t P040101002 & 4          & 401        & 40101      & 218        & 164        & 234        & 0.2991453 \\\\\n",
       "\t P040101003 & 4          & 401        & 40101      & 230        & 173        & 247        & 0.2995951 \\\\\n",
       "\t P040101004 & 4          & 401        & 40101      & 248        & 186        & 266        & 0.3007519 \\\\\n",
       "\t P040101005 & 4          & 401        & 40101      & 268        & 201        & 287        & 0.2996516 \\\\\n",
       "\t P040101006 & 4          & 401        & 40101      & 298        & 224        & 320        & 0.3000000 \\\\\n",
       "\t P040101007 & 4          & 401        & 40101      & 338        & 254        & 363        & 0.3002755 \\\\\n",
       "\t P040101008 & 4          & 401        & 40101      & 420        & 315        & 450        & 0.3000000 \\\\\n",
       "\t P040101009 & 4          & 401        & 40101      & 498        & 374        & 534        & 0.2996255 \\\\\n",
       "\t P040101010 & 4          & 401        & 40101      & 580        & 435        & 621        & 0.2995169 \\\\\n",
       "\\end{tabular}\n"
      ],
      "text/markdown": [
       "\n",
       "| X.U.FEFF.product_cd | category_major_cd | category_medium_cd | category_small_cd | unit_price | unit_cost | new_price | new_profit_rate |\n",
       "|---|---|---|---|---|---|---|---|\n",
       "| P040101001 | 4          | 401        | 40101      | 198        | 149        | 213        | 0.3004695  |\n",
       "| P040101002 | 4          | 401        | 40101      | 218        | 164        | 234        | 0.2991453  |\n",
       "| P040101003 | 4          | 401        | 40101      | 230        | 173        | 247        | 0.2995951  |\n",
       "| P040101004 | 4          | 401        | 40101      | 248        | 186        | 266        | 0.3007519  |\n",
       "| P040101005 | 4          | 401        | 40101      | 268        | 201        | 287        | 0.2996516  |\n",
       "| P040101006 | 4          | 401        | 40101      | 298        | 224        | 320        | 0.3000000  |\n",
       "| P040101007 | 4          | 401        | 40101      | 338        | 254        | 363        | 0.3002755  |\n",
       "| P040101008 | 4          | 401        | 40101      | 420        | 315        | 450        | 0.3000000  |\n",
       "| P040101009 | 4          | 401        | 40101      | 498        | 374        | 534        | 0.2996255  |\n",
       "| P040101010 | 4          | 401        | 40101      | 580        | 435        | 621        | 0.2995169  |\n",
       "\n"
      ],
      "text/plain": [
       "   X.U.FEFF.product_cd category_major_cd category_medium_cd category_small_cd\n",
       "1  P040101001          4                 401                40101            \n",
       "2  P040101002          4                 401                40101            \n",
       "3  P040101003          4                 401                40101            \n",
       "4  P040101004          4                 401                40101            \n",
       "5  P040101005          4                 401                40101            \n",
       "6  P040101006          4                 401                40101            \n",
       "7  P040101007          4                 401                40101            \n",
       "8  P040101008          4                 401                40101            \n",
       "9  P040101009          4                 401                40101            \n",
       "10 P040101010          4                 401                40101            \n",
       "   unit_price unit_cost new_price new_profit_rate\n",
       "1  198        149       213       0.3004695      \n",
       "2  218        164       234       0.2991453      \n",
       "3  230        173       247       0.2995951      \n",
       "4  248        186       266       0.3007519      \n",
       "5  268        201       287       0.2996516      \n",
       "6  298        224       320       0.3000000      \n",
       "7  338        254       363       0.3002755      \n",
       "8  420        315       450       0.3000000      \n",
       "9  498        374       534       0.2996255      \n",
       "10 580        435       621       0.2995169      "
      ]
     },
     "metadata": {},
     "output_type": "display_data"
    }
   ],
   "source": [
    "df_product %>%\n",
    "    mutate(new_price = round(unit_cost / 0.7)) %>%\n",
    "    mutate(new_profit_rate = (new_price - unit_cost)/ new_price) %>%\n",
    "    slice(1:10)"
   ]
  },
  {
   "cell_type": "markdown",
   "metadata": {},
   "source": [
    "---\n",
    "> R-067: 商品データフレーム（df_product）の各商品について、利益率が30%となる新たな単価を求めよ。今回は、1円未満を切り上げること。そして結果を10件表示させ、利益率がおよそ30％付近であることを確認せよ。ただし、単価（unit_price）と原価（unit_cost）にはNULLが存在することに注意せよ。"
   ]
  },
  {
   "cell_type": "code",
   "execution_count": 76,
   "metadata": {},
   "outputs": [
    {
     "data": {
      "text/html": [
       "<table>\n",
       "<thead><tr><th scope=col>X.U.FEFF.product_cd</th><th scope=col>category_major_cd</th><th scope=col>category_medium_cd</th><th scope=col>category_small_cd</th><th scope=col>unit_price</th><th scope=col>unit_cost</th><th scope=col>new_price</th><th scope=col>new_profit_rate</th></tr></thead>\n",
       "<tbody>\n",
       "\t<tr><td>P040101001</td><td>4         </td><td>401       </td><td>40101     </td><td>198       </td><td>149       </td><td>213       </td><td>0.3004695 </td></tr>\n",
       "\t<tr><td>P040101002</td><td>4         </td><td>401       </td><td>40101     </td><td>218       </td><td>164       </td><td>235       </td><td>0.3021277 </td></tr>\n",
       "\t<tr><td>P040101003</td><td>4         </td><td>401       </td><td>40101     </td><td>230       </td><td>173       </td><td>248       </td><td>0.3024194 </td></tr>\n",
       "\t<tr><td>P040101004</td><td>4         </td><td>401       </td><td>40101     </td><td>248       </td><td>186       </td><td>266       </td><td>0.3007519 </td></tr>\n",
       "\t<tr><td>P040101005</td><td>4         </td><td>401       </td><td>40101     </td><td>268       </td><td>201       </td><td>288       </td><td>0.3020833 </td></tr>\n",
       "\t<tr><td>P040101006</td><td>4         </td><td>401       </td><td>40101     </td><td>298       </td><td>224       </td><td>320       </td><td>0.3000000 </td></tr>\n",
       "\t<tr><td>P040101007</td><td>4         </td><td>401       </td><td>40101     </td><td>338       </td><td>254       </td><td>363       </td><td>0.3002755 </td></tr>\n",
       "\t<tr><td>P040101008</td><td>4         </td><td>401       </td><td>40101     </td><td>420       </td><td>315       </td><td>451       </td><td>0.3015521 </td></tr>\n",
       "\t<tr><td>P040101009</td><td>4         </td><td>401       </td><td>40101     </td><td>498       </td><td>374       </td><td>535       </td><td>0.3009346 </td></tr>\n",
       "\t<tr><td>P040101010</td><td>4         </td><td>401       </td><td>40101     </td><td>580       </td><td>435       </td><td>622       </td><td>0.3006431 </td></tr>\n",
       "</tbody>\n",
       "</table>\n"
      ],
      "text/latex": [
       "\\begin{tabular}{r|llllllll}\n",
       " X.U.FEFF.product\\_cd & category\\_major\\_cd & category\\_medium\\_cd & category\\_small\\_cd & unit\\_price & unit\\_cost & new\\_price & new\\_profit\\_rate\\\\\n",
       "\\hline\n",
       "\t P040101001 & 4          & 401        & 40101      & 198        & 149        & 213        & 0.3004695 \\\\\n",
       "\t P040101002 & 4          & 401        & 40101      & 218        & 164        & 235        & 0.3021277 \\\\\n",
       "\t P040101003 & 4          & 401        & 40101      & 230        & 173        & 248        & 0.3024194 \\\\\n",
       "\t P040101004 & 4          & 401        & 40101      & 248        & 186        & 266        & 0.3007519 \\\\\n",
       "\t P040101005 & 4          & 401        & 40101      & 268        & 201        & 288        & 0.3020833 \\\\\n",
       "\t P040101006 & 4          & 401        & 40101      & 298        & 224        & 320        & 0.3000000 \\\\\n",
       "\t P040101007 & 4          & 401        & 40101      & 338        & 254        & 363        & 0.3002755 \\\\\n",
       "\t P040101008 & 4          & 401        & 40101      & 420        & 315        & 451        & 0.3015521 \\\\\n",
       "\t P040101009 & 4          & 401        & 40101      & 498        & 374        & 535        & 0.3009346 \\\\\n",
       "\t P040101010 & 4          & 401        & 40101      & 580        & 435        & 622        & 0.3006431 \\\\\n",
       "\\end{tabular}\n"
      ],
      "text/markdown": [
       "\n",
       "| X.U.FEFF.product_cd | category_major_cd | category_medium_cd | category_small_cd | unit_price | unit_cost | new_price | new_profit_rate |\n",
       "|---|---|---|---|---|---|---|---|\n",
       "| P040101001 | 4          | 401        | 40101      | 198        | 149        | 213        | 0.3004695  |\n",
       "| P040101002 | 4          | 401        | 40101      | 218        | 164        | 235        | 0.3021277  |\n",
       "| P040101003 | 4          | 401        | 40101      | 230        | 173        | 248        | 0.3024194  |\n",
       "| P040101004 | 4          | 401        | 40101      | 248        | 186        | 266        | 0.3007519  |\n",
       "| P040101005 | 4          | 401        | 40101      | 268        | 201        | 288        | 0.3020833  |\n",
       "| P040101006 | 4          | 401        | 40101      | 298        | 224        | 320        | 0.3000000  |\n",
       "| P040101007 | 4          | 401        | 40101      | 338        | 254        | 363        | 0.3002755  |\n",
       "| P040101008 | 4          | 401        | 40101      | 420        | 315        | 451        | 0.3015521  |\n",
       "| P040101009 | 4          | 401        | 40101      | 498        | 374        | 535        | 0.3009346  |\n",
       "| P040101010 | 4          | 401        | 40101      | 580        | 435        | 622        | 0.3006431  |\n",
       "\n"
      ],
      "text/plain": [
       "   X.U.FEFF.product_cd category_major_cd category_medium_cd category_small_cd\n",
       "1  P040101001          4                 401                40101            \n",
       "2  P040101002          4                 401                40101            \n",
       "3  P040101003          4                 401                40101            \n",
       "4  P040101004          4                 401                40101            \n",
       "5  P040101005          4                 401                40101            \n",
       "6  P040101006          4                 401                40101            \n",
       "7  P040101007          4                 401                40101            \n",
       "8  P040101008          4                 401                40101            \n",
       "9  P040101009          4                 401                40101            \n",
       "10 P040101010          4                 401                40101            \n",
       "   unit_price unit_cost new_price new_profit_rate\n",
       "1  198        149       213       0.3004695      \n",
       "2  218        164       235       0.3021277      \n",
       "3  230        173       248       0.3024194      \n",
       "4  248        186       266       0.3007519      \n",
       "5  268        201       288       0.3020833      \n",
       "6  298        224       320       0.3000000      \n",
       "7  338        254       363       0.3002755      \n",
       "8  420        315       451       0.3015521      \n",
       "9  498        374       535       0.3009346      \n",
       "10 580        435       622       0.3006431      "
      ]
     },
     "metadata": {},
     "output_type": "display_data"
    }
   ],
   "source": [
    "df_product %>%\n",
    "    mutate(new_price = ceiling(unit_cost / 0.7)) %>%\n",
    "    mutate(new_profit_rate = (new_price - unit_cost)/ new_price) %>%\n",
    "    slice(1:10)"
   ]
  },
  {
   "cell_type": "markdown",
   "metadata": {},
   "source": [
    "---\n",
    "> R-068: 商品データフレーム（df_product）の各商品について、消費税率10%の税込み金額を求めよ。1円未満の端数は切り捨てとし、結果は10件表示すれば良い。ただし、単価（unit_price）にはNULLが存在することに注意せよ。"
   ]
  },
  {
   "cell_type": "code",
   "execution_count": 78,
   "metadata": {},
   "outputs": [
    {
     "ename": "ERROR",
     "evalue": "Error in `[.data.frame`(df_product, \"product_cd\"): undefined columns selected\n",
     "output_type": "error",
     "traceback": [
      "Error in `[.data.frame`(df_product, \"product_cd\"): undefined columns selected\nTraceback:\n",
      "1. head(cbind(df_product[\"product_cd\"], trunc(df_product[\"unit_price\"] * \n .     1.1)), 10)",
      "2. cbind(df_product[\"product_cd\"], trunc(df_product[\"unit_price\"] * \n .     1.1))",
      "3. df_product[\"product_cd\"]",
      "4. `[.data.frame`(df_product, \"product_cd\")",
      "5. stop(\"undefined columns selected\")"
     ]
    }
   ],
   "source": [
    "# エラー\n",
    "head(cbind(df_product['product_cd'],trunc(df_product['unit_price'] * 1.1)),10)"
   ]
  },
  {
   "cell_type": "markdown",
   "metadata": {},
   "source": [
    "---\n",
    "> R-069: レシート明細データフレーム（df_receipt）と商品データフレーム（df_product）を結合し、顧客毎に全商品の売上金額合計と、カテゴリ大区分（category_major_cd）が\"07\"（瓶詰缶詰）の売上金額合計を計算の上、両者の比率を求めよ。抽出対象はカテゴリ大区分\"07\"（瓶詰缶詰）の購入実績がある顧客のみとし、結果は10件表示させればよい。"
   ]
  },
  {
   "cell_type": "code",
   "execution_count": 80,
   "metadata": {},
   "outputs": [
    {
     "ename": "ERROR",
     "evalue": "Error in `[.data.frame`(df_product, c(\"product_cd\", \"category_major_cd\")): undefined columns selected\n",
     "output_type": "error",
     "traceback": [
      "Error in `[.data.frame`(df_product, c(\"product_cd\", \"category_major_cd\")): undefined columns selected\nTraceback:\n",
      "1. inner_join(df_receipt, df_product[c(\"product_cd\", \"category_major_cd\")], \n .     by = \"product_cd\") %>% filter(category_major_cd == \"07\") %>% \n .     group_by(customer_id) %>% summarise(amount_07 = sum(amount)) %>% \n .     inner_join(df_receipt, by = \"customer_id\") %>% group_by(customer_id) %>% \n .     summarise(sum_amount = sum(amount), amount_07 = max(amount_07)) %>% \n .     mutate(rate_07 = amount_07/sum_amount) %>% slice(1:10)",
      "2. eval(lhs, parent, parent)",
      "3. eval(lhs, parent, parent)",
      "4. inner_join(df_receipt, df_product[c(\"product_cd\", \"category_major_cd\")], \n .     by = \"product_cd\")",
      "5. inner_join.data.frame(df_receipt, df_product[c(\"product_cd\", \n .     \"category_major_cd\")], by = \"product_cd\")",
      "6. auto_copy(x, y, copy = copy)",
      "7. same_src(x, y)",
      "8. same_src.data.frame(x, y)",
      "9. is.data.frame(y)",
      "10. df_product[c(\"product_cd\", \"category_major_cd\")]",
      "11. `[.data.frame`(df_product, c(\"product_cd\", \"category_major_cd\"))",
      "12. stop(\"undefined columns selected\")"
     ]
    }
   ],
   "source": [
    "# エラー\n",
    "inner_join(df_receipt, df_product[c(\"product_cd\",\"category_major_cd\")], by=\"product_cd\") %>%\n",
    "    filter(category_major_cd == \"07\") %>%\n",
    "    group_by(customer_id) %>%\n",
    "    summarise(amount_07 = sum(amount)) %>%\n",
    "    inner_join(df_receipt, by=\"customer_id\") %>%\n",
    "    group_by(customer_id) %>%\n",
    "    summarise(sum_amount=sum(amount), amount_07=max(amount_07)) %>%\n",
    "    mutate(rate_07 = amount_07 / sum_amount) %>%\n",
    "    slice(1:10)"
   ]
  },
  {
   "cell_type": "markdown",
   "metadata": {},
   "source": [
    "---\n",
    "> R-070: レシート明細データフレーム（df_receipt）の売上日（sales_ymd）に対し、顧客データフレーム（df_customer）の会員申込日（application_date）からの経過日数を計算し、顧客ID（customer_id）、売上日、会員申込日とともに表示せよ。結果は10件表示させれば良い（なお、sales_ymdは数値、application_dateは文字列でデータを保持している点に注意）。"
   ]
  },
  {
   "cell_type": "code",
   "execution_count": 81,
   "metadata": {},
   "outputs": [
    {
     "data": {
      "text/html": [
       "<table>\n",
       "<thead><tr><th scope=col>customer_id</th><th scope=col>sales_ymd</th><th scope=col>application_date</th><th scope=col>elapsed_days</th></tr></thead>\n",
       "<tbody>\n",
       "\t<tr><td>CS006214000001</td><td>20181103      </td><td>E-20100908-F  </td><td>  NA days     </td></tr>\n",
       "\t<tr><td>CS008415000097</td><td>20181118      </td><td>9-20100417-B  </td><td>  NA days     </td></tr>\n",
       "\t<tr><td>CS028414000014</td><td>20170712      </td><td>20150711      </td><td> 732 days     </td></tr>\n",
       "\t<tr><td>CS025415000050</td><td>20180821      </td><td>E-20101008-E  </td><td>  NA days     </td></tr>\n",
       "\t<tr><td>CS003515000195</td><td>20190605      </td><td>D-20100605-B  </td><td>  NA days     </td></tr>\n",
       "\t<tr><td>CS024514000042</td><td>20181205      </td><td>20151010      </td><td>1152 days     </td></tr>\n",
       "\t<tr><td>CS040415000178</td><td>20190922      </td><td>20150627      </td><td>1548 days     </td></tr>\n",
       "\t<tr><td>CS027514000015</td><td>20191010      </td><td>B-20101010-C  </td><td>  NA days     </td></tr>\n",
       "\t<tr><td>CS025415000134</td><td>20190918      </td><td>20150720      </td><td>1521 days     </td></tr>\n",
       "\t<tr><td>CS021515000126</td><td>20171010      </td><td>F-20100911-F  </td><td>  NA days     </td></tr>\n",
       "</tbody>\n",
       "</table>\n"
      ],
      "text/latex": [
       "\\begin{tabular}{r|llll}\n",
       " customer\\_id & sales\\_ymd & application\\_date & elapsed\\_days\\\\\n",
       "\\hline\n",
       "\t CS006214000001 & 20181103       & E-20100908-F   &   NA days     \\\\\n",
       "\t CS008415000097 & 20181118       & 9-20100417-B   &   NA days     \\\\\n",
       "\t CS028414000014 & 20170712       & 20150711       &  732 days     \\\\\n",
       "\t CS025415000050 & 20180821       & E-20101008-E   &   NA days     \\\\\n",
       "\t CS003515000195 & 20190605       & D-20100605-B   &   NA days     \\\\\n",
       "\t CS024514000042 & 20181205       & 20151010       & 1152 days     \\\\\n",
       "\t CS040415000178 & 20190922       & 20150627       & 1548 days     \\\\\n",
       "\t CS027514000015 & 20191010       & B-20101010-C   &   NA days     \\\\\n",
       "\t CS025415000134 & 20190918       & 20150720       & 1521 days     \\\\\n",
       "\t CS021515000126 & 20171010       & F-20100911-F   &   NA days     \\\\\n",
       "\\end{tabular}\n"
      ],
      "text/markdown": [
       "\n",
       "| customer_id | sales_ymd | application_date | elapsed_days |\n",
       "|---|---|---|---|\n",
       "| CS006214000001 | 20181103       | E-20100908-F   |   NA days      |\n",
       "| CS008415000097 | 20181118       | 9-20100417-B   |   NA days      |\n",
       "| CS028414000014 | 20170712       | 20150711       |  732 days      |\n",
       "| CS025415000050 | 20180821       | E-20101008-E   |   NA days      |\n",
       "| CS003515000195 | 20190605       | D-20100605-B   |   NA days      |\n",
       "| CS024514000042 | 20181205       | 20151010       | 1152 days      |\n",
       "| CS040415000178 | 20190922       | 20150627       | 1548 days      |\n",
       "| CS027514000015 | 20191010       | B-20101010-C   |   NA days      |\n",
       "| CS025415000134 | 20190918       | 20150720       | 1521 days      |\n",
       "| CS021515000126 | 20171010       | F-20100911-F   |   NA days      |\n",
       "\n"
      ],
      "text/plain": [
       "   customer_id    sales_ymd application_date elapsed_days\n",
       "1  CS006214000001 20181103  E-20100908-F       NA days   \n",
       "2  CS008415000097 20181118  9-20100417-B       NA days   \n",
       "3  CS028414000014 20170712  20150711          732 days   \n",
       "4  CS025415000050 20180821  E-20101008-E       NA days   \n",
       "5  CS003515000195 20190605  D-20100605-B       NA days   \n",
       "6  CS024514000042 20181205  20151010         1152 days   \n",
       "7  CS040415000178 20190922  20150627         1548 days   \n",
       "8  CS027514000015 20191010  B-20101010-C       NA days   \n",
       "9  CS025415000134 20190918  20150720         1521 days   \n",
       "10 CS021515000126 20171010  F-20100911-F       NA days   "
      ]
     },
     "metadata": {},
     "output_type": "display_data"
    }
   ],
   "source": [
    "inner_join(df_receipt[c(\"customer_id\", \"sales_ymd\")], \n",
    "                     df_customer[c(\"customer_id\",\"application_date\")], by=\"customer_id\") %>%\n",
    "    distinct(.,.keep_all=TRUE) %>%\n",
    "    mutate(elapsed_days = strptime(as.character(sales_ymd), '%Y%m%d')\n",
    "                            - strptime(application_date, '%Y%m%d')) %>%\n",
    "    select(customer_id, sales_ymd, application_date, elapsed_days) %>%\n",
    "    slice(1:10)"
   ]
  },
  {
   "cell_type": "markdown",
   "metadata": {},
   "source": [
    "---\n",
    "> R-071: レシート明細データフレーム（df_receipt）の売上日（sales_ymd）に対し、顧客データフレーム（df_customer）の会員申込日（application_date）からの経過月数を計算し、顧客ID（customer_id）、売上日、会員申込日とともに表示せよ。結果は10件表示させれば良い（なお、sales_ymdは数値、application_dateは文字列でデータを保持している点に注意）。1ヶ月未満は切り捨てること。"
   ]
  },
  {
   "cell_type": "code",
   "execution_count": 82,
   "metadata": {},
   "outputs": [
    {
     "ename": "ERROR",
     "evalue": "Error in time_length(strptime(\"20171122\", \"%Y%m%d\") - strptime(\"20150623\", :  関数 \"time_length\" を見つけることができませんでした \n",
     "output_type": "error",
     "traceback": [
      "Error in time_length(strptime(\"20171122\", \"%Y%m%d\") - strptime(\"20150623\", :  関数 \"time_length\" を見つけることができませんでした \nTraceback:\n"
     ]
    }
   ],
   "source": [
    "(time_length(strptime('20171122', '%Y%m%d') - strptime('20150623', '%Y%m%d'), \"month\"))"
   ]
  },
  {
   "cell_type": "code",
   "execution_count": 83,
   "metadata": {},
   "outputs": [
    {
     "ename": "ERROR",
     "evalue": "Error in time_length(interval(strptime(\"20150623\", \"%Y%m%d\"), strptime(\"20171122\", :  関数 \"time_length\" を見つけることができませんでした \n",
     "output_type": "error",
     "traceback": [
      "Error in time_length(interval(strptime(\"20150623\", \"%Y%m%d\"), strptime(\"20171122\", :  関数 \"time_length\" を見つけることができませんでした \nTraceback:\n"
     ]
    }
   ],
   "source": [
    "time_length(interval(strptime('20150623', '%Y%m%d'), strptime('20171122', '%Y%m%d')), \"month\")"
   ]
  },
  {
   "cell_type": "code",
   "execution_count": 84,
   "metadata": {},
   "outputs": [
    {
     "ename": "ERROR",
     "evalue": "Error: Problem with `mutate()` input `elapsed_months`.\nx  関数 \"time_length\" を見つけることができませんでした \ni Input `elapsed_months` is `trunc(...)`.\n",
     "output_type": "error",
     "traceback": [
      "Error: Problem with `mutate()` input `elapsed_months`.\nx  関数 \"time_length\" を見つけることができませんでした \ni Input `elapsed_months` is `trunc(...)`.\nTraceback:\n",
      "1. inner_join(df_receipt[c(\"customer_id\", \"sales_ymd\")], df_customer[c(\"customer_id\", \n .     \"application_date\")], by = \"customer_id\") %>% distinct(., \n .     .keep_all = TRUE) %>% mutate(elapsed_months = trunc(time_length(interval(strptime(application_date, \n .     \"%Y%m%d\"), strptime(as.character(sales_ymd), \"%Y%m%d\")), \n .     \"month\"))) %>% select(customer_id, sales_ymd, application_date, \n .     elapsed_months) %>% slice(1:10)",
      "2. withVisible(eval(quote(`_fseq`(`_lhs`)), env, env))",
      "3. eval(quote(`_fseq`(`_lhs`)), env, env)",
      "4. eval(quote(`_fseq`(`_lhs`)), env, env)",
      "5. `_fseq`(`_lhs`)",
      "6. freduce(value, `_function_list`)",
      "7. function_list[[i]](value)",
      "8. mutate(., elapsed_months = trunc(time_length(interval(strptime(application_date, \n .     \"%Y%m%d\"), strptime(as.character(sales_ymd), \"%Y%m%d\")), \n .     \"month\")))",
      "9. mutate.data.frame(., elapsed_months = trunc(time_length(interval(strptime(application_date, \n .     \"%Y%m%d\"), strptime(as.character(sales_ymd), \"%Y%m%d\")), \n .     \"month\")))",
      "10. mutate_cols(.data, ...)",
      "11. withCallingHandlers({\n  .     for (i in seq_along(dots)) {\n  .         not_named <- (is.null(dots_names) || dots_names[i] == \n  .             \"\")\n  .         chunks <- NULL\n  .         result <- NULL\n  .         if (quo_is_symbol(dots[[i]])) {\n  .             name <- as_string(quo_get_expr(dots[[i]]))\n  .             if (name %in% names(new_columns)) {\n  .                 result <- new_columns[[name]]\n  .                 chunks <- mask$get_resolved(name)\n  .             }\n  .             else if (name %in% names(.data)) {\n  .                 result <- .data[[name]]\n  .                 chunks <- mask$resolve(name)\n  .             }\n  .             if (inherits(.data, \"rowwise_df\") && vec_is_list(result)) {\n  .                 sizes <- list_sizes(result)\n  .                 wrong <- which(sizes != 1)\n  .                 if (length(wrong)) {\n  .                   group <- wrong[1L]\n  .                   mask$set_current_group(group)\n  .                   abort(x_size = sizes[group], class = \"dplyr:::mutate_incompatible_size\")\n  .                 }\n  .             }\n  .         }\n  .         if (is.null(chunks)) {\n  .             chunks <- mask$eval_all_mutate(dots[[i]])\n  .         }\n  .         mask$across_cache_reset()\n  .         if (is.null(chunks)) {\n  .             if (!is.null(dots_names) && dots_names[i] != \"\") {\n  .                 new_columns[[dots_names[i]]] <- zap()\n  .                 mask$remove(dots_names[i])\n  .             }\n  .             next\n  .         }\n  .         if (is.null(result)) {\n  .             if (length(rows) == 1) {\n  .                 result <- chunks[[1]]\n  .             }\n  .             else {\n  .                 result <- withCallingHandlers(vec_unchop(chunks, \n  .                   rows), vctrs_error_incompatible_type = function(cnd) {\n  .                   abort(class = \"dplyr:::error_mutate_incompatible_combine\", \n  .                     parent = cnd)\n  .                 })\n  .             }\n  .         }\n  .         if (not_named && is.data.frame(result)) {\n  .             new_columns[names(result)] <- result\n  .             map2(seq_along(result), names(result), function(i, \n  .                 nm) {\n  .                 mask$add(nm, pluck(chunks, i))\n  .             })\n  .         }\n  .         else {\n  .             name <- if (not_named) \n  .                 auto_named_dots[i]\n  .             else dots_names[i]\n  .             new_columns[[name]] <- result\n  .             mask$add(name, chunks)\n  .         }\n  .     }\n  . }, error = function(e) {\n  .     local_call_step(dots = dots, .index = i, .fn = \"mutate\", \n  .         .dot_data = inherits(e, \"rlang_error_data_pronoun_not_found\"))\n  .     call_step_envir <- peek_call_step()\n  .     error_name <- call_step_envir$error_name\n  .     error_expression <- call_step_envir$error_expression\n  .     show_group_details <- TRUE\n  .     if (inherits(e, \"dplyr:::mutate_incompatible_size\")) {\n  .         size <- vec_size(rows[[i]])\n  .         x_size <- e$x_size\n  .         bullets <- c(x = glue(\"Input `{error_name}` can't be recycled to size {size}.\"), \n  .             i = cnd_bullet_input_info(), i = glue(\"Input `{error_name}` must be size {or_1(size)}, not {x_size}.\"), \n  .             i = cnd_bullet_rowwise_unlist())\n  .     }\n  .     else if (inherits(e, \"dplyr:::mutate_mixed_null\")) {\n  .         show_group_details <- FALSE\n  .         bullets <- c(x = glue(\"`{error_name}` must return compatible vectors across groups.\"), \n  .             i = cnd_bullet_input_info(), i = \"Cannot combine NULL and non NULL results.\", \n  .             i = cnd_bullet_rowwise_unlist())\n  .     }\n  .     else if (inherits(e, \"dplyr:::mutate_not_vector\")) {\n  .         bullets <- c(x = glue(\"Input `{error_name}` must be a vector, not {friendly_type_of(e$result)}.\"), \n  .             i = cnd_bullet_input_info(), i = cnd_bullet_rowwise_unlist())\n  .     }\n  .     else if (inherits(e, \"dplyr:::error_mutate_incompatible_combine\")) {\n  .         show_group_details <- FALSE\n  .         bullets <- c(x = glue(\"Input `{error_name}` must return compatible vectors across groups\"), \n  .             i = cnd_bullet_input_info(), i = cnd_bullet_combine_details(e$parent$x, \n  .                 e$parent$x_arg), i = cnd_bullet_combine_details(e$parent$y, \n  .                 e$parent$y_arg))\n  .     }\n  .     else {\n  .         bullets <- c(x = conditionMessage(e), i = cnd_bullet_input_info())\n  .     }\n  .     abort(c(cnd_bullet_header(), bullets, i = if (show_group_details) cnd_bullet_cur_group_label()), \n  .         class = c(\"dplyr:::mutate_error\", \"dplyr_error\"), error_name = error_name, \n  .         error_expression = error_expression)\n  . }, warning = function(w) {\n  .     local_call_step(dots = dots, .index = i, .fn = \"mutate\")\n  .     warn(c(cnd_bullet_header(), i = conditionMessage(w), i = cnd_bullet_input_info(), \n  .         i = cnd_bullet_cur_group_label()))\n  . })",
      "12. mask$eval_all_mutate(dots[[i]])",
      "13. .handleSimpleError(function (e) \n  . {\n  .     local_call_step(dots = dots, .index = i, .fn = \"mutate\", \n  .         .dot_data = inherits(e, \"rlang_error_data_pronoun_not_found\"))\n  .     call_step_envir <- peek_call_step()\n  .     error_name <- call_step_envir$error_name\n  .     error_expression <- call_step_envir$error_expression\n  .     show_group_details <- TRUE\n  .     if (inherits(e, \"dplyr:::mutate_incompatible_size\")) {\n  .         size <- vec_size(rows[[i]])\n  .         x_size <- e$x_size\n  .         bullets <- c(x = glue(\"Input `{error_name}` can't be recycled to size {size}.\"), \n  .             i = cnd_bullet_input_info(), i = glue(\"Input `{error_name}` must be size {or_1(size)}, not {x_size}.\"), \n  .             i = cnd_bullet_rowwise_unlist())\n  .     }\n  .     else if (inherits(e, \"dplyr:::mutate_mixed_null\")) {\n  .         show_group_details <- FALSE\n  .         bullets <- c(x = glue(\"`{error_name}` must return compatible vectors across groups.\"), \n  .             i = cnd_bullet_input_info(), i = \"Cannot combine NULL and non NULL results.\", \n  .             i = cnd_bullet_rowwise_unlist())\n  .     }\n  .     else if (inherits(e, \"dplyr:::mutate_not_vector\")) {\n  .         bullets <- c(x = glue(\"Input `{error_name}` must be a vector, not {friendly_type_of(e$result)}.\"), \n  .             i = cnd_bullet_input_info(), i = cnd_bullet_rowwise_unlist())\n  .     }\n  .     else if (inherits(e, \"dplyr:::error_mutate_incompatible_combine\")) {\n  .         show_group_details <- FALSE\n  .         bullets <- c(x = glue(\"Input `{error_name}` must return compatible vectors across groups\"), \n  .             i = cnd_bullet_input_info(), i = cnd_bullet_combine_details(e$parent$x, \n  .                 e$parent$x_arg), i = cnd_bullet_combine_details(e$parent$y, \n  .                 e$parent$y_arg))\n  .     }\n  .     else {\n  .         bullets <- c(x = conditionMessage(e), i = cnd_bullet_input_info())\n  .     }\n  .     abort(c(cnd_bullet_header(), bullets, i = if (show_group_details) cnd_bullet_cur_group_label()), \n  .         class = c(\"dplyr:::mutate_error\", \"dplyr_error\"), error_name = error_name, \n  .         error_expression = error_expression)\n  . }, \" 関数 \\\"time_length\\\" を見つけることができませんでした \", \n  .     base::quote(time_length(interval(strptime(application_date, \n  .         \"%Y%m%d\"), strptime(as.character(sales_ymd), \"%Y%m%d\")), \n  .         \"month\")))",
      "14. h(simpleError(msg, call))",
      "15. abort(c(cnd_bullet_header(), bullets, i = if (show_group_details) cnd_bullet_cur_group_label()), \n  .     class = c(\"dplyr:::mutate_error\", \"dplyr_error\"), error_name = error_name, \n  .     error_expression = error_expression)",
      "16. signal_abort(cnd)"
     ]
    }
   ],
   "source": [
    "# エラー\n",
    "# inner_join(df_receipt[c(\"customer_id\", \"sales_ymd\")], \n",
    "#                      df_customer[c(\"customer_id\",\"application_date\")], by=\"customer_id\") %>%\n",
    "#     distinct(.,.keep_all=TRUE) %>%\n",
    "#     mutate(elapsed_months = trunc(time_length(\n",
    "#                                         interval(\n",
    "#                                             strptime(application_date, '%Y%m%d'),\n",
    "#                                             strptime(as.character(sales_ymd), '%Y%m%d')\n",
    "#                                         ), \"month\")\n",
    "#                                  )) %>%\n",
    "#     select(customer_id, sales_ymd, application_date, elapsed_months) %>%\n",
    "#     slice(1:10)"
   ]
  },
  {
   "cell_type": "markdown",
   "metadata": {},
   "source": [
    "---\n",
    "> R-072: レシート明細データフレーム（df_receipt）の売上日（sales_ymd）に対し、顧客データフレーム（df_customer）の会員申込日（application_date）からの経過年数を計算し、顧客ID（customer_id）、売上日、会員申込日とともに表示せよ。結果は10件表示させれば良い（なお、sales_ymdは数値、application_dateは文字列でデータを保持している点に注意）。1年未満は切り捨てること。"
   ]
  },
  {
   "cell_type": "code",
   "execution_count": 85,
   "metadata": {},
   "outputs": [
    {
     "ename": "ERROR",
     "evalue": "Error: Problem with `mutate()` input `elapsed_years`.\nx  関数 \"time_length\" を見つけることができませんでした \ni Input `elapsed_years` is `trunc(...)`.\n",
     "output_type": "error",
     "traceback": [
      "Error: Problem with `mutate()` input `elapsed_years`.\nx  関数 \"time_length\" を見つけることができませんでした \ni Input `elapsed_years` is `trunc(...)`.\nTraceback:\n",
      "1. inner_join(df_receipt[c(\"customer_id\", \"sales_ymd\")], df_customer[c(\"customer_id\", \n .     \"application_date\")], by = \"customer_id\") %>% distinct(., \n .     .keep_all = TRUE) %>% mutate(elapsed_years = trunc(time_length(interval(strptime(application_date, \n .     \"%Y%m%d\"), strptime(as.character(sales_ymd), \"%Y%m%d\")), \n .     \"year\"))) %>% select(customer_id, sales_ymd, application_date, \n .     elapsed_years) %>% slice(1:10)",
      "2. withVisible(eval(quote(`_fseq`(`_lhs`)), env, env))",
      "3. eval(quote(`_fseq`(`_lhs`)), env, env)",
      "4. eval(quote(`_fseq`(`_lhs`)), env, env)",
      "5. `_fseq`(`_lhs`)",
      "6. freduce(value, `_function_list`)",
      "7. function_list[[i]](value)",
      "8. mutate(., elapsed_years = trunc(time_length(interval(strptime(application_date, \n .     \"%Y%m%d\"), strptime(as.character(sales_ymd), \"%Y%m%d\")), \n .     \"year\")))",
      "9. mutate.data.frame(., elapsed_years = trunc(time_length(interval(strptime(application_date, \n .     \"%Y%m%d\"), strptime(as.character(sales_ymd), \"%Y%m%d\")), \n .     \"year\")))",
      "10. mutate_cols(.data, ...)",
      "11. withCallingHandlers({\n  .     for (i in seq_along(dots)) {\n  .         not_named <- (is.null(dots_names) || dots_names[i] == \n  .             \"\")\n  .         chunks <- NULL\n  .         result <- NULL\n  .         if (quo_is_symbol(dots[[i]])) {\n  .             name <- as_string(quo_get_expr(dots[[i]]))\n  .             if (name %in% names(new_columns)) {\n  .                 result <- new_columns[[name]]\n  .                 chunks <- mask$get_resolved(name)\n  .             }\n  .             else if (name %in% names(.data)) {\n  .                 result <- .data[[name]]\n  .                 chunks <- mask$resolve(name)\n  .             }\n  .             if (inherits(.data, \"rowwise_df\") && vec_is_list(result)) {\n  .                 sizes <- list_sizes(result)\n  .                 wrong <- which(sizes != 1)\n  .                 if (length(wrong)) {\n  .                   group <- wrong[1L]\n  .                   mask$set_current_group(group)\n  .                   abort(x_size = sizes[group], class = \"dplyr:::mutate_incompatible_size\")\n  .                 }\n  .             }\n  .         }\n  .         if (is.null(chunks)) {\n  .             chunks <- mask$eval_all_mutate(dots[[i]])\n  .         }\n  .         mask$across_cache_reset()\n  .         if (is.null(chunks)) {\n  .             if (!is.null(dots_names) && dots_names[i] != \"\") {\n  .                 new_columns[[dots_names[i]]] <- zap()\n  .                 mask$remove(dots_names[i])\n  .             }\n  .             next\n  .         }\n  .         if (is.null(result)) {\n  .             if (length(rows) == 1) {\n  .                 result <- chunks[[1]]\n  .             }\n  .             else {\n  .                 result <- withCallingHandlers(vec_unchop(chunks, \n  .                   rows), vctrs_error_incompatible_type = function(cnd) {\n  .                   abort(class = \"dplyr:::error_mutate_incompatible_combine\", \n  .                     parent = cnd)\n  .                 })\n  .             }\n  .         }\n  .         if (not_named && is.data.frame(result)) {\n  .             new_columns[names(result)] <- result\n  .             map2(seq_along(result), names(result), function(i, \n  .                 nm) {\n  .                 mask$add(nm, pluck(chunks, i))\n  .             })\n  .         }\n  .         else {\n  .             name <- if (not_named) \n  .                 auto_named_dots[i]\n  .             else dots_names[i]\n  .             new_columns[[name]] <- result\n  .             mask$add(name, chunks)\n  .         }\n  .     }\n  . }, error = function(e) {\n  .     local_call_step(dots = dots, .index = i, .fn = \"mutate\", \n  .         .dot_data = inherits(e, \"rlang_error_data_pronoun_not_found\"))\n  .     call_step_envir <- peek_call_step()\n  .     error_name <- call_step_envir$error_name\n  .     error_expression <- call_step_envir$error_expression\n  .     show_group_details <- TRUE\n  .     if (inherits(e, \"dplyr:::mutate_incompatible_size\")) {\n  .         size <- vec_size(rows[[i]])\n  .         x_size <- e$x_size\n  .         bullets <- c(x = glue(\"Input `{error_name}` can't be recycled to size {size}.\"), \n  .             i = cnd_bullet_input_info(), i = glue(\"Input `{error_name}` must be size {or_1(size)}, not {x_size}.\"), \n  .             i = cnd_bullet_rowwise_unlist())\n  .     }\n  .     else if (inherits(e, \"dplyr:::mutate_mixed_null\")) {\n  .         show_group_details <- FALSE\n  .         bullets <- c(x = glue(\"`{error_name}` must return compatible vectors across groups.\"), \n  .             i = cnd_bullet_input_info(), i = \"Cannot combine NULL and non NULL results.\", \n  .             i = cnd_bullet_rowwise_unlist())\n  .     }\n  .     else if (inherits(e, \"dplyr:::mutate_not_vector\")) {\n  .         bullets <- c(x = glue(\"Input `{error_name}` must be a vector, not {friendly_type_of(e$result)}.\"), \n  .             i = cnd_bullet_input_info(), i = cnd_bullet_rowwise_unlist())\n  .     }\n  .     else if (inherits(e, \"dplyr:::error_mutate_incompatible_combine\")) {\n  .         show_group_details <- FALSE\n  .         bullets <- c(x = glue(\"Input `{error_name}` must return compatible vectors across groups\"), \n  .             i = cnd_bullet_input_info(), i = cnd_bullet_combine_details(e$parent$x, \n  .                 e$parent$x_arg), i = cnd_bullet_combine_details(e$parent$y, \n  .                 e$parent$y_arg))\n  .     }\n  .     else {\n  .         bullets <- c(x = conditionMessage(e), i = cnd_bullet_input_info())\n  .     }\n  .     abort(c(cnd_bullet_header(), bullets, i = if (show_group_details) cnd_bullet_cur_group_label()), \n  .         class = c(\"dplyr:::mutate_error\", \"dplyr_error\"), error_name = error_name, \n  .         error_expression = error_expression)\n  . }, warning = function(w) {\n  .     local_call_step(dots = dots, .index = i, .fn = \"mutate\")\n  .     warn(c(cnd_bullet_header(), i = conditionMessage(w), i = cnd_bullet_input_info(), \n  .         i = cnd_bullet_cur_group_label()))\n  . })",
      "12. mask$eval_all_mutate(dots[[i]])",
      "13. .handleSimpleError(function (e) \n  . {\n  .     local_call_step(dots = dots, .index = i, .fn = \"mutate\", \n  .         .dot_data = inherits(e, \"rlang_error_data_pronoun_not_found\"))\n  .     call_step_envir <- peek_call_step()\n  .     error_name <- call_step_envir$error_name\n  .     error_expression <- call_step_envir$error_expression\n  .     show_group_details <- TRUE\n  .     if (inherits(e, \"dplyr:::mutate_incompatible_size\")) {\n  .         size <- vec_size(rows[[i]])\n  .         x_size <- e$x_size\n  .         bullets <- c(x = glue(\"Input `{error_name}` can't be recycled to size {size}.\"), \n  .             i = cnd_bullet_input_info(), i = glue(\"Input `{error_name}` must be size {or_1(size)}, not {x_size}.\"), \n  .             i = cnd_bullet_rowwise_unlist())\n  .     }\n  .     else if (inherits(e, \"dplyr:::mutate_mixed_null\")) {\n  .         show_group_details <- FALSE\n  .         bullets <- c(x = glue(\"`{error_name}` must return compatible vectors across groups.\"), \n  .             i = cnd_bullet_input_info(), i = \"Cannot combine NULL and non NULL results.\", \n  .             i = cnd_bullet_rowwise_unlist())\n  .     }\n  .     else if (inherits(e, \"dplyr:::mutate_not_vector\")) {\n  .         bullets <- c(x = glue(\"Input `{error_name}` must be a vector, not {friendly_type_of(e$result)}.\"), \n  .             i = cnd_bullet_input_info(), i = cnd_bullet_rowwise_unlist())\n  .     }\n  .     else if (inherits(e, \"dplyr:::error_mutate_incompatible_combine\")) {\n  .         show_group_details <- FALSE\n  .         bullets <- c(x = glue(\"Input `{error_name}` must return compatible vectors across groups\"), \n  .             i = cnd_bullet_input_info(), i = cnd_bullet_combine_details(e$parent$x, \n  .                 e$parent$x_arg), i = cnd_bullet_combine_details(e$parent$y, \n  .                 e$parent$y_arg))\n  .     }\n  .     else {\n  .         bullets <- c(x = conditionMessage(e), i = cnd_bullet_input_info())\n  .     }\n  .     abort(c(cnd_bullet_header(), bullets, i = if (show_group_details) cnd_bullet_cur_group_label()), \n  .         class = c(\"dplyr:::mutate_error\", \"dplyr_error\"), error_name = error_name, \n  .         error_expression = error_expression)\n  . }, \" 関数 \\\"time_length\\\" を見つけることができませんでした \", \n  .     base::quote(time_length(interval(strptime(application_date, \n  .         \"%Y%m%d\"), strptime(as.character(sales_ymd), \"%Y%m%d\")), \n  .         \"year\")))",
      "14. h(simpleError(msg, call))",
      "15. abort(c(cnd_bullet_header(), bullets, i = if (show_group_details) cnd_bullet_cur_group_label()), \n  .     class = c(\"dplyr:::mutate_error\", \"dplyr_error\"), error_name = error_name, \n  .     error_expression = error_expression)",
      "16. signal_abort(cnd)"
     ]
    }
   ],
   "source": [
    "# エラー\n",
    "# inner_join(df_receipt[c(\"customer_id\", \"sales_ymd\")], \n",
    "#                      df_customer[c(\"customer_id\",\"application_date\")], by=\"customer_id\") %>%\n",
    "#     distinct(.,.keep_all=TRUE) %>%\n",
    "#     mutate(elapsed_years = trunc(time_length(\n",
    "#                                         interval(\n",
    "#                                             strptime(application_date, '%Y%m%d'),\n",
    "#                                             strptime(as.character(sales_ymd), '%Y%m%d')\n",
    "#                                         ), \"year\")\n",
    "#                                   ))%>%\n",
    "#     select(customer_id, sales_ymd, application_date, elapsed_years) %>%\n",
    "#     slice(1:10)"
   ]
  },
  {
   "cell_type": "markdown",
   "metadata": {},
   "source": [
    "---\n",
    "> R-073: レシート明細データフレーム（df_receipt）の売上日（sales_ymd）に対し、顧客データフレーム（df_customer）の会員申込日（application_date）からのエポック秒による経過時間を計算し、顧客ID（customer_id）、売上日、会員申込日とともに表示せよ。結果は10件表示させれば良い（なお、sales_ymdは数値、application_dateは文字列でデータを保持している点に注意）。なお、時間情報は保有していないため各日付は0時0分0秒を表すものとする。"
   ]
  },
  {
   "cell_type": "code",
   "execution_count": 86,
   "metadata": {},
   "outputs": [
    {
     "data": {
      "text/html": [
       "<table>\n",
       "<thead><tr><th scope=col>customer_id</th><th scope=col>sales_ymd</th><th scope=col>application_date</th><th scope=col>elapsed_epoch</th></tr></thead>\n",
       "<tbody>\n",
       "\t<tr><td>CS006214000001</td><td>20181103      </td><td>E-20100908-F  </td><td>       NA     </td></tr>\n",
       "\t<tr><td>CS008415000097</td><td>20181118      </td><td>9-20100417-B  </td><td>       NA     </td></tr>\n",
       "\t<tr><td>CS028414000014</td><td>20170712      </td><td>20150711      </td><td> 63244800     </td></tr>\n",
       "\t<tr><td>CS025415000050</td><td>20180821      </td><td>E-20101008-E  </td><td>       NA     </td></tr>\n",
       "\t<tr><td>CS003515000195</td><td>20190605      </td><td>D-20100605-B  </td><td>       NA     </td></tr>\n",
       "\t<tr><td>CS024514000042</td><td>20181205      </td><td>20151010      </td><td> 99532800     </td></tr>\n",
       "\t<tr><td>CS040415000178</td><td>20190922      </td><td>20150627      </td><td>133747200     </td></tr>\n",
       "\t<tr><td>CS027514000015</td><td>20191010      </td><td>B-20101010-C  </td><td>       NA     </td></tr>\n",
       "\t<tr><td>CS025415000134</td><td>20190918      </td><td>20150720      </td><td>131414400     </td></tr>\n",
       "\t<tr><td>CS021515000126</td><td>20171010      </td><td>F-20100911-F  </td><td>       NA     </td></tr>\n",
       "</tbody>\n",
       "</table>\n"
      ],
      "text/latex": [
       "\\begin{tabular}{r|llll}\n",
       " customer\\_id & sales\\_ymd & application\\_date & elapsed\\_epoch\\\\\n",
       "\\hline\n",
       "\t CS006214000001 & 20181103       & E-20100908-F   &        NA     \\\\\n",
       "\t CS008415000097 & 20181118       & 9-20100417-B   &        NA     \\\\\n",
       "\t CS028414000014 & 20170712       & 20150711       &  63244800     \\\\\n",
       "\t CS025415000050 & 20180821       & E-20101008-E   &        NA     \\\\\n",
       "\t CS003515000195 & 20190605       & D-20100605-B   &        NA     \\\\\n",
       "\t CS024514000042 & 20181205       & 20151010       &  99532800     \\\\\n",
       "\t CS040415000178 & 20190922       & 20150627       & 133747200     \\\\\n",
       "\t CS027514000015 & 20191010       & B-20101010-C   &        NA     \\\\\n",
       "\t CS025415000134 & 20190918       & 20150720       & 131414400     \\\\\n",
       "\t CS021515000126 & 20171010       & F-20100911-F   &        NA     \\\\\n",
       "\\end{tabular}\n"
      ],
      "text/markdown": [
       "\n",
       "| customer_id | sales_ymd | application_date | elapsed_epoch |\n",
       "|---|---|---|---|\n",
       "| CS006214000001 | 20181103       | E-20100908-F   |        NA      |\n",
       "| CS008415000097 | 20181118       | 9-20100417-B   |        NA      |\n",
       "| CS028414000014 | 20170712       | 20150711       |  63244800      |\n",
       "| CS025415000050 | 20180821       | E-20101008-E   |        NA      |\n",
       "| CS003515000195 | 20190605       | D-20100605-B   |        NA      |\n",
       "| CS024514000042 | 20181205       | 20151010       |  99532800      |\n",
       "| CS040415000178 | 20190922       | 20150627       | 133747200      |\n",
       "| CS027514000015 | 20191010       | B-20101010-C   |        NA      |\n",
       "| CS025415000134 | 20190918       | 20150720       | 131414400      |\n",
       "| CS021515000126 | 20171010       | F-20100911-F   |        NA      |\n",
       "\n"
      ],
      "text/plain": [
       "   customer_id    sales_ymd application_date elapsed_epoch\n",
       "1  CS006214000001 20181103  E-20100908-F            NA    \n",
       "2  CS008415000097 20181118  9-20100417-B            NA    \n",
       "3  CS028414000014 20170712  20150711          63244800    \n",
       "4  CS025415000050 20180821  E-20101008-E            NA    \n",
       "5  CS003515000195 20190605  D-20100605-B            NA    \n",
       "6  CS024514000042 20181205  20151010          99532800    \n",
       "7  CS040415000178 20190922  20150627         133747200    \n",
       "8  CS027514000015 20191010  B-20101010-C            NA    \n",
       "9  CS025415000134 20190918  20150720         131414400    \n",
       "10 CS021515000126 20171010  F-20100911-F            NA    "
      ]
     },
     "metadata": {},
     "output_type": "display_data"
    }
   ],
   "source": [
    "inner_join(df_receipt[c(\"customer_id\", \"sales_ymd\")], \n",
    "                     df_customer[c(\"customer_id\",\"application_date\")], by=\"customer_id\") %>%\n",
    "    distinct(.,.keep_all=TRUE) %>%\n",
    "    mutate(elapsed_epoch = as.numeric(strptime(as.character(sales_ymd), '%Y%m%d'))\n",
    "                            - as.numeric(strptime(application_date, '%Y%m%d'))) %>%\n",
    "    select(customer_id, sales_ymd, application_date, elapsed_epoch) %>%\n",
    "    slice(1:10)"
   ]
  },
  {
   "cell_type": "markdown",
   "metadata": {},
   "source": [
    "---\n",
    "> R-074: レシート明細データフレーム（df_receipt）の売上日（sales_ymd）に対し、当該週の月曜日からの経過日数を計算し、顧客ID、売上日、当該週の月曜日付とともに表示せよ。結果は10件表示させれば良い（なお、sales_ymdは数値でデータを保持している点に注意）。"
   ]
  },
  {
   "cell_type": "code",
   "execution_count": 88,
   "metadata": {},
   "outputs": [],
   "source": [
    "# エラー\n",
    "# df_receipt[c(\"customer_id\", \"sales_ymd\")] %>%\n",
    "#     distinct(.,.keep_all=TRUE) %>%\n",
    "#     # 以下では開始日が日曜日となるため1日前シフトさせることで日曜日を前週の最終日に変換している。\n",
    "#     # その状態でfloor_dateをすると、週の開始日として前週の日曜日が取得できるため、開始日を月曜日にするために１を足している。\n",
    "#     mutate(monday = as.Date(floor_date(strptime(as.character(sales_ymd), '%Y%m%d') - 1 , unit=\"week\")) + 1) %>%\n",
    "#     mutate(elapse_weekday = as.Date(strptime(as.character(sales_ymd), '%Y%m%d')) - monday) %>%\n",
    "#     select(customer_id, sales_ymd, monday, elapse_weekday) %>%\n",
    "#     slice(1:10)"
   ]
  },
  {
   "cell_type": "markdown",
   "metadata": {},
   "source": [
    "---\n",
    "> R-075: 顧客データフレーム（df_customer）からランダムに1%のデータを抽出し、先頭から10件データを抽出せよ。"
   ]
  },
  {
   "cell_type": "code",
   "execution_count": 89,
   "metadata": {},
   "outputs": [
    {
     "data": {
      "text/html": [
       "<table>\n",
       "<thead><tr><th scope=col>customer_id</th><th scope=col>customer_name</th><th scope=col>gender_cd</th><th scope=col>gender</th><th scope=col>birth_day</th><th scope=col>age</th><th scope=col>postal_cd</th><th scope=col>address</th><th scope=col>application_store_cd</th><th scope=col>application_date</th><th scope=col>status_cd</th></tr></thead>\n",
       "<tbody>\n",
       "\t<tr><td>CS014512000020                        </td><td>細井 美帆,1                           </td><td>女性                                  </td><td>1960-11-01                            </td><td>58                                    </td><td>263-0012                              </td><td>千葉県千葉市稲毛区萩台町**********    </td><td>S12014                                </td><td>20150317                              </td><td>0-00000000-0                          </td><td>                                      </td></tr>\n",
       "\t<tr><td>CS042611000001                        </td><td>玉木 希,1                             </td><td>女性                                  </td><td>1954-03-01                            </td><td>65                                    </td><td>230-0054                              </td><td>神奈川県横浜市鶴見区大黒ふ頭**********</td><td>S14042                                </td><td>20160324                              </td><td>0-00000000-0                          </td><td>                                      </td></tr>\n",
       "\t<tr><td>CS031314000092                        </td><td>田原 みゆき                           </td><td>1                                     </td><td>女性                                  </td><td>1985-07-31                            </td><td>33                                    </td><td>151-0071                              </td><td>東京都渋谷区本町**********            </td><td>S13031                                </td><td>20171124                              </td><td>0-00000000-0                          </td></tr>\n",
       "\t<tr><td>CS004402000110                        </td><td>川越 ヒロ                             </td><td>0                                     </td><td>男性                                  </td><td>1974-12-04                            </td><td>44                                    </td><td>179-0074                              </td><td>東京都練馬区春日町**********          </td><td>S13004                                </td><td>20160530                              </td><td>0-00000000-0                          </td></tr>\n",
       "\t<tr><td>CS007514000094                        </td><td>福岡 まさみ                           </td><td>1                                     </td><td>女性                                  </td><td>1964-06-10                            </td><td>54                                    </td><td>285-0843                              </td><td>千葉県佐倉市中志津**********          </td><td>S12007                                </td><td>20160211                              </td><td>F-20101007-F                          </td></tr>\n",
       "\t<tr><td>CS042312000002                        </td><td>板垣 恵望子,1                         </td><td>女性                                  </td><td>1983-06-07                            </td><td>35                                    </td><td>220-0046                              </td><td>神奈川県横浜市西区西戸部町**********  </td><td>S14042                                </td><td>20160618                              </td><td>0-00000000-0                          </td><td>                                      </td></tr>\n",
       "\t<tr><td>CS018613000061                        </td><td>米倉 美帆,1                           </td><td>女性                                  </td><td>1951-10-04                            </td><td>67                                    </td><td>204-0004                              </td><td>東京都清瀬市野塩**********            </td><td>S13018                                </td><td>20150414                              </td><td>0-00000000-0                          </td><td>                                      </td></tr>\n",
       "\t<tr><td>CS021615000133                        </td><td>村山 南朋                             </td><td>1                                     </td><td>女性                                  </td><td>1950-11-30                            </td><td>68                                    </td><td>259-1143                              </td><td>神奈川県伊勢原市下糟屋**********      </td><td>S14021                                </td><td>20150628                              </td><td>C-20100913-E                          </td></tr>\n",
       "\t<tr><td>CS025713000076                        </td><td>川本 莉沙,1                           </td><td>女性                                  </td><td>1941-09-16                            </td><td>77                                    </td><td>242-0015                              </td><td>神奈川県大和市下和田**********        </td><td>S14025                                </td><td>20181104                              </td><td>0-00000000-0                          </td><td>                                      </td></tr>\n",
       "\t<tr><td>CS009503000040                        </td><td>山城 小雁                             </td><td>0                                     </td><td>男性                                  </td><td>1959-08-26                            </td><td>59                                    </td><td>154-0014                              </td><td>東京都世田谷区新町**********          </td><td>S13009                                </td><td>20151007                              </td><td>0-00000000-0                          </td></tr>\n",
       "</tbody>\n",
       "</table>\n"
      ],
      "text/latex": [
       "\\begin{tabular}{r|lllllllllll}\n",
       " customer\\_id & customer\\_name & gender\\_cd & gender & birth\\_day & age & postal\\_cd & address & application\\_store\\_cd & application\\_date & status\\_cd\\\\\n",
       "\\hline\n",
       "\t CS014512000020                         & 細井 美帆,1                            & 女性                                   & 1960-11-01                             & 58                                     & 263-0012                               & 千葉県千葉市稲毛区萩台町**********     & S12014                                 & 20150317                               & 0-00000000-0                           &                                       \\\\\n",
       "\t CS042611000001                         & 玉木 希,1                              & 女性                                   & 1954-03-01                             & 65                                     & 230-0054                               & 神奈川県横浜市鶴見区大黒ふ頭********** & S14042                                 & 20160324                               & 0-00000000-0                           &                                       \\\\\n",
       "\t CS031314000092                         & 田原 みゆき                            & 1                                      & 女性                                   & 1985-07-31                             & 33                                     & 151-0071                               & 東京都渋谷区本町**********             & S13031                                 & 20171124                               & 0-00000000-0                          \\\\\n",
       "\t CS004402000110                         & 川越 ヒロ                              & 0                                      & 男性                                   & 1974-12-04                             & 44                                     & 179-0074                               & 東京都練馬区春日町**********           & S13004                                 & 20160530                               & 0-00000000-0                          \\\\\n",
       "\t CS007514000094                         & 福岡 まさみ                            & 1                                      & 女性                                   & 1964-06-10                             & 54                                     & 285-0843                               & 千葉県佐倉市中志津**********           & S12007                                 & 20160211                               & F-20101007-F                          \\\\\n",
       "\t CS042312000002                         & 板垣 恵望子,1                          & 女性                                   & 1983-06-07                             & 35                                     & 220-0046                               & 神奈川県横浜市西区西戸部町**********   & S14042                                 & 20160618                               & 0-00000000-0                           &                                       \\\\\n",
       "\t CS018613000061                         & 米倉 美帆,1                            & 女性                                   & 1951-10-04                             & 67                                     & 204-0004                               & 東京都清瀬市野塩**********             & S13018                                 & 20150414                               & 0-00000000-0                           &                                       \\\\\n",
       "\t CS021615000133                         & 村山 南朋                              & 1                                      & 女性                                   & 1950-11-30                             & 68                                     & 259-1143                               & 神奈川県伊勢原市下糟屋**********       & S14021                                 & 20150628                               & C-20100913-E                          \\\\\n",
       "\t CS025713000076                         & 川本 莉沙,1                            & 女性                                   & 1941-09-16                             & 77                                     & 242-0015                               & 神奈川県大和市下和田**********         & S14025                                 & 20181104                               & 0-00000000-0                           &                                       \\\\\n",
       "\t CS009503000040                         & 山城 小雁                              & 0                                      & 男性                                   & 1959-08-26                             & 59                                     & 154-0014                               & 東京都世田谷区新町**********           & S13009                                 & 20151007                               & 0-00000000-0                          \\\\\n",
       "\\end{tabular}\n"
      ],
      "text/markdown": [
       "\n",
       "| customer_id | customer_name | gender_cd | gender | birth_day | age | postal_cd | address | application_store_cd | application_date | status_cd |\n",
       "|---|---|---|---|---|---|---|---|---|---|---|\n",
       "| CS014512000020                         | 細井 美帆,1                            | 女性                                   | 1960-11-01                             | 58                                     | 263-0012                               | 千葉県千葉市稲毛区萩台町**********     | S12014                                 | 20150317                               | 0-00000000-0                           |                                        |\n",
       "| CS042611000001                         | 玉木 希,1                              | 女性                                   | 1954-03-01                             | 65                                     | 230-0054                               | 神奈川県横浜市鶴見区大黒ふ頭********** | S14042                                 | 20160324                               | 0-00000000-0                           |                                        |\n",
       "| CS031314000092                         | 田原 みゆき                            | 1                                      | 女性                                   | 1985-07-31                             | 33                                     | 151-0071                               | 東京都渋谷区本町**********             | S13031                                 | 20171124                               | 0-00000000-0                           |\n",
       "| CS004402000110                         | 川越 ヒロ                              | 0                                      | 男性                                   | 1974-12-04                             | 44                                     | 179-0074                               | 東京都練馬区春日町**********           | S13004                                 | 20160530                               | 0-00000000-0                           |\n",
       "| CS007514000094                         | 福岡 まさみ                            | 1                                      | 女性                                   | 1964-06-10                             | 54                                     | 285-0843                               | 千葉県佐倉市中志津**********           | S12007                                 | 20160211                               | F-20101007-F                           |\n",
       "| CS042312000002                         | 板垣 恵望子,1                          | 女性                                   | 1983-06-07                             | 35                                     | 220-0046                               | 神奈川県横浜市西区西戸部町**********   | S14042                                 | 20160618                               | 0-00000000-0                           |                                        |\n",
       "| CS018613000061                         | 米倉 美帆,1                            | 女性                                   | 1951-10-04                             | 67                                     | 204-0004                               | 東京都清瀬市野塩**********             | S13018                                 | 20150414                               | 0-00000000-0                           |                                        |\n",
       "| CS021615000133                         | 村山 南朋                              | 1                                      | 女性                                   | 1950-11-30                             | 68                                     | 259-1143                               | 神奈川県伊勢原市下糟屋**********       | S14021                                 | 20150628                               | C-20100913-E                           |\n",
       "| CS025713000076                         | 川本 莉沙,1                            | 女性                                   | 1941-09-16                             | 77                                     | 242-0015                               | 神奈川県大和市下和田**********         | S14025                                 | 20181104                               | 0-00000000-0                           |                                        |\n",
       "| CS009503000040                         | 山城 小雁                              | 0                                      | 男性                                   | 1959-08-26                             | 59                                     | 154-0014                               | 東京都世田谷区新町**********           | S13009                                 | 20151007                               | 0-00000000-0                           |\n",
       "\n"
      ],
      "text/plain": [
       "   customer_id    customer_name gender_cd gender     birth_day  age     \n",
       "1  CS014512000020 細井 美帆,1   女性      1960-11-01 58         263-0012\n",
       "2  CS042611000001 玉木 希,1     女性      1954-03-01 65         230-0054\n",
       "3  CS031314000092 田原 みゆき   1         女性       1985-07-31 33      \n",
       "4  CS004402000110 川越 ヒロ     0         男性       1974-12-04 44      \n",
       "5  CS007514000094 福岡 まさみ   1         女性       1964-06-10 54      \n",
       "6  CS042312000002 板垣 恵望子,1 女性      1983-06-07 35         220-0046\n",
       "7  CS018613000061 米倉 美帆,1   女性      1951-10-04 67         204-0004\n",
       "8  CS021615000133 村山 南朋     1         女性       1950-11-30 68      \n",
       "9  CS025713000076 川本 莉沙,1   女性      1941-09-16 77         242-0015\n",
       "10 CS009503000040 山城 小雁     0         男性       1959-08-26 59      \n",
       "   postal_cd                              address                         \n",
       "1  千葉県千葉市稲毛区萩台町**********     S12014                          \n",
       "2  神奈川県横浜市鶴見区大黒ふ頭********** S14042                          \n",
       "3  151-0071                               東京都渋谷区本町**********      \n",
       "4  179-0074                               東京都練馬区春日町**********    \n",
       "5  285-0843                               千葉県佐倉市中志津**********    \n",
       "6  神奈川県横浜市西区西戸部町**********   S14042                          \n",
       "7  東京都清瀬市野塩**********             S13018                          \n",
       "8  259-1143                               神奈川県伊勢原市下糟屋**********\n",
       "9  神奈川県大和市下和田**********         S14025                          \n",
       "10 154-0014                               東京都世田谷区新町**********    \n",
       "   application_store_cd application_date status_cd   \n",
       "1  20150317             0-00000000-0                 \n",
       "2  20160324             0-00000000-0                 \n",
       "3  S13031               20171124         0-00000000-0\n",
       "4  S13004               20160530         0-00000000-0\n",
       "5  S12007               20160211         F-20101007-F\n",
       "6  20160618             0-00000000-0                 \n",
       "7  20150414             0-00000000-0                 \n",
       "8  S14021               20150628         C-20100913-E\n",
       "9  20181104             0-00000000-0                 \n",
       "10 S13009               20151007         0-00000000-0"
      ]
     },
     "metadata": {},
     "output_type": "display_data"
    }
   ],
   "source": [
    "head(sample_frac(tbl = df_customer, 0.01),10)"
   ]
  },
  {
   "cell_type": "markdown",
   "metadata": {},
   "source": [
    "---\n",
    "> R-076: 顧客データフレーム（df_customer）から性別（gender_cd）の割合に基づきランダムに10%のデータを層化抽出データし、性別ごとに件数を集計せよ。"
   ]
  },
  {
   "cell_type": "code",
   "execution_count": 90,
   "metadata": {},
   "outputs": [
    {
     "name": "stderr",
     "output_type": "stream",
     "text": [
      "`summarise()` ungrouping output (override with `.groups` argument)\n"
     ]
    },
    {
     "data": {
      "text/html": [
       "<table>\n",
       "<thead><tr><th scope=col>gender_cd</th><th scope=col>customer_num</th></tr></thead>\n",
       "<tbody>\n",
       "\t<tr><td>0   </td><td>183 </td></tr>\n",
       "\t<tr><td>1   </td><td>873 </td></tr>\n",
       "\t<tr><td>9   </td><td> 61 </td></tr>\n",
       "\t<tr><td>女性</td><td>919 </td></tr>\n",
       "\t<tr><td>男性</td><td>115 </td></tr>\n",
       "\t<tr><td>不明</td><td> 46 </td></tr>\n",
       "</tbody>\n",
       "</table>\n"
      ],
      "text/latex": [
       "\\begin{tabular}{r|ll}\n",
       " gender\\_cd & customer\\_num\\\\\n",
       "\\hline\n",
       "\t 0    & 183 \\\\\n",
       "\t 1    & 873 \\\\\n",
       "\t 9    &  61 \\\\\n",
       "\t 女性 & 919 \\\\\n",
       "\t 男性 & 115 \\\\\n",
       "\t 不明 &  46 \\\\\n",
       "\\end{tabular}\n"
      ],
      "text/markdown": [
       "\n",
       "| gender_cd | customer_num |\n",
       "|---|---|\n",
       "| 0    | 183  |\n",
       "| 1    | 873  |\n",
       "| 9    |  61  |\n",
       "| 女性 | 919  |\n",
       "| 男性 | 115  |\n",
       "| 不明 |  46  |\n",
       "\n"
      ],
      "text/plain": [
       "  gender_cd customer_num\n",
       "1 0         183         \n",
       "2 1         873         \n",
       "3 9          61         \n",
       "4 女性      919         \n",
       "5 男性      115         \n",
       "6 不明       46         "
      ]
     },
     "metadata": {},
     "output_type": "display_data"
    }
   ],
   "source": [
    "set.seed(71)\n",
    "df_customer %>%\n",
    "    group_by(gender_cd) %>%\n",
    "    sample_frac(0.1) %>%\n",
    "    summarise(customer_num = n())"
   ]
  },
  {
   "cell_type": "markdown",
   "metadata": {},
   "source": [
    "---\n",
    "> R-077: レシート明細データフレーム（df_receipt）の売上金額（amount）を顧客単位に合計し、合計した売上金額の外れ値を抽出せよ。ただし、顧客IDが\"Z\"から始まるのものは非会員を表すため、除外して計算すること。なお、ここでは外れ値を平均から3σ以上離れたものとする。結果は10件表示させれば良い。"
   ]
  },
  {
   "cell_type": "code",
   "execution_count": 91,
   "metadata": {},
   "outputs": [
    {
     "name": "stderr",
     "output_type": "stream",
     "text": [
      "`summarise()` ungrouping output (override with `.groups` argument)\n"
     ]
    },
    {
     "data": {
      "text/html": [
       "<table>\n",
       "<thead><tr><th scope=col>customer_id</th><th scope=col>sum_amount</th></tr></thead>\n",
       "<tbody>\n",
       "\t<tr><td>CS001605000009</td><td>18925         </td></tr>\n",
       "\t<tr><td>CS006415000147</td><td>12723         </td></tr>\n",
       "\t<tr><td>CS006515000023</td><td>18372         </td></tr>\n",
       "\t<tr><td>CS006515000125</td><td>12575         </td></tr>\n",
       "\t<tr><td>CS006515000209</td><td>11373         </td></tr>\n",
       "\t<tr><td>CS007115000006</td><td>11528         </td></tr>\n",
       "\t<tr><td>CS007514000056</td><td>13293         </td></tr>\n",
       "\t<tr><td>CS007514000094</td><td>15735         </td></tr>\n",
       "\t<tr><td>CS007515000107</td><td>11188         </td></tr>\n",
       "\t<tr><td>CS007615000026</td><td>11959         </td></tr>\n",
       "</tbody>\n",
       "</table>\n"
      ],
      "text/latex": [
       "\\begin{tabular}{r|ll}\n",
       " customer\\_id & sum\\_amount\\\\\n",
       "\\hline\n",
       "\t CS001605000009 & 18925         \\\\\n",
       "\t CS006415000147 & 12723         \\\\\n",
       "\t CS006515000023 & 18372         \\\\\n",
       "\t CS006515000125 & 12575         \\\\\n",
       "\t CS006515000209 & 11373         \\\\\n",
       "\t CS007115000006 & 11528         \\\\\n",
       "\t CS007514000056 & 13293         \\\\\n",
       "\t CS007514000094 & 15735         \\\\\n",
       "\t CS007515000107 & 11188         \\\\\n",
       "\t CS007615000026 & 11959         \\\\\n",
       "\\end{tabular}\n"
      ],
      "text/markdown": [
       "\n",
       "| customer_id | sum_amount |\n",
       "|---|---|\n",
       "| CS001605000009 | 18925          |\n",
       "| CS006415000147 | 12723          |\n",
       "| CS006515000023 | 18372          |\n",
       "| CS006515000125 | 12575          |\n",
       "| CS006515000209 | 11373          |\n",
       "| CS007115000006 | 11528          |\n",
       "| CS007514000056 | 13293          |\n",
       "| CS007514000094 | 15735          |\n",
       "| CS007515000107 | 11188          |\n",
       "| CS007615000026 | 11959          |\n",
       "\n"
      ],
      "text/plain": [
       "   customer_id    sum_amount\n",
       "1  CS001605000009 18925     \n",
       "2  CS006415000147 12723     \n",
       "3  CS006515000023 18372     \n",
       "4  CS006515000125 12575     \n",
       "5  CS006515000209 11373     \n",
       "6  CS007115000006 11528     \n",
       "7  CS007514000056 13293     \n",
       "8  CS007514000094 15735     \n",
       "9  CS007515000107 11188     \n",
       "10 CS007615000026 11959     "
      ]
     },
     "metadata": {},
     "output_type": "display_data"
    }
   ],
   "source": [
    "df_receipt %>%\n",
    "    filter(!grepl(\"^Z\", customer_id)) %>%\n",
    "    group_by(customer_id) %>%\n",
    "    summarise(sum_amount = sum(amount)) %>%\n",
    "    filter(abs(sum_amount - mean(sum_amount)) / sd(sum_amount) >= 3) %>%\n",
    "    slice(1:10)"
   ]
  },
  {
   "cell_type": "markdown",
   "metadata": {},
   "source": [
    "---\n",
    "> R-078: レシート明細データフレーム（df_receipt）の売上金額（amount）を顧客単位に合計し、合計した売上金額の外れ値を抽出せよ。ただし、顧客IDが\"Z\"から始まるのものは非会員を表すため、除外して計算すること。なお、ここでは外れ値を第一四分位と第三四分位の差であるIQRを用いて、「第一四分位数-1.5×IQR」よりも下回るもの、または「第三四分位数+1.5×IQR」を超えるものとする。結果は10件表示させれば良い。"
   ]
  },
  {
   "cell_type": "code",
   "execution_count": 92,
   "metadata": {},
   "outputs": [
    {
     "name": "stderr",
     "output_type": "stream",
     "text": [
      "`summarise()` ungrouping output (override with `.groups` argument)\n"
     ]
    },
    {
     "data": {
      "text/html": [
       "<dl class=dl-horizontal>\n",
       "\t<dt>0%</dt>\n",
       "\t\t<dd>70</dd>\n",
       "\t<dt>25%</dt>\n",
       "\t\t<dd>548.25</dd>\n",
       "\t<dt>50%</dt>\n",
       "\t\t<dd>1478</dd>\n",
       "\t<dt>75%</dt>\n",
       "\t\t<dd>3649.75</dd>\n",
       "\t<dt>100%</dt>\n",
       "\t\t<dd>23086</dd>\n",
       "</dl>\n"
      ],
      "text/latex": [
       "\\begin{description*}\n",
       "\\item[0\\textbackslash{}\\%] 70\n",
       "\\item[25\\textbackslash{}\\%] 548.25\n",
       "\\item[50\\textbackslash{}\\%] 1478\n",
       "\\item[75\\textbackslash{}\\%] 3649.75\n",
       "\\item[100\\textbackslash{}\\%] 23086\n",
       "\\end{description*}\n"
      ],
      "text/markdown": [
       "0%\n",
       ":   7025%\n",
       ":   548.2550%\n",
       ":   147875%\n",
       ":   3649.75100%\n",
       ":   23086\n",
       "\n"
      ],
      "text/plain": [
       "      0%      25%      50%      75%     100% \n",
       "   70.00   548.25  1478.00  3649.75 23086.00 "
      ]
     },
     "metadata": {},
     "output_type": "display_data"
    }
   ],
   "source": [
    "# 確認用コード\n",
    "df_tmp <- df_receipt %>%\n",
    "    filter(!grepl(\"^Z\", customer_id)) %>%\n",
    "    group_by(customer_id) %>%\n",
    "    summarise(sum_amount = sum(amount))\n",
    "\n",
    "quantile(df_tmp$sum_amount)"
   ]
  },
  {
   "cell_type": "code",
   "execution_count": 93,
   "metadata": {},
   "outputs": [
    {
     "data": {
      "text/html": [
       "8174"
      ],
      "text/latex": [
       "8174"
      ],
      "text/markdown": [
       "8174"
      ],
      "text/plain": [
       "[1] 8174"
      ]
     },
     "metadata": {},
     "output_type": "display_data"
    }
   ],
   "source": [
    "# 確認用コード\n",
    "(3602-554) * 1.5 + 3602"
   ]
  },
  {
   "cell_type": "code",
   "execution_count": 94,
   "metadata": {},
   "outputs": [
    {
     "name": "stderr",
     "output_type": "stream",
     "text": [
      "`summarise()` ungrouping output (override with `.groups` argument)\n"
     ]
    },
    {
     "data": {
      "text/html": [
       "<table>\n",
       "<thead><tr><th scope=col>customer_id</th><th scope=col>sum_amount</th></tr></thead>\n",
       "<tbody>\n",
       "\t<tr><td>CS001414000048</td><td> 8584         </td></tr>\n",
       "\t<tr><td>CS001605000009</td><td>18925         </td></tr>\n",
       "\t<tr><td>CS002415000594</td><td> 9568         </td></tr>\n",
       "\t<tr><td>CS004414000181</td><td> 9584         </td></tr>\n",
       "\t<tr><td>CS005415000137</td><td> 8734         </td></tr>\n",
       "\t<tr><td>CS006414000001</td><td> 9156         </td></tr>\n",
       "\t<tr><td>CS006414000029</td><td> 9179         </td></tr>\n",
       "\t<tr><td>CS006415000105</td><td>10042         </td></tr>\n",
       "\t<tr><td>CS006415000147</td><td>12723         </td></tr>\n",
       "\t<tr><td>CS006415000157</td><td>10648         </td></tr>\n",
       "</tbody>\n",
       "</table>\n"
      ],
      "text/latex": [
       "\\begin{tabular}{r|ll}\n",
       " customer\\_id & sum\\_amount\\\\\n",
       "\\hline\n",
       "\t CS001414000048 &  8584         \\\\\n",
       "\t CS001605000009 & 18925         \\\\\n",
       "\t CS002415000594 &  9568         \\\\\n",
       "\t CS004414000181 &  9584         \\\\\n",
       "\t CS005415000137 &  8734         \\\\\n",
       "\t CS006414000001 &  9156         \\\\\n",
       "\t CS006414000029 &  9179         \\\\\n",
       "\t CS006415000105 & 10042         \\\\\n",
       "\t CS006415000147 & 12723         \\\\\n",
       "\t CS006415000157 & 10648         \\\\\n",
       "\\end{tabular}\n"
      ],
      "text/markdown": [
       "\n",
       "| customer_id | sum_amount |\n",
       "|---|---|\n",
       "| CS001414000048 |  8584          |\n",
       "| CS001605000009 | 18925          |\n",
       "| CS002415000594 |  9568          |\n",
       "| CS004414000181 |  9584          |\n",
       "| CS005415000137 |  8734          |\n",
       "| CS006414000001 |  9156          |\n",
       "| CS006414000029 |  9179          |\n",
       "| CS006415000105 | 10042          |\n",
       "| CS006415000147 | 12723          |\n",
       "| CS006415000157 | 10648          |\n",
       "\n"
      ],
      "text/plain": [
       "   customer_id    sum_amount\n",
       "1  CS001414000048  8584     \n",
       "2  CS001605000009 18925     \n",
       "3  CS002415000594  9568     \n",
       "4  CS004414000181  9584     \n",
       "5  CS005415000137  8734     \n",
       "6  CS006414000001  9156     \n",
       "7  CS006414000029  9179     \n",
       "8  CS006415000105 10042     \n",
       "9  CS006415000147 12723     \n",
       "10 CS006415000157 10648     "
      ]
     },
     "metadata": {},
     "output_type": "display_data"
    }
   ],
   "source": [
    "df_receipt %>%\n",
    "    group_by(customer_id) %>%\n",
    "    filter(!grepl(\"^Z\", customer_id)) %>%\n",
    "    summarise(sum_amount = sum(amount)) %>%\n",
    "    filter(sum_amount < quantile(sum_amount)[2] - 1.5 * (quantile(sum_amount)[4] - quantile(sum_amount)[2]) |\n",
    "           sum_amount > quantile(sum_amount)[4] + 1.5 * (quantile(sum_amount)[4] - quantile(sum_amount)[2])) %>%\n",
    "    slice(1:10)"
   ]
  },
  {
   "cell_type": "markdown",
   "metadata": {},
   "source": [
    "---\n",
    "> R-079: 商品データフレーム（df_product）の各項目に対し、欠損数を確認せよ。"
   ]
  },
  {
   "cell_type": "code",
   "execution_count": 95,
   "metadata": {},
   "outputs": [
    {
     "data": {
      "text/html": [
       "<dl class=dl-horizontal>\n",
       "\t<dt>X.U.FEFF.product_cd</dt>\n",
       "\t\t<dd>0</dd>\n",
       "\t<dt>category_major_cd</dt>\n",
       "\t\t<dd>0</dd>\n",
       "\t<dt>category_medium_cd</dt>\n",
       "\t\t<dd>0</dd>\n",
       "\t<dt>category_small_cd</dt>\n",
       "\t\t<dd>0</dd>\n",
       "\t<dt>unit_price</dt>\n",
       "\t\t<dd>7</dd>\n",
       "\t<dt>unit_cost</dt>\n",
       "\t\t<dd>7</dd>\n",
       "</dl>\n"
      ],
      "text/latex": [
       "\\begin{description*}\n",
       "\\item[X.U.FEFF.product\\textbackslash{}\\_cd] 0\n",
       "\\item[category\\textbackslash{}\\_major\\textbackslash{}\\_cd] 0\n",
       "\\item[category\\textbackslash{}\\_medium\\textbackslash{}\\_cd] 0\n",
       "\\item[category\\textbackslash{}\\_small\\textbackslash{}\\_cd] 0\n",
       "\\item[unit\\textbackslash{}\\_price] 7\n",
       "\\item[unit\\textbackslash{}\\_cost] 7\n",
       "\\end{description*}\n"
      ],
      "text/markdown": [
       "X.U.FEFF.product_cd\n",
       ":   0category_major_cd\n",
       ":   0category_medium_cd\n",
       ":   0category_small_cd\n",
       ":   0unit_price\n",
       ":   7unit_cost\n",
       ":   7\n",
       "\n"
      ],
      "text/plain": [
       "X.U.FEFF.product_cd   category_major_cd  category_medium_cd   category_small_cd \n",
       "                  0                   0                   0                   0 \n",
       "         unit_price           unit_cost \n",
       "                  7                   7 "
      ]
     },
     "metadata": {},
     "output_type": "display_data"
    }
   ],
   "source": [
    "sapply(df_product, function(x) sum(is.na(x)))"
   ]
  },
  {
   "cell_type": "markdown",
   "metadata": {},
   "source": [
    "---\n",
    "> R-080: 商品データフレーム（df_product）のいずれかの項目に欠損が発生しているレコードを全て削除した新たなdf_product_1を作成せよ。なお、削除前後の件数を表示させ、前設問で確認した件数だけ減少していることも確認すること。"
   ]
  },
  {
   "cell_type": "code",
   "execution_count": 96,
   "metadata": {},
   "outputs": [
    {
     "data": {
      "text/html": [
       "10030"
      ],
      "text/latex": [
       "10030"
      ],
      "text/markdown": [
       "10030"
      ],
      "text/plain": [
       "[1] 10030"
      ]
     },
     "metadata": {},
     "output_type": "display_data"
    },
    {
     "data": {
      "text/html": [
       "10023"
      ],
      "text/latex": [
       "10023"
      ],
      "text/markdown": [
       "10023"
      ],
      "text/plain": [
       "[1] 10023"
      ]
     },
     "metadata": {},
     "output_type": "display_data"
    }
   ],
   "source": [
    "nrow(df_product)\n",
    "df_product_1 <- na.omit(df_product)\n",
    "nrow(df_product_1)"
   ]
  },
  {
   "cell_type": "markdown",
   "metadata": {},
   "source": [
    "---\n",
    "> R-081: 単価（unit_price）と原価（unit_cost）の欠損値について、それぞれの平均値で補完した新たなdf_product_2を作成せよ。なお、平均値について1円未満は四捨五入とし、0.5については偶数寄せでかまわない。補完実施後、各項目について欠損が生じていないことも確認すること。"
   ]
  },
  {
   "cell_type": "code",
   "execution_count": 97,
   "metadata": {},
   "outputs": [
    {
     "data": {
      "text/html": [
       "<dl class=dl-horizontal>\n",
       "\t<dt>X.U.FEFF.product_cd</dt>\n",
       "\t\t<dd>0</dd>\n",
       "\t<dt>category_major_cd</dt>\n",
       "\t\t<dd>0</dd>\n",
       "\t<dt>category_medium_cd</dt>\n",
       "\t\t<dd>0</dd>\n",
       "\t<dt>category_small_cd</dt>\n",
       "\t\t<dd>0</dd>\n",
       "\t<dt>unit_price</dt>\n",
       "\t\t<dd>0</dd>\n",
       "\t<dt>unit_cost</dt>\n",
       "\t\t<dd>0</dd>\n",
       "</dl>\n"
      ],
      "text/latex": [
       "\\begin{description*}\n",
       "\\item[X.U.FEFF.product\\textbackslash{}\\_cd] 0\n",
       "\\item[category\\textbackslash{}\\_major\\textbackslash{}\\_cd] 0\n",
       "\\item[category\\textbackslash{}\\_medium\\textbackslash{}\\_cd] 0\n",
       "\\item[category\\textbackslash{}\\_small\\textbackslash{}\\_cd] 0\n",
       "\\item[unit\\textbackslash{}\\_price] 0\n",
       "\\item[unit\\textbackslash{}\\_cost] 0\n",
       "\\end{description*}\n"
      ],
      "text/markdown": [
       "X.U.FEFF.product_cd\n",
       ":   0category_major_cd\n",
       ":   0category_medium_cd\n",
       ":   0category_small_cd\n",
       ":   0unit_price\n",
       ":   0unit_cost\n",
       ":   0\n",
       "\n"
      ],
      "text/plain": [
       "X.U.FEFF.product_cd   category_major_cd  category_medium_cd   category_small_cd \n",
       "                  0                   0                   0                   0 \n",
       "         unit_price           unit_cost \n",
       "                  0                   0 "
      ]
     },
     "metadata": {},
     "output_type": "display_data"
    }
   ],
   "source": [
    "price_mean <- round(mean(df_product$unit_price, na.rm=TRUE))\n",
    "cost_mean <- round(mean(df_product$unit_cost, na.rm=TRUE))\n",
    "\n",
    "df_product_2 <- df_product %>%\n",
    "    replace_na(list(unit_price = price_mean, unit_cost = cost_mean))\n",
    "    \n",
    "sapply(df_product_2, function(x) sum(is.na(x)))"
   ]
  },
  {
   "cell_type": "markdown",
   "metadata": {},
   "source": [
    "---\n",
    "> R-082: 単価（unit_price）と原価（unit_cost）の欠損値について、それぞれの中央値で補完した新たなdf_product_3を作成せよ。なお、中央値について1円未満は四捨五入とし、0.5については偶数寄せでかまわない。補完実施後、各項目について欠損が生じていないことも確認すること。"
   ]
  },
  {
   "cell_type": "code",
   "execution_count": 98,
   "metadata": {},
   "outputs": [
    {
     "data": {
      "text/html": [
       "<dl class=dl-horizontal>\n",
       "\t<dt>X.U.FEFF.product_cd</dt>\n",
       "\t\t<dd>0</dd>\n",
       "\t<dt>category_major_cd</dt>\n",
       "\t\t<dd>0</dd>\n",
       "\t<dt>category_medium_cd</dt>\n",
       "\t\t<dd>0</dd>\n",
       "\t<dt>category_small_cd</dt>\n",
       "\t\t<dd>0</dd>\n",
       "\t<dt>unit_price</dt>\n",
       "\t\t<dd>0</dd>\n",
       "\t<dt>unit_cost</dt>\n",
       "\t\t<dd>0</dd>\n",
       "</dl>\n"
      ],
      "text/latex": [
       "\\begin{description*}\n",
       "\\item[X.U.FEFF.product\\textbackslash{}\\_cd] 0\n",
       "\\item[category\\textbackslash{}\\_major\\textbackslash{}\\_cd] 0\n",
       "\\item[category\\textbackslash{}\\_medium\\textbackslash{}\\_cd] 0\n",
       "\\item[category\\textbackslash{}\\_small\\textbackslash{}\\_cd] 0\n",
       "\\item[unit\\textbackslash{}\\_price] 0\n",
       "\\item[unit\\textbackslash{}\\_cost] 0\n",
       "\\end{description*}\n"
      ],
      "text/markdown": [
       "X.U.FEFF.product_cd\n",
       ":   0category_major_cd\n",
       ":   0category_medium_cd\n",
       ":   0category_small_cd\n",
       ":   0unit_price\n",
       ":   0unit_cost\n",
       ":   0\n",
       "\n"
      ],
      "text/plain": [
       "X.U.FEFF.product_cd   category_major_cd  category_medium_cd   category_small_cd \n",
       "                  0                   0                   0                   0 \n",
       "         unit_price           unit_cost \n",
       "                  0                   0 "
      ]
     },
     "metadata": {},
     "output_type": "display_data"
    }
   ],
   "source": [
    "price_median <- round(median(df_product$unit_price, na.rm=TRUE))\n",
    "cost_median <- round(median(df_product$unit_cost, na.rm=TRUE))\n",
    "\n",
    "df_product_3 <- df_product %>%\n",
    "    replace_na(list(unit_price = price_median, unit_cost = cost_median))\n",
    "    \n",
    "sapply(df_product_3, function(x) sum(is.na(x)))"
   ]
  },
  {
   "cell_type": "markdown",
   "metadata": {},
   "source": [
    "---\n",
    "> R-083: 単価（unit_price）と原価（unit_cost）の欠損値について、各商品の小区分（category_small_cd）ごとに算出した中央値で補完した新たなdf_product_4を作成せよ。なお、中央値について1円未満は四捨五入とし、0.5については偶数寄せでかまわない。補完実施後、各項目について欠損が生じていないことも確認すること。"
   ]
  },
  {
   "cell_type": "code",
   "execution_count": 99,
   "metadata": {},
   "outputs": [
    {
     "name": "stderr",
     "output_type": "stream",
     "text": [
      "`summarise()` ungrouping output (override with `.groups` argument)\n"
     ]
    },
    {
     "data": {
      "text/html": [
       "<dl class=dl-horizontal>\n",
       "\t<dt>category_small_cd</dt>\n",
       "\t\t<dd>0</dd>\n",
       "\t<dt>price_median</dt>\n",
       "\t\t<dd>0</dd>\n",
       "\t<dt>cost_median</dt>\n",
       "\t\t<dd>0</dd>\n",
       "\t<dt>X.U.FEFF.product_cd</dt>\n",
       "\t\t<dd>0</dd>\n",
       "\t<dt>category_major_cd</dt>\n",
       "\t\t<dd>0</dd>\n",
       "\t<dt>category_medium_cd</dt>\n",
       "\t\t<dd>0</dd>\n",
       "\t<dt>unit_price</dt>\n",
       "\t\t<dd>0</dd>\n",
       "\t<dt>unit_cost</dt>\n",
       "\t\t<dd>0</dd>\n",
       "</dl>\n"
      ],
      "text/latex": [
       "\\begin{description*}\n",
       "\\item[category\\textbackslash{}\\_small\\textbackslash{}\\_cd] 0\n",
       "\\item[price\\textbackslash{}\\_median] 0\n",
       "\\item[cost\\textbackslash{}\\_median] 0\n",
       "\\item[X.U.FEFF.product\\textbackslash{}\\_cd] 0\n",
       "\\item[category\\textbackslash{}\\_major\\textbackslash{}\\_cd] 0\n",
       "\\item[category\\textbackslash{}\\_medium\\textbackslash{}\\_cd] 0\n",
       "\\item[unit\\textbackslash{}\\_price] 0\n",
       "\\item[unit\\textbackslash{}\\_cost] 0\n",
       "\\end{description*}\n"
      ],
      "text/markdown": [
       "category_small_cd\n",
       ":   0price_median\n",
       ":   0cost_median\n",
       ":   0X.U.FEFF.product_cd\n",
       ":   0category_major_cd\n",
       ":   0category_medium_cd\n",
       ":   0unit_price\n",
       ":   0unit_cost\n",
       ":   0\n",
       "\n"
      ],
      "text/plain": [
       "  category_small_cd        price_median         cost_median X.U.FEFF.product_cd \n",
       "                  0                   0                   0                   0 \n",
       "  category_major_cd  category_medium_cd          unit_price           unit_cost \n",
       "                  0                   0                   0                   0 "
      ]
     },
     "metadata": {},
     "output_type": "display_data"
    }
   ],
   "source": [
    "df_product_4 <- df_product %>%\n",
    "    group_by(category_small_cd) %>%\n",
    "    summarise(price_median = round(median(unit_price, na.rm=TRUE)), cost_median=round(median(unit_cost, na.rm=TRUE))) %>%\n",
    "    inner_join(df_product, by=\"category_small_cd\") %>%\n",
    "    mutate(unit_price = ifelse(is.na(unit_price), price_median, unit_price),\n",
    "           unit_cost = ifelse(is.na(unit_cost), cost_median, unit_cost))\n",
    "\n",
    "sapply(df_product_4, function(x) sum(is.na(x)))"
   ]
  },
  {
   "cell_type": "code",
   "execution_count": 100,
   "metadata": {},
   "outputs": [
    {
     "ename": "ERROR",
     "evalue": "Error: Problem with `filter()` input `..1`.\nx  オブジェクト 'product_cd' がありません \ni Input `..1` is `product_cd == \"P050103021\"`.\n",
     "output_type": "error",
     "traceback": [
      "Error: Problem with `filter()` input `..1`.\nx  オブジェクト 'product_cd' がありません \ni Input `..1` is `product_cd == \"P050103021\"`.\nTraceback:\n",
      "1. df_product_4 %>% filter(product_cd == \"P050103021\")",
      "2. withVisible(eval(quote(`_fseq`(`_lhs`)), env, env))",
      "3. eval(quote(`_fseq`(`_lhs`)), env, env)",
      "4. eval(quote(`_fseq`(`_lhs`)), env, env)",
      "5. `_fseq`(`_lhs`)",
      "6. freduce(value, `_function_list`)",
      "7. withVisible(function_list[[k]](value))",
      "8. function_list[[k]](value)",
      "9. filter(., product_cd == \"P050103021\")",
      "10. filter.data.frame(., product_cd == \"P050103021\")",
      "11. filter_rows(.data, ...)",
      "12. withCallingHandlers(mask$eval_all_filter(dots, env_filter), error = function(e) {\n  .     local_call_step(dots = dots, .index = env_filter$current_expression, \n  .         .fn = \"filter\")\n  .     abort(c(cnd_bullet_header(), x = conditionMessage(e), i = cnd_bullet_input_info(), \n  .         i = cnd_bullet_cur_group_label()), class = \"dplyr_error\")\n  . })",
      "13. mask$eval_all_filter(dots, env_filter)",
      "14. .handleSimpleError(function (e) \n  . {\n  .     local_call_step(dots = dots, .index = env_filter$current_expression, \n  .         .fn = \"filter\")\n  .     abort(c(cnd_bullet_header(), x = conditionMessage(e), i = cnd_bullet_input_info(), \n  .         i = cnd_bullet_cur_group_label()), class = \"dplyr_error\")\n  . }, \" オブジェクト 'product_cd' がありません \", base::quote(mask$eval_all_filter(dots, \n  .     env_filter)))",
      "15. h(simpleError(msg, call))",
      "16. abort(c(cnd_bullet_header(), x = conditionMessage(e), i = cnd_bullet_input_info(), \n  .     i = cnd_bullet_cur_group_label()), class = \"dplyr_error\")",
      "17. signal_abort(cnd)"
     ]
    }
   ],
   "source": [
    "# エラー　この前に間違いがある\n",
    "df_product_4 %>%\n",
    "    filter(product_cd == 'P050103021')"
   ]
  },
  {
   "cell_type": "markdown",
   "metadata": {},
   "source": [
    "---\n",
    "> R-084: 顧客データフレーム（df_customer）の全顧客に対し、全期間の売上金額に占める2019年売上金額の割合を計算せよ。ただし、販売実績のない場合は0として扱うこと。そして計算した割合が0超のものを抽出せよ。 結果は10件表示させれば良い。また、作成したデータにNAやNANが存在しないことを確認せよ。"
   ]
  },
  {
   "cell_type": "code",
   "execution_count": 114,
   "metadata": {},
   "outputs": [
    {
     "name": "stderr",
     "output_type": "stream",
     "text": [
      "`summarise()` ungrouping output (override with `.groups` argument)\n",
      "`summarise()` ungrouping output (override with `.groups` argument)\n"
     ]
    },
    {
     "data": {
      "text/html": [
       "<table>\n",
       "<thead><tr><th scope=col>customer_id</th><th scope=col>amount_2019</th><th scope=col>amount_all</th><th scope=col>amount_rate</th></tr></thead>\n",
       "<tbody>\n",
       "\t<tr><td>CS001113000004</td><td>1298          </td><td>1298          </td><td>1.0000000     </td></tr>\n",
       "\t<tr><td>CS001114000005</td><td> 188          </td><td> 626          </td><td>0.3003195     </td></tr>\n",
       "\t<tr><td>CS001115000010</td><td> 578          </td><td>3044          </td><td>0.1898817     </td></tr>\n",
       "\t<tr><td>CS001205000004</td><td> 702          </td><td>1988          </td><td>0.3531187     </td></tr>\n",
       "\t<tr><td>CS001205000006</td><td> 486          </td><td>3337          </td><td>0.1456398     </td></tr>\n",
       "\t<tr><td>CS001211000025</td><td> 456          </td><td> 456          </td><td>1.0000000     </td></tr>\n",
       "\t<tr><td>CS001212000070</td><td> 456          </td><td> 456          </td><td>1.0000000     </td></tr>\n",
       "\t<tr><td>CS001214000009</td><td> 664          </td><td>4685          </td><td>0.1417289     </td></tr>\n",
       "\t<tr><td>CS001214000017</td><td>2962          </td><td>4132          </td><td>0.7168441     </td></tr>\n",
       "\t<tr><td>CS001214000048</td><td>1889          </td><td>2374          </td><td>0.7957035     </td></tr>\n",
       "</tbody>\n",
       "</table>\n"
      ],
      "text/latex": [
       "\\begin{tabular}{r|llll}\n",
       " customer\\_id & amount\\_2019 & amount\\_all & amount\\_rate\\\\\n",
       "\\hline\n",
       "\t CS001113000004 & 1298           & 1298           & 1.0000000     \\\\\n",
       "\t CS001114000005 &  188           &  626           & 0.3003195     \\\\\n",
       "\t CS001115000010 &  578           & 3044           & 0.1898817     \\\\\n",
       "\t CS001205000004 &  702           & 1988           & 0.3531187     \\\\\n",
       "\t CS001205000006 &  486           & 3337           & 0.1456398     \\\\\n",
       "\t CS001211000025 &  456           &  456           & 1.0000000     \\\\\n",
       "\t CS001212000070 &  456           &  456           & 1.0000000     \\\\\n",
       "\t CS001214000009 &  664           & 4685           & 0.1417289     \\\\\n",
       "\t CS001214000017 & 2962           & 4132           & 0.7168441     \\\\\n",
       "\t CS001214000048 & 1889           & 2374           & 0.7957035     \\\\\n",
       "\\end{tabular}\n"
      ],
      "text/markdown": [
       "\n",
       "| customer_id | amount_2019 | amount_all | amount_rate |\n",
       "|---|---|---|---|\n",
       "| CS001113000004 | 1298           | 1298           | 1.0000000      |\n",
       "| CS001114000005 |  188           |  626           | 0.3003195      |\n",
       "| CS001115000010 |  578           | 3044           | 0.1898817      |\n",
       "| CS001205000004 |  702           | 1988           | 0.3531187      |\n",
       "| CS001205000006 |  486           | 3337           | 0.1456398      |\n",
       "| CS001211000025 |  456           |  456           | 1.0000000      |\n",
       "| CS001212000070 |  456           |  456           | 1.0000000      |\n",
       "| CS001214000009 |  664           | 4685           | 0.1417289      |\n",
       "| CS001214000017 | 2962           | 4132           | 0.7168441      |\n",
       "| CS001214000048 | 1889           | 2374           | 0.7957035      |\n",
       "\n"
      ],
      "text/plain": [
       "   customer_id    amount_2019 amount_all amount_rate\n",
       "1  CS001113000004 1298        1298       1.0000000  \n",
       "2  CS001114000005  188         626       0.3003195  \n",
       "3  CS001115000010  578        3044       0.1898817  \n",
       "4  CS001205000004  702        1988       0.3531187  \n",
       "5  CS001205000006  486        3337       0.1456398  \n",
       "6  CS001211000025  456         456       1.0000000  \n",
       "7  CS001212000070  456         456       1.0000000  \n",
       "8  CS001214000009  664        4685       0.1417289  \n",
       "9  CS001214000017 2962        4132       0.7168441  \n",
       "10 CS001214000048 1889        2374       0.7957035  "
      ]
     },
     "metadata": {},
     "output_type": "display_data"
    }
   ],
   "source": [
    "df_receipt_2019 <- df_receipt %>%\n",
    "    filter(20190101 <= sales_ymd & sales_ymd <= 20191231)\n",
    "\n",
    "df_amount_all <-left_join(df_customer, df_receipt, by=\"customer_id\") %>%\n",
    "                    group_by(customer_id) %>%\n",
    "                    summarise(amount_all = sum(amount))\n",
    "\n",
    "df_amount_2019 <-left_join(df_customer, df_receipt_2019, by=\"customer_id\") %>%\n",
    "                    group_by(customer_id) %>%\n",
    "                    summarise(amount_2019 = sum(amount)) %>%\n",
    "                    inner_join(df_amount_all, by=\"customer_id\") %>%\n",
    "                    replace_na(list(amount_2019 = 0, amount_all = 0)) %>%\n",
    "                    mutate(amount_rate = ifelse(amount_all == 0, 0, amount_2019 / amount_all))\n",
    "\n",
    "df_amount_2019 %>%\n",
    "    filter(amount_rate > 0) %>%\n",
    "    slice(1:10)"
   ]
  },
  {
   "cell_type": "code",
   "execution_count": 115,
   "metadata": {},
   "outputs": [
    {
     "data": {
      "text/html": [
       "<dl class=dl-horizontal>\n",
       "\t<dt>customer_id</dt>\n",
       "\t\t<dd>0</dd>\n",
       "\t<dt>amount_2019</dt>\n",
       "\t\t<dd>0</dd>\n",
       "\t<dt>amount_all</dt>\n",
       "\t\t<dd>0</dd>\n",
       "\t<dt>amount_rate</dt>\n",
       "\t\t<dd>0</dd>\n",
       "</dl>\n"
      ],
      "text/latex": [
       "\\begin{description*}\n",
       "\\item[customer\\textbackslash{}\\_id] 0\n",
       "\\item[amount\\textbackslash{}\\_2019] 0\n",
       "\\item[amount\\textbackslash{}\\_all] 0\n",
       "\\item[amount\\textbackslash{}\\_rate] 0\n",
       "\\end{description*}\n"
      ],
      "text/markdown": [
       "customer_id\n",
       ":   0amount_2019\n",
       ":   0amount_all\n",
       ":   0amount_rate\n",
       ":   0\n",
       "\n"
      ],
      "text/plain": [
       "customer_id amount_2019  amount_all amount_rate \n",
       "          0           0           0           0 "
      ]
     },
     "metadata": {},
     "output_type": "display_data"
    }
   ],
   "source": [
    "sapply(df_amount_2019, function(x) sum(is.na(x)))"
   ]
  },
  {
   "cell_type": "markdown",
   "metadata": {},
   "source": [
    "---\n",
    "> R-085: 郵便番号（postal_cd）を用いて経度緯度変換用データフレーム（df_geocode）を紐付け、新たなdf_customer_1を作成せよ。ただし、複数紐づく場合は経度（longitude）、緯度（latitude）それぞれ平均を算出すること。"
   ]
  },
  {
   "cell_type": "code",
   "execution_count": 116,
   "metadata": {},
   "outputs": [],
   "source": [
    "# エラー\n",
    "# df_customer_1 <- inner_join(df_customer[c(\"customer_id\", \"postal_cd\")], \n",
    "#            df_geocode[c(\"postal_cd\", \"longitude\" ,\"latitude\")], by=\"postal_cd\") %>%\n",
    "#     group_by(customer_id) %>%\n",
    "#     summarise(m_longiture=mean(longitude),m_latitude=mean(latitude)) %>%\n",
    "#     inner_join(df_customer, by=\"customer_id\")\n",
    "\n",
    "# head(df_customer_1, 5)"
   ]
  },
  {
   "cell_type": "markdown",
   "metadata": {},
   "source": [
    "---\n",
    "> R-086: 前設問で作成した緯度経度つき顧客データフレーム（df_customer_1）に対し、申込み店舗コード（application_store_cd）をキーに店舗データフレーム（df_store）と結合せよ。そして申込み店舗の緯度（latitude）・経度情報（longitude)と顧客の緯度・経度を用いて距離（km）を求め、顧客ID（customer_id）、顧客住所（address）、店舗住所（address）とともに表示せよ。計算式は簡易式で良いものとするが、その他精度の高い方式を利用したライブラリを利用してもかまわない。結果は10件表示すれば良い。"
   ]
  },
  {
   "cell_type": "markdown",
   "metadata": {},
   "source": [
    "$$\n",
    "緯度（ラジアン）：\\phi \\\\\n",
    "経度（ラジアン）：\\lambda \\\\\n",
    "距離L = 6371 * arccos(sin \\phi_1 * sin \\phi_2\n",
    "+ cos \\phi_1 * cos \\phi_2 * cos(\\lambda_1 − \\lambda_2))\n",
    "$$"
   ]
  },
  {
   "cell_type": "code",
   "execution_count": 117,
   "metadata": {},
   "outputs": [],
   "source": [
    "# エラー\n",
    "# calc_distance <- function(x1, y1, x2, y2) {\n",
    "#     distance <- 6371 * acos(sin(y1 * pi / 180) * sin(y2 * pi / 180) \n",
    "#                     + cos(y1 * pi / 180) * cos(y2 * pi / 180) * cos((x1 * pi / 180) - (x2 * pi / 180 )))\n",
    "#     return(distance)\n",
    "# }\n",
    "\n",
    "# inner_join(df_customer_1, df_store, by = c(\"application_store_cd\" = \"store_cd\")) %>%\n",
    "#     mutate(distance = calc_distance(m_longiture, m_latitude, longitude, latitude)) %>%\n",
    "#     select(customer_id, address.x, address.y, distance) %>%\n",
    "#     slice(1:10)"
   ]
  },
  {
   "cell_type": "markdown",
   "metadata": {},
   "source": [
    "---\n",
    "> R-087: 顧客データフレーム（df_customer）では、異なる店舗での申込みなどにより同一顧客が複数登録されている。名前（customer_name）と郵便番号（postal_cd）が同じ顧客は同一顧客とみなし、1顧客1レコードとなるように名寄せした名寄顧客データフレーム（df_customer_u）を作成せよ。ただし、同一顧客に対しては売上金額合計が最も高いものを残すものとし、売上金額合計が同一もしくは売上実績の無い顧客については顧客ID（customer_id）の番号が小さいものを残すこととする。"
   ]
  },
  {
   "cell_type": "code",
   "execution_count": 118,
   "metadata": {},
   "outputs": [
    {
     "name": "stderr",
     "output_type": "stream",
     "text": [
      "`summarise()` ungrouping output (override with `.groups` argument)\n"
     ]
    },
    {
     "data": {
      "text/html": [
       "30"
      ],
      "text/latex": [
       "30"
      ],
      "text/markdown": [
       "30"
      ],
      "text/plain": [
       "[1] 30"
      ]
     },
     "metadata": {},
     "output_type": "display_data"
    }
   ],
   "source": [
    "df_sales_amount <- df_receipt %>%\n",
    "    group_by(customer_id) %>%\n",
    "    summarise(sum_amount=sum(amount))\n",
    "\n",
    "df_customer_u <- left_join(df_customer, df_sales_amount, by=\"customer_id\") %>%\n",
    "    arrange(desc(sum_amount), customer_id) %>%\n",
    "    distinct(customer_name, postal_cd, .keep_all=TRUE) \n",
    "\n",
    "#減少件数をカウント\n",
    "nrow(df_customer) - nrow(df_customer_u)"
   ]
  },
  {
   "cell_type": "markdown",
   "metadata": {},
   "source": [
    "---\n",
    "> R-088: 前設問で作成したデータを元に、顧客データフレームに統合名寄IDを付与したデータフレーム（df_customer_n）を作成せよ。ただし、統合名寄IDは以下の仕様で付与するものとする。\n",
    "> - 重複していない顧客：顧客ID（customer_id）を設定\n",
    "> - 重複している顧客：前設問で抽出したレコードの顧客IDを設定"
   ]
  },
  {
   "cell_type": "code",
   "execution_count": 119,
   "metadata": {},
   "outputs": [
    {
     "data": {
      "text/html": [
       "30"
      ],
      "text/latex": [
       "30"
      ],
      "text/markdown": [
       "30"
      ],
      "text/plain": [
       "[1] 30"
      ]
     },
     "metadata": {},
     "output_type": "display_data"
    }
   ],
   "source": [
    "df_customer_n = inner_join(df_customer, df_customer_u[c(\"customer_id\", \"customer_name\", \"postal_cd\")],\n",
    "               by=c(\"customer_name\", \"postal_cd\")) %>%\n",
    "           rename(integration_id = customer_id.y)\n",
    "# 確認\n",
    "length(unique(df_customer_n$customer_id)) - length(unique(df_customer_n$integration_id))"
   ]
  },
  {
   "cell_type": "markdown",
   "metadata": {},
   "source": [
    "---\n",
    "> R-089: 売上実績のある顧客に対し、予測モデル構築のため学習用データとテスト用データに分割したい。それぞれ8:2の割合でランダムにデータを分割せよ。"
   ]
  },
  {
   "cell_type": "code",
   "execution_count": 120,
   "metadata": {},
   "outputs": [
    {
     "name": "stderr",
     "output_type": "stream",
     "text": [
      "`summarise()` ungrouping output (override with `.groups` argument)\n"
     ]
    },
    {
     "ename": "ERROR",
     "evalue": "Error in initial_split(df_customer_s, prop = 0.8):  関数 \"initial_split\" を見つけることができませんでした \n",
     "output_type": "error",
     "traceback": [
      "Error in initial_split(df_customer_s, prop = 0.8):  関数 \"initial_split\" を見つけることができませんでした \nTraceback:\n"
     ]
    }
   ],
   "source": [
    "#rsampleのinitial_splitを使った例　--> エラー\n",
    "df_sales_amount <- df_receipt %>%\n",
    "    group_by(customer_id) %>%\n",
    "    summarise(sum_amount = sum(amount))\n",
    "\n",
    "df_customer_s <- inner_join(df_customer, df_sales_amount, by=\"customer_id\")\n",
    "\n",
    "df_split <- initial_split(df_customer_s, prop = 0.8)\n",
    "\n",
    "df_customer_train <- training(df_split)\n",
    "df_customer_test <- testing(df_split)\n",
    "\n",
    "# 確認\n",
    "print(nrow(df_customer_train))\n",
    "print(nrow(df_customer_test))"
   ]
  },
  {
   "cell_type": "markdown",
   "metadata": {},
   "source": [
    "---\n",
    "> R-090: レシート明細データフレーム（df_receipt）は2017年1月1日〜2019年10月31日までのデータを有している。売上金額（amount）を月次で集計し、学習用に12ヶ月、テスト用に6ヶ月のモデル構築用データを3セット作成せよ。"
   ]
  },
  {
   "cell_type": "code",
   "execution_count": 121,
   "metadata": {},
   "outputs": [
    {
     "name": "stderr",
     "output_type": "stream",
     "text": [
      "`summarise()` ungrouping output (override with `.groups` argument)\n"
     ]
    }
   ],
   "source": [
    "#caretのcreateTimeSlicesを使った例 -> エラー\n",
    "df_ts_amount <- df_receipt %>%\n",
    "    group_by(substr(as.character(sales_ymd), 1, 6)) %>%\n",
    "    summarise(sum_amount = sum(amount))\n",
    "colnames(df_ts_amount) <- c(\"sales_ym\",\"sales_amount\")\n",
    "\n",
    "timeSlice <- createTimeSlices(1:nrow(df_ts_amount), initialWindow = 12, horizon = 6, skip = 5, fixedWindow = TRUE)\n",
    "\n",
    "df_train_1 <- df_ts_amount[timeSlice$train[[1]],]\n",
    "df_train_2 <- df_ts_amount[timeSlice$train[[2]],]\n",
    "df_train_3 <- df_ts_amount[timeSlice$train[[3]],]\n",
    "\n",
    "df_test_1 <- df_ts_amount[timeSlice$test[[1]],]\n",
    "df_test_2 <- df_ts_amount[timeSlice$test[[2]],]\n",
    "df_test_3 <- df_ts_amount[timeSlice$test[[3]],]"
   ]
  },
  {
   "cell_type": "markdown",
   "metadata": {},
   "source": [
    "---\n",
    "> R-091: 顧客データフレーム（df_customer）の各顧客に対し、売上実績のある顧客数と売上実績のない顧客数が1:1となるようにアンダーサンプリングで抽出せよ。"
   ]
  },
  {
   "cell_type": "code",
   "execution_count": 122,
   "metadata": {},
   "outputs": [
    {
     "name": "stderr",
     "output_type": "stream",
     "text": [
      "`summarise()` ungrouping output (override with `.groups` argument)\n"
     ]
    },
    {
     "ename": "ERROR",
     "evalue": "Error in ubUnder(X = df_tmp[, colnames(df_tmp) != \"sum_amount\"], Y = df_tmp$sum_amount, :  関数 \"ubUnder\" を見つけることができませんでした \n",
     "output_type": "error",
     "traceback": [
      "Error in ubUnder(X = df_tmp[, colnames(df_tmp) != \"sum_amount\"], Y = df_tmp$sum_amount, :  関数 \"ubUnder\" を見つけることができませんでした \nTraceback:\n"
     ]
    }
   ],
   "source": [
    "#unbalancedのubUnderを使った例 -> エラー\n",
    "df_sales_amount <- df_receipt %>%\n",
    "    group_by(customer_id) %>%\n",
    "    summarise(sum_amount = sum(amount))\n",
    "    \n",
    "df_tmp <- left_join(df_customer, df_sales_amount, by=\"customer_id\") %>%\n",
    "    replace_na(list(sum_amount = 0)) %>%\n",
    "    mutate(sum_amount = ifelse(sum_amount > 0, 1, 0))\n",
    "\n",
    "data_under<-ubUnder(X=df_tmp[,colnames(df_tmp) != \"sum_amount\"], Y= df_tmp$sum_amount, perc = 50, method = \"percPos\")\n",
    "\n",
    "df_down_sampling <- cbind(data_under$X, data_under$Y) %>%\n",
    "    rename(sum_amount = 'data_under$Y')"
   ]
  },
  {
   "cell_type": "code",
   "execution_count": 123,
   "metadata": {},
   "outputs": [
    {
     "ename": "ERROR",
     "evalue": "Error in head(df_down_sampling, 10):  オブジェクト 'df_down_sampling' がありません \n",
     "output_type": "error",
     "traceback": [
      "Error in head(df_down_sampling, 10):  オブジェクト 'df_down_sampling' がありません \nTraceback:\n",
      "1. head(df_down_sampling, 10)"
     ]
    }
   ],
   "source": [
    "head(df_down_sampling, 10)"
   ]
  },
  {
   "cell_type": "markdown",
   "metadata": {},
   "source": [
    "---\n",
    "> R-092: 顧客データフレーム（df_customer）では、性別に関する情報が非正規化の状態で保持されている。これを第三正規化せよ。"
   ]
  },
  {
   "cell_type": "code",
   "execution_count": 124,
   "metadata": {},
   "outputs": [],
   "source": [
    "df_gender = unique(df_customer[c(\"gender_cd\", \"gender\")])\n",
    "df_customer_s = df_customer[, colnames(df_customer) != \"gender\"]"
   ]
  },
  {
   "cell_type": "markdown",
   "metadata": {},
   "source": [
    "---\n",
    "> R-093: 商品データフレーム（df_product）では各カテゴリのコード値だけを保有し、カテゴリ名は保有していない。カテゴリデータフレーム（df_category）と組み合わせて非正規化し、カテゴリ名を保有した新たな商品データフレームを作成せよ。"
   ]
  },
  {
   "cell_type": "code",
   "execution_count": 125,
   "metadata": {},
   "outputs": [],
   "source": [
    "df_product_full <- inner_join(df_product, df_category[c(\"category_small_cd\", \n",
    "                                                        \"category_major_name\",\n",
    "                                                        \"category_medium_name\",\n",
    "                                                        \"category_small_name\")], by=\"category_small_cd\")"
   ]
  },
  {
   "cell_type": "markdown",
   "metadata": {},
   "source": [
    "---\n",
    "> R-094: 先に作成したカテゴリ名付き商品データを以下の仕様でファイル出力せよ。なお、出力先のパスはdata配下とする。\n",
    "> - ファイル形式はCSV（カンマ区切り）\n",
    "> - ヘッダ有り\n",
    "> - 文字コードはUTF-8"
   ]
  },
  {
   "cell_type": "code",
   "execution_count": 126,
   "metadata": {},
   "outputs": [],
   "source": [
    "write.csv(df_product_full, \"./data/R_df_product_full_UTF-8_header.csv\", fileEncoding=\"UTF-8\")"
   ]
  },
  {
   "cell_type": "markdown",
   "metadata": {},
   "source": [
    "---\n",
    "> R-095: 先に作成したカテゴリ名付き商品データを以下の仕様でファイル出力せよ。なお、出力先のパスはdata配下とする。\n",
    "> - ファイル形式はCSV（カンマ区切り）\n",
    "> - ヘッダ有り\n",
    "> - 文字コードはCP932"
   ]
  },
  {
   "cell_type": "code",
   "execution_count": 127,
   "metadata": {},
   "outputs": [],
   "source": [
    "write.csv(df_product_full, \"./data/R_df_product_full_CP932_header.csv\", fileEncoding=\"CP932\")"
   ]
  },
  {
   "cell_type": "markdown",
   "metadata": {},
   "source": [
    "---\n",
    "> R-096: 先に作成したカテゴリ名付き商品データを以下の仕様でファイル出力せよ。なお、出力先のパスはdata\n",
    "配下とする。\n",
    "> - ファイル形式はCSV（カンマ区切り）\n",
    "> - ヘッダ無し\n",
    "> - 文字コードはUTF-8"
   ]
  },
  {
   "cell_type": "code",
   "execution_count": 128,
   "metadata": {},
   "outputs": [],
   "source": [
    "write.table(df_product_full, \"./data/R_df_product_full_UTF-8_noh.csv\", col.names=FALSE, sep=\",\", fileEncoding=\"UTF-8\")"
   ]
  },
  {
   "cell_type": "markdown",
   "metadata": {},
   "source": [
    "---\n",
    "> R-097: 先に作成した以下形式のファイルを読み込み、データフレームを作成せよ。また、先頭10件を表示させ、正しくとりまれていることを確認せよ。\n",
    "> - ファイル形式はCSV（カンマ区切り）\n",
    "> - ヘッダ有り\n",
    "> - 文字コードはUTF-8"
   ]
  },
  {
   "cell_type": "code",
   "execution_count": 129,
   "metadata": {},
   "outputs": [
    {
     "data": {
      "text/html": [
       "<table>\n",
       "<thead><tr><th scope=col>X</th><th scope=col>X.U.FEFF.product_cd</th><th scope=col>category_major_cd</th><th scope=col>category_medium_cd</th><th scope=col>category_small_cd</th><th scope=col>unit_price</th><th scope=col>unit_cost</th><th scope=col>category_major_name</th><th scope=col>category_medium_name</th><th scope=col>category_small_name</th></tr></thead>\n",
       "<tbody>\n",
       "\t<tr><td> 1        </td><td>P040101001</td><td>4         </td><td>401       </td><td>40101     </td><td>198       </td><td>149       </td><td>惣菜      </td><td>御飯類    </td><td>弁当類    </td></tr>\n",
       "\t<tr><td> 2        </td><td>P040101002</td><td>4         </td><td>401       </td><td>40101     </td><td>218       </td><td>164       </td><td>惣菜      </td><td>御飯類    </td><td>弁当類    </td></tr>\n",
       "\t<tr><td> 3        </td><td>P040101003</td><td>4         </td><td>401       </td><td>40101     </td><td>230       </td><td>173       </td><td>惣菜      </td><td>御飯類    </td><td>弁当類    </td></tr>\n",
       "\t<tr><td> 4        </td><td>P040101004</td><td>4         </td><td>401       </td><td>40101     </td><td>248       </td><td>186       </td><td>惣菜      </td><td>御飯類    </td><td>弁当類    </td></tr>\n",
       "\t<tr><td> 5        </td><td>P040101005</td><td>4         </td><td>401       </td><td>40101     </td><td>268       </td><td>201       </td><td>惣菜      </td><td>御飯類    </td><td>弁当類    </td></tr>\n",
       "\t<tr><td> 6        </td><td>P040101006</td><td>4         </td><td>401       </td><td>40101     </td><td>298       </td><td>224       </td><td>惣菜      </td><td>御飯類    </td><td>弁当類    </td></tr>\n",
       "\t<tr><td> 7        </td><td>P040101007</td><td>4         </td><td>401       </td><td>40101     </td><td>338       </td><td>254       </td><td>惣菜      </td><td>御飯類    </td><td>弁当類    </td></tr>\n",
       "\t<tr><td> 8        </td><td>P040101008</td><td>4         </td><td>401       </td><td>40101     </td><td>420       </td><td>315       </td><td>惣菜      </td><td>御飯類    </td><td>弁当類    </td></tr>\n",
       "\t<tr><td> 9        </td><td>P040101009</td><td>4         </td><td>401       </td><td>40101     </td><td>498       </td><td>374       </td><td>惣菜      </td><td>御飯類    </td><td>弁当類    </td></tr>\n",
       "\t<tr><td>10        </td><td>P040101010</td><td>4         </td><td>401       </td><td>40101     </td><td>580       </td><td>435       </td><td>惣菜      </td><td>御飯類    </td><td>弁当類    </td></tr>\n",
       "</tbody>\n",
       "</table>\n"
      ],
      "text/latex": [
       "\\begin{tabular}{r|llllllllll}\n",
       " X & X.U.FEFF.product\\_cd & category\\_major\\_cd & category\\_medium\\_cd & category\\_small\\_cd & unit\\_price & unit\\_cost & category\\_major\\_name & category\\_medium\\_name & category\\_small\\_name\\\\\n",
       "\\hline\n",
       "\t  1         & P040101001 & 4          & 401        & 40101      & 198        & 149        & 惣菜       & 御飯類     & 弁当類    \\\\\n",
       "\t  2         & P040101002 & 4          & 401        & 40101      & 218        & 164        & 惣菜       & 御飯類     & 弁当類    \\\\\n",
       "\t  3         & P040101003 & 4          & 401        & 40101      & 230        & 173        & 惣菜       & 御飯類     & 弁当類    \\\\\n",
       "\t  4         & P040101004 & 4          & 401        & 40101      & 248        & 186        & 惣菜       & 御飯類     & 弁当類    \\\\\n",
       "\t  5         & P040101005 & 4          & 401        & 40101      & 268        & 201        & 惣菜       & 御飯類     & 弁当類    \\\\\n",
       "\t  6         & P040101006 & 4          & 401        & 40101      & 298        & 224        & 惣菜       & 御飯類     & 弁当類    \\\\\n",
       "\t  7         & P040101007 & 4          & 401        & 40101      & 338        & 254        & 惣菜       & 御飯類     & 弁当類    \\\\\n",
       "\t  8         & P040101008 & 4          & 401        & 40101      & 420        & 315        & 惣菜       & 御飯類     & 弁当類    \\\\\n",
       "\t  9         & P040101009 & 4          & 401        & 40101      & 498        & 374        & 惣菜       & 御飯類     & 弁当類    \\\\\n",
       "\t 10         & P040101010 & 4          & 401        & 40101      & 580        & 435        & 惣菜       & 御飯類     & 弁当類    \\\\\n",
       "\\end{tabular}\n"
      ],
      "text/markdown": [
       "\n",
       "| X | X.U.FEFF.product_cd | category_major_cd | category_medium_cd | category_small_cd | unit_price | unit_cost | category_major_name | category_medium_name | category_small_name |\n",
       "|---|---|---|---|---|---|---|---|---|---|\n",
       "|  1         | P040101001 | 4          | 401        | 40101      | 198        | 149        | 惣菜       | 御飯類     | 弁当類     |\n",
       "|  2         | P040101002 | 4          | 401        | 40101      | 218        | 164        | 惣菜       | 御飯類     | 弁当類     |\n",
       "|  3         | P040101003 | 4          | 401        | 40101      | 230        | 173        | 惣菜       | 御飯類     | 弁当類     |\n",
       "|  4         | P040101004 | 4          | 401        | 40101      | 248        | 186        | 惣菜       | 御飯類     | 弁当類     |\n",
       "|  5         | P040101005 | 4          | 401        | 40101      | 268        | 201        | 惣菜       | 御飯類     | 弁当類     |\n",
       "|  6         | P040101006 | 4          | 401        | 40101      | 298        | 224        | 惣菜       | 御飯類     | 弁当類     |\n",
       "|  7         | P040101007 | 4          | 401        | 40101      | 338        | 254        | 惣菜       | 御飯類     | 弁当類     |\n",
       "|  8         | P040101008 | 4          | 401        | 40101      | 420        | 315        | 惣菜       | 御飯類     | 弁当類     |\n",
       "|  9         | P040101009 | 4          | 401        | 40101      | 498        | 374        | 惣菜       | 御飯類     | 弁当類     |\n",
       "| 10         | P040101010 | 4          | 401        | 40101      | 580        | 435        | 惣菜       | 御飯類     | 弁当類     |\n",
       "\n"
      ],
      "text/plain": [
       "   X  X.U.FEFF.product_cd category_major_cd category_medium_cd\n",
       "1   1 P040101001          4                 401               \n",
       "2   2 P040101002          4                 401               \n",
       "3   3 P040101003          4                 401               \n",
       "4   4 P040101004          4                 401               \n",
       "5   5 P040101005          4                 401               \n",
       "6   6 P040101006          4                 401               \n",
       "7   7 P040101007          4                 401               \n",
       "8   8 P040101008          4                 401               \n",
       "9   9 P040101009          4                 401               \n",
       "10 10 P040101010          4                 401               \n",
       "   category_small_cd unit_price unit_cost category_major_name\n",
       "1  40101             198        149       惣菜               \n",
       "2  40101             218        164       惣菜               \n",
       "3  40101             230        173       惣菜               \n",
       "4  40101             248        186       惣菜               \n",
       "5  40101             268        201       惣菜               \n",
       "6  40101             298        224       惣菜               \n",
       "7  40101             338        254       惣菜               \n",
       "8  40101             420        315       惣菜               \n",
       "9  40101             498        374       惣菜               \n",
       "10 40101             580        435       惣菜               \n",
       "   category_medium_name category_small_name\n",
       "1  御飯類               弁当類             \n",
       "2  御飯類               弁当類             \n",
       "3  御飯類               弁当類             \n",
       "4  御飯類               弁当類             \n",
       "5  御飯類               弁当類             \n",
       "6  御飯類               弁当類             \n",
       "7  御飯類               弁当類             \n",
       "8  御飯類               弁当類             \n",
       "9  御飯類               弁当類             \n",
       "10 御飯類               弁当類             "
      ]
     },
     "metadata": {},
     "output_type": "display_data"
    }
   ],
   "source": [
    "df_product_tmp <- read.csv('./data/R_df_product_full_UTF-8_header.csv', fileEncoding = \"UTF-8\")\n",
    "head(df_product_tmp, 10)"
   ]
  },
  {
   "cell_type": "markdown",
   "metadata": {},
   "source": [
    "---\n",
    "> R-098: 先に作成した以下形式のファイルを読み込み、データフレームを作成せよ。また、先頭10件を表示させ、正しくとりまれていることを確認せよ。\n",
    "> - ファイル形式はCSV（カンマ区切り）\n",
    "> - ヘッダ無し\n",
    "> - 文字コードはUTF-8"
   ]
  },
  {
   "cell_type": "code",
   "execution_count": 130,
   "metadata": {},
   "outputs": [
    {
     "data": {
      "text/html": [
       "<table>\n",
       "<thead><tr><th scope=col>V1</th><th scope=col>V2</th><th scope=col>V3</th><th scope=col>V4</th><th scope=col>V5</th><th scope=col>V6</th><th scope=col>V7</th><th scope=col>V8</th><th scope=col>V9</th><th scope=col>V10</th></tr></thead>\n",
       "<tbody>\n",
       "\t<tr><td> 1        </td><td>P040101001</td><td>4         </td><td>401       </td><td>40101     </td><td>198       </td><td>149       </td><td>惣菜      </td><td>御飯類    </td><td>弁当類    </td></tr>\n",
       "\t<tr><td> 2        </td><td>P040101002</td><td>4         </td><td>401       </td><td>40101     </td><td>218       </td><td>164       </td><td>惣菜      </td><td>御飯類    </td><td>弁当類    </td></tr>\n",
       "\t<tr><td> 3        </td><td>P040101003</td><td>4         </td><td>401       </td><td>40101     </td><td>230       </td><td>173       </td><td>惣菜      </td><td>御飯類    </td><td>弁当類    </td></tr>\n",
       "\t<tr><td> 4        </td><td>P040101004</td><td>4         </td><td>401       </td><td>40101     </td><td>248       </td><td>186       </td><td>惣菜      </td><td>御飯類    </td><td>弁当類    </td></tr>\n",
       "\t<tr><td> 5        </td><td>P040101005</td><td>4         </td><td>401       </td><td>40101     </td><td>268       </td><td>201       </td><td>惣菜      </td><td>御飯類    </td><td>弁当類    </td></tr>\n",
       "\t<tr><td> 6        </td><td>P040101006</td><td>4         </td><td>401       </td><td>40101     </td><td>298       </td><td>224       </td><td>惣菜      </td><td>御飯類    </td><td>弁当類    </td></tr>\n",
       "\t<tr><td> 7        </td><td>P040101007</td><td>4         </td><td>401       </td><td>40101     </td><td>338       </td><td>254       </td><td>惣菜      </td><td>御飯類    </td><td>弁当類    </td></tr>\n",
       "\t<tr><td> 8        </td><td>P040101008</td><td>4         </td><td>401       </td><td>40101     </td><td>420       </td><td>315       </td><td>惣菜      </td><td>御飯類    </td><td>弁当類    </td></tr>\n",
       "\t<tr><td> 9        </td><td>P040101009</td><td>4         </td><td>401       </td><td>40101     </td><td>498       </td><td>374       </td><td>惣菜      </td><td>御飯類    </td><td>弁当類    </td></tr>\n",
       "\t<tr><td>10        </td><td>P040101010</td><td>4         </td><td>401       </td><td>40101     </td><td>580       </td><td>435       </td><td>惣菜      </td><td>御飯類    </td><td>弁当類    </td></tr>\n",
       "</tbody>\n",
       "</table>\n"
      ],
      "text/latex": [
       "\\begin{tabular}{r|llllllllll}\n",
       " V1 & V2 & V3 & V4 & V5 & V6 & V7 & V8 & V9 & V10\\\\\n",
       "\\hline\n",
       "\t  1         & P040101001 & 4          & 401        & 40101      & 198        & 149        & 惣菜       & 御飯類     & 弁当類    \\\\\n",
       "\t  2         & P040101002 & 4          & 401        & 40101      & 218        & 164        & 惣菜       & 御飯類     & 弁当類    \\\\\n",
       "\t  3         & P040101003 & 4          & 401        & 40101      & 230        & 173        & 惣菜       & 御飯類     & 弁当類    \\\\\n",
       "\t  4         & P040101004 & 4          & 401        & 40101      & 248        & 186        & 惣菜       & 御飯類     & 弁当類    \\\\\n",
       "\t  5         & P040101005 & 4          & 401        & 40101      & 268        & 201        & 惣菜       & 御飯類     & 弁当類    \\\\\n",
       "\t  6         & P040101006 & 4          & 401        & 40101      & 298        & 224        & 惣菜       & 御飯類     & 弁当類    \\\\\n",
       "\t  7         & P040101007 & 4          & 401        & 40101      & 338        & 254        & 惣菜       & 御飯類     & 弁当類    \\\\\n",
       "\t  8         & P040101008 & 4          & 401        & 40101      & 420        & 315        & 惣菜       & 御飯類     & 弁当類    \\\\\n",
       "\t  9         & P040101009 & 4          & 401        & 40101      & 498        & 374        & 惣菜       & 御飯類     & 弁当類    \\\\\n",
       "\t 10         & P040101010 & 4          & 401        & 40101      & 580        & 435        & 惣菜       & 御飯類     & 弁当類    \\\\\n",
       "\\end{tabular}\n"
      ],
      "text/markdown": [
       "\n",
       "| V1 | V2 | V3 | V4 | V5 | V6 | V7 | V8 | V9 | V10 |\n",
       "|---|---|---|---|---|---|---|---|---|---|\n",
       "|  1         | P040101001 | 4          | 401        | 40101      | 198        | 149        | 惣菜       | 御飯類     | 弁当類     |\n",
       "|  2         | P040101002 | 4          | 401        | 40101      | 218        | 164        | 惣菜       | 御飯類     | 弁当類     |\n",
       "|  3         | P040101003 | 4          | 401        | 40101      | 230        | 173        | 惣菜       | 御飯類     | 弁当類     |\n",
       "|  4         | P040101004 | 4          | 401        | 40101      | 248        | 186        | 惣菜       | 御飯類     | 弁当類     |\n",
       "|  5         | P040101005 | 4          | 401        | 40101      | 268        | 201        | 惣菜       | 御飯類     | 弁当類     |\n",
       "|  6         | P040101006 | 4          | 401        | 40101      | 298        | 224        | 惣菜       | 御飯類     | 弁当類     |\n",
       "|  7         | P040101007 | 4          | 401        | 40101      | 338        | 254        | 惣菜       | 御飯類     | 弁当類     |\n",
       "|  8         | P040101008 | 4          | 401        | 40101      | 420        | 315        | 惣菜       | 御飯類     | 弁当類     |\n",
       "|  9         | P040101009 | 4          | 401        | 40101      | 498        | 374        | 惣菜       | 御飯類     | 弁当類     |\n",
       "| 10         | P040101010 | 4          | 401        | 40101      | 580        | 435        | 惣菜       | 御飯類     | 弁当類     |\n",
       "\n"
      ],
      "text/plain": [
       "   V1 V2         V3 V4  V5    V6  V7  V8   V9     V10   \n",
       "1   1 P040101001 4  401 40101 198 149 惣菜 御飯類 弁当類\n",
       "2   2 P040101002 4  401 40101 218 164 惣菜 御飯類 弁当類\n",
       "3   3 P040101003 4  401 40101 230 173 惣菜 御飯類 弁当類\n",
       "4   4 P040101004 4  401 40101 248 186 惣菜 御飯類 弁当類\n",
       "5   5 P040101005 4  401 40101 268 201 惣菜 御飯類 弁当類\n",
       "6   6 P040101006 4  401 40101 298 224 惣菜 御飯類 弁当類\n",
       "7   7 P040101007 4  401 40101 338 254 惣菜 御飯類 弁当類\n",
       "8   8 P040101008 4  401 40101 420 315 惣菜 御飯類 弁当類\n",
       "9   9 P040101009 4  401 40101 498 374 惣菜 御飯類 弁当類\n",
       "10 10 P040101010 4  401 40101 580 435 惣菜 御飯類 弁当類"
      ]
     },
     "metadata": {},
     "output_type": "display_data"
    }
   ],
   "source": [
    "df_product_tmp <- read.csv('./data/R_df_product_full_UTF-8_noh.csv', header=FALSE, fileEncoding=\"UTF-8\")\n",
    "head(df_product_tmp, 10)"
   ]
  },
  {
   "cell_type": "markdown",
   "metadata": {},
   "source": [
    "---\n",
    "> R-099: 先に作成したカテゴリ名付き商品データを以下の仕様でファイル出力せよ。なお、出力先のパスはdata配下とする。\n",
    "> - ファイル形式はTSV（タブ区切り）\n",
    "> - ヘッダ有り\n",
    "> - 文字コードはUTF-8"
   ]
  },
  {
   "cell_type": "code",
   "execution_count": 131,
   "metadata": {},
   "outputs": [],
   "source": [
    "write.table(df_product_full, \"./data/R_df_product_full_UTF-8_head.tsv\", sep=\"\\t\", fileEncoding=\"UTF-8\")"
   ]
  },
  {
   "cell_type": "markdown",
   "metadata": {},
   "source": [
    "---\n",
    "> R-100: 先に作成した以下形式のファイルを読み込み、データフレームを作成せよ。また、先頭10件を表示させ、正しくとりまれていることを確認せよ。\n",
    "> - ファイル形式はTSV（タブ区切り）\n",
    "> - ヘッダ有り\n",
    "> - 文字コードはUTF-8"
   ]
  },
  {
   "cell_type": "code",
   "execution_count": 132,
   "metadata": {},
   "outputs": [
    {
     "data": {
      "text/html": [
       "<table>\n",
       "<thead><tr><th scope=col>X.U.FEFF.product_cd</th><th scope=col>category_major_cd</th><th scope=col>category_medium_cd</th><th scope=col>category_small_cd</th><th scope=col>unit_price</th><th scope=col>unit_cost</th><th scope=col>category_major_name</th><th scope=col>category_medium_name</th><th scope=col>category_small_name</th></tr></thead>\n",
       "<tbody>\n",
       "\t<tr><td>P040101001</td><td>4         </td><td>401       </td><td>40101     </td><td>198       </td><td>149       </td><td>惣菜      </td><td>御飯類    </td><td>弁当類    </td></tr>\n",
       "\t<tr><td>P040101002</td><td>4         </td><td>401       </td><td>40101     </td><td>218       </td><td>164       </td><td>惣菜      </td><td>御飯類    </td><td>弁当類    </td></tr>\n",
       "\t<tr><td>P040101003</td><td>4         </td><td>401       </td><td>40101     </td><td>230       </td><td>173       </td><td>惣菜      </td><td>御飯類    </td><td>弁当類    </td></tr>\n",
       "\t<tr><td>P040101004</td><td>4         </td><td>401       </td><td>40101     </td><td>248       </td><td>186       </td><td>惣菜      </td><td>御飯類    </td><td>弁当類    </td></tr>\n",
       "\t<tr><td>P040101005</td><td>4         </td><td>401       </td><td>40101     </td><td>268       </td><td>201       </td><td>惣菜      </td><td>御飯類    </td><td>弁当類    </td></tr>\n",
       "\t<tr><td>P040101006</td><td>4         </td><td>401       </td><td>40101     </td><td>298       </td><td>224       </td><td>惣菜      </td><td>御飯類    </td><td>弁当類    </td></tr>\n",
       "\t<tr><td>P040101007</td><td>4         </td><td>401       </td><td>40101     </td><td>338       </td><td>254       </td><td>惣菜      </td><td>御飯類    </td><td>弁当類    </td></tr>\n",
       "\t<tr><td>P040101008</td><td>4         </td><td>401       </td><td>40101     </td><td>420       </td><td>315       </td><td>惣菜      </td><td>御飯類    </td><td>弁当類    </td></tr>\n",
       "\t<tr><td>P040101009</td><td>4         </td><td>401       </td><td>40101     </td><td>498       </td><td>374       </td><td>惣菜      </td><td>御飯類    </td><td>弁当類    </td></tr>\n",
       "\t<tr><td>P040101010</td><td>4         </td><td>401       </td><td>40101     </td><td>580       </td><td>435       </td><td>惣菜      </td><td>御飯類    </td><td>弁当類    </td></tr>\n",
       "</tbody>\n",
       "</table>\n"
      ],
      "text/latex": [
       "\\begin{tabular}{r|lllllllll}\n",
       " X.U.FEFF.product\\_cd & category\\_major\\_cd & category\\_medium\\_cd & category\\_small\\_cd & unit\\_price & unit\\_cost & category\\_major\\_name & category\\_medium\\_name & category\\_small\\_name\\\\\n",
       "\\hline\n",
       "\t P040101001 & 4          & 401        & 40101      & 198        & 149        & 惣菜       & 御飯類     & 弁当類    \\\\\n",
       "\t P040101002 & 4          & 401        & 40101      & 218        & 164        & 惣菜       & 御飯類     & 弁当類    \\\\\n",
       "\t P040101003 & 4          & 401        & 40101      & 230        & 173        & 惣菜       & 御飯類     & 弁当類    \\\\\n",
       "\t P040101004 & 4          & 401        & 40101      & 248        & 186        & 惣菜       & 御飯類     & 弁当類    \\\\\n",
       "\t P040101005 & 4          & 401        & 40101      & 268        & 201        & 惣菜       & 御飯類     & 弁当類    \\\\\n",
       "\t P040101006 & 4          & 401        & 40101      & 298        & 224        & 惣菜       & 御飯類     & 弁当類    \\\\\n",
       "\t P040101007 & 4          & 401        & 40101      & 338        & 254        & 惣菜       & 御飯類     & 弁当類    \\\\\n",
       "\t P040101008 & 4          & 401        & 40101      & 420        & 315        & 惣菜       & 御飯類     & 弁当類    \\\\\n",
       "\t P040101009 & 4          & 401        & 40101      & 498        & 374        & 惣菜       & 御飯類     & 弁当類    \\\\\n",
       "\t P040101010 & 4          & 401        & 40101      & 580        & 435        & 惣菜       & 御飯類     & 弁当類    \\\\\n",
       "\\end{tabular}\n"
      ],
      "text/markdown": [
       "\n",
       "| X.U.FEFF.product_cd | category_major_cd | category_medium_cd | category_small_cd | unit_price | unit_cost | category_major_name | category_medium_name | category_small_name |\n",
       "|---|---|---|---|---|---|---|---|---|\n",
       "| P040101001 | 4          | 401        | 40101      | 198        | 149        | 惣菜       | 御飯類     | 弁当類     |\n",
       "| P040101002 | 4          | 401        | 40101      | 218        | 164        | 惣菜       | 御飯類     | 弁当類     |\n",
       "| P040101003 | 4          | 401        | 40101      | 230        | 173        | 惣菜       | 御飯類     | 弁当類     |\n",
       "| P040101004 | 4          | 401        | 40101      | 248        | 186        | 惣菜       | 御飯類     | 弁当類     |\n",
       "| P040101005 | 4          | 401        | 40101      | 268        | 201        | 惣菜       | 御飯類     | 弁当類     |\n",
       "| P040101006 | 4          | 401        | 40101      | 298        | 224        | 惣菜       | 御飯類     | 弁当類     |\n",
       "| P040101007 | 4          | 401        | 40101      | 338        | 254        | 惣菜       | 御飯類     | 弁当類     |\n",
       "| P040101008 | 4          | 401        | 40101      | 420        | 315        | 惣菜       | 御飯類     | 弁当類     |\n",
       "| P040101009 | 4          | 401        | 40101      | 498        | 374        | 惣菜       | 御飯類     | 弁当類     |\n",
       "| P040101010 | 4          | 401        | 40101      | 580        | 435        | 惣菜       | 御飯類     | 弁当類     |\n",
       "\n"
      ],
      "text/plain": [
       "   X.U.FEFF.product_cd category_major_cd category_medium_cd category_small_cd\n",
       "1  P040101001          4                 401                40101            \n",
       "2  P040101002          4                 401                40101            \n",
       "3  P040101003          4                 401                40101            \n",
       "4  P040101004          4                 401                40101            \n",
       "5  P040101005          4                 401                40101            \n",
       "6  P040101006          4                 401                40101            \n",
       "7  P040101007          4                 401                40101            \n",
       "8  P040101008          4                 401                40101            \n",
       "9  P040101009          4                 401                40101            \n",
       "10 P040101010          4                 401                40101            \n",
       "   unit_price unit_cost category_major_name category_medium_name\n",
       "1  198        149       惣菜                御飯類              \n",
       "2  218        164       惣菜                御飯類              \n",
       "3  230        173       惣菜                御飯類              \n",
       "4  248        186       惣菜                御飯類              \n",
       "5  268        201       惣菜                御飯類              \n",
       "6  298        224       惣菜                御飯類              \n",
       "7  338        254       惣菜                御飯類              \n",
       "8  420        315       惣菜                御飯類              \n",
       "9  498        374       惣菜                御飯類              \n",
       "10 580        435       惣菜                御飯類              \n",
       "   category_small_name\n",
       "1  弁当類             \n",
       "2  弁当類             \n",
       "3  弁当類             \n",
       "4  弁当類             \n",
       "5  弁当類             \n",
       "6  弁当類             \n",
       "7  弁当類             \n",
       "8  弁当類             \n",
       "9  弁当類             \n",
       "10 弁当類             "
      ]
     },
     "metadata": {},
     "output_type": "display_data"
    }
   ],
   "source": [
    "df_product_tmp <- read.table(\"./data/R_df_product_full_UTF-8_head.tsv\", fileEncoding=\"UTF-8\")\n",
    "head(df_product_tmp,10)"
   ]
  },
  {
   "cell_type": "markdown",
   "metadata": {},
   "source": [
    "# これで１００本終わりです。おつかれさまでした！"
   ]
  }
 ],
 "metadata": {
  "kernelspec": {
   "display_name": "R",
   "language": "R",
   "name": "ir"
  },
  "language_info": {
   "codemirror_mode": "r",
   "file_extension": ".r",
   "mimetype": "text/x-r-source",
   "name": "R",
   "pygments_lexer": "r",
   "version": "3.6.1"
  }
 },
 "nbformat": 4,
 "nbformat_minor": 4
}
