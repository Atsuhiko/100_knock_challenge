{
 "cells": [
  {
   "cell_type": "markdown",
   "id": "962b27a1",
   "metadata": {},
   "source": [
    "# Question 3: 線形計画法 (3)"
   ]
  },
  {
   "cell_type": "markdown",
   "id": "aff196fd",
   "metadata": {},
   "source": [
    "============================================================================================="
   ]
  },
  {
   "cell_type": "markdown",
   "id": "064b9900",
   "metadata": {
    "id": "064b9900"
   },
   "source": [
    "## 食事問題\n",
    "https://www.y-shinno.com/pulp-intro/"
   ]
  },
  {
   "cell_type": "markdown",
   "id": "812bd13d",
   "metadata": {},
   "source": [
    "問題）食品A,B,Cの３種類を組み合わせて摂取する。  \n",
    "栄養素摂取量を満たした上で，食費を最小限にできる摂取量を求める。  \n",
    "\n",
    "●食品  \n",
    "・食品A：価格=20, 栄養素1=22, 栄養素2=20, 栄養素3=10  \n",
    "・食品B：価格=12, 栄養素1=13, 栄養素2=30, 栄養素3=5  \n",
    "・食品C：価格=18, 栄養素1=17, 栄養素2=5, 栄養素3=12  \n",
    "\n",
    "●必要な栄養素摂取量  \n",
    "・栄養素１：200  \n",
    "・栄養素２：200  \n",
    "・栄養素３：100  \n",
    "\n",
    "数理最適化のライブラリー pulp とCVXPY を用いて解きなさい。"
   ]
  },
  {
   "cell_type": "markdown",
   "id": "1f289100",
   "metadata": {},
   "source": [
    "============================================================================================="
   ]
  },
  {
   "cell_type": "markdown",
   "id": "56a35bb2",
   "metadata": {
    "id": "56a35bb2"
   },
   "source": [
    "定式化）  \n",
    "この場合，目的関数は食品Aの重量をXa(g)，BをXb(g)，CをXc(g)とした場合，以下のようになります：\n",
    "\n",
    "【目的関数】  \n",
    "f = 20xa + 12xb + 18xc (価格）  \n",
    "\n",
    "また満たさなければならない制約としては以下のようになります：\n",
    "\n",
    "【制約条件】  \n",
    "22xa + 13xb + 17xc >= 200（栄養素１）  \n",
    "20xa + 30xb + 5xc  >= 200（栄養素２）  \n",
    "10xa + 3xb  + 12xc >= 100（栄養素３）\n",
    "\n",
    "つまり，制約条件をすべて満たした上で，価格が最小になる食品の重量を算出すれば良いわけですね。"
   ]
  },
  {
   "cell_type": "markdown",
   "id": "b8b2b12b",
   "metadata": {},
   "source": [
    "定式化）  \n",
    "この場合，目的関数は食品Aの重量をXa(g)，BをXb(g)，CをXc(g)とした場合，以下のようになります：\n",
    "\n",
    "【目的関数】  \n",
    "f = 20xa + 12xb + 18xc (価格）  \n",
    "\n",
    "また満たさなければならない制約としては以下のようになります：\n",
    "\n",
    "【制約条件】  \n",
    "22xa + 13xb + 17xc >= 200（栄養素１）  \n",
    "20xa + 30xb + 5xc  >= 200（栄養素２）  \n",
    "10xa + 3xb  + 12xc >= 100（栄養素３）\n",
    "\n",
    "つまり，制約条件をすべて満たした上で，価格が最小になる食品の重量を算出すれば良いわけですね。from pulp import *  # conda install -c conda-forge pulp"
   ]
  },
  {
   "cell_type": "code",
   "execution_count": 1,
   "id": "fbe62bce",
   "metadata": {},
   "outputs": [],
   "source": [
    "!pip install pulp\n",
    "from pulp import * "
   ]
  },
  {
   "cell_type": "code",
   "execution_count": 2,
   "id": "1e5b9da4",
   "metadata": {},
   "outputs": [
    {
     "name": "stdout",
     "output_type": "stream",
     "text": [
      "Diet:\n",
      "MINIMIZE\n",
      "20*A + 12*B + 18*C + 0\n",
      "SUBJECT TO\n",
      "_C1: 22 A + 13 B + 17 C >= 200\n",
      "\n",
      "_C2: 20 A + 30 B + 5 C >= 200\n",
      "\n",
      "_C3: 10 A + 5 B + 12 C >= 100\n",
      "\n",
      "VARIABLES\n",
      "0 <= A Integer\n",
      "0 <= B Integer\n",
      "0 <= C Integer\n",
      "\n"
     ]
    }
   ],
   "source": [
    "# 問題の定義\n",
    "problem = LpProblem(name=\"Diet\", sense=LpMinimize)\n",
    "\n",
    "# 変数の定義\n",
    "A = LpVariable(name = \"A\", lowBound = 0, cat=\"Integer\") # lowBoundで０以上を定義\n",
    "B = LpVariable(name = \"B\", lowBound = 0, cat=\"Integer\")\n",
    "C = LpVariable(name = \"C\", lowBound = 0, cat=\"Integer\")\n",
    "\n",
    "# 目的関数の定義\n",
    "problem += 20*A + 12*B + 18*C\n",
    "\n",
    "# 制約条件の定義\n",
    "problem += 22*A + 13*B + 17*C >= 200\n",
    "problem += 20*A + 30*B + 5*C >= 200\n",
    "problem += 10*A + 5*B + 12*C >= 100\n",
    "\n",
    "print(problem)"
   ]
  },
  {
   "cell_type": "code",
   "execution_count": 3,
   "id": "a68b9c86",
   "metadata": {},
   "outputs": [
    {
     "name": "stdout",
     "output_type": "stream",
     "text": [
      "Welcome to the CBC MILP Solver \n",
      "Version: 2.10.5 \n",
      "Build Date: Oct 15 2020 \n",
      "\n",
      "command line - cbc /tmp/364339e0ffe94387bda6f2db75f75130-pulp.mps timeMode elapsed branch printingOptions all solution /tmp/364339e0ffe94387bda6f2db75f75130-pulp.sol (default strategy 1)\n",
      "At line 2 NAME          MODEL\n",
      "At line 3 ROWS\n",
      "At line 8 COLUMNS\n",
      "At line 27 RHS\n",
      "At line 31 BOUNDS\n",
      "At line 35 ENDATA\n",
      "Problem MODEL has 3 rows, 3 columns and 9 elements\n",
      "Coin0008I MODEL read with 0 errors\n",
      "Option for timeMode changed from cpu to elapsed\n",
      "Continuous objective value is 189.067 - 0.00 seconds\n",
      "Cgl0003I 0 fixed, 3 tightened bounds, 0 strengthened rows, 0 substitutions\n",
      "Cgl0004I processed model has 3 rows, 3 columns (3 integer (0 of which binary)) and 9 elements\n",
      "Cutoff increment increased from 1e-05 to 1.9999\n",
      "Cbc0012I Integer solution of 200 found by greedy cover after 0 iterations and 0 nodes (0.02 seconds)\n",
      "Cbc0012I Integer solution of 190 found by DiveCoefficient after 0 iterations and 0 nodes (0.02 seconds)\n",
      "Cbc0001I Search completed - best objective 190, took 0 iterations and 0 nodes (0.02 seconds)\n",
      "Cbc0035I Maximum depth 0, 0 variables fixed on reduced cost\n",
      "Cuts at root node changed objective from 189.067 to 189.067\n",
      "Probing was tried 0 times and created 0 cuts of which 0 were active after adding rounds of cuts (0.000 seconds)\n",
      "Gomory was tried 0 times and created 0 cuts of which 0 were active after adding rounds of cuts (0.000 seconds)\n",
      "Knapsack was tried 0 times and created 0 cuts of which 0 were active after adding rounds of cuts (0.000 seconds)\n",
      "Clique was tried 0 times and created 0 cuts of which 0 were active after adding rounds of cuts (0.000 seconds)\n",
      "MixedIntegerRounding2 was tried 0 times and created 0 cuts of which 0 were active after adding rounds of cuts (0.000 seconds)\n",
      "FlowCover was tried 0 times and created 0 cuts of which 0 were active after adding rounds of cuts (0.000 seconds)\n",
      "TwoMirCuts was tried 0 times and created 0 cuts of which 0 were active after adding rounds of cuts (0.000 seconds)\n",
      "ZeroHalf was tried 0 times and created 0 cuts of which 0 were active after adding rounds of cuts (0.000 seconds)\n",
      "\n",
      "Result - Optimal solution found\n",
      "\n",
      "Objective value:                190.00000000\n",
      "Enumerated nodes:               0\n",
      "Total iterations:               0\n",
      "Time (CPU seconds):             0.02\n",
      "Time (Wallclock seconds):       0.03\n",
      "\n",
      "Option for printingOptions changed from normal to all\n",
      "Total time (CPU seconds):       0.02   (Wallclock seconds):       0.03\n",
      "\n",
      "Optimal\n"
     ]
    }
   ],
   "source": [
    "# 解く\n",
    "status = problem.solve()\n",
    "print(LpStatus[status])"
   ]
  },
  {
   "cell_type": "markdown",
   "id": "787194a3",
   "metadata": {},
   "source": [
    "解けた場合は「Optimal」と出力されます。"
   ]
  },
  {
   "cell_type": "code",
   "execution_count": 4,
   "id": "4818add6",
   "metadata": {},
   "outputs": [
    {
     "name": "stdout",
     "output_type": "stream",
     "text": [
      "Result\n",
      "A: 5.0\n",
      "B: 3.0\n",
      "C: 3.0\n"
     ]
    }
   ],
   "source": [
    "# 結果表示\n",
    "print(\"Result\")\n",
    "print(\"A:\", A.value())\n",
    "print(\"B:\", B.value())\n",
    "print(\"C:\", C.value())"
   ]
  },
  {
   "cell_type": "markdown",
   "id": "bc1e651b",
   "metadata": {},
   "source": [
    "次は CVXPY を用いて解いてみましょう。"
   ]
  },
  {
   "cell_type": "code",
   "execution_count": 5,
   "id": "21f75a4e",
   "metadata": {},
   "outputs": [],
   "source": [
    "import cvxpy as cp"
   ]
  },
  {
   "cell_type": "code",
   "execution_count": 6,
   "id": "0071b246",
   "metadata": {},
   "outputs": [
    {
     "name": "stdout",
     "output_type": "stream",
     "text": [
      "minimize 20.0 @ var0 + 12.0 @ var1 + 18.0 @ var2\n",
      "subject to 200.0 <= 22.0 @ var0 + 13.0 @ var1 + 17.0 @ var2\n",
      "           200.0 <= 20.0 @ var0 + 30.0 @ var1 + 5.0 @ var2\n",
      "           100.0 <= 10.0 @ var0 + 5.0 @ var1 + 12.0 @ var2\n",
      "           0.0 <= var0\n",
      "           0.0 <= var1\n",
      "           0.0 <= var2\n"
     ]
    }
   ],
   "source": [
    "# 変数の定義\n",
    "A = cp.Variable(integer=True) # 整数として定義\n",
    "B = cp.Variable(integer=True)\n",
    "C = cp.Variable(integer=True)\n",
    "\n",
    "# 制約条件の定義\n",
    "constraints = [22*A + 13*B + 17*C >= 200,\n",
    "               20*A + 30*B + 5*C >= 200,\n",
    "               10*A + 5*B + 12*C >= 100,\n",
    "               A >= 0,\n",
    "               B >= 0,\n",
    "               C >= 0]\n",
    "\n",
    "# 目的関数の定義\n",
    "obj = cp.Minimize(20*A + 12*B + 18*C)\n",
    "\n",
    "# 問題の定義\n",
    "prob = cp.Problem(obj, constraints)\n",
    "print(prob)"
   ]
  },
  {
   "cell_type": "code",
   "execution_count": 7,
   "id": "dd42d150",
   "metadata": {},
   "outputs": [
    {
     "name": "stdout",
     "output_type": "stream",
     "text": [
      "Long-step dual simplex will be used\n",
      "status: optimal\n"
     ]
    }
   ],
   "source": [
    "# 解く\n",
    "prob.solve()  # Returns the optimal value.\n",
    "print(\"status:\", prob.status)"
   ]
  },
  {
   "cell_type": "code",
   "execution_count": 8,
   "id": "25b094d8",
   "metadata": {},
   "outputs": [
    {
     "name": "stdout",
     "output_type": "stream",
     "text": [
      "optimal value 190.0\n",
      "A: 5.0\n",
      "B: 3.0\n",
      "C: 3.0\n"
     ]
    }
   ],
   "source": [
    "# 結果表示\n",
    "print(\"optimal value\", prob.value)\n",
    "print(\"A:\", A.value)\n",
    "print(\"B:\", B.value)\n",
    "print(\"C:\", C.value)"
   ]
  },
  {
   "cell_type": "code",
   "execution_count": null,
   "id": "6503e30b",
   "metadata": {},
   "outputs": [],
   "source": []
  }
 ],
 "metadata": {
  "kernelspec": {
   "display_name": "Python 3 (ipykernel)",
   "language": "python",
   "name": "python3"
  },
  "language_info": {
   "codemirror_mode": {
    "name": "ipython",
    "version": 3
   },
   "file_extension": ".py",
   "mimetype": "text/x-python",
   "name": "python",
   "nbconvert_exporter": "python",
   "pygments_lexer": "ipython3",
   "version": "3.7.12"
  }
 },
 "nbformat": 4,
 "nbformat_minor": 5
}
