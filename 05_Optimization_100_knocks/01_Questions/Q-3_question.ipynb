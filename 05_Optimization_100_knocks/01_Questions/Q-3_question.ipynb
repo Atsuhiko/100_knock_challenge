{
 "cells": [
  {
   "cell_type": "markdown",
   "id": "962b27a1",
   "metadata": {},
   "source": [
    "# Question 3: 線形計画法 (3)"
   ]
  },
  {
   "cell_type": "markdown",
   "id": "aff196fd",
   "metadata": {},
   "source": [
    "============================================================================================="
   ]
  },
  {
   "cell_type": "markdown",
   "id": "064b9900",
   "metadata": {
    "id": "064b9900"
   },
   "source": [
    "## 食事問題\n",
    "https://www.y-shinno.com/pulp-intro/"
   ]
  },
  {
   "cell_type": "markdown",
   "id": "812bd13d",
   "metadata": {},
   "source": [
    "問題）食品A,B,Cの３種類を組み合わせて摂取する。  \n",
    "栄養素摂取量を満たした上で，食費を最小限にできる摂取量を求める。  \n",
    "\n",
    "●食品  \n",
    "・食品A：価格=20, 栄養素1=22, 栄養素2=20, 栄養素3=10  \n",
    "・食品B：価格=12, 栄養素1=13, 栄養素2=30, 栄養素3=5  \n",
    "・食品C：価格=18, 栄養素1=17, 栄養素2=5, 栄養素3=12  \n",
    "\n",
    "●必要な栄養素摂取量  \n",
    "・栄養素１：200  \n",
    "・栄養素２：200  \n",
    "・栄養素３：100  \n",
    "\n",
    "数理最適化のライブラリー pulp とCVXPY を用いて解きなさい。"
   ]
  },
  {
   "cell_type": "markdown",
   "id": "1f289100",
   "metadata": {},
   "source": [
    "============================================================================================="
   ]
  },
  {
   "cell_type": "markdown",
   "id": "56a35bb2",
   "metadata": {
    "id": "56a35bb2"
   },
   "source": [
    "定式化）  \n",
    "この場合，目的関数は食品Aの重量をXa(g)，BをXb(g)，CをXc(g)とした場合，以下のようになります：\n",
    "\n",
    "【目的関数】  \n",
    "f = 20xa + 12xb + 18xc (価格）  \n",
    "\n",
    "また満たさなければならない制約としては以下のようになります：\n",
    "\n",
    "【制約条件】  \n",
    "22xa + 13xb + 17xc >= 200（栄養素１）  \n",
    "20xa + 30xb + 5xc  >= 200（栄養素２）  \n",
    "10xa + 3xb  + 12xc >= 100（栄養素３）\n",
    "\n",
    "つまり，制約条件をすべて満たした上で，価格が最小になる食品の重量を算出すれば良いわけですね。"
   ]
  },
  {
   "cell_type": "markdown",
   "id": "b8b2b12b",
   "metadata": {},
   "source": [
    "定式化）  \n",
    "この場合，目的関数は食品Aの重量をXa(g)，BをXb(g)，CをXc(g)とした場合，以下のようになります：\n",
    "\n",
    "【目的関数】  \n",
    "f = 20xa + 12xb + 18xc (価格）  \n",
    "\n",
    "また満たさなければならない制約としては以下のようになります：\n",
    "\n",
    "【制約条件】  \n",
    "22xa + 13xb + 17xc >= 200（栄養素１）  \n",
    "20xa + 30xb + 5xc  >= 200（栄養素２）  \n",
    "10xa + 3xb  + 12xc >= 100（栄養素３）\n",
    "\n",
    "つまり，制約条件をすべて満たした上で，価格が最小になる食品の重量を算出すれば良いわけですね。from pulp import *  # conda install -c conda-forge pulp"
   ]
  },
  {
   "cell_type": "code",
   "execution_count": 1,
   "id": "fbe62bce",
   "metadata": {},
   "outputs": [],
   "source": [
    "from pulp import * "
   ]
  },
  {
   "cell_type": "code",
   "execution_count": null,
   "id": "35e84ef0",
   "metadata": {},
   "outputs": [],
   "source": []
  },
  {
   "cell_type": "code",
   "execution_count": null,
   "id": "539d658f",
   "metadata": {},
   "outputs": [],
   "source": []
  },
  {
   "cell_type": "code",
   "execution_count": null,
   "id": "f5e9e232",
   "metadata": {},
   "outputs": [],
   "source": []
  },
  {
   "cell_type": "markdown",
   "id": "bc1e651b",
   "metadata": {},
   "source": [
    "次は CVXPY を用いて解いてみましょう。"
   ]
  },
  {
   "cell_type": "code",
   "execution_count": 5,
   "id": "21f75a4e",
   "metadata": {},
   "outputs": [],
   "source": [
    "import cvxpy as cp"
   ]
  },
  {
   "cell_type": "code",
   "execution_count": null,
   "id": "1a74d42f",
   "metadata": {},
   "outputs": [],
   "source": []
  },
  {
   "cell_type": "code",
   "execution_count": null,
   "id": "310a4d81",
   "metadata": {},
   "outputs": [],
   "source": []
  },
  {
   "cell_type": "code",
   "execution_count": null,
   "id": "db6840dc",
   "metadata": {},
   "outputs": [],
   "source": []
  }
 ],
 "metadata": {
  "kernelspec": {
   "display_name": "Python 3 (ipykernel)",
   "language": "python",
   "name": "python3"
  },
  "language_info": {
   "codemirror_mode": {
    "name": "ipython",
    "version": 3
   },
   "file_extension": ".py",
   "mimetype": "text/x-python",
   "name": "python",
   "nbconvert_exporter": "python",
   "pygments_lexer": "ipython3",
   "version": "3.7.12"
  }
 },
 "nbformat": 4,
 "nbformat_minor": 5
}
