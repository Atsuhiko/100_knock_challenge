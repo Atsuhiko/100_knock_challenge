{
 "cells": [
  {
   "cell_type": "markdown",
   "id": "72516a2b",
   "metadata": {},
   "source": [
    "# Question 2: 線形計画法 (2)"
   ]
  },
  {
   "cell_type": "markdown",
   "id": "311bee71",
   "metadata": {},
   "source": [
    "============================================================================================="
   ]
  },
  {
   "cell_type": "markdown",
   "id": "53942f26",
   "metadata": {},
   "source": [
    "問題）変数 x と y が次の条件を満たすとき、  \n",
    "(1) x+y が最大となる x と y の浮動小数点と整数組み合わせを求めよ。  \n",
    "(2) x+y が最小となる x と y の浮動小数点と整数組み合わせを求めよ。  \n",
    "\n",
    "＜条件＞  \n",
    "4 x + y <= 12  \n",
    "0.5 x + y <=4  \n",
    "\n",
    "数理最適化のライブラリー CVXPY を用いて解きなさい。"
   ]
  },
  {
   "cell_type": "markdown",
   "id": "2a6db00f",
   "metadata": {},
   "source": [
    "============================================================================================="
   ]
  },
  {
   "cell_type": "markdown",
   "id": "0516f241",
   "metadata": {},
   "source": [
    "(1) ライブラリー pulp を用いて、浮動小数点での目的関数 (x + y) が最大になるようにといてみましょう。"
   ]
  },
  {
   "cell_type": "code",
   "execution_count": 1,
   "id": "44875c46",
   "metadata": {},
   "outputs": [],
   "source": [
    "import cvxpy as cp"
   ]
  },
  {
   "cell_type": "code",
   "execution_count": null,
   "id": "e737e0d3",
   "metadata": {},
   "outputs": [],
   "source": []
  },
  {
   "cell_type": "code",
   "execution_count": null,
   "id": "71f9f8e5",
   "metadata": {},
   "outputs": [],
   "source": []
  },
  {
   "cell_type": "code",
   "execution_count": null,
   "id": "e722e17d",
   "metadata": {},
   "outputs": [],
   "source": []
  },
  {
   "cell_type": "markdown",
   "id": "8f531715",
   "metadata": {},
   "source": [
    "次に整数解を解きます。"
   ]
  },
  {
   "cell_type": "code",
   "execution_count": null,
   "id": "676b1e42",
   "metadata": {},
   "outputs": [],
   "source": []
  },
  {
   "cell_type": "code",
   "execution_count": null,
   "id": "25676d99",
   "metadata": {},
   "outputs": [],
   "source": []
  },
  {
   "cell_type": "code",
   "execution_count": null,
   "id": "cd2eb272",
   "metadata": {},
   "outputs": [],
   "source": []
  },
  {
   "cell_type": "markdown",
   "id": "c1aedeaa",
   "metadata": {},
   "source": [
    "============================================================================================="
   ]
  },
  {
   "cell_type": "markdown",
   "id": "df052f63",
   "metadata": {},
   "source": [
    "(2) 次に目的関数が最小になる場合を解いてみましょう。"
   ]
  },
  {
   "cell_type": "code",
   "execution_count": null,
   "id": "528a342d",
   "metadata": {},
   "outputs": [],
   "source": []
  },
  {
   "cell_type": "code",
   "execution_count": null,
   "id": "164a0836",
   "metadata": {},
   "outputs": [],
   "source": []
  },
  {
   "cell_type": "code",
   "execution_count": null,
   "id": "34f01c0a",
   "metadata": {},
   "outputs": [],
   "source": []
  }
 ],
 "metadata": {
  "kernelspec": {
   "display_name": "Python 3 (ipykernel)",
   "language": "python",
   "name": "python3"
  },
  "language_info": {
   "codemirror_mode": {
    "name": "ipython",
    "version": 3
   },
   "file_extension": ".py",
   "mimetype": "text/x-python",
   "name": "python",
   "nbconvert_exporter": "python",
   "pygments_lexer": "ipython3",
   "version": "3.7.12"
  }
 },
 "nbformat": 4,
 "nbformat_minor": 5
}
